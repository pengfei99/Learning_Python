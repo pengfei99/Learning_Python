{
 "cells": [
  {
   "cell_type": "markdown",
   "metadata": {
    "collapsed": true
   },
   "source": [
    "# 1. Process\n",
    "\n",
    "There are many ways to create process in python:\n",
    "- fork() (only for linux/unix os)\n",
    "-"
   ]
  },
  {
   "cell_type": "markdown",
   "source": [
    "## 1.1 Use fork() to create process\n",
    "\n",
    "Unix/Linux os provide a fork() call. When you call fork(), it will return twice. Because when we call fork() in a process, the os will **duplicate the current process**, and the os will consider the current process as **Parent process**, the duplicated process as **child process**. As a result, the parent process and child process will both return once.\n",
    "\n",
    "Note: **the child process will always return 0. The parent process returns the ID of the child process.** That's because a parent process can fork many child process, so the returned child process id can help parent to build a list of all its child. **The child process can get the id of its parent process by calling getppid()**.\n",
    "\n",
    "A real world example of fork is the apache web server, the main(parent) process listens the port 80. When a new http request comes to port 80, the main process will fork a child process to handle the new http request.\n",
    "\n",
    "The os module of Python has implemented the fork(), so we can create process by using fork(). Below is an example. Note this works only for linux/unix, and MacOS(unix kernel). Because Windows does not provide fork() call."
   ],
   "metadata": {
    "collapsed": false
   }
  },
  {
   "cell_type": "code",
   "source": [
    "from multiprocessing import Process,Pool, Queue\n",
    "import os, time, random\n",
    "import subprocess"
   ],
   "metadata": {
    "collapsed": false
   },
   "execution_count": 1,
   "outputs": []
  },
  {
   "cell_type": "code",
   "execution_count": null,
   "outputs": [],
   "source": [
    "print('Process (%s) start...' % os.getpid())\n",
    "# Only works on Unix/Linux/Mac:\n",
    "pid = os.fork()\n",
    "if pid == 0:\n",
    "    print('I am child process (%s) and my parent is %s.' % (os.getpid(), os.getppid()))\n",
    "else:\n",
    "    print('I (%s) just created a child process (%s).' % (os.getpid(), pid))"
   ],
   "metadata": {
    "collapsed": false
   }
  },
  {
   "cell_type": "markdown",
   "source": [
    "## 1.2 Use multiprocessing\n",
    "\n",
    "Another way to create process is to use the **multiprocessing module**. Unlike fork(), the **multiprocessing module works for all OS (including windows)**.\n",
    "\n",
    "The multiprocessing module provide a class called **Process** to implement the process，below is a simple example.\n",
    "\n",
    "The multiprocessing module provides an API very similar to the threading module; it provides methods to **share data across the processes it creates**, and makes the task of managing multiple processes to run Python code (much) easier. In other words, multiprocessing lets you take advantage of multiple processes to get your tasks done faster by executing code in parallel."
   ],
   "metadata": {
    "collapsed": false
   }
  },
  {
   "cell_type": "code",
   "execution_count": 2,
   "outputs": [],
   "source": [
    "\n",
    "# the function which the child process will run\n",
    "def run_proc(name):\n",
    "    print('Run child process %s (%s)...' % (name, os.getpid()))"
   ],
   "metadata": {
    "collapsed": false
   }
  },
  {
   "cell_type": "code",
   "execution_count": 3,
   "outputs": [
    {
     "name": "stdout",
     "output_type": "stream",
     "text": [
      "Parent process 1672231.\n",
      "Child process will start.\n",
      "Run child process test (1673253)...\n",
      "Child process end.\n"
     ]
    }
   ],
   "source": [
    "\n",
    "## main(parent) process that creates child process\n",
    "print('Parent process %s.' % os.getpid())\n",
    "# create child process, two important parameter, target specify the function that the child process will run,\n",
    "# args is the parameter of the function running in child process\n",
    "p = Process(target=run_proc, args=('test',))\n",
    "print('Child process will start.')\n",
    "# Start the child process\n",
    "p.start()\n",
    "# tell main process to wait child process termination before running the rest of the code in main process.\n",
    "p.join()\n",
    "print('Child process end.')"
   ],
   "metadata": {
    "collapsed": false
   }
  },
  {
   "cell_type": "markdown",
   "source": [
    "Try to remove p.join() and see what happens. Hint, if parent process end before child process, the child process will be terminated at the moment the parent process ends."
   ],
   "metadata": {
    "collapsed": false
   }
  },
  {
   "cell_type": "markdown",
   "source": [
    "### 1.2.1 Communication between process\n",
    "\n",
    "Sometimes we need the process to communicate with each other. In linux/unix, **process can use pipe and queue to communicate**."
   ],
   "metadata": {
    "collapsed": false
   }
  },
  {
   "cell_type": "code",
   "execution_count": 15,
   "outputs": [],
   "source": [
    "\n",
    "# the code for write process\n",
    "def write(q):\n",
    "    print('Process to write: %s' % os.getpid())\n",
    "    for value in ['A', 'B', 'C', 'end']:\n",
    "        print('Put %s to queue...' % value)\n",
    "        q.put(value)\n",
    "        time.sleep(random.random())\n",
    "\n",
    "\n",
    "# the code for read process\n",
    "def read(q):\n",
    "    print('Process to read: %s' % os.getpid())\n",
    "    flag = True\n",
    "    while flag:\n",
    "        value = q.get(True)\n",
    "        print('Get %s from queue.' % value)\n",
    "        if value == \"end\":\n",
    "            flag = False\n"
   ],
   "metadata": {
    "collapsed": false
   }
  },
  {
   "cell_type": "code",
   "execution_count": 16,
   "outputs": [
    {
     "name": "stdout",
     "output_type": "stream",
     "text": [
      "Process to write: 12048\n",
      "Process to read: 12051Put A to queue...\n",
      "\n",
      "Get A from queue.\n",
      "Put B to queue...\n",
      "Get B from queue.\n",
      "Put C to queue...\n",
      "Get C from queue.\n",
      "Put end to queue...\n",
      "Get end from queue.\n"
     ]
    }
   ],
   "source": [
    "# main process\n",
    "# create a queue for communication\n",
    "q = Queue()\n",
    "# create first child process for write, we pass q as a parameter to process\n",
    "pw = Process(target=write, args=(q,))\n",
    "# create second child process for read\n",
    "pr = Process(target=read, args=(q,))\n",
    "# start the first process\n",
    "pw.start()\n",
    "# start the second process\n",
    "pr.start()\n",
    "\n",
    "# wait for two child process to finish\n",
    "pw.join()\n",
    "pr.join()\n",
    "\n",
    "# you can also force close a process.\n",
    "# pr.terminate()"
   ],
   "metadata": {
    "collapsed": false
   }
  },
  {
   "cell_type": "markdown",
   "source": [
    "### 1.2.2 Process pool\n",
    "\n",
    "Similar to thread pool, when you have many process (or thread), the overhead of creating and terminating process (or thread) is no longer negligible. We can use a process pool to avoid creating and terminating process.\n",
    "\n",
    "Pool class is a  better way to deploy Multi-Processing because it distributes the tasks to available processors using the First In First Out schedule. It is almost similar to the map-reduce architecture- in essence, it maps the input to different processors and collects the output from all processors as a list. The processes in execution are stored in memory and other non-executing processes are stored out of memory."
   ],
   "metadata": {
    "collapsed": false
   }
  },
  {
   "cell_type": "code",
   "execution_count": 17,
   "outputs": [],
   "source": [
    "\n",
    "# code for process running in poll\n",
    "def long_time_task(name):\n",
    "    print(f'Run task {name} {os.getpid()}...')\n",
    "    start = time.time()\n",
    "    time.sleep(random.random() * 3)\n",
    "    end = time.time()\n",
    "    print('Task %s runs %0.2f seconds.' % (name, (end - start)))"
   ],
   "metadata": {
    "collapsed": false
   }
  },
  {
   "cell_type": "code",
   "execution_count": 18,
   "outputs": [
    {
     "name": "stdout",
     "output_type": "stream",
     "text": [
      "Parent process 10878.\n",
      "Run task 0 (12239)...Run task 1 (12240)...\n",
      "\n",
      "Waiting for all subprocesses done...\n",
      "Task 0 runs 0.63 seconds.\n",
      "Run task 2 (12239)...\n",
      "Task 1 runs 1.94 seconds.\n",
      "Run task 3 (12240)...\n",
      "Task 2 runs 2.35 seconds.\n",
      "Run task 4 (12239)...\n",
      "Task 4 runs 0.30 seconds.\n",
      "Task 3 runs 1.87 seconds.\n",
      "All subprocesses done.\n"
     ]
    }
   ],
   "source": [
    "# main process contains a pool of two process that runs 5 tasks\n",
    "print('Parent process %s.' % os.getpid())\n",
    "# create a process pool\n",
    "p = Pool(2)\n",
    "for i in range(5):\n",
    "    # apply task to a pool process\n",
    "    p.apply_async(long_time_task, args=(i,))\n",
    "print('Waiting for all subprocesses done...')\n",
    "# close pool, pool will not accept new task after close is called\n",
    "p.close()\n",
    "# let main process wait all the pool process to be finished.\n",
    "p.join()\n",
    "print('All subprocesses done.')"
   ],
   "metadata": {
    "collapsed": false
   }
  },
  {
   "cell_type": "markdown",
   "source": [
    "You can notice by the process id, the two process that we have in the pool will be liberated and reused after a task is done. So instead of creating and terminating 5 process, we only need to handle two process."
   ],
   "metadata": {
    "collapsed": false
   }
  },
  {
   "cell_type": "markdown",
   "source": [
    "## 1.3 Subprocess\n",
    "\n",
    "In above example, we have seen the **multiprocessing module** can help you divide tasks written in python over multiple processes to help improve performance. But what happens if the task is not written in python?\n",
    "\n",
    "Python provides us a **subprocess module** that lets you run and control other programs (python or not). Anything you can start with the command line on the computer, can be run and controlled with this module. Use this to integrate external programs into your Python code.\n",
    "\n",
    "Below example runs a shell command **nslookup www.python.org** by using subprocess.\n",
    "\n",
    "You can notice, the command are stored in a List[str]. And the subprocess.call() will take the command and run it as a shell command, it returns the\n",
    "exit code of the shell command (e.g. 0->success, 1->error)."
   ],
   "metadata": {
    "collapsed": false
   }
  },
  {
   "cell_type": "code",
   "execution_count": 12,
   "outputs": [
    {
     "name": "stdout",
     "output_type": "stream",
     "text": [
      "$ nslookup www.python.org\n",
      "Server:\t\t127.0.0.53\n",
      "Address:\t127.0.0.53#53\n",
      "\n",
      "Non-authoritative answer:\n",
      "www.python.org\tcanonical name = dualstack.python.map.fastly.net.\n",
      "Name:\tdualstack.python.map.fastly.net\n",
      "Address: 151.101.120.223\n",
      "Name:\tdualstack.python.map.fastly.net\n",
      "Address: 2a04:4e42:1d::223\n",
      "\n",
      "return code: 0\n"
     ]
    }
   ],
   "source": [
    "\n",
    "print(\"$ nslookup www.python.org\")\n",
    "process_cmd1 = [\"nslookup\", \"www.python.org\"]\n",
    "r1 = subprocess.call(process_cmd1)\n",
    "print(f\"return code: {r1}\")"
   ],
   "metadata": {
    "collapsed": false
   }
  },
  {
   "cell_type": "code",
   "execution_count": 13,
   "outputs": [
    {
     "name": "stdout",
     "output_type": "stream",
     "text": [
      "$ ls -lah /tmp\n",
      "total 88K\n",
      "drwxrwxrwt 20 root root 4.0K Apr 19 13:36 .\n",
      "drwxr-xr-x 20 root root 4.0K Dec  5 20:10 ..\n",
      "-rw-------  1 pliu pliu    0 Apr 19 08:16 config-err-2sAey0\n",
      "drwxrwxrwt  2 root root 4.0K Apr 19 08:07 .font-unix\n",
      "drwxr-xr-x  2 pliu pliu 4.0K Apr 19 08:18 hsperfdata_pliu\n",
      "drwxrwxrwt  2 root root 4.0K Apr 19 08:16 .ICE-unix\n",
      "drwx------  2 pliu pliu 4.0K Apr 19 08:16 ssh-BELEbbXWeWDq\n",
      "drwx------  3 root root 4.0K Apr 19 08:09 systemd-private-71929981a8634f3f88ccfc6eac88c7cd-colord.service-qc9g7g\n",
      "drwx------  3 root root 4.0K Apr 19 08:08 systemd-private-71929981a8634f3f88ccfc6eac88c7cd-ModemManager.service-7gOp6i\n",
      "drwx------  3 root root 4.0K Apr 19 08:07 systemd-private-71929981a8634f3f88ccfc6eac88c7cd-switcheroo-control.service-Tvf0vh\n",
      "drwx------  3 root root 4.0K Apr 19 08:07 systemd-private-71929981a8634f3f88ccfc6eac88c7cd-systemd-logind.service-4Ms7Fg\n",
      "drwx------  3 root root 4.0K Apr 19 08:07 systemd-private-71929981a8634f3f88ccfc6eac88c7cd-systemd-resolved.service-jmnDbg\n",
      "drwx------  3 root root 4.0K Apr 19 08:07 systemd-private-71929981a8634f3f88ccfc6eac88c7cd-systemd-timesyncd.service-mE6j9h\n",
      "drwx------  3 root root 4.0K Apr 19 08:08 systemd-private-71929981a8634f3f88ccfc6eac88c7cd-upower.service-1UHKuh\n",
      "drwxrwxrwt  2 root root 4.0K Apr 19 08:07 .Test-unix\n",
      "drwx------  2 pliu pliu 4.0K Apr 19 08:16 tracker-extract-files.1000\n",
      "drwx------  2 gdm  gdm  4.0K Apr 19 08:08 tracker-extract-files.125\n",
      "drwxrwxrwt  2 root root 4.0K Apr 19 08:07 VMwareDnD\n",
      "drwx------  2 root root 4.0K Apr 19 08:08 vmware-root_754-2965513717\n",
      "-r--r--r--  1 gdm  gdm    11 Apr 19 08:08 .X1024-lock\n",
      "-r--r--r--  1 gdm  gdm    11 Apr 19 08:08 .X1025-lock\n",
      "drwxrwxrwt  2 root root 4.0K Apr 19 08:16 .X11-unix\n",
      "drwxrwxrwt  2 root root 4.0K Apr 19 08:07 .XIM-unix\n",
      "return code: 0\n"
     ]
    }
   ],
   "source": [
    "print(\"$ ls -lah /tmp\")\n",
    "process_cmd2 = [\"ls\", \"-lah\", \"/tmp\"]\n",
    "r2 = subprocess.call(process_cmd2)\n",
    "print(f\"return code: {r2}\")"
   ],
   "metadata": {
    "collapsed": false
   }
  },
  {
   "cell_type": "markdown",
   "source": [
    "### 1.3.1 Pass parameters into subprocess\n",
    "\n",
    "Some shell command can open an interactive terminal. Subprocess allows us to pass parameter to the interactive terminal after the shell command is called.\n",
    "\n",
    "For example, the command **nslookup** will open an interactive terminal, we have entered three command\n",
    "\n",
    "```text\n",
    "set q=mx\n",
    "python.org\n",
    "exit\n",
    "```\n",
    "\n",
    "Below is a full example\n",
    "```shell\n",
    "pliu@ubuntu:~$ nslookup\n",
    "> set q=mx\n",
    "> python.org\n",
    "Server:\t\t127.0.0.53\n",
    "Address:\t127.0.0.53#53\n",
    "\n",
    "Non-authoritative answer:\n",
    "python.org\tmail exchanger = 50 mail.python.org.\n",
    "\n",
    "Authoritative answers can be found from:\n",
    "> exit\n",
    "\n",
    "```\n",
    "To do the above with subprocess, we need to use\n",
    "- Popen: open a subprocess terminal\n",
    "- Communicate: pass parameter to the terminal\n",
    "\n",
    "Below is a full example"
   ],
   "metadata": {
    "collapsed": false
   }
  },
  {
   "cell_type": "code",
   "execution_count": 14,
   "outputs": [
    {
     "name": "stdout",
     "output_type": "stream",
     "text": [
      "$ nslookup\n",
      "Server:\t\t127.0.0.53\n",
      "Address:\t127.0.0.53#53\n",
      "\n",
      "Non-authoritative answer:\n",
      "python.org\tmail exchanger = 50 mail.python.org.\n",
      "\n",
      "Authoritative answers can be found from:\n",
      "\n",
      "\n",
      "Exit code: 0\n"
     ]
    }
   ],
   "source": [
    "import subprocess\n",
    "\n",
    "print('$ nslookup')\n",
    "p = subprocess.Popen(['nslookup'], stdin=subprocess.PIPE, stdout=subprocess.PIPE, stderr=subprocess.PIPE)\n",
    "# note communicate only accept bytes, so we need to convert string to byte\n",
    "output, err = p.communicate(b'set q=mx\\npython.org\\nexit\\n')\n",
    "# the output of to communicate is byte too, so we need to convert byte back to string.\n",
    "print(output.decode('utf-8'))\n",
    "print('Exit code:', p.returncode)"
   ],
   "metadata": {
    "collapsed": false
   }
  },
  {
   "cell_type": "markdown",
   "source": [
    "\n",
    "## 1.4 Multiprocess for data science\n",
    "\n",
    "In data science, we specially need multiprocess. Because we will often deal with big data, and long running tasks. We can use multiprocess to improve the performance of our application.\n",
    "\n",
    "Take the below example, we will test the performance of an application in three mode:\n",
    "- mono-process\n",
    "- multiprocess\n",
    "- multiprocess with pool"
   ],
   "metadata": {
    "collapsed": false
   }
  },
  {
   "cell_type": "markdown",
   "source": [
    "### 1.4.1 Mono process"
   ],
   "metadata": {
    "collapsed": false
   }
  },
  {
   "cell_type": "code",
   "execution_count": 4,
   "outputs": [],
   "source": [
    "\n",
    "# code to run in process\n",
    "def run_task1(task_id: int):\n",
    "    print(f\"Starting task: {task_id} in process {os.getpid()}\")\n",
    "    time.sleep(1)\n",
    "    print(f\"Ending task: {task_id} in process {os.getpid()}\")\n",
    "\n",
    "\n",
    "def run_task2(n):\n",
    "    sum_factors = 0\n",
    "    for i in range(1, n):\n",
    "        if n % i == 0:\n",
    "            sum_factors = sum_factors + i\n",
    "    if sum_factors == n:\n",
    "        print('{} is a Perfect number'.format(n))"
   ],
   "metadata": {
    "collapsed": false
   }
  },
  {
   "cell_type": "code",
   "execution_count": 29,
   "outputs": [
    {
     "name": "stdout",
     "output_type": "stream",
     "text": [
      "Starting task: 0 in process 10878\n",
      "Ending task: 0 in process 10878\n",
      "Starting task: 1 in process 10878\n",
      "Ending task: 1 in process 10878\n",
      "Starting task: 2 in process 10878\n",
      "Ending task: 2 in process 10878\n",
      "Starting task: 3 in process 10878\n",
      "Ending task: 3 in process 10878\n",
      "Starting task: 4 in process 10878\n",
      "Ending task: 4 in process 10878\n",
      "Starting task: 5 in process 10878\n",
      "Ending task: 5 in process 10878\n",
      "Starting task: 6 in process 10878\n",
      "Ending task: 6 in process 10878\n",
      "Starting task: 7 in process 10878\n",
      "Ending task: 7 in process 10878\n",
      "Starting task: 8 in process 10878\n",
      "Ending task: 8 in process 10878\n",
      "Starting task: 9 in process 10878\n",
      "Ending task: 9 in process 10878\n",
      "Mono process test in 10.0126 seconds\n"
     ]
    }
   ],
   "source": [
    "# Test for task 1\n",
    "start_time = time.time()\n",
    "for i in range(10):\n",
    "    run_task1(i)\n",
    "end_time = time.time()\n",
    "print(\"Mono process test in {:.4f} seconds\".format(end_time - start_time))"
   ],
   "metadata": {
    "collapsed": false
   }
  },
  {
   "cell_type": "code",
   "execution_count": 27,
   "outputs": [
    {
     "name": "stdout",
     "output_type": "stream",
     "text": [
      "6 is a Perfect number\n",
      "28 is a Perfect number\n",
      "496 is a Perfect number\n",
      "8128 is a Perfect number\n",
      "Mono process test in 203.4457 seconds\n"
     ]
    }
   ],
   "source": [
    "# Test for task 2\n",
    "start_time = time.time()\n",
    "for i in range(1, 100000):\n",
    "    run_task2(i)\n",
    "end_time = time.time()\n",
    "print(\"Mono process test in {:.4f} seconds\".format(end_time - start_time))"
   ],
   "metadata": {
    "collapsed": false
   }
  },
  {
   "cell_type": "markdown",
   "source": [
    "### 1.4.2 Multi process"
   ],
   "metadata": {
    "collapsed": false
   }
  },
  {
   "cell_type": "code",
   "execution_count": 5,
   "outputs": [
    {
     "name": "stdout",
     "output_type": "stream",
     "text": [
      "Starting task: 1 in process 107642Starting task: 2 in process 107644Starting task: 3 in process 107650\n",
      "Starting task: 4 in process 107651\n",
      "Starting task: 0 in process 107641\n",
      "\n",
      "Starting task: 5 in process 107662Starting task: 6 in process 107667\n",
      "\n",
      "Starting task: 7 in process 107670Starting task: 8 in process 107675\n",
      "\n",
      "\n",
      "Starting task: 9 in process 107678\n",
      "Ending task: 3 in process 107650Ending task: 1 in process 107642\n",
      "\n",
      "Ending task: 2 in process 107644Ending task: 0 in process 107641\n",
      "\n",
      "Ending task: 4 in process 107651\n",
      "Ending task: 5 in process 107662\n",
      "Ending task: 6 in process 107667Ending task: 8 in process 107675\n",
      "\n",
      "Ending task: 7 in process 107670\n",
      "Ending task: 9 in process 107678\n",
      "Mono process test in 1.0934 seconds\n"
     ]
    }
   ],
   "source": [
    "\n",
    "# Test for task1\n",
    "process_list = []\n",
    "start_time = time.time()\n",
    "for i in range(10):\n",
    "    p = Process(target=run_task1, args=(i,))\n",
    "    process_list.append(p)\n",
    "    p.start()\n",
    "\n",
    "# wait all child process to finish\n",
    "for p in process_list:\n",
    "    p.join()\n",
    "end_time = time.time()\n",
    "\n",
    "print(\"Mono process test in {:.4f} seconds\".format(end_time - start_time))"
   ],
   "metadata": {
    "collapsed": false
   }
  },
  {
   "cell_type": "code",
   "execution_count": null,
   "outputs": [
    {
     "name": "stdout",
     "output_type": "stream",
     "text": [
      "6 is a Perfect number\n",
      "28 is a Perfect number\n",
      "496 is a Perfect number\n",
      "8128 is a Perfect number\n"
     ]
    }
   ],
   "source": [
    "# Test for task2\n",
    "process_list = []\n",
    "start_time = time.time()\n",
    "for i in range(1, 100000):\n",
    "    p = Process(target=run_task2, args=(i,))\n",
    "    process_list.append(p)\n",
    "    p.start()\n",
    "\n",
    "# wait all child process to finish\n",
    "for p in process_list:\n",
    "    p.join()\n",
    "end_time = time.time()\n",
    "\n",
    "print(\"Mono process test in {:.4f} seconds\".format(end_time - start_time))"
   ],
   "metadata": {
    "collapsed": false,
    "pycharm": {
     "is_executing": true
    }
   }
  },
  {
   "cell_type": "markdown",
   "source": [
    "### 1.4.3 Multi process with poll"
   ],
   "metadata": {
    "collapsed": false
   }
  },
  {
   "cell_type": "code",
   "execution_count": 8,
   "outputs": [
    {
     "name": "stdout",
     "output_type": "stream",
     "text": [
      "Starting task: 1 in process 107782Starting task: 0 in process 107781Starting task: 2 in process 107783Starting task: 3 in process 107784\n",
      "\n",
      "\n",
      "\n",
      "Ending task: 1 in process 107782Ending task: 0 in process 107781\n",
      "Ending task: 3 in process 107784Ending task: 2 in process 107783Starting task: 4 in process 107782\n",
      "\n",
      "\n",
      "Starting task: 5 in process 107781\n",
      "\n",
      "Starting task: 6 in process 107783Starting task: 7 in process 107784\n",
      "\n",
      "Ending task: 4 in process 107782Ending task: 5 in process 107781\n",
      "Starting task: 8 in process 107782\n",
      "\n",
      "Starting task: 9 in process 107781Ending task: 6 in process 107783\n",
      "\n",
      "Ending task: 7 in process 107784\n",
      "Ending task: 8 in process 107782\n",
      "Ending task: 9 in process 107781\n",
      "Mono process test in 3.0626 seconds\n"
     ]
    }
   ],
   "source": [
    "# test for task 1\n",
    "start_time = time.time()\n",
    "pool = Pool(4)\n",
    "# add task\n",
    "pool.map(run_task1, range(0, 10))\n",
    "\n",
    "# close pool\n",
    "pool.close()\n",
    "# ask main to wait all process in pool to finish\n",
    "pool.join()\n",
    "end_time = time.time()\n",
    "print(\"Mono process test in {:.4f} seconds\".format(end_time - start_time))"
   ],
   "metadata": {
    "collapsed": false
   }
  },
  {
   "cell_type": "code",
   "execution_count": 9,
   "outputs": [
    {
     "name": "stdout",
     "output_type": "stream",
     "text": [
      "6 is a Perfect number\n",
      "28 is a Perfect number\n",
      "496 is a Perfect number\n",
      "8128 is a Perfect number\n",
      "Mono process test in 86.9723 seconds\n"
     ]
    }
   ],
   "source": [
    "# test for task 2\n",
    "start_time = time.time()\n",
    "pool = Pool(4)\n",
    "for i in range(1, 100000):\n",
    "    # add tasks to pool\n",
    "    pool.apply_async(run_task2, args=(i,))\n",
    "\n",
    "# close pool\n",
    "pool.close()\n",
    "# ask main to wait all process in pool to finish\n",
    "pool.join()\n",
    "end_time = time.time()\n",
    "print(\"Mono process test in {:.4f} seconds\".format(end_time - start_time))"
   ],
   "metadata": {
    "collapsed": false
   }
  },
  {
   "cell_type": "markdown",
   "source": [
    "### 1.4.4 Conclusion\n",
    "\n",
    "we have tested the execution duration in three mode:\n",
    "For task 1:\n",
    "- mono-process: 10.0160 seconds\n",
    "- multiprocess: 1.1322 seconds\n",
    "- multiprocess with pool: 3.0675 seconds\n",
    "\n",
    "For task 2:\n",
    "- mono-process: 203.4457 seconds\n",
    "- multiprocess: failed, out of memory\n",
    "- multiprocess with pool: 86.9723 seconds\n",
    "\n",
    "\n",
    "Even though, for task1 the mode multiprocess without pool is quicker compare to with pool. We still recommend to use pool, because it also saves your memory. Only the task in pool will consume the memory. The task in the waiting queue will not consume memory.\n",
    "\n",
    "In task2, the multiprocess failed, because we load 100000 process simultaneously, and they all consume memory. So, **use pool when you have many process**.\n",
    "\n",
    "Thus, it is very well evident that by deploying a suitable method from the multiprocessing library, we can achieve a significant reduction in computation time."
   ],
   "metadata": {
    "collapsed": false
   }
  },
  {
   "cell_type": "code",
   "execution_count": null,
   "outputs": [],
   "source": [],
   "metadata": {
    "collapsed": false
   }
  }
 ],
 "metadata": {
  "kernelspec": {
   "display_name": "Python 3",
   "language": "python",
   "name": "python3"
  },
  "language_info": {
   "codemirror_mode": {
    "name": "ipython",
    "version": 2
   },
   "file_extension": ".py",
   "mimetype": "text/x-python",
   "name": "python",
   "nbconvert_exporter": "python",
   "pygments_lexer": "ipython2",
   "version": "2.7.6"
  }
 },
 "nbformat": 4,
 "nbformat_minor": 0
}
