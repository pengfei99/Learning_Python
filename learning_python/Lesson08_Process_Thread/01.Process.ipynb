{
 "cells": [
  {
   "cell_type": "markdown",
   "metadata": {
    "collapsed": true,
    "pycharm": {
     "name": "#%% md\n"
    }
   },
   "source": [
    "# 1. Process\n",
    "\n",
    "There are many ways to create process in python:\n",
    "- fork() (only for linux/unix os)\n",
    "-"
   ]
  },
  {
   "cell_type": "markdown",
   "source": [
    "## 1.1 Use fork() to create process\n",
    "\n",
    "Unix/Linux os provide a fork() call. When you call fork(), it will return twice. Because when we call fork() in a process, the os will **duplicate the current process**, and the os will consider the current process as **Parent process**, the duplicated process as **child process**. As a result, the parent process and child process will both return once.\n",
    "\n",
    "Note: **the child process will always return 0. The parent process returns the ID of the child process.** That's because a parent process can fork many child process, so the returned child process id can help parent to build a list of all its child. **The child process can get the id of its parent process by calling getppid()**.\n",
    "\n",
    "A real world example of fork is the apache web server, the main(parent) process listens the port 80. When a new http request comes to port 80, the main process will fork a child process to handle the new http request.\n",
    "\n",
    "The os module of Python has implemented the fork(), so we can create process by using fork(). Below is an example. Note this works only for linux/unix, and MacOS(unix kernel). Because Windows does not provide fork() call."
   ],
   "metadata": {
    "collapsed": false,
    "pycharm": {
     "name": "#%% md\n"
    }
   }
  },
  {
   "cell_type": "code",
   "source": [
    "import os\n",
    "\n",
    "print('Process (%s) start...' % os.getpid())\n",
    "# Only works on Unix/Linux/Mac:\n",
    "pid = os.fork()\n",
    "if pid == 0:\n",
    "    print('I am child process (%s) and my parent is %s.' % (os.getpid(), os.getppid()))\n",
    "else:\n",
    "    print('I (%s) just created a child process (%s).' % (os.getpid(), pid))"
   ],
   "metadata": {
    "collapsed": false,
    "pycharm": {
     "name": "#%%\n"
    }
   },
   "execution_count": 1,
   "outputs": [
    {
     "name": "stdout",
     "output_type": "stream",
     "text": [
      "Process (10509) start...\n",
      "I (10509) just created a child process (10528).\n"
     ]
    }
   ]
  },
  {
   "cell_type": "markdown",
   "source": [
    "## 1.2 Use multiprocessing\n",
    "\n",
    "Another way to create process is to use the **multiprocessing module**. Unlike fork(), the **multiprocessing module works for all OS (including windows)**.\n",
    "\n",
    "The multiprocessing module provide a class called **Process** to implement the process，below is a simple example."
   ],
   "metadata": {
    "collapsed": false,
    "pycharm": {
     "name": "#%% md\n"
    }
   }
  },
  {
   "cell_type": "code",
   "execution_count": 3,
   "outputs": [],
   "source": [
    "from multiprocessing import Process\n",
    "import os\n",
    "# the function which the child process will run\n",
    "def run_proc(name):\n",
    "    print('Run child process %s (%s)...' % (name, os.getpid()))"
   ],
   "metadata": {
    "collapsed": false,
    "pycharm": {
     "name": "#%%\n"
    }
   }
  },
  {
   "cell_type": "code",
   "execution_count": 6,
   "outputs": [
    {
     "name": "stdout",
     "output_type": "stream",
     "text": [
      "Parent process 10878.\n",
      "Child process will start.\n",
      "Run child process test (11001)...\n",
      "Child process end.\n"
     ]
    }
   ],
   "source": [
    "\n",
    "## main(parent) process that creates child process\n",
    "print('Parent process %s.' % os.getpid())\n",
    "# create child process, two important parameter, target specify the function that the child process will run,\n",
    "# args is the parameter of the function running in child process\n",
    "p = Process(target=run_proc, args=('test',))\n",
    "print('Child process will start.')\n",
    "# Start the child process\n",
    "p.start()\n",
    "# tell main process to wait child process termination before running the rest of the code in main process.\n",
    "p.join()\n",
    "print('Child process end.')"
   ],
   "metadata": {
    "collapsed": false,
    "pycharm": {
     "name": "#%%\n"
    }
   }
  },
  {
   "cell_type": "markdown",
   "source": [
    "Try to remove p.join() and see what happens. Hint, if parent process end before child process, the child process will be terminated at the moment the parent process ends."
   ],
   "metadata": {
    "collapsed": false,
    "pycharm": {
     "name": "#%% md\n"
    }
   }
  },
  {
   "cell_type": "code",
   "execution_count": null,
   "outputs": [],
   "source": [],
   "metadata": {
    "collapsed": false,
    "pycharm": {
     "name": "#%%\n"
    }
   }
  }
 ],
 "metadata": {
  "kernelspec": {
   "display_name": "Python 3",
   "language": "python",
   "name": "python3"
  },
  "language_info": {
   "codemirror_mode": {
    "name": "ipython",
    "version": 2
   },
   "file_extension": ".py",
   "mimetype": "text/x-python",
   "name": "python",
   "nbconvert_exporter": "python",
   "pygments_lexer": "ipython2",
   "version": "2.7.6"
  }
 },
 "nbformat": 4,
 "nbformat_minor": 0
}