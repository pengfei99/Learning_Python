{
 "cells": [
  {
   "cell_type": "markdown",
   "id": "166c6ca1-3fcc-45c1-af06-c5f0c92fffc7",
   "metadata": {},
   "source": [
    "# 3.5 Dictionary\n",
    "\n",
    "Dictionary in Python is an collection of data values, used to store data values like a map, which, unlike other Data Types that hold only a single value as an element, Dictionary holds **key:value pair. Key-value is provided in the dictionary to make it more optimized**. \n",
    " \n",
    "After Python 3.7, dictionary maintains the insertion order, so dictionary is an ordered collection of data value since python 3.7\n",
    "\n",
    "Note – Keys in a dictionary don’t allow Polymorphism.\n",
    "\n",
    "\n",
    "## 3.5.1 Creating a Dictionary\n",
    "In Python, a Dictionary can be created by placing a sequence of elements within curly {} braces, separated by ‘comma’. Dictionary holds pairs of values, one being the Key and the other corresponding pair element being its Key:value. \n",
    "\n",
    "```text\n",
    "{k1:v1,\n",
    " k2:v2,\n",
    " ...\n",
    " kn:vn}\n",
    "```\n",
    "- Values in a dictionary can be of any data type and can be duplicated\n",
    "- keys can’t be repeated and must be immutable. keys are case sensitive, the same name but different cases of Key will be treated distinctly."
   ]
  },
  {
   "cell_type": "code",
   "execution_count": 1,
   "id": "72c895c4-da1c-4980-9aa4-d92064be14a4",
   "metadata": {},
   "outputs": [
    {
     "name": "stdout",
     "output_type": "stream",
     "text": [
      "\n",
      "Dictionary with the use of Integer Keys: \n",
      "{1: 'Geeks', 2: 'For', 3: 'Geeks'}\n",
      "\n",
      "Dictionary with the use of Mixed Keys: \n",
      "{'Name': 'Geeks', 1: [1, 2, 3, 4]}\n"
     ]
    }
   ],
   "source": [
    "# with Integer Keys\n",
    "Dict = {1: 'Geeks', 2: 'For', 3: 'Geeks'}\n",
    "print(\"\\nDictionary with the use of Integer Keys: \")\n",
    "print(Dict)\n",
    " \n",
    "# Creating a Dictionary\n",
    "# with Mixed keys\n",
    "Dict = {'Name': 'Geeks', 1: [1, 2, 3, 4]}\n",
    "print(\"\\nDictionary with the use of Mixed Keys: \")\n",
    "print(Dict)"
   ]
  },
  {
   "cell_type": "markdown",
   "id": "5a2c25fe-4ab5-49b1-b7ce-c59d2554b026",
   "metadata": {},
   "source": [
    "Dictionary can also be created by the built-in function dict(). An empty dictionary can be created by just placing to curly braces{}. "
   ]
  },
  {
   "cell_type": "code",
   "execution_count": 2,
   "id": "59d42e9a-4b16-49f3-8df4-e40d08dc0bd5",
   "metadata": {},
   "outputs": [
    {
     "name": "stdout",
     "output_type": "stream",
     "text": [
      "Empty Dictionary: \n",
      "{}\n",
      "\n",
      "Dictionary with the use of dict(): \n",
      "{1: 'Geeks', 2: 'For', 3: 'Geeks'}\n",
      "\n",
      "Dictionary with each item as a pair: \n",
      "{1: 'Geeks', 2: 'For'}\n"
     ]
    }
   ],
   "source": [
    "# Creating an empty Dictionary\n",
    "Dict = {}\n",
    "print(\"Empty Dictionary: \")\n",
    "print(Dict)\n",
    " \n",
    "# Creating a Dictionary with dict() method\n",
    "Dict = dict({1: 'Geeks', 2: 'For', 3:'Geeks'})\n",
    "print(\"\\nDictionary with the use of dict(): \")\n",
    "print(Dict)\n",
    " \n",
    "# Creating a Dictionary with each item as a Pair\n",
    "Dict = dict([(1, 'Geeks'), (2, 'For')])\n",
    "print(\"\\nDictionary with each item as a pair: \")\n",
    "print(Dict)"
   ]
  },
  {
   "cell_type": "markdown",
   "id": "aea5a979-9f6c-4cd7-9ac0-07c559574fea",
   "metadata": {},
   "source": [
    "As we said before values in a dictionary can be any data type, so value can be a dictionary"
   ]
  },
  {
   "cell_type": "code",
   "execution_count": 3,
   "id": "d8a0db1b-94f6-4b81-bbde-0b0d146e000c",
   "metadata": {},
   "outputs": [
    {
     "name": "stdout",
     "output_type": "stream",
     "text": [
      "{1: 'Geeks', 2: 'For', 3: {'A': 'Welcome', 'B': 'To', 'C': 'Geeks'}}\n"
     ]
    }
   ],
   "source": [
    "# Creating a Nested Dictionary\n",
    "# as shown in the below image\n",
    "Dict = {1: 'Geeks', 2: 'For',\n",
    "        3:{'A' : 'Welcome', 'B' : 'To', 'C' : 'Geeks'}}\n",
    " \n",
    "print(Dict)"
   ]
  },
  {
   "cell_type": "markdown",
   "id": "7b8ab085-25ae-46f4-bb6b-6928a35cddbf",
   "metadata": {},
   "source": [
    "## 3.6 Adding elements to a Dictionary\n",
    "In Python Dictionary, the Addition of elements can be done in multiple ways. One value at a time can be added to a Dictionary by defining value along with the key e.g. Dict[Key] = ‘Value’. Updating an existing value in a Dictionary can be done by using the built-in update() method. Nested key values can also be added to an existing Dictionary. "
   ]
  }
 ],
 "metadata": {
  "kernelspec": {
   "display_name": "Python 3 (ipykernel)",
   "language": "python",
   "name": "python3"
  },
  "language_info": {
   "codemirror_mode": {
    "name": "ipython",
    "version": 3
   },
   "file_extension": ".py",
   "mimetype": "text/x-python",
   "name": "python",
   "nbconvert_exporter": "python",
   "pygments_lexer": "ipython3",
   "version": "3.9.7"
  }
 },
 "nbformat": 4,
 "nbformat_minor": 5
}
