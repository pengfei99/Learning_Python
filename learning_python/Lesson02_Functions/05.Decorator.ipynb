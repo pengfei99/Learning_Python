{
 "cells": [
  {
   "cell_type": "markdown",
   "metadata": {
    "collapsed": true,
    "pycharm": {
     "name": "#%% md\n"
    }
   },
   "source": [
    "# 5. Python Decorator\n",
    "\n",
    "**A decorator takes in a function, adds some functionality and returns it**. It's often used to add functionality to an existing code.\n",
    "\n",
    "This is also called **metaprogramming** because a part of the program tries to modify another part of the program at compile time.\n",
    "\n",
    "As we know, **everything in Python (Yes! Even classes), are objects. Names that we define are simply identifiers bound to these objects**. Functions are no exceptions, they are objects too (with attributes). Various different names can be bound to the same function object."
   ]
  },
  {
   "cell_type": "markdown",
   "source": [
    "## 5.1 Simple example\n",
    "\n",
    "Imagine, we want to add some functionality into a function, but we don't want to change the code of the function. We can use a decorator. In below example, we define a decorator that will log a message before running the function."
   ],
   "metadata": {
    "collapsed": false,
    "pycharm": {
     "name": "#%% md\n"
    }
   }
  },
  {
   "cell_type": "code",
   "execution_count": 15,
   "outputs": [],
   "source": [
    "# define a decorator function\n",
    "def log(func):\n",
    "    def wrapper(*args,**kwargs):\n",
    "        print(f\"call function:{func.__name__}\")\n",
    "        return func(*args,**kwargs)\n",
    "    # return the reference of the function object will not create the function or execute it\n",
    "    return wrapper"
   ],
   "metadata": {
    "collapsed": false,
    "pycharm": {
     "name": "#%%\n"
    }
   }
  },
  {
   "cell_type": "code",
   "execution_count": 16,
   "outputs": [],
   "source": [
    "@log\n",
    "def show_message():\n",
    "    print(\"hello world\")"
   ],
   "metadata": {
    "collapsed": false,
    "pycharm": {
     "name": "#%%\n"
    }
   }
  },
  {
   "cell_type": "code",
   "execution_count": 17,
   "outputs": [
    {
     "name": "stdout",
     "output_type": "stream",
     "text": [
      "call function:show_message\n",
      "hello world\n"
     ]
    }
   ],
   "source": [
    "show_message()"
   ],
   "metadata": {
    "collapsed": false,
    "pycharm": {
     "name": "#%%\n"
    }
   }
  },
  {
   "cell_type": "markdown",
   "source": [
    "In above example, you can notice the **log decorator is a closure**.  And **@log is equivalent to show_message=log(show_message)**"
   ],
   "metadata": {
    "collapsed": false,
    "pycharm": {
     "name": "#%% md\n"
    }
   }
  },
  {
   "cell_type": "code",
   "execution_count": 18,
   "outputs": [],
   "source": [
    "show_message=log(show_message)"
   ],
   "metadata": {
    "collapsed": false,
    "pycharm": {
     "name": "#%%\n"
    }
   }
  },
  {
   "cell_type": "code",
   "execution_count": 19,
   "outputs": [
    {
     "name": "stdout",
     "output_type": "stream",
     "text": [
      "call function:wrapper\n",
      "call function:show_message\n",
      "hello world\n"
     ]
    }
   ],
   "source": [
    "show_message()"
   ],
   "metadata": {
    "collapsed": false,
    "pycharm": {
     "name": "#%%\n"
    }
   }
  },
  {
   "cell_type": "code",
   "execution_count": null,
   "outputs": [],
   "source": [],
   "metadata": {
    "collapsed": false,
    "pycharm": {
     "name": "#%%\n"
    }
   }
  }
 ],
 "metadata": {
  "kernelspec": {
   "display_name": "Python 3",
   "language": "python",
   "name": "python3"
  },
  "language_info": {
   "codemirror_mode": {
    "name": "ipython",
    "version": 2
   },
   "file_extension": ".py",
   "mimetype": "text/x-python",
   "name": "python",
   "nbconvert_exporter": "python",
   "pygments_lexer": "ipython2",
   "version": "2.7.6"
  }
 },
 "nbformat": 4,
 "nbformat_minor": 0
}