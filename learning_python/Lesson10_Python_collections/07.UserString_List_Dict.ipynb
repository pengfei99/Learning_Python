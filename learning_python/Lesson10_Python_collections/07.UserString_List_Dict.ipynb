{
 "cells": [
  {
   "cell_type": "markdown",
   "metadata": {
    "collapsed": true,
    "pycharm": {
     "name": "#%% md\n"
    }
   },
   "source": [
    "# 7 Customizing Built-Ins: UserString, UserList, and UserDict\n",
    "\n",
    "Sometimes you need to customize built-in types, such as strings, lists, and dictionaries to add and modify certain behavior. Since Python 2.2, you can do that by subclassing those types directly. However, you could face some issues with this approach, as you’ll see in a minute.\n",
    "\n",
    "Python’s collections provides three convenient wrapper classes that mimic the behavior of the built-in data types:\n",
    "\n",
    "- UserString\n",
    "- UserList\n",
    "- UserDict\n",
    "\n",
    "With a combination of regular and special methods, you can use these classes to mimic and customize the behavior of strings, lists, and dictionaries.\n",
    "\n",
    "Nowadays, developers often ask themselves if there’s a reason to use UserString, UserList, and UserDict when they need to customize the behavior of built-in types. The answer is yes.\n",
    "\n",
    "Built-in types were designed and implemented (https://www.youtube.com/watch?v=heJuQWNdwJI) with the open-closed principle(https://en.wikipedia.org/wiki/Open%E2%80%93closed_principle) in mind. This means that they’re open for extension but closed for modification. Allowing modifications on the core features of these classes can potentially break their invariants. So, Python core developers decided to protect them from modifications.\n",
    "\n",
    "For example, say you need a dictionary that automatically lowercases the keys when you insert them. You could subclass dict and override .__setitem__() so every time you insert a key, the dictionary lowercases the key name\n",
    "\n",
    "## 7.1 Extends normal Dict class"
   ]
  },
  {
   "cell_type": "code",
   "execution_count": 1,
   "outputs": [],
   "source": [
    "class LowerDict(dict):\n",
    "    def __setitem__(self, key, value):\n",
    "        key = key.lower()\n",
    "        super().__setitem__(key, value)"
   ],
   "metadata": {
    "collapsed": false,
    "pycharm": {
     "name": "#%%\n"
    }
   }
  },
  {
   "cell_type": "code",
   "execution_count": 3,
   "outputs": [
    {
     "name": "stdout",
     "output_type": "stream",
     "text": [
      "{'FIRST': 1, 'SECOND': 2}\n"
     ]
    }
   ],
   "source": [
    "ordinals = LowerDict({\"FIRST\": 1, \"SECOND\": 2})\n",
    "print(ordinals)"
   ],
   "metadata": {
    "collapsed": false,
    "pycharm": {
     "name": "#%%\n"
    }
   }
  },
  {
   "cell_type": "code",
   "execution_count": 5,
   "outputs": [
    {
     "name": "stdout",
     "output_type": "stream",
     "text": [
      "{'FIRST': 1, 'SECOND': 2, 'third': 3}\n"
     ]
    }
   ],
   "source": [
    "ordinals[\"THIRD\"] = 3\n",
    "print(ordinals)"
   ],
   "metadata": {
    "collapsed": false,
    "pycharm": {
     "name": "#%%\n"
    }
   }
  },
  {
   "cell_type": "code",
   "execution_count": 11,
   "outputs": [
    {
     "data": {
      "text/plain": "True"
     },
     "execution_count": 11,
     "metadata": {},
     "output_type": "execute_result"
    }
   ],
   "source": [
    "# As the custom class extends from the Dict, so it's an instance of dict\n",
    "isinstance(ordinals, dict)"
   ],
   "metadata": {
    "collapsed": false,
    "pycharm": {
     "name": "#%%\n"
    }
   }
  },
  {
   "cell_type": "markdown",
   "source": [
    "You can notice that this dictionary works correctly when you insert new keys using dictionary-style assignment with square brackets ([]). However, it doesn’t work when you pass an initial dictionary to the class constructor or when you use .update(). This means that you would need to **override .__init__(), .update(), etc.**, for your custom dictionary to work correctly."
   ],
   "metadata": {
    "collapsed": false,
    "pycharm": {
     "name": "#%% md\n"
    }
   }
  },
  {
   "cell_type": "markdown",
   "source": [
    "## 7.2 Extends UserDict\n",
    "\n",
    "Now let's try with UserDict class"
   ],
   "metadata": {
    "collapsed": false,
    "pycharm": {
     "name": "#%% md\n"
    }
   }
  },
  {
   "cell_type": "code",
   "execution_count": 6,
   "outputs": [],
   "source": [
    "from collections import UserDict\n",
    "\n",
    "\n",
    "class LowerUserDict(UserDict):\n",
    "    def __setitem__(self, key, value):\n",
    "        key = key.lower()\n",
    "        super().__setitem__(key, value)"
   ],
   "metadata": {
    "collapsed": false,
    "pycharm": {
     "name": "#%%\n"
    }
   }
  },
  {
   "cell_type": "code",
   "execution_count": 7,
   "outputs": [
    {
     "name": "stdout",
     "output_type": "stream",
     "text": [
      "{'first': 1, 'second': 2}\n"
     ]
    }
   ],
   "source": [
    "user_dict_lower = LowerUserDict({\"FIRST\": 1, \"SECOND\": 2})\n",
    "print(user_dict_lower)"
   ],
   "metadata": {
    "collapsed": false,
    "pycharm": {
     "name": "#%%\n"
    }
   }
  },
  {
   "cell_type": "code",
   "execution_count": 9,
   "outputs": [
    {
     "name": "stdout",
     "output_type": "stream",
     "text": [
      "{'first': 1, 'second': 2, 'third': 3}\n"
     ]
    }
   ],
   "source": [
    "user_dict_lower[\"THIRD\"] = 3\n",
    "print(user_dict_lower)"
   ],
   "metadata": {
    "collapsed": false,
    "pycharm": {
     "name": "#%%\n"
    }
   }
  },
  {
   "cell_type": "code",
   "execution_count": 10,
   "outputs": [
    {
     "name": "stdout",
     "output_type": "stream",
     "text": [
      "{'first': 1, 'second': 2, 'third': 3, 'four': 4}\n"
     ]
    }
   ],
   "source": [
    "user_dict_lower.update({\"FOUR\": 4})\n",
    "print(user_dict_lower)"
   ],
   "metadata": {
    "collapsed": false,
    "pycharm": {
     "name": "#%%\n"
    }
   }
  },
  {
   "cell_type": "markdown",
   "source": [
    "It works! Your custom dictionary now converts all the new keys into lowercase letters before inserting them into the dictionary.\n",
    "\n",
    "Note that since you don’t inherit from dict directly, your class doesn’t return instances of dict as in the example above."
   ],
   "metadata": {
    "collapsed": false,
    "pycharm": {
     "name": "#%% md\n"
    }
   }
  },
  {
   "cell_type": "code",
   "execution_count": 13,
   "outputs": [
    {
     "name": "stdout",
     "output_type": "stream",
     "text": [
      "True\n",
      "False\n"
     ]
    }
   ],
   "source": [
    "\n",
    "print(isinstance(user_dict_lower, UserDict))\n",
    "print(isinstance(user_dict_lower, dict))"
   ],
   "metadata": {
    "collapsed": false,
    "pycharm": {
     "name": "#%%\n"
    }
   }
  },
  {
   "cell_type": "markdown",
   "source": [
    "UserDict stores a regular dictionary in an instance attribute called .data. Then it implements all its methods around that dictionary."
   ],
   "metadata": {
    "collapsed": false,
    "pycharm": {
     "name": "#%% md\n"
    }
   }
  },
  {
   "cell_type": "code",
   "execution_count": 14,
   "outputs": [
    {
     "name": "stdout",
     "output_type": "stream",
     "text": [
      "<class 'dict'>\n",
      "{'first': 1, 'second': 2, 'third': 3, 'four': 4}\n"
     ]
    }
   ],
   "source": [
    "internal_dict = user_dict_lower.data\n",
    "\n",
    "print(type(internal_dict))\n",
    "print(internal_dict)"
   ],
   "metadata": {
    "collapsed": false,
    "pycharm": {
     "name": "#%%\n"
    }
   }
  },
  {
   "cell_type": "markdown",
   "source": [
    "## 7.3  UserList and UserString\n",
    "\n",
    "UserList and UserString work the same way as UserDict. But their .data attribute holds a list and a str object, respectively.\n",
    "\n",
    "If you need to customize either of these classes, then you just need to override the appropriate methods and change what they do as required.\n",
    "\n",
    "## 7.4 When to use\n",
    "\n",
    "In general, you should use UserDict, UserList, and UserString when you need a class that acts almost identically to the underlying wrapped built-in class and you want to customize some part of its standard functionalities.\n",
    "\n",
    "Another reason to use these classes rather than the built-in equivalent classes is to access the underlying .data attribute to manipulate it directly.\n",
    "\n",
    "The ability to inherit from built-in types directly has largely superseded the use of UserDict, UserList, and UserString. However, the internal implementation of built-in types makes it hard to safely inherit from them without rewriting a significant amount of code. In most cases, it’s safer to use the appropriate class from collections. It’ll save you from several issues and weird behaviors."
   ],
   "metadata": {
    "collapsed": false,
    "pycharm": {
     "name": "#%% md\n"
    }
   }
  }
 ],
 "metadata": {
  "kernelspec": {
   "display_name": "Python 3",
   "language": "python",
   "name": "python3"
  },
  "language_info": {
   "codemirror_mode": {
    "name": "ipython",
    "version": 2
   },
   "file_extension": ".py",
   "mimetype": "text/x-python",
   "name": "python",
   "nbconvert_exporter": "python",
   "pygments_lexer": "ipython2",
   "version": "2.7.6"
  }
 },
 "nbformat": 4,
 "nbformat_minor": 0
}