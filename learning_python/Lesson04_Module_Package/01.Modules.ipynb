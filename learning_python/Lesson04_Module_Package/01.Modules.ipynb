{
 "cells": [
  {
   "cell_type": "markdown",
   "metadata": {
    "collapsed": true,
    "pycharm": {
     "name": "#%% md\n"
    }
   },
   "source": [
    "# 1. Python Modules: Overview\n",
    "There are actually three different ways to define a module in Python:\n",
    "\n",
    "- A module can be written in Python itself.\n",
    "- A module can be written in C and loaded dynamically at run-time, like the **re (regular expression)** module.\n",
    "- A built-in module is intrinsically contained in the interpreter, like the **itertools** module.\n",
    "\n",
    "A module’s contents are accessed the same way in all three cases: with the import statement.\n",
    "\n",
    "In this chapter, the focus will mostly be on modules that are written in Python. The cool thing about modules written in Python is that they are exceedingly straightforward to build. All you need to do is create a file that contains legitimate Python code and then give the file a name with a .py extension. That’s it! No special syntax or voodoo is necessary.\n",
    "\n",
    "For example, suppose you have created a file src/mod.py containing the following:\n",
    "\n",
    "```python\n",
    "good_word = \"Eat an apple a day, keep the doctor away\"\n",
    "num_list = [100, 200, 300]\n",
    "\n",
    "\n",
    "def addition(x, y):\n",
    "    return x + y\n",
    "\n",
    "\n",
    "class Printer:\n",
    "    def __init__(self, name):\n",
    "        self.__name = name\n",
    "\n",
    "    def print_message(self, message):\n",
    "        print(f\"printer {self.__name} print message {message}\")\n",
    "\n",
    "```\n",
    "\n",
    "Several objects are defined in mod.py:\n",
    "\n",
    "good_word (a string)\n",
    "num_list (a list)\n",
    "addition() (a function)\n",
    "Printer (a class)\n",
    "\n",
    "\n",
    "Assuming mod.py is in an appropriate location, which you will learn more about shortly, these objects can be accessed by importing the module as follows:"
   ]
  },
  {
   "cell_type": "code",
   "execution_count": 6,
   "outputs": [
    {
     "name": "stdout",
     "output_type": "stream",
     "text": [
      "Eat an apple a day, keep the doctor away\n",
      "[100, 200, 300]\n",
      "8\n",
      "printer laser printer print message hello world\n"
     ]
    }
   ],
   "source": [
    "import learning_python.Lesson04_Module_Package.src.mod as mod\n",
    "\n",
    "print(mod.good_word)\n",
    "\n",
    "print(mod.num_list)\n",
    "\n",
    "print(mod.addition(2,6))\n",
    "\n",
    "my_printer=mod.Printer(\"laser printer\")\n",
    "my_printer.print_message(\"hello world\")"
   ],
   "metadata": {
    "collapsed": false,
    "pycharm": {
     "name": "#%%\n"
    }
   }
  },
  {
   "cell_type": "markdown",
   "source": [
    "## 1.1 The Module Search Path\n",
    "\n",
    "Let’s take a look at what happens when Python executes the above statement:\n",
    "\n",
    "```python\n",
    "from learning_python.Lesson04_Module_Package.src import mod\n",
    "\n",
    "```\n",
    "When the interpreter executes the above import statement, it searches for mod.py in a list of directories assembled from the following sources:\n",
    "\n",
    "1. The directory from which the input script was run or the current directory if the interpreter is being run interactively\n",
    "2. The list of directories contained in the **PYTHONPATH** environment variable, if it is set. (The format for PYTHONPATH is OS-dependent but should mimic the PATH environment variable.)\n",
    "3. An installation-dependent list of directories configured at the time Python is installed\n",
    "\n",
    "**The resulting search path is accessible in the Python variable sys.path**. Let's check our search path value"
   ],
   "metadata": {
    "collapsed": false,
    "pycharm": {
     "name": "#%% md\n"
    }
   }
  },
  {
   "cell_type": "code",
   "execution_count": 2,
   "outputs": [
    {
     "name": "stdout",
     "output_type": "stream",
     "text": [
      "['/home/pliu/tools/pycharm-2021.3/plugins/python/helpers-pro/jupyter_debug', '/home/pliu/tools/pycharm-2021.3/plugins/python/helpers/pydev', '/home/pliu/git/Learning_Python/learning_python/Lesson04_Module_Package', '/home/pliu/git/Learning_Python', '/usr/lib/python38.zip', '/usr/lib/python3.8', '/usr/lib/python3.8/lib-dynload', '', '/home/pliu/.cache/pypoetry/virtualenvs/learning-python-41BW0Zzr-py3.8/lib/python3.8/site-packages']\n"
     ]
    }
   ],
   "source": [
    "# Note: The exact contents of sys.path are installation-dependent. The below output will almost certainly look slightly different on your computer.\n",
    "import sys\n",
    "print(sys.path)"
   ],
   "metadata": {
    "collapsed": false,
    "pycharm": {
     "name": "#%%\n"
    }
   }
  },
  {
   "cell_type": "markdown",
   "source": [
    "Thus, to ensure your module is found, you need to do one of the following:\n",
    "\n",
    "- Put mod.py in the directory where the input script is located or the current directory, if interactive\n",
    "- Modify the PYTHONPATH environment variable to contain the directory where mod.py is located before starting the interpreter. Or: Put mod.py in one of the directories already contained in the PYTHONPATH variable\n",
    "- Put mod.py in one of the installation-dependent directories, which you may or may not have write-access to, depending on the OS\n",
    "\n",
    "There is actually one additional option(only for dev or debug): you can put the module file in any directory of your choice and then modify sys.path at run-time so that it contains that directory. For example, in this case, you could put mod.py in directory /tmp/my_py_mod and then issue the following statements:"
   ],
   "metadata": {
    "collapsed": false,
    "pycharm": {
     "name": "#%% md\n"
    }
   }
  },
  {
   "cell_type": "code",
   "execution_count": 3,
   "outputs": [
    {
     "name": "stdout",
     "output_type": "stream",
     "text": [
      "['/home/pliu/tools/pycharm-2021.3/plugins/python/helpers-pro/jupyter_debug', '/home/pliu/tools/pycharm-2021.3/plugins/python/helpers/pydev', '/home/pliu/git/Learning_Python/learning_python/Lesson04_Module_Package', '/home/pliu/git/Learning_Python', '/usr/lib/python38.zip', '/usr/lib/python3.8', '/usr/lib/python3.8/lib-dynload', '', '/home/pliu/.cache/pypoetry/virtualenvs/learning-python-41BW0Zzr-py3.8/lib/python3.8/site-packages', '/tmp/my_py_mod']\n"
     ]
    }
   ],
   "source": [
    "sys.path.append(r'/tmp/my_py_mod')\n",
    "print(sys.path)"
   ],
   "metadata": {
    "collapsed": false,
    "pycharm": {
     "name": "#%%\n"
    }
   }
  },
  {
   "cell_type": "markdown",
   "source": [
    "Once a module has been imported, you can determine the location where it was found with the module’s __file__ attribute:"
   ],
   "metadata": {
    "collapsed": false,
    "pycharm": {
     "name": "#%% md\n"
    }
   }
  },
  {
   "cell_type": "code",
   "execution_count": 4,
   "outputs": [
    {
     "name": "stdout",
     "output_type": "stream",
     "text": [
      "/home/pliu/git/Learning_Python/learning_python/Lesson04_Module_Package/src/mod.py\n"
     ]
    }
   ],
   "source": [
    "# The directory portion of __file__ should be one of the directories in sys.path.\n",
    "print(mod.__file__)"
   ],
   "metadata": {
    "collapsed": false,
    "pycharm": {
     "name": "#%%\n"
    }
   }
  },
  {
   "cell_type": "markdown",
   "source": [
    "## 1.2 Import\n",
    "\n",
    "Module contents are made available to the caller with the import statement. The import statement takes many forms, shown below.\n",
    "\n",
    "- import <module_name>\n",
    "- import <module_name> as <alt_name>\n",
    "- from <module_name> import <name(s)>\n",
    "- from <module_name> import <name> as <alt_name>"
   ],
   "metadata": {
    "collapsed": false,
    "pycharm": {
     "name": "#%% md\n"
    }
   }
  },
  {
   "cell_type": "markdown",
   "source": [
    "### 1.2.1 import <module_name>\n",
    "\n",
    "This is the simplest way to import a module. This does not make the module contents directly accessible to the caller. **Each module has its own private symbol table, which serves as the global symbol table for all objects defined in the module. Thus, a module creates a separate namespace.** The objects that are defined in the module remain in the module’s private symbol table.\n",
    "\n",
    "From the caller, objects in the module are only accessible when prefixed with <module_name> via dot notation, as illustrated above.\n",
    "\n",
    "In one word, import mod only makes caller aware of mod, not the objects inside mod. To access objects, you need to do mod.<object_name>\n",
    "\n",
    "Note, **Several comma-separated modules may be specified in a single import statement, but not recommended for un-related modules**\n",
    "\n",
    "You can also give an alias to the imported module by using keyword **as**. Check below example\n",
    "\n",
    "```python\n",
    "import pandas as pd\n",
    "```"
   ],
   "metadata": {
    "collapsed": false,
    "pycharm": {
     "name": "#%% md\n"
    }
   }
  },
  {
   "cell_type": "markdown",
   "source": [
    "### 1.2.2 from <module_name> import <name(s)>\n",
    "\n",
    "An alternate form of the import statement allows individual objects from the module to be imported directly into the caller’s symbol table.\n",
    "\n",
    "Check below example"
   ],
   "metadata": {
    "collapsed": false,
    "pycharm": {
     "name": "#%% md\n"
    }
   }
  },
  {
   "cell_type": "code",
   "execution_count": 7,
   "outputs": [
    {
     "name": "stdout",
     "output_type": "stream",
     "text": [
      "Eat an apple a day, keep the doctor away\n",
      "[100, 200, 300]\n"
     ]
    }
   ],
   "source": [
    "from learning_python.Lesson04_Module_Package.src.mod import good_word, num_list\n",
    "\n",
    "print(good_word)\n",
    "\n",
    "print(num_list)"
   ],
   "metadata": {
    "collapsed": false,
    "pycharm": {
     "name": "#%%\n"
    }
   }
  },
  {
   "cell_type": "markdown",
   "source": [
    "This looks nicer to use? Be caution, as this form of import places the object names directly into the caller’s symbol table, **any objects that already exist with the same name will be overwritten**"
   ],
   "metadata": {
    "collapsed": false,
    "pycharm": {
     "name": "#%% md\n"
    }
   }
  },
  {
   "cell_type": "markdown",
   "source": [
    "#### Wildcard import\n",
    "\n",
    "We can also use wildcard `*` to indiscriminately import everything from a module\n",
    "This will place the names of all objects from <module_name> into the local symbol table, **with the exception of any that begin with the underscore (_) character.**\n",
    "\n",
    "\n",
    "This **isn’t necessarily recommended** in large-scale production code. It’s **a bit dangerous** because you are entering names into the local symbol table en masse. Unless you know them all well and can be confident there won’t be a conflict, you have a decent chance of overwriting an existing name inadvertently. However, this syntax is quite handy when you are just mucking around with the interactive interpreter, for testing or discovery purposes, because it quickly gives you access to everything a module has to offer without a lot of typing."
   ],
   "metadata": {
    "collapsed": false,
    "pycharm": {
     "name": "#%% md\n"
    }
   }
  },
  {
   "cell_type": "code",
   "execution_count": 8,
   "outputs": [
    {
     "data": {
      "text/plain": "8"
     },
     "execution_count": 8,
     "metadata": {},
     "output_type": "execute_result"
    }
   ],
   "source": [
    "from learning_python.Lesson04_Module_Package.src.mod import *\n",
    "\n",
    "addition(3,5)"
   ],
   "metadata": {
    "collapsed": false,
    "pycharm": {
     "name": "#%%\n"
    }
   }
  },
  {
   "cell_type": "markdown",
   "source": [
    "#### Make alias\n",
    "\n",
    "Just as we mentioned before, we can use keyword **as** to make alias for any module that we have imported. Check below example, we just make aliases for each object imported"
   ],
   "metadata": {
    "collapsed": false,
    "pycharm": {
     "name": "#%% md\n"
    }
   }
  },
  {
   "cell_type": "code",
   "execution_count": null,
   "outputs": [],
   "source": [
    "from learning_python.Lesson04_Module_Package.src.mod import good_word as gw, num_list as nl\n",
    "\n",
    "print(gw)\n",
    "\n",
    "print(nl)"
   ],
   "metadata": {
    "collapsed": false,
    "pycharm": {
     "name": "#%%\n"
    }
   }
  },
  {
   "cell_type": "markdown",
   "source": [
    "## 1.3 The dir() Function\n",
    "\n",
    "The built-in function dir() returns a list of defined names in a namespace. Without arguments, it produces an alphabetically sorted list of names in the current local symbol table.\n",
    "\n",
    "Note there are many objects in the below lists which are not imported by us. They are automatically defined and already in the namespace when the interpreter starts.\n",
    "\n",
    "This dir() function can be useful for identifying what exactly has been added to the namespace by our import statement"
   ],
   "metadata": {
    "collapsed": false,
    "pycharm": {
     "name": "#%% md\n"
    }
   }
  },
  {
   "cell_type": "code",
   "execution_count": 9,
   "outputs": [
    {
     "data": {
      "text/plain": "['In',\n 'Out',\n 'Printer',\n '_',\n '_8',\n '__',\n '___',\n '__builtin__',\n '__builtins__',\n '__doc__',\n '__loader__',\n '__name__',\n '__package__',\n '__spec__',\n '_dh',\n '_i',\n '_i1',\n '_i2',\n '_i3',\n '_i4',\n '_i5',\n '_i6',\n '_i7',\n '_i8',\n '_i9',\n '_ih',\n '_ii',\n '_iii',\n '_oh',\n '_pydevd_bundle',\n 'addition',\n 'exit',\n 'get_ipython',\n 'good_word',\n 'learning_python',\n 'mod',\n 'my_printer',\n 'num_list',\n 'pydev_jupyter_vars',\n 'quit',\n 'remove_imported_pydev_package',\n 'sys']"
     },
     "execution_count": 9,
     "metadata": {},
     "output_type": "execute_result"
    }
   ],
   "source": [
    "# the output is all the object that we can call in the current namespace\n",
    "dir()"
   ],
   "metadata": {
    "collapsed": false,
    "pycharm": {
     "name": "#%%\n"
    }
   }
  },
  {
   "cell_type": "markdown",
   "source": [
    "\n",
    "\n",
    "When given an argument that is the name of a module, dir() lists the names defined in the module. Check below example, it returns all objects defined in module mod."
   ],
   "metadata": {
    "collapsed": false,
    "pycharm": {
     "name": "#%% md\n"
    }
   }
  },
  {
   "cell_type": "code",
   "execution_count": 10,
   "outputs": [
    {
     "data": {
      "text/plain": "['Printer',\n '__builtins__',\n '__cached__',\n '__doc__',\n '__file__',\n '__loader__',\n '__name__',\n '__package__',\n '__spec__',\n 'addition',\n 'good_word',\n 'num_list']"
     },
     "execution_count": 10,
     "metadata": {},
     "output_type": "execute_result"
    }
   ],
   "source": [
    "dir(mod)"
   ],
   "metadata": {
    "collapsed": false,
    "pycharm": {
     "name": "#%%\n"
    }
   }
  },
  {
   "cell_type": "markdown",
   "source": [
    "## 1.4 Executing a Module as a Script\n",
    "\n",
    "Any .py file that contains a module is essentially also a Python script, and there isn’t any reason it can’t be executed like one. We can run it with below command\n",
    "\n",
    "```python\n",
    "python mod.py\n",
    "```\n",
    "\n",
    "As it does not have any output, so we don't see clearly what it has done. Let's add below code in it to generate some output\n",
    "\n",
    "```python\n",
    "print(good_word)\n",
    "\n",
    "print(num_list)\n",
    "\n",
    "print(mod.addition(2,6))\n",
    "\n",
    "my_printer=mod.Printer(\"laser printer\")\n",
    "my_printer.print_message(\"hello world\")\n",
    "```\n",
    "\n",
    "After adding the above code, if you run module as a script `python mod.py`. You will get output. But there is a new problem, when we import the module, you will also see the output. This is probably not what you want. It isn’t usual for a module to generate output when it is imported.\n",
    "\n",
    "Wouldn’t it be nice if **you could distinguish between when the file is loaded as a module and when it is run as a standalone script**?\n",
    "\n",
    "**When a .py file is imported as a module, Python sets the special dunder variable __name__ to the name of the module. However, if a file is run as a standalone script, __name__ is (creatively) set to the string '__main__'.** With below code, the main function will be executed only if the module file is run as a script.\n",
    "\n",
    "```python\n",
    "def main():\n",
    "    print(good_word)\n",
    "\n",
    "    print(num_list)\n",
    "\n",
    "    print(addition(2, 6))\n",
    "\n",
    "    my_printer = Printer(\"laser printer\")\n",
    "    my_printer.print_message(\"hello world\")\n",
    "\n",
    "\n",
    "if __name__ == \"__main__\":\n",
    "    main()\n",
    "\n",
    "```"
   ],
   "metadata": {
    "collapsed": false,
    "pycharm": {
     "name": "#%% md\n"
    }
   }
  },
  {
   "cell_type": "markdown",
   "source": [
    "## 1.5 Reloading a module\n",
    "\n",
    "For reasons of efficiency, a module is only loaded once per interpreter session. That is fine for function and class definitions, which typically make up the bulk of a module’s contents. But a module can contain executable statements as well, usually for initialization. Be aware that **these initialization statements will only be executed the first time a module is imported**\n",
    "\n",
    "\n",
    "If you make a change to a module and need to reload it, you need to **either restart the interpreter or use a function called reload() from module importlib**.\n",
    "\n",
    "Add some new numbers in num_list. Test it with and without reloading the importlib"
   ],
   "metadata": {
    "collapsed": false,
    "pycharm": {
     "name": "#%% md\n"
    }
   }
  },
  {
   "cell_type": "code",
   "execution_count": 11,
   "outputs": [
    {
     "name": "stdout",
     "output_type": "stream",
     "text": [
      "[100, 200, 300]\n"
     ]
    }
   ],
   "source": [
    "print(mod.num_list)"
   ],
   "metadata": {
    "collapsed": false,
    "pycharm": {
     "name": "#%%\n"
    }
   }
  },
  {
   "cell_type": "code",
   "execution_count": 13,
   "outputs": [
    {
     "name": "stdout",
     "output_type": "stream",
     "text": [
      "[100, 200, 300, 400, 500]\n"
     ]
    }
   ],
   "source": [
    "import importlib\n",
    "importlib.reload(mod)\n",
    "print(mod.num_list)"
   ],
   "metadata": {
    "collapsed": false,
    "pycharm": {
     "name": "#%%\n"
    }
   }
  },
  {
   "cell_type": "markdown",
   "source": [
    "Note the reload() function only reload the object that passed as the parameter of the function. Other objects that are imported with different ways will not be impacted. For example, we import module mod and object num_list with below code\n",
    "\n",
    "```python\n",
    "import importlib\n",
    "from learning_python.Lesson04_Module_Package.src import mod\n",
    "from learning_python.Lesson04_Module_Package.src.mod import num_list\n",
    "\n",
    "# this will show the new value\n",
    "importlib.reload(mod)\n",
    "print(mod.num_list)\n",
    "\n",
    "# this will show the old value, because num_list is not reloaded, even though num_list is inside the mod module\n",
    "print(num_list)\n",
    "``` "
   ],
   "metadata": {
    "collapsed": false,
    "pycharm": {
     "name": "#%% md\n"
    }
   }
  }
 ],
 "metadata": {
  "kernelspec": {
   "display_name": "Python 3",
   "language": "python",
   "name": "python3"
  },
  "language_info": {
   "codemirror_mode": {
    "name": "ipython",
    "version": 2
   },
   "file_extension": ".py",
   "mimetype": "text/x-python",
   "name": "python",
   "nbconvert_exporter": "python",
   "pygments_lexer": "ipython2",
   "version": "2.7.6"
  }
 },
 "nbformat": 4,
 "nbformat_minor": 0
}