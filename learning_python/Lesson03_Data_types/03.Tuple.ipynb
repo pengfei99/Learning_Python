{
 "cells": [
  {
   "cell_type": "markdown",
   "id": "db606003-4a07-4916-a118-c7a2662abf64",
   "metadata": {},
   "source": [
    "# 3.3 Tuple\n",
    "\n",
    "**Tuple is a collection of Python objects much like a list. The sequence of values stored in a tuple can be of any type, and they are indexed by integers. They are immutable**\n",
    "\n",
    "Values of a tuple are syntactically separated by ‘commas’. Although it is not necessary, it is more common to define a tuple by closing the sequence of values in parentheses. This helps in understanding the Python tuples more easily.\n",
    "\n",
    "## 3.3.1 Creating a Tuple\n",
    "In Python, tuples are created by placing a sequence of values separated by ‘comma’ with or without the use of parentheses for grouping the data sequence.\n",
    "\n",
    "**Note: Creation of Python tuple without the use of parentheses is known as Tuple Packing.**"
   ]
  },
  {
   "cell_type": "code",
   "execution_count": 1,
   "id": "fb82f733-3b65-4618-8347-f38b1245f571",
   "metadata": {},
   "outputs": [
    {
     "name": "stdout",
     "output_type": "stream",
     "text": [
      "Initial empty Tuple: \n",
      "()\n",
      "\n",
      "Tuple with the use of String: \n",
      "('Geeks', 'For')\n",
      "\n",
      "Tuple using List: \n",
      "(1, 2, 4, 5, 6)\n",
      "\n",
      "Tuple with the use of function: \n",
      "('G', 'e', 'e', 'k', 's')\n"
     ]
    }
   ],
   "source": [
    "#Creating an empty Tuple\n",
    "Tuple1 = ()\n",
    "print(\"Initial empty Tuple: \")\n",
    "print (Tuple1)\n",
    " \n",
    "#Creating a Tuple\n",
    "#with the use of string\n",
    "Tuple1 = ('Geeks', 'For')\n",
    "print(\"\\nTuple with the use of String: \")\n",
    "print(Tuple1)\n",
    " \n",
    "# Creating a Tuple with\n",
    "# the use of list\n",
    "list1 = [1, 2, 4, 5, 6]\n",
    "print(\"\\nTuple using List: \")\n",
    "print(tuple(list1))\n",
    " \n",
    "#Creating a Tuple\n",
    "#with the use of built-in function\n",
    "Tuple1 = tuple('Geeks')\n",
    "print(\"\\nTuple with the use of function: \")\n",
    "print(Tuple1)"
   ]
  },
  {
   "cell_type": "markdown",
   "id": "131c62fa-ad50-494c-84aa-aa87a45ee9ba",
   "metadata": {},
   "source": [
    "### Creating a Tuple with Mixed Datatypes.\n",
    "Tuples can contain any number of elements and of any datatype (like strings, integers, list, etc.). Tuples can also be created with a single element, but it is a bit tricky. Having one element in the parentheses is not sufficient, there must be a trailing ‘comma’ to make it a tuple.\n",
    " "
   ]
  },
  {
   "cell_type": "code",
   "execution_count": 2,
   "id": "89b1e691-115a-4809-baeb-8db33bc447a4",
   "metadata": {},
   "outputs": [
    {
     "name": "stdout",
     "output_type": "stream",
     "text": [
      "\n",
      "Tuple with Mixed Datatypes: \n",
      "(5, 'Welcome', 7, 'Geeks')\n"
     ]
    }
   ],
   "source": [
    "#Creating a Tuple with Mixed Datatype\n",
    "Tuple1 = (5, 'Welcome', 7, 'Geeks')\n",
    "print(\"Tuple with Mixed Datatypes: \")\n",
    "print(Tuple1)"
   ]
  },
  {
   "cell_type": "code",
   "execution_count": 3,
   "id": "9b929125-6fe9-4b73-8967-cc250fa1fcc7",
   "metadata": {},
   "outputs": [
    {
     "name": "stdout",
     "output_type": "stream",
     "text": [
      "Tuple with nested tuples: \n",
      "((0, 1, 2, 3), ('python', 'geek'))\n"
     ]
    }
   ],
   "source": [
    "#Creating a Tuple with nested tuples\n",
    "Tuple1 = (0, 1, 2, 3)\n",
    "Tuple2 = ('python', 'geek')\n",
    "Tuple3 = (Tuple1, Tuple2)\n",
    "print(\"Tuple with nested tuples: \")\n",
    "print(Tuple3)\n",
    " "
   ]
  },
  {
   "cell_type": "code",
   "execution_count": 4,
   "id": "96b2c8f9-2250-4538-b60c-35b1946037d7",
   "metadata": {},
   "outputs": [
    {
     "name": "stdout",
     "output_type": "stream",
     "text": [
      "Tuple with repetition: \n",
      "('Geeks', 'Geeks', 'Geeks')\n"
     ]
    }
   ],
   "source": [
    "#Creating a Tuple with repetition\n",
    "Tuple1 = ('Geeks',) * 3\n",
    "print(\"Tuple with repetition: \")\n",
    "print(Tuple1)\n",
    " \n"
   ]
  },
  {
   "cell_type": "code",
   "execution_count": 5,
   "id": "e8936588-5733-45d5-82e1-98fd33d7e5d8",
   "metadata": {},
   "outputs": [
    {
     "name": "stdout",
     "output_type": "stream",
     "text": [
      "\n",
      "Tuple with a loop\n",
      "('Geeks',)\n",
      "(('Geeks',),)\n",
      "((('Geeks',),),)\n",
      "(((('Geeks',),),),)\n",
      "((((('Geeks',),),),),)\n"
     ]
    }
   ],
   "source": [
    "#Creating a Tuple with the use of loop\n",
    "Tuple1 = ('Geeks')\n",
    "n = 5\n",
    "print(\"\\nTuple with a loop\")\n",
    "for i in range(int(n)):\n",
    "    Tuple1 = (Tuple1,)\n",
    "    print(Tuple1)"
   ]
  },
  {
   "cell_type": "markdown",
   "id": "e6ae1562-9003-41dd-879a-1fabbd172bf6",
   "metadata": {},
   "source": [
    "## 3.3.2 Accessing of Tuples\n",
    "\n",
    "**Tuples are immutable, and usually, they contain a sequence of heterogeneous elements that are accessed via unpacking or indexing (or even by attribute in the case of named tuples). Lists are mutable, and their elements are usually homogeneous and are accessed by iterating over the list.**\n",
    "\n"
   ]
  },
  {
   "cell_type": "code",
   "execution_count": 6,
   "id": "bea2e2c9-d58e-43f2-9023-ba3198951b2c",
   "metadata": {},
   "outputs": [
    {
     "name": "stdout",
     "output_type": "stream",
     "text": [
      "First element of Tuple: \n",
      "e\n"
     ]
    }
   ],
   "source": [
    "# Accessing Tuple with Indexing\n",
    "Tuple1 = tuple(\"Geeks\")\n",
    "print(f\"First element of Tuple: {Tuple1[1]} \")"
   ]
  },
  {
   "cell_type": "markdown",
   "id": "a796358e-a811-4972-bc00-888e9e3896b9",
   "metadata": {},
   "source": [
    "Unpacking a tuple\n",
    "\n",
    "**In unpacking of tuple number of variables on the left-hand side should be equal to a number of values in given tuple a.**, Otherwise, you will receive ValueError: too many values to unpack (expected 2)"
   ]
  },
  {
   "cell_type": "code",
   "execution_count": 7,
   "id": "42c9d0b1-8b85-46b7-ab40-b2469a46e856",
   "metadata": {},
   "outputs": [
    {
     "ename": "ValueError",
     "evalue": "too many values to unpack (expected 2)",
     "output_type": "error",
     "traceback": [
      "\u001B[0;31m---------------------------------------------------------------------------\u001B[0m",
      "\u001B[0;31mValueError\u001B[0m                                Traceback (most recent call last)",
      "\u001B[0;32m/tmp/ipykernel_1216/771240535.py\u001B[0m in \u001B[0;36m<module>\u001B[0;34m\u001B[0m\n\u001B[1;32m      3\u001B[0m \u001B[0;34m\u001B[0m\u001B[0m\n\u001B[1;32m      4\u001B[0m \u001B[0;31m#This line unpack values of Tuple1\u001B[0m\u001B[0;34m\u001B[0m\u001B[0;34m\u001B[0m\u001B[0m\n\u001B[0;32m----> 5\u001B[0;31m \u001B[0ma\u001B[0m\u001B[0;34m,\u001B[0m \u001B[0mb\u001B[0m \u001B[0;34m=\u001B[0m \u001B[0mTuple1\u001B[0m\u001B[0;34m\u001B[0m\u001B[0;34m\u001B[0m\u001B[0m\n\u001B[0m\u001B[1;32m      6\u001B[0m \u001B[0mprint\u001B[0m\u001B[0;34m(\u001B[0m\u001B[0;34m\"\\nValues after unpacking: \"\u001B[0m\u001B[0;34m)\u001B[0m\u001B[0;34m\u001B[0m\u001B[0;34m\u001B[0m\u001B[0m\n\u001B[1;32m      7\u001B[0m \u001B[0mprint\u001B[0m\u001B[0;34m(\u001B[0m\u001B[0ma\u001B[0m\u001B[0;34m)\u001B[0m\u001B[0;34m\u001B[0m\u001B[0;34m\u001B[0m\u001B[0m\n",
      "\u001B[0;31mValueError\u001B[0m: too many values to unpack (expected 2)"
     ]
    }
   ],
   "source": [
    "#Tuple unpacking\n",
    "Tuple1 = (\"Geeks\", \"For\", \"Geeks\")\n",
    " \n",
    "# Failed due to variables number is less than values in the tuble\n",
    "a, b = Tuple1\n",
    "print(\"Values after unpacking: \")\n",
    "print(a)\n",
    "print(b)"
   ]
  },
  {
   "cell_type": "code",
   "execution_count": 8,
   "id": "9d2a7f12-ebf5-4075-81c5-7f5536176ee4",
   "metadata": {},
   "outputs": [
    {
     "name": "stdout",
     "output_type": "stream",
     "text": [
      "\n",
      "Values after unpacking: \n",
      "Geeks\n",
      "For\n",
      "Geeks\n"
     ]
    }
   ],
   "source": [
    "# success unpacking of tuple\n",
    "a, b, c = Tuple1\n",
    "print(\"Values after unpacking: \")\n",
    "print(a)\n",
    "print(b)\n",
    "print(c)"
   ]
  },
  {
   "cell_type": "markdown",
   "id": "733d5153-8e9c-4857-b0e9-2caa2214e3f3",
   "metadata": {},
   "source": [
    "## 3.3.3 Concatenation of Tuples\n",
    "\n",
    "Concatenation of tuple is the process of joining two or more Tuples. **Concatenation is done by the use of ‘+’ operator. Concatenation of tuples is done always from the end of the original tuple. Other arithmetic operations do not apply on Tuples.**\n",
    "\n",
    "Note- Only the same datatypes can be combined with concatenation (e.g. list concate list, tuple concate tuple), an error arises if a list and a tuple are combined. "
   ]
  },
  {
   "cell_type": "code",
   "execution_count": 9,
   "id": "af3d7f3b-5e13-4445-a247-78ac865c48b8",
   "metadata": {},
   "outputs": [
    {
     "name": "stdout",
     "output_type": "stream",
     "text": [
      "Tuple 1: \n",
      "(0, 1, 2, 3)\n",
      "\n",
      "Tuple2: \n",
      "('Geeks', 'For', 'Geeks')\n",
      "\n",
      "Tuples after Concatenation: \n",
      "(0, 1, 2, 3, 'Geeks', 'For', 'Geeks')\n"
     ]
    }
   ],
   "source": [
    "# Concatenation of tuples\n",
    "Tuple1 = (0, 1, 2, 3)\n",
    "Tuple2 = ('Geeks', 'For', 'Geeks')\n",
    " \n",
    "Tuple3 = Tuple1 + Tuple2\n",
    " \n",
    "# Printing first Tuple\n",
    "print(\"Tuple 1: \")\n",
    "print(Tuple1)\n",
    " \n",
    "# Printing Second Tuple\n",
    "print(\"\\nTuple2: \")\n",
    "print(Tuple2)\n",
    " \n",
    "# Printing Final Tuple\n",
    "print(\"\\nTuples after Concatenation: \")\n",
    "print(Tuple3)"
   ]
  },
  {
   "cell_type": "markdown",
   "id": "d471fe9d-23cd-4900-99a7-9886626ed211",
   "metadata": {},
   "source": [
    "### 3.3.4 Slicing of Tuple\n",
    "\n",
    "Slicing of a Tuple is similar to list or string slicing. You just use the below syntaxe to specify a range \n",
    "```text\n",
    "[start:end:step]\n",
    "\n",
    "# It means that slicing will start from index start will go up to index stop with inteval of steps. \n",
    "# Default value:\n",
    "- start is 0, \n",
    "- stop is last index of list\n",
    "- step is 1 \n",
    "They all can be negative\n",
    "if start, stop are negative, it means we will count the index from the end of the list\n",
    "if step is negative, it means we will show elements of the list in reverse order.\n",
    "```\n",
    "\n",
    "Note- Negative Increment values can also be used to reverse the sequence of Tuples \n",
    "\n",
    "For example:  \n",
    "- To print elements from beginning to a range use [: Index], \n",
    "- To print elements from end-use [:-Index], \n",
    "- To print elements from specific Index till the end use [Index:], \n",
    "- To print elements within a range, use [Start Index:End Index]\n",
    "- To print the whole List with the use of slicing operation, use [:]. \n",
    "- To print elements within a range with step value 2, use [Start Index:End Index:2]\n",
    "- Further, to print the whole List in reverse order, use [::-1].\n",
    "\n",
    "Below figure shows how to use negative index:\n",
    "![List_element_indexing](https://raw.githubusercontent.com/pengfei99/Learning_Python/main/images/List_element_indexing.jpg)"
   ]
  },
  {
   "cell_type": "code",
   "execution_count": 10,
   "id": "501405ca-5451-4b3d-849c-b585961f26f7",
   "metadata": {},
   "outputs": [
    {
     "name": "stdout",
     "output_type": "stream",
     "text": [
      "Removal of First Element: \n",
      "('E', 'E', 'K', 'S', 'F', 'O', 'R', 'G', 'E', 'E', 'K', 'S')\n",
      "\n",
      "Tuple after sequence of Element is reversed: \n",
      "('S', 'K', 'E', 'E', 'G', 'R', 'O', 'F', 'S', 'K', 'E', 'E', 'G')\n",
      "\n",
      "Printing elements between Range 4-9: \n",
      "('S', 'F', 'O', 'R', 'G')\n"
     ]
    }
   ],
   "source": [
    "# Slicing of a Tuple\n",
    " \n",
    "# Slicing of a Tuple\n",
    "# with Numbers\n",
    "Tuple1 = tuple('GEEKSFORGEEKS')\n",
    " \n",
    "# Removing First element\n",
    "print(\"Removal of First Element: \")\n",
    "print(Tuple1[1:])\n",
    " \n",
    "# Reversing the Tuple\n",
    "print(\"\\nTuple after sequence of Element is reversed: \")\n",
    "print(Tuple1[::-1])\n",
    " \n",
    "# Printing elements of a Range\n",
    "print(\"\\nPrinting elements between Range 4-9: \")\n",
    "print(Tuple1[4:9])"
   ]
  },
  {
   "cell_type": "markdown",
   "id": "f877c55d-6019-4190-81c1-c06b9e6302cd",
   "metadata": {},
   "source": [
    "## 3.3.5 Deleting a Tuple\n",
    "\n",
    "Tuples are immutable and hence they do not allow deletion of a part of it. The entire tuple gets deleted by the use of del() method. \n",
    " \n",
    "\n",
    "Note- Printing of Tuple after deletion results in an Error. "
   ]
  },
  {
   "cell_type": "code",
   "execution_count": 11,
   "id": "25d58f9f-8cf0-4ebd-8098-8864c1c18a00",
   "metadata": {},
   "outputs": [
    {
     "name": "stdout",
     "output_type": "stream",
     "text": [
      "before deletion: (0, 1, 2, 3, 4)\n"
     ]
    },
    {
     "ename": "NameError",
     "evalue": "name 'Tuple1' is not defined",
     "output_type": "error",
     "traceback": [
      "\u001B[0;31m---------------------------------------------------------------------------\u001B[0m",
      "\u001B[0;31mNameError\u001B[0m                                 Traceback (most recent call last)",
      "\u001B[0;32m/tmp/ipykernel_1216/2597618208.py\u001B[0m in \u001B[0;36m<module>\u001B[0;34m\u001B[0m\n\u001B[1;32m      5\u001B[0m \u001B[0;32mdel\u001B[0m \u001B[0mTuple1\u001B[0m\u001B[0;34m\u001B[0m\u001B[0;34m\u001B[0m\u001B[0m\n\u001B[1;32m      6\u001B[0m \u001B[0;34m\u001B[0m\u001B[0m\n\u001B[0;32m----> 7\u001B[0;31m \u001B[0mprint\u001B[0m\u001B[0;34m(\u001B[0m\u001B[0;34mf\"after deletion: {Tuple1}\"\u001B[0m\u001B[0;34m)\u001B[0m\u001B[0;34m\u001B[0m\u001B[0;34m\u001B[0m\u001B[0m\n\u001B[0m",
      "\u001B[0;31mNameError\u001B[0m: name 'Tuple1' is not defined"
     ]
    }
   ],
   "source": [
    "# Deleting a Tuple\n",
    " \n",
    "Tuple1 = (0, 1, 2, 3, 4)\n",
    "print(f\"before deletion: {Tuple1}\")\n",
    "del Tuple1\n",
    " \n",
    "print(f\"after deletion: {Tuple1}\")"
   ]
  },
  {
   "cell_type": "markdown",
   "id": "0ede4652-6e8f-42e6-804c-b0ee1d4f9f9b",
   "metadata": {},
   "source": [
    "## 3.3.6 Built-In Methods\n",
    "\n",
    "- index( ) ：find in the tuple and returns the index of the given value where it’s available\n",
    "- count( )： returns the frequency of occurrence of a specified value"
   ]
  },
  {
   "cell_type": "code",
   "execution_count": 16,
   "id": "8376a01c-9fae-416d-89bd-bdbe93358fba",
   "metadata": {},
   "outputs": [
    {
     "name": "stdout",
     "output_type": "stream",
     "text": [
      "tuple has values: ('h', 'e', 'l', 'l', 'o')\n",
      "The index of h in the tuple: 0\n",
      "The index of o in the tuple: 4\n",
      "The count of h in the tuple: 1\n",
      "The count of l in the tuple: 2\n"
     ]
    }
   ],
   "source": [
    "Tuple1 = tuple(\"hello\")\n",
    "print(f\"tuple has values: {Tuple1}\")\n",
    "# get the index of specific value\n",
    "print(f\"The index of h in the tuple: {Tuple1.index('h')}\")\n",
    "print(f\"The index of o in the tuple: {Tuple1.index('o')}\")\n",
    "\n",
    "# count the occurrence\n",
    "print(f\"The count of h in the tuple: {Tuple1.count('h')}\")\n",
    "print(f\"The count of l in the tuple: {Tuple1.count('l')}\")"
   ]
  },
  {
   "cell_type": "markdown",
   "id": "3ec9f7cc-6d2f-4b48-8ca2-9841c04221e5",
   "metadata": {},
   "source": [
    "## 3.3.7 Built-In Functions\n",
    "\n",
    "- all(): Returns true if all element are true or if tuple is empty\n",
    "- any(): return true if any element of the tuple is true. if tuple is empty, return false\n",
    "- len(): Returns length of the tuple or size of the tuple\n",
    "- enumerate(): Returns enumerate object of tuple\n",
    "- max(): return maximum element of given tuple\n",
    "- min(): return minimum element of given tuple\n",
    "- sum(): Sums up the numbers in the tuple\n",
    "- sorted(): input elements in the tuple and return a new sorted list\n",
    "- tuple(): Convert an iterable to a tuple."
   ]
  },
  {
   "cell_type": "code",
   "execution_count": 20,
   "id": "df3eddac-9556-4bd9-831a-2c62d92ffd69",
   "metadata": {},
   "outputs": [
    {
     "name": "stdout",
     "output_type": "stream",
     "text": [
      "The result of all function on Tuple1: True\n",
      "The result of all function on Tuple2: False\n"
     ]
    }
   ],
   "source": [
    "Tuple2=(False,True,True)\n",
    "# note the value of tuple1 are all characters, and they are considered as true \n",
    "print(f\"The result of all function on Tuple1: {all(Tuple1)}\")\n",
    "print(f\"The result of all function on Tuple2: {all(Tuple2)}\")"
   ]
  },
  {
   "cell_type": "code",
   "execution_count": 24,
   "id": "e2f77c2a-c967-41e9-b429-9a4e631ba235",
   "metadata": {},
   "outputs": [
    {
     "name": "stdout",
     "output_type": "stream",
     "text": [
      "index is: 0, value is: h\n",
      "index is: 1, value is: e\n",
      "index is: 2, value is: l\n",
      "index is: 3, value is: l\n",
      "index is: 4, value is: o\n"
     ]
    }
   ],
   "source": [
    "# use enumerate to help loop get index and value at the same time\n",
    "for index, value in enumerate(Tuple1):\n",
    "    print(f\"index is: {index}, value is: {value}\")"
   ]
  },
  {
   "cell_type": "code",
   "execution_count": 25,
   "id": "a56491be-da79-4ceb-9d46-95e4e3a2ff84",
   "metadata": {},
   "outputs": [
    {
     "name": "stdout",
     "output_type": "stream",
     "text": [
      "sorted_list of the Tuple1: ['e', 'h', 'l', 'l', 'o']\n"
     ]
    }
   ],
   "source": [
    "# Sort the tuple\n",
    "sorted_list=sorted(Tuple1)\n",
    "print(f\"sorted_list of the Tuple1: {sorted_list}\")"
   ]
  },
  {
   "cell_type": "code",
   "execution_count": null,
   "id": "7ac1b55f-58fe-42ae-94d4-c1a249550341",
   "metadata": {},
   "outputs": [],
   "source": []
  }
 ],
 "metadata": {
  "kernelspec": {
   "display_name": "Python 3 (ipykernel)",
   "language": "python",
   "name": "python3"
  },
  "language_info": {
   "codemirror_mode": {
    "name": "ipython",
    "version": 3
   },
   "file_extension": ".py",
   "mimetype": "text/x-python",
   "name": "python",
   "nbconvert_exporter": "python",
   "pygments_lexer": "ipython3",
   "version": "3.9.7"
  }
 },
 "nbformat": 4,
 "nbformat_minor": 5
}