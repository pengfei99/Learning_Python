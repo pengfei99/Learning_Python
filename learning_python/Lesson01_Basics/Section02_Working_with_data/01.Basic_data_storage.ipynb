{
 "cells": [
  {
   "cell_type": "markdown",
   "metadata": {},
   "source": [
    "# 1. Basic data storage\n",
    "\n",
    "All programs process data in one form or another, and many need to be able to save and retrieve that data from one invocation to the next. In `Python`, we have many ways to store data. \n",
    "- Flat files (e.g. csv, json, xml, etc.)\n",
    "- RDBMS (e.g. postgres, mysql, etc)\n",
    "- NoSQL DB (e.g. mongoDB, Neo4J, etc.)\n",
    "\n",
    "In this tutorial, we will use first flat files, then RDBMS (SQLite), to store and retrieve data. At last we will use `SQLAlchemy (ORM)` which allow you to map rows in a table with python object. `SQLite` is a light weight RDBMS which stores data in a single file without the need for complex installation."
   ]
  },
  {
   "cell_type": "markdown",
   "metadata": {},
   "source": [
    "## 1.1 Working with flat files \n",
    "\n",
    "### Advantages of Flat Files\n",
    "- Easy to use and implement\n",
    "- human-readable makes it easy to edit, view/examine, and transfer \n",
    "- support by many language and framework (import, export)\n",
    "\n",
    "\n",
    "### Disadvantages of Flat Files\n",
    "- performance: Large files are difficult to view/examine/edit\n",
    "- No explicit relation between data parts (tables). Relation need to be written in the business logic\n",
    "- No schema or data structure. Users need understand not only the structure of the data but also the programming tools necessary for accessing it.\n",
    "\n",
    "\n",
    "In below example, we use pandas to read the csv file. And `treelib` to print the hierarchies"
   ]
  },
  {
   "cell_type": "code",
   "execution_count": 8,
   "metadata": {},
   "outputs": [],
   "source": [
    "import pandas as pd\n",
    "from treelib import Node, Tree"
   ]
  },
  {
   "cell_type": "code",
   "execution_count": 9,
   "metadata": {},
   "outputs": [],
   "source": [
    "def get_data(file_path):\n",
    "    return pd.read_csv(file_path)\n",
    "\n",
    "def get_books_by_publisher(data,ascending=True):\n",
    "    \"\"\"Return the number of books by each publisher as a pandas series\"\"\"\n",
    "    return data.groupby(\"publisher\").size().sort_values(ascending=ascending)\n",
    "\n",
    "def get_authors_by_publisher(data, ascending=True):\n",
    "    \"\"\"Returns the number of authors by each publisher as a pandas series\"\"\"\n",
    "    return (\n",
    "        data.assign(name=data.first_name.str.cat(data.last_name, sep=\" \"))\n",
    "        .groupby(\"publisher\")\n",
    "        .nunique()\n",
    "        .loc[:, \"name\"]\n",
    "        .sort_values(ascending=ascending)\n",
    "    )\n",
    "\n",
    "def add_new_book(data, author_name, book_title, publisher_name):\n",
    "    \"\"\"Adds a new book to the system\"\"\"\n",
    "    # Does the book exist?\n",
    "    first_name, _, last_name = author_name.partition(\" \")\n",
    "    if any(\n",
    "        (data.first_name == first_name)\n",
    "        & (data.last_name == last_name)\n",
    "        & (data.title == book_title)\n",
    "        & (data.publisher == publisher_name)\n",
    "    ):\n",
    "        return data\n",
    "    # Add the new book\n",
    "    return data.append(\n",
    "        {\n",
    "            \"first_name\": first_name,\n",
    "            \"last_name\": last_name,\n",
    "            \"title\": book_title,\n",
    "            \"publisher\": publisher_name,\n",
    "        },\n",
    "        ignore_index=True,\n",
    "    )\n",
    "\n",
    "def output_author_hierarchy(data):\n",
    "    \"\"\"Output the data as a hierarchy list of authors\"\"\"\n",
    "    authors = data.assign(\n",
    "        name=data.first_name.str.cat(data.last_name, sep=\" \")\n",
    "    )\n",
    "    authors_tree = Tree()\n",
    "    authors_tree.create_node(\"Authors\", \"authors\")\n",
    "    for author, books in authors.groupby(\"name\"):\n",
    "        authors_tree.create_node(author, author, parent=\"authors\")\n",
    "        for book, publishers in books.groupby(\"title\")[\"publisher\"]:\n",
    "            book_id = f\"{author}:{book}\"\n",
    "            authors_tree.create_node(book, book_id, parent=author)\n",
    "            for publisher in publishers:\n",
    "                authors_tree.create_node(publisher, parent=book_id)\n",
    "\n",
    "    # Output the hierarchical authors data\n",
    "    authors_tree.show()"
   ]
  },
  {
   "cell_type": "markdown",
   "metadata": {},
   "source": [
    "Below is the main function that calls the above functions "
   ]
  },
  {
   "cell_type": "code",
   "execution_count": 4,
   "metadata": {},
   "outputs": [
    {
     "data": {
      "text/html": [
       "<div>\n",
       "<style scoped>\n",
       "    .dataframe tbody tr th:only-of-type {\n",
       "        vertical-align: middle;\n",
       "    }\n",
       "\n",
       "    .dataframe tbody tr th {\n",
       "        vertical-align: top;\n",
       "    }\n",
       "\n",
       "    .dataframe thead th {\n",
       "        text-align: right;\n",
       "    }\n",
       "</style>\n",
       "<table border=\"1\" class=\"dataframe\">\n",
       "  <thead>\n",
       "    <tr style=\"text-align: right;\">\n",
       "      <th></th>\n",
       "      <th>first_name</th>\n",
       "      <th>last_name</th>\n",
       "      <th>title</th>\n",
       "      <th>publisher</th>\n",
       "    </tr>\n",
       "  </thead>\n",
       "  <tbody>\n",
       "    <tr>\n",
       "      <th>0</th>\n",
       "      <td>Isaac</td>\n",
       "      <td>Asimov</td>\n",
       "      <td>Foundation</td>\n",
       "      <td>Random House</td>\n",
       "    </tr>\n",
       "    <tr>\n",
       "      <th>1</th>\n",
       "      <td>Pearl</td>\n",
       "      <td>Buck</td>\n",
       "      <td>The Good Earth</td>\n",
       "      <td>Random House</td>\n",
       "    </tr>\n",
       "    <tr>\n",
       "      <th>2</th>\n",
       "      <td>Pearl</td>\n",
       "      <td>Buck</td>\n",
       "      <td>The Good Earth</td>\n",
       "      <td>Simon &amp; Schuster</td>\n",
       "    </tr>\n",
       "    <tr>\n",
       "      <th>3</th>\n",
       "      <td>Tom</td>\n",
       "      <td>Clancy</td>\n",
       "      <td>The Hunt For Red October</td>\n",
       "      <td>Berkley</td>\n",
       "    </tr>\n",
       "    <tr>\n",
       "      <th>4</th>\n",
       "      <td>Tom</td>\n",
       "      <td>Clancy</td>\n",
       "      <td>Patriot Games</td>\n",
       "      <td>Simon &amp; Schuster</td>\n",
       "    </tr>\n",
       "  </tbody>\n",
       "</table>\n",
       "</div>"
      ],
      "text/plain": [
       "  first_name last_name                     title         publisher\n",
       "0      Isaac    Asimov                Foundation      Random House\n",
       "1      Pearl      Buck            The Good Earth      Random House\n",
       "2      Pearl      Buck            The Good Earth  Simon & Schuster\n",
       "3        Tom    Clancy  The Hunt For Red October           Berkley\n",
       "4        Tom    Clancy             Patriot Games  Simon & Schuster"
      ]
     },
     "execution_count": 4,
     "metadata": {},
     "output_type": "execute_result"
    }
   ],
   "source": [
    "root_path=\"../../../data\"\n",
    "file_path=f\"{root_path}/author_book_publisher.csv\"\n",
    "\n",
    "data = get_data(file_path)\n",
    "data.head()"
   ]
  },
  {
   "cell_type": "code",
   "execution_count": 5,
   "metadata": {},
   "outputs": [
    {
     "name": "stdout",
     "output_type": "stream",
     "text": [
      "Publisher: Random House, total books: 4\n",
      "Publisher: Simon & Schuster, total books: 4\n",
      "Publisher: Berkley, total books: 2\n",
      "Publisher: Penguin Random House, total books: 2\n",
      "\n"
     ]
    }
   ],
   "source": [
    "# Get the number of books printed by each publisher\n",
    "books_by_publisher = get_books_by_publisher(data, ascending=False)\n",
    "for publisher, total_books in books_by_publisher.items():\n",
    "    print(f\"Publisher: {publisher}, total books: {total_books}\")\n",
    "print()"
   ]
  },
  {
   "cell_type": "code",
   "execution_count": 6,
   "metadata": {},
   "outputs": [
    {
     "name": "stdout",
     "output_type": "stream",
     "text": [
      "Publisher: Simon & Schuster, total authors: 4\n",
      "Publisher: Random House, total authors: 3\n",
      "Publisher: Berkley, total authors: 2\n",
      "Publisher: Penguin Random House, total authors: 1\n",
      "\n"
     ]
    }
   ],
   "source": [
    "# Get the number of authors each publisher publishes\n",
    "authors_by_publisher = get_authors_by_publisher(data, ascending=False)\n",
    "for publisher, total_authors in authors_by_publisher.items():\n",
    "    print(f\"Publisher: {publisher}, total authors: {total_authors}\")\n",
    "print()"
   ]
  },
  {
   "cell_type": "code",
   "execution_count": 10,
   "metadata": {},
   "outputs": [
    {
     "name": "stdout",
     "output_type": "stream",
     "text": [
      "Authors\n",
      "├── Alex Michaelides\n",
      "│   └── The Silent Patient\n",
      "│       └── Simon & Schuster\n",
      "├── Carol Shaben\n",
      "│   └── Into The Abyss\n",
      "│       └── Simon & Schuster\n",
      "├── Isaac Asimov\n",
      "│   └── Foundation\n",
      "│       └── Random House\n",
      "├── John Le Carre\n",
      "│   └── Tinker, Tailor, Soldier, Spy: A George Smiley Novel\n",
      "│       └── Berkley\n",
      "├── Pearl Buck\n",
      "│   └── The Good Earth\n",
      "│       ├── Random House\n",
      "│       └── Simon & Schuster\n",
      "├── Stephen King\n",
      "│   ├── Dead Zone\n",
      "│   │   └── Random House\n",
      "│   ├── It\n",
      "│   │   ├── Penguin Random House\n",
      "│   │   └── Random House\n",
      "│   └── The Shining\n",
      "│       └── Penguin Random House\n",
      "└── Tom Clancy\n",
      "    ├── Patriot Games\n",
      "    │   └── Simon & Schuster\n",
      "    └── The Hunt For Red October\n",
      "        └── Berkley\n",
      "\n"
     ]
    }
   ],
   "source": [
    "# Output hierarchical authors data\n",
    "output_author_hierarchy(data)"
   ]
  },
  {
   "cell_type": "code",
   "execution_count": 11,
   "metadata": {},
   "outputs": [
    {
     "name": "stderr",
     "output_type": "stream",
     "text": [
      "/tmp/ipykernel_45614/3122650083.py:30: FutureWarning: The frame.append method is deprecated and will be removed from pandas in a future version. Use pandas.concat instead.\n",
      "  return data.append(\n"
     ]
    }
   ],
   "source": [
    "# Add a new book to the data structure\n",
    "data = add_new_book(\n",
    "    data,\n",
    "    author_name=\"Pengfei Liu\",\n",
    "    book_title=\"The real world\",\n",
    "    publisher_name=\"Random House\",\n",
    ")"
   ]
  },
  {
   "cell_type": "code",
   "execution_count": 12,
   "metadata": {},
   "outputs": [
    {
     "name": "stdout",
     "output_type": "stream",
     "text": [
      "Authors\n",
      "├── Alex Michaelides\n",
      "│   └── The Silent Patient\n",
      "│       └── Simon & Schuster\n",
      "├── Carol Shaben\n",
      "│   └── Into The Abyss\n",
      "│       └── Simon & Schuster\n",
      "├── Isaac Asimov\n",
      "│   └── Foundation\n",
      "│       └── Random House\n",
      "├── John Le Carre\n",
      "│   └── Tinker, Tailor, Soldier, Spy: A George Smiley Novel\n",
      "│       └── Berkley\n",
      "├── Pearl Buck\n",
      "│   └── The Good Earth\n",
      "│       ├── Random House\n",
      "│       └── Simon & Schuster\n",
      "├── Pengfei Liu\n",
      "│   └── The real world\n",
      "│       └── Random House\n",
      "├── Stephen King\n",
      "│   ├── Dead Zone\n",
      "│   │   └── Random House\n",
      "│   ├── It\n",
      "│   │   ├── Penguin Random House\n",
      "│   │   └── Random House\n",
      "│   └── The Shining\n",
      "│       └── Penguin Random House\n",
      "└── Tom Clancy\n",
      "    ├── Patriot Games\n",
      "    │   └── Simon & Schuster\n",
      "    └── The Hunt For Red October\n",
      "        └── Berkley\n",
      "\n"
     ]
    }
   ],
   "source": [
    "# Output the updated hierarchical authors data\n",
    "output_author_hierarchy(data)"
   ]
  },
  {
   "cell_type": "markdown",
   "metadata": {},
   "source": [
    "\n",
    "## 1.2 Store data in a RDBMS\n",
    "\n",
    "As we mentioned before, data in flat file has no structure. If we put the `author_book_publisher.csv` data into one table. It can work, but we lose all the advantage of a RDBMS. So first step, we need to do \n",
    "data normalization. It often takes three steps:\n",
    "- convert data to 1st normal form\n",
    "- convert the result of step1 to 2nd normal form\n",
    "- convert the result of setp2 to 3rd normal form\n",
    "\n",
    "Here we will not show the details of how to normalize the tables. \n",
    "\n",
    "In below section, we will:\n",
    "1. create a data model for the csv file\n",
    "2. create a data base structure (tables with relation) in a RDBMS (SQLite)\n",
    "3. Populate the DB\n",
    "\n",
    "The `SQLite database` offers a full-featured relational database management system (RDBMS) that works with a single file to maintain all the database functionality.\n",
    "\n",
    "### 1.2.1 Create data model\n",
    "\n",
    "Entities:\n",
    "- book\n",
    "- author\n",
    "- publisher\n",
    "\n",
    "Relations between entities:\n",
    "\n",
    "Below figure is an **entity-relation diagram (ERD)**  which is created by using `data grip`.\n",
    "\n"
   ]
  }
 ],
 "metadata": {
  "kernelspec": {
   "display_name": "base",
   "language": "python",
   "name": "python3"
  },
  "language_info": {
   "codemirror_mode": {
    "name": "ipython",
    "version": 3
   },
   "file_extension": ".py",
   "mimetype": "text/x-python",
   "name": "python",
   "nbconvert_exporter": "python",
   "pygments_lexer": "ipython3",
   "version": "3.10.4"
  },
  "orig_nbformat": 4,
  "vscode": {
   "interpreter": {
    "hash": "3fa046f995eb80ac40c0869a1f9df46519f4ada8b8c395ef25dd1aa1a1a2fc63"
   }
  }
 },
 "nbformat": 4,
 "nbformat_minor": 2
}
