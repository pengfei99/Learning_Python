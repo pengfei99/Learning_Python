{
 "cells": [
  {
   "cell_type": "markdown",
   "metadata": {
    "collapsed": true,
    "pycharm": {
     "name": "#%% md\n"
    }
   },
   "source": [
    "# 3. Properties, getter and setter\n",
    "\n",
    "In section 1, we have seen that instance parameter can be private and only be accessible via getter and setter. But this will increase the development workload.\n",
    "\n",
    "Note the private parameter in python is **not really private**. We can still access it. For more detail, please visit section 1 Classes_and_instances.\n",
    "\n"
   ]
  },
  {
   "cell_type": "markdown",
   "source": [
    "## 3.1 Why we need getter and setter?\n",
    "\n",
    "Let's consider below example."
   ],
   "metadata": {
    "collapsed": false,
    "pycharm": {
     "name": "#%% md\n"
    }
   }
  },
  {
   "cell_type": "code",
   "execution_count": null,
   "outputs": [],
   "source": [
    "class P1:\n",
    "    def __init__(self,x):\n",
    "        self.x=x"
   ],
   "metadata": {
    "collapsed": false,
    "pycharm": {
     "name": "#%%\n"
    }
   }
  },
  {
   "cell_type": "markdown",
   "source": [
    "With above class, there is no encapsulation. Let's update it to version 2"
   ],
   "metadata": {
    "collapsed": false,
    "pycharm": {
     "name": "#%% md\n"
    }
   }
  },
  {
   "cell_type": "code",
   "execution_count": null,
   "outputs": [],
   "source": [
    "class P2:\n",
    "    def __init__(self,x):\n",
    "        self.__x=x\n",
    "    def get_x(self):\n",
    "        return self.__x\n",
    "    def set_x(self,x):\n",
    "        self.__x=x"
   ],
   "metadata": {
    "collapsed": false,
    "pycharm": {
     "name": "#%%\n"
    }
   }
  },
  {
   "cell_type": "markdown",
   "source": [
    "It's better, but we can see there is a code duplication between set_x and __init__. So we can update it to version 3"
   ],
   "metadata": {
    "collapsed": false,
    "pycharm": {
     "name": "#%% md\n"
    }
   }
  },
  {
   "cell_type": "code",
   "execution_count": null,
   "outputs": [],
   "source": [
    "class P3:\n",
    "    def __init__(self,x):\n",
    "        self.set_x(x)\n",
    "    def get_x(self):\n",
    "        return self.__x\n",
    "    def set_x(self,x):\n",
    "        self.__x=x"
   ],
   "metadata": {
    "collapsed": false,
    "pycharm": {
     "name": "#%%\n"
    }
   }
  },
  {
   "cell_type": "markdown",
   "source": [
    "Now the code is much better and easy to maintain. Imagine, now we need to change the logic of the initialization of x. From now on the attribute x can only have values between 0 and 1000. If a value larger than 1000, x should be set to 1000. Correspondingly, x should be set to 0, if the value is less than 0.\n",
    "\n",
    "### 3.1.1 Why P1 is bad?\n",
    "With P1, there is no way to do this. Because user can modify the value of x as they want. Check below example"
   ],
   "metadata": {
    "collapsed": false,
    "pycharm": {
     "name": "#%% md\n"
    }
   }
  },
  {
   "cell_type": "code",
   "execution_count": 1,
   "outputs": [],
   "source": [
    "class P1:\n",
    "    def __init__(self,x):\n",
    "        if x <0:\n",
    "           self.x=0\n",
    "        elif x >1000:\n",
    "            self.x=1000\n",
    "        else:\n",
    "            self.x=x"
   ],
   "metadata": {
    "collapsed": false,
    "pycharm": {
     "name": "#%%\n"
    }
   }
  },
  {
   "cell_type": "code",
   "execution_count": 2,
   "outputs": [
    {
     "name": "stdout",
     "output_type": "stream",
     "text": [
      "1000\n"
     ]
    }
   ],
   "source": [
    "p1=P1(2000)\n",
    "print(p1.x)"
   ],
   "metadata": {
    "collapsed": false,
    "pycharm": {
     "name": "#%%\n"
    }
   }
  },
  {
   "cell_type": "markdown",
   "source": [
    "So far so good, the logic is respected. But check below example. As user can assign value to x directly, the logic is not respected anymore. So version 1 is the bad way to implement a class"
   ],
   "metadata": {
    "collapsed": false,
    "pycharm": {
     "name": "#%% md\n"
    }
   }
  },
  {
   "cell_type": "code",
   "execution_count": 3,
   "outputs": [
    {
     "name": "stdout",
     "output_type": "stream",
     "text": [
      "2000\n"
     ]
    }
   ],
   "source": [
    "p1.x=2000\n",
    "print(p1.x)"
   ],
   "metadata": {
    "collapsed": false,
    "pycharm": {
     "name": "#%%\n"
    }
   }
  },
  {
   "cell_type": "markdown",
   "source": [
    "### 3.1.2 Why p2 is bad?\n",
    "\n",
    "With version 2, as user can only assign value to x via setter, so the logic will be respected. But we duplicate code, if any changes occur, we need to modify two code block.\n"
   ],
   "metadata": {
    "collapsed": false,
    "pycharm": {
     "name": "#%% md\n"
    }
   }
  },
  {
   "cell_type": "markdown",
   "source": [
    "### 3.1.3 P3 is a good start\n",
    "\n",
    "We can see all the logic that can modify x is located in set_x(), it's much easier to maintain the code. And x is only accessible via getter and setter, so we have the total control over the x logic."
   ],
   "metadata": {
    "collapsed": false,
    "pycharm": {
     "name": "#%% md\n"
    }
   }
  },
  {
   "cell_type": "code",
   "execution_count": 4,
   "outputs": [],
   "source": [
    "class P3:\n",
    "    def __init__(self,x):\n",
    "        self.set_x(x)\n",
    "    def get_x(self):\n",
    "        return self.__x\n",
    "    def set_x(self,x):\n",
    "        if x <0:\n",
    "           self.__x=0\n",
    "        elif x >1000:\n",
    "            self.__x=1000\n",
    "        else:\n",
    "            self.__x=x"
   ],
   "metadata": {
    "collapsed": false,
    "pycharm": {
     "name": "#%%\n"
    }
   }
  },
  {
   "cell_type": "code",
   "execution_count": 5,
   "outputs": [
    {
     "name": "stdout",
     "output_type": "stream",
     "text": [
      "1000\n",
      "1000\n"
     ]
    }
   ],
   "source": [
    "p3=P3(2000)\n",
    "print(p3.get_x())\n",
    "\n",
    "p3.set_x(2100)\n",
    "print(p3.get_x())"
   ],
   "metadata": {
    "collapsed": false,
    "pycharm": {
     "name": "#%%\n"
    }
   }
  },
  {
   "cell_type": "markdown",
   "source": [
    "## 3.2 Properties decorator\n",
    "\n",
    "Is there a way in python to allow us to apply getter and setter on public attributes? Imagine the following code (version 1) has been used in many place.\n",
    "```python\n",
    "p1 = P1(42)\n",
    "p1.x = 1001\n",
    "p1.x\n",
    "```\n",
    "\n",
    "If we change the version 1 signature. Many code will be broken. To avoid this, We can use property decorator\n"
   ],
   "metadata": {
    "collapsed": false,
    "pycharm": {
     "name": "#%% md\n"
    }
   }
  },
  {
   "cell_type": "code",
   "execution_count": 8,
   "outputs": [],
   "source": [
    "class P4:\n",
    "    def __init__(self,x):\n",
    "        self.x=x\n",
    "    @property\n",
    "    def x(self):\n",
    "        return self.__x\n",
    "    @x.setter\n",
    "    def x(self, x):\n",
    "        if x < 0:\n",
    "            self.__x = 0\n",
    "        elif x > 1000:\n",
    "            self.__x = 1000\n",
    "        else:\n",
    "            self.__x = x"
   ],
   "metadata": {
    "collapsed": false,
    "pycharm": {
     "name": "#%%\n"
    }
   }
  },
  {
   "cell_type": "code",
   "execution_count": 9,
   "outputs": [
    {
     "name": "stdout",
     "output_type": "stream",
     "text": [
      "1000\n"
     ]
    }
   ],
   "source": [
    "p4=P4(2000)\n",
    "print(p4.x)"
   ],
   "metadata": {
    "collapsed": false,
    "pycharm": {
     "name": "#%%\n"
    }
   }
  },
  {
   "cell_type": "code",
   "execution_count": 10,
   "outputs": [
    {
     "name": "stdout",
     "output_type": "stream",
     "text": [
      "1000\n"
     ]
    }
   ],
   "source": [
    "p4.x = 2900\n",
    "print(p4.x)"
   ],
   "metadata": {
    "collapsed": false,
    "pycharm": {
     "name": "#%%\n"
    }
   }
  },
  {
   "cell_type": "markdown",
   "source": [
    "In the above class example, we define a getter function with **def x(self):** and use the **@property** decorator on top of it. So when we call `print(p4.x)`, it's this getter function thar are called.\n",
    "\n",
    "\n",
    "We defined a setter function with **def x(self, x):** and use the \"@x.setter\" decorator. If the function had been called \"f\", we would have to decorate it with \"@f.setter\".\n",
    "\n",
    "\n",
    "Two things are noteworthy: We just put the code line \"self.x = x\" in the __init__ method and the property method x is used to check the limits of the values. The second interesting thing is that we wrote \"two\" methods with the same name and a different number of parameters \"def x(self)\" and \"def x(self,x)\". We have learned in a previous chapter of our course that this is not possible. It works here due to the decorating"
   ],
   "metadata": {
    "collapsed": false,
    "pycharm": {
     "name": "#%% md\n"
    }
   }
  },
  {
   "cell_type": "markdown",
   "source": [
    "## 3.3 Internals of the property decorator\n",
    "\n",
    "The property decorator has a complex mechanism to implement the getter and setter method. Here we just show you a tip of the iceberg.\n",
    "\n",
    "Below example is equivalent of the above decorator example, but we don't use any decorator. Several Notes on below example:\n",
    " - we use function property to register the getter and setter of x. **x = property(__get_x, __set_x)**\n",
    " - getter and setter are privates. So the only way to use them is to use **property (p5.x)**"
   ],
   "metadata": {
    "collapsed": false,
    "pycharm": {
     "name": "#%% md\n"
    }
   }
  },
  {
   "cell_type": "code",
   "execution_count": 11,
   "outputs": [],
   "source": [
    "class P5:\n",
    "    def __init__(self, x):\n",
    "        self.__set_x(x)\n",
    "    # private methods\n",
    "    def __get_x(self):\n",
    "        return self.__x\n",
    "\n",
    "    def __set_x(self, x):\n",
    "        if x < 0:\n",
    "            self.__x = 0\n",
    "        elif x > 1000:\n",
    "            self.__x = 1000\n",
    "        else:\n",
    "            self.__x = x\n",
    "    # register getter and setter function for a variable\n",
    "    x = property(__get_x, __set_x)"
   ],
   "metadata": {
    "collapsed": false,
    "pycharm": {
     "name": "#%%\n"
    }
   }
  },
  {
   "cell_type": "code",
   "execution_count": 12,
   "outputs": [
    {
     "name": "stdout",
     "output_type": "stream",
     "text": [
      "1000\n",
      "1000\n"
     ]
    }
   ],
   "source": [
    "p5=P5(2100)\n",
    "print(p5.x)\n",
    "\n",
    "p5.x=3900\n",
    "print(p5.x)"
   ],
   "metadata": {
    "collapsed": false,
    "pycharm": {
     "name": "#%%\n"
    }
   }
  },
  {
   "cell_type": "markdown",
   "source": [
    "## 3.4 Property can apply on anything.\n",
    "\n",
    "We just see how to use property on instance variables. In fact, it can be used on any function. Check below example"
   ],
   "metadata": {
    "collapsed": false,
    "pycharm": {
     "name": "#%% md\n"
    }
   }
  },
  {
   "cell_type": "code",
   "execution_count": 13,
   "outputs": [],
   "source": [
    "class Robot:\n",
    "    def __init__(self, name, build_year, lk = 0.5, lp = 0.5 ):\n",
    "        self.name = name\n",
    "        self.build_year = build_year\n",
    "        self.__potential_physical = lk\n",
    "        self.__potential_psychic = lp\n",
    "\n",
    "    @property\n",
    "    def condition(self):\n",
    "        s = self.__potential_physical + self.__potential_psychic\n",
    "        if s <= -1:\n",
    "           return \"I feel miserable!\"\n",
    "        elif s <= 0:\n",
    "           return \"I feel bad!\"\n",
    "        elif s <= 0.5:\n",
    "           return \"Could be worse!\"\n",
    "        elif s <= 1:\n",
    "           return \"Seems to be okay!\"\n",
    "        else:\n",
    "           return \"Great!\""
   ],
   "metadata": {
    "collapsed": false,
    "pycharm": {
     "name": "#%%\n"
    }
   }
  },
  {
   "cell_type": "markdown",
   "source": [
    "We just set property on top of the function condition, and condition is not the name of any instance variable. So property is just a way to register a getter function, then you can call it. It does not need to be a getter of a variable, it can be a getter of any state of the object."
   ],
   "metadata": {
    "collapsed": false,
    "pycharm": {
     "name": "#%% md\n"
    }
   }
  },
  {
   "cell_type": "code",
   "execution_count": 14,
   "outputs": [
    {
     "name": "stdout",
     "output_type": "stream",
     "text": [
      "Seems to be okay!\n",
      "I feel bad!\n"
     ]
    }
   ],
   "source": [
    "x = Robot(\"Marvin\", 1979, 0.2, 0.4 )\n",
    "y = Robot(\"Caliban\", 1993, -0.4, 0.3)\n",
    "\n",
    "print(x.condition)\n",
    "print(y.condition)"
   ],
   "metadata": {
    "collapsed": false,
    "pycharm": {
     "name": "#%%\n"
    }
   }
  },
  {
   "cell_type": "markdown",
   "source": [
    "## 3.5 Conclusion\n",
    "\n",
    "Let's assume that we are designing a new class and we pondering about an instance or class attribute \"OurAtt\", which we need for the design of our class. We have to observe the following issues:\n",
    "\n",
    "- Will the value of \"OurAtt\" be needed by the possible users of our class?\n",
    "- If not, we can or should make it a private attribute.\n",
    "- If it has to be accessed, we make it accessible as a public attribute\n",
    "- We will define it as a private attribute with the corresponding property, if and only if we have to do some checks or transformation of the data. (As an example, you can have a look again at our class P, where the attribute has to be in the interval between 0 and 1000, which is ensured by the property \"x\")\n",
    "- Alternatively, you could use a getter and a setter, but using a property is the Pythonic way to deal with it!\n",
    "\n",
    "And the **@property** and **@fun.setter** can help you to register the getter and setter with a unique name."
   ],
   "metadata": {
    "collapsed": false,
    "pycharm": {
     "name": "#%% md\n"
    }
   }
  },
  {
   "cell_type": "code",
   "execution_count": null,
   "outputs": [],
   "source": [],
   "metadata": {
    "collapsed": false,
    "pycharm": {
     "name": "#%%\n"
    }
   }
  }
 ],
 "metadata": {
  "kernelspec": {
   "display_name": "Python 3",
   "language": "python",
   "name": "python3"
  },
  "language_info": {
   "codemirror_mode": {
    "name": "ipython",
    "version": 2
   },
   "file_extension": ".py",
   "mimetype": "text/x-python",
   "name": "python",
   "nbconvert_exporter": "python",
   "pygments_lexer": "ipython2",
   "version": "2.7.6"
  }
 },
 "nbformat": 4,
 "nbformat_minor": 0
}