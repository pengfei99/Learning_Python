{
 "cells": [
  {
   "cell_type": "markdown",
   "metadata": {
    "collapsed": true,
    "pycharm": {
     "name": "#%% md\n"
    }
   },
   "source": [
    "# 6 Enum class\n",
    "\n",
    "**An enumeration is a set of symbolic names bound to unique, constant values**. Enumerations can be used to create simple custom data types which include things such as seasons, weeks, types of weapons in a game, planets, grades, or days. By convention, **enumeration names begin with an uppercase letter and are singular**.\n",
    "\n",
    "The **enum module** is used for creating enumerations in Python. Enumerations are created with the class keyword or with the functional API.\n",
    "\n",
    "There are specific derived enumerations **enum.IntEnum, enum.IntFlag, and enum.Flag**."
   ]
  },
  {
   "cell_type": "markdown",
   "source": [
    "## 6.1 Simple example"
   ],
   "metadata": {
    "collapsed": false,
    "pycharm": {
     "name": "#%% md\n"
    }
   }
  },
  {
   "cell_type": "code",
   "execution_count": 1,
   "outputs": [],
   "source": [
    "from enum import Enum\n",
    "class Season(Enum):\n",
    "    SPRING = 1\n",
    "    SUMMER = 2\n",
    "    AUTUMN = 3\n",
    "    WINTER = 4\n"
   ],
   "metadata": {
    "collapsed": false,
    "pycharm": {
     "name": "#%%\n"
    }
   }
  },
  {
   "cell_type": "code",
   "execution_count": 2,
   "outputs": [
    {
     "name": "stdout",
     "output_type": "stream",
     "text": [
      "Season.SPRING\n"
     ]
    }
   ],
   "source": [
    "s1=Season.SPRING\n",
    "\n",
    "print(s1)"
   ],
   "metadata": {
    "collapsed": false,
    "pycharm": {
     "name": "#%%\n"
    }
   }
  },
  {
   "cell_type": "code",
   "execution_count": 3,
   "outputs": [
    {
     "name": "stdout",
     "output_type": "stream",
     "text": [
      "True\n"
     ]
    }
   ],
   "source": [
    "print(s1==Season.SPRING)"
   ],
   "metadata": {
    "collapsed": false,
    "pycharm": {
     "name": "#%%\n"
    }
   }
  },
  {
   "cell_type": "markdown",
   "source": [
    "The above call can be a one liner"
   ],
   "metadata": {
    "collapsed": false,
    "pycharm": {
     "name": "#%% md\n"
    }
   }
  },
  {
   "cell_type": "code",
   "execution_count": 8,
   "outputs": [],
   "source": [
    "from enum import Enum\n",
    "Season2 = Enum('Season2', ['SPRING', \"SUMMER\", \"AUTUMN\", \"WINTER\"],start=1)"
   ],
   "metadata": {
    "collapsed": false,
    "pycharm": {
     "name": "#%%\n"
    }
   }
  },
  {
   "cell_type": "code",
   "execution_count": 9,
   "outputs": [],
   "source": [
    "s2=Season2.SPRING"
   ],
   "metadata": {
    "collapsed": false,
    "pycharm": {
     "name": "#%%\n"
    }
   }
  },
  {
   "cell_type": "code",
   "execution_count": 10,
   "outputs": [
    {
     "name": "stdout",
     "output_type": "stream",
     "text": [
      "Season2.SPRING\n"
     ]
    }
   ],
   "source": [
    "print(s2)"
   ],
   "metadata": {
    "collapsed": false,
    "pycharm": {
     "name": "#%%\n"
    }
   }
  },
  {
   "cell_type": "markdown",
   "source": [
    "## 6.2 Access enum item\n",
    "\n",
    "When you have a enum class, to access the items in the enum class, you can use below ways:\n",
    "- <class_name>.<item_name>\n",
    "- <class_name>[<item_name>]\n",
    "- <class_name>(<item_index>)\n",
    "\n",
    "Enum class provides a special attribute __members__ is a read-only ordered mapping of names to members."
   ],
   "metadata": {
    "collapsed": false,
    "pycharm": {
     "name": "#%% md\n"
    }
   }
  },
  {
   "cell_type": "code",
   "execution_count": 14,
   "outputs": [
    {
     "name": "stdout",
     "output_type": "stream",
     "text": [
      "Season.SPRING\n"
     ]
    }
   ],
   "source": [
    "print(Season.SPRING)"
   ],
   "metadata": {
    "collapsed": false,
    "pycharm": {
     "name": "#%%\n"
    }
   }
  },
  {
   "cell_type": "code",
   "execution_count": 13,
   "outputs": [
    {
     "name": "stdout",
     "output_type": "stream",
     "text": [
      "Season.SPRING\n"
     ]
    }
   ],
   "source": [
    "print(Season[\"SPRING\"])"
   ],
   "metadata": {
    "collapsed": false,
    "pycharm": {
     "name": "#%%\n"
    }
   }
  },
  {
   "cell_type": "code",
   "execution_count": 15,
   "outputs": [
    {
     "name": "stdout",
     "output_type": "stream",
     "text": [
      "Season.SPRING\n"
     ]
    }
   ],
   "source": [
    "print(Season(1))"
   ],
   "metadata": {
    "collapsed": false,
    "pycharm": {
     "name": "#%%\n"
    }
   }
  },
  {
   "cell_type": "code",
   "execution_count": 17,
   "outputs": [
    {
     "name": "stdout",
     "output_type": "stream",
     "text": [
      "dict_items([('SPRING', <Season.SPRING: 1>), ('SUMMER', <Season.SUMMER: 2>), ('AUTUMN', <Season.AUTUMN: 3>), ('WINTER', <Season.WINTER: 4>)])\n"
     ]
    }
   ],
   "source": [
    "# you can notice below commend returns a list of tuple\n",
    "print(Season.__members__.items())"
   ],
   "metadata": {
    "collapsed": false,
    "pycharm": {
     "name": "#%%\n"
    }
   }
  },
  {
   "cell_type": "code",
   "execution_count": 19,
   "outputs": [
    {
     "name": "stdout",
     "output_type": "stream",
     "text": [
      "name: SPRING, value: 1, member: Season.SPRING\n",
      "name: SUMMER, value: 2, member: Season.SUMMER\n",
      "name: AUTUMN, value: 3, member: Season.AUTUMN\n",
      "name: WINTER, value: 4, member: Season.WINTER\n"
     ]
    }
   ],
   "source": [
    "# we can use the auto unboxing of tuple in python to the following loop\n",
    "\n",
    "for name, member in Season.__members__.items():\n",
    "    print(f\"name: {name}, value: {member.value}, member: {member}\")"
   ],
   "metadata": {
    "collapsed": false,
    "pycharm": {
     "name": "#%%\n"
    }
   }
  },
  {
   "cell_type": "markdown",
   "source": [
    "## 6.3 Unique decorator\n",
    "\n",
    "The Unique decorator can help us to verify the uniqueness of element inside the enumeration. With below examples, you can notice the unique decorator verify the enum item, and it's index"
   ],
   "metadata": {
    "collapsed": false,
    "pycharm": {
     "name": "#%% md\n"
    }
   }
  },
  {
   "cell_type": "code",
   "execution_count": 11,
   "outputs": [
    {
     "ename": "TypeError",
     "evalue": "Attempted to reuse key: 'SPRING'",
     "output_type": "error",
     "traceback": [
      "\u001B[0;31m---------------------------------------------------------------------------\u001B[0m",
      "\u001B[0;31mTypeError\u001B[0m                                 Traceback (most recent call last)",
      "Input \u001B[0;32mIn [11]\u001B[0m, in \u001B[0;36m<cell line: 3>\u001B[0;34m()\u001B[0m\n\u001B[1;32m      1\u001B[0m \u001B[38;5;28;01mfrom\u001B[39;00m \u001B[38;5;21;01menum\u001B[39;00m \u001B[38;5;28;01mimport\u001B[39;00m Enum,unique\n\u001B[1;32m      3\u001B[0m \u001B[38;5;129m@unique\u001B[39m\n\u001B[0;32m----> 4\u001B[0m \u001B[38;5;28;01mclass\u001B[39;00m \u001B[38;5;21;01mSeason\u001B[39;00m(Enum):\n\u001B[1;32m      5\u001B[0m     SPRING \u001B[38;5;241m=\u001B[39m \u001B[38;5;241m1\u001B[39m\n\u001B[1;32m      6\u001B[0m     SUMMER \u001B[38;5;241m=\u001B[39m \u001B[38;5;241m2\u001B[39m\n",
      "Input \u001B[0;32mIn [11]\u001B[0m, in \u001B[0;36mSeason\u001B[0;34m()\u001B[0m\n\u001B[1;32m      7\u001B[0m AUTUMN \u001B[38;5;241m=\u001B[39m \u001B[38;5;241m3\u001B[39m\n\u001B[1;32m      8\u001B[0m WINTER \u001B[38;5;241m=\u001B[39m \u001B[38;5;241m4\u001B[39m\n\u001B[0;32m----> 9\u001B[0m SPRING \u001B[38;5;241m=\u001B[39m\u001B[38;5;241m5\u001B[39m\n",
      "File \u001B[0;32m/usr/lib/python3.8/enum.py:112\u001B[0m, in \u001B[0;36m_EnumDict.__setitem__\u001B[0;34m(self, key, value)\u001B[0m\n\u001B[1;32m    109\u001B[0m         key \u001B[38;5;241m=\u001B[39m \u001B[38;5;124m'\u001B[39m\u001B[38;5;124m_order_\u001B[39m\u001B[38;5;124m'\u001B[39m\n\u001B[1;32m    110\u001B[0m \u001B[38;5;28;01melif\u001B[39;00m key \u001B[38;5;129;01min\u001B[39;00m \u001B[38;5;28mself\u001B[39m\u001B[38;5;241m.\u001B[39m_member_names:\n\u001B[1;32m    111\u001B[0m     \u001B[38;5;66;03m# descriptor overwriting an enum?\u001B[39;00m\n\u001B[0;32m--> 112\u001B[0m     \u001B[38;5;28;01mraise\u001B[39;00m \u001B[38;5;167;01mTypeError\u001B[39;00m(\u001B[38;5;124m'\u001B[39m\u001B[38;5;124mAttempted to reuse key: \u001B[39m\u001B[38;5;132;01m%r\u001B[39;00m\u001B[38;5;124m'\u001B[39m \u001B[38;5;241m%\u001B[39m key)\n\u001B[1;32m    113\u001B[0m \u001B[38;5;28;01melif\u001B[39;00m key \u001B[38;5;129;01min\u001B[39;00m \u001B[38;5;28mself\u001B[39m\u001B[38;5;241m.\u001B[39m_ignore:\n\u001B[1;32m    114\u001B[0m     \u001B[38;5;28;01mpass\u001B[39;00m\n",
      "\u001B[0;31mTypeError\u001B[0m: Attempted to reuse key: 'SPRING'"
     ]
    }
   ],
   "source": [
    "from enum import Enum,unique\n",
    "\n",
    "@unique\n",
    "class Season(Enum):\n",
    "    SPRING = 1\n",
    "    SUMMER = 2\n",
    "    AUTUMN = 3\n",
    "    WINTER = 4\n",
    "    SPRING =5"
   ],
   "metadata": {
    "collapsed": false,
    "pycharm": {
     "name": "#%%\n"
    }
   }
  },
  {
   "cell_type": "code",
   "execution_count": 12,
   "outputs": [
    {
     "ename": "ValueError",
     "evalue": "duplicate values found in <enum 'Season'>: TOTO -> SPRING",
     "output_type": "error",
     "traceback": [
      "\u001B[0;31m---------------------------------------------------------------------------\u001B[0m",
      "\u001B[0;31mValueError\u001B[0m                                Traceback (most recent call last)",
      "Input \u001B[0;32mIn [12]\u001B[0m, in \u001B[0;36m<cell line: 3>\u001B[0;34m()\u001B[0m\n\u001B[1;32m      1\u001B[0m \u001B[38;5;28;01mfrom\u001B[39;00m \u001B[38;5;21;01menum\u001B[39;00m \u001B[38;5;28;01mimport\u001B[39;00m Enum,unique\n\u001B[1;32m      3\u001B[0m \u001B[38;5;129;43m@unique\u001B[39;49m\n\u001B[0;32m----> 4\u001B[0m \u001B[38;5;28;43;01mclass\u001B[39;49;00m\u001B[43m \u001B[49m\u001B[38;5;21;43;01mSeason\u001B[39;49;00m\u001B[43m(\u001B[49m\u001B[43mEnum\u001B[49m\u001B[43m)\u001B[49m\u001B[43m:\u001B[49m\n\u001B[1;32m      5\u001B[0m \u001B[43m    \u001B[49m\u001B[43mSPRING\u001B[49m\u001B[43m \u001B[49m\u001B[38;5;241;43m=\u001B[39;49m\u001B[43m \u001B[49m\u001B[38;5;241;43m1\u001B[39;49m\n\u001B[1;32m      6\u001B[0m \u001B[43m    \u001B[49m\u001B[43mSUMMER\u001B[49m\u001B[43m \u001B[49m\u001B[38;5;241;43m=\u001B[39;49m\u001B[43m \u001B[49m\u001B[38;5;241;43m2\u001B[39;49m\n",
      "File \u001B[0;32m/usr/lib/python3.8/enum.py:974\u001B[0m, in \u001B[0;36munique\u001B[0;34m(enumeration)\u001B[0m\n\u001B[1;32m    971\u001B[0m \u001B[38;5;28;01mif\u001B[39;00m duplicates:\n\u001B[1;32m    972\u001B[0m     alias_details \u001B[38;5;241m=\u001B[39m \u001B[38;5;124m'\u001B[39m\u001B[38;5;124m, \u001B[39m\u001B[38;5;124m'\u001B[39m\u001B[38;5;241m.\u001B[39mjoin(\n\u001B[1;32m    973\u001B[0m             [\u001B[38;5;124m\"\u001B[39m\u001B[38;5;132;01m%s\u001B[39;00m\u001B[38;5;124m -> \u001B[39m\u001B[38;5;132;01m%s\u001B[39;00m\u001B[38;5;124m\"\u001B[39m \u001B[38;5;241m%\u001B[39m (alias, name) \u001B[38;5;28;01mfor\u001B[39;00m (alias, name) \u001B[38;5;129;01min\u001B[39;00m duplicates])\n\u001B[0;32m--> 974\u001B[0m     \u001B[38;5;28;01mraise\u001B[39;00m \u001B[38;5;167;01mValueError\u001B[39;00m(\u001B[38;5;124m'\u001B[39m\u001B[38;5;124mduplicate values found in \u001B[39m\u001B[38;5;132;01m%r\u001B[39;00m\u001B[38;5;124m: \u001B[39m\u001B[38;5;132;01m%s\u001B[39;00m\u001B[38;5;124m'\u001B[39m \u001B[38;5;241m%\u001B[39m\n\u001B[1;32m    975\u001B[0m             (enumeration, alias_details))\n\u001B[1;32m    976\u001B[0m \u001B[38;5;28;01mreturn\u001B[39;00m enumeration\n",
      "\u001B[0;31mValueError\u001B[0m: duplicate values found in <enum 'Season'>: TOTO -> SPRING"
     ]
    }
   ],
   "source": [
    "from enum import Enum,unique\n",
    "\n",
    "@unique\n",
    "class Season(Enum):\n",
    "    SPRING = 1\n",
    "    SUMMER = 2\n",
    "    AUTUMN = 3\n",
    "    WINTER = 4\n",
    "    TOTO = 1"
   ],
   "metadata": {
    "collapsed": false,
    "pycharm": {
     "name": "#%%\n"
    }
   }
  },
  {
   "cell_type": "markdown",
   "source": [
    "## 6.3 Custom enum class\n",
    "\n",
    "As we explained, we extend Enum class to create our custom Season class. It inherits all the method of its parent Enum. First let's see which method Enum has implemented\n"
   ],
   "metadata": {
    "collapsed": false,
    "pycharm": {
     "name": "#%% md\n"
    }
   }
  },
  {
   "cell_type": "code",
   "execution_count": 20,
   "outputs": [
    {
     "data": {
      "text/plain": "['__class__', '__doc__', '__members__', '__module__']"
     },
     "execution_count": 20,
     "metadata": {},
     "output_type": "execute_result"
    }
   ],
   "source": [
    "dir(Enum)"
   ],
   "metadata": {
    "collapsed": false,
    "pycharm": {
     "name": "#%%\n"
    }
   }
  },
  {
   "cell_type": "code",
   "execution_count": 23,
   "outputs": [
    {
     "name": "stdout",
     "output_type": "stream",
     "text": [
      "\n",
      "    Generic enumeration.\n",
      "\n",
      "    Derive from this class to define new enumerations.\n",
      "    \n"
     ]
    }
   ],
   "source": [
    "print(Enum.__doc__)"
   ],
   "metadata": {
    "collapsed": false,
    "pycharm": {
     "name": "#%%\n"
    }
   }
  },
  {
   "cell_type": "code",
   "execution_count": 24,
   "outputs": [
    {
     "name": "stdout",
     "output_type": "stream",
     "text": [
      "{'__module__': 'enum', '__doc__': '\\n    Generic enumeration.\\n\\n    Derive from this class to define new enumerations.\\n    ', '__new__': <staticmethod object at 0x7fb59e40f310>, '_generate_next_value_': <function Enum._generate_next_value_ at 0x7fb59e40cee0>, '_missing_': <classmethod object at 0x7fb59e40f1f0>, '__repr__': <function Enum.__repr__ at 0x7fb59e411040>, '__str__': <function Enum.__str__ at 0x7fb59e4110d0>, '__dir__': <function Enum.__dir__ at 0x7fb59e411160>, '__format__': <function Enum.__format__ at 0x7fb59e4111f0>, '__hash__': <function Enum.__hash__ at 0x7fb59e411280>, '__reduce_ex__': <function Enum.__reduce_ex__ at 0x7fb59e411310>, 'name': <types.DynamicClassAttribute object at 0x7fb59e40f220>, 'value': <types.DynamicClassAttribute object at 0x7fb59e40f250>, '__dict__': <attribute '__dict__' of 'Enum' objects>, '__weakref__': <attribute '__weakref__' of 'Enum' objects>, '_member_names_': [], '_member_map_': {}, '_member_type_': <class 'object'>, '_value2member_map_': {}}\n"
     ]
    }
   ],
   "source": [
    "# print Enum class variable dict\n",
    "print(Enum.__dict__)"
   ],
   "metadata": {
    "collapsed": false,
    "pycharm": {
     "name": "#%%\n"
    }
   }
  },
  {
   "cell_type": "markdown",
   "source": [
    "We can add custom method to override it's parent method, below example, we modify the __str__ and __eq__"
   ],
   "metadata": {
    "collapsed": false,
    "pycharm": {
     "name": "#%% md\n"
    }
   }
  },
  {
   "cell_type": "code",
   "execution_count": 26,
   "outputs": [],
   "source": [
    "from enum import Enum,unique\n",
    "\n",
    "@unique\n",
    "class Season3(Enum):\n",
    "    SPRING = 1\n",
    "    SUMMER = 2\n",
    "    AUTUMN = 3\n",
    "    WINTER = 4\n",
    "\n",
    "    # name is SPRING, value is 1\n",
    "    def __str__(self):\n",
    "        return f'{self.name.lower()}({self.value})'\n",
    "\n",
    "    # we compare two season via their index value now\n",
    "    def __eq__(self, other):\n",
    "        if isinstance(other, int):\n",
    "            return self.value == other\n",
    "\n",
    "        if isinstance(other, Season3):\n",
    "            return self is other\n",
    "\n",
    "        return False"
   ],
   "metadata": {
    "collapsed": false,
    "pycharm": {
     "name": "#%%\n"
    }
   }
  },
  {
   "cell_type": "code",
   "execution_count": 27,
   "outputs": [
    {
     "name": "stdout",
     "output_type": "stream",
     "text": [
      "spring(1)\n",
      "spring(1)\n",
      "autumn(3)\n"
     ]
    }
   ],
   "source": [
    "s1=Season3.SPRING\n",
    "\n",
    "s2=Season3(1)\n",
    "\n",
    "s3=Season3(3)\n",
    "\n",
    "print(s1)\n",
    "print(s2)\n",
    "print(s3)"
   ],
   "metadata": {
    "collapsed": false,
    "pycharm": {
     "name": "#%%\n"
    }
   }
  },
  {
   "cell_type": "code",
   "execution_count": 28,
   "outputs": [
    {
     "name": "stdout",
     "output_type": "stream",
     "text": [
      "True\n"
     ]
    }
   ],
   "source": [
    "print(s1==s2)"
   ],
   "metadata": {
    "collapsed": false,
    "pycharm": {
     "name": "#%%\n"
    }
   }
  },
  {
   "cell_type": "code",
   "execution_count": 29,
   "outputs": [
    {
     "name": "stdout",
     "output_type": "stream",
     "text": [
      "False\n"
     ]
    }
   ],
   "source": [
    "print(s1==s3)"
   ],
   "metadata": {
    "collapsed": false,
    "pycharm": {
     "name": "#%%\n"
    }
   }
  },
  {
   "cell_type": "code",
   "execution_count": 30,
   "outputs": [
    {
     "name": "stdout",
     "output_type": "stream",
     "text": [
      "True\n"
     ]
    }
   ],
   "source": [
    "print(s1==1)"
   ],
   "metadata": {
    "collapsed": false,
    "pycharm": {
     "name": "#%%\n"
    }
   }
  },
  {
   "cell_type": "code",
   "execution_count": null,
   "outputs": [],
   "source": [],
   "metadata": {
    "collapsed": false,
    "pycharm": {
     "name": "#%%\n"
    }
   }
  }
 ],
 "metadata": {
  "kernelspec": {
   "display_name": "Python 3",
   "language": "python",
   "name": "python3"
  },
  "language_info": {
   "codemirror_mode": {
    "name": "ipython",
    "version": 2
   },
   "file_extension": ".py",
   "mimetype": "text/x-python",
   "name": "python",
   "nbconvert_exporter": "python",
   "pygments_lexer": "ipython2",
   "version": "2.7.6"
  }
 },
 "nbformat": 4,
 "nbformat_minor": 0
}