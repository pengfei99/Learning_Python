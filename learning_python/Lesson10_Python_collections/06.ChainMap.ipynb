{
 "cells": [
  {
   "cell_type": "markdown",
   "metadata": {
    "collapsed": true,
    "pycharm": {
     "name": "#%% md\n"
    }
   },
   "source": [
    "# 6. ChainMap\n",
    "\n",
    "**ChainMap groups multiple dictionaries and other mappings together to create a single object that works like a regular dictionary**. In other words, it takes several mappings and makes them logically appear as one.\n",
    "\n",
    "ChainMap objects are **updateable views**, which means that changes in any of the chained mappings affect the ChainMap object as a whole. This is because **ChainMap doesn’t merge the input mappings together. It keeps a list of mappings and reimplements common dictionary operations on top of that list.** For example, a key lookup searches the list of mappings successively until it finds the key.\n",
    "\n",
    "For more details, please visit https://realpython.com/python-chainmap/\n"
   ]
  },
  {
   "cell_type": "markdown",
   "source": [
    "## 6.1 Unique keys vs Repeated keys\n",
    "\n",
    "ChainMap objects can have several dictionaries with either **unique** or **repeated** keys. In either case, ChainMap allows you to treat all your dictionaries as one.\n",
    "\n",
    "\n",
    "### Unique keys\n",
    "If across your dictionaries, you only have unique keys, you can access and update the keys as if you were working with a single dictionary.\n",
    "\n",
    "### Repeated keys\n",
    "Besides managing your dictionaries as one, you can also take advantage of the internal list of mappings to define some sort of **access priority**. Because of this feature, ChainMap objects are great for handling multiple contexts."
   ],
   "metadata": {
    "collapsed": false,
    "pycharm": {
     "name": "#%% md\n"
    }
   }
  },
  {
   "cell_type": "markdown",
   "source": [
    "## 6.2 A simple example\n",
    "\n",
    "Say you’re working on a command-line interface (CLI) application. The application allows the user to use a proxy service for connecting to the Internet. The settings priorities are:\n",
    "\n",
    "- Command-line options (--proxy, -p)\n",
    "- Local configuration files in the user’s home directory\n",
    "- Global proxy configuration\n",
    "\n",
    "If the user supplies a proxy at the command line, then the application must use that proxy. Otherwise, the application should use the proxy provided in the next configuration object, and so on. This is one of the most common use cases of ChainMap. In this situation, you can do the following:"
   ],
   "metadata": {
    "collapsed": false,
    "pycharm": {
     "name": "#%% md\n"
    }
   }
  },
  {
   "cell_type": "code",
   "execution_count": 1,
   "outputs": [],
   "source": [
    "from collections import ChainMap"
   ],
   "metadata": {
    "collapsed": false,
    "pycharm": {
     "name": "#%%\n"
    }
   }
  },
  {
   "cell_type": "code",
   "execution_count": 2,
   "outputs": [],
   "source": [
    "cmd_proxy = {}\n",
    "local_proxy = {\"proxy\": \"proxy.local.com\"}\n",
    "global_proxy = {\"proxy\": \"proxy.global.com\"}\n",
    "\n",
    "my_chain = ChainMap(cmd_proxy, local_proxy, global_proxy)"
   ],
   "metadata": {
    "collapsed": false,
    "pycharm": {
     "name": "#%%\n"
    }
   }
  },
  {
   "cell_type": "code",
   "execution_count": 3,
   "outputs": [
    {
     "name": "stdout",
     "output_type": "stream",
     "text": [
      "proxy.local.com\n"
     ]
    }
   ],
   "source": [
    "print(my_chain[\"proxy\"])"
   ],
   "metadata": {
    "collapsed": false,
    "pycharm": {
     "name": "#%%\n"
    }
   }
  },
  {
   "cell_type": "markdown",
   "source": [
    "In the above example, you can notice the order of parameters when we build the ChainMap defines the **priority of the mappings**. In another word, a key lookup of my_chain searches cmd_proxy, then local_proxy, and finally global_proxy, returning the first instance of the key at hand."
   ],
   "metadata": {
    "collapsed": false,
    "pycharm": {
     "name": "#%% md\n"
    }
   }
  },
  {
   "cell_type": "markdown",
   "source": [
    "## 6.3 More features\n",
    "\n",
    "ChainMap provides not only all the dictionary features, it also provides some additional features\n",
    "\n",
    "### 6.3.1 Get list of all mappings\n",
    "\n",
    "The public attribute **.maps** will return the internal list of mappings"
   ],
   "metadata": {
    "collapsed": false,
    "pycharm": {
     "name": "#%% md\n"
    }
   }
  },
  {
   "cell_type": "code",
   "execution_count": 4,
   "outputs": [],
   "source": [
    "numbers = {\"one\": 1, \"two\": 2}\n",
    "letters = {\"a\": \"A\", \"b\": \"B\"}"
   ],
   "metadata": {
    "collapsed": false,
    "pycharm": {
     "name": "#%%\n"
    }
   }
  },
  {
   "cell_type": "code",
   "execution_count": 7,
   "outputs": [],
   "source": [
    "test_chain1 = ChainMap(numbers, letters)"
   ],
   "metadata": {
    "collapsed": false,
    "pycharm": {
     "name": "#%%\n"
    }
   }
  },
  {
   "cell_type": "code",
   "execution_count": 8,
   "outputs": [],
   "source": [
    "res = test_chain1.maps"
   ],
   "metadata": {
    "collapsed": false,
    "pycharm": {
     "name": "#%%\n"
    }
   }
  },
  {
   "cell_type": "code",
   "execution_count": 9,
   "outputs": [
    {
     "name": "stdout",
     "output_type": "stream",
     "text": [
      "<class 'list'>\n"
     ]
    }
   ],
   "source": [
    "print(type(res))"
   ],
   "metadata": {
    "collapsed": false,
    "pycharm": {
     "name": "#%%\n"
    }
   }
  },
  {
   "cell_type": "code",
   "execution_count": 10,
   "outputs": [
    {
     "name": "stdout",
     "output_type": "stream",
     "text": [
      "[{'one': 1, 'two': 2}, {'a': 'A', 'b': 'B'}]\n"
     ]
    }
   ],
   "source": [
    "print(res)"
   ],
   "metadata": {
    "collapsed": false,
    "pycharm": {
     "name": "#%%\n"
    }
   }
  },
  {
   "cell_type": "markdown",
   "source": [
    "The instance attribute .maps gives you access to the internal list of mappings. **This list is updatable**. You can add and remove mappings manually, iterate through the list, and more.\n",
    "\n",
    "In below example, we update the chain map via the list returned by .map. Then we search the keys"
   ],
   "metadata": {
    "collapsed": false,
    "pycharm": {
     "name": "#%% md\n"
    }
   }
  },
  {
   "cell_type": "code",
   "execution_count": 11,
   "outputs": [],
   "source": [
    "phones = {\"toto\": \"061034\", \"titi\": \"0643103434\"}\n",
    "res.append(phones)"
   ],
   "metadata": {
    "collapsed": false,
    "pycharm": {
     "name": "#%%\n"
    }
   }
  },
  {
   "cell_type": "code",
   "execution_count": 12,
   "outputs": [
    {
     "name": "stdout",
     "output_type": "stream",
     "text": [
      "061034\n"
     ]
    }
   ],
   "source": [
    "print(test_chain1[\"toto\"])"
   ],
   "metadata": {
    "collapsed": false,
    "pycharm": {
     "name": "#%%\n"
    }
   }
  },
  {
   "cell_type": "markdown",
   "source": [
    "### 6.3.2 .new_child\n",
    "\n",
    "With .new_child(), you create a new ChainMap object containing a new map (son) followed by all the maps in the current instance. The map passed as a first argument becomes the first map in the list of maps. If you don’t pass a map, then the method uses an empty dictionary.\n"
   ],
   "metadata": {
    "collapsed": false,
    "pycharm": {
     "name": "#%% md\n"
    }
   }
  },
  {
   "cell_type": "code",
   "execution_count": 13,
   "outputs": [
    {
     "name": "stdout",
     "output_type": "stream",
     "text": [
      "ChainMap({'name': 'John', 'age': 35}, {'name': 'Jane', 'age': 31})\n"
     ]
    }
   ],
   "source": [
    "dad = {\"name\": \"John\", \"age\": 35}\n",
    "mom = {\"name\": \"Jane\", \"age\": 31}\n",
    "\n",
    "test_chain2 = ChainMap(dad, mom)\n",
    "print(test_chain2)"
   ],
   "metadata": {
    "collapsed": false,
    "pycharm": {
     "name": "#%%\n"
    }
   }
  },
  {
   "cell_type": "code",
   "execution_count": 16,
   "outputs": [
    {
     "name": "stdout",
     "output_type": "stream",
     "text": [
      "test_chain2 value: ChainMap({'name': 'John', 'age': 35}, {'name': 'Jane', 'age': 31})\n",
      "test_chain3 value: ChainMap({'name': 'titi', 'age': 1}, {'name': 'John', 'age': 35}, {'name': 'Jane', 'age': 31})\n"
     ]
    }
   ],
   "source": [
    "son = {\"name\": \"titi\", \"age\": 1}\n",
    "test_chain3 = test_chain2.new_child(son)\n",
    "\n",
    "print(f\"test_chain2 value: {test_chain2}\")\n",
    "print(f\"test_chain3 value: {test_chain3}\")"
   ],
   "metadata": {
    "collapsed": false,
    "pycharm": {
     "name": "#%%\n"
    }
   }
  },
  {
   "cell_type": "code",
   "execution_count": 17,
   "outputs": [
    {
     "name": "stdout",
     "output_type": "stream",
     "text": [
      "{'name': 'titi', 'age': 1}\n",
      "{'name': 'John', 'age': 35}\n",
      "{'name': 'Jane', 'age': 31}\n"
     ]
    }
   ],
   "source": [
    "# as .map returns a list, we can use for loop\n",
    "for p in test_chain3.maps:\n",
    "    print(p)"
   ],
   "metadata": {
    "collapsed": false,
    "pycharm": {
     "name": "#%%\n"
    }
   }
  },
  {
   "cell_type": "markdown",
   "source": [
    "The **.parents** property returns a new ChainMap objects containing all the maps in the current instance except for the first one. This is useful when you need to skip the first map in a key lookup."
   ],
   "metadata": {
    "collapsed": false,
    "pycharm": {
     "name": "#%% md\n"
    }
   }
  },
  {
   "cell_type": "code",
   "execution_count": 18,
   "outputs": [
    {
     "name": "stdout",
     "output_type": "stream",
     "text": [
      "ChainMap({'name': 'John', 'age': 35}, {'name': 'Jane', 'age': 31})\n"
     ]
    }
   ],
   "source": [
    "print(test_chain3.parents)"
   ],
   "metadata": {
    "collapsed": false,
    "pycharm": {
     "name": "#%%\n"
    }
   }
  },
  {
   "cell_type": "markdown",
   "source": [
    "### 6.3.3 Mutating operations\n",
    "\n",
    "A final feature to highlight in ChainMap is that **mutating operations**, such as\n",
    "- updating keys,\n",
    "- adding new keys,\n",
    "- deleting existing keys,\n",
    "- popping keys\n",
    "- clearing the dictionary,\n",
    "- act on the first mapping in the internal list of mappings"
   ],
   "metadata": {
    "collapsed": false,
    "pycharm": {
     "name": "#%% md\n"
    }
   }
  },
  {
   "cell_type": "code",
   "execution_count": 19,
   "outputs": [
    {
     "name": "stdout",
     "output_type": "stream",
     "text": [
      "ChainMap({'one': 1, 'two': 2}, {'a': 'A', 'b': 'B'}, {'toto': '061034', 'titi': '0643103434'})\n"
     ]
    }
   ],
   "source": [
    "print(test_chain1)"
   ],
   "metadata": {
    "collapsed": false,
    "pycharm": {
     "name": "#%%\n"
    }
   }
  },
  {
   "cell_type": "code",
   "execution_count": 20,
   "outputs": [
    {
     "name": "stdout",
     "output_type": "stream",
     "text": [
      "ChainMap({'one': 1, 'two': 2, 'new_key': 'new_val'}, {'a': 'A', 'b': 'B'}, {'toto': '061034', 'titi': '0643103434'})\n"
     ]
    }
   ],
   "source": [
    "# let's add new key value paires\n",
    "test_chain1[\"new_key\"]=\"new_val\"\n",
    "\n",
    "print(test_chain1)"
   ],
   "metadata": {
    "collapsed": false,
    "pycharm": {
     "name": "#%%\n"
    }
   }
  },
  {
   "cell_type": "markdown",
   "source": [
    "You can notice the new pair is added to the first mapping"
   ],
   "metadata": {
    "collapsed": false,
    "pycharm": {
     "name": "#%% md\n"
    }
   }
  },
  {
   "cell_type": "code",
   "execution_count": 22,
   "outputs": [
    {
     "data": {
      "text/plain": "2"
     },
     "execution_count": 22,
     "metadata": {},
     "output_type": "execute_result"
    }
   ],
   "source": [
    "# pop an existing key out of the chainMap\n",
    "test_chain1.pop(\"two\")"
   ],
   "metadata": {
    "collapsed": false,
    "pycharm": {
     "name": "#%%\n"
    }
   }
  },
  {
   "cell_type": "code",
   "execution_count": 23,
   "outputs": [
    {
     "name": "stdout",
     "output_type": "stream",
     "text": [
      "ChainMap({'one': 1, 'new_key': 'new_val'}, {'a': 'A', 'b': 'B'}, {'toto': '061034', 'titi': '0643103434'})\n"
     ]
    }
   ],
   "source": [
    "print(test_chain1)"
   ],
   "metadata": {
    "collapsed": false,
    "pycharm": {
     "name": "#%%\n"
    }
   }
  },
  {
   "cell_type": "markdown",
   "source": [
    "So far so good, let's try with a key that are in the **second mappings**"
   ],
   "metadata": {
    "collapsed": false,
    "pycharm": {
     "name": "#%% md\n"
    }
   }
  },
  {
   "cell_type": "code",
   "execution_count": 24,
   "outputs": [
    {
     "ename": "KeyError",
     "evalue": "\"Key not found in the first mapping: 'b'\"",
     "output_type": "error",
     "traceback": [
      "\u001B[0;31m---------------------------------------------------------------------------\u001B[0m",
      "\u001B[0;31mKeyError\u001B[0m                                  Traceback (most recent call last)",
      "File \u001B[0;32m/usr/lib/python3.8/collections/__init__.py:965\u001B[0m, in \u001B[0;36mChainMap.pop\u001B[0;34m(self, key, *args)\u001B[0m\n\u001B[1;32m    964\u001B[0m \u001B[38;5;28;01mtry\u001B[39;00m:\n\u001B[0;32m--> 965\u001B[0m     \u001B[38;5;28;01mreturn\u001B[39;00m \u001B[38;5;28;43mself\u001B[39;49m\u001B[38;5;241;43m.\u001B[39;49m\u001B[43mmaps\u001B[49m\u001B[43m[\u001B[49m\u001B[38;5;241;43m0\u001B[39;49m\u001B[43m]\u001B[49m\u001B[38;5;241;43m.\u001B[39;49m\u001B[43mpop\u001B[49m\u001B[43m(\u001B[49m\u001B[43mkey\u001B[49m\u001B[43m,\u001B[49m\u001B[43m \u001B[49m\u001B[38;5;241;43m*\u001B[39;49m\u001B[43margs\u001B[49m\u001B[43m)\u001B[49m\n\u001B[1;32m    966\u001B[0m \u001B[38;5;28;01mexcept\u001B[39;00m \u001B[38;5;167;01mKeyError\u001B[39;00m:\n",
      "\u001B[0;31mKeyError\u001B[0m: 'b'",
      "\nDuring handling of the above exception, another exception occurred:\n",
      "\u001B[0;31mKeyError\u001B[0m                                  Traceback (most recent call last)",
      "Input \u001B[0;32mIn [24]\u001B[0m, in \u001B[0;36m<cell line: 1>\u001B[0;34m()\u001B[0m\n\u001B[0;32m----> 1\u001B[0m \u001B[43mtest_chain1\u001B[49m\u001B[38;5;241;43m.\u001B[39;49m\u001B[43mpop\u001B[49m\u001B[43m(\u001B[49m\u001B[38;5;124;43m\"\u001B[39;49m\u001B[38;5;124;43mb\u001B[39;49m\u001B[38;5;124;43m\"\u001B[39;49m\u001B[43m)\u001B[49m\n",
      "File \u001B[0;32m/usr/lib/python3.8/collections/__init__.py:967\u001B[0m, in \u001B[0;36mChainMap.pop\u001B[0;34m(self, key, *args)\u001B[0m\n\u001B[1;32m    965\u001B[0m     \u001B[38;5;28;01mreturn\u001B[39;00m \u001B[38;5;28mself\u001B[39m\u001B[38;5;241m.\u001B[39mmaps[\u001B[38;5;241m0\u001B[39m]\u001B[38;5;241m.\u001B[39mpop(key, \u001B[38;5;241m*\u001B[39margs)\n\u001B[1;32m    966\u001B[0m \u001B[38;5;28;01mexcept\u001B[39;00m \u001B[38;5;167;01mKeyError\u001B[39;00m:\n\u001B[0;32m--> 967\u001B[0m     \u001B[38;5;28;01mraise\u001B[39;00m \u001B[38;5;167;01mKeyError\u001B[39;00m(\u001B[38;5;124m'\u001B[39m\u001B[38;5;124mKey not found in the first mapping: \u001B[39m\u001B[38;5;132;01m{!r}\u001B[39;00m\u001B[38;5;124m'\u001B[39m\u001B[38;5;241m.\u001B[39mformat(key))\n",
      "\u001B[0;31mKeyError\u001B[0m: \"Key not found in the first mapping: 'b'\""
     ]
    }
   ],
   "source": [
    "test_chain1.pop(\"b\")"
   ],
   "metadata": {
    "collapsed": false,
    "pycharm": {
     "name": "#%%\n"
    }
   }
  },
  {
   "cell_type": "markdown",
   "source": [
    "Oh, it does not work anymore. Because **mutating operations on a ChainMap object only affect the first mapping in the internal list**. If you want to mutate other mapping, you need to use **.maps** to access the list of mappings."
   ],
   "metadata": {
    "collapsed": false,
    "pycharm": {
     "name": "#%% md\n"
    }
   }
  },
  {
   "cell_type": "code",
   "execution_count": 25,
   "outputs": [
    {
     "name": "stdout",
     "output_type": "stream",
     "text": [
      "ChainMap({}, {'a': 'A', 'b': 'B'}, {'toto': '061034', 'titi': '0643103434'})\n"
     ]
    }
   ],
   "source": [
    "test_chain1.clear()\n",
    "print(test_chain1)"
   ],
   "metadata": {
    "collapsed": false,
    "pycharm": {
     "name": "#%%\n"
    }
   }
  },
  {
   "cell_type": "markdown",
   "source": [
    "The Clear operation can only clear the first mapping too."
   ],
   "metadata": {
    "collapsed": false,
    "pycharm": {
     "name": "#%% md\n"
    }
   }
  }
 ],
 "metadata": {
  "kernelspec": {
   "display_name": "Python 3",
   "language": "python",
   "name": "python3"
  },
  "language_info": {
   "codemirror_mode": {
    "name": "ipython",
    "version": 2
   },
   "file_extension": ".py",
   "mimetype": "text/x-python",
   "name": "python",
   "nbconvert_exporter": "python",
   "pygments_lexer": "ipython2",
   "version": "2.7.6"
  }
 },
 "nbformat": 4,
 "nbformat_minor": 0
}