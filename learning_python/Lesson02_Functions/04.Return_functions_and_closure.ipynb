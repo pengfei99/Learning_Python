{
 "cells": [
  {
   "cell_type": "markdown",
   "metadata": {
    "collapsed": true,
    "pycharm": {
     "name": "#%% md\n"
    }
   },
   "source": [
    "# 4. Returning function\n",
    "\n",
    "As functions are objects, we can also return a function from another function. In the below example, the create_adder function returns adder function.\n",
    "\n",
    "## 4.1 Simple example\n",
    "In below example, the counter() function returns another function count"
   ]
  },
  {
   "cell_type": "code",
   "execution_count": 1,
   "outputs": [],
   "source": [
    "def counter(step: int):\n",
    "    def count(start: int):\n",
    "        return start + step\n",
    "\n",
    "    return count"
   ],
   "metadata": {
    "collapsed": false,
    "pycharm": {
     "name": "#%%\n"
    }
   }
  },
  {
   "cell_type": "markdown",
   "source": [
    "You can check the type of c1"
   ],
   "metadata": {
    "collapsed": false,
    "pycharm": {
     "name": "#%% md\n"
    }
   }
  },
  {
   "cell_type": "code",
   "execution_count": 2,
   "outputs": [
    {
     "name": "stdout",
     "output_type": "stream",
     "text": [
      "<class 'function'>\n"
     ]
    }
   ],
   "source": [
    "c1 = counter(step=2)\n",
    "print(type(c1))"
   ],
   "metadata": {
    "collapsed": false,
    "pycharm": {
     "name": "#%%\n"
    }
   }
  },
  {
   "cell_type": "code",
   "execution_count": 3,
   "outputs": [
    {
     "data": {
      "text/plain": "8"
     },
     "execution_count": 3,
     "metadata": {},
     "output_type": "execute_result"
    }
   ],
   "source": [
    "res = c1(start=6)\n",
    "print(type(res))\n",
    "print(res)"
   ],
   "metadata": {
    "collapsed": false,
    "pycharm": {
     "name": "#%%\n"
    }
   }
  },
  {
   "cell_type": "markdown",
   "source": [
    "In fact, the returned function count() is a **nested function** inside counter(). You can also notice that the nested function **can access variables of the enclosing scope**\n"
   ],
   "metadata": {
    "collapsed": false,
    "pycharm": {
     "name": "#%% md\n"
    }
   }
  },
  {
   "cell_type": "markdown",
   "source": [
    "## 4.2 Nonlocal variable in a nested function\n",
    "\n",
    "In previous example, we have seen that **a function defined inside another function (nested function). Nested functions can access variables of the enclosing scope**.\n",
    "\n",
    "In Python, **these non-local variables are read-only by default and we must declare them explicitly as non-local (using nonlocal keyword) in order to modify them**.\n",
    "\n",
    "Consider below example"
   ],
   "metadata": {
    "collapsed": false,
    "pycharm": {
     "name": "#%% md\n"
    }
   }
  },
  {
   "cell_type": "code",
   "source": [
    "def func_1():\n",
    "    x = \"value_defined_by_func_1\"\n",
    "\n",
    "    # define function\n",
    "    def func_2():\n",
    "        x = \"value_defined_by_func_2\"\n",
    "        return x\n",
    "\n",
    "    # run the function\n",
    "    func_2()\n",
    "    return func_2, x"
   ],
   "metadata": {
    "collapsed": false,
    "pycharm": {
     "name": "#%%\n"
    }
   },
   "execution_count": null,
   "outputs": []
  },
  {
   "cell_type": "code",
   "execution_count": 10,
   "outputs": [],
   "source": [
    "f2, x = func_1()\n",
    "\n",
    "print(type(f2))\n",
    "print(type(x))\n",
    "\n",
    "print(f2())\n",
    "print(x)"
   ],
   "metadata": {
    "collapsed": false,
    "pycharm": {
     "name": "#%%\n"
    }
   }
  },
  {
   "cell_type": "markdown",
   "source": [
    "In above example, you can notice that the func_2 does not change the value of x in func_1. This is normal due to the scope of x. But what if I want func_2 change the\n",
    "value of x in func_1. We need to **use the keyword nonlocal**.\n",
    "\n",
    "Check below example."
   ],
   "metadata": {
    "collapsed": false,
    "pycharm": {
     "name": "#%% md\n"
    }
   }
  },
  {
   "cell_type": "code",
   "source": [
    "def func_1():\n",
    "    x = \"value_defined_by_func_1\"\n",
    "\n",
    "    # define a function\n",
    "    def func_2():\n",
    "        nonlocal x\n",
    "        x = \"value_defined_by_func_2\"\n",
    "        return x\n",
    "\n",
    "    # run the function\n",
    "    func_2()\n",
    "    return func_2, x"
   ],
   "metadata": {
    "collapsed": false,
    "pycharm": {
     "name": "#%%\n"
    }
   },
   "execution_count": null,
   "outputs": []
  },
  {
   "cell_type": "code",
   "execution_count": 12,
   "outputs": [],
   "source": [
    "f2, x = func_1()\n",
    "\n",
    "print(f2())\n",
    "print(x)"
   ],
   "metadata": {
    "collapsed": false,
    "pycharm": {
     "name": "#%%\n"
    }
   }
  },
  {
   "cell_type": "markdown",
   "source": [
    "This time the value of x in func_1 has been changed by func_2. This because we declare x as nonlocal in func_2."
   ],
   "metadata": {
    "collapsed": false,
    "pycharm": {
     "name": "#%% md\n"
    }
   }
  },
  {
   "cell_type": "markdown",
   "source": [
    "## 4.3 Closure\n",
    "\n",
    "In above examples, we **attached data to a nested function, then we return the nested function. This technique is called closure in Python.** This **value in the enclosing scope is remembered even when the variable goes out of scope or the function itself is removed from the current namespace**.\n",
    "\n",
    "Try running the following in the Python shell to see the output."
   ],
   "metadata": {
    "collapsed": false,
    "pycharm": {
     "name": "#%% md\n"
    }
   }
  },
  {
   "cell_type": "code",
   "source": [
    "def store_data(data):\n",
    "    def disk():\n",
    "        print(data)\n",
    "\n",
    "    def memory():\n",
    "        print(data)\n",
    "    return disk, memory"
   ],
   "metadata": {
    "collapsed": false,
    "pycharm": {
     "name": "#%%\n"
    }
   },
   "execution_count": 14,
   "outputs": []
  },
  {
   "cell_type": "code",
   "execution_count": 15,
   "outputs": [
    {
     "name": "stdout",
     "output_type": "stream",
     "text": [
      "this is my secret\n",
      "this is my secret\n"
     ]
    }
   ],
   "source": [
    "d1,m1=store_data(\"this is my secret\")\n",
    "d1()\n",
    "m1()"
   ],
   "metadata": {
    "collapsed": false,
    "pycharm": {
     "name": "#%%\n"
    }
   }
  },
  {
   "cell_type": "markdown",
   "source": [
    "So far, nothing special. Let's delete the parent function store_data"
   ],
   "metadata": {
    "collapsed": false,
    "pycharm": {
     "name": "#%% md\n"
    }
   }
  },
  {
   "cell_type": "code",
   "execution_count": 16,
   "outputs": [],
   "source": [
    "del store_data"
   ],
   "metadata": {
    "collapsed": false,
    "pycharm": {
     "name": "#%%\n"
    }
   }
  },
  {
   "cell_type": "code",
   "execution_count": 17,
   "outputs": [
    {
     "ename": "NameError",
     "evalue": "name 'store_data' is not defined",
     "output_type": "error",
     "traceback": [
      "\u001B[0;31m---------------------------------------------------------------------------\u001B[0m",
      "\u001B[0;31mNameError\u001B[0m                                 Traceback (most recent call last)",
      "Input \u001B[0;32mIn [17]\u001B[0m, in \u001B[0;36m<cell line: 1>\u001B[0;34m()\u001B[0m\n\u001B[0;32m----> 1\u001B[0m \u001B[43mstore_data\u001B[49m(\u001B[38;5;124m\"\u001B[39m\u001B[38;5;124mI\u001B[39m\u001B[38;5;124m'\u001B[39m\u001B[38;5;124mm not here\u001B[39m\u001B[38;5;124m\"\u001B[39m)\n",
      "\u001B[0;31mNameError\u001B[0m: name 'store_data' is not defined"
     ]
    }
   ],
   "source": [
    "store_data(\"I'm not here\")"
   ],
   "metadata": {
    "collapsed": false,
    "pycharm": {
     "name": "#%%\n"
    }
   }
  },
  {
   "cell_type": "code",
   "execution_count": 18,
   "outputs": [
    {
     "name": "stdout",
     "output_type": "stream",
     "text": [
      "this is my secret\n",
      "this is my secret\n"
     ]
    }
   ],
   "source": [
    "d1()\n",
    "m1()"
   ],
   "metadata": {
    "collapsed": false,
    "pycharm": {
     "name": "#%%\n"
    }
   }
  },
  {
   "cell_type": "markdown",
   "source": [
    "You can noticed, even the parent get deleted, the returned nested function still works and data is not lost. That's because after the parent return the two nested function. Two new function object has been created with the value of data at the moment of their creation. After that, the two objects are independent."
   ],
   "metadata": {
    "collapsed": false,
    "pycharm": {
     "name": "#%% md\n"
    }
   }
  },
  {
   "cell_type": "markdown",
   "source": [
    "## 4.4 Values of the parent variable"
   ],
   "metadata": {
    "collapsed": false,
    "pycharm": {
     "name": "#%% md\n"
    }
   }
  },
  {
   "cell_type": "markdown",
   "source": [
    "And we must be extremely careful when we use parent variables in nested function. check below example, and check the return value. Do you expect the result would be [1,4,9]?"
   ],
   "metadata": {
    "collapsed": false,
    "pycharm": {
     "name": "#%% md\n"
    }
   }
  },
  {
   "cell_type": "code",
   "source": [
    "def count():\n",
    "    func_list = []\n",
    "    for i in range(1, 4):\n",
    "        def f():\n",
    "            return i * i\n",
    "\n",
    "        func_list.append(f)\n",
    "    return func_list\n",
    "\n",
    "\n",
    "f1, f2, f3 = count()\n",
    "\n",
    "print(f1())\n",
    "print(f2())\n",
    "print(f3())"
   ],
   "metadata": {
    "collapsed": false,
    "pycharm": {
     "name": "#%%\n"
    }
   },
   "execution_count": null,
   "outputs": []
  },
  {
   "cell_type": "markdown",
   "source": [
    "The result is 9,9,9. That's because the nested function are not been executed when they are returned. A function object only gets created and takes the value of i when they are executed. In our case, when they are executed, the loop ends and the value of i is 3.\n",
    "\n",
    "**Rule1: Never use a variable in a nested function whose value changes in an outer loop**\n",
    "\n",
    "If you have to have a loop,"
   ],
   "metadata": {
    "collapsed": false,
    "pycharm": {
     "name": "#%% md\n"
    }
   }
  },
  {
   "cell_type": "code",
   "execution_count": 19,
   "outputs": [],
   "source": [
    "def count():\n",
    "    def f(j):\n",
    "        def g():\n",
    "            return j*j\n",
    "        return g\n",
    "    func_list = []\n",
    "    for i in range(1, 4):\n",
    "        func_list.append(f(i)) # f(i)gets executed, the function object is created with current i value\n",
    "    return func_list"
   ],
   "metadata": {
    "collapsed": false,
    "pycharm": {
     "name": "#%%\n"
    }
   }
  },
  {
   "cell_type": "code",
   "execution_count": 20,
   "outputs": [
    {
     "name": "stdout",
     "output_type": "stream",
     "text": [
      "1\n",
      "4\n",
      "9\n"
     ]
    }
   ],
   "source": [
    "f1,f2,f3=count()\n",
    "print(f1())\n",
    "print(f2())\n",
    "print(f3())"
   ],
   "metadata": {
    "collapsed": false,
    "pycharm": {
     "name": "#%%\n"
    }
   }
  },
  {
   "cell_type": "markdown",
   "source": [
    "## 4.5 When do we have closures?\n",
    "As seen from the above example, we have a closure in Python when a nested function references a value in its enclosing scope.\n",
    "\n",
    "The criteria that must be met to create closure in Python are:.\n",
    "\n",
    "- We must have a nested function (function inside a function).\n",
    "- The nested function must refer to a value defined in the enclosing function.\n",
    "- The enclosing function must return the nested function."
   ],
   "metadata": {
    "collapsed": false,
    "pycharm": {
     "name": "#%% md\n"
    }
   }
  },
  {
   "cell_type": "markdown",
   "source": [
    "## 4.6 When to use closures?\n",
    "So what are closures good for?\n",
    "\n",
    "**Closures can avoid the use of global values and provides some form of data hiding.** It can also provide an object oriented solution to the problem.\n",
    "\n",
    "When there are few methods (one method in most cases) to be implemented in a class, closures can provide an alternate and more elegant solution. But when the number of attributes and methods get larger, it's better to implement a class.\n",
    "\n",
    "**Python Decorators** make an extensive use of closures as well.\n",
    "\n",
    "Here is a simple example where a closure might be more preferable than defining a class and making objects. But the preference is all yours."
   ],
   "metadata": {
    "collapsed": false,
    "pycharm": {
     "name": "#%% md\n"
    }
   }
  },
  {
   "cell_type": "code",
   "execution_count": 22,
   "outputs": [
    {
     "name": "stdout",
     "output_type": "stream",
     "text": [
      "6\n",
      "9\n",
      "10\n",
      "15\n"
     ]
    }
   ],
   "source": [
    "def make_multiplier_of(n):\n",
    "    def multiply(x):\n",
    "        return x*n\n",
    "    return multiply\n",
    "\n",
    "time3=make_multiplier_of(3)\n",
    "time5=make_multiplier_of(5)\n",
    "\n",
    "print(time3(2))\n",
    "print(time3(3))\n",
    "\n",
    "print(time5(2))\n",
    "print(time5(3))"
   ],
   "metadata": {
    "collapsed": false,
    "pycharm": {
     "name": "#%%\n"
    }
   }
  },
  {
   "cell_type": "code",
   "execution_count": null,
   "outputs": [],
   "source": [],
   "metadata": {
    "collapsed": false,
    "pycharm": {
     "name": "#%%\n"
    }
   }
  }
 ],
 "metadata": {
  "kernelspec": {
   "display_name": "Python 3",
   "language": "python",
   "name": "python3"
  },
  "language_info": {
   "codemirror_mode": {
    "name": "ipython",
    "version": 2
   },
   "file_extension": ".py",
   "mimetype": "text/x-python",
   "name": "python",
   "nbconvert_exporter": "python",
   "pygments_lexer": "ipython2",
   "version": "2.7.6"
  }
 },
 "nbformat": 4,
 "nbformat_minor": 0
}