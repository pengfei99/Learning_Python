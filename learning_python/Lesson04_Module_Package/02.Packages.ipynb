{
 "cells": [
  {
   "cell_type": "markdown",
   "metadata": {
    "collapsed": true,
    "pycharm": {
     "name": "#%% md\n"
    }
   },
   "source": [
    "# 2. Python Packages\n",
    "\n",
    "Suppose you have developed a very large application that includes many modules. As the number of modules grows, it becomes difficult to keep track of them all if they are dumped into one location. This is particularly so if they have similar names or functionality. You might wish for a means of grouping and organizing them.\n",
    "\n",
    "Packages allow for a hierarchical structuring of the module namespace using dot notation. In the same way that modules help avoid collisions between global variable names, packages help avoid collisions between module names.\n",
    "\n",
    "Creating a package is quite straightforward, since it makes use of the operating system’s inherent hierarchical file structure. Consider the following arrangement:\n",
    "\n",
    "```text\n",
    "pkg\n",
    "├── mod1.py\n",
    "└── mod2.py\n",
    "```\n",
    "\n",
    "In mod1.py\n",
    "\n",
    "```python\n",
    "def mod1_func():\n",
    "    print('This is [mod1] function()')\n",
    "\n",
    "\n",
    "class Mod1Class:\n",
    "    pass\n",
    "\n",
    "\n",
    "```\n",
    "\n",
    "In mod2.py\n",
    "\n",
    "```python\n",
    "\n",
    "def mod2_func():\n",
    "    print('This is [mod2] function()')\n",
    "\n",
    "\n",
    "class Mod2Class:\n",
    "    pass\n",
    "\n",
    "```\n",
    "\n",
    "## 2.1 Import package\n",
    "\n",
    "Given this structure, if the pkg directory resides in a location where it can be found (in one of the directories contained in sys.path), you can refer to the two modules with dot notation (pkg.mod1, pkg.mod2) and import them with the syntax you are already familiar with:\n",
    "\n",
    "```text\n",
    "# as the two module are in the same package, so it's ok to import them in one import line\n",
    "import <module_name>[, <module_name> ...]\n",
    "```\n"
   ]
  },
  {
   "cell_type": "code",
   "execution_count": 7,
   "outputs": [
    {
     "name": "stdout",
     "output_type": "stream",
     "text": [
      "This is [mod1] function()\n",
      "This is [mod2] function()\n"
     ]
    }
   ],
   "source": [
    "from learning_python.Lesson04_Module_Package.src import pkg\n",
    "\n",
    "pkg.mod1.mod1_func()\n",
    "\n",
    "pkg.mod2.mod2_func()"
   ],
   "metadata": {
    "collapsed": false,
    "pycharm": {
     "name": "#%%\n"
    }
   }
  },
  {
   "cell_type": "code",
   "execution_count": 8,
   "outputs": [
    {
     "data": {
      "text/plain": "<module 'learning_python.Lesson04_Module_Package.src.pkg.mod1' from '/home/pliu/git/Learning_Python/learning_python/Lesson04_Module_Package/src/pkg/mod1.py'>"
     },
     "execution_count": 8,
     "metadata": {},
     "output_type": "execute_result"
    }
   ],
   "source": [
    "pkg.mod1"
   ],
   "metadata": {
    "collapsed": false,
    "pycharm": {
     "name": "#%%\n"
    }
   }
  },
  {
   "cell_type": "markdown",
   "source": [
    "\n",
    "We have seen the `import pkg` doesn’t do much of anything useful. In particular, it does not place any of the modules in pkg into the local namespace. We have to give the complete path of the module to use objects inside the module.\n",
    "\n",
    "To actually import the modules or their contents, you need to use more specific import"
   ],
   "metadata": {
    "collapsed": false,
    "pycharm": {
     "name": "#%% md\n"
    }
   }
  },
  {
   "cell_type": "code",
   "execution_count": 9,
   "outputs": [
    {
     "name": "stdout",
     "output_type": "stream",
     "text": [
      "This is [mod1] function()\n",
      "This is [mod2] function()\n"
     ]
    }
   ],
   "source": [
    "from learning_python.Lesson04_Module_Package.src.pkg.mod1 import mod1_func\n",
    "from learning_python.Lesson04_Module_Package.src.pkg.mod2 import mod2_func\n",
    "\n",
    "mod1_func()\n",
    "mod2_func()"
   ],
   "metadata": {
    "collapsed": false,
    "pycharm": {
     "name": "#%%\n"
    }
   }
  },
  {
   "cell_type": "markdown",
   "source": [
    "## 2.2 Package Initialization\n",
    "\n",
    "If a file named __init__.py is present in a package directory, it is invoked when the package or a module in the package is imported. This can be used for execution of package initialization code, such as initialization of package-level data.\n",
    "\n",
    "For example, consider the following __init__.py file has been added to pkg folder.\n",
    "\n",
    "```python\n",
    "print(f'Invoking __init__.py for {__name__}')\n",
    "pkg_data = ['data', 'of', 'package']\n",
    "```\n",
    "\n",
    "Now when the package is imported, the global list pkg_data is initialized:"
   ],
   "metadata": {
    "collapsed": false,
    "pycharm": {
     "name": "#%% md\n"
    }
   }
  },
  {
   "cell_type": "code",
   "execution_count": 11,
   "outputs": [
    {
     "name": "stdout",
     "output_type": "stream",
     "text": [
      "Invoking __init__.py for learning_python.Lesson04_Module_Package.src.pkg\n"
     ]
    },
    {
     "data": {
      "text/plain": "['data', 'of', 'package']"
     },
     "execution_count": 11,
     "metadata": {},
     "output_type": "execute_result"
    }
   ],
   "source": [
    "from learning_python.Lesson04_Module_Package.src import pkg\n",
    "# we need to reload the pkg to see the content of __init__. Because we have imported pkg once\n",
    "# remember the package or module code only get load once after the first import. If your package code changes, you need to reload it\n",
    "# to see the new version\n",
    "import importlib\n",
    "importlib.reload(pkg)\n",
    "pkg.pkg_data"
   ],
   "metadata": {
    "collapsed": false,
    "pycharm": {
     "name": "#%%\n"
    }
   }
  },
  {
   "cell_type": "markdown",
   "source": [
    "### 2.2.1 Use __init__ to pass global variable\n",
    "\n",
    "A module in the package can access the global variable defined in __init__ by importing it. Modify the mod1.py and mod2.py, and following line to mod1\n",
    "\n",
    "```python\n",
    "def show_global_var():\n",
    "    from learning_python.Lesson04_Module_Package.src.pkg import pkg_data\n",
    "    print(f\"The global var imported from pkg: {pkg_data}\")\n",
    "```"
   ],
   "metadata": {
    "collapsed": false,
    "pycharm": {
     "name": "#%% md\n"
    }
   }
  },
  {
   "cell_type": "code",
   "execution_count": 12,
   "outputs": [
    {
     "name": "stdout",
     "output_type": "stream",
     "text": [
      "The global var imported from pkg: ['data', 'of', 'package']\n"
     ]
    }
   ],
   "source": [
    "from learning_python.Lesson04_Module_Package.src.pkg import mod1\n",
    "import importlib\n",
    "importlib.reload(mod1)\n",
    "mod1.show_global_var()\n"
   ],
   "metadata": {
    "collapsed": false,
    "pycharm": {
     "name": "#%%\n"
    }
   }
  },
  {
   "cell_type": "markdown",
   "source": [
    "### 2.2.2 Use __init__ to import module\n",
    "__init__.py can also be used to effect automatic importing of modules from a package. For example, earlier you saw that the statement import pkg only places the name pkg in the caller’s local symbol table and doesn’t import any modules. But if __init__.py in the pkg directory contains the following:\n",
    "\n",
    "```python\n",
    "from learning_python.Lesson04_Module_Package.src.pkg import mod1, mod2\n",
    "```\n",
    "\n",
    "then when you execute import pkg, modules mod1 and mod2 are imported automatically:"
   ],
   "metadata": {
    "collapsed": false,
    "pycharm": {
     "name": "#%% md\n"
    }
   }
  },
  {
   "cell_type": "code",
   "execution_count": 13,
   "outputs": [
    {
     "name": "stdout",
     "output_type": "stream",
     "text": [
      "This is [mod1] function()\n",
      "This is [mod2] function()\n"
     ]
    }
   ],
   "source": [
    "from learning_python.Lesson04_Module_Package.src import pkg\n",
    "\n",
    "pkg.mod1.mod1_func()\n",
    "pkg.mod2.mod2_func()"
   ],
   "metadata": {
    "collapsed": false,
    "pycharm": {
     "name": "#%%\n"
    }
   }
  },
  {
   "cell_type": "markdown",
   "source": [
    "## 2.3 Use wildcard to import package\n",
    "\n",
    "Before we start, let's add some new module into the package. The new package should look like this:\n",
    "```text\n",
    "├── pkg\n",
    "│   ├── __init__.py\n",
    "│   ├── mod1.py\n",
    "│   ├── mod2.py\n",
    "│   ├── mod3.py\n",
    "│   ├── mod4.py\n",
    "│   ├── mod5.py\n",
    "\n",
    "```\n",
    "\n",
    "You have already seen that when `wildcard(*)` is used for a module, all objects from the module are imported into the local symbol table, except those whose names begin with an underscore(_).\n",
    "\n",
    "We can also use `wildcard(*)` for a package. Let's try it"
   ],
   "metadata": {
    "collapsed": false,
    "pycharm": {
     "name": "#%% md\n"
    }
   }
  },
  {
   "cell_type": "code",
   "execution_count": 1,
   "outputs": [
    {
     "data": {
      "text/plain": "['In',\n 'Out',\n '_',\n '__',\n '___',\n '__builtin__',\n '__builtins__',\n '__doc__',\n '__loader__',\n '__name__',\n '__package__',\n '__spec__',\n '_dh',\n '_i',\n '_i1',\n '_ih',\n '_ii',\n '_iii',\n '_oh',\n 'exit',\n 'get_ipython',\n 'pydev_jupyter_utils',\n 'quit',\n 'remove_imported_pydev_package',\n 'sys']"
     },
     "execution_count": 1,
     "metadata": {},
     "output_type": "execute_result"
    }
   ],
   "source": [
    "# you need to restart your jupyter to clear your namespace\n",
    "# check the imported module before import\n",
    "dir()"
   ],
   "metadata": {
    "collapsed": false,
    "pycharm": {
     "name": "#%%\n"
    }
   }
  },
  {
   "cell_type": "code",
   "execution_count": 2,
   "outputs": [
    {
     "name": "stdout",
     "output_type": "stream",
     "text": [
      "Invoking __init__.py for learning_python.Lesson04_Module_Package.src.pkg\n"
     ]
    },
    {
     "data": {
      "text/plain": "['In',\n 'Out',\n '_',\n '_1',\n '__',\n '___',\n '__builtin__',\n '__builtins__',\n '__doc__',\n '__loader__',\n '__name__',\n '__package__',\n '__spec__',\n '_dh',\n '_i',\n '_i1',\n '_i2',\n '_ih',\n '_ii',\n '_iii',\n '_oh',\n '_pydevd_bundle',\n 'exit',\n 'get_ipython',\n 'learning_python',\n 'pydev_jupyter_utils',\n 'pydev_jupyter_vars',\n 'quit',\n 'remove_imported_pydev_package',\n 'sys']"
     },
     "execution_count": 2,
     "metadata": {},
     "output_type": "execute_result"
    }
   ],
   "source": [
    "# now let's check what the wildcard import could import to our name space\n",
    "from learning_python.Lesson04_Module_Package.src.pkg import *\n",
    "dir()"
   ],
   "metadata": {
    "collapsed": false,
    "pycharm": {
     "name": "#%%\n"
    }
   }
  },
  {
   "cell_type": "markdown",
   "source": [
    "Hmph. Not much. You might have expected (assuming you had any expectations at all) that Python would dive into the package directory, find all the modules it could, and import them all. But as you can see, by default that is not what happens.\n",
    "\n",
    "In fact, Python follows this convention:\n",
    "1. check if the __init__.py file in the package directory contains a list named __all__,\n",
    "2. if yes, it is taken to be a list of modules that should be imported when the statement from <package_name> import * is encountered.\n",
    "3. if no, do nothing\n",
    "\n",
    "So if we want the wildcard to work, we need to add below code to the __init__:\n",
    "\n",
    "```python\n",
    "__all__ = [\n",
    "        'mod1',\n",
    "        'mod2',\n",
    "        'mod3',\n",
    "        'mod4',\n",
    "        'mod5'\n",
    "        ]\n",
    "```"
   ],
   "metadata": {
    "collapsed": false,
    "pycharm": {
     "name": "#%% md\n"
    }
   }
  },
  {
   "cell_type": "code",
   "execution_count": 1,
   "outputs": [
    {
     "name": "stdout",
     "output_type": "stream",
     "text": [
      "Invoking __init__.py for learning_python.Lesson04_Module_Package.src.pkg\n"
     ]
    },
    {
     "data": {
      "text/plain": "['In',\n 'Out',\n '_',\n '__',\n '___',\n '__builtin__',\n '__builtins__',\n '__doc__',\n '__loader__',\n '__name__',\n '__package__',\n '__spec__',\n '_dh',\n '_i',\n '_i1',\n '_ih',\n '_ii',\n '_iii',\n '_oh',\n 'exit',\n 'get_ipython',\n 'mod1',\n 'mod2',\n 'mod3',\n 'mod4',\n 'mod5',\n 'quit']"
     },
     "execution_count": 1,
     "metadata": {},
     "output_type": "execute_result"
    }
   ],
   "source": [
    "from learning_python.Lesson04_Module_Package.src.pkg import *\n",
    "dir()"
   ],
   "metadata": {
    "collapsed": false,
    "pycharm": {
     "name": "#%%\n"
    }
   }
  },
  {
   "cell_type": "markdown",
   "source": [
    "Now, you can find  ['mod1', 'mod2', 'mod3', 'mod4', 'mod5'] are in our namespace"
   ],
   "metadata": {
    "collapsed": false,
    "pycharm": {
     "name": "#%% md\n"
    }
   }
  },
  {
   "cell_type": "markdown",
   "source": [
    "Using import * still isn’t considered terrific form, any more for packages than for modules. But this facility at least gives the creator of the package some control over what happens when import * is specified. (In fact, it provides the capability to disallow it entirely, simply by declining to define __all__ at all. As you have seen, the default behavior for packages is to import nothing.)\n",
    "\n",
    "By the way, __all__ can be defined in a module as well and serves the same purpose: to control what is imported with import *. For example, modify mod1.py as follows:\n",
    "\n",
    "```python\n",
    "__all__ = ['mod1_func']\n",
    "```\n",
    "\n",
    "Now when we do `from pkg.mod1 import *`, it will only import what is contained in __all__\n",
    "\n",
    "In summary,\n",
    "\n",
    "__all__ is used by both packages and modules to control what is imported when import * is specified. But the default behavior differs:\n",
    "\n",
    "- For a package, when __all__ is not defined, import * does not import anything.\n",
    "- For a module, when __all__ is not defined, import * imports everything (except—you guessed it—names starting with an underscore)."
   ],
   "metadata": {
    "collapsed": false,
    "pycharm": {
     "name": "#%% md\n"
    }
   }
  },
  {
   "cell_type": "markdown",
   "source": [
    "## 2.4 Sub package\n",
    "\n",
    "Packages can contain nested subpackages to arbitrary depth.\n",
    "\n",
    "Importing still works the same as shown previously. Syntax is similar, but additional dot notation is used to separate package name from subpackage name\n",
    "\n",
    "In addition, a module in one subpackage can reference objects in a sibling subpackage (in the event that the sibling contains some functionality that you need). For example, suppose you want to import and execute function mod1_func() (defined in module mod1) from within module mod6. You can use\n",
    "- an absolute import: `from learning_python.Lesson04_Module_Package.src.pkg.mod1 import mod1_func`\n",
    "- an relative import : `from ..mod1 import mod1_func`. Just like in file system `.` means current package/subpackage, where `..` refers to the package one level up"
   ],
   "metadata": {
    "collapsed": false,
    "pycharm": {
     "name": "#%% md\n"
    }
   }
  },
  {
   "cell_type": "code",
   "execution_count": null,
   "outputs": [],
   "source": [],
   "metadata": {
    "collapsed": false,
    "pycharm": {
     "name": "#%%\n"
    }
   }
  }
 ],
 "metadata": {
  "kernelspec": {
   "display_name": "Python 3",
   "language": "python",
   "name": "python3"
  },
  "language_info": {
   "codemirror_mode": {
    "name": "ipython",
    "version": 2
   },
   "file_extension": ".py",
   "mimetype": "text/x-python",
   "name": "python",
   "nbconvert_exporter": "python",
   "pygments_lexer": "ipython2",
   "version": "2.7.6"
  }
 },
 "nbformat": 4,
 "nbformat_minor": 0
}