{
 "cells": [
  {
   "cell_type": "markdown",
   "metadata": {
    "collapsed": true,
    "pycharm": {
     "name": "#%% md\n"
    }
   },
   "source": [
    "# 10 List Generator\n",
    "\n",
    "In section 09, we have seen list comprehension. List comprehensions are useful and can help you write elegant code that’s easy to read and debug, but they’re not the right choice for all circumstances.\n",
    "\n",
    "For example, when you handle a big list, list comprehension may consume all your memory. Because **A list comprehension in Python works by loading the entire output list into memory**.\n",
    "\n",
    "To solve this problem, we need to use a **generator** instead of a list comprehension. **A generator doesn’t create a single, large data structure in memory, but instead returns an iterable**."
   ]
  },
  {
   "cell_type": "markdown",
   "source": [
    "## 10.1 Create a list generator\n",
    "\n",
    "There are many ways to create a generator，the simplest way is to use below expression\n",
    "\n",
    "```python\n",
    "(expression for member in iterable)\n",
    "```\n",
    "- expression: is the member itself, a call to a method, or any other valid expression that returns a value.\n",
    "- member: is the object or value in the list or iterable. In the example above, the member value is i.\n",
    "- iterable: is a list, set, sequence, generator, or any other object that can return its elements one at a time.\n",
    "\n",
    "Check the below example, and notice the difference between their types\n",
    "- list_comprehension is a list\n",
    "- list_generator is a generator(iterator)"
   ],
   "metadata": {
    "collapsed": false,
    "pycharm": {
     "name": "#%% md\n"
    }
   }
  },
  {
   "cell_type": "code",
   "execution_count": 4,
   "outputs": [
    {
     "name": "stdout",
     "output_type": "stream",
     "text": [
      "<class 'list'>\n",
      "<class 'generator'>\n"
     ]
    }
   ],
   "source": [
    "list_comprehension = [x * x for x in range(10)]\n",
    "print(type(list_comprehension))\n",
    "\n",
    "list_generator = (x * x for x in range(10))\n",
    "print(type(list_generator))"
   ],
   "metadata": {
    "collapsed": false,
    "pycharm": {
     "name": "#%%\n"
    }
   }
  },
  {
   "cell_type": "markdown",
   "source": [
    "Unlike list, generator does not have a **toString method** to print it's content. That's because it does not know the content, it only memorises the function on how to calculate the next item, so it does not know the entire list. To get the next element, we need to call **next()**"
   ],
   "metadata": {
    "collapsed": false,
    "pycharm": {
     "name": "#%% md\n"
    }
   }
  },
  {
   "cell_type": "code",
   "execution_count": 5,
   "outputs": [
    {
     "name": "stdout",
     "output_type": "stream",
     "text": [
      "<generator object <genexpr> at 0x7f8d20161c80>\n"
     ]
    }
   ],
   "source": [
    "print(list_generator)"
   ],
   "metadata": {
    "collapsed": false,
    "pycharm": {
     "name": "#%%\n"
    }
   }
  },
  {
   "cell_type": "code",
   "execution_count": 6,
   "outputs": [
    {
     "name": "stdout",
     "output_type": "stream",
     "text": [
      "0\n"
     ]
    }
   ],
   "source": [
    "print(next(list_generator))"
   ],
   "metadata": {
    "collapsed": false,
    "pycharm": {
     "name": "#%%\n"
    }
   }
  },
  {
   "cell_type": "markdown",
   "source": [
    "Notice the index of generator starts from the first element of the list, and increments 1 after we call next. So if we call next() again, it will return the 2nd element"
   ],
   "metadata": {
    "collapsed": false,
    "pycharm": {
     "name": "#%% md\n"
    }
   }
  },
  {
   "cell_type": "code",
   "execution_count": 7,
   "outputs": [
    {
     "name": "stdout",
     "output_type": "stream",
     "text": [
      "1\n"
     ]
    }
   ],
   "source": [
    "print(next(list_generator))"
   ],
   "metadata": {
    "collapsed": false,
    "pycharm": {
     "name": "#%%\n"
    }
   }
  },
  {
   "cell_type": "markdown",
   "source": [
    "If the next element is out of the list range, you will receive **StopIteration error**"
   ],
   "metadata": {
    "collapsed": false,
    "pycharm": {
     "name": "#%% md\n"
    }
   }
  },
  {
   "cell_type": "code",
   "execution_count": 9,
   "outputs": [
    {
     "name": "stdout",
     "output_type": "stream",
     "text": [
      "\n"
     ]
    }
   ],
   "source": [
    "try:\n",
    "    while True:\n",
    "        print(next(list_generator))\n",
    "except StopIteration as e:\n",
    "    print(e)"
   ],
   "metadata": {
    "collapsed": false,
    "pycharm": {
     "name": "#%%\n"
    }
   }
  },
  {
   "cell_type": "markdown",
   "source": [
    "To avoid this, you can use the **for loop to handle the iteration without receiving error**, and **you don't need to call the next() method anymore**.\n",
    "Note **generator is unidirectional (just like any normal iterator), you can not go back. If you want to start from the beginning again, you need to create a new generator."
   ],
   "metadata": {
    "collapsed": false,
    "pycharm": {
     "name": "#%% md\n"
    }
   }
  },
  {
   "cell_type": "code",
   "execution_count": 10,
   "outputs": [
    {
     "name": "stdout",
     "output_type": "stream",
     "text": [
      "0\n",
      "1\n",
      "4\n",
      "9\n",
      "16\n",
      "25\n",
      "36\n",
      "49\n",
      "64\n",
      "81\n"
     ]
    }
   ],
   "source": [
    "list_generator = (x * x for x in range(10))\n",
    "for item in list_generator:\n",
    "    print(item)"
   ],
   "metadata": {
    "collapsed": false,
    "pycharm": {
     "name": "#%%\n"
    }
   }
  },
  {
   "cell_type": "markdown",
   "source": [
    "## 10.2 Generators function in Python\n",
    "\n",
    "There is a lot of work in building an iterator in Python. **We have to implement a class with __iter__() and __next__() method, keep track of internal states, and raise StopIteration when there are no values to be returned**.\n",
    "\n",
    "This is both lengthy and counterintuitive. Generator comes to the rescue in such situations.\n",
    "\n",
    "Python generators are a simple way of creating iterators. All the work we mentioned above are automatically handled by generators in Python.\n",
    "\n",
    "Simply speaking, **a generator is a function that returns an object (iterator) which we can iterate over (one value at a time).**"
   ],
   "metadata": {
    "collapsed": false,
    "pycharm": {
     "name": "#%% md\n"
    }
   }
  },
  {
   "cell_type": "code",
   "execution_count": 15,
   "outputs": [],
   "source": [
    "def fib(max):\n",
    "    a, b, n = 0,1,0\n",
    "    while n < max:\n",
    "        print(b)\n",
    "        a,b=b,a+b\n",
    "        n+=1\n",
    "    return 'done'"
   ],
   "metadata": {
    "collapsed": false,
    "pycharm": {
     "name": "#%%\n"
    }
   }
  },
  {
   "cell_type": "code",
   "execution_count": 16,
   "outputs": [
    {
     "name": "stdout",
     "output_type": "stream",
     "text": [
      "1\n",
      "1\n",
      "2\n",
      "3\n",
      "5\n"
     ]
    },
    {
     "data": {
      "text/plain": "'done'"
     },
     "execution_count": 16,
     "metadata": {},
     "output_type": "execute_result"
    }
   ],
   "source": [
    "fib(5)"
   ],
   "metadata": {
    "collapsed": false,
    "pycharm": {
     "name": "#%%\n"
    }
   }
  },
  {
   "cell_type": "markdown",
   "source": [
    "Note the expression `a,b=b,a+b` is similar\n",
    "\n",
    "```\n",
    "t = (b, a + b) # t is a tuple\n",
    "a = t[0]\n",
    "b = t[1]\n",
    "```"
   ],
   "metadata": {
    "collapsed": false,
    "pycharm": {
     "name": "#%% md\n"
    }
   }
  },
  {
   "cell_type": "code",
   "execution_count": null,
   "outputs": [],
   "source": [],
   "metadata": {
    "collapsed": false,
    "pycharm": {
     "name": "#%%\n"
    }
   }
  }
 ],
 "metadata": {
  "kernelspec": {
   "display_name": "Python 3",
   "language": "python",
   "name": "python3"
  },
  "language_info": {
   "codemirror_mode": {
    "name": "ipython",
    "version": 2
   },
   "file_extension": ".py",
   "mimetype": "text/x-python",
   "name": "python",
   "nbconvert_exporter": "python",
   "pygments_lexer": "ipython2",
   "version": "2.7.6"
  }
 },
 "nbformat": 4,
 "nbformat_minor": 0
}