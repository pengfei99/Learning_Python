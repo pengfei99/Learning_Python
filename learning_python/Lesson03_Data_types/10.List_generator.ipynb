{
 "cells": [
  {
   "cell_type": "markdown",
   "metadata": {
    "collapsed": true,
    "pycharm": {
     "name": "#%% md\n"
    }
   },
   "source": [
    "# 10 List Generator\n",
    "\n",
    "In section 09, we have seen list comprehension. List comprehensions are useful and can help you write elegant code that’s easy to read and debug, but they’re not the right choice for all circumstances.\n",
    "\n",
    "For example, when you handle a big list, list comprehension may consume all your memory. Because **A list comprehension in Python works by loading the entire output list into memory**.\n",
    "\n",
    "To solve this problem, we need to use a **generator** instead of a list comprehension. **A generator doesn’t create a single, large data structure in memory, but instead returns an iterable**."
   ]
  },
  {
   "cell_type": "markdown",
   "source": [
    "## 10.1 Create a list generator\n",
    "\n",
    "There are many ways to create a generator，the simplest way is to use below expression\n",
    "\n",
    "```python\n",
    "(expression for member in iterable)\n",
    "```\n",
    "- expression: is the member itself, a call to a method, or any other valid expression that returns a value.\n",
    "- member: is the object or value in the list or iterable. In the example above, the member value is i.\n",
    "- iterable: is a list, set, sequence, generator, or any other object that can return its elements one at a time.\n",
    "\n",
    "Check the below example, and notice the difference between their types\n",
    "- list_comprehension is a list\n",
    "- list_generator is a generator(iterator)"
   ],
   "metadata": {
    "collapsed": false,
    "pycharm": {
     "name": "#%% md\n"
    }
   }
  },
  {
   "cell_type": "code",
   "execution_count": 4,
   "outputs": [
    {
     "name": "stdout",
     "output_type": "stream",
     "text": [
      "<class 'list'>\n",
      "<class 'generator'>\n"
     ]
    }
   ],
   "source": [
    "from collections.abc import generator\n",
    "\n",
    "list_comprehension = [x * x for x in range(10)]\n",
    "print(type(list_comprehension))\n",
    "\n",
    "list_generator = (x * x for x in range(10))\n",
    "print(type(list_generator))"
   ],
   "metadata": {
    "collapsed": false,
    "pycharm": {
     "name": "#%%\n"
    }
   }
  },
  {
   "cell_type": "markdown",
   "source": [
    "Unlike list, generator does not have a **toString method** to print it's content. That's because it does not know the content, it only memorises the function on how to calculate the next item, so it does not know the entire list. To get the next element, we need to call **next()**"
   ],
   "metadata": {
    "collapsed": false,
    "pycharm": {
     "name": "#%% md\n"
    }
   }
  },
  {
   "cell_type": "code",
   "execution_count": 5,
   "outputs": [
    {
     "name": "stdout",
     "output_type": "stream",
     "text": [
      "<generator object <genexpr> at 0x7f8d20161c80>\n"
     ]
    }
   ],
   "source": [
    "print(list_generator)"
   ],
   "metadata": {
    "collapsed": false,
    "pycharm": {
     "name": "#%%\n"
    }
   }
  },
  {
   "cell_type": "code",
   "execution_count": 6,
   "outputs": [
    {
     "name": "stdout",
     "output_type": "stream",
     "text": [
      "0\n"
     ]
    }
   ],
   "source": [
    "print(next(list_generator))"
   ],
   "metadata": {
    "collapsed": false,
    "pycharm": {
     "name": "#%%\n"
    }
   }
  },
  {
   "cell_type": "markdown",
   "source": [
    "Notice the index of generator starts from the first element of the list, and increments 1 after we call next. So if we call next() again, it will return the 2nd element"
   ],
   "metadata": {
    "collapsed": false,
    "pycharm": {
     "name": "#%% md\n"
    }
   }
  },
  {
   "cell_type": "code",
   "execution_count": 7,
   "outputs": [
    {
     "name": "stdout",
     "output_type": "stream",
     "text": [
      "1\n"
     ]
    }
   ],
   "source": [
    "print(next(list_generator))"
   ],
   "metadata": {
    "collapsed": false,
    "pycharm": {
     "name": "#%%\n"
    }
   }
  },
  {
   "cell_type": "markdown",
   "source": [
    "If the next element is out of the list range, you will receive **StopIteration error**"
   ],
   "metadata": {
    "collapsed": false,
    "pycharm": {
     "name": "#%% md\n"
    }
   }
  },
  {
   "cell_type": "code",
   "execution_count": 9,
   "outputs": [
    {
     "name": "stdout",
     "output_type": "stream",
     "text": [
      "\n"
     ]
    }
   ],
   "source": [
    "try:\n",
    "    while True:\n",
    "        print(next(list_generator))\n",
    "except StopIteration as e:\n",
    "    print(e)"
   ],
   "metadata": {
    "collapsed": false,
    "pycharm": {
     "name": "#%%\n"
    }
   }
  },
  {
   "cell_type": "markdown",
   "source": [
    "To avoid this, you can use the **for loop to handle the iteration without receiving error**, and **you don't need to call the next() method anymore**.\n",
    "Note **generator is unidirectional (just like any normal iterator), you can not go back. If you want to start from the beginning again, you need to create a new generator."
   ],
   "metadata": {
    "collapsed": false,
    "pycharm": {
     "name": "#%% md\n"
    }
   }
  },
  {
   "cell_type": "code",
   "execution_count": 10,
   "outputs": [
    {
     "name": "stdout",
     "output_type": "stream",
     "text": [
      "0\n",
      "1\n",
      "4\n",
      "9\n",
      "16\n",
      "25\n",
      "36\n",
      "49\n",
      "64\n",
      "81\n"
     ]
    }
   ],
   "source": [
    "list_generator = (x * x for x in range(10))\n",
    "for item in list_generator:\n",
    "    print(item)"
   ],
   "metadata": {
    "collapsed": false,
    "pycharm": {
     "name": "#%%\n"
    }
   }
  },
  {
   "cell_type": "markdown",
   "source": [
    "## 10.2 Generators function in Python\n",
    "\n",
    "There is a lot of work in building an iterator in Python. **We have to implement a class with __iter__() and __next__() method, keep track of internal states, and raise StopIteration when there are no values to be returned**.\n",
    "\n",
    "This is both lengthy and counterintuitive. Generator comes to the rescue in such situations.\n",
    "\n",
    "Python generators are a simple way of creating iterators. All the work we mentioned above are automatically handled by generators in Python.\n",
    "\n",
    "Simply speaking, **a generator is a function that returns an object (iterator) which we can iterate over (one value at a time).**\n",
    "\n",
    "### 10.2.1 Differences between Generator function and Normal function\n",
    "Here is how a generator function differs from a normal function.\n",
    "- Generator function contains **one or more yield statements**.\n",
    "- When called, **it returns an object (iterator) but does not start execution immediately.**\n",
    "- Methods like __iter__() and __next__() are implemented automatically. So we can **iterate through the items using next().**\n",
    "- Once the function yields(when the execution encounter the yield statement), **the function is paused and the control is transferred to the caller**.\n",
    "- Local variables and their states are remembered between successive calls.\n",
    "- Finally, when the function terminates, **StopIteration is raised automatically on further calls. If it has return statement, the return value is in StopIteration.value"
   ],
   "metadata": {
    "collapsed": false,
    "pycharm": {
     "name": "#%% md\n"
    }
   }
  },
  {
   "cell_type": "markdown",
   "source": [
    "### 10.2.2 Illustrate a simple generator function\n"
   ],
   "metadata": {
    "collapsed": false,
    "pycharm": {
     "name": "#%% md\n"
    }
   }
  },
  {
   "cell_type": "code",
   "execution_count": 2,
   "outputs": [
    {
     "name": "stdout",
     "output_type": "stream",
     "text": [
      "<class 'generator'>\n"
     ]
    }
   ],
   "source": [
    "def simple_generator_fun():\n",
    "    data = 10\n",
    "    print(\"This is the first pause\")\n",
    "    data -= 1\n",
    "    yield data\n",
    "    print(\"This is the second pause\")\n",
    "    data -= 1\n",
    "    yield data\n",
    "    print(\"This is the third pause\")\n",
    "    data -= 1\n",
    "    yield data\n",
    "    return \"Finish simple_generator_fun iteration\"\n",
    "\n",
    "\n",
    "gf = simple_generator_fun()\n",
    "print(type(gf))"
   ],
   "metadata": {
    "collapsed": false,
    "pycharm": {
     "name": "#%%\n"
    }
   }
  },
  {
   "cell_type": "code",
   "execution_count": 7,
   "outputs": [
    {
     "name": "stdout",
     "output_type": "stream",
     "text": [
      "This is the first pause\n",
      "9\n"
     ]
    }
   ],
   "source": [
    "# start the iteration and get the first item\n",
    "i1 = next(gf)\n",
    "print(i1)"
   ],
   "metadata": {
    "collapsed": false,
    "pycharm": {
     "name": "#%%\n"
    }
   }
  },
  {
   "cell_type": "code",
   "execution_count": 8,
   "outputs": [
    {
     "name": "stdout",
     "output_type": "stream",
     "text": [
      "This is the second pause\n",
      "8\n"
     ]
    }
   ],
   "source": [
    "# continue the iteration and get the second item\n",
    "i2 = next(gf)\n",
    "print(i2)"
   ],
   "metadata": {
    "collapsed": false,
    "pycharm": {
     "name": "#%%\n"
    }
   }
  },
  {
   "cell_type": "code",
   "execution_count": 9,
   "outputs": [
    {
     "name": "stdout",
     "output_type": "stream",
     "text": [
      "This is the third pause\n",
      "7\n"
     ]
    }
   ],
   "source": [
    "# continue the iteration and get the third item\n",
    "i3 = next(gf)\n",
    "print(i3)"
   ],
   "metadata": {
    "collapsed": false,
    "pycharm": {
     "name": "#%%\n"
    }
   }
  },
  {
   "cell_type": "markdown",
   "source": [
    "**You can notice that the state of local variable data is conserved during the iteration.** Unlike normal functions, the local variables are not destroyed when the function yields."
   ],
   "metadata": {
    "collapsed": false,
    "pycharm": {
     "name": "#%% md\n"
    }
   }
  },
  {
   "cell_type": "code",
   "execution_count": 5,
   "outputs": [
    {
     "ename": "StopIteration",
     "evalue": "",
     "output_type": "error",
     "traceback": [
      "\u001B[0;31m---------------------------------------------------------------------------\u001B[0m",
      "\u001B[0;31mStopIteration\u001B[0m                             Traceback (most recent call last)",
      "Input \u001B[0;32mIn [5]\u001B[0m, in \u001B[0;36m<cell line: 2>\u001B[0;34m()\u001B[0m\n\u001B[1;32m      1\u001B[0m \u001B[38;5;66;03m# if we continue the iteration, we will get an error, because there is no more yield left to iterate\u001B[39;00m\n\u001B[0;32m----> 2\u001B[0m i3\u001B[38;5;241m=\u001B[39m\u001B[38;5;28;43mnext\u001B[39;49m\u001B[43m(\u001B[49m\u001B[43mgf\u001B[49m\u001B[43m)\u001B[49m\n\u001B[1;32m      3\u001B[0m \u001B[38;5;28mprint\u001B[39m(i3)\n",
      "\u001B[0;31mStopIteration\u001B[0m: "
     ]
    }
   ],
   "source": [
    "# if we continue the iteration, we will get an error, because there is no more yield left to iterate\n",
    "i4 = next(gf)\n",
    "print(i4)"
   ],
   "metadata": {
    "collapsed": false,
    "pycharm": {
     "name": "#%%\n"
    }
   }
  },
  {
   "cell_type": "markdown",
   "source": [
    "Furthermore, the generator object can be iterated only once, and you can't iterate backwards\n",
    "\n",
    "To avoid the StopIteration error, you can use the for loop to handle it automatically. This is because a for loop takes an iterator and iterates over it using next() function. It automatically ends when StopIteration is raised."
   ],
   "metadata": {
    "collapsed": false,
    "pycharm": {
     "name": "#%% md\n"
    }
   }
  },
  {
   "cell_type": "code",
   "execution_count": 10,
   "outputs": [
    {
     "name": "stdout",
     "output_type": "stream",
     "text": [
      "This is the first pause\n",
      "9\n",
      "This is the second pause\n",
      "8\n",
      "This is the third pause\n",
      "7\n"
     ]
    }
   ],
   "source": [
    "new_gf = simple_generator_fun()\n",
    "\n",
    "for item in new_gf:\n",
    "    print(item)"
   ],
   "metadata": {
    "collapsed": false,
    "pycharm": {
     "name": "#%%\n"
    }
   }
  },
  {
   "cell_type": "markdown",
   "source": [
    "### 10.2.2 Python Generators with a Loop\n",
    "\n",
    "Normally, generator functions are implemented with a loop having a suitable terminating condition.\n",
    "\n",
    "Let's take an example of a generator that reverses a string"
   ],
   "metadata": {
    "collapsed": false,
    "pycharm": {
     "name": "#%% md\n"
    }
   }
  },
  {
   "cell_type": "code",
   "execution_count": 11,
   "outputs": [
    {
     "name": "stdout",
     "output_type": "stream",
     "text": [
      "o\n",
      "l\n",
      "l\n",
      "e\n",
      "h\n"
     ]
    }
   ],
   "source": [
    "def rev_str(my_str):\n",
    "    length = len(my_str)\n",
    "    # range start index is (length-1), end index is -1(as it's not inclusive, so end index is 0), and step is -1\n",
    "    for i in range(length - 1, -1, -1):\n",
    "        yield my_str[i]\n",
    "\n",
    "\n",
    "# For loop to reverse the string\n",
    "for char in rev_str(\"hello\"):\n",
    "    print(char)"
   ],
   "metadata": {
    "collapsed": false,
    "pycharm": {
     "name": "#%%\n"
    }
   }
  },
  {
   "cell_type": "markdown",
   "source": [
    "### 10.2.3 Python Generators return value\n",
    "\n",
    "Normally, we don't use the return value of a generator, but if you want to use it. You can get it through StopIteration.value"
   ],
   "metadata": {
    "collapsed": false,
    "pycharm": {
     "name": "#%% md\n"
    }
   }
  },
  {
   "cell_type": "code",
   "execution_count": 3,
   "outputs": [
    {
     "name": "stdout",
     "output_type": "stream",
     "text": [
      "This is the first pause\n",
      "This is the second pause\n",
      "This is the third pause\n",
      "the return value of simple_generator_fun is: Finish simple_generator_fun iteration\n"
     ]
    }
   ],
   "source": [
    "sgf = simple_generator_fun()\n",
    "while True:\n",
    "    try:\n",
    "        next(sgf)\n",
    "    except StopIteration as e:\n",
    "        print(f\"the return value of simple_generator_fun is: {e.value}\")\n",
    "        break"
   ],
   "metadata": {
    "collapsed": false,
    "pycharm": {
     "name": "#%%\n"
    }
   }
  },
  {
   "cell_type": "code",
   "execution_count": null,
   "outputs": [],
   "source": [],
   "metadata": {
    "collapsed": false,
    "pycharm": {
     "name": "#%%\n"
    }
   }
  },
  {
   "cell_type": "markdown",
   "source": [
    "## 10.3 When to use python generator\n",
    "\n",
    "- Simplify your code\n",
    "- Memory Efficient : A normal function to return a sequence will create the entire sequence in memory before returning the result. This is an overkill, if the\n",
    "                     number of items in the sequence is very large. Generator implementation of such sequences is memory friendly and is preferred since it only produces one item at a time.\n",
    "- Represent Infinite Stream: Generators are excellent mediums to represent an infinite stream of data. Infinite streams cannot be stored in memory, and since\n",
    "                             generators produce only one item at a time, they can represent an infinite stream of data\n",
    "\n",
    "- Pipelining Generators\n"
   ],
   "metadata": {
    "collapsed": false,
    "pycharm": {
     "name": "#%% md\n"
    }
   }
  },
  {
   "cell_type": "markdown",
   "source": [
    "### 10.3.1 Simplify your code\n",
    "\n",
    "Generators can be implemented in a clear and concise way as **compared to iterator class**. Following is an example to implement a sequence of power of 2 using an iterator class."
   ],
   "metadata": {
    "collapsed": false,
    "pycharm": {
     "name": "#%% md\n"
    }
   }
  },
  {
   "cell_type": "code",
   "execution_count": null,
   "outputs": [],
   "source": [
    "class PowerTwo:\n",
    "    def __init__(self, max):\n",
    "        self.current = 0\n",
    "        self.max = max\n",
    "\n",
    "    def __iter__(self):\n",
    "        return self\n",
    "\n",
    "    def __next__(self):\n",
    "        if self.current > self.max:\n",
    "            raise StopIteration\n",
    "        result = 2 ** self.current\n",
    "        self.current += 1\n",
    "        return result\n"
   ],
   "metadata": {
    "collapsed": false,
    "pycharm": {
     "name": "#%%\n"
    }
   }
  },
  {
   "cell_type": "markdown",
   "source": [
    "The above program was lengthy and confusing. Now, let's do the same using a generator function."
   ],
   "metadata": {
    "collapsed": false,
    "pycharm": {
     "name": "#%% md\n"
    }
   }
  },
  {
   "cell_type": "code",
   "execution_count": 6,
   "outputs": [],
   "source": [
    "def power_two_generator(max: int):\n",
    "    current = 0\n",
    "    while current <= max:\n",
    "        yield 2 ** current\n",
    "        current += 1"
   ],
   "metadata": {
    "collapsed": false,
    "pycharm": {
     "name": "#%%\n"
    }
   }
  },
  {
   "cell_type": "code",
   "execution_count": 7,
   "outputs": [
    {
     "name": "stdout",
     "output_type": "stream",
     "text": [
      "1\n",
      "2\n",
      "4\n",
      "8\n",
      "16\n",
      "32\n"
     ]
    }
   ],
   "source": [
    "p2g = power_two_generator(5)\n",
    "for item in p2g:\n",
    "    print(item)"
   ],
   "metadata": {
    "collapsed": false,
    "pycharm": {
     "name": "#%%\n"
    }
   }
  },
  {
   "cell_type": "markdown",
   "source": [
    "### 10.3.2 Represent Infinite Stream\n",
    "The following generator function can generate all the even numbers(at least in theory)."
   ],
   "metadata": {
    "collapsed": false,
    "pycharm": {
     "name": "#%% md\n"
    }
   }
  },
  {
   "cell_type": "code",
   "execution_count": 8,
   "outputs": [],
   "source": [
    "def all_even():\n",
    "    n = 0\n",
    "    while True:\n",
    "        yield n\n",
    "        n += 2"
   ],
   "metadata": {
    "collapsed": false,
    "pycharm": {
     "name": "#%%\n"
    }
   }
  },
  {
   "cell_type": "markdown",
   "source": [
    "### 10.3.3 Pipelining Generators\n",
    "\n",
    "Multiple generators can be used to pipeline a series of operations. This is best illustrated using an example.\n",
    "\n",
    "Suppose we have a generator that produces the numbers in the Fibonacci series. And we have another generator for squaring numbers.\n",
    "\n",
    "If we want to find out the sum of squares of numbers in the Fibonacci series, we can do it in the following way by pipelining the output of generator functions together.\n",
    "\n",
    "\n",
    "Note the expression `a,b=b,a+b` is similar\n",
    "\n",
    "```\n",
    "t = (b, a + b) # t is a tuple\n",
    "a = t[0]\n",
    "b = t[1]\n",
    "```"
   ],
   "metadata": {
    "collapsed": false,
    "pycharm": {
     "name": "#%% md\n"
    }
   }
  },
  {
   "cell_type": "code",
   "execution_count": 9,
   "outputs": [],
   "source": [
    "def fib(max):\n",
    "    a, b = 0, 1\n",
    "    for _ in range(max):\n",
    "        yield b\n",
    "        a, b = b, a + b\n",
    "    return 'done'"
   ],
   "metadata": {
    "collapsed": false,
    "pycharm": {
     "name": "#%%\n"
    }
   }
  },
  {
   "cell_type": "code",
   "execution_count": 11,
   "outputs": [
    {
     "name": "stdout",
     "output_type": "stream",
     "text": [
      "1\n",
      "1\n",
      "2\n",
      "3\n",
      "5\n"
     ]
    }
   ],
   "source": [
    "fib_g = fib(5)\n",
    "for i in fib_g:\n",
    "    print(i)"
   ],
   "metadata": {
    "collapsed": false,
    "pycharm": {
     "name": "#%%\n"
    }
   }
  },
  {
   "cell_type": "markdown",
   "source": [
    "Below function square takes a generator (or any iterable object)"
   ],
   "metadata": {
    "collapsed": false,
    "pycharm": {
     "name": "#%% md\n"
    }
   }
  },
  {
   "cell_type": "code",
   "execution_count": 14,
   "outputs": [],
   "source": [
    "def square(nums):\n",
    "    for num in nums:\n",
    "        yield num*num"
   ],
   "metadata": {
    "collapsed": false,
    "pycharm": {
     "name": "#%%\n"
    }
   }
  },
  {
   "cell_type": "code",
   "execution_count": 15,
   "outputs": [
    {
     "name": "stdout",
     "output_type": "stream",
     "text": [
      "40\n"
     ]
    }
   ],
   "source": [
    "print(sum(square(fib(5))))"
   ],
   "metadata": {
    "collapsed": false,
    "pycharm": {
     "name": "#%%\n"
    }
   }
  },
  {
   "cell_type": "markdown",
   "source": [
    "## 10.4 Exercise\n",
    "\n",
    "          1\n",
    "         / \\\n",
    "        1   1\n",
    "       / \\ / \\\n",
    "      1   2   1\n",
    "     / \\ / \\ / \\\n",
    "    1   3   3   1\n",
    "   / \\ / \\ / \\ / \\\n",
    "  1   4   6   4   1\n",
    " / \\ / \\ / \\ / \\ / \\\n",
    "1   5   10  10  5   1\n",
    "\n",
    "Above is an example of yanghui triangle, which can resolve equations\n",
    "\n",
    "Consider each level is a list, write a generator which can return a list of numbers that represent the level base on the given level number"
   ],
   "metadata": {
    "collapsed": false,
    "pycharm": {
     "name": "#%% md\n"
    }
   }
  },
  {
   "cell_type": "code",
   "execution_count": 27,
   "outputs": [],
   "source": [
    "def generate_triangle(max):\n",
    "    n=0\n",
    "    current=[]\n",
    "    while n<=max:\n",
    "        res=[]\n",
    "        for i in range(0,n+1):\n",
    "            if i==0 or i==n:\n",
    "                res.append(1)\n",
    "            else:\n",
    "                res.append(current[i-1]+current[i])\n",
    "        yield res\n",
    "        current=res\n",
    "        n+=1\n"
   ],
   "metadata": {
    "collapsed": false,
    "pycharm": {
     "name": "#%%\n"
    }
   }
  },
  {
   "cell_type": "code",
   "execution_count": 28,
   "outputs": [
    {
     "name": "stdout",
     "output_type": "stream",
     "text": [
      "[1]\n",
      "[1, 1]\n",
      "[1, 2, 1]\n",
      "[1, 3, 3, 1]\n",
      "[1, 4, 6, 4, 1]\n",
      "[1, 5, 10, 10, 5, 1]\n"
     ]
    }
   ],
   "source": [
    "tri=generate_triangle(5)\n",
    "for item in tri:\n",
    "    print(item)"
   ],
   "metadata": {
    "collapsed": false,
    "pycharm": {
     "name": "#%%\n"
    }
   }
  },
  {
   "cell_type": "code",
   "execution_count": null,
   "outputs": [],
   "source": [],
   "metadata": {
    "collapsed": false,
    "pycharm": {
     "name": "#%%\n"
    }
   }
  }
 ],
 "metadata": {
  "kernelspec": {
   "display_name": "Python 3",
   "language": "python",
   "name": "python3"
  },
  "language_info": {
   "codemirror_mode": {
    "name": "ipython",
    "version": 2
   },
   "file_extension": ".py",
   "mimetype": "text/x-python",
   "name": "python",
   "nbconvert_exporter": "python",
   "pygments_lexer": "ipython2",
   "version": "2.7.6"
  }
 },
 "nbformat": 4,
 "nbformat_minor": 0
}