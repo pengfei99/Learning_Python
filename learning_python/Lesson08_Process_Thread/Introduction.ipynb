{
 "cells": [
  {
   "cell_type": "markdown",
   "source": [
    "# Python Multiprocessing\n",
    "\n",
    "**Python’s standard library** provides several `built-in packages` for multiprocessing. For example, the [multiprocessing](https://docs.python.org/3/library/multiprocessing.html) module which enables the systems to run `multiple processes simultaneously`; the [threading](https://docs.python.org/3/library/threading.html) module which enables the system to run multiple thread **simultaneously or not** (This is due to the python interpreter uses [GIL(Global Interpreter Lock)](https://realpython.com/python-gil/) to provide a thread safe memory management environment for the underlying C libraries.). These threads or processes are then allocated to the processor by the operating system, allowing them to run in parallel, improving your Python programs' performance and efficiency.\n",
    "\n",
    "In this tutorial, we will learn what are they and how to use them.\n",
    "\n",
    "## Process vs Thread\n",
    "Python has two extremely similar classes that grant us more control over processes and threads: **multiprocessing.Process and threading.Thread**.\n",
    "\n",
    "### Process\n",
    "\n",
    " A **process** is merely a reference to a computer program. Each program has one process associated with it. **Python provides access to real system-level processes**. Instantiating an instance of the Process class from the multiprocessing module enables developers to reference the underlying native process using Python. A new native process is created behind the scenes when a process is started.\n",
    "\n",
    "The lifecycle of a Python process consists of three stages:\n",
    "- The initiation of a new process,\n",
    "- the running process,\n",
    "- and the terminated process\n",
    "\n",
    "### Thread\n",
    "\n",
    "Generally speaking, a thread is a separate flow of execution, which means that your program will have many flow of execution happening at the same time. All processes are made up of one or more threads.\n",
    "\n",
    "**Each Python program is a process that consists of one default thread called the main thread**. The main thread is responsible for executing the instructions within your Python programs. However, it’s important to note that processes and threads are different.\n",
    "\n",
    "### Similarities\n",
    "\n",
    "1. Concurrency : Concurrency is a concept in which different program parts may be executed out-of-order or in partial order without the final outcome being affected. Both classes were initially intended for concurrency.\n",
    "\n",
    "2. Support for concurrency primitives: The multiprocessing.Process and threading.Thread classes support the same concurrency primitives a tool that enables the synchronization and coordination of threads and processes.\n",
    "\n",
    "3. Uniform API: Once you’ve grasped the multiprocessing.Process API, then you can transfer that knowledge to the threading.Thread API, and vice versa. They were intentionally designed this way.\n",
    "\n",
    "### Differences\n",
    "1. Functionality : Despite their APIs being the same, processes and threads are different. A process is a higher level of abstraction than a thread: a process is a reference to a computer program, and a thread belongs to a process. This difference is inherent in the classes. Thus, the classes represent two different native functions managed by an underlying operating system.\n",
    "\n",
    "2. Access to the shared state: The two classes access the shared state differently. Since threads belong to a process, they can share memory within a process. Thus, a function executed in a new thread still has access to the same data and state within a process. The way threads share states with one another is known as “shared memory” and is pretty straightforward. On the contrary, sharing states between process is much more involved: the state must be serialized and transmitted between processes. In other words, processes do not use shared memory to share states because they have separate memory. Instead, processes are shared using a technique called “inter-process communication,” and to perform it in Python requires other explicit tools like multiprocessing.Pipe or multiprocessing.Queue.\n",
    "\n",
    "3. GIL: The Python Global Interpreter Lock (GIL) is a lock that permits only one thread to hold control over the Python interpreter. Multiple threads are subject to the GIL, which often makes using Python to perform multithreading a bad idea: true multi-core execution through multithreading is not supported by Python on the CPython interpreter. However, processes are not subject to the GIL because the GIL is used within each Python process but not across processes.\n",
    "\n",
    "> In terms of use cases, multiprocessing often outshines threading in scenarios where the program is CPU intensive and is not required to perform any IO or user interaction. Threading is the better solution for programs that are IO or network bound and in scenarios where the objective is to make the application more responsive.\n"
   ],
   "metadata": {
    "collapsed": false
   }
  }
 ],
 "metadata": {
  "kernelspec": {
   "display_name": "Python 3",
   "language": "python",
   "name": "python3"
  },
  "language_info": {
   "codemirror_mode": {
    "name": "ipython",
    "version": 2
   },
   "file_extension": ".py",
   "mimetype": "text/x-python",
   "name": "python",
   "nbconvert_exporter": "python",
   "pygments_lexer": "ipython2",
   "version": "2.7.6"
  }
 },
 "nbformat": 4,
 "nbformat_minor": 0
}
