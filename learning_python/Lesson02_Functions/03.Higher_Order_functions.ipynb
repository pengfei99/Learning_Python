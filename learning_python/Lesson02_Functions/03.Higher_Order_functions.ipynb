{
 "cells": [
  {
   "cell_type": "markdown",
   "metadata": {
    "collapsed": true,
    "pycharm": {
     "name": "#%% md\n"
    }
   },
   "source": [
    "# 3 Higher Order Functions in Python\n",
    "\n",
    "A function is called Higher Order Function if it contains other functions as a parameter or returns a function as an output i.e, the functions that operate with another function are known as Higher order Functions. It is worth knowing that this higher order function is applicable for functions and methods as well that takes functions as a parameter or returns a function as a result. Python too supports the concepts of higher order functions.\n",
    "\n",
    "Properties of higher-order functions:\n",
    "- A function is an instance of the Object type.\n",
    "- You can store the function in a variable.\n",
    "- You can pass the function as a parameter to another function.\n",
    "- You can return the function from a function.\n",
    "- You can store them in data structures such as hash tables, lists, …"
   ]
  },
  {
   "cell_type": "markdown",
   "source": [
    "## 3.1 Functions as objects\n",
    "In Python, a function can be assigned to a variable. This assignment does not call the function, instead a reference to that function is created. Consider the below example, for better understanding."
   ],
   "metadata": {
    "collapsed": false,
    "pycharm": {
     "name": "#%% md\n"
    }
   }
  },
  {
   "cell_type": "code",
   "execution_count": 1,
   "outputs": [
    {
     "data": {
      "text/plain": "10"
     },
     "execution_count": 1,
     "metadata": {},
     "output_type": "execute_result"
    }
   ],
   "source": [
    "# abs is a function that returns the absolut value of a number\n",
    "import math\n",
    "\n",
    "abs(-10)"
   ],
   "metadata": {
    "collapsed": false,
    "pycharm": {
     "name": "#%%\n"
    }
   }
  },
  {
   "cell_type": "code",
   "execution_count": 2,
   "outputs": [
    {
     "data": {
      "text/plain": "10"
     },
     "execution_count": 2,
     "metadata": {},
     "output_type": "execute_result"
    }
   ],
   "source": [
    "# toto will point to the same function that abs points to.\n",
    "toto = abs\n",
    "toto(-10)"
   ],
   "metadata": {
    "collapsed": false,
    "pycharm": {
     "name": "#%%\n"
    }
   }
  },
  {
   "cell_type": "markdown",
   "source": [
    "As we said before, function is an object, **the name of the function(e.g. abs) is just a reference that points to the object(i.e. function). So we can use another variable to reference to the same object by using assignment"
   ],
   "metadata": {
    "collapsed": false,
    "pycharm": {
     "name": "#%% md\n"
    }
   }
  },
  {
   "cell_type": "markdown",
   "source": [
    "## 3.2 Passing Function as an argument to other function\n",
    "\n",
    "Functions are like objects in Python, therefore, they can be passed as argument to other functions.\n",
    "\n",
    "In below example, we do a sum on two numbers, but before the sum, we will apply a custom function (from upper function parameter) on the numbers. Remember the function toto we just created above? we will use it."
   ],
   "metadata": {
    "collapsed": false,
    "pycharm": {
     "name": "#%% md\n"
    }
   }
  },
  {
   "cell_type": "code",
   "execution_count": 4,
   "outputs": [],
   "source": [
    "def custom_sum(a, b, f):\n",
    "    return f(a) + f(b)"
   ],
   "metadata": {
    "collapsed": false,
    "pycharm": {
     "name": "#%%\n"
    }
   }
  },
  {
   "cell_type": "code",
   "execution_count": 5,
   "outputs": [
    {
     "data": {
      "text/plain": "11"
     },
     "execution_count": 5,
     "metadata": {},
     "output_type": "execute_result"
    }
   ],
   "source": [
    "custom_sum(-1, -10, toto)"
   ],
   "metadata": {
    "collapsed": false,
    "pycharm": {
     "name": "#%%\n"
    }
   }
  },
  {
   "cell_type": "markdown",
   "source": [
    "## 3.3 Returning function\n",
    "\n",
    "As functions are objects, we can also return a function from another function. In the below example, the function create_incrementor() returns a function"
   ],
   "metadata": {
    "collapsed": false,
    "pycharm": {
     "name": "#%% md\n"
    }
   }
  },
  {
   "cell_type": "code",
   "execution_count": 7,
   "outputs": [],
   "source": [
    "def creat_incrementor(step: int):\n",
    "    def incrementor(start: int):\n",
    "        return start + step\n",
    "\n",
    "    return incrementor"
   ],
   "metadata": {
    "collapsed": false,
    "pycharm": {
     "name": "#%%\n"
    }
   }
  },
  {
   "cell_type": "code",
   "execution_count": 8,
   "outputs": [
    {
     "data": {
      "text/plain": "5"
     },
     "execution_count": 8,
     "metadata": {},
     "output_type": "execute_result"
    }
   ],
   "source": [
    "inc_2 = creat_incrementor(2)\n",
    "inc_2(3)"
   ],
   "metadata": {
    "collapsed": false,
    "pycharm": {
     "name": "#%%\n"
    }
   }
  },
  {
   "cell_type": "markdown",
   "source": [
    "## 3.4 Python built in higher order function\n",
    "\n",
    "- map: takes two parameter, 1st is a function, 2nd is an iterable dataset. Then it returns a map object which is an iterator on the resulting dataset. It will apply the given function on each item of the data set. Here the given function only takes 1 argument at a time from the data set\n",
    "- reduce: takes two parameter, 1st is a function, 2nd is an iterable dataset. Then it returns an object of the item type of the dataset. It will apply the given function recursively on each item. E.g. reduce(f, [x1, x2, x3, x4]) = f(f(f(x1, x2), x3), x4)"
   ],
   "metadata": {
    "collapsed": false,
    "pycharm": {
     "name": "#%% md\n"
    }
   }
  },
  {
   "cell_type": "markdown",
   "source": [
    "### 3.4.1 Map\n",
    "\n",
    "Check below example"
   ],
   "metadata": {
    "collapsed": false,
    "pycharm": {
     "name": "#%% md\n"
    }
   }
  },
  {
   "cell_type": "code",
   "execution_count": 9,
   "outputs": [
    {
     "name": "stdout",
     "output_type": "stream",
     "text": [
      "<class 'map'>\n"
     ]
    }
   ],
   "source": [
    "def power_2(x):\n",
    "    return x * x\n",
    "\n",
    "\n",
    "data = [x for x in range(0, 10)]\n",
    "\n",
    "res = map(power_2, data)\n",
    "print(type(res))"
   ],
   "metadata": {
    "collapsed": false,
    "pycharm": {
     "name": "#%%\n"
    }
   }
  },
  {
   "cell_type": "code",
   "execution_count": 10,
   "outputs": [
    {
     "name": "stdout",
     "output_type": "stream",
     "text": [
      "[0, 1, 4, 9, 16, 25, 36, 49, 64, 81]\n"
     ]
    }
   ],
   "source": [
    "# because map is an iterator, if we loop through it once, we will lose it. So we need to convert it to a list\n",
    "print(list(res))"
   ],
   "metadata": {
    "collapsed": false,
    "pycharm": {
     "name": "#%%\n"
    }
   }
  },
  {
   "cell_type": "markdown",
   "source": [
    "### 3.4.2 Reduce\n",
    "\n",
    "Check below example, it transforms a list of int into a int"
   ],
   "metadata": {
    "collapsed": false,
    "pycharm": {
     "name": "#%% md\n"
    }
   }
  },
  {
   "cell_type": "code",
   "execution_count": 12,
   "outputs": [
    {
     "name": "stdout",
     "output_type": "stream",
     "text": [
      "<class 'int'>\n",
      "371\n"
     ]
    }
   ],
   "source": [
    "from functools import reduce\n",
    "\n",
    "\n",
    "def fn(x, y):\n",
    "    return 10 * x + y\n",
    "\n",
    "\n",
    "num = [3, 7, 1]\n",
    "res = reduce(fn, num)\n",
    "\n",
    "print(type(res))\n",
    "\n",
    "print(res)"
   ],
   "metadata": {
    "collapsed": false,
    "pycharm": {
     "name": "#%%\n"
    }
   }
  },
  {
   "cell_type": "markdown",
   "source": [
    "### 3.4.3 Combine map and reduce\n",
    "\n",
    "Imagine that you have a string '371', and you want to get the number 371. Don't use the python type converter.\n"
   ],
   "metadata": {
    "collapsed": false,
    "pycharm": {
     "name": "#%% md\n"
    }
   }
  },
  {
   "cell_type": "code",
   "execution_count": 13,
   "outputs": [],
   "source": [
    "def char2num(s):\n",
    "    digits = {'0': 0, '1': 1, '2': 2, '3': 3, '4': 4, '5': 5, '6': 6, '7': 7, '8': 8, '9': 9}\n",
    "    return digits[s]\n",
    "\n",
    "\n",
    "def fn(x, y):\n",
    "    return 10 * x + y"
   ],
   "metadata": {
    "collapsed": false,
    "pycharm": {
     "name": "#%%\n"
    }
   }
  },
  {
   "cell_type": "code",
   "execution_count": 14,
   "outputs": [
    {
     "data": {
      "text/plain": "371"
     },
     "execution_count": 14,
     "metadata": {},
     "output_type": "execute_result"
    }
   ],
   "source": [
    "reduce(fn, map(char2num, '371'))"
   ],
   "metadata": {
    "collapsed": false,
    "pycharm": {
     "name": "#%%\n"
    }
   }
  },
  {
   "cell_type": "code",
   "execution_count": 15,
   "outputs": [],
   "source": [
    "# you can use one function to encapsulate above fucntion\n",
    "\n",
    "def str2int(input_str):\n",
    "    def char2num(s):\n",
    "        digits = {'0': 0, '1': 1, '2': 2, '3': 3, '4': 4, '5': 5, '6': 6, '7': 7, '8': 8, '9': 9}\n",
    "        return digits[s]\n",
    "\n",
    "    def fn(x, y):\n",
    "        return 10 * x + y\n",
    "\n",
    "    return reduce(fn, map(char2num, '371'))"
   ],
   "metadata": {
    "collapsed": false,
    "pycharm": {
     "name": "#%%\n"
    }
   }
  },
  {
   "cell_type": "code",
   "execution_count": 16,
   "outputs": [
    {
     "data": {
      "text/plain": "371"
     },
     "execution_count": 16,
     "metadata": {},
     "output_type": "execute_result"
    }
   ],
   "source": [
    "str2int(\"371\")"
   ],
   "metadata": {
    "collapsed": false,
    "pycharm": {
     "name": "#%%\n"
    }
   }
  },
  {
   "cell_type": "code",
   "execution_count": 17,
   "outputs": [],
   "source": [
    "# you can use lambda to replace fn\n",
    "def str2int_l(input_str):\n",
    "    def char2num(s):\n",
    "        digits = {'0': 0, '1': 1, '2': 2, '3': 3, '4': 4, '5': 5, '6': 6, '7': 7, '8': 8, '9': 9}\n",
    "        return digits[s]\n",
    "\n",
    "    return reduce(lambda x, y: x * 10 + y, map(char2num, '371'))"
   ],
   "metadata": {
    "collapsed": false,
    "pycharm": {
     "name": "#%%\n"
    }
   }
  },
  {
   "cell_type": "code",
   "execution_count": 18,
   "outputs": [
    {
     "data": {
      "text/plain": "371"
     },
     "execution_count": 18,
     "metadata": {},
     "output_type": "execute_result"
    }
   ],
   "source": [
    "str2int_l(\"371\")"
   ],
   "metadata": {
    "collapsed": false,
    "pycharm": {
     "name": "#%%\n"
    }
   }
  },
  {
   "cell_type": "markdown",
   "source": [
    "### 3.4.4 Exercises for map reduce\n",
    "\n",
    "## Ex1\n",
    "Use map()function，normalize usernames, first letter must be capital case. Others must be in lower case.\n",
    "Example:\n",
    "Input: ['adam', 'LISA', 'barT'],\n",
    "output：['Adam', 'Lisa', 'Bart']"
   ],
   "metadata": {
    "collapsed": false,
    "pycharm": {
     "name": "#%% md\n"
    }
   }
  },
  {
   "cell_type": "code",
   "execution_count": 30,
   "outputs": [],
   "source": [
    "def normalize_name_list(name_list):\n",
    "    def normalize(name):\n",
    "        return f\"{name[0].upper()}{name[1:].lower()}\"\n",
    "\n",
    "    return map(normalize, name_list)"
   ],
   "metadata": {
    "collapsed": false,
    "pycharm": {
     "name": "#%%\n"
    }
   }
  },
  {
   "cell_type": "code",
   "execution_count": 31,
   "outputs": [],
   "source": [
    "names = [\"adam\", \"LISA\", \"barT\"]"
   ],
   "metadata": {
    "collapsed": false,
    "pycharm": {
     "name": "#%%\n"
    }
   }
  },
  {
   "cell_type": "code",
   "execution_count": 32,
   "outputs": [],
   "source": [
    "result = normalize_name_list(names)"
   ],
   "metadata": {
    "collapsed": false,
    "pycharm": {
     "name": "#%%\n"
    }
   }
  },
  {
   "cell_type": "code",
   "execution_count": 33,
   "outputs": [
    {
     "name": "stdout",
     "output_type": "stream",
     "text": [
      "['Adam', 'Lisa', 'Bart']\n"
     ]
    }
   ],
   "source": [
    "print(list(result))"
   ],
   "metadata": {
    "collapsed": false,
    "pycharm": {
     "name": "#%%\n"
    }
   }
  },
  {
   "cell_type": "markdown",
   "source": [
    "## Ex 2\n",
    "\n",
    "Python provides a sum() function that takes a list and return the sum of the list，write a prod() function，that takes a list and return a production of the list"
   ],
   "metadata": {
    "collapsed": false,
    "pycharm": {
     "name": "#%% md\n"
    }
   }
  },
  {
   "cell_type": "code",
   "execution_count": 34,
   "outputs": [],
   "source": [
    "def prod(num_list):\n",
    "    def production(x, y):\n",
    "        return x * y\n",
    "\n",
    "    return reduce(production, num_list)"
   ],
   "metadata": {
    "collapsed": false,
    "pycharm": {
     "name": "#%%\n"
    }
   }
  },
  {
   "cell_type": "code",
   "execution_count": 35,
   "outputs": [
    {
     "data": {
      "text/plain": "945"
     },
     "execution_count": 35,
     "metadata": {},
     "output_type": "execute_result"
    }
   ],
   "source": [
    "nums = [3, 5, 7, 9]\n",
    "prod(nums)"
   ],
   "metadata": {
    "collapsed": false,
    "pycharm": {
     "name": "#%%\n"
    }
   }
  },
  {
   "cell_type": "markdown",
   "source": [
    "## Ex 3\n",
    "\n",
    "Use map and reduce function to write a str2float function，It can convert string '123.456' to fload 123.456："
   ],
   "metadata": {
    "collapsed": false,
    "pycharm": {
     "name": "#%% md\n"
    }
   }
  },
  {
   "cell_type": "code",
   "execution_count": 45,
   "outputs": [],
   "source": [
    "def str2float(input_str):\n",
    "    nums = input_str.split(\".\")\n",
    "    before_str, after_str = nums[0], nums[1]\n",
    "    print(before_str)\n",
    "    print(after_str)\n",
    "\n",
    "    def char2num(s):\n",
    "        digits = {'0': 0, '1': 1, '2': 2, '3': 3, '4': 4, '5': 5, '6': 6, '7': 7, '8': 8, '9': 9}\n",
    "        return digits[s]\n",
    "\n",
    "    before_num = reduce(lambda x, y: x * 10 + y, map(char2num, before_str))\n",
    "    after_num = reduce(lambda x, y: x + y / 10, map(char2num, after_str))\n",
    "    print(before_num)\n",
    "    print(after_num)\n",
    "    return before_num + after_num\n"
   ],
   "metadata": {
    "collapsed": false,
    "pycharm": {
     "name": "#%%\n"
    }
   }
  },
  {
   "cell_type": "code",
   "execution_count": 46,
   "outputs": [
    {
     "name": "stdout",
     "output_type": "stream",
     "text": [
      "123\n",
      "456\n",
      "123\n",
      "5.1\n"
     ]
    },
    {
     "data": {
      "text/plain": "128.1"
     },
     "execution_count": 46,
     "metadata": {},
     "output_type": "execute_result"
    }
   ],
   "source": [
    "str2float(\"123.456\")"
   ],
   "metadata": {
    "collapsed": false,
    "pycharm": {
     "name": "#%%\n"
    }
   }
  },
  {
   "cell_type": "markdown",
   "source": [
    "### 3.4.5 filter()\n",
    "\n",
    "Filter() function works like map it takes one function, one iterable. It will apply the function on every item of the iterable. If the function returns true, the item will be appended to the result list. If not, the item will be dropped.\n",
    "\n",
    "Check below example"
   ],
   "metadata": {
    "collapsed": false,
    "pycharm": {
     "name": "#%% md\n"
    }
   }
  },
  {
   "cell_type": "code",
   "execution_count": 1,
   "outputs": [
    {
     "name": "stdout",
     "output_type": "stream",
     "text": [
      "<class 'filter'>\n",
      "<filter object at 0x7fdba408feb0>\n",
      "[1, 3, 5, 7]\n"
     ]
    }
   ],
   "source": [
    "# in this example we filter all numbers that are odd\n",
    "\n",
    "def is_odd(x):\n",
    "    return x % 2 == 1\n",
    "\n",
    "\n",
    "nums = [1, 2, 3, 4, 5, 6, 7, 8]\n",
    "\n",
    "res = filter(is_odd, nums)\n",
    "print(type(res))\n",
    "print(res)\n",
    "print(list(res))"
   ],
   "metadata": {
    "collapsed": false,
    "pycharm": {
     "name": "#%%\n"
    }
   }
  },
  {
   "cell_type": "code",
   "execution_count": 2,
   "outputs": [
    {
     "name": "stdout",
     "output_type": "stream",
     "text": [
      "['a', 'c', 'b']\n"
     ]
    }
   ],
   "source": [
    "def is_not_empty(s):\n",
    "    return s and s.strip()\n",
    "\n",
    "\n",
    "words = ['a', \"\", None, \" \", \"c\", 'b']\n",
    "\n",
    "res = filter(is_not_empty, words)\n",
    "print(list(res))"
   ],
   "metadata": {
    "collapsed": false,
    "pycharm": {
     "name": "#%%\n"
    }
   }
  },
  {
   "cell_type": "markdown",
   "source": [
    "### Filter function exercise\n",
    "\n",
    "ex1: Write a filter function that can find all prime number from nature\n",
    "\n",
    "计算素数的一个方法是埃氏筛法，它的算法理解起来非常简单：\n",
    "\n",
    "首先，列出从2开始的所有自然数，构造一个序列：\n",
    "\n",
    "2, 3, 4, 5, 6, 7, 8, 9, 10, 11, 12, 13, 14, 15, 16, 17, 18, 19, 20, ...\n",
    "\n",
    "取序列的第一个数2，它一定是素数，然后用2把序列的2的倍数筛掉：\n",
    "\n",
    "3, 5, 7, 9, 11, 13, 15, 17, 19, ...\n",
    "\n",
    "取新序列的第一个数3，它一定是素数，然后用3把序列的3的倍数筛掉：\n",
    "\n",
    "5, 7, 11, 13, 17, 19, ...\n",
    "\n",
    "不断筛下去，就可以得到所有的素数。\n"
   ],
   "metadata": {
    "collapsed": false,
    "pycharm": {
     "name": "#%% md\n"
    }
   }
  },
  {
   "cell_type": "code",
   "execution_count": 3,
   "outputs": [],
   "source": [
    "# 先构造一个从3开始的奇数序列：\n",
    "\n",
    "def _odd_iter():\n",
    "    n = 1\n",
    "    while True:\n",
    "        n = n + 2\n",
    "        yield n"
   ],
   "metadata": {
    "collapsed": false,
    "pycharm": {
     "name": "#%%\n"
    }
   }
  },
  {
   "cell_type": "code",
   "execution_count": 5,
   "outputs": [
    {
     "name": "stdout",
     "output_type": "stream",
     "text": [
      "3\n",
      "5\n",
      "7\n",
      "9\n",
      "11\n",
      "13\n",
      "15\n",
      "17\n",
      "19\n",
      "21\n",
      "23\n",
      "25\n",
      "27\n",
      "29\n",
      "31\n",
      "33\n",
      "35\n",
      "37\n",
      "39\n",
      "41\n",
      "43\n",
      "45\n",
      "47\n",
      "49\n",
      "51\n",
      "53\n",
      "55\n",
      "57\n",
      "59\n",
      "61\n",
      "63\n",
      "65\n",
      "67\n",
      "69\n",
      "71\n",
      "73\n",
      "75\n",
      "77\n",
      "79\n",
      "81\n",
      "83\n",
      "85\n",
      "87\n",
      "89\n",
      "91\n",
      "93\n",
      "95\n",
      "97\n",
      "99\n",
      "101\n",
      "103\n",
      "105\n",
      "107\n",
      "109\n",
      "111\n",
      "113\n",
      "115\n",
      "117\n",
      "119\n",
      "121\n",
      "123\n",
      "125\n",
      "127\n",
      "129\n",
      "131\n",
      "133\n",
      "135\n",
      "137\n",
      "139\n",
      "141\n",
      "143\n",
      "145\n",
      "147\n",
      "149\n",
      "151\n",
      "153\n",
      "155\n",
      "157\n",
      "159\n",
      "161\n",
      "163\n",
      "165\n",
      "167\n",
      "169\n",
      "171\n",
      "173\n",
      "175\n",
      "177\n",
      "179\n",
      "181\n",
      "183\n",
      "185\n",
      "187\n",
      "189\n",
      "191\n",
      "193\n",
      "195\n",
      "197\n",
      "199\n",
      "201\n"
     ]
    }
   ],
   "source": [
    "# not _odd_iter() is a generator with infinie loop. To traverse it, we need to call next with an exit condition\n",
    "# don't do next(_odd_iter()). Because this will return 3 all the time.\n",
    "it = _odd_iter()\n",
    "for i in range(0, 100):\n",
    "    print(next(it))"
   ],
   "metadata": {
    "collapsed": false,
    "pycharm": {
     "name": "#%%\n"
    }
   }
  },
  {
   "cell_type": "code",
   "execution_count": 8,
   "outputs": [
    {
     "name": "stdout",
     "output_type": "stream",
     "text": [
      "<function _not_divisible.<locals>.<lambda> at 0x7fdba4092160>\n"
     ]
    }
   ],
   "source": [
    "# check if a number is divisible\n",
    "def _not_divisible(n):\n",
    "    return lambda x: x % n > 0\n",
    "\n",
    "\n",
    "print(_not_divisible(3))"
   ],
   "metadata": {
    "collapsed": false,
    "pycharm": {
     "name": "#%%\n"
    }
   }
  },
  {
   "cell_type": "code",
   "execution_count": 9,
   "outputs": [],
   "source": [
    "def prime():\n",
    "    yield 2\n",
    "    it = _odd_iter()\n",
    "    while True:\n",
    "        n = next(it)\n",
    "        yield n\n",
    "        filter(_not_divisible(n), it)\n",
    "\n"
   ],
   "metadata": {
    "collapsed": false,
    "pycharm": {
     "name": "#%%\n"
    }
   }
  },
  {
   "cell_type": "code",
   "execution_count": 10,
   "outputs": [
    {
     "name": "stdout",
     "output_type": "stream",
     "text": [
      "2\n",
      "3\n",
      "5\n",
      "7\n",
      "9\n",
      "11\n",
      "13\n",
      "15\n",
      "17\n",
      "19\n",
      "21\n",
      "23\n",
      "25\n",
      "27\n",
      "29\n",
      "31\n",
      "33\n",
      "35\n",
      "37\n",
      "39\n",
      "41\n",
      "43\n",
      "45\n",
      "47\n",
      "49\n",
      "51\n",
      "53\n",
      "55\n",
      "57\n",
      "59\n",
      "61\n",
      "63\n",
      "65\n",
      "67\n",
      "69\n",
      "71\n",
      "73\n",
      "75\n",
      "77\n",
      "79\n",
      "81\n",
      "83\n",
      "85\n",
      "87\n",
      "89\n",
      "91\n",
      "93\n",
      "95\n",
      "97\n",
      "99\n",
      "101\n",
      "103\n",
      "105\n",
      "107\n",
      "109\n",
      "111\n",
      "113\n",
      "115\n",
      "117\n",
      "119\n",
      "121\n",
      "123\n",
      "125\n",
      "127\n",
      "129\n",
      "131\n",
      "133\n",
      "135\n",
      "137\n",
      "139\n",
      "141\n",
      "143\n",
      "145\n",
      "147\n",
      "149\n",
      "151\n",
      "153\n",
      "155\n",
      "157\n",
      "159\n",
      "161\n",
      "163\n",
      "165\n",
      "167\n",
      "169\n",
      "171\n",
      "173\n",
      "175\n",
      "177\n",
      "179\n",
      "181\n",
      "183\n",
      "185\n",
      "187\n",
      "189\n",
      "191\n",
      "193\n",
      "195\n",
      "197\n",
      "199\n",
      "201\n",
      "203\n",
      "205\n",
      "207\n",
      "209\n",
      "211\n",
      "213\n",
      "215\n",
      "217\n",
      "219\n",
      "221\n",
      "223\n",
      "225\n",
      "227\n",
      "229\n",
      "231\n",
      "233\n",
      "235\n",
      "237\n",
      "239\n",
      "241\n",
      "243\n",
      "245\n",
      "247\n",
      "249\n",
      "251\n",
      "253\n",
      "255\n",
      "257\n",
      "259\n",
      "261\n",
      "263\n",
      "265\n",
      "267\n",
      "269\n",
      "271\n",
      "273\n",
      "275\n",
      "277\n",
      "279\n",
      "281\n",
      "283\n",
      "285\n",
      "287\n",
      "289\n",
      "291\n",
      "293\n",
      "295\n",
      "297\n",
      "299\n",
      "301\n",
      "303\n",
      "305\n",
      "307\n",
      "309\n",
      "311\n",
      "313\n",
      "315\n",
      "317\n",
      "319\n",
      "321\n",
      "323\n",
      "325\n",
      "327\n",
      "329\n",
      "331\n",
      "333\n",
      "335\n",
      "337\n",
      "339\n",
      "341\n",
      "343\n",
      "345\n",
      "347\n",
      "349\n",
      "351\n",
      "353\n",
      "355\n",
      "357\n",
      "359\n",
      "361\n",
      "363\n",
      "365\n",
      "367\n",
      "369\n",
      "371\n",
      "373\n",
      "375\n",
      "377\n",
      "379\n",
      "381\n",
      "383\n",
      "385\n",
      "387\n",
      "389\n",
      "391\n",
      "393\n",
      "395\n",
      "397\n",
      "399\n",
      "401\n",
      "403\n",
      "405\n",
      "407\n",
      "409\n",
      "411\n",
      "413\n",
      "415\n",
      "417\n",
      "419\n",
      "421\n",
      "423\n",
      "425\n",
      "427\n",
      "429\n",
      "431\n",
      "433\n",
      "435\n",
      "437\n",
      "439\n",
      "441\n",
      "443\n",
      "445\n",
      "447\n",
      "449\n",
      "451\n",
      "453\n",
      "455\n",
      "457\n",
      "459\n",
      "461\n",
      "463\n",
      "465\n",
      "467\n",
      "469\n",
      "471\n",
      "473\n",
      "475\n",
      "477\n",
      "479\n",
      "481\n",
      "483\n",
      "485\n",
      "487\n",
      "489\n",
      "491\n",
      "493\n",
      "495\n",
      "497\n",
      "499\n",
      "501\n",
      "503\n",
      "505\n",
      "507\n",
      "509\n",
      "511\n",
      "513\n",
      "515\n",
      "517\n",
      "519\n",
      "521\n",
      "523\n",
      "525\n",
      "527\n",
      "529\n",
      "531\n",
      "533\n",
      "535\n",
      "537\n",
      "539\n",
      "541\n",
      "543\n",
      "545\n",
      "547\n",
      "549\n",
      "551\n",
      "553\n",
      "555\n",
      "557\n",
      "559\n",
      "561\n",
      "563\n",
      "565\n",
      "567\n",
      "569\n",
      "571\n",
      "573\n",
      "575\n",
      "577\n",
      "579\n",
      "581\n",
      "583\n",
      "585\n",
      "587\n",
      "589\n",
      "591\n",
      "593\n",
      "595\n",
      "597\n",
      "599\n",
      "601\n",
      "603\n",
      "605\n",
      "607\n",
      "609\n",
      "611\n",
      "613\n",
      "615\n",
      "617\n",
      "619\n",
      "621\n",
      "623\n",
      "625\n",
      "627\n",
      "629\n",
      "631\n",
      "633\n",
      "635\n",
      "637\n",
      "639\n",
      "641\n",
      "643\n",
      "645\n",
      "647\n",
      "649\n",
      "651\n",
      "653\n",
      "655\n",
      "657\n",
      "659\n",
      "661\n",
      "663\n",
      "665\n",
      "667\n",
      "669\n",
      "671\n",
      "673\n",
      "675\n",
      "677\n",
      "679\n",
      "681\n",
      "683\n",
      "685\n",
      "687\n",
      "689\n",
      "691\n",
      "693\n",
      "695\n",
      "697\n",
      "699\n",
      "701\n",
      "703\n",
      "705\n",
      "707\n",
      "709\n",
      "711\n",
      "713\n",
      "715\n",
      "717\n",
      "719\n",
      "721\n",
      "723\n",
      "725\n",
      "727\n",
      "729\n",
      "731\n",
      "733\n",
      "735\n",
      "737\n",
      "739\n",
      "741\n",
      "743\n",
      "745\n",
      "747\n",
      "749\n",
      "751\n",
      "753\n",
      "755\n",
      "757\n",
      "759\n",
      "761\n",
      "763\n",
      "765\n",
      "767\n",
      "769\n",
      "771\n",
      "773\n",
      "775\n",
      "777\n",
      "779\n",
      "781\n",
      "783\n",
      "785\n",
      "787\n",
      "789\n",
      "791\n",
      "793\n",
      "795\n",
      "797\n",
      "799\n",
      "801\n",
      "803\n",
      "805\n",
      "807\n",
      "809\n",
      "811\n",
      "813\n",
      "815\n",
      "817\n",
      "819\n",
      "821\n",
      "823\n",
      "825\n",
      "827\n",
      "829\n",
      "831\n",
      "833\n",
      "835\n",
      "837\n",
      "839\n",
      "841\n",
      "843\n",
      "845\n",
      "847\n",
      "849\n",
      "851\n",
      "853\n",
      "855\n",
      "857\n",
      "859\n",
      "861\n",
      "863\n",
      "865\n",
      "867\n",
      "869\n",
      "871\n",
      "873\n",
      "875\n",
      "877\n",
      "879\n",
      "881\n",
      "883\n",
      "885\n",
      "887\n",
      "889\n",
      "891\n",
      "893\n",
      "895\n",
      "897\n",
      "899\n",
      "901\n",
      "903\n",
      "905\n",
      "907\n",
      "909\n",
      "911\n",
      "913\n",
      "915\n",
      "917\n",
      "919\n",
      "921\n",
      "923\n",
      "925\n",
      "927\n",
      "929\n",
      "931\n",
      "933\n",
      "935\n",
      "937\n",
      "939\n",
      "941\n",
      "943\n",
      "945\n",
      "947\n",
      "949\n",
      "951\n",
      "953\n",
      "955\n",
      "957\n",
      "959\n",
      "961\n",
      "963\n",
      "965\n",
      "967\n",
      "969\n",
      "971\n",
      "973\n",
      "975\n",
      "977\n",
      "979\n",
      "981\n",
      "983\n",
      "985\n",
      "987\n",
      "989\n",
      "991\n",
      "993\n",
      "995\n",
      "997\n",
      "999\n"
     ]
    }
   ],
   "source": [
    "for n in prime():\n",
    "    if n < 1000:\n",
    "        print(n)\n",
    "    else:\n",
    "        break"
   ],
   "metadata": {
    "collapsed": false,
    "pycharm": {
     "name": "#%%\n"
    }
   }
  },
  {
   "cell_type": "markdown",
   "source": [
    "### ex2 Get palindrome\n",
    "回数是指从左向右读和从右向左读都是一样的数，例如12321，909。请利用filter()筛选出回数："
   ],
   "metadata": {
    "collapsed": false,
    "pycharm": {
     "name": "#%% md\n"
    }
   }
  },
  {
   "cell_type": "code",
   "execution_count": 47,
   "outputs": [],
   "source": [
    "import math\n",
    "\n",
    "\n",
    "def is_palindrome(n):\n",
    "    str_n = str(n)\n",
    "    size = len(str_n)\n",
    "    if size <= 1:\n",
    "        return True\n",
    "    res = True\n",
    "    if math.floor((size - 1) / 2) == 0:\n",
    "        end_index = 1\n",
    "    else:\n",
    "        end_index = math.floor((size - 1) / 2)\n",
    "    for i in range(0, end_index):\n",
    "        if str_n[i] != str_n[size - 1 - i]:\n",
    "            res = False\n",
    "            break\n",
    "    return res"
   ],
   "metadata": {
    "collapsed": false,
    "pycharm": {
     "name": "#%%\n"
    }
   }
  },
  {
   "cell_type": "code",
   "execution_count": 21,
   "outputs": [
    {
     "data": {
      "text/plain": "True"
     },
     "execution_count": 21,
     "metadata": {},
     "output_type": "execute_result"
    }
   ],
   "source": [
    "is_palindrome(12321)"
   ],
   "metadata": {
    "collapsed": false,
    "pycharm": {
     "name": "#%%\n"
    }
   }
  },
  {
   "cell_type": "code",
   "execution_count": 22,
   "outputs": [
    {
     "data": {
      "text/plain": "True"
     },
     "execution_count": 22,
     "metadata": {},
     "output_type": "execute_result"
    }
   ],
   "source": [
    "is_palindrome(1221)"
   ],
   "metadata": {
    "collapsed": false,
    "pycharm": {
     "name": "#%%\n"
    }
   }
  },
  {
   "cell_type": "code",
   "execution_count": 23,
   "outputs": [
    {
     "data": {
      "text/plain": "False"
     },
     "execution_count": 23,
     "metadata": {},
     "output_type": "execute_result"
    }
   ],
   "source": [
    "is_palindrome(12345)"
   ],
   "metadata": {
    "collapsed": false,
    "pycharm": {
     "name": "#%%\n"
    }
   }
  },
  {
   "cell_type": "code",
   "execution_count": 48,
   "outputs": [
    {
     "data": {
      "text/plain": "[12321, 101, 111]"
     },
     "execution_count": 48,
     "metadata": {},
     "output_type": "execute_result"
    }
   ],
   "source": [
    "list(filter(is_palindrome, [12321, 101, 111, 321, 123, 12]))"
   ],
   "metadata": {
    "collapsed": false,
    "pycharm": {
     "name": "#%%\n"
    }
   }
  },
  {
   "cell_type": "markdown",
   "source": [
    "### 3.4.6 Sorted function\n",
    "\n",
    "sorted() is another very useful python built-in higher order function\n",
    "\n",
    "It can take a key function as parameter, which allows us to do custom sort.\n",
    "\n",
    "Check below example"
   ],
   "metadata": {
    "collapsed": false,
    "pycharm": {
     "name": "#%% md\n"
    }
   }
  },
  {
   "cell_type": "code",
   "execution_count": 50,
   "outputs": [
    {
     "data": {
      "text/plain": "[-21, -12, 5, 9, 36]"
     },
     "execution_count": 50,
     "metadata": {},
     "output_type": "execute_result"
    }
   ],
   "source": [
    "nums=[36, 5, -12, 9, -21]\n",
    "sorted(nums)"
   ],
   "metadata": {
    "collapsed": false,
    "pycharm": {
     "name": "#%%\n"
    }
   }
  },
  {
   "cell_type": "code",
   "execution_count": 51,
   "outputs": [
    {
     "data": {
      "text/plain": "[5, 9, -12, -21, 36]"
     },
     "execution_count": 51,
     "metadata": {},
     "output_type": "execute_result"
    }
   ],
   "source": [
    "# here we use the abs() function as custom sort. You can notice, the result is sorted by the absolut value, the sign is ignored\n",
    "sorted(nums,key=abs)"
   ],
   "metadata": {
    "collapsed": false,
    "pycharm": {
     "name": "#%%\n"
    }
   }
  },
  {
   "cell_type": "markdown",
   "source": [
    "We can also sort words"
   ],
   "metadata": {
    "collapsed": false,
    "pycharm": {
     "name": "#%% md\n"
    }
   }
  },
  {
   "cell_type": "code",
   "execution_count": 52,
   "outputs": [
    {
     "data": {
      "text/plain": "['Credit', 'Zoo', 'about', 'bob']"
     },
     "execution_count": 52,
     "metadata": {},
     "output_type": "execute_result"
    }
   ],
   "source": [
    "words=['bob', 'about', 'Zoo', 'Credit']\n",
    "sorted(words)"
   ],
   "metadata": {
    "collapsed": false,
    "pycharm": {
     "name": "#%%\n"
    }
   }
  },
  {
   "cell_type": "code",
   "execution_count": 53,
   "outputs": [
    {
     "data": {
      "text/plain": "['about', 'bob', 'Credit', 'Zoo']"
     },
     "execution_count": 53,
     "metadata": {},
     "output_type": "execute_result"
    }
   ],
   "source": [
    "# we can add lower case as key function\n",
    "sorted(words,key=str.lower)"
   ],
   "metadata": {
    "collapsed": false,
    "pycharm": {
     "name": "#%%\n"
    }
   }
  },
  {
   "cell_type": "code",
   "execution_count": 54,
   "outputs": [
    {
     "data": {
      "text/plain": "['Zoo', 'Credit', 'bob', 'about']"
     },
     "execution_count": 54,
     "metadata": {},
     "output_type": "execute_result"
    }
   ],
   "source": [
    "sorted(words,key=str.lower,reverse=True)"
   ],
   "metadata": {
    "collapsed": false,
    "pycharm": {
     "name": "#%%\n"
    }
   }
  },
  {
   "cell_type": "markdown",
   "source": [
    "#### Sorted function exercise\n",
    "\n",
    "Imagine we have below tuple\n",
    "\n",
    "L = [('Bob', 75), ('Adam', 92), ('Bart', 66), ('Lisa', 88)]\n",
    "\n",
    "Sort it by names first, then scores"
   ],
   "metadata": {
    "collapsed": false,
    "pycharm": {
     "name": "#%% md\n"
    }
   }
  },
  {
   "cell_type": "code",
   "execution_count": 55,
   "outputs": [],
   "source": [
    "def by_name(t):\n",
    "    return t[0]"
   ],
   "metadata": {
    "collapsed": false,
    "pycharm": {
     "name": "#%%\n"
    }
   }
  },
  {
   "cell_type": "code",
   "execution_count": 57,
   "outputs": [
    {
     "data": {
      "text/plain": "[('Adam', 92), ('Bart', 66), ('Bob', 75), ('Lisa', 88)]"
     },
     "execution_count": 57,
     "metadata": {},
     "output_type": "execute_result"
    }
   ],
   "source": [
    "L = [('Bob', 75), ('Adam', 92), ('Bart', 66), ('Lisa', 88)]\n",
    "sorted(L)"
   ],
   "metadata": {
    "collapsed": false,
    "pycharm": {
     "name": "#%%\n"
    }
   }
  },
  {
   "cell_type": "code",
   "execution_count": 58,
   "outputs": [
    {
     "data": {
      "text/plain": "[('Adam', 92), ('Bart', 66), ('Bob', 75), ('Lisa', 88)]"
     },
     "execution_count": 58,
     "metadata": {},
     "output_type": "execute_result"
    }
   ],
   "source": [
    "sorted(L,key=by_name)"
   ],
   "metadata": {
    "collapsed": false,
    "pycharm": {
     "name": "#%%\n"
    }
   }
  },
  {
   "cell_type": "code",
   "execution_count": 59,
   "outputs": [],
   "source": [
    "def by_score(t):\n",
    "    return t[1]"
   ],
   "metadata": {
    "collapsed": false,
    "pycharm": {
     "name": "#%%\n"
    }
   }
  },
  {
   "cell_type": "code",
   "execution_count": 60,
   "outputs": [
    {
     "data": {
      "text/plain": "[('Bart', 66), ('Bob', 75), ('Lisa', 88), ('Adam', 92)]"
     },
     "execution_count": 60,
     "metadata": {},
     "output_type": "execute_result"
    }
   ],
   "source": [
    "sorted(L,key=by_score)"
   ],
   "metadata": {
    "collapsed": false,
    "pycharm": {
     "name": "#%%\n"
    }
   }
  },
  {
   "cell_type": "code",
   "execution_count": null,
   "outputs": [],
   "source": [],
   "metadata": {
    "collapsed": false,
    "pycharm": {
     "name": "#%%\n"
    }
   }
  }
 ],
 "metadata": {
  "kernelspec": {
   "display_name": "Python 3",
   "language": "python",
   "name": "python3"
  },
  "language_info": {
   "codemirror_mode": {
    "name": "ipython",
    "version": 2
   },
   "file_extension": ".py",
   "mimetype": "text/x-python",
   "name": "python",
   "nbconvert_exporter": "python",
   "pygments_lexer": "ipython2",
   "version": "2.7.6"
  }
 },
 "nbformat": 4,
 "nbformat_minor": 0
}