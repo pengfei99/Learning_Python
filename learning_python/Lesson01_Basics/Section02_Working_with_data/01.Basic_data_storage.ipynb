{
 "cells": [
  {
   "cell_type": "markdown",
   "metadata": {},
   "source": [
    "# 1. Basic data storage\n",
    "\n",
    "All programs process data in one form or another, and many need to be able to save and retrieve that data from one invocation to the next. In `Python`, we have many ways to store data. \n",
    "- Flat files (e.g. csv, json, xml, etc.)\n",
    "- RDBMS (e.g. postgres, mysql, etc)\n",
    "- NoSQL DB (e.g. mongoDB, Neo4J, etc.)\n",
    "\n",
    "In this tutorial, we will use first flat files, then RDBMS (SQLite), to store and retrieve data. At last we will use `SQLAlchemy (ORM)` which allow you to map rows in a table with python object. `SQLite` is a light weight RDBMS which stores data in a single file without the need for complex installation."
   ]
  },
  {
   "cell_type": "markdown",
   "metadata": {},
   "source": [
    "## 1.1 Working with flat files \n",
    "\n",
    "### Advantages of Flat Files\n",
    "- Easy to use and implement\n",
    "- human-readable makes it easy to edit, view/examine, and transfer \n",
    "- support by many language and framework (import, export)\n",
    "\n",
    "\n",
    "### Disadvantages of Flat Files\n",
    "- performance: Large files are difficult to view/examine/edit\n",
    "- No explicit relation between data parts (tables). Relation need to be written in the business logic\n",
    "- No schema or data structure. Users need understand not only the structure of the data but also the programming tools necessary for accessing it.\n",
    "\n",
    "\n",
    "In below example, we use pandas to read the csv file. "
   ]
  },
  {
   "cell_type": "code",
   "execution_count": null,
   "metadata": {},
   "outputs": [],
   "source": [
    "import pandas as pd"
   ]
  },
  {
   "cell_type": "code",
   "execution_count": null,
   "metadata": {},
   "outputs": [],
   "source": [
    "def get_data(file_path):\n",
    "    return pd.read_csv(file_path)\n",
    "\n",
    "def get_books_by_publisher(data,ascending=True):\n",
    "    \"\"\"Return the number of books by each publisher as a pandas series\"\"\"\n",
    "    return data.groupby(\"publisher\").size().sort_values(ascending=ascending)\n",
    "\n",
    "def get_authors_by_publisher(data, ascending=True):\n",
    "    \"\"\"Returns the number of authors by each publisher as a pandas series\"\"\"\n",
    "    return (\n",
    "        data.assign(name=data.first_name.str.cat(data.last_name, sep=\" \"))\n",
    "        .groupby(\"publisher\")\n",
    "        .nunique()\n",
    "        .loc[:, \"name\"]\n",
    "        .sort_values(ascending=ascending)\n",
    "    )\n",
    "\n",
    "def add_new_book(data, author_name, book_title, publisher_name):\n",
    "    \"\"\"Adds a new book to the system\"\"\"\n",
    "    # Does the book exist?\n",
    "    first_name, _, last_name = author_name.partition(\" \")\n",
    "    if any(\n",
    "        (data.first_name == first_name)\n",
    "        & (data.last_name == last_name)\n",
    "        & (data.title == book_title)\n",
    "        & (data.publisher == publisher_name)\n",
    "    ):\n",
    "        return data\n",
    "    # Add the new book\n",
    "    return data.append(\n",
    "        {\n",
    "            \"first_name\": first_name,\n",
    "            \"last_name\": last_name,\n",
    "            \"title\": book_title,\n",
    "            \"publisher\": publisher_name,\n",
    "        },\n",
    "        ignore_index=True,\n",
    "    )\n",
    "\n",
    "def output_author_hierarchy(data):\n",
    "    \"\"\"Output the data as a hierarchy list of authors\"\"\"\n",
    "    authors = data.assign(\n",
    "        name=data.first_name.str.cat(data.last_name, sep=\" \")\n",
    "    )\n",
    "    authors_tree = Tree()\n",
    "    authors_tree.create_node(\"Authors\", \"authors\")\n",
    "    for author, books in authors.groupby(\"name\"):\n",
    "        authors_tree.create_node(author, author, parent=\"authors\")\n",
    "        for book, publishers in books.groupby(\"title\")[\"publisher\"]:\n",
    "            book_id = f\"{author}:{book}\"\n",
    "            authors_tree.create_node(book, book_id, parent=author)\n",
    "            for publisher in publishers:\n",
    "                authors_tree.create_node(publisher, parent=book_id)\n",
    "\n",
    "    # Output the hierarchical authors data\n",
    "    authors_tree.show()"
   ]
  },
  {
   "cell_type": "markdown",
   "metadata": {},
   "source": [
    "Below is the main function that calls the above functions "
   ]
  },
  {
   "cell_type": "code",
   "execution_count": 1,
   "metadata": {},
   "outputs": [],
   "source": [
    "def main():\n",
    "    \"\"\"The main entry point of the program\"\"\"\n",
    "    # Get the resources for the program\n",
    "    with resources.path(\n",
    "        \"project.data\", \"author_book_publisher.csv\"\n",
    "    ) as filepath:\n",
    "        data = get_data(filepath)\n",
    "\n",
    "    # Get the number of books printed by each publisher\n",
    "    books_by_publisher = get_books_by_publisher(data, ascending=False)\n",
    "    for publisher, total_books in books_by_publisher.items():\n",
    "        print(f\"Publisher: {publisher}, total books: {total_books}\")\n",
    "    print()\n",
    "\n",
    "    # Get the number of authors each publisher publishes\n",
    "    authors_by_publisher = get_authors_by_publisher(data, ascending=False)\n",
    "    for publisher, total_authors in authors_by_publisher.items():\n",
    "        print(f\"Publisher: {publisher}, total authors: {total_authors}\")\n",
    "    print()\n",
    "\n",
    "    # Output hierarchical authors data\n",
    "    output_author_hierarchy(data)\n",
    "\n",
    "    # Add a new book to the data structure\n",
    "    data = add_new_book(\n",
    "        data,\n",
    "        author_name=\"Stephen King\",\n",
    "        book_title=\"The Stand\",\n",
    "        publisher_name=\"Random House\",\n",
    "    )\n",
    "\n",
    "    # Output the updated hierarchical authors data\n",
    "    output_author_hierarchy(data)"
   ]
  }
 ],
 "metadata": {
  "kernelspec": {
   "display_name": "base",
   "language": "python",
   "name": "python3"
  },
  "language_info": {
   "codemirror_mode": {
    "name": "ipython",
    "version": 3
   },
   "file_extension": ".py",
   "mimetype": "text/x-python",
   "name": "python",
   "nbconvert_exporter": "python",
   "pygments_lexer": "ipython3",
   "version": "3.10.4"
  },
  "orig_nbformat": 4,
  "vscode": {
   "interpreter": {
    "hash": "3fa046f995eb80ac40c0869a1f9df46519f4ada8b8c395ef25dd1aa1a1a2fc63"
   }
  }
 },
 "nbformat": 4,
 "nbformat_minor": 2
}
