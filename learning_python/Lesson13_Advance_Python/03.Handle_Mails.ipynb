{
 "cells": [
  {
   "cell_type": "markdown",
   "source": [
    "# Use python to connect to a smtp server to send emails\n",
    "\n"
   ],
   "metadata": {
    "collapsed": false
   },
   "id": "9cd322fd4297a7a5"
  },
  {
   "cell_type": "code",
   "execution_count": 2,
   "outputs": [
    {
     "ename": "SMTPAuthenticationError",
     "evalue": "(535, b'5.7.8 Username and Password not accepted. For more information, go to\\n5.7.8  https://support.google.com/mail/?p=BadCredentials n38-20020a05600c502600b004169df54d19sm2610113wmr.28 - gsmtp')",
     "output_type": "error",
     "traceback": [
      "\u001B[0;31m---------------------------------------------------------------------------\u001B[0m",
      "\u001B[0;31mSMTPAuthenticationError\u001B[0m                   Traceback (most recent call last)",
      "Cell \u001B[0;32mIn[2], line 26\u001B[0m\n\u001B[1;32m     23\u001B[0m server\u001B[38;5;241m.\u001B[39mstarttls()\n\u001B[1;32m     25\u001B[0m \u001B[38;5;66;03m# Login to your Gmail account\u001B[39;00m\n\u001B[0;32m---> 26\u001B[0m \u001B[43mserver\u001B[49m\u001B[38;5;241;43m.\u001B[39;49m\u001B[43mlogin\u001B[49m\u001B[43m(\u001B[49m\u001B[43msender_email\u001B[49m\u001B[43m,\u001B[49m\u001B[43m \u001B[49m\u001B[43mpassword\u001B[49m\u001B[43m)\u001B[49m\n\u001B[1;32m     28\u001B[0m \u001B[38;5;66;03m# Send the email\u001B[39;00m\n\u001B[1;32m     29\u001B[0m server\u001B[38;5;241m.\u001B[39msendmail(sender_email, receiver_email, msg\u001B[38;5;241m.\u001B[39mas_string())\n",
      "File \u001B[0;32m/usr/lib/python3.8/smtplib.py:743\u001B[0m, in \u001B[0;36mSMTP.login\u001B[0;34m(self, user, password, initial_response_ok)\u001B[0m\n\u001B[1;32m    740\u001B[0m         last_exception \u001B[38;5;241m=\u001B[39m e\n\u001B[1;32m    742\u001B[0m \u001B[38;5;66;03m# We could not login successfully.  Return result of last attempt.\u001B[39;00m\n\u001B[0;32m--> 743\u001B[0m \u001B[38;5;28;01mraise\u001B[39;00m last_exception\n",
      "File \u001B[0;32m/usr/lib/python3.8/smtplib.py:732\u001B[0m, in \u001B[0;36mSMTP.login\u001B[0;34m(self, user, password, initial_response_ok)\u001B[0m\n\u001B[1;32m    730\u001B[0m method_name \u001B[38;5;241m=\u001B[39m \u001B[38;5;124m'\u001B[39m\u001B[38;5;124mauth_\u001B[39m\u001B[38;5;124m'\u001B[39m \u001B[38;5;241m+\u001B[39m authmethod\u001B[38;5;241m.\u001B[39mlower()\u001B[38;5;241m.\u001B[39mreplace(\u001B[38;5;124m'\u001B[39m\u001B[38;5;124m-\u001B[39m\u001B[38;5;124m'\u001B[39m, \u001B[38;5;124m'\u001B[39m\u001B[38;5;124m_\u001B[39m\u001B[38;5;124m'\u001B[39m)\n\u001B[1;32m    731\u001B[0m \u001B[38;5;28;01mtry\u001B[39;00m:\n\u001B[0;32m--> 732\u001B[0m     (code, resp) \u001B[38;5;241m=\u001B[39m \u001B[38;5;28;43mself\u001B[39;49m\u001B[38;5;241;43m.\u001B[39;49m\u001B[43mauth\u001B[49m\u001B[43m(\u001B[49m\n\u001B[1;32m    733\u001B[0m \u001B[43m        \u001B[49m\u001B[43mauthmethod\u001B[49m\u001B[43m,\u001B[49m\u001B[43m \u001B[49m\u001B[38;5;28;43mgetattr\u001B[39;49m\u001B[43m(\u001B[49m\u001B[38;5;28;43mself\u001B[39;49m\u001B[43m,\u001B[49m\u001B[43m \u001B[49m\u001B[43mmethod_name\u001B[49m\u001B[43m)\u001B[49m\u001B[43m,\u001B[49m\n\u001B[1;32m    734\u001B[0m \u001B[43m        \u001B[49m\u001B[43minitial_response_ok\u001B[49m\u001B[38;5;241;43m=\u001B[39;49m\u001B[43minitial_response_ok\u001B[49m\u001B[43m)\u001B[49m\n\u001B[1;32m    735\u001B[0m     \u001B[38;5;66;03m# 235 == 'Authentication successful'\u001B[39;00m\n\u001B[1;32m    736\u001B[0m     \u001B[38;5;66;03m# 503 == 'Error: already authenticated'\u001B[39;00m\n\u001B[1;32m    737\u001B[0m     \u001B[38;5;28;01mif\u001B[39;00m code \u001B[38;5;129;01min\u001B[39;00m (\u001B[38;5;241m235\u001B[39m, \u001B[38;5;241m503\u001B[39m):\n",
      "File \u001B[0;32m/usr/lib/python3.8/smtplib.py:655\u001B[0m, in \u001B[0;36mSMTP.auth\u001B[0;34m(self, mechanism, authobject, initial_response_ok)\u001B[0m\n\u001B[1;32m    653\u001B[0m \u001B[38;5;28;01mif\u001B[39;00m code \u001B[38;5;129;01min\u001B[39;00m (\u001B[38;5;241m235\u001B[39m, \u001B[38;5;241m503\u001B[39m):\n\u001B[1;32m    654\u001B[0m     \u001B[38;5;28;01mreturn\u001B[39;00m (code, resp)\n\u001B[0;32m--> 655\u001B[0m \u001B[38;5;28;01mraise\u001B[39;00m SMTPAuthenticationError(code, resp)\n",
      "\u001B[0;31mSMTPAuthenticationError\u001B[0m: (535, b'5.7.8 Username and Password not accepted. For more information, go to\\n5.7.8  https://support.google.com/mail/?p=BadCredentials n38-20020a05600c502600b004169df54d19sm2610113wmr.28 - gsmtp')"
     ]
    }
   ],
   "source": [
    "import smtplib\n",
    "from email.mime.multipart import MIMEMultipart\n",
    "from email.mime.text import MIMEText\n",
    "from creds.passwords import gmail_pwd\n",
    "\n",
    "# Email configuration\n",
    "sender_email = \"liu.pengfei99@gmail.com\"\n",
    "receiver_email = \"liu.pengfei@hotmail.fr\"\n",
    "password = gmail_pwd\n",
    "\n",
    "# Create message container\n",
    "msg = MIMEMultipart()\n",
    "msg['From'] = sender_email\n",
    "msg['To'] = receiver_email\n",
    "msg['Subject'] = \"Smtp server test\"\n",
    "\n",
    "# Email body\n",
    "body = \"This is the body of the email.\"\n",
    "msg.attach(MIMEText(body, 'plain'))\n",
    "\n",
    "# Connect to Gmail's SMTP server\n",
    "server = smtplib.SMTP('smtp.gmail.com', 587)\n",
    "server.starttls()\n",
    "\n",
    "# Login to your Gmail account\n",
    "server.login(sender_email, password)\n",
    "\n",
    "# Send the email\n",
    "server.sendmail(sender_email, receiver_email, msg.as_string())\n",
    "\n",
    "# Close the connection\n",
    "server.quit()\n"
   ],
   "metadata": {
    "collapsed": false,
    "ExecuteTime": {
     "end_time": "2024-04-09T09:11:46.966523710Z",
     "start_time": "2024-04-09T09:11:45.442662863Z"
    }
   },
   "id": "8159a83d972b8b4e"
  },
  {
   "cell_type": "code",
   "execution_count": null,
   "outputs": [],
   "source": [],
   "metadata": {
    "collapsed": false
   },
   "id": "850f3a9315ae0bae"
  }
 ],
 "metadata": {
  "kernelspec": {
   "display_name": "Python 3",
   "language": "python",
   "name": "python3"
  },
  "language_info": {
   "codemirror_mode": {
    "name": "ipython",
    "version": 2
   },
   "file_extension": ".py",
   "mimetype": "text/x-python",
   "name": "python",
   "nbconvert_exporter": "python",
   "pygments_lexer": "ipython2",
   "version": "2.7.6"
  }
 },
 "nbformat": 4,
 "nbformat_minor": 5
}
