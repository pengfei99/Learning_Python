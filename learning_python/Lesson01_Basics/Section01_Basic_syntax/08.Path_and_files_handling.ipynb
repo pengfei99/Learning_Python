{
 "cells": [
  {
   "cell_type": "markdown",
   "metadata": {
    "collapsed": true,
    "pycharm": {
     "name": "#%% md\n"
    }
   },
   "source": [
    "# 8. Handling path and files\n",
    "\n",
    "Getting a list of all the `files and folders in a directory` is a natural first step for many file-related operations in Python.\n",
    "\n",
    "In this section, we will learn how to use the most general-purpose techniques in the **pathlib** module to list items in a directory. Before `pathlib` came out in Python 3.4, if you wanted to work with file paths, then you’d use the `os module`. While this was very efficient in terms of performance, you had to handle all the `paths as strings`.\n",
    "\n",
    "If you only work in one OS, handle as string is ok. But once you start bringing multiple operating systems into the mix, you need to write a bunch of code related to string manipulation for adapting different OS.\n"
   ]
  },
  {
   "cell_type": "code",
   "execution_count": 1,
   "outputs": [],
   "source": [
    "import pathlib"
   ],
   "metadata": {
    "collapsed": false,
    "pycharm": {
     "name": "#%%\n"
    }
   }
  },
  {
   "cell_type": "markdown",
   "source": [
    "## 8.1 Path object\n",
    "\n",
    "In the first step, pathlib will `convert a string path to a Path object`, which will be different depending on your operating system (OS). On Windows, you’ll get a `WindowsPath object`, while Linux and macOS will return `PosixPath`\n",
    "\n",
    "```python\n",
    "import pathlib\n",
    "desktop = pathlib.Path(\"C:/Users/toto/Desktop\")\n",
    "desktop\n",
    "# output\n",
    "# WindowsPath(\"C:/Users/toto/Desktop\")\n",
    "\n",
    "# for linux/MacOs\n",
    "desktop = pathlib.Path(\"/home/toto/Desktop\")\n",
    "desktop\n",
    "# output\n",
    "# PosixPath('/home/toto/Desktop')\n",
    "```\n"
   ],
   "metadata": {
    "collapsed": false,
    "pycharm": {
     "name": "#%% md\n"
    }
   }
  },
  {
   "cell_type": "markdown",
   "source": [
    "An example of path object"
   ],
   "metadata": {
    "collapsed": false
   }
  },
  {
   "cell_type": "code",
   "execution_count": 5,
   "outputs": [],
   "source": [
    "path_str=\"/home/pliu/git/RecetteConstance\"\n",
    "root_path=pathlib.Path(path_str)\n",
    "\n",
    "raw_data_folder_path=f\"{path_str}/data\"\n",
    "data_folder_path=pathlib.Path(raw_data_folder_path)"
   ],
   "metadata": {
    "collapsed": false
   }
  },
  {
   "cell_type": "code",
   "execution_count": 6,
   "outputs": [
    {
     "data": {
      "text/plain": "PosixPath('/home/pliu/git/RecetteConstance/data')"
     },
     "execution_count": 6,
     "metadata": {},
     "output_type": "execute_result"
    }
   ],
   "source": [
    "data_folder_path"
   ],
   "metadata": {
    "collapsed": false
   }
  },
  {
   "cell_type": "markdown",
   "source": [
    "## 8.2 List contents of a path(directory)\n",
    "\n",
    "If you only need to list the contents of a given directory, and you don’t need to get the contents of each subdirectory too, then you can use the **Path object’s .iterdir()** method."
   ],
   "metadata": {
    "collapsed": false
   }
  },
  {
   "cell_type": "code",
   "execution_count": 7,
   "outputs": [
    {
     "name": "stdout",
     "output_type": "stream",
     "text": [
      "file path: /home/pliu/git/RecetteConstance/data/dia_gen_2019.csv\n",
      "file path: /home/pliu/git/RecetteConstance/data/Descripteur_CONSTANCES_Extraction2014.csv\n",
      "file path: /home/pliu/git/RecetteConstance/data/diabetes.csv\n",
      "file path: /home/pliu/git/RecetteConstance/data/dia_gen_2018.csv\n",
      "file path: /home/pliu/git/RecetteConstance/data/diabetes_profile_report.html\n",
      "file path: /home/pliu/git/RecetteConstance/data/descriptor.json\n",
      "file path: /home/pliu/git/RecetteConstance/data/dia_gen_2020.csv\n",
      "file path: /home/pliu/git/RecetteConstance/data/updated_descriptor.json\n"
     ]
    }
   ],
   "source": [
    "file_list=list(data_folder_path.iterdir())\n",
    "for file in file_list:\n",
    "    print(f\"file path: {file}\")\n"
   ],
   "metadata": {
    "collapsed": false
   }
  },
  {
   "cell_type": "markdown",
   "source": [
    "Note the `.iterdir()` returns an iterator of Path object item. The Path object has function `is_dir()` to tell you it's a file or directory."
   ],
   "metadata": {
    "collapsed": false
   }
  },
  {
   "cell_type": "code",
   "execution_count": 8,
   "outputs": [
    {
     "name": "stdout",
     "output_type": "stream",
     "text": [
      "/home/pliu/git/RecetteConstance/pyproject.toml - file\n",
      "/home/pliu/git/RecetteConstance/.idea - dir\n",
      "/home/pliu/git/RecetteConstance/data - dir\n",
      "/home/pliu/git/RecetteConstance/README.md - file\n",
      "/home/pliu/git/RecetteConstance/src - dir\n",
      "/home/pliu/git/RecetteConstance/LICENSE - file\n",
      "/home/pliu/git/RecetteConstance/.git - dir\n",
      "/home/pliu/git/RecetteConstance/notebooks - dir\n",
      "/home/pliu/git/RecetteConstance/.gitignore - file\n",
      "/home/pliu/git/RecetteConstance/poetry.lock - file\n"
     ]
    }
   ],
   "source": [
    "for item in root_path.iterdir():\n",
    "    print(f\"{item} - {'dir' if item.is_dir() else 'file'}\")"
   ],
   "metadata": {
    "collapsed": false
   }
  },
  {
   "cell_type": "markdown",
   "source": [
    "With .is_dir() method, we can also return only files or directories of a path"
   ],
   "metadata": {
    "collapsed": false,
    "pycharm": {
     "name": "#%% md\n"
    }
   }
  },
  {
   "cell_type": "code",
   "execution_count": 16,
   "outputs": [],
   "source": [
    "def get_all_files_of_path(path_obj):\n",
    "    return [item for item in path_obj.iterdir() if not item.is_dir()]\n",
    "\n",
    "def get_all_dirs_of_path(path_obj):\n",
    "    return [item for item in path_obj.iterdir() if item.is_dir()]\n"
   ],
   "metadata": {
    "collapsed": false,
    "pycharm": {
     "name": "#%%\n"
    }
   }
  },
  {
   "cell_type": "code",
   "execution_count": 17,
   "outputs": [
    {
     "name": "stdout",
     "output_type": "stream",
     "text": [
      "[PosixPath('/home/pliu/git/RecetteConstance/pyproject.toml'), PosixPath('/home/pliu/git/RecetteConstance/README.md'), PosixPath('/home/pliu/git/RecetteConstance/LICENSE'), PosixPath('/home/pliu/git/RecetteConstance/.gitignore'), PosixPath('/home/pliu/git/RecetteConstance/poetry.lock')]\n"
     ]
    }
   ],
   "source": [
    "file_list=get_all_files_of_path(root_path)\n",
    "print(file_list)"
   ],
   "metadata": {
    "collapsed": false,
    "pycharm": {
     "name": "#%%\n"
    }
   }
  },
  {
   "cell_type": "code",
   "execution_count": 18,
   "outputs": [
    {
     "name": "stdout",
     "output_type": "stream",
     "text": [
      "[PosixPath('/home/pliu/git/RecetteConstance/.idea'), PosixPath('/home/pliu/git/RecetteConstance/data'), PosixPath('/home/pliu/git/RecetteConstance/src'), PosixPath('/home/pliu/git/RecetteConstance/.git'), PosixPath('/home/pliu/git/RecetteConstance/notebooks')]\n"
     ]
    }
   ],
   "source": [
    "dir_list=get_all_dirs_of_path(root_path)\n",
    "print(dir_list)"
   ],
   "metadata": {
    "collapsed": false,
    "pycharm": {
     "name": "#%%\n"
    }
   }
  },
  {
   "cell_type": "markdown",
   "source": [
    "## 8.3 Recursively Listing With .rglob()\n",
    "\n",
    "To recursively list the items in a directory means to list not only the directory’s contents, but also the contents of the subdirectories, their subdirectories, and so on. With pathlib, You can use **.rglob()** to return absolutely everything.\n",
    "\n"
   ],
   "metadata": {
    "collapsed": false,
    "pycharm": {
     "name": "#%% md\n"
    }
   }
  },
  {
   "cell_type": "code",
   "execution_count": 20,
   "outputs": [
    {
     "data": {
      "text/plain": "<generator object Path.rglob at 0x7f0024febe40>"
     },
     "execution_count": 20,
     "metadata": {},
     "output_type": "execute_result"
    }
   ],
   "source": [
    "# It returns a generator by default, you can convert it to a list\n",
    "root_path.rglob(\"*\")"
   ],
   "metadata": {
    "collapsed": false,
    "pycharm": {
     "name": "#%%\n"
    }
   }
  },
  {
   "cell_type": "code",
   "execution_count": 21,
   "outputs": [
    {
     "data": {
      "text/plain": "[PosixPath('/home/pliu/git/RecetteConstance/pyproject.toml'),\n PosixPath('/home/pliu/git/RecetteConstance/.idea'),\n PosixPath('/home/pliu/git/RecetteConstance/data'),\n PosixPath('/home/pliu/git/RecetteConstance/README.md'),\n PosixPath('/home/pliu/git/RecetteConstance/src'),\n PosixPath('/home/pliu/git/RecetteConstance/LICENSE'),\n PosixPath('/home/pliu/git/RecetteConstance/.git'),\n PosixPath('/home/pliu/git/RecetteConstance/notebooks'),\n PosixPath('/home/pliu/git/RecetteConstance/.gitignore'),\n PosixPath('/home/pliu/git/RecetteConstance/poetry.lock'),\n PosixPath('/home/pliu/git/RecetteConstance/.idea/inspectionProfiles'),\n PosixPath('/home/pliu/git/RecetteConstance/.idea/vcs.xml'),\n PosixPath('/home/pliu/git/RecetteConstance/.idea/RecetteConstance.iml'),\n PosixPath('/home/pliu/git/RecetteConstance/.idea/workspace.xml'),\n PosixPath('/home/pliu/git/RecetteConstance/.idea/misc.xml'),\n PosixPath('/home/pliu/git/RecetteConstance/.idea/.gitignore'),\n PosixPath('/home/pliu/git/RecetteConstance/.idea/modules.xml'),\n PosixPath('/home/pliu/git/RecetteConstance/.idea/ZeppelinRemoteNotebooks'),\n PosixPath('/home/pliu/git/RecetteConstance/.idea/inspectionProfiles/Project_Default.xml'),\n PosixPath('/home/pliu/git/RecetteConstance/.idea/inspectionProfiles/profiles_settings.xml'),\n PosixPath('/home/pliu/git/RecetteConstance/data/dia_gen_2019.csv'),\n PosixPath('/home/pliu/git/RecetteConstance/data/Descripteur_CONSTANCES_Extraction2014.csv'),\n PosixPath('/home/pliu/git/RecetteConstance/data/diabetes.csv'),\n PosixPath('/home/pliu/git/RecetteConstance/data/dia_gen_2018.csv'),\n PosixPath('/home/pliu/git/RecetteConstance/data/diabetes_profile_report.html'),\n PosixPath('/home/pliu/git/RecetteConstance/data/descriptor.json'),\n PosixPath('/home/pliu/git/RecetteConstance/data/dia_gen_2020.csv'),\n PosixPath('/home/pliu/git/RecetteConstance/data/updated_descriptor.json'),\n PosixPath('/home/pliu/git/RecetteConstance/src/GenerateSampleData.py'),\n PosixPath('/home/pliu/git/RecetteConstance/src/GenerateDescriptor.py'),\n PosixPath('/home/pliu/git/RecetteConstance/src/DataReader.py'),\n PosixPath('/home/pliu/git/RecetteConstance/src/__init__.py'),\n PosixPath('/home/pliu/git/RecetteConstance/.git/branches'),\n PosixPath('/home/pliu/git/RecetteConstance/.git/info'),\n PosixPath('/home/pliu/git/RecetteConstance/.git/logs'),\n PosixPath('/home/pliu/git/RecetteConstance/.git/index'),\n PosixPath('/home/pliu/git/RecetteConstance/.git/refs'),\n PosixPath('/home/pliu/git/RecetteConstance/.git/HEAD'),\n PosixPath('/home/pliu/git/RecetteConstance/.git/description'),\n PosixPath('/home/pliu/git/RecetteConstance/.git/COMMIT_EDITMSG'),\n PosixPath('/home/pliu/git/RecetteConstance/.git/packed-refs'),\n PosixPath('/home/pliu/git/RecetteConstance/.git/objects'),\n PosixPath('/home/pliu/git/RecetteConstance/.git/hooks'),\n PosixPath('/home/pliu/git/RecetteConstance/.git/FETCH_HEAD'),\n PosixPath('/home/pliu/git/RecetteConstance/.git/config'),\n PosixPath('/home/pliu/git/RecetteConstance/.git/ORIG_HEAD'),\n PosixPath('/home/pliu/git/RecetteConstance/.git/info/exclude'),\n PosixPath('/home/pliu/git/RecetteConstance/.git/logs/refs'),\n PosixPath('/home/pliu/git/RecetteConstance/.git/logs/HEAD'),\n PosixPath('/home/pliu/git/RecetteConstance/.git/logs/refs/heads'),\n PosixPath('/home/pliu/git/RecetteConstance/.git/logs/refs/remotes'),\n PosixPath('/home/pliu/git/RecetteConstance/.git/logs/refs/heads/main'),\n PosixPath('/home/pliu/git/RecetteConstance/.git/logs/refs/remotes/origin'),\n PosixPath('/home/pliu/git/RecetteConstance/.git/logs/refs/remotes/origin/HEAD'),\n PosixPath('/home/pliu/git/RecetteConstance/.git/logs/refs/remotes/origin/main'),\n PosixPath('/home/pliu/git/RecetteConstance/.git/refs/heads'),\n PosixPath('/home/pliu/git/RecetteConstance/.git/refs/remotes'),\n PosixPath('/home/pliu/git/RecetteConstance/.git/refs/tags'),\n PosixPath('/home/pliu/git/RecetteConstance/.git/refs/heads/main'),\n PosixPath('/home/pliu/git/RecetteConstance/.git/refs/remotes/origin'),\n PosixPath('/home/pliu/git/RecetteConstance/.git/refs/remotes/origin/HEAD'),\n PosixPath('/home/pliu/git/RecetteConstance/.git/refs/remotes/origin/main'),\n PosixPath('/home/pliu/git/RecetteConstance/.git/objects/9c'),\n PosixPath('/home/pliu/git/RecetteConstance/.git/objects/info'),\n PosixPath('/home/pliu/git/RecetteConstance/.git/objects/fe'),\n PosixPath('/home/pliu/git/RecetteConstance/.git/objects/pack'),\n PosixPath('/home/pliu/git/RecetteConstance/.git/objects/9b'),\n PosixPath('/home/pliu/git/RecetteConstance/.git/objects/9c/407899b8147498da39e92cbda93b6d31620bc2'),\n PosixPath('/home/pliu/git/RecetteConstance/.git/objects/fe/be689c4a9d5c92f9d2cb1704d50a9f1c9796d7'),\n PosixPath('/home/pliu/git/RecetteConstance/.git/objects/pack/pack-007678f95287d27de1002778a15430d51833eb46.idx'),\n PosixPath('/home/pliu/git/RecetteConstance/.git/objects/pack/pack-007678f95287d27de1002778a15430d51833eb46.pack'),\n PosixPath('/home/pliu/git/RecetteConstance/.git/objects/9b/065c83fd73abd23c69cfd34d19bcabdee80189'),\n PosixPath('/home/pliu/git/RecetteConstance/.git/hooks/commit-msg.sample'),\n PosixPath('/home/pliu/git/RecetteConstance/.git/hooks/fsmonitor-watchman.sample'),\n PosixPath('/home/pliu/git/RecetteConstance/.git/hooks/pre-push.sample'),\n PosixPath('/home/pliu/git/RecetteConstance/.git/hooks/prepare-commit-msg.sample'),\n PosixPath('/home/pliu/git/RecetteConstance/.git/hooks/pre-applypatch.sample'),\n PosixPath('/home/pliu/git/RecetteConstance/.git/hooks/update.sample'),\n PosixPath('/home/pliu/git/RecetteConstance/.git/hooks/pre-rebase.sample'),\n PosixPath('/home/pliu/git/RecetteConstance/.git/hooks/applypatch-msg.sample'),\n PosixPath('/home/pliu/git/RecetteConstance/.git/hooks/post-update.sample'),\n PosixPath('/home/pliu/git/RecetteConstance/.git/hooks/pre-commit.sample'),\n PosixPath('/home/pliu/git/RecetteConstance/.git/hooks/pre-receive.sample'),\n PosixPath('/home/pliu/git/RecetteConstance/.git/hooks/pre-merge-commit.sample'),\n PosixPath('/home/pliu/git/RecetteConstance/notebooks/03.Check_file_number_and_names.ipynb'),\n PosixPath('/home/pliu/git/RecetteConstance/notebooks/01.check_data_format.ipynb'),\n PosixPath('/home/pliu/git/RecetteConstance/notebooks/02.EDA_on_descriptor.ipynb')]"
     },
     "execution_count": 21,
     "metadata": {},
     "output_type": "execute_result"
    }
   ],
   "source": [
    "list(root_path.rglob(\"*\"))"
   ],
   "metadata": {
    "collapsed": false,
    "pycharm": {
     "name": "#%%\n"
    }
   }
  },
  {
   "cell_type": "markdown",
   "source": [
    "The `.rglob() method with \"*\"` as an argument produces a generator that yields all the files and folders from the Path object recursively."
   ],
   "metadata": {
    "collapsed": false,
    "pycharm": {
     "name": "#%% md\n"
    }
   }
  },
  {
   "cell_type": "markdown",
   "source": [
    "## 8.4 Filter return content with regex\n",
    "\n",
    "Sometimes you don’t want all the files. So you need to filter the result with a certain pattern of characters in their name.\n",
    "\n",
    "Pathlib provides `.rglob() and .glob()` method. Both of these methods make use of [glob patterns](https://en.wikipedia.org/wiki/Glob_(programming)). Glob patterns make use of wildcard characters to match on certain criteria. For example, the single asterisk * matches everything in the directory.\n",
    "\n",
    "There are many glob patterns that you can take advantage of. Check out the following selection of glob patterns for some ideas:\n",
    "\n",
    "| Glob Pattern\t    | Matches                                                                                                                  |\n",
    "|------------------|--------------------------------------------------------------------------------------------------------------------------|\n",
    "| *\t               | Every item                                                                                                               |\n",
    "| *.txt\t           | Every item ending in .txt, such as notes.txt or hello.txt                                                                |\n",
    "| ??????\t          | Every item whose name is six characters long, such as 01.txt, A-01.c, or .zshrc                                          |\n",
    "| A*\t              | Every item that starts with the character A, such as Album, A.txt, or AppData                                            |\n",
    "| [abc][abc][abc]\t | Every item whose name is three characters long but only composed of the characters a, b, and c, such as abc, aaa, or cba |\n",
    "\n",
    "With these patterns, you can flexibly match many types of files. Check out the documentation on [fnmatch](https://docs.python.org/3/library/fnmatch.html#module-fnmatch), which is the underlying module governing the behavior of .glob(), to get a feel for the other patterns that you can use in Python.\n",
    "\n",
    "Note that on **Windows, glob patterns are case-insensitive**, because paths are case-insensitive in general. On Unix-like systems like **Linux and macOS, glob patterns are case-sensitive**."
   ],
   "metadata": {
    "collapsed": false,
    "pycharm": {
     "name": "#%% md\n"
    }
   }
  },
  {
   "cell_type": "markdown",
   "source": [
    "### 8.4.1 Some example of glob\n",
    "\n",
    "The .glob() method of a Path object behaves in much the same way as .rglob(). If you pass the \"*\" argument, then you’ll get a list of items in the directory, but `without recursion`. It produces a `generator that yields all the items in the directory` that’s represented by the Path object, without going into the subdirectories. In this way, it produces the same result as .iterdir(), and you can use the resulting generator in a for loop or a comprehension, just as you would with iterdir()."
   ],
   "metadata": {
    "collapsed": false,
    "pycharm": {
     "name": "#%% md\n"
    }
   }
  },
  {
   "cell_type": "code",
   "execution_count": 22,
   "outputs": [
    {
     "data": {
      "text/plain": "[PosixPath('/home/pliu/git/RecetteConstance/pyproject.toml'),\n PosixPath('/home/pliu/git/RecetteConstance/.idea'),\n PosixPath('/home/pliu/git/RecetteConstance/data'),\n PosixPath('/home/pliu/git/RecetteConstance/README.md'),\n PosixPath('/home/pliu/git/RecetteConstance/src'),\n PosixPath('/home/pliu/git/RecetteConstance/LICENSE'),\n PosixPath('/home/pliu/git/RecetteConstance/.git'),\n PosixPath('/home/pliu/git/RecetteConstance/notebooks'),\n PosixPath('/home/pliu/git/RecetteConstance/.gitignore'),\n PosixPath('/home/pliu/git/RecetteConstance/poetry.lock')]"
     },
     "execution_count": 22,
     "metadata": {},
     "output_type": "execute_result"
    }
   ],
   "source": [
    "list(root_path.glob(\"*\"))"
   ],
   "metadata": {
    "collapsed": false,
    "pycharm": {
     "name": "#%%\n"
    }
   }
  },
  {
   "cell_type": "code",
   "execution_count": 23,
   "outputs": [
    {
     "data": {
      "text/plain": "[PosixPath('/home/pliu/git/RecetteConstance/README.md')]"
     },
     "execution_count": 23,
     "metadata": {},
     "output_type": "execute_result"
    }
   ],
   "source": [
    "# list items finish with .md\n",
    "list(root_path.glob(\"*.md\"))"
   ],
   "metadata": {
    "collapsed": false,
    "pycharm": {
     "name": "#%%\n"
    }
   }
  },
  {
   "cell_type": "markdown",
   "source": [
    "### 8.4.2 Example of rglob\n",
    "\n",
    "rglob is just the recursive version of glob."
   ],
   "metadata": {
    "collapsed": false,
    "pycharm": {
     "name": "#%% md\n"
    }
   }
  },
  {
   "cell_type": "code",
   "execution_count": 16,
   "outputs": [
    {
     "data": {
      "text/plain": "[PosixPath('/home/pengfei/git/RecetteConstance/data/dia_gen_2019.csv'),\n PosixPath('/home/pengfei/git/RecetteConstance/data/dia_gen_2020.csv'),\n PosixPath('/home/pengfei/git/RecetteConstance/data/Descripteur_CONSTANCES_Extraction2014.csv'),\n PosixPath('/home/pengfei/git/RecetteConstance/data/diabetes.csv'),\n PosixPath('/home/pengfei/git/RecetteConstance/data/dia_gen_2018.csv')]"
     },
     "execution_count": 16,
     "metadata": {},
     "output_type": "execute_result"
    }
   ],
   "source": [
    "# find all csv file under root path recursively\n",
    "list(root_path.rglob(\"*.csv\"))"
   ],
   "metadata": {
    "collapsed": false
   }
  },
  {
   "cell_type": "code",
   "execution_count": 24,
   "outputs": [
    {
     "data": {
      "text/plain": "[]"
     },
     "execution_count": 24,
     "metadata": {},
     "output_type": "execute_result"
    }
   ],
   "source": [
    "# find all csv file under root path\n",
    "list(root_path.glob(\"*.csv\"))"
   ],
   "metadata": {
    "collapsed": false
   }
  },
  {
   "cell_type": "code",
   "execution_count": 25,
   "outputs": [
    {
     "data": {
      "text/plain": "[PosixPath('/home/pliu/git/RecetteConstance/data/dia_gen_2019.csv'),\n PosixPath('/home/pliu/git/RecetteConstance/data/Descripteur_CONSTANCES_Extraction2014.csv'),\n PosixPath('/home/pliu/git/RecetteConstance/data/diabetes.csv'),\n PosixPath('/home/pliu/git/RecetteConstance/data/dia_gen_2018.csv'),\n PosixPath('/home/pliu/git/RecetteConstance/data/dia_gen_2020.csv')]"
     },
     "execution_count": 25,
     "metadata": {},
     "output_type": "execute_result"
    }
   ],
   "source": [
    "# You can actually use .glob() and get it to behave in the same way as .rglob() by adjusting the glob pattern\n",
    "list(root_path.glob(\"**/*.csv\"))"
   ],
   "metadata": {
    "collapsed": false,
    "pycharm": {
     "name": "#%%\n"
    }
   }
  },
  {
   "cell_type": "markdown",
   "source": [
    "So we can conclude that `.glob(\"**/*.md\") is equivalent to .rglob(*.md)`. Likewise, a call to `.glob(\"**/*\") is equivalent to .rglob(\"*\")`"
   ],
   "metadata": {
    "collapsed": false,
    "pycharm": {
     "name": "#%% md\n"
    }
   }
  },
  {
   "cell_type": "markdown",
   "source": [
    "## 8.5 Advanced filtering With the Glob Methods\n",
    "\n",
    "**One of the potential drawbacks with the glob methods is that you can only select files based on glob patterns**. If you want to do more advanced matching or filter on the attributes of the item, then you need to reach for something extra.\n",
    "\n",
    "To run more complex matching and filtering, you can follow at least three strategies. You can use:\n",
    "\n",
    "- A for loop with a conditional check\n",
    "- A comprehension with a conditional expression\n",
    "- The built-in filter() function"
   ],
   "metadata": {
    "collapsed": false,
    "pycharm": {
     "name": "#%% md\n"
    }
   }
  },
  {
   "cell_type": "markdown",
   "source": [
    "### 8.5.1 Loop with conditional check"
   ],
   "metadata": {
    "collapsed": false,
    "pycharm": {
     "name": "#%% md\n"
    }
   }
  },
  {
   "cell_type": "code",
   "execution_count": 26,
   "outputs": [
    {
     "name": "stdout",
     "output_type": "stream",
     "text": [
      "/home/pliu/git/RecetteConstance/data/dia_gen_2019.csv\n",
      "/home/pliu/git/RecetteConstance/data/Descripteur_CONSTANCES_Extraction2014.csv\n",
      "/home/pliu/git/RecetteConstance/data/diabetes.csv\n",
      "/home/pliu/git/RecetteConstance/data/dia_gen_2018.csv\n",
      "/home/pliu/git/RecetteConstance/data/dia_gen_2020.csv\n"
     ]
    }
   ],
   "source": [
    "for item in root_path.rglob(\"*\"):\n",
    "    if item.is_file() and str(item).endswith(\".csv\"):\n",
    "         print(item)"
   ],
   "metadata": {
    "collapsed": false,
    "pycharm": {
     "name": "#%%\n"
    }
   }
  },
  {
   "cell_type": "markdown",
   "source": [
    "### 8.5.2 Comprehension with a conditional expression"
   ],
   "metadata": {
    "collapsed": false,
    "pycharm": {
     "name": "#%% md\n"
    }
   }
  },
  {
   "cell_type": "code",
   "execution_count": 27,
   "outputs": [
    {
     "data": {
      "text/plain": "[PosixPath('/home/pliu/git/RecetteConstance/data/dia_gen_2019.csv'),\n PosixPath('/home/pliu/git/RecetteConstance/data/Descripteur_CONSTANCES_Extraction2014.csv'),\n PosixPath('/home/pliu/git/RecetteConstance/data/diabetes.csv'),\n PosixPath('/home/pliu/git/RecetteConstance/data/dia_gen_2018.csv'),\n PosixPath('/home/pliu/git/RecetteConstance/data/dia_gen_2020.csv')]"
     },
     "execution_count": 27,
     "metadata": {},
     "output_type": "execute_result"
    }
   ],
   "source": [
    "[item for item in root_path.rglob(\"*\") if (item.is_file()and str(item).endswith(\".csv\"))]"
   ],
   "metadata": {
    "collapsed": false,
    "pycharm": {
     "name": "#%%\n"
    }
   }
  },
  {
   "cell_type": "markdown",
   "source": [
    "### 8.5.3 built-in filter() function"
   ],
   "metadata": {
    "collapsed": false,
    "pycharm": {
     "name": "#%% md\n"
    }
   }
  },
  {
   "cell_type": "code",
   "execution_count": 28,
   "outputs": [
    {
     "data": {
      "text/plain": "[PosixPath('/home/pliu/git/RecetteConstance/data/dia_gen_2019.csv'),\n PosixPath('/home/pliu/git/RecetteConstance/data/Descripteur_CONSTANCES_Extraction2014.csv'),\n PosixPath('/home/pliu/git/RecetteConstance/data/diabetes.csv'),\n PosixPath('/home/pliu/git/RecetteConstance/data/dia_gen_2018.csv'),\n PosixPath('/home/pliu/git/RecetteConstance/data/dia_gen_2020.csv')]"
     },
     "execution_count": 28,
     "metadata": {},
     "output_type": "execute_result"
    }
   ],
   "source": [
    "list(filter(lambda item: item.is_file() and str(item).endswith(\".csv\"), root_path.rglob(\"*\")))"
   ],
   "metadata": {
    "collapsed": false,
    "pycharm": {
     "name": "#%%\n"
    }
   }
  },
  {
   "cell_type": "markdown",
   "source": [
    "The glob methods are extremely versatile, but for large directory trees, they can be a bit slow. In the next section, you’ll be examining an example in which reaching for more controlled iteration with .iterdir() may be a better choice."
   ],
   "metadata": {
    "collapsed": false,
    "pycharm": {
     "name": "#%% md\n"
    }
   }
  },
  {
   "cell_type": "markdown",
   "source": [
    "## 8.6 Opting Out of Listing Junk Directories\n",
    "\n",
    "Imagine, you want to find all the files on your system, but you have various subdirectories that have lots and lots of subdirectories and files. Some of the largest `subdirectories are temporary files` that you aren’t interested in.\n",
    "\n",
    "### 8.6.1 Attempt with rglob\n",
    "\n",
    "We want to skip some directories that only contains junk files. We can check if any two iterables have an item in common by taking advantage of [sets](https://realpython.com/python-sets/). If you cast one of the iterables to a set, then you can use the `.isdisjoint()` method to determine whether they have any elements in common"
   ],
   "metadata": {
    "collapsed": false,
    "pycharm": {
     "name": "#%% md\n"
    }
   }
  },
  {
   "cell_type": "code",
   "execution_count": 29,
   "outputs": [
    {
     "data": {
      "text/plain": "True"
     },
     "execution_count": 29,
     "metadata": {},
     "output_type": "execute_result"
    }
   ],
   "source": [
    "{\"documents\", \"notes\", \"find_me.txt\"}.isdisjoint({\"temp\", \"temporary\"})"
   ],
   "metadata": {
    "collapsed": false,
    "pycharm": {
     "name": "#%%\n"
    }
   }
  },
  {
   "cell_type": "code",
   "execution_count": null,
   "outputs": [],
   "source": [
    "{\"documents\", \"temp\", \"find_me.txt\"}.isdisjoint({\"temp\", \"temporary\"})"
   ],
   "metadata": {
    "collapsed": false,
    "pycharm": {
     "name": "#%%\n"
    }
   }
  },
  {
   "cell_type": "markdown",
   "source": [
    "If the two sets have no elements in common, then .isdisjoint() returns True. If the two sets have at least one element in common, then .isdisjoint() returns False. You can incorporate this check into a for loop that goes over all the items returned by .rglob(\"*\")"
   ],
   "metadata": {
    "collapsed": false,
    "pycharm": {
     "name": "#%% md\n"
    }
   }
  },
  {
   "cell_type": "code",
   "execution_count": 32,
   "outputs": [
    {
     "name": "stdout",
     "output_type": "stream",
     "text": [
      "/home/pliu/git/RecetteConstance/pyproject.toml\n",
      "/home/pliu/git/RecetteConstance/README.md\n",
      "/home/pliu/git/RecetteConstance/LICENSE\n",
      "/home/pliu/git/RecetteConstance/notebooks\n",
      "/home/pliu/git/RecetteConstance/.gitignore\n",
      "/home/pliu/git/RecetteConstance/poetry.lock\n",
      "/home/pliu/git/RecetteConstance/notebooks/03.Check_file_number_and_names.ipynb\n",
      "/home/pliu/git/RecetteConstance/notebooks/01.check_data_format.ipynb\n",
      "/home/pliu/git/RecetteConstance/notebooks/02.EDA_on_descriptor.ipynb\n"
     ]
    }
   ],
   "source": [
    "SKIP_DIRS = [\".idea\", \".git\",\"src\",\"data\"]\n",
    "for item in root_path.rglob(\"*\"):\n",
    "     if set(item.parts).isdisjoint(SKIP_DIRS):\n",
    "         print(item)"
   ],
   "metadata": {
    "collapsed": false,
    "pycharm": {
     "name": "#%%\n"
    }
   }
  },
  {
   "cell_type": "markdown",
   "source": [
    "You can definitely filter out whole folders with .rglob(), but you can’t get away from the fact that the resulting generator will yield all the items and then filter out the undesirable ones, one by one. This can make the glob methods very slow, depending on your use case. That’s why you might opt for a recursive .iterdir() function, which you’ll explore next."
   ],
   "metadata": {
    "collapsed": false,
    "pycharm": {
     "name": "#%% md\n"
    }
   }
  },
  {
   "cell_type": "code",
   "execution_count": null,
   "outputs": [],
   "source": [],
   "metadata": {
    "collapsed": false,
    "pycharm": {
     "name": "#%%\n"
    }
   }
  },
  {
   "cell_type": "markdown",
   "source": [
    "### 8.6.2 Recursive .iterdir() Function\n",
    "\n",
    "In the example of junk directories, you ideally want the ability to opt out of iterating over all the files in a given subdirectory if they match one of the names in SKIP_DIRS:"
   ],
   "metadata": {
    "collapsed": false,
    "pycharm": {
     "name": "#%% md\n"
    }
   }
  },
  {
   "cell_type": "code",
   "execution_count": 33,
   "outputs": [],
   "source": [
    "def get_all_items(root: pathlib.Path, exclude=SKIP_DIRS):\n",
    "    for item in root.iterdir():\n",
    "        if item.name in exclude:\n",
    "            continue\n",
    "        yield item\n",
    "        if item.is_dir():\n",
    "            yield from get_all_items(item)"
   ],
   "metadata": {
    "collapsed": false,
    "pycharm": {
     "name": "#%%\n"
    }
   }
  },
  {
   "cell_type": "markdown",
   "source": [
    "In this module, you define a list of strings, SKIP_DIRS, that contains the names of directories that you’d like to ignore. Then you define a generator function that uses .iterdir() to go over each item.\n",
    "\n",
    "The generator function uses the type annotation : pathlib.Path after the first argument to indicate that you can’t just pass in a string that represents a path. The argument needs to be a Path object.\n",
    "\n",
    "If the item name is in the exclude list, then you just move on to the next item, skipping the whole subdirectory tree in one go.\n",
    "\n",
    "If the item isn’t in the list, then you yield the item, and if it’s a directory, you invoke the function again on that directory. That is, within the function body, the function conditionally invokes the same function again. This is a hallmark of a recursive function.\n",
    "\n",
    "This recursive function efficiently yields all the files and directories that you want, excluding all that you aren’t interested in:"
   ],
   "metadata": {
    "collapsed": false,
    "pycharm": {
     "name": "#%% md\n"
    }
   }
  },
  {
   "cell_type": "code",
   "execution_count": 35,
   "outputs": [
    {
     "name": "stdout",
     "output_type": "stream",
     "text": [
      "[PosixPath('/home/pliu/git/RecetteConstance/pyproject.toml'), PosixPath('/home/pliu/git/RecetteConstance/README.md'), PosixPath('/home/pliu/git/RecetteConstance/LICENSE'), PosixPath('/home/pliu/git/RecetteConstance/notebooks'), PosixPath('/home/pliu/git/RecetteConstance/notebooks/03.Check_file_number_and_names.ipynb'), PosixPath('/home/pliu/git/RecetteConstance/notebooks/01.check_data_format.ipynb'), PosixPath('/home/pliu/git/RecetteConstance/notebooks/02.EDA_on_descriptor.ipynb'), PosixPath('/home/pliu/git/RecetteConstance/.gitignore'), PosixPath('/home/pliu/git/RecetteConstance/poetry.lock')]\n"
     ]
    }
   ],
   "source": [
    "all_item=get_all_items(root_path,SKIP_DIRS)\n",
    "print(list(all_item))"
   ],
   "metadata": {
    "collapsed": false,
    "pycharm": {
     "name": "#%%\n"
    }
   }
  },
  {
   "cell_type": "markdown",
   "source": [
    "Crucially, you’ve managed to opt out of having to examine all the files in the undesired directories. Once your generator identifies that the directory is in the SKIP_DIRS list, it just skips the whole thing.\n",
    "\n",
    "So, in this case, using .iterdir() is going to be far more efficient than the equivalent glob methods.\n",
    "\n",
    "In fact, you’ll find that .iterdir() is generally more efficient than the glob methods if you need to filter on anything more complex than can be achieved with a glob pattern. However, if all you need to do is to get a list of all the .txt files recursively, then the glob methods will be faster."
   ],
   "metadata": {
    "collapsed": false,
    "pycharm": {
     "name": "#%% md\n"
    }
   }
  },
  {
   "cell_type": "code",
   "execution_count": null,
   "outputs": [],
   "source": [],
   "metadata": {
    "collapsed": false,
    "pycharm": {
     "name": "#%%\n"
    }
   }
  },
  {
   "cell_type": "code",
   "execution_count": null,
   "outputs": [],
   "source": [],
   "metadata": {
    "collapsed": false,
    "pycharm": {
     "name": "#%%\n"
    }
   }
  }
 ],
 "metadata": {
  "kernelspec": {
   "display_name": "Python 3",
   "language": "python",
   "name": "python3"
  },
  "language_info": {
   "codemirror_mode": {
    "name": "ipython",
    "version": 2
   },
   "file_extension": ".py",
   "mimetype": "text/x-python",
   "name": "python",
   "nbconvert_exporter": "python",
   "pygments_lexer": "ipython2",
   "version": "2.7.6"
  }
 },
 "nbformat": 4,
 "nbformat_minor": 0
}