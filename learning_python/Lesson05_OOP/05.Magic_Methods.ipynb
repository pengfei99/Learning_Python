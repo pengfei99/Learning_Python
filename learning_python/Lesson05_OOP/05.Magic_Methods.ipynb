{
 "cells": [
  {
   "cell_type": "markdown",
   "metadata": {
    "collapsed": true,
    "pycharm": {
     "name": "#%% md\n"
    }
   },
   "source": [
    "# 5. Magic Methods\n",
    "\n",
    " So far, we have seen many special methods with fixed names, such as __init__, __str__, etc. . We also call them dunder methods, because they all the form __<name>__.\n",
    "\n",
    "So what's magic about them? The answer is, you don't have to invoke them directly. The invocation is realized behind the scenes. For example, when you create an instance x of a class A with the statement \"x = A()\", Python will do the necessary calls to __new__ and __init__.\n"
   ]
  },
  {
   "cell_type": "markdown",
   "source": [
    "# 5.1 A simple example\n",
    "\n",
    "We had used the plus(+) sign to add numerical values, to concatenate strings or to combine lists. In fact to use the plus on two object, you need to implement the __add__ dunder function.\n",
    "\n",
    "In below example, I decide that dog1+dog2 will concatenate their name"
   ],
   "metadata": {
    "collapsed": false,
    "pycharm": {
     "name": "#%% md\n"
    }
   }
  },
  {
   "cell_type": "code",
   "execution_count": 2,
   "outputs": [],
   "source": [
    "class Dog:\n",
    "    def __init__(self,name):\n",
    "        self.name=name\n",
    "    def __add__(self, other):\n",
    "        return Dog(self.name+other.name)"
   ],
   "metadata": {
    "collapsed": false,
    "pycharm": {
     "name": "#%%\n"
    }
   }
  },
  {
   "cell_type": "code",
   "execution_count": 3,
   "outputs": [
    {
     "name": "stdout",
     "output_type": "stream",
     "text": [
      "TotoTiti\n"
     ]
    }
   ],
   "source": [
    "d1=Dog(\"Toto\")\n",
    "d2=Dog(\"Titi\")\n",
    "d3=d1+d2\n",
    "\n",
    "print(d3.name)"
   ],
   "metadata": {
    "collapsed": false,
    "pycharm": {
     "name": "#%%\n"
    }
   }
  },
  {
   "cell_type": "markdown",
   "source": [
    "So you can see, we don't need to call __add__, it's been called automatically when we use +."
   ],
   "metadata": {
    "collapsed": false,
    "pycharm": {
     "name": "#%% md\n"
    }
   }
  },
  {
   "cell_type": "markdown",
   "source": [
    "## 5.2 Overview of Magic Methods\n",
    "\n",
    "### 5.2.1 Binary Operators\n",
    "```text\n",
    "Operator\tMethod\n",
    "+\tobject.__add__(self, other)\n",
    "-\tobject.__sub__(self, other)\n",
    "*\tobject.__mul__(self, other)\n",
    "//\tobject.__floordiv__(self, other)\n",
    "/\tobject.__truediv__(self, other)\n",
    "%\tobject.__mod__(self, other)\n",
    "**\tobject.__pow__(self, other[, modulo])\n",
    "<<\tobject.__lshift__(self, other)\n",
    ">>\tobject.__rshift__(self, other)\n",
    "&\tobject.__and__(self, other)\n",
    "^\tobject.__xor__(self, other)\n",
    "|\tobject.__or__(self, other)\n",
    "```\n",
    "\n",
    "### 5.2.2Extended Assignments\n",
    "\n",
    "```text\n",
    "Operator\tMethod\n",
    "+=\tobject.__iadd__(self, other)\n",
    "-=\tobject.__isub__(self, other)\n",
    "*=\tobject.__imul__(self, other)\n",
    "/=\tobject.__idiv__(self, other)\n",
    "//=\tobject.__ifloordiv__(self, other)\n",
    "%=\tobject.__imod__(self, other)\n",
    "**=\tobject.__ipow__(self, other[, modulo])\n",
    "<<=\tobject.__ilshift__(self, other)\n",
    ">>=\tobject.__irshift__(self, other)\n",
    "&=\tobject.__iand__(self, other)\n",
    "^=\tobject.__ixor__(self, other)\n",
    "|=\tobject.__ior__(self, other)\n",
    "```\n",
    "\n",
    "### 5.2.3 Unary Operators\n",
    "```text\n",
    "Operator\tMethod\n",
    "-\tobject.__neg__(self)\n",
    "+\tobject.__pos__(self)\n",
    "abs()\tobject.__abs__(self)\n",
    "~\tobject.__invert__(self)\n",
    "complex()\tobject.__complex__(self)\n",
    "int()\tobject.__int__(self)\n",
    "long()\tobject.__long__(self)\n",
    "float()\tobject.__float__(self)\n",
    "oct()\tobject.__oct__(self)\n",
    "hex()\tobject.__hex__(self)\n",
    "```\n",
    "\n",
    "### 5.2.4 Comparison Operators\n",
    "```text\n",
    "Operator\tMethod\n",
    "<\tobject.__lt__(self, other)\n",
    "<=\tobject.__le__(self, other)\n",
    "==\tobject.__eq__(self, other)\n",
    "!=\tobject.__ne__(self, other)\n",
    ">=\tobject.__ge__(self, other)\n",
    ">\tobject.__gt__(self, other)\n",
    "```"
   ],
   "metadata": {
    "collapsed": false,
    "pycharm": {
     "name": "#%% md\n"
    }
   }
  },
  {
   "cell_type": "markdown",
   "source": [
    "## 5.3 A more complex example"
   ],
   "metadata": {
    "collapsed": false,
    "pycharm": {
     "name": "#%% md\n"
    }
   }
  },
  {
   "cell_type": "code",
   "execution_count": 6,
   "outputs": [],
   "source": [
    "class Length:\n",
    "    __metric = {\"mm\" : 0.001, \"cm\" : 0.01, \"m\" : 1, \"km\" : 1000,\n",
    "                \"in\" : 0.0254, \"ft\" : 0.3048, \"yd\" : 0.9144,\n",
    "                \"mi\" : 1609.344 }\n",
    "    def __init__(self, value, unit = \"m\" ):\n",
    "        self.value = value\n",
    "        self.unit = unit\n",
    "    def Converse2Metres(self):\n",
    "        return self.value * Length.__metric[self.unit]\n",
    "    def __add__(self, other):\n",
    "        l = self.Converse2Metres() + other.Converse2Metres()\n",
    "        return Length(l / Length.__metric[self.unit], self.unit )\n",
    "    # print for end user\n",
    "    def __str__(self):\n",
    "        return f\"{str(self.Converse2Metres())} meters\"\n",
    "    # print for developer to debug\n",
    "    def __repr__(self):\n",
    "        return \"Length(\" + str(self.value) + \", '\" + self.unit + \"')\""
   ],
   "metadata": {
    "collapsed": false,
    "pycharm": {
     "name": "#%%\n"
    }
   }
  },
  {
   "cell_type": "code",
   "execution_count": 9,
   "outputs": [
    {
     "name": "stdout",
     "output_type": "stream",
     "text": [
      "2.56 meters\n",
      "Length(2.56, 'm')\n",
      "2.7432 meters\n",
      "Length(3, 'yd')\n",
      "5.57162 meters\n"
     ]
    }
   ],
   "source": [
    "l1=Length(2.56)\n",
    "print(l1)\n",
    "print(repr(l1))\n",
    "\n",
    "l2=Length(3,\"yd\")\n",
    "print(l2)\n",
    "print(repr(l2))\n",
    "\n",
    "\n",
    "print( l1+ l2 + Length(7.8,\"in\") + Length(7.03,\"cm\"))\n"
   ],
   "metadata": {
    "collapsed": false,
    "pycharm": {
     "name": "#%%\n"
    }
   }
  },
  {
   "cell_type": "markdown",
   "source": [
    "## 5.4 Some important dunder function\n",
    "\n",
    "Some dunder function are more important, because they can change the behavior of the class dramatically. Below are some examples.\n",
    "\n",
    "### 5.4.1 __iter__ and __next__\n",
    "\n",
    "In chapiter 3.11 Iterator_VS_Iterable, we have explained that if a class implement __iter__ which returns an iterator, then it's an **iterable class**.\n",
    "If a class implements both __iter__(return self) and __next__, then this class is an **iterator class**\n",
    "\n",
    "Below Fib function is an iterator class."
   ],
   "metadata": {
    "collapsed": false,
    "pycharm": {
     "name": "#%% md\n"
    }
   }
  },
  {
   "cell_type": "code",
   "execution_count": 11,
   "outputs": [],
   "source": [
    "class Fib(object):\n",
    "    def __init__(self):\n",
    "        self.a, self.b = 0, 1\n",
    "\n",
    "    def __iter__(self):\n",
    "        return self\n",
    "\n",
    "    def __next__(self):\n",
    "        self.a, self.b = self.b, self.a + self.b # calculate next value\n",
    "        if self.a > 100000: # loop exit condition\n",
    "            raise StopIteration()\n",
    "        return self.a"
   ],
   "metadata": {
    "collapsed": false,
    "pycharm": {
     "name": "#%%\n"
    }
   }
  },
  {
   "cell_type": "code",
   "execution_count": 12,
   "outputs": [
    {
     "name": "stdout",
     "output_type": "stream",
     "text": [
      "1\n",
      "1\n",
      "2\n",
      "3\n",
      "5\n",
      "8\n",
      "13\n",
      "21\n",
      "34\n",
      "55\n",
      "89\n",
      "144\n",
      "233\n",
      "377\n",
      "610\n",
      "987\n",
      "1597\n",
      "2584\n",
      "4181\n",
      "6765\n",
      "10946\n",
      "17711\n",
      "28657\n",
      "46368\n",
      "75025\n"
     ]
    }
   ],
   "source": [
    "for n in Fib():\n",
    "    print(n)"
   ],
   "metadata": {
    "collapsed": false,
    "pycharm": {
     "name": "#%%\n"
    }
   }
  },
  {
   "cell_type": "markdown",
   "source": [
    "## 5.4.2 __getitem__\n",
    "\n",
    "If you want a function that can get item by its index, you need to implement __getitem__.\n"
   ],
   "metadata": {
    "collapsed": false,
    "pycharm": {
     "name": "#%% md\n"
    }
   }
  },
  {
   "cell_type": "code",
   "execution_count": 15,
   "outputs": [],
   "source": [
    "class Fib(object):\n",
    "    def __getitem__(self, n):\n",
    "        if isinstance(n, int): # n is an index\n",
    "            a, b = 1, 1\n",
    "            for x in range(n):\n",
    "                a, b = b, a + b\n",
    "            return a\n",
    "        if isinstance(n, slice): # n is a slice\n",
    "            start = n.start\n",
    "            stop = n.stop\n",
    "            if start is None:\n",
    "                start = 0\n",
    "            a, b = 1, 1\n",
    "            L = []\n",
    "            for x in range(stop):\n",
    "                if x >= start:\n",
    "                    L.append(a)\n",
    "                a, b = b, a + b\n",
    "            return L"
   ],
   "metadata": {
    "collapsed": false,
    "pycharm": {
     "name": "#%%\n"
    }
   }
  },
  {
   "cell_type": "code",
   "execution_count": 16,
   "outputs": [
    {
     "name": "stdout",
     "output_type": "stream",
     "text": [
      "89\n",
      "987\n"
     ]
    }
   ],
   "source": [
    "f = Fib()\n",
    "print(f[10])\n",
    "print(f[15])"
   ],
   "metadata": {
    "collapsed": false,
    "pycharm": {
     "name": "#%%\n"
    }
   }
  },
  {
   "cell_type": "code",
   "execution_count": 17,
   "outputs": [
    {
     "data": {
      "text/plain": "[1, 1, 2, 3, 5]"
     },
     "execution_count": 17,
     "metadata": {},
     "output_type": "execute_result"
    }
   ],
   "source": [
    "f[0:5]"
   ],
   "metadata": {
    "collapsed": false,
    "pycharm": {
     "name": "#%%\n"
    }
   }
  },
  {
   "cell_type": "markdown",
   "source": [
    "## 5.4.3 __getattr__  and __getattribute__\n",
    "\n",
    "__getattr__ is called when an attribute lookup has not found the attribute in the usual places (i.e. it is not an instance attribute nor is it found in the class tree for self).\n",
    "\n",
    "\n",
    " Check below example, if we call name, it's ok, If we call score, it will raise exception, because it does not exist in Student."
   ],
   "metadata": {
    "collapsed": false,
    "pycharm": {
     "name": "#%% md\n"
    }
   }
  },
  {
   "cell_type": "code",
   "execution_count": 18,
   "outputs": [],
   "source": [
    "class Student(object):\n",
    "\n",
    "    def __init__(self):\n",
    "        self.name = 'Michael'"
   ],
   "metadata": {
    "collapsed": false,
    "pycharm": {
     "name": "#%%\n"
    }
   }
  },
  {
   "cell_type": "code",
   "execution_count": 19,
   "outputs": [
    {
     "data": {
      "text/plain": "'Michael'"
     },
     "execution_count": 19,
     "metadata": {},
     "output_type": "execute_result"
    }
   ],
   "source": [
    "s=Student()\n",
    "s.name"
   ],
   "metadata": {
    "collapsed": false,
    "pycharm": {
     "name": "#%%\n"
    }
   }
  },
  {
   "cell_type": "code",
   "execution_count": 20,
   "outputs": [
    {
     "ename": "AttributeError",
     "evalue": "'Student' object has no attribute 'score'",
     "output_type": "error",
     "traceback": [
      "\u001B[0;31m---------------------------------------------------------------------------\u001B[0m",
      "\u001B[0;31mAttributeError\u001B[0m                            Traceback (most recent call last)",
      "Input \u001B[0;32mIn [20]\u001B[0m, in \u001B[0;36m<cell line: 1>\u001B[0;34m()\u001B[0m\n\u001B[0;32m----> 1\u001B[0m \u001B[43ms\u001B[49m\u001B[38;5;241;43m.\u001B[39;49m\u001B[43mscore\u001B[49m\n",
      "\u001B[0;31mAttributeError\u001B[0m: 'Student' object has no attribute 'score'"
     ]
    }
   ],
   "source": [
    "s.score"
   ],
   "metadata": {
    "collapsed": false,
    "pycharm": {
     "name": "#%%\n"
    }
   }
  },
  {
   "cell_type": "markdown",
   "source": [
    "If we add __getattr__, then we can treat all call of attributes dynamically."
   ],
   "metadata": {
    "collapsed": false,
    "pycharm": {
     "name": "#%% md\n"
    }
   }
  },
  {
   "cell_type": "code",
   "execution_count": 21,
   "outputs": [],
   "source": [
    "class Student(object):\n",
    "\n",
    "    def __init__(self):\n",
    "        self.name = 'Michael'\n",
    "\n",
    "    def __getattr__(self, item):\n",
    "        if item==\"score\":\n",
    "            return 100\n",
    "        elif item==\"sex\":\n",
    "            return \"Masculin\"\n",
    "        else:\n",
    "            raise AttributeError('\\'Student\\' object has no attribute \\'%s\\'' % item)"
   ],
   "metadata": {
    "collapsed": false,
    "pycharm": {
     "name": "#%%\n"
    }
   }
  },
  {
   "cell_type": "code",
   "execution_count": 22,
   "outputs": [
    {
     "name": "stdout",
     "output_type": "stream",
     "text": [
      "Michael\n",
      "100\n",
      "Masculin\n"
     ]
    }
   ],
   "source": [
    "s=Student()\n",
    "print(s.name)\n",
    "print(s.score)\n",
    "print(s.sex)"
   ],
   "metadata": {
    "collapsed": false,
    "pycharm": {
     "name": "#%%\n"
    }
   }
  },
  {
   "cell_type": "code",
   "execution_count": 23,
   "outputs": [
    {
     "ename": "AttributeError",
     "evalue": "'Student' object has no attribute 'toto'",
     "output_type": "error",
     "traceback": [
      "\u001B[0;31m---------------------------------------------------------------------------\u001B[0m",
      "\u001B[0;31mAttributeError\u001B[0m                            Traceback (most recent call last)",
      "Input \u001B[0;32mIn [23]\u001B[0m, in \u001B[0;36m<cell line: 1>\u001B[0;34m()\u001B[0m\n\u001B[0;32m----> 1\u001B[0m \u001B[38;5;28mprint\u001B[39m(\u001B[43ms\u001B[49m\u001B[38;5;241;43m.\u001B[39;49m\u001B[43mtoto\u001B[49m)\n",
      "Input \u001B[0;32mIn [21]\u001B[0m, in \u001B[0;36mStudent.__getattr__\u001B[0;34m(self, item)\u001B[0m\n\u001B[1;32m     10\u001B[0m     \u001B[38;5;28;01mreturn\u001B[39;00m \u001B[38;5;124m\"\u001B[39m\u001B[38;5;124mMasculin\u001B[39m\u001B[38;5;124m\"\u001B[39m\n\u001B[1;32m     11\u001B[0m \u001B[38;5;28;01melse\u001B[39;00m:\n\u001B[0;32m---> 12\u001B[0m     \u001B[38;5;28;01mraise\u001B[39;00m \u001B[38;5;167;01mAttributeError\u001B[39;00m(\u001B[38;5;124m'\u001B[39m\u001B[38;5;130;01m\\'\u001B[39;00m\u001B[38;5;124mStudent\u001B[39m\u001B[38;5;130;01m\\'\u001B[39;00m\u001B[38;5;124m object has no attribute \u001B[39m\u001B[38;5;130;01m\\'\u001B[39;00m\u001B[38;5;132;01m%s\u001B[39;00m\u001B[38;5;130;01m\\'\u001B[39;00m\u001B[38;5;124m'\u001B[39m \u001B[38;5;241m%\u001B[39m item)\n",
      "\u001B[0;31mAttributeError\u001B[0m: 'Student' object has no attribute 'toto'"
     ]
    }
   ],
   "source": [
    "print(s.toto)"
   ],
   "metadata": {
    "collapsed": false,
    "pycharm": {
     "name": "#%%\n"
    }
   }
  },
  {
   "cell_type": "markdown",
   "source": [
    "### A more useful example for __getattr__\n",
    "\n",
    "Now, many site provide REST API：\n",
    "\n",
    "http://api.server/user/friends\n",
    "http://api.server/user/timeline/list\n",
    "\n",
    "If you want to write a SDK，for each URL you need to have an endpoint in your API，and if the url change, you need to change the SDK too.\n",
    "\n",
    "With __getattr__，we can write a chain that builds the url dynamically："
   ],
   "metadata": {
    "collapsed": false,
    "pycharm": {
     "name": "#%% md\n"
    }
   }
  },
  {
   "cell_type": "code",
   "execution_count": 24,
   "outputs": [],
   "source": [
    "class Chain(object):\n",
    "\n",
    "    def __init__(self, path=''):\n",
    "        self._path = path\n",
    "\n",
    "    def __getattr__(self, path):\n",
    "        return Chain('%s/%s' % (self._path, path))\n",
    "\n",
    "    def __str__(self):\n",
    "        return self._path\n",
    "\n",
    "\n",
    "    __repr__ = __str__"
   ],
   "metadata": {
    "collapsed": false,
    "pycharm": {
     "name": "#%%\n"
    }
   }
  },
  {
   "cell_type": "code",
   "execution_count": 25,
   "outputs": [
    {
     "data": {
      "text/plain": "/status/user/timeline/list"
     },
     "execution_count": 25,
     "metadata": {},
     "output_type": "execute_result"
    }
   ],
   "source": [
    "Chain().status.user.timeline.list"
   ],
   "metadata": {
    "collapsed": false,
    "pycharm": {
     "name": "#%%\n"
    }
   }
  },
  {
   "cell_type": "markdown",
   "source": [
    "For the api that need to pass parameters:\n",
    "GET /users/:user/repos\n",
    "We can use below function."
   ],
   "metadata": {
    "collapsed": false,
    "pycharm": {
     "name": "#%% md\n"
    }
   }
  },
  {
   "cell_type": "code",
   "execution_count": 26,
   "outputs": [
    {
     "ename": "TypeError",
     "evalue": "'Chain' object is not callable",
     "output_type": "error",
     "traceback": [
      "\u001B[0;31m---------------------------------------------------------------------------\u001B[0m",
      "\u001B[0;31mTypeError\u001B[0m                                 Traceback (most recent call last)",
      "Input \u001B[0;32mIn [26]\u001B[0m, in \u001B[0;36m<cell line: 1>\u001B[0;34m()\u001B[0m\n\u001B[0;32m----> 1\u001B[0m \u001B[43mChain\u001B[49m\u001B[43m(\u001B[49m\u001B[43m)\u001B[49m\u001B[38;5;241;43m.\u001B[39;49m\u001B[43musers\u001B[49m\u001B[43m(\u001B[49m\u001B[38;5;124;43m'\u001B[39;49m\u001B[38;5;124;43mmichael\u001B[39;49m\u001B[38;5;124;43m'\u001B[39;49m\u001B[43m)\u001B[49m\u001B[38;5;241m.\u001B[39mrepos\n",
      "\u001B[0;31mTypeError\u001B[0m: 'Chain' object is not callable"
     ]
    }
   ],
   "source": [
    "Chain().users('michael').repos"
   ],
   "metadata": {
    "collapsed": false,
    "pycharm": {
     "name": "#%%\n"
    }
   }
  },
  {
   "cell_type": "markdown",
   "source": [
    "It says it's not callable, we will see how to make an object callable below."
   ],
   "metadata": {
    "collapsed": false,
    "pycharm": {
     "name": "#%% md\n"
    }
   }
  },
  {
   "cell_type": "markdown",
   "source": [
    "### __getattribute__\n",
    "\n",
    "Unlike __getattr__ will be used only if nothing can be used, __getattribute__ will be used all the time, even thought there are normal instance attribute found. So be careful, when you use it. It can quickly turn your class into a mess. Check below example."
   ],
   "metadata": {
    "collapsed": false,
    "pycharm": {
     "name": "#%% md\n"
    }
   }
  },
  {
   "cell_type": "code",
   "execution_count": 28,
   "outputs": [],
   "source": [
    "class Yeah(object):\n",
    "    def __init__(self, name):\n",
    "        self.name = name\n",
    "    # Gets called when an attribute is accessed\n",
    "    def __getattribute__(self, item):\n",
    "        print ('__getattribute__ ', item)\n",
    "        # Calling the super class to avoid recursion\n",
    "        return super(Yeah, self).__getattribute__(item)\n",
    "\n",
    "    # Gets called when the item is not found via __getattribute__\n",
    "    def __getattr__(self, item):\n",
    "        print ('__getattr__ ', item)\n",
    "        return super(Yeah, self).__setattr__(item, 'orphan')"
   ],
   "metadata": {
    "collapsed": false,
    "pycharm": {
     "name": "#%%\n"
    }
   }
  },
  {
   "cell_type": "code",
   "execution_count": 29,
   "outputs": [],
   "source": [
    "y1 = Yeah('yes')"
   ],
   "metadata": {
    "collapsed": false,
    "pycharm": {
     "name": "#%%\n"
    }
   }
  },
  {
   "cell_type": "code",
   "execution_count": 30,
   "outputs": [
    {
     "name": "stdout",
     "output_type": "stream",
     "text": [
      "__getattribute__  name\n"
     ]
    },
    {
     "data": {
      "text/plain": "'yes'"
     },
     "execution_count": 30,
     "metadata": {},
     "output_type": "execute_result"
    }
   ],
   "source": [
    "y1.name"
   ],
   "metadata": {
    "collapsed": false,
    "pycharm": {
     "name": "#%%\n"
    }
   }
  },
  {
   "cell_type": "code",
   "execution_count": 31,
   "outputs": [
    {
     "name": "stdout",
     "output_type": "stream",
     "text": [
      "__getattribute__  foo\n",
      "__getattr__  foo\n"
     ]
    }
   ],
   "source": [
    "y1.foo"
   ],
   "metadata": {
    "collapsed": false,
    "pycharm": {
     "name": "#%%\n"
    }
   }
  },
  {
   "cell_type": "code",
   "execution_count": 32,
   "outputs": [
    {
     "name": "stdout",
     "output_type": "stream",
     "text": [
      "__getattribute__  foo\n"
     ]
    },
    {
     "data": {
      "text/plain": "'orphan'"
     },
     "execution_count": 32,
     "metadata": {},
     "output_type": "execute_result"
    }
   ],
   "source": [
    "y1.foo"
   ],
   "metadata": {
    "collapsed": false,
    "pycharm": {
     "name": "#%%\n"
    }
   }
  },
  {
   "cell_type": "code",
   "execution_count": 33,
   "outputs": [
    {
     "name": "stdout",
     "output_type": "stream",
     "text": [
      "__getattribute__  __dict__\n"
     ]
    },
    {
     "data": {
      "text/plain": "{'name': 'yes', 'shape': 'orphan', 'foo': 'orphan'}"
     },
     "execution_count": 33,
     "metadata": {},
     "output_type": "execute_result"
    }
   ],
   "source": [
    "y1.__dict__"
   ],
   "metadata": {
    "collapsed": false,
    "pycharm": {
     "name": "#%%\n"
    }
   }
  },
  {
   "cell_type": "code",
   "execution_count": null,
   "outputs": [],
   "source": [],
   "metadata": {
    "collapsed": false,
    "pycharm": {
     "name": "#%%\n"
    }
   }
  }
 ],
 "metadata": {
  "kernelspec": {
   "display_name": "Python 3",
   "language": "python",
   "name": "python3"
  },
  "language_info": {
   "codemirror_mode": {
    "name": "ipython",
    "version": 2
   },
   "file_extension": ".py",
   "mimetype": "text/x-python",
   "name": "python",
   "nbconvert_exporter": "python",
   "pygments_lexer": "ipython2",
   "version": "2.7.6"
  }
 },
 "nbformat": 4,
 "nbformat_minor": 0
}