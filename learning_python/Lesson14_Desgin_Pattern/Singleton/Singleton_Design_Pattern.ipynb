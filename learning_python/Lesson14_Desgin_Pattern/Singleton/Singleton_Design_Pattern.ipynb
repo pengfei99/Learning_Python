{
 "cells": [
  {
   "cell_type": "markdown",
   "source": [
    "# Implement singleton design pattern in python\n",
    "\n",
    "**Singleton is a creational design pattern** that lets you ensure that `a class has only one instance, while providing a global access point to this instance`.\n",
    "\n",
    "The Singleton pattern solves two problems at the same time\n",
    "- Ensure that a class has just a single instance\n",
    "- Provide a global access point to that instance.\n",
    "\n",
    "> But it violates the [Single Responsibility Principle](https://en.wikipedia.org/wiki/Single-responsibility_principle)\n",
    "\n",
    "## 1. General solution\n",
    "\n",
    "All implementations of the Singleton have these two steps in common:\n",
    "\n",
    "- Make the default constructor private, to prevent other objects from using the new operator with the Singleton class.\n",
    "- Create a static creation method that acts as a constructor. Under the hood, this method calls the private constructor to create an object and saves it in a static field. All following calls to this method return the cached object.\n",
    "\n",
    "If your code has access to the Singleton class, then it’s able to call the Singleton’s static method. So whenever that method is called, the same object is always returned.\n",
    "\n",
    "## 2. Python implementation\n",
    "\n",
    "The Singleton class can be implemented in different ways in Python. Some possible methods include:\n",
    "- base class,\n",
    "- decorator,\n",
    "- metaclass.\n",
    "\n",
    "We will use the metaclass because it is best suited for this purpose. We also added a thread lock to make the `singleton thread safe`."
   ],
   "metadata": {
    "collapsed": false
   }
  },
  {
   "cell_type": "code",
   "execution_count": null,
   "outputs": [],
   "source": [
    "from threading import Lock, Thread\n",
    "\n",
    "\n",
    "class MySingletonMeta(type):\n",
    "    \"\"\"\n",
    "    This is a thread-safe implementation of Singleton.\n",
    "    \"\"\"\n",
    "\n",
    "    _instances = {}\n",
    "\n",
    "    _lock: Lock = Lock()\n",
    "    \"\"\"\n",
    "    We now have a lock object that will be used to synchronize threads during\n",
    "    first access to the Singleton.\n",
    "    \"\"\"\n",
    "    # The __call__ method enables Python programmers to write classes where the instances\n",
    "    # behave like functions and can be called like a function.\n",
    "    # When the instance is called as a function; if this method is defined, x(arg1, arg2, ...)\n",
    "    # is a shorthand for x.__call__(arg1, arg2, ...).\n",
    "    def __call__(cls, *args, **kwargs):\n",
    "        \"\"\"\n",
    "        Possible changes to the value of the `__init__` argument do not affect\n",
    "        the returned instance.\n",
    "        \"\"\"\n",
    "        # Now, imagine that the program has just been launched. Since there's no\n",
    "        # Singleton instance yet, multiple threads can simultaneously pass the\n",
    "        # previous conditional and reach this point almost at the same time. The\n",
    "        # first of them will acquire lock and will proceed further, while the\n",
    "        # rest will wait here.\n",
    "        with cls._lock:\n",
    "            # The first thread to acquire the lock, reaches this conditional,\n",
    "            # goes inside and creates the Singleton instance. Once it leaves the\n",
    "            # lock block, a thread that might have been waiting for the lock\n",
    "            # release may then enter this section. But since the Singleton field\n",
    "            # is already initialized, the thread won't create a new object.\n",
    "            if cls not in cls._instances:\n",
    "                instance = super().__call__(*args, **kwargs)\n",
    "                cls._instances[cls] = instance\n",
    "        return cls._instances[cls]"
   ],
   "metadata": {
    "collapsed": false
   }
  },
  {
   "cell_type": "markdown",
   "source": [
    "After the creation of the MetaClass, we can now write the singleton class"
   ],
   "metadata": {
    "collapsed": false
   }
  },
  {
   "cell_type": "code",
   "execution_count": null,
   "outputs": [],
   "source": [
    "class UserSession(metaclass=MySingletonMeta):\n",
    "    def __init__(self, lastName: str, firstName: str):\n",
    "        # we will use full name to show that the singleton really works\n",
    "        self.fullName = f\"{firstName} {lastName}\"\n",
    "        self.connection = self.connect()\n",
    "\n",
    "    def connect(self):\n",
    "        # activate user session\n",
    "        print(f\"User {self.fullName} has connected.\")\n",
    "        return True\n",
    "\n",
    "\n",
    "# this function can help us to test the singleton class in a multi thread env\n",
    "def createUserSession(firstName, lastName):\n",
    "    session = UserSession(firstName, lastName)\n",
    "    print(session.fullName)"
   ],
   "metadata": {
    "collapsed": false
   }
  },
  {
   "cell_type": "markdown",
   "source": [
    "Use the below main method to test the singleton"
   ],
   "metadata": {
    "collapsed": false
   }
  },
  {
   "cell_type": "code",
   "execution_count": null,
   "outputs": [],
   "source": [
    "def main():\n",
    "    # test it in a single thread\n",
    "    createUserSession(\"toto\", \"Liu\")\n",
    "    createUserSession(\"t1t1\", \"Liu\")\n",
    "\n",
    "    # test it with multi thread\n",
    "    # sessionThread1 = threading.Thread(target=createUserSession, args=(\"toto\", \"liu\"))\n",
    "    # sessionThread2 = threading.Thread(target=createUserSession, args=(\"titi\", \"liu\"))\n",
    "    # sessionThread1.start()\n",
    "    # sessionThread2.start()\n",
    "\n",
    "\n",
    "if __name__ == \"__main__\":\n",
    "    main()"
   ],
   "metadata": {
    "collapsed": false
   }
  },
  {
   "cell_type": "markdown",
   "source": [
    "You can notice there is only one instance of the user session, even you create a new session with another username, The instance is always the first instance that you have created.\n",
    "\n",
    "You can find the full example in `MySingleton.py`"
   ],
   "metadata": {
    "collapsed": false
   }
  }
 ],
 "metadata": {
  "kernelspec": {
   "display_name": "Python 3",
   "language": "python",
   "name": "python3"
  },
  "language_info": {
   "codemirror_mode": {
    "name": "ipython",
    "version": 2
   },
   "file_extension": ".py",
   "mimetype": "text/x-python",
   "name": "python",
   "nbconvert_exporter": "python",
   "pygments_lexer": "ipython2",
   "version": "2.7.6"
  }
 },
 "nbformat": 4,
 "nbformat_minor": 0
}
