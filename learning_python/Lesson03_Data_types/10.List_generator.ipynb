{
 "cells": [
  {
   "cell_type": "markdown",
   "metadata": {
    "collapsed": true,
    "pycharm": {
     "name": "#%% md\n"
    }
   },
   "source": [
    "# List Generator\n",
    "\n",
    "In section 09, we have seen list comprehension. List comprehensions are useful and can help you write elegant code that’s easy to read and debug, but they’re not the right choice for all circumstances.\n",
    "\n",
    "For example, when you handle a big list, list comprehension may consume all your memory. Because **A list comprehension in Python works by loading the entire output list into memory**.\n",
    "\n",
    "To solve this problem, we need to use a **generator** instead of a list comprehension. **A generator doesn’t create a single, large data structure in memory, but instead returns an iterable**."
   ]
  }
 ],
 "metadata": {
  "kernelspec": {
   "display_name": "Python 3",
   "language": "python",
   "name": "python3"
  },
  "language_info": {
   "codemirror_mode": {
    "name": "ipython",
    "version": 2
   },
   "file_extension": ".py",
   "mimetype": "text/x-python",
   "name": "python",
   "nbconvert_exporter": "python",
   "pygments_lexer": "ipython2",
   "version": "2.7.6"
  }
 },
 "nbformat": 4,
 "nbformat_minor": 0
}