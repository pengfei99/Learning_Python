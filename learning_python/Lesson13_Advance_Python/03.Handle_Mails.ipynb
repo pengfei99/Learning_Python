{
 "cells": [
  {
   "cell_type": "markdown",
   "source": [
    "# Use python to connect to a smtp server to send emails\n",
    "\n",
    "In this example, I use the free smtp server provided by brevo.com\n",
    "\n"
   ],
   "metadata": {
    "collapsed": false
   },
   "id": "9cd322fd4297a7a5"
  },
  {
   "cell_type": "code",
   "execution_count": 1,
   "outputs": [
    {
     "data": {
      "text/plain": "(221, b'2.0.0 Bye')"
     },
     "execution_count": 1,
     "metadata": {},
     "output_type": "execute_result"
    }
   ],
   "source": [
    "import smtplib\n",
    "from email.mime.multipart import MIMEMultipart\n",
    "from email.mime.text import MIMEText\n",
    "from creds.passwords import brevo_pwd\n",
    "\n",
    "# Email configuration\n",
    "smtp_server_url = \"smtp-relay.brevo.com\"\n",
    "smtp_server_port = 587\n",
    "sender_email = \"liu.pengfei99@gmail.com\"\n",
    "receiver_email = \"pengfei.liu@casd.eu\"\n",
    "password = brevo_pwd\n",
    "\n",
    "# Create message container\n",
    "msg = MIMEMultipart()\n",
    "msg['From'] = sender_email\n",
    "msg['To'] = receiver_email\n",
    "msg['Subject'] = \"Smtp server test\"\n",
    "\n",
    "# Email body\n",
    "body = \"This is the body of the email.\"\n",
    "msg.attach(MIMEText(body, 'plain'))\n",
    "\n",
    "# Connect to Gmail's SMTP server\n",
    "server = smtplib.SMTP(smtp_server_url, smtp_server_port)\n",
    "# server.starttls()\n",
    "\n",
    "# Login to your Gmail account\n",
    "server.login(sender_email, password)\n",
    "\n",
    "# Send the email\n",
    "server.sendmail(sender_email, receiver_email, msg.as_string())\n",
    "\n",
    "# Close the connection\n",
    "server.quit()\n"
   ],
   "metadata": {
    "collapsed": false,
    "ExecuteTime": {
     "end_time": "2024-04-10T08:27:44.492449726Z",
     "start_time": "2024-04-10T08:27:44.405261930Z"
    }
   },
   "id": "8159a83d972b8b4e"
  },
  {
   "cell_type": "code",
   "execution_count": null,
   "outputs": [],
   "source": [],
   "metadata": {
    "collapsed": false
   },
   "id": "850f3a9315ae0bae"
  }
 ],
 "metadata": {
  "kernelspec": {
   "display_name": "Python 3",
   "language": "python",
   "name": "python3"
  },
  "language_info": {
   "codemirror_mode": {
    "name": "ipython",
    "version": 2
   },
   "file_extension": ".py",
   "mimetype": "text/x-python",
   "name": "python",
   "nbconvert_exporter": "python",
   "pygments_lexer": "ipython2",
   "version": "2.7.6"
  }
 },
 "nbformat": 4,
 "nbformat_minor": 5
}
