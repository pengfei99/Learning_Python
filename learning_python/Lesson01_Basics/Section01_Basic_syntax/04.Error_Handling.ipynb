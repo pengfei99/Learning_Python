{
 "cells": [
  {
   "cell_type": "markdown",
   "metadata": {
    "collapsed": true,
    "pycharm": {
     "name": "#%% md\n"
    }
   },
   "source": [
    "# 4. Errors and Exception Handling\n",
    "\n",
    "An exception is an error that happens during the execution of a program. Exceptions are known to non-programmers as instances that do not conform to a general rule. The name \"exception\" in computer science has this meaning as well: It implies that the problem (the exception) doesn't occur frequently, i.e. the exception is the \"exception to the rule\". **Exception handling is a construct in some programming languages to handle or deal with errors automatically**.\n",
    "\n",
    "Error handling is generally resolved by saving the state of execution at the moment the error occurred and interrupting the normal flow of the program to execute a special function or piece of code, which is known as the exception handler. Depending on the kind of error (\"division by zero\", \"file open error\" and so on) which had occurred, the error handler can \"fix\" the problem and the programm can be continued afterwards with the previously saved data."
   ]
  },
  {
   "cell_type": "markdown",
   "source": [
    "## 4.1 Syntax\n",
    "\n",
    "The syntax of python error handling contains four key word [try, except, else, finally]. Below figure shows the specification of each block\n",
    "\n",
    "![py_try_except.PNG](../../../images/py_try_except.PNG)\n",
    "\n"
   ],
   "metadata": {
    "collapsed": false,
    "pycharm": {
     "name": "#%% md\n"
    }
   }
  },
  {
   "cell_type": "code",
   "execution_count": 1,
   "outputs": [
    {
     "ename": "ValueError",
     "evalue": "invalid literal for int() with base 10: 'toto'",
     "output_type": "error",
     "traceback": [
      "\u001B[0;31m---------------------------------------------------------------------------\u001B[0m",
      "\u001B[0;31mValueError\u001B[0m                                Traceback (most recent call last)",
      "Input \u001B[0;32mIn [1]\u001B[0m, in \u001B[0;36m<cell line: 1>\u001B[0;34m()\u001B[0m\n\u001B[0;32m----> 1\u001B[0m n \u001B[38;5;241m=\u001B[39m \u001B[38;5;28;43mint\u001B[39;49m\u001B[43m(\u001B[49m\u001B[38;5;28;43minput\u001B[39;49m\u001B[43m(\u001B[49m\u001B[38;5;124;43m\"\u001B[39;49m\u001B[38;5;124;43mPlease enter a number: \u001B[39;49m\u001B[38;5;124;43m\"\u001B[39;49m\u001B[43m)\u001B[49m\u001B[43m)\u001B[49m\n",
      "\u001B[0;31mValueError\u001B[0m: invalid literal for int() with base 10: 'toto'"
     ]
    }
   ],
   "source": [
    "n = int(input(\"Please enter a number: \"))"
   ],
   "metadata": {
    "collapsed": false,
    "pycharm": {
     "name": "#%%\n"
    }
   }
  },
  {
   "cell_type": "markdown",
   "source": [
    "## 4.2 Simple example\n",
    "\n",
    "With the aid of exception handling, we can write robust code for reading an integer from input:"
   ],
   "metadata": {
    "collapsed": false,
    "pycharm": {
     "name": "#%% md\n"
    }
   }
  },
  {
   "cell_type": "code",
   "execution_count": 3,
   "outputs": [
    {
     "name": "stdout",
     "output_type": "stream",
     "text": [
      "You must enter a number. Please try again origin message:invalid literal for int() with base 10: 'dff'\n",
      "You must enter a number. Please try again origin message:invalid literal for int() with base 10: 'df'\n",
      "Great you have entered 18\n"
     ]
    }
   ],
   "source": [
    "n=None\n",
    "while True:\n",
    "    try:\n",
    "        n=int(input(\"Please enter a number: \"))\n",
    "        break\n",
    "    except ValueError as e:\n",
    "        print(f\"You must enter a number. Please try again origin message:{e}\")\n",
    "print(f\"Great you have entered {n}\")"
   ],
   "metadata": {
    "collapsed": false,
    "pycharm": {
     "name": "#%%\n"
    }
   }
  },
  {
   "cell_type": "markdown",
   "source": [
    "We can write a function to reuse the above code"
   ],
   "metadata": {
    "collapsed": false,
    "pycharm": {
     "name": "#%% md\n"
    }
   }
  },
  {
   "cell_type": "code",
   "execution_count": 4,
   "outputs": [],
   "source": [
    "def get_number(prompt_msg):\n",
    "    while True:\n",
    "        try:\n",
    "            n=int(input(prompt_msg))\n",
    "            # we don't need to call break, return will stop the loop\n",
    "            return n\n",
    "        except ValueError as e:\n",
    "            print(f\"You must enter a number. Please try again origin message:{e}\")"
   ],
   "metadata": {
    "collapsed": false,
    "pycharm": {
     "name": "#%%\n"
    }
   }
  },
  {
   "cell_type": "code",
   "execution_count": 5,
   "outputs": [],
   "source": [
    "# this function convert a dog age to a equivalent humain age\n",
    "def dog2human_age(dog_age):\n",
    "    human_age = -1\n",
    "    if dog_age < 0:\n",
    "        human_age = -1\n",
    "    elif dog_age == 0:\n",
    "        human_age = 0\n",
    "    elif dog_age == 1:\n",
    "        human_age = 14\n",
    "    elif dog_age == 2:\n",
    "        human_age = 22\n",
    "    else:\n",
    "        human_age = 22 + (dog_age -2) * 5\n",
    "    return human_age"
   ],
   "metadata": {
    "collapsed": false,
    "pycharm": {
     "name": "#%%\n"
    }
   }
  },
  {
   "cell_type": "code",
   "execution_count": 6,
   "outputs": [
    {
     "name": "stdout",
     "output_type": "stream",
     "text": [
      "your dog in humain age: 87\n"
     ]
    }
   ],
   "source": [
    "dog_age=get_number(\"Please enter your dog age?\")\n",
    "print(f\"your dog in humain age: {dog2human_age(dog_age)}\")"
   ],
   "metadata": {
    "collapsed": false,
    "pycharm": {
     "name": "#%%\n"
    }
   }
  },
  {
   "cell_type": "markdown",
   "source": [
    "## 4.3 Multiple Except clause\n",
    "\n",
    "A try statement may have more than one except clause for different exceptions. But at most one except clause will be executed.\n",
    "\n",
    "Our next example shows a try clause, in which we open a file for reading, read a line from this file and convert this line into an integer. There are at least two possible exceptions:"
   ],
   "metadata": {
    "collapsed": false,
    "pycharm": {
     "name": "#%% md\n"
    }
   }
  },
  {
   "cell_type": "code",
   "execution_count": 9,
   "outputs": [
    {
     "name": "stdout",
     "output_type": "stream",
     "text": [
      "I/O error(2): No such file or directory\n"
     ]
    }
   ],
   "source": [
    "import sys\n",
    "path=\"../../../sources/numbers1.txt\"\n",
    "try:\n",
    "    f=open(path,\"r\")\n",
    "    text=f.read()\n",
    "    number=int(text)\n",
    "    print(f\"Read number {number}\")\n",
    "except IOError as e:\n",
    "    errno, strerror = e.args\n",
    "    print(f\"I/O error({errno}): {strerror}\")\n",
    "except ValueError:\n",
    "    print(\"Value Error\")\n",
    "except:\n",
    "    print(\"Unexpected error:\", sys.exc_info()[0])\n",
    "    raise"
   ],
   "metadata": {
    "collapsed": false,
    "pycharm": {
     "name": "#%%\n"
    }
   }
  },
  {
   "cell_type": "markdown",
   "source": [
    "In above example, the variable \"e\" is bound to an exception instance with the arguments stored in instance.args. If we call the above script with a non-existing file, we get the message: I/O error(2): No such file or directory\n",
    "\n",
    "And if the file integers.txt is not readable, e.g. if we don't have the permission to read it, we get the following message: I/O error(13): Permission denied\n",
    "\n",
    "An except clause may name more than one exception in a tuple of error names, as we see in the following example:"
   ],
   "metadata": {
    "collapsed": false,
    "pycharm": {
     "name": "#%% md\n"
    }
   }
  },
  {
   "cell_type": "code",
   "execution_count": null,
   "outputs": [],
   "source": [
    "try:\n",
    "    f=open(path)\n",
    "    text=f.read()\n",
    "    number=int(text)\n",
    "except (IOError, ValueError):\n",
    "    print(\"An I/O error or a ValueError occurred\")\n",
    "except:\n",
    "    print(\"An unexpected error occurred\")\n",
    "    raise\n"
   ],
   "metadata": {
    "collapsed": false,
    "pycharm": {
     "name": "#%%\n"
    }
   }
  },
  {
   "cell_type": "markdown",
   "source": [
    "**Order matters when we have multiple except clause.** In section 4.5. We will see the hierarchy of exceptions. If the upper except catch a parent class exception, and lower except catches a child class exception. The lower except clause will never be executed. Consider below example:\n",
    "```python\n",
    "try:\n",
    "    foo()\n",
    "except ValueError as e:\n",
    "    print('ValueError')\n",
    "except UnicodeError as e:\n",
    "    print('UnicodeError')\n",
    "```\n",
    "\n",
    "The second except is useless, because UnicodeError exception is a sub class of ValueError. So the first except will also catch the UnicodeError."
   ],
   "metadata": {
    "collapsed": false,
    "pycharm": {
     "name": "#%% md\n"
    }
   }
  },
  {
   "cell_type": "markdown",
   "source": [
    "## 4.4 Exception propagation\n",
    "\n",
    "Let's try below example, the exception is thrown by a statement inside a function. We called the function inside another try. It means **if we don't handle the exception, the exception will be propagated to an upper leve automatically. If the exception has been propagated to the highest level, and still not handled. The python interpreter will catch the exception and print error traceback stack.** That's a life-saving feature, because we don't need to handle the exception at each level unlike Java(we need to throw it at each level if we don't to handle it)"
   ],
   "metadata": {
    "collapsed": false,
    "pycharm": {
     "name": "#%% md\n"
    }
   }
  },
  {
   "cell_type": "code",
   "execution_count": 12,
   "outputs": [
    {
     "name": "stdout",
     "output_type": "stream",
     "text": [
      "catch in main\n"
     ]
    }
   ],
   "source": [
    "def convert():\n",
    "    return int(\"four\")\n",
    "\n",
    "try:\n",
    "    convert()\n",
    "    print(\"convert success\")\n",
    "except ValueError:\n",
    "    print(\"catch in main\")"
   ],
   "metadata": {
    "collapsed": false,
    "pycharm": {
     "name": "#%%\n"
    }
   }
  },
  {
   "cell_type": "markdown",
   "source": [
    "Now let's try to handle the exception inside the function. You can notice if an exception is handled, no more propagation. And the function is considered success."
   ],
   "metadata": {
    "collapsed": false,
    "pycharm": {
     "name": "#%% md\n"
    }
   }
  },
  {
   "cell_type": "code",
   "execution_count": 13,
   "outputs": [
    {
     "name": "stdout",
     "output_type": "stream",
     "text": [
      "catch in function\n",
      "convert success\n"
     ]
    }
   ],
   "source": [
    "def convert():\n",
    "    try:\n",
    "        int(\"four\")\n",
    "    except ValueError:\n",
    "        print(\"catch in function\")\n",
    "\n",
    "try:\n",
    "    convert()\n",
    "    print(\"convert success\")\n",
    "except ValueError:\n",
    "    print(\"catch in main\")"
   ],
   "metadata": {
    "collapsed": false,
    "pycharm": {
     "name": "#%%\n"
    }
   }
  },
  {
   "cell_type": "markdown",
   "source": [
    "If you want to propagate the exception even after it has been handled (Not recommended), You can use key word **raise**. Check below example, you can notice, we catch two exception, one local, one in main. And as the convert() throws exception, it's no longer considered as success."
   ],
   "metadata": {
    "collapsed": false,
    "pycharm": {
     "name": "#%% md\n"
    }
   }
  },
  {
   "cell_type": "code",
   "execution_count": 14,
   "outputs": [
    {
     "name": "stdout",
     "output_type": "stream",
     "text": [
      "catch in function\n",
      "catch in main\n"
     ]
    }
   ],
   "source": [
    "def convert():\n",
    "    try:\n",
    "        int(\"four\")\n",
    "    except ValueError:\n",
    "        print(\"catch in function\")\n",
    "        # propagate the caught exception\n",
    "        raise\n",
    "\n",
    "try:\n",
    "    convert()\n",
    "    print(\"convert success\")\n",
    "except ValueError:\n",
    "    print(\"catch in main\")"
   ],
   "metadata": {
    "collapsed": false,
    "pycharm": {
     "name": "#%%\n"
    }
   }
  },
  {
   "cell_type": "markdown",
   "source": [
    "## 4.5 Custom exception\n",
    "\n",
    "It's possible to create Exceptions yourself if the built-in exception does not fit your requirements. Because all exceptions in python are classes or sub Classes of BaseException. You can find the full list and their dependencies [here](https://docs.python.org/3/library/exceptions.html#exception-hierarchy)\n",
    "\n",
    "All your need to do is just extends another exception(e.g. Exception)\n",
    "\n",
    "Check below example, we create a MyException class which extends the Exception class. Even though it's empty, it inherits all methods of its partent."
   ],
   "metadata": {
    "collapsed": false,
    "pycharm": {
     "name": "#%% md\n"
    }
   }
  },
  {
   "cell_type": "code",
   "execution_count": 15,
   "outputs": [],
   "source": [
    "class MyException(Exception):\n",
    "    pass"
   ],
   "metadata": {
    "collapsed": false,
    "pycharm": {
     "name": "#%%\n"
    }
   }
  },
  {
   "cell_type": "code",
   "execution_count": 16,
   "outputs": [],
   "source": [
    "def throw_exception(flag):\n",
    "    if flag:\n",
    "        raise MyException(\"This is a custom define Exception thrown in a function\")"
   ],
   "metadata": {
    "collapsed": false,
    "pycharm": {
     "name": "#%%\n"
    }
   }
  },
  {
   "cell_type": "code",
   "execution_count": 17,
   "outputs": [
    {
     "ename": "MyException",
     "evalue": "This is a custom define Exception thrown in a function",
     "output_type": "error",
     "traceback": [
      "\u001B[0;31m---------------------------------------------------------------------------\u001B[0m",
      "\u001B[0;31mMyException\u001B[0m                               Traceback (most recent call last)",
      "Input \u001B[0;32mIn [17]\u001B[0m, in \u001B[0;36m<cell line: 1>\u001B[0;34m()\u001B[0m\n\u001B[0;32m----> 1\u001B[0m \u001B[43mthrow_exception\u001B[49m\u001B[43m(\u001B[49m\u001B[38;5;28;43;01mTrue\u001B[39;49;00m\u001B[43m)\u001B[49m\n",
      "Input \u001B[0;32mIn [16]\u001B[0m, in \u001B[0;36mthrow_exception\u001B[0;34m(flag)\u001B[0m\n\u001B[1;32m      1\u001B[0m \u001B[38;5;28;01mdef\u001B[39;00m \u001B[38;5;21mthrow_exception\u001B[39m(flag):\n\u001B[1;32m      2\u001B[0m     \u001B[38;5;28;01mif\u001B[39;00m flag:\n\u001B[0;32m----> 3\u001B[0m         \u001B[38;5;28;01mraise\u001B[39;00m MyException(\u001B[38;5;124m\"\u001B[39m\u001B[38;5;124mThis is a custom define Exception thrown in a function\u001B[39m\u001B[38;5;124m\"\u001B[39m)\n",
      "\u001B[0;31mMyException\u001B[0m: This is a custom define Exception thrown in a function"
     ]
    }
   ],
   "source": [
    "throw_exception(True)"
   ],
   "metadata": {
    "collapsed": false,
    "pycharm": {
     "name": "#%%\n"
    }
   }
  },
  {
   "cell_type": "markdown",
   "source": [
    "## 4.6 Clean-up Actions (try ... finally)\n",
    "\n",
    "So far the try statement had always been paired with except clauses. But there is another way to use it as well. The try statement can be followed by a finally clause. Finally clauses are called clean-up or termination clauses, because they must be executed under all circumstances, i.e. a \"finally\" clause is always executed regardless if an exception occurred in a try block or not. A simple example to demonstrate the finally clause:\n",
    "\n",
    "If you enter a number, the finally statement is executed. If you give a word, the finally statement is executed too."
   ],
   "metadata": {
    "collapsed": false,
    "pycharm": {
     "name": "#%% md\n"
    }
   }
  },
  {
   "cell_type": "code",
   "execution_count": 18,
   "outputs": [
    {
     "name": "stdout",
     "output_type": "stream",
     "text": [
      "There may or may not have been an exception.\n"
     ]
    },
    {
     "ename": "ValueError",
     "evalue": "could not convert string to float: 'toto'",
     "output_type": "error",
     "traceback": [
      "\u001B[0;31m---------------------------------------------------------------------------\u001B[0m",
      "\u001B[0;31mValueError\u001B[0m                                Traceback (most recent call last)",
      "Input \u001B[0;32mIn [18]\u001B[0m, in \u001B[0;36m<cell line: 1>\u001B[0;34m()\u001B[0m\n\u001B[1;32m      1\u001B[0m \u001B[38;5;28;01mtry\u001B[39;00m:\n\u001B[0;32m----> 2\u001B[0m     x \u001B[38;5;241m=\u001B[39m \u001B[38;5;28;43mfloat\u001B[39;49m\u001B[43m(\u001B[49m\u001B[38;5;28;43minput\u001B[39;49m\u001B[43m(\u001B[49m\u001B[38;5;124;43m\"\u001B[39;49m\u001B[38;5;124;43mYour number: \u001B[39;49m\u001B[38;5;124;43m\"\u001B[39;49m\u001B[43m)\u001B[49m\u001B[43m)\u001B[49m\n\u001B[1;32m      3\u001B[0m     inverse \u001B[38;5;241m=\u001B[39m \u001B[38;5;241m1.0\u001B[39m \u001B[38;5;241m/\u001B[39m x\n\u001B[1;32m      4\u001B[0m \u001B[38;5;28;01mfinally\u001B[39;00m:\n",
      "\u001B[0;31mValueError\u001B[0m: could not convert string to float: 'toto'"
     ]
    }
   ],
   "source": [
    "try:\n",
    "    x = float(input(\"Your number: \"))\n",
    "    inverse = 1.0 / x\n",
    "finally:\n",
    "    print(\"There may or may not have been an exception.\")\n",
    "print(\"The inverse: \", inverse)"
   ],
   "metadata": {
    "collapsed": false,
    "pycharm": {
     "name": "#%%\n"
    }
   }
  },
  {
   "cell_type": "markdown",
   "source": [
    "\"finally\" and \"except\" can be used together for the same try block, as it can be seen in the following Python example:"
   ],
   "metadata": {
    "collapsed": false,
    "pycharm": {
     "name": "#%% md\n"
    }
   }
  },
  {
   "cell_type": "code",
   "execution_count": 20,
   "outputs": [
    {
     "name": "stdout",
     "output_type": "stream",
     "text": [
      "input : 0\n",
      "Infinite\n",
      "There may or may not have been an exception.\n"
     ]
    }
   ],
   "source": [
    "try:\n",
    "    num=int(input(\"Enter a number\"))\n",
    "    print(f\"input : {num}\")\n",
    "    reversed= 1.0/num\n",
    "except ValueError:\n",
    "    print(\"Must enter a number, please try again\")\n",
    "except ZeroDivisionError:\n",
    "    print(\"Infinite\")\n",
    "finally:\n",
    "    print(\"There may or may not have been an exception.\")"
   ],
   "metadata": {
    "collapsed": false,
    "pycharm": {
     "name": "#%%\n"
    }
   }
  },
  {
   "cell_type": "markdown",
   "source": [
    "# 4.7 Else\n",
    "\n",
    "The try ... except statement has an optional else clause. **An else block has to be positioned after all the except clauses. An else clause will be executed if the try clause doesn't raise an exception.**\n",
    "\n",
    "The following example opens a file and reads in all the lines into a list called \"text\". We handled the exception, but there are two problems:\n",
    " 1. readlines and close can also throw exception.\n",
    " 2. if an exception occurred, the f.close() will never be executed, and the file connexion is still open. If we have many unclosed connexion, this will kill our performance.\n",
    "\n"
   ],
   "metadata": {
    "collapsed": false,
    "pycharm": {
     "name": "#%% md\n"
    }
   }
  },
  {
   "cell_type": "code",
   "execution_count": null,
   "outputs": [],
   "source": [
    "path=\"../../../sources/numbers.txt\"\n",
    "try:\n",
    "    f=open(path,\"r\")\n",
    "    text=f.readlines()\n",
    "    print(f\"file content: {text}\")\n",
    "    f.close()\n",
    "except IOError as e:\n",
    "    print(e)"
   ],
   "metadata": {
    "collapsed": false,
    "pycharm": {
     "name": "#%%\n"
    }
   }
  },
  {
   "cell_type": "markdown",
   "source": [
    "With the help of else and finally clause, we can use below code to resolve the two problems"
   ],
   "metadata": {
    "collapsed": false,
    "pycharm": {
     "name": "#%% md\n"
    }
   }
  },
  {
   "cell_type": "code",
   "execution_count": 21,
   "outputs": [
    {
     "name": "stdout",
     "output_type": "stream",
     "text": [
      "file content: ['12']\n"
     ]
    }
   ],
   "source": [
    "path=\"../../../sources/numbers.txt\"\n",
    "f=None\n",
    "try:\n",
    "    f=open(path,\"r\")\n",
    "except IOError as e:\n",
    "    print(e)\n",
    "else:\n",
    "    text=f.readlines()\n",
    "    print(f\"file content: {text}\")\n",
    "finally:\n",
    "    f.close()"
   ],
   "metadata": {
    "collapsed": false,
    "pycharm": {
     "name": "#%%\n"
    }
   }
  },
  {
   "cell_type": "markdown",
   "source": [
    "## 4.8 Understand the python error Traceback stack\n",
    "\n",
    "Try to run the `src/err.py`. You should see below error message in your python console\n",
    "\n",
    "```text\n",
    "Traceback (most recent call last):\n",
    "  File \"/home/pliu/git/Learning_Python/learning_python/Lesson01_Basics/Section01_Basic_syntax/src/err.py\", line 14, in <module>\n",
    "    main()\n",
    "  File \"/home/pliu/git/Learning_Python/learning_python/Lesson01_Basics/Section01_Basic_syntax/src/err.py\", line 10, in main\n",
    "    bar('0')\n",
    "  File \"/home/pliu/git/Learning_Python/learning_python/Lesson01_Basics/Section01_Basic_syntax/src/err.py\", line 6, in bar\n",
    "    return foo(s) * 2\n",
    "  File \"/home/pliu/git/Learning_Python/learning_python/Lesson01_Basics/Section01_Basic_syntax/src/err.py\", line 2, in foo\n",
    "    return 10 / int(s)\n",
    "ZeroDivisionError: division by zero\n",
    "```\n",
    "\n",
    "\n",
    "Let's explain it line by line\n",
    "\n",
    "### Line 1：\n",
    "\n",
    "```text\n",
    "Traceback (most recent call last):\n",
    "```\n",
    "\n",
    "This tells us below are traceback info about the error\n",
    "\n",
    "### line 2~3：\n",
    "\n",
    "```text\n",
    "File \"/home/pliu/git/Learning_Python/learning_python/Lesson01_Basics/Section01_Basic_syntax/src/err.py\", line 14, in <module>\n",
    "    main()\n",
    "```\n",
    "\n",
    "The error occurs when we call main() function, which located at line 14 in file `err.py`\n",
    "\n",
    "### line 4~5:\n",
    "\n",
    "```text\n",
    "File \"/home/pliu/git/Learning_Python/learning_python/Lesson01_Basics/Section01_Basic_syntax/src/err.py\", line 10, in main\n",
    "    bar('0')\n",
    "```\n",
    "It tells you the error in main is caused by the call of **bar('0')** in line 10\n",
    "\n",
    "\n",
    "### line 6~7:\n",
    "\n",
    "```text\n",
    "File \"/home/pliu/git/Learning_Python/learning_python/Lesson01_Basics/Section01_Basic_syntax/src/err.py\", line 6, in bar\n",
    "    return foo(s) * 2\n",
    "```\n",
    "\n",
    "It tells you the error in **bar('0')** is caused by the call of **foo(s)\\*2** in line 6\n",
    "\n",
    "### line 8~10\n",
    "\n",
    "```text\n",
    "File \"/home/pliu/git/Learning_Python/learning_python/Lesson01_Basics/Section01_Basic_syntax/src/err.py\", line 2, in foo\n",
    "    return 10 / int(s)\n",
    "ZeroDivisionError: division by zero\n",
    "```\n",
    "\n",
    "It tells you the error in **foo(s)** is caused by the call of **return 10 / int(s)** in line 2. And the origin exception is **ZeroDivisionError: division by zero**\n",
    "\n",
    "### Conclusion\n",
    "\n",
    "The type conversion is correct, but we can't divide 10 by 0."
   ],
   "metadata": {
    "collapsed": false,
    "pycharm": {
     "name": "#%% md\n"
    }
   }
  },
  {
   "cell_type": "markdown",
   "source": [
    "## 4.9 Saving the error message\n",
    "\n",
    "We have seen how to handle the error, but we can imagine in a real world app, we can't stop the app and check what's going on. We need to save the error message and keep the app running.\n",
    "\n",
    "So we need a logging system, which we will talk about it in next chapter"
   ],
   "metadata": {
    "collapsed": false,
    "pycharm": {
     "name": "#%% md\n"
    }
   }
  },
  {
   "cell_type": "code",
   "execution_count": null,
   "outputs": [],
   "source": [],
   "metadata": {
    "collapsed": false,
    "pycharm": {
     "name": "#%%\n"
    }
   }
  }
 ],
 "metadata": {
  "kernelspec": {
   "display_name": "Python 3",
   "language": "python",
   "name": "python3"
  },
  "language_info": {
   "codemirror_mode": {
    "name": "ipython",
    "version": 2
   },
   "file_extension": ".py",
   "mimetype": "text/x-python",
   "name": "python",
   "nbconvert_exporter": "python",
   "pygments_lexer": "ipython2",
   "version": "2.7.6"
  }
 },
 "nbformat": 4,
 "nbformat_minor": 0
}