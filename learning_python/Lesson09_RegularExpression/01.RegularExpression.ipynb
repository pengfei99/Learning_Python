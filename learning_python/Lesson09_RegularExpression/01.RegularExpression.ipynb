{
 "cells": [
  {
   "cell_type": "markdown",
   "metadata": {
    "collapsed": true,
    "pycharm": {
     "name": "#%% md\n"
    }
   },
   "source": [
    "# 1 Regular expression\n",
    "\n",
    "## 1.1 A (Very Brief) History of Regular Expressions\n",
    "\n",
    "In 1951, mathematician **Stephen Cole Kleene** described the concept of a `regular language`, a language that is recognizable by a finite automaton and formally expressible using regular expressions. In the mid-1960s, computer science pioneer `Ken Thompson`, one of the original designers of Unix, implemented pattern matching in the QED text editor using Kleene’s notation.\n",
    "\n",
    "Since then, regexes have appeared in many programming languages, editors, and other tools as a means of **determining whether a string matches a specified pattern**. Python, Java, and Perl all support regex functionality, as do most Unix tools and many text editors.\n",
    "\n"
   ]
  },
  {
   "cell_type": "markdown",
   "source": [
    "## 1.2 The re Module\n",
    "\n",
    "**Regex functionality in Python resides in a module named re**.\n",
    "\n",
    "\n",
    "### 1.2.1 The first re Module example\n",
    "\n",
    "The first re module function which we will learn is called **re.search().** The **re.search(<regex>, <string>) scans <string> looking for the first location where the pattern <regex> matches**. If a match is found, then re.search() returns a match object. Otherwise, it returns None.\n"
   ],
   "metadata": {
    "collapsed": false,
    "pycharm": {
     "name": "#%% md\n"
    }
   }
  },
  {
   "cell_type": "code",
   "execution_count": 1,
   "outputs": [],
   "source": [
    "import re"
   ],
   "metadata": {
    "collapsed": false,
    "pycharm": {
     "name": "#%%\n"
    }
   }
  },
  {
   "cell_type": "markdown",
   "source": [
    "In below example, we use the search pattern <regex> `123` and target <string> `sample1` as parameter for re.search(). As sample1 contains **123**, so it will return a match object."
   ],
   "metadata": {
    "collapsed": false,
    "pycharm": {
     "name": "#%% md\n"
    }
   }
  },
  {
   "cell_type": "code",
   "execution_count": 2,
   "outputs": [],
   "source": [
    "sample1 = \"foo123bar\""
   ],
   "metadata": {
    "collapsed": false,
    "pycharm": {
     "name": "#%%\n"
    }
   }
  },
  {
   "cell_type": "code",
   "execution_count": 4,
   "outputs": [
    {
     "name": "stdout",
     "output_type": "stream",
     "text": [
      "<re.Match object; span=(3, 6), match='123'>\n"
     ]
    }
   ],
   "source": [
    "result = re.search(\"123\", sample1)\n",
    "\n",
    "print(result)"
   ],
   "metadata": {
    "collapsed": false,
    "pycharm": {
     "name": "#%%\n"
    }
   }
  },
  {
   "cell_type": "markdown",
   "source": [
    "The match object is [truthy](https://realpython.com/python-data-types/#boolean-type-boolean-context-and-truthiness), so you can use it in a Boolean context like a conditional statement:"
   ],
   "metadata": {
    "collapsed": false,
    "pycharm": {
     "name": "#%% md\n"
    }
   }
  },
  {
   "cell_type": "code",
   "execution_count": 5,
   "outputs": [
    {
     "name": "stdout",
     "output_type": "stream",
     "text": [
      "Find a match\n"
     ]
    }
   ],
   "source": [
    "if result:\n",
    "    print(\"Find a match\")\n",
    "else:\n",
    "    print(\"No match\")"
   ],
   "metadata": {
    "collapsed": false,
    "pycharm": {
     "name": "#%%\n"
    }
   }
  },
  {
   "cell_type": "markdown",
   "source": [
    "#### Understand the output\n",
    "\n",
    "span=(3, 6) indicates the portion of <string> in which the match was found. This means the same thing as it would in slice notation:"
   ],
   "metadata": {
    "collapsed": false,
    "pycharm": {
     "name": "#%% md\n"
    }
   }
  },
  {
   "cell_type": "code",
   "execution_count": 7,
   "outputs": [
    {
     "name": "stdout",
     "output_type": "stream",
     "text": [
      "123\n"
     ]
    }
   ],
   "source": [
    "print(sample1[3:6])"
   ],
   "metadata": {
    "collapsed": false,
    "pycharm": {
     "name": "#%%\n"
    }
   }
  },
  {
   "cell_type": "markdown",
   "source": [
    "match='123' indicates which characters from <string> matched.\n",
    "\n",
    "In this example, the <regex> pattern is just the plain string '123'. So the matched is exactly the same as regex. But in the situation that the regex is very complex, the matched string can be very useful."
   ],
   "metadata": {
    "collapsed": false,
    "pycharm": {
     "name": "#%% md\n"
    }
   }
  },
  {
   "cell_type": "markdown",
   "source": [
    "## 1.3 Python Regex Metacharacters\n",
    "\n",
    "The real power of regex matching in Python emerges when <regex> contains special characters called metacharacters. These have a unique meaning to the regex matching engine and vastly enhance the capability of the search.\n",
    "\n",
    "Consider again the problem of how to determine whether a string contains any three consecutive decimal digit characters.\n",
    "\n",
    "In a regex, a set of characters specified in square brackets ([]) makes up a character class. For example, [0-9] matches any digit number between 0 and 9.\n",
    "\n",
    "So we can use below regex to match any three consecutive digits.\n",
    "\n",
    "### 1.3.1 Digit expression"
   ],
   "metadata": {
    "collapsed": false,
    "pycharm": {
     "name": "#%% md\n"
    }
   }
  },
  {
   "cell_type": "code",
   "execution_count": 10,
   "outputs": [],
   "source": [
    "regex1 = \"[0-9][0-9][0-9]\""
   ],
   "metadata": {
    "collapsed": false,
    "pycharm": {
     "name": "#%%\n"
    }
   }
  },
  {
   "cell_type": "code",
   "execution_count": 11,
   "outputs": [
    {
     "data": {
      "text/plain": "<re.Match object; span=(3, 6), match='123'>"
     },
     "execution_count": 11,
     "metadata": {},
     "output_type": "execute_result"
    }
   ],
   "source": [
    "re.search(regex1, sample1)"
   ],
   "metadata": {
    "collapsed": false,
    "pycharm": {
     "name": "#%%\n"
    }
   }
  },
  {
   "cell_type": "markdown",
   "source": [
    "It will also work on below string"
   ],
   "metadata": {
    "collapsed": false,
    "pycharm": {
     "name": "#%% md\n"
    }
   }
  },
  {
   "cell_type": "code",
   "execution_count": 12,
   "outputs": [
    {
     "data": {
      "text/plain": "<re.Match object; span=(0, 3), match='888'>"
     },
     "execution_count": 12,
     "metadata": {},
     "output_type": "execute_result"
    }
   ],
   "source": [
    "re.search(regex1, \"888toto\")"
   ],
   "metadata": {
    "collapsed": false,
    "pycharm": {
     "name": "#%%\n"
    }
   }
  },
  {
   "cell_type": "code",
   "execution_count": 13,
   "outputs": [
    {
     "data": {
      "text/plain": "<re.Match object; span=(4, 7), match='666'>"
     },
     "execution_count": 13,
     "metadata": {},
     "output_type": "execute_result"
    }
   ],
   "source": [
    "re.search(regex1, \"toto666\")"
   ],
   "metadata": {
    "collapsed": false,
    "pycharm": {
     "name": "#%%\n"
    }
   }
  },
  {
   "cell_type": "markdown",
   "source": [
    "### 1.3.2 The wildcard\n",
    "\n",
    "The **dot (.)** metacharacter matches any character except a newline, so it functions like a wildcard. We can write a new regex to match 123:"
   ],
   "metadata": {
    "collapsed": false,
    "pycharm": {
     "name": "#%% md\n"
    }
   }
  },
  {
   "cell_type": "code",
   "execution_count": 15,
   "outputs": [],
   "source": [
    "regex2 = \"1.3\""
   ],
   "metadata": {
    "collapsed": false,
    "pycharm": {
     "name": "#%%\n"
    }
   }
  },
  {
   "cell_type": "code",
   "execution_count": 16,
   "outputs": [
    {
     "data": {
      "text/plain": "<re.Match object; span=(3, 6), match='123'>"
     },
     "execution_count": 16,
     "metadata": {},
     "output_type": "execute_result"
    }
   ],
   "source": [
    "re.search(regex2, sample1)"
   ],
   "metadata": {
    "collapsed": false,
    "pycharm": {
     "name": "#%%\n"
    }
   }
  },
  {
   "cell_type": "markdown",
   "source": [
    "As dot (.) is a wildcard, so we can replace 2 by anything except none."
   ],
   "metadata": {
    "collapsed": false,
    "pycharm": {
     "name": "#%% md\n"
    }
   }
  },
  {
   "cell_type": "code",
   "execution_count": 17,
   "outputs": [
    {
     "data": {
      "text/plain": "<re.Match object; span=(0, 3), match='1a3'>"
     },
     "execution_count": 17,
     "metadata": {},
     "output_type": "execute_result"
    }
   ],
   "source": [
    "re.search(regex2, \"1a3toto\")"
   ],
   "metadata": {
    "collapsed": false,
    "pycharm": {
     "name": "#%%\n"
    }
   }
  },
  {
   "cell_type": "code",
   "execution_count": 20,
   "outputs": [
    {
     "data": {
      "text/plain": "<re.Match object; span=(0, 3), match='1 3'>"
     },
     "execution_count": 20,
     "metadata": {},
     "output_type": "execute_result"
    }
   ],
   "source": [
    "re.search(regex2, \"1 3toto\")"
   ],
   "metadata": {
    "collapsed": false,
    "pycharm": {
     "name": "#%%\n"
    }
   }
  },
  {
   "cell_type": "code",
   "execution_count": 19,
   "outputs": [
    {
     "name": "stdout",
     "output_type": "stream",
     "text": [
      "None\n"
     ]
    }
   ],
   "source": [
    "res = re.search(regex2, \"13toto\")\n",
    "print(res)"
   ],
   "metadata": {
    "collapsed": false,
    "pycharm": {
     "name": "#%%\n"
    }
   }
  },
  {
   "cell_type": "markdown",
   "source": [
    "### 1.3.3 Metacharacters Supported by the re Module\n",
    "\n",
    "The following table briefly summarizes all the metacharacters supported by the re module. Some characters serve more than one purpose:\n",
    "\n",
    "| Character(s)\t | Meaning                                                                                                                                                 |\n",
    "|---------------|---------------------------------------------------------------------------------------------------------------------------------------------------------|\n",
    "| .\t            | Matches any single character except newline                                                                                                             |\n",
    "| ^             | Anchors a match at the start of a string, Complements a character class                                                                                 |\n",
    "| $\t            | Anchors a match at the end of a string                                                                                                                  |\n",
    "| *\t            | Matches zero or more repetitions                                                                                                                        |\n",
    "| +\t            | Matches one or more repetitions                                                                                                                         |\n",
    "| ?\t            | Matches zero or one repetition, Specifies the non-greedy versions of *, +, and ?, Introduces a lookahead or lookbehind assertion, Creates a named group |\n",
    "| {}\t           | Matches an explicitly specified number of repetitions                                                                                                   |\n",
    "| \\\t            | Escapes a metacharacter of its special meaning ,Introduces a special character class ,Introduces a grouping backreference                               |\n",
    "| []\t           | Specifies a character class                                                                                                                             |\n",
    "|               | \tDesignates alternation                                                                                                                                 |\n",
    "| ()\t           | Creates a group                                                                                                                                         |\n",
    "| : # = !\t      | Designate a specialized group                                                                                                                           |\n",
    "| <>            | \tCreates a named group                                                                                                                                  |"
   ],
   "metadata": {
    "collapsed": false,
    "pycharm": {
     "name": "#%% md\n"
    }
   }
  },
  {
   "cell_type": "markdown",
   "source": [
    "https://realpython.com/regex-python/#a-very-brief-history-of-regular-expressions"
   ],
   "metadata": {
    "collapsed": false,
    "pycharm": {
     "name": "#%% md\n"
    }
   }
  }
 ],
 "metadata": {
  "kernelspec": {
   "display_name": "Python 3",
   "language": "python",
   "name": "python3"
  },
  "language_info": {
   "codemirror_mode": {
    "name": "ipython",
    "version": 2
   },
   "file_extension": ".py",
   "mimetype": "text/x-python",
   "name": "python",
   "nbconvert_exporter": "python",
   "pygments_lexer": "ipython2",
   "version": "2.7.6"
  }
 },
 "nbformat": 4,
 "nbformat_minor": 0
}