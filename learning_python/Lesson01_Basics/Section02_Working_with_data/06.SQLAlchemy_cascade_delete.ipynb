{
 "cells": [
  {
   "cell_type": "markdown",
   "source": [
    "# SQLAlchemy cascade delete\n",
    "\n",
    "Since there is overlapping **cascade delete** functionality supported by SQLAlchemy -- with the ORM handling some deletes and the database itself handling others -- it can be hard to know the right way to set it up. Here are some examples to help clarify how it all works. For more information, you can visit the official [doc](https://docs.sqlalchemy.org/en/13/orm/cascades.html) of the sqlalchemy."
   ],
   "metadata": {
    "collapsed": false
   }
  },
  {
   "cell_type": "code",
   "execution_count": 1,
   "outputs": [],
   "source": [
    "from sqlalchemy import create_engine, Column, Integer, ForeignKey\n",
    "from sqlalchemy.ext.declarative import declarative_base\n",
    "from sqlalchemy.orm import relationship\n",
    "from sqlalchemy.orm.session import sessionmaker\n",
    "\n",
    "base_path=\"../../../data/cascade_delete.db\"\n",
    "db_url=f\"sqlite:///{base_path}\"\n",
    "# echo(default is false) when set to True will generate the activity log\n",
    "# Below command will create the sqlite db, if not existed\n",
    "# create_engine() will return an engine object.\n",
    "# The Engine establishes a real DBAPI connection to the database when\n",
    "# a method like Engine.execute() or Engine.connect() is called.\n",
    "engine = create_engine(db_url, echo = True)"
   ],
   "metadata": {
    "collapsed": false
   }
  },
  {
   "cell_type": "code",
   "execution_count": 2,
   "outputs": [],
   "source": [
    "Base = declarative_base()"
   ],
   "metadata": {
    "collapsed": false
   }
  },
  {
   "cell_type": "code",
   "execution_count": 3,
   "outputs": [],
   "source": [
    "def createTables(engine):\n",
    "    # create table with the metadata stored in model.Base\n",
    "    Base.metadata.create_all(engine)\n",
    "\n",
    "\n",
    "def dropAllTables(engine):\n",
    "    Base.metadata.drop_all(engine)"
   ],
   "metadata": {
    "collapsed": false
   }
  },
  {
   "cell_type": "markdown",
   "source": [
    "## 1 A one to many example\n",
    "\n",
    "In this simple example, we have two tables: A table `Project` which can contain one or more `Task`. You can check below two mapping class.\n",
    "\n",
    "The task table has a foreignkey project_id which links the two tables with a **one-to-many** relation.\n",
    "\n",
    "> We don't configure cascade delete for now"
   ],
   "metadata": {
    "collapsed": false
   }
  },
  {
   "cell_type": "code",
   "execution_count": 4,
   "outputs": [],
   "source": [
    "class Project(Base):\n",
    "    __tablename__ = \"project\"\n",
    "    id = Column(Integer, primary_key=True)\n",
    "    tasks = relationship(\"Task\", back_populates=\"project\")\n",
    "\n",
    "\n",
    "class Task(Base):\n",
    "    __tablename__ = \"task\"\n",
    "    id = Column(Integer, primary_key=True)\n",
    "    # the nullable=False means, all task must have a project id.\n",
    "    project_id = Column(Integer, ForeignKey(\"project.id\"),nullable=False)\n",
    "    project = relationship(\"Project\", back_populates=\"tasks\")\n"
   ],
   "metadata": {
    "collapsed": false
   }
  },
  {
   "cell_type": "code",
   "execution_count": 5,
   "outputs": [
    {
     "name": "stdout",
     "output_type": "stream",
     "text": [
      "2023-03-16 15:26:11,744 INFO sqlalchemy.engine.Engine BEGIN (implicit)\n",
      "2023-03-16 15:26:11,745 INFO sqlalchemy.engine.Engine PRAGMA main.table_info(\"project\")\n",
      "2023-03-16 15:26:11,746 INFO sqlalchemy.engine.Engine [raw sql] ()\n",
      "2023-03-16 15:26:11,747 INFO sqlalchemy.engine.Engine PRAGMA main.table_info(\"task\")\n",
      "2023-03-16 15:26:11,754 INFO sqlalchemy.engine.Engine [raw sql] ()\n",
      "2023-03-16 15:26:11,756 INFO sqlalchemy.engine.Engine \n",
      "DROP TABLE task\n",
      "2023-03-16 15:26:11,756 INFO sqlalchemy.engine.Engine [no key 0.00076s] ()\n",
      "2023-03-16 15:26:11,766 INFO sqlalchemy.engine.Engine \n",
      "DROP TABLE project\n",
      "2023-03-16 15:26:11,767 INFO sqlalchemy.engine.Engine [no key 0.00066s] ()\n",
      "2023-03-16 15:26:11,773 INFO sqlalchemy.engine.Engine COMMIT\n",
      "2023-03-16 15:26:11,774 INFO sqlalchemy.engine.Engine BEGIN (implicit)\n",
      "2023-03-16 15:26:11,779 INFO sqlalchemy.engine.Engine PRAGMA main.table_info(\"project\")\n",
      "2023-03-16 15:26:11,780 INFO sqlalchemy.engine.Engine [raw sql] ()\n",
      "2023-03-16 15:26:11,782 INFO sqlalchemy.engine.Engine PRAGMA temp.table_info(\"project\")\n",
      "2023-03-16 15:26:11,791 INFO sqlalchemy.engine.Engine [raw sql] ()\n",
      "2023-03-16 15:26:11,792 INFO sqlalchemy.engine.Engine PRAGMA main.table_info(\"task\")\n",
      "2023-03-16 15:26:11,793 INFO sqlalchemy.engine.Engine [raw sql] ()\n",
      "2023-03-16 15:26:11,793 INFO sqlalchemy.engine.Engine PRAGMA temp.table_info(\"task\")\n",
      "2023-03-16 15:26:11,794 INFO sqlalchemy.engine.Engine [raw sql] ()\n",
      "2023-03-16 15:26:11,795 INFO sqlalchemy.engine.Engine \n",
      "CREATE TABLE project (\n",
      "\tid INTEGER NOT NULL, \n",
      "\tPRIMARY KEY (id)\n",
      ")\n",
      "\n",
      "\n",
      "2023-03-16 15:26:11,795 INFO sqlalchemy.engine.Engine [no key 0.00044s] ()\n",
      "2023-03-16 15:26:11,808 INFO sqlalchemy.engine.Engine \n",
      "CREATE TABLE task (\n",
      "\tid INTEGER NOT NULL, \n",
      "\tproject_id INTEGER NOT NULL, \n",
      "\tPRIMARY KEY (id), \n",
      "\tFOREIGN KEY(project_id) REFERENCES project (id)\n",
      ")\n",
      "\n",
      "\n",
      "2023-03-16 15:26:11,809 INFO sqlalchemy.engine.Engine [no key 0.00091s] ()\n",
      "2023-03-16 15:26:11,816 INFO sqlalchemy.engine.Engine COMMIT\n"
     ]
    }
   ],
   "source": [
    "dropAllTables(engine)\n",
    "createTables(engine)"
   ],
   "metadata": {
    "collapsed": false
   }
  },
  {
   "cell_type": "markdown",
   "source": [
    "Run below code to insert some entities in the database."
   ],
   "metadata": {
    "collapsed": false
   }
  },
  {
   "cell_type": "code",
   "execution_count": 6,
   "outputs": [
    {
     "name": "stdout",
     "output_type": "stream",
     "text": [
      "2023-03-16 15:26:18,114 INFO sqlalchemy.engine.Engine BEGIN (implicit)\n",
      "2023-03-16 15:26:18,117 INFO sqlalchemy.engine.Engine INSERT INTO project (id) VALUES (?)\n",
      "2023-03-16 15:26:18,117 INFO sqlalchemy.engine.Engine [generated in 0.00083s] (0,)\n",
      "2023-03-16 15:26:18,119 INFO sqlalchemy.engine.Engine INSERT INTO task (id, project_id) VALUES (?, ?)\n",
      "2023-03-16 15:26:18,119 INFO sqlalchemy.engine.Engine [generated in 0.00061s] ((1, 0), (2, 0))\n",
      "2023-03-16 15:26:18,120 INFO sqlalchemy.engine.Engine COMMIT\n"
     ]
    }
   ],
   "source": [
    "Session = sessionmaker(bind=engine)\n",
    "session = Session()\n",
    "\n",
    "task1 = Task(id=1,project_id=0)\n",
    "task2 = Task(id=2,project_id=0)\n",
    "\n",
    "project = Project(id=0)\n",
    "\n",
    "session.add(project)\n",
    "session.add(task1)\n",
    "session.add(task2)\n",
    "session.commit()\n"
   ],
   "metadata": {
    "collapsed": false
   }
  },
  {
   "cell_type": "markdown",
   "source": [
    "Now you can check the content of your database, you should see 1 project with id =0 and two tasks which are attached to the task. Now let's try to delete the project, if you set\n",
    "nullable=True (default value), then the project is deleted. And the project_id of the tasks will be set to `null`.\n",
    "```python\n",
    "project_id = Column(Integer, ForeignKey(\"project.id\"),nullable=True)\n",
    "```\n",
    "\n",
    "If you set `nullable=False` for the project_id, when you run below command, you will receive an IntegrityError. To avoid this error and delete the project, you need to delete all the tasks of this project first. This can cost you a lot if your have many tasks.\n"
   ],
   "metadata": {
    "collapsed": false
   }
  },
  {
   "cell_type": "code",
   "execution_count": 7,
   "outputs": [
    {
     "name": "stdout",
     "output_type": "stream",
     "text": [
      "2023-03-16 15:26:28,993 INFO sqlalchemy.engine.Engine BEGIN (implicit)\n",
      "2023-03-16 15:26:28,997 INFO sqlalchemy.engine.Engine SELECT project.id AS project_id \n",
      "FROM project \n",
      "WHERE project.id = ?\n",
      "2023-03-16 15:26:28,998 INFO sqlalchemy.engine.Engine [generated in 0.00106s] (0,)\n",
      "2023-03-16 15:26:29,001 INFO sqlalchemy.engine.Engine SELECT task.id AS task_id, task.project_id AS task_project_id \n",
      "FROM task \n",
      "WHERE ? = task.project_id\n",
      "2023-03-16 15:26:29,001 INFO sqlalchemy.engine.Engine [generated in 0.00074s] (0,)\n",
      "2023-03-16 15:26:29,005 INFO sqlalchemy.engine.Engine UPDATE task SET project_id=? WHERE task.id = ?\n",
      "2023-03-16 15:26:29,006 INFO sqlalchemy.engine.Engine [generated in 0.00089s] ((None, 1), (None, 2))\n",
      "2023-03-16 15:26:29,006 INFO sqlalchemy.engine.Engine ROLLBACK\n"
     ]
    },
    {
     "ename": "IntegrityError",
     "evalue": "(sqlite3.IntegrityError) NOT NULL constraint failed: task.project_id\n[SQL: UPDATE task SET project_id=? WHERE task.id = ?]\n[parameters: ((None, 1), (None, 2))]\n(Background on this error at: https://sqlalche.me/e/14/gkpj)",
     "output_type": "error",
     "traceback": [
      "\u001B[0;31m---------------------------------------------------------------------------\u001B[0m",
      "\u001B[0;31mIntegrityError\u001B[0m                            Traceback (most recent call last)",
      "File \u001B[0;32m~/.cache/pypoetry/virtualenvs/learning-python-GOAEXFF0-py3.8/lib/python3.8/site-packages/sqlalchemy/engine/base.py:1880\u001B[0m, in \u001B[0;36mConnection._execute_context\u001B[0;34m(self, dialect, constructor, statement, parameters, execution_options, *args, **kw)\u001B[0m\n\u001B[1;32m   1879\u001B[0m     \u001B[38;5;28;01mif\u001B[39;00m \u001B[38;5;129;01mnot\u001B[39;00m evt_handled:\n\u001B[0;32m-> 1880\u001B[0m         \u001B[38;5;28;43mself\u001B[39;49m\u001B[38;5;241;43m.\u001B[39;49m\u001B[43mdialect\u001B[49m\u001B[38;5;241;43m.\u001B[39;49m\u001B[43mdo_executemany\u001B[49m\u001B[43m(\u001B[49m\n\u001B[1;32m   1881\u001B[0m \u001B[43m            \u001B[49m\u001B[43mcursor\u001B[49m\u001B[43m,\u001B[49m\u001B[43m \u001B[49m\u001B[43mstatement\u001B[49m\u001B[43m,\u001B[49m\u001B[43m \u001B[49m\u001B[43mparameters\u001B[49m\u001B[43m,\u001B[49m\u001B[43m \u001B[49m\u001B[43mcontext\u001B[49m\n\u001B[1;32m   1882\u001B[0m \u001B[43m        \u001B[49m\u001B[43m)\u001B[49m\n\u001B[1;32m   1883\u001B[0m \u001B[38;5;28;01melif\u001B[39;00m \u001B[38;5;129;01mnot\u001B[39;00m parameters \u001B[38;5;129;01mand\u001B[39;00m context\u001B[38;5;241m.\u001B[39mno_parameters:\n",
      "File \u001B[0;32m~/.cache/pypoetry/virtualenvs/learning-python-GOAEXFF0-py3.8/lib/python3.8/site-packages/sqlalchemy/engine/default.py:733\u001B[0m, in \u001B[0;36mDefaultDialect.do_executemany\u001B[0;34m(self, cursor, statement, parameters, context)\u001B[0m\n\u001B[1;32m    732\u001B[0m \u001B[38;5;28;01mdef\u001B[39;00m \u001B[38;5;21mdo_executemany\u001B[39m(\u001B[38;5;28mself\u001B[39m, cursor, statement, parameters, context\u001B[38;5;241m=\u001B[39m\u001B[38;5;28;01mNone\u001B[39;00m):\n\u001B[0;32m--> 733\u001B[0m     \u001B[43mcursor\u001B[49m\u001B[38;5;241;43m.\u001B[39;49m\u001B[43mexecutemany\u001B[49m\u001B[43m(\u001B[49m\u001B[43mstatement\u001B[49m\u001B[43m,\u001B[49m\u001B[43m \u001B[49m\u001B[43mparameters\u001B[49m\u001B[43m)\u001B[49m\n",
      "\u001B[0;31mIntegrityError\u001B[0m: NOT NULL constraint failed: task.project_id",
      "\nThe above exception was the direct cause of the following exception:\n",
      "\u001B[0;31mIntegrityError\u001B[0m                            Traceback (most recent call last)",
      "Cell \u001B[0;32mIn[7], line 2\u001B[0m\n\u001B[1;32m      1\u001B[0m session\u001B[38;5;241m.\u001B[39mdelete(project)\n\u001B[0;32m----> 2\u001B[0m \u001B[43msession\u001B[49m\u001B[38;5;241;43m.\u001B[39;49m\u001B[43mcommit\u001B[49m\u001B[43m(\u001B[49m\u001B[43m)\u001B[49m\n",
      "File \u001B[0;32m~/.cache/pypoetry/virtualenvs/learning-python-GOAEXFF0-py3.8/lib/python3.8/site-packages/sqlalchemy/orm/session.py:1451\u001B[0m, in \u001B[0;36mSession.commit\u001B[0;34m(self)\u001B[0m\n\u001B[1;32m   1448\u001B[0m     \u001B[38;5;28;01mif\u001B[39;00m \u001B[38;5;129;01mnot\u001B[39;00m \u001B[38;5;28mself\u001B[39m\u001B[38;5;241m.\u001B[39m_autobegin():\n\u001B[1;32m   1449\u001B[0m         \u001B[38;5;28;01mraise\u001B[39;00m sa_exc\u001B[38;5;241m.\u001B[39mInvalidRequestError(\u001B[38;5;124m\"\u001B[39m\u001B[38;5;124mNo transaction is begun.\u001B[39m\u001B[38;5;124m\"\u001B[39m)\n\u001B[0;32m-> 1451\u001B[0m \u001B[38;5;28;43mself\u001B[39;49m\u001B[38;5;241;43m.\u001B[39;49m\u001B[43m_transaction\u001B[49m\u001B[38;5;241;43m.\u001B[39;49m\u001B[43mcommit\u001B[49m\u001B[43m(\u001B[49m\u001B[43m_to_root\u001B[49m\u001B[38;5;241;43m=\u001B[39;49m\u001B[38;5;28;43mself\u001B[39;49m\u001B[38;5;241;43m.\u001B[39;49m\u001B[43mfuture\u001B[49m\u001B[43m)\u001B[49m\n",
      "File \u001B[0;32m~/.cache/pypoetry/virtualenvs/learning-python-GOAEXFF0-py3.8/lib/python3.8/site-packages/sqlalchemy/orm/session.py:829\u001B[0m, in \u001B[0;36mSessionTransaction.commit\u001B[0;34m(self, _to_root)\u001B[0m\n\u001B[1;32m    827\u001B[0m \u001B[38;5;28mself\u001B[39m\u001B[38;5;241m.\u001B[39m_assert_active(prepared_ok\u001B[38;5;241m=\u001B[39m\u001B[38;5;28;01mTrue\u001B[39;00m)\n\u001B[1;32m    828\u001B[0m \u001B[38;5;28;01mif\u001B[39;00m \u001B[38;5;28mself\u001B[39m\u001B[38;5;241m.\u001B[39m_state \u001B[38;5;129;01mis\u001B[39;00m \u001B[38;5;129;01mnot\u001B[39;00m PREPARED:\n\u001B[0;32m--> 829\u001B[0m     \u001B[38;5;28;43mself\u001B[39;49m\u001B[38;5;241;43m.\u001B[39;49m\u001B[43m_prepare_impl\u001B[49m\u001B[43m(\u001B[49m\u001B[43m)\u001B[49m\n\u001B[1;32m    831\u001B[0m \u001B[38;5;28;01mif\u001B[39;00m \u001B[38;5;28mself\u001B[39m\u001B[38;5;241m.\u001B[39m_parent \u001B[38;5;129;01mis\u001B[39;00m \u001B[38;5;28;01mNone\u001B[39;00m \u001B[38;5;129;01mor\u001B[39;00m \u001B[38;5;28mself\u001B[39m\u001B[38;5;241m.\u001B[39mnested:\n\u001B[1;32m    832\u001B[0m     \u001B[38;5;28;01mfor\u001B[39;00m conn, trans, should_commit, autoclose \u001B[38;5;129;01min\u001B[39;00m \u001B[38;5;28mset\u001B[39m(\n\u001B[1;32m    833\u001B[0m         \u001B[38;5;28mself\u001B[39m\u001B[38;5;241m.\u001B[39m_connections\u001B[38;5;241m.\u001B[39mvalues()\n\u001B[1;32m    834\u001B[0m     ):\n",
      "File \u001B[0;32m~/.cache/pypoetry/virtualenvs/learning-python-GOAEXFF0-py3.8/lib/python3.8/site-packages/sqlalchemy/orm/session.py:808\u001B[0m, in \u001B[0;36mSessionTransaction._prepare_impl\u001B[0;34m(self)\u001B[0m\n\u001B[1;32m    806\u001B[0m     \u001B[38;5;28;01mif\u001B[39;00m \u001B[38;5;28mself\u001B[39m\u001B[38;5;241m.\u001B[39msession\u001B[38;5;241m.\u001B[39m_is_clean():\n\u001B[1;32m    807\u001B[0m         \u001B[38;5;28;01mbreak\u001B[39;00m\n\u001B[0;32m--> 808\u001B[0m     \u001B[38;5;28;43mself\u001B[39;49m\u001B[38;5;241;43m.\u001B[39;49m\u001B[43msession\u001B[49m\u001B[38;5;241;43m.\u001B[39;49m\u001B[43mflush\u001B[49m\u001B[43m(\u001B[49m\u001B[43m)\u001B[49m\n\u001B[1;32m    809\u001B[0m \u001B[38;5;28;01melse\u001B[39;00m:\n\u001B[1;32m    810\u001B[0m     \u001B[38;5;28;01mraise\u001B[39;00m exc\u001B[38;5;241m.\u001B[39mFlushError(\n\u001B[1;32m    811\u001B[0m         \u001B[38;5;124m\"\u001B[39m\u001B[38;5;124mOver 100 subsequent flushes have occurred within \u001B[39m\u001B[38;5;124m\"\u001B[39m\n\u001B[1;32m    812\u001B[0m         \u001B[38;5;124m\"\u001B[39m\u001B[38;5;124msession.commit() - is an after_flush() hook \u001B[39m\u001B[38;5;124m\"\u001B[39m\n\u001B[1;32m    813\u001B[0m         \u001B[38;5;124m\"\u001B[39m\u001B[38;5;124mcreating new objects?\u001B[39m\u001B[38;5;124m\"\u001B[39m\n\u001B[1;32m    814\u001B[0m     )\n",
      "File \u001B[0;32m~/.cache/pypoetry/virtualenvs/learning-python-GOAEXFF0-py3.8/lib/python3.8/site-packages/sqlalchemy/orm/session.py:3444\u001B[0m, in \u001B[0;36mSession.flush\u001B[0;34m(self, objects)\u001B[0m\n\u001B[1;32m   3442\u001B[0m \u001B[38;5;28;01mtry\u001B[39;00m:\n\u001B[1;32m   3443\u001B[0m     \u001B[38;5;28mself\u001B[39m\u001B[38;5;241m.\u001B[39m_flushing \u001B[38;5;241m=\u001B[39m \u001B[38;5;28;01mTrue\u001B[39;00m\n\u001B[0;32m-> 3444\u001B[0m     \u001B[38;5;28;43mself\u001B[39;49m\u001B[38;5;241;43m.\u001B[39;49m\u001B[43m_flush\u001B[49m\u001B[43m(\u001B[49m\u001B[43mobjects\u001B[49m\u001B[43m)\u001B[49m\n\u001B[1;32m   3445\u001B[0m \u001B[38;5;28;01mfinally\u001B[39;00m:\n\u001B[1;32m   3446\u001B[0m     \u001B[38;5;28mself\u001B[39m\u001B[38;5;241m.\u001B[39m_flushing \u001B[38;5;241m=\u001B[39m \u001B[38;5;28;01mFalse\u001B[39;00m\n",
      "File \u001B[0;32m~/.cache/pypoetry/virtualenvs/learning-python-GOAEXFF0-py3.8/lib/python3.8/site-packages/sqlalchemy/orm/session.py:3584\u001B[0m, in \u001B[0;36mSession._flush\u001B[0;34m(self, objects)\u001B[0m\n\u001B[1;32m   3582\u001B[0m \u001B[38;5;28;01mexcept\u001B[39;00m:\n\u001B[1;32m   3583\u001B[0m     \u001B[38;5;28;01mwith\u001B[39;00m util\u001B[38;5;241m.\u001B[39msafe_reraise():\n\u001B[0;32m-> 3584\u001B[0m         transaction\u001B[38;5;241m.\u001B[39mrollback(_capture_exception\u001B[38;5;241m=\u001B[39m\u001B[38;5;28;01mTrue\u001B[39;00m)\n",
      "File \u001B[0;32m~/.cache/pypoetry/virtualenvs/learning-python-GOAEXFF0-py3.8/lib/python3.8/site-packages/sqlalchemy/util/langhelpers.py:70\u001B[0m, in \u001B[0;36msafe_reraise.__exit__\u001B[0;34m(self, type_, value, traceback)\u001B[0m\n\u001B[1;32m     68\u001B[0m     \u001B[38;5;28mself\u001B[39m\u001B[38;5;241m.\u001B[39m_exc_info \u001B[38;5;241m=\u001B[39m \u001B[38;5;28;01mNone\u001B[39;00m  \u001B[38;5;66;03m# remove potential circular references\u001B[39;00m\n\u001B[1;32m     69\u001B[0m     \u001B[38;5;28;01mif\u001B[39;00m \u001B[38;5;129;01mnot\u001B[39;00m \u001B[38;5;28mself\u001B[39m\u001B[38;5;241m.\u001B[39mwarn_only:\n\u001B[0;32m---> 70\u001B[0m         \u001B[43mcompat\u001B[49m\u001B[38;5;241;43m.\u001B[39;49m\u001B[43mraise_\u001B[49m\u001B[43m(\u001B[49m\n\u001B[1;32m     71\u001B[0m \u001B[43m            \u001B[49m\u001B[43mexc_value\u001B[49m\u001B[43m,\u001B[49m\n\u001B[1;32m     72\u001B[0m \u001B[43m            \u001B[49m\u001B[43mwith_traceback\u001B[49m\u001B[38;5;241;43m=\u001B[39;49m\u001B[43mexc_tb\u001B[49m\u001B[43m,\u001B[49m\n\u001B[1;32m     73\u001B[0m \u001B[43m        \u001B[49m\u001B[43m)\u001B[49m\n\u001B[1;32m     74\u001B[0m \u001B[38;5;28;01melse\u001B[39;00m:\n\u001B[1;32m     75\u001B[0m     \u001B[38;5;28;01mif\u001B[39;00m \u001B[38;5;129;01mnot\u001B[39;00m compat\u001B[38;5;241m.\u001B[39mpy3k \u001B[38;5;129;01mand\u001B[39;00m \u001B[38;5;28mself\u001B[39m\u001B[38;5;241m.\u001B[39m_exc_info \u001B[38;5;129;01mand\u001B[39;00m \u001B[38;5;28mself\u001B[39m\u001B[38;5;241m.\u001B[39m_exc_info[\u001B[38;5;241m1\u001B[39m]:\n\u001B[1;32m     76\u001B[0m         \u001B[38;5;66;03m# emulate Py3K's behavior of telling us when an exception\u001B[39;00m\n\u001B[1;32m     77\u001B[0m         \u001B[38;5;66;03m# occurs in an exception handler.\u001B[39;00m\n",
      "File \u001B[0;32m~/.cache/pypoetry/virtualenvs/learning-python-GOAEXFF0-py3.8/lib/python3.8/site-packages/sqlalchemy/util/compat.py:211\u001B[0m, in \u001B[0;36mraise_\u001B[0;34m(***failed resolving arguments***)\u001B[0m\n\u001B[1;32m    208\u001B[0m     exception\u001B[38;5;241m.\u001B[39m__cause__ \u001B[38;5;241m=\u001B[39m replace_context\n\u001B[1;32m    210\u001B[0m \u001B[38;5;28;01mtry\u001B[39;00m:\n\u001B[0;32m--> 211\u001B[0m     \u001B[38;5;28;01mraise\u001B[39;00m exception\n\u001B[1;32m    212\u001B[0m \u001B[38;5;28;01mfinally\u001B[39;00m:\n\u001B[1;32m    213\u001B[0m     \u001B[38;5;66;03m# credit to\u001B[39;00m\n\u001B[1;32m    214\u001B[0m     \u001B[38;5;66;03m# https://cosmicpercolator.com/2016/01/13/exception-leaks-in-python-2-and-3/\u001B[39;00m\n\u001B[1;32m    215\u001B[0m     \u001B[38;5;66;03m# as the __traceback__ object creates a cycle\u001B[39;00m\n\u001B[1;32m    216\u001B[0m     \u001B[38;5;28;01mdel\u001B[39;00m exception, replace_context, from_, with_traceback\n",
      "File \u001B[0;32m~/.cache/pypoetry/virtualenvs/learning-python-GOAEXFF0-py3.8/lib/python3.8/site-packages/sqlalchemy/orm/session.py:3544\u001B[0m, in \u001B[0;36mSession._flush\u001B[0;34m(self, objects)\u001B[0m\n\u001B[1;32m   3542\u001B[0m \u001B[38;5;28mself\u001B[39m\u001B[38;5;241m.\u001B[39m_warn_on_events \u001B[38;5;241m=\u001B[39m \u001B[38;5;28;01mTrue\u001B[39;00m\n\u001B[1;32m   3543\u001B[0m \u001B[38;5;28;01mtry\u001B[39;00m:\n\u001B[0;32m-> 3544\u001B[0m     \u001B[43mflush_context\u001B[49m\u001B[38;5;241;43m.\u001B[39;49m\u001B[43mexecute\u001B[49m\u001B[43m(\u001B[49m\u001B[43m)\u001B[49m\n\u001B[1;32m   3545\u001B[0m \u001B[38;5;28;01mfinally\u001B[39;00m:\n\u001B[1;32m   3546\u001B[0m     \u001B[38;5;28mself\u001B[39m\u001B[38;5;241m.\u001B[39m_warn_on_events \u001B[38;5;241m=\u001B[39m \u001B[38;5;28;01mFalse\u001B[39;00m\n",
      "File \u001B[0;32m~/.cache/pypoetry/virtualenvs/learning-python-GOAEXFF0-py3.8/lib/python3.8/site-packages/sqlalchemy/orm/unitofwork.py:456\u001B[0m, in \u001B[0;36mUOWTransaction.execute\u001B[0;34m(self)\u001B[0m\n\u001B[1;32m    454\u001B[0m \u001B[38;5;28;01melse\u001B[39;00m:\n\u001B[1;32m    455\u001B[0m     \u001B[38;5;28;01mfor\u001B[39;00m rec \u001B[38;5;129;01min\u001B[39;00m topological\u001B[38;5;241m.\u001B[39msort(\u001B[38;5;28mself\u001B[39m\u001B[38;5;241m.\u001B[39mdependencies, postsort_actions):\n\u001B[0;32m--> 456\u001B[0m         \u001B[43mrec\u001B[49m\u001B[38;5;241;43m.\u001B[39;49m\u001B[43mexecute\u001B[49m\u001B[43m(\u001B[49m\u001B[38;5;28;43mself\u001B[39;49m\u001B[43m)\u001B[49m\n",
      "File \u001B[0;32m~/.cache/pypoetry/virtualenvs/learning-python-GOAEXFF0-py3.8/lib/python3.8/site-packages/sqlalchemy/orm/unitofwork.py:630\u001B[0m, in \u001B[0;36mSaveUpdateAll.execute\u001B[0;34m(self, uow)\u001B[0m\n\u001B[1;32m    628\u001B[0m \u001B[38;5;129m@util\u001B[39m\u001B[38;5;241m.\u001B[39mpreload_module(\u001B[38;5;124m\"\u001B[39m\u001B[38;5;124msqlalchemy.orm.persistence\u001B[39m\u001B[38;5;124m\"\u001B[39m)\n\u001B[1;32m    629\u001B[0m \u001B[38;5;28;01mdef\u001B[39;00m \u001B[38;5;21mexecute\u001B[39m(\u001B[38;5;28mself\u001B[39m, uow):\n\u001B[0;32m--> 630\u001B[0m     \u001B[43mutil\u001B[49m\u001B[38;5;241;43m.\u001B[39;49m\u001B[43mpreloaded\u001B[49m\u001B[38;5;241;43m.\u001B[39;49m\u001B[43morm_persistence\u001B[49m\u001B[38;5;241;43m.\u001B[39;49m\u001B[43msave_obj\u001B[49m\u001B[43m(\u001B[49m\n\u001B[1;32m    631\u001B[0m \u001B[43m        \u001B[49m\u001B[38;5;28;43mself\u001B[39;49m\u001B[38;5;241;43m.\u001B[39;49m\u001B[43mmapper\u001B[49m\u001B[43m,\u001B[49m\n\u001B[1;32m    632\u001B[0m \u001B[43m        \u001B[49m\u001B[43muow\u001B[49m\u001B[38;5;241;43m.\u001B[39;49m\u001B[43mstates_for_mapper_hierarchy\u001B[49m\u001B[43m(\u001B[49m\u001B[38;5;28;43mself\u001B[39;49m\u001B[38;5;241;43m.\u001B[39;49m\u001B[43mmapper\u001B[49m\u001B[43m,\u001B[49m\u001B[43m \u001B[49m\u001B[38;5;28;43;01mFalse\u001B[39;49;00m\u001B[43m,\u001B[49m\u001B[43m \u001B[49m\u001B[38;5;28;43;01mFalse\u001B[39;49;00m\u001B[43m)\u001B[49m\u001B[43m,\u001B[49m\n\u001B[1;32m    633\u001B[0m \u001B[43m        \u001B[49m\u001B[43muow\u001B[49m\u001B[43m,\u001B[49m\n\u001B[1;32m    634\u001B[0m \u001B[43m    \u001B[49m\u001B[43m)\u001B[49m\n",
      "File \u001B[0;32m~/.cache/pypoetry/virtualenvs/learning-python-GOAEXFF0-py3.8/lib/python3.8/site-packages/sqlalchemy/orm/persistence.py:237\u001B[0m, in \u001B[0;36msave_obj\u001B[0;34m(base_mapper, states, uowtransaction, single)\u001B[0m\n\u001B[1;32m    231\u001B[0m     insert \u001B[38;5;241m=\u001B[39m _collect_insert_commands(table, states_to_insert)\n\u001B[1;32m    233\u001B[0m     update \u001B[38;5;241m=\u001B[39m _collect_update_commands(\n\u001B[1;32m    234\u001B[0m         uowtransaction, table, states_to_update\n\u001B[1;32m    235\u001B[0m     )\n\u001B[0;32m--> 237\u001B[0m     \u001B[43m_emit_update_statements\u001B[49m\u001B[43m(\u001B[49m\n\u001B[1;32m    238\u001B[0m \u001B[43m        \u001B[49m\u001B[43mbase_mapper\u001B[49m\u001B[43m,\u001B[49m\n\u001B[1;32m    239\u001B[0m \u001B[43m        \u001B[49m\u001B[43muowtransaction\u001B[49m\u001B[43m,\u001B[49m\n\u001B[1;32m    240\u001B[0m \u001B[43m        \u001B[49m\u001B[43mmapper\u001B[49m\u001B[43m,\u001B[49m\n\u001B[1;32m    241\u001B[0m \u001B[43m        \u001B[49m\u001B[43mtable\u001B[49m\u001B[43m,\u001B[49m\n\u001B[1;32m    242\u001B[0m \u001B[43m        \u001B[49m\u001B[43mupdate\u001B[49m\u001B[43m,\u001B[49m\n\u001B[1;32m    243\u001B[0m \u001B[43m    \u001B[49m\u001B[43m)\u001B[49m\n\u001B[1;32m    245\u001B[0m     _emit_insert_statements(\n\u001B[1;32m    246\u001B[0m         base_mapper,\n\u001B[1;32m    247\u001B[0m         uowtransaction,\n\u001B[0;32m   (...)\u001B[0m\n\u001B[1;32m    250\u001B[0m         insert,\n\u001B[1;32m    251\u001B[0m     )\n\u001B[1;32m    253\u001B[0m _finalize_insert_update_commands(\n\u001B[1;32m    254\u001B[0m     base_mapper,\n\u001B[1;32m    255\u001B[0m     uowtransaction,\n\u001B[0;32m   (...)\u001B[0m\n\u001B[1;32m    271\u001B[0m     ),\n\u001B[1;32m    272\u001B[0m )\n",
      "File \u001B[0;32m~/.cache/pypoetry/virtualenvs/learning-python-GOAEXFF0-py3.8/lib/python3.8/site-packages/sqlalchemy/orm/persistence.py:1001\u001B[0m, in \u001B[0;36m_emit_update_statements\u001B[0;34m(base_mapper, uowtransaction, mapper, table, update, bookkeeping)\u001B[0m\n\u001B[1;32m    995\u001B[0m multiparams \u001B[38;5;241m=\u001B[39m [rec[\u001B[38;5;241m2\u001B[39m] \u001B[38;5;28;01mfor\u001B[39;00m rec \u001B[38;5;129;01min\u001B[39;00m records]\n\u001B[1;32m    997\u001B[0m check_rowcount \u001B[38;5;241m=\u001B[39m assert_multirow \u001B[38;5;129;01mor\u001B[39;00m (\n\u001B[1;32m    998\u001B[0m     assert_singlerow \u001B[38;5;129;01mand\u001B[39;00m \u001B[38;5;28mlen\u001B[39m(multiparams) \u001B[38;5;241m==\u001B[39m \u001B[38;5;241m1\u001B[39m\n\u001B[1;32m    999\u001B[0m )\n\u001B[0;32m-> 1001\u001B[0m c \u001B[38;5;241m=\u001B[39m \u001B[43mconnection\u001B[49m\u001B[38;5;241;43m.\u001B[39;49m\u001B[43m_execute_20\u001B[49m\u001B[43m(\u001B[49m\n\u001B[1;32m   1002\u001B[0m \u001B[43m    \u001B[49m\u001B[43mstatement\u001B[49m\u001B[43m,\u001B[49m\u001B[43m \u001B[49m\u001B[43mmultiparams\u001B[49m\u001B[43m,\u001B[49m\u001B[43m \u001B[49m\u001B[43mexecution_options\u001B[49m\u001B[38;5;241;43m=\u001B[39;49m\u001B[43mexecution_options\u001B[49m\n\u001B[1;32m   1003\u001B[0m \u001B[43m\u001B[49m\u001B[43m)\u001B[49m\n\u001B[1;32m   1005\u001B[0m rows \u001B[38;5;241m+\u001B[39m\u001B[38;5;241m=\u001B[39m c\u001B[38;5;241m.\u001B[39mrowcount\n\u001B[1;32m   1007\u001B[0m \u001B[38;5;28;01mfor\u001B[39;00m (\n\u001B[1;32m   1008\u001B[0m     state,\n\u001B[1;32m   1009\u001B[0m     state_dict,\n\u001B[0;32m   (...)\u001B[0m\n\u001B[1;32m   1015\u001B[0m     has_all_pks,\n\u001B[1;32m   1016\u001B[0m ) \u001B[38;5;129;01min\u001B[39;00m records:\n",
      "File \u001B[0;32m~/.cache/pypoetry/virtualenvs/learning-python-GOAEXFF0-py3.8/lib/python3.8/site-packages/sqlalchemy/engine/base.py:1705\u001B[0m, in \u001B[0;36mConnection._execute_20\u001B[0;34m(self, statement, parameters, execution_options)\u001B[0m\n\u001B[1;32m   1701\u001B[0m     util\u001B[38;5;241m.\u001B[39mraise_(\n\u001B[1;32m   1702\u001B[0m         exc\u001B[38;5;241m.\u001B[39mObjectNotExecutableError(statement), replace_context\u001B[38;5;241m=\u001B[39merr\n\u001B[1;32m   1703\u001B[0m     )\n\u001B[1;32m   1704\u001B[0m \u001B[38;5;28;01melse\u001B[39;00m:\n\u001B[0;32m-> 1705\u001B[0m     \u001B[38;5;28;01mreturn\u001B[39;00m \u001B[43mmeth\u001B[49m\u001B[43m(\u001B[49m\u001B[38;5;28;43mself\u001B[39;49m\u001B[43m,\u001B[49m\u001B[43m \u001B[49m\u001B[43margs_10style\u001B[49m\u001B[43m,\u001B[49m\u001B[43m \u001B[49m\u001B[43mkwargs_10style\u001B[49m\u001B[43m,\u001B[49m\u001B[43m \u001B[49m\u001B[43mexecution_options\u001B[49m\u001B[43m)\u001B[49m\n",
      "File \u001B[0;32m~/.cache/pypoetry/virtualenvs/learning-python-GOAEXFF0-py3.8/lib/python3.8/site-packages/sqlalchemy/sql/elements.py:334\u001B[0m, in \u001B[0;36mClauseElement._execute_on_connection\u001B[0;34m(self, connection, multiparams, params, execution_options, _force)\u001B[0m\n\u001B[1;32m    330\u001B[0m \u001B[38;5;28;01mdef\u001B[39;00m \u001B[38;5;21m_execute_on_connection\u001B[39m(\n\u001B[1;32m    331\u001B[0m     \u001B[38;5;28mself\u001B[39m, connection, multiparams, params, execution_options, _force\u001B[38;5;241m=\u001B[39m\u001B[38;5;28;01mFalse\u001B[39;00m\n\u001B[1;32m    332\u001B[0m ):\n\u001B[1;32m    333\u001B[0m     \u001B[38;5;28;01mif\u001B[39;00m _force \u001B[38;5;129;01mor\u001B[39;00m \u001B[38;5;28mself\u001B[39m\u001B[38;5;241m.\u001B[39msupports_execution:\n\u001B[0;32m--> 334\u001B[0m         \u001B[38;5;28;01mreturn\u001B[39;00m \u001B[43mconnection\u001B[49m\u001B[38;5;241;43m.\u001B[39;49m\u001B[43m_execute_clauseelement\u001B[49m\u001B[43m(\u001B[49m\n\u001B[1;32m    335\u001B[0m \u001B[43m            \u001B[49m\u001B[38;5;28;43mself\u001B[39;49m\u001B[43m,\u001B[49m\u001B[43m \u001B[49m\u001B[43mmultiparams\u001B[49m\u001B[43m,\u001B[49m\u001B[43m \u001B[49m\u001B[43mparams\u001B[49m\u001B[43m,\u001B[49m\u001B[43m \u001B[49m\u001B[43mexecution_options\u001B[49m\n\u001B[1;32m    336\u001B[0m \u001B[43m        \u001B[49m\u001B[43m)\u001B[49m\n\u001B[1;32m    337\u001B[0m     \u001B[38;5;28;01melse\u001B[39;00m:\n\u001B[1;32m    338\u001B[0m         \u001B[38;5;28;01mraise\u001B[39;00m exc\u001B[38;5;241m.\u001B[39mObjectNotExecutableError(\u001B[38;5;28mself\u001B[39m)\n",
      "File \u001B[0;32m~/.cache/pypoetry/virtualenvs/learning-python-GOAEXFF0-py3.8/lib/python3.8/site-packages/sqlalchemy/engine/base.py:1572\u001B[0m, in \u001B[0;36mConnection._execute_clauseelement\u001B[0;34m(self, elem, multiparams, params, execution_options)\u001B[0m\n\u001B[1;32m   1560\u001B[0m compiled_cache \u001B[38;5;241m=\u001B[39m execution_options\u001B[38;5;241m.\u001B[39mget(\n\u001B[1;32m   1561\u001B[0m     \u001B[38;5;124m\"\u001B[39m\u001B[38;5;124mcompiled_cache\u001B[39m\u001B[38;5;124m\"\u001B[39m, \u001B[38;5;28mself\u001B[39m\u001B[38;5;241m.\u001B[39mengine\u001B[38;5;241m.\u001B[39m_compiled_cache\n\u001B[1;32m   1562\u001B[0m )\n\u001B[1;32m   1564\u001B[0m compiled_sql, extracted_params, cache_hit \u001B[38;5;241m=\u001B[39m elem\u001B[38;5;241m.\u001B[39m_compile_w_cache(\n\u001B[1;32m   1565\u001B[0m     dialect\u001B[38;5;241m=\u001B[39mdialect,\n\u001B[1;32m   1566\u001B[0m     compiled_cache\u001B[38;5;241m=\u001B[39mcompiled_cache,\n\u001B[0;32m   (...)\u001B[0m\n\u001B[1;32m   1570\u001B[0m     linting\u001B[38;5;241m=\u001B[39m\u001B[38;5;28mself\u001B[39m\u001B[38;5;241m.\u001B[39mdialect\u001B[38;5;241m.\u001B[39mcompiler_linting \u001B[38;5;241m|\u001B[39m compiler\u001B[38;5;241m.\u001B[39mWARN_LINTING,\n\u001B[1;32m   1571\u001B[0m )\n\u001B[0;32m-> 1572\u001B[0m ret \u001B[38;5;241m=\u001B[39m \u001B[38;5;28;43mself\u001B[39;49m\u001B[38;5;241;43m.\u001B[39;49m\u001B[43m_execute_context\u001B[49m\u001B[43m(\u001B[49m\n\u001B[1;32m   1573\u001B[0m \u001B[43m    \u001B[49m\u001B[43mdialect\u001B[49m\u001B[43m,\u001B[49m\n\u001B[1;32m   1574\u001B[0m \u001B[43m    \u001B[49m\u001B[43mdialect\u001B[49m\u001B[38;5;241;43m.\u001B[39;49m\u001B[43mexecution_ctx_cls\u001B[49m\u001B[38;5;241;43m.\u001B[39;49m\u001B[43m_init_compiled\u001B[49m\u001B[43m,\u001B[49m\n\u001B[1;32m   1575\u001B[0m \u001B[43m    \u001B[49m\u001B[43mcompiled_sql\u001B[49m\u001B[43m,\u001B[49m\n\u001B[1;32m   1576\u001B[0m \u001B[43m    \u001B[49m\u001B[43mdistilled_params\u001B[49m\u001B[43m,\u001B[49m\n\u001B[1;32m   1577\u001B[0m \u001B[43m    \u001B[49m\u001B[43mexecution_options\u001B[49m\u001B[43m,\u001B[49m\n\u001B[1;32m   1578\u001B[0m \u001B[43m    \u001B[49m\u001B[43mcompiled_sql\u001B[49m\u001B[43m,\u001B[49m\n\u001B[1;32m   1579\u001B[0m \u001B[43m    \u001B[49m\u001B[43mdistilled_params\u001B[49m\u001B[43m,\u001B[49m\n\u001B[1;32m   1580\u001B[0m \u001B[43m    \u001B[49m\u001B[43melem\u001B[49m\u001B[43m,\u001B[49m\n\u001B[1;32m   1581\u001B[0m \u001B[43m    \u001B[49m\u001B[43mextracted_params\u001B[49m\u001B[43m,\u001B[49m\n\u001B[1;32m   1582\u001B[0m \u001B[43m    \u001B[49m\u001B[43mcache_hit\u001B[49m\u001B[38;5;241;43m=\u001B[39;49m\u001B[43mcache_hit\u001B[49m\u001B[43m,\u001B[49m\n\u001B[1;32m   1583\u001B[0m \u001B[43m\u001B[49m\u001B[43m)\u001B[49m\n\u001B[1;32m   1584\u001B[0m \u001B[38;5;28;01mif\u001B[39;00m has_events:\n\u001B[1;32m   1585\u001B[0m     \u001B[38;5;28mself\u001B[39m\u001B[38;5;241m.\u001B[39mdispatch\u001B[38;5;241m.\u001B[39mafter_execute(\n\u001B[1;32m   1586\u001B[0m         \u001B[38;5;28mself\u001B[39m,\n\u001B[1;32m   1587\u001B[0m         elem,\n\u001B[0;32m   (...)\u001B[0m\n\u001B[1;32m   1591\u001B[0m         ret,\n\u001B[1;32m   1592\u001B[0m     )\n",
      "File \u001B[0;32m~/.cache/pypoetry/virtualenvs/learning-python-GOAEXFF0-py3.8/lib/python3.8/site-packages/sqlalchemy/engine/base.py:1943\u001B[0m, in \u001B[0;36mConnection._execute_context\u001B[0;34m(self, dialect, constructor, statement, parameters, execution_options, *args, **kw)\u001B[0m\n\u001B[1;32m   1940\u001B[0m             branched\u001B[38;5;241m.\u001B[39mclose()\n\u001B[1;32m   1942\u001B[0m \u001B[38;5;28;01mexcept\u001B[39;00m \u001B[38;5;167;01mBaseException\u001B[39;00m \u001B[38;5;28;01mas\u001B[39;00m e:\n\u001B[0;32m-> 1943\u001B[0m     \u001B[38;5;28;43mself\u001B[39;49m\u001B[38;5;241;43m.\u001B[39;49m\u001B[43m_handle_dbapi_exception\u001B[49m\u001B[43m(\u001B[49m\n\u001B[1;32m   1944\u001B[0m \u001B[43m        \u001B[49m\u001B[43me\u001B[49m\u001B[43m,\u001B[49m\u001B[43m \u001B[49m\u001B[43mstatement\u001B[49m\u001B[43m,\u001B[49m\u001B[43m \u001B[49m\u001B[43mparameters\u001B[49m\u001B[43m,\u001B[49m\u001B[43m \u001B[49m\u001B[43mcursor\u001B[49m\u001B[43m,\u001B[49m\u001B[43m \u001B[49m\u001B[43mcontext\u001B[49m\n\u001B[1;32m   1945\u001B[0m \u001B[43m    \u001B[49m\u001B[43m)\u001B[49m\n\u001B[1;32m   1947\u001B[0m \u001B[38;5;28;01mreturn\u001B[39;00m result\n",
      "File \u001B[0;32m~/.cache/pypoetry/virtualenvs/learning-python-GOAEXFF0-py3.8/lib/python3.8/site-packages/sqlalchemy/engine/base.py:2124\u001B[0m, in \u001B[0;36mConnection._handle_dbapi_exception\u001B[0;34m(self, e, statement, parameters, cursor, context)\u001B[0m\n\u001B[1;32m   2122\u001B[0m     util\u001B[38;5;241m.\u001B[39mraise_(newraise, with_traceback\u001B[38;5;241m=\u001B[39mexc_info[\u001B[38;5;241m2\u001B[39m], from_\u001B[38;5;241m=\u001B[39me)\n\u001B[1;32m   2123\u001B[0m \u001B[38;5;28;01melif\u001B[39;00m should_wrap:\n\u001B[0;32m-> 2124\u001B[0m     \u001B[43mutil\u001B[49m\u001B[38;5;241;43m.\u001B[39;49m\u001B[43mraise_\u001B[49m\u001B[43m(\u001B[49m\n\u001B[1;32m   2125\u001B[0m \u001B[43m        \u001B[49m\u001B[43msqlalchemy_exception\u001B[49m\u001B[43m,\u001B[49m\u001B[43m \u001B[49m\u001B[43mwith_traceback\u001B[49m\u001B[38;5;241;43m=\u001B[39;49m\u001B[43mexc_info\u001B[49m\u001B[43m[\u001B[49m\u001B[38;5;241;43m2\u001B[39;49m\u001B[43m]\u001B[49m\u001B[43m,\u001B[49m\u001B[43m \u001B[49m\u001B[43mfrom_\u001B[49m\u001B[38;5;241;43m=\u001B[39;49m\u001B[43me\u001B[49m\n\u001B[1;32m   2126\u001B[0m \u001B[43m    \u001B[49m\u001B[43m)\u001B[49m\n\u001B[1;32m   2127\u001B[0m \u001B[38;5;28;01melse\u001B[39;00m:\n\u001B[1;32m   2128\u001B[0m     util\u001B[38;5;241m.\u001B[39mraise_(exc_info[\u001B[38;5;241m1\u001B[39m], with_traceback\u001B[38;5;241m=\u001B[39mexc_info[\u001B[38;5;241m2\u001B[39m])\n",
      "File \u001B[0;32m~/.cache/pypoetry/virtualenvs/learning-python-GOAEXFF0-py3.8/lib/python3.8/site-packages/sqlalchemy/util/compat.py:211\u001B[0m, in \u001B[0;36mraise_\u001B[0;34m(***failed resolving arguments***)\u001B[0m\n\u001B[1;32m    208\u001B[0m     exception\u001B[38;5;241m.\u001B[39m__cause__ \u001B[38;5;241m=\u001B[39m replace_context\n\u001B[1;32m    210\u001B[0m \u001B[38;5;28;01mtry\u001B[39;00m:\n\u001B[0;32m--> 211\u001B[0m     \u001B[38;5;28;01mraise\u001B[39;00m exception\n\u001B[1;32m    212\u001B[0m \u001B[38;5;28;01mfinally\u001B[39;00m:\n\u001B[1;32m    213\u001B[0m     \u001B[38;5;66;03m# credit to\u001B[39;00m\n\u001B[1;32m    214\u001B[0m     \u001B[38;5;66;03m# https://cosmicpercolator.com/2016/01/13/exception-leaks-in-python-2-and-3/\u001B[39;00m\n\u001B[1;32m    215\u001B[0m     \u001B[38;5;66;03m# as the __traceback__ object creates a cycle\u001B[39;00m\n\u001B[1;32m    216\u001B[0m     \u001B[38;5;28;01mdel\u001B[39;00m exception, replace_context, from_, with_traceback\n",
      "File \u001B[0;32m~/.cache/pypoetry/virtualenvs/learning-python-GOAEXFF0-py3.8/lib/python3.8/site-packages/sqlalchemy/engine/base.py:1880\u001B[0m, in \u001B[0;36mConnection._execute_context\u001B[0;34m(self, dialect, constructor, statement, parameters, execution_options, *args, **kw)\u001B[0m\n\u001B[1;32m   1878\u001B[0m                 \u001B[38;5;28;01mbreak\u001B[39;00m\n\u001B[1;32m   1879\u001B[0m     \u001B[38;5;28;01mif\u001B[39;00m \u001B[38;5;129;01mnot\u001B[39;00m evt_handled:\n\u001B[0;32m-> 1880\u001B[0m         \u001B[38;5;28;43mself\u001B[39;49m\u001B[38;5;241;43m.\u001B[39;49m\u001B[43mdialect\u001B[49m\u001B[38;5;241;43m.\u001B[39;49m\u001B[43mdo_executemany\u001B[49m\u001B[43m(\u001B[49m\n\u001B[1;32m   1881\u001B[0m \u001B[43m            \u001B[49m\u001B[43mcursor\u001B[49m\u001B[43m,\u001B[49m\u001B[43m \u001B[49m\u001B[43mstatement\u001B[49m\u001B[43m,\u001B[49m\u001B[43m \u001B[49m\u001B[43mparameters\u001B[49m\u001B[43m,\u001B[49m\u001B[43m \u001B[49m\u001B[43mcontext\u001B[49m\n\u001B[1;32m   1882\u001B[0m \u001B[43m        \u001B[49m\u001B[43m)\u001B[49m\n\u001B[1;32m   1883\u001B[0m \u001B[38;5;28;01melif\u001B[39;00m \u001B[38;5;129;01mnot\u001B[39;00m parameters \u001B[38;5;129;01mand\u001B[39;00m context\u001B[38;5;241m.\u001B[39mno_parameters:\n\u001B[1;32m   1884\u001B[0m     \u001B[38;5;28;01mif\u001B[39;00m \u001B[38;5;28mself\u001B[39m\u001B[38;5;241m.\u001B[39mdialect\u001B[38;5;241m.\u001B[39m_has_events:\n",
      "File \u001B[0;32m~/.cache/pypoetry/virtualenvs/learning-python-GOAEXFF0-py3.8/lib/python3.8/site-packages/sqlalchemy/engine/default.py:733\u001B[0m, in \u001B[0;36mDefaultDialect.do_executemany\u001B[0;34m(self, cursor, statement, parameters, context)\u001B[0m\n\u001B[1;32m    732\u001B[0m \u001B[38;5;28;01mdef\u001B[39;00m \u001B[38;5;21mdo_executemany\u001B[39m(\u001B[38;5;28mself\u001B[39m, cursor, statement, parameters, context\u001B[38;5;241m=\u001B[39m\u001B[38;5;28;01mNone\u001B[39;00m):\n\u001B[0;32m--> 733\u001B[0m     \u001B[43mcursor\u001B[49m\u001B[38;5;241;43m.\u001B[39;49m\u001B[43mexecutemany\u001B[49m\u001B[43m(\u001B[49m\u001B[43mstatement\u001B[49m\u001B[43m,\u001B[49m\u001B[43m \u001B[49m\u001B[43mparameters\u001B[49m\u001B[43m)\u001B[49m\n",
      "\u001B[0;31mIntegrityError\u001B[0m: (sqlite3.IntegrityError) NOT NULL constraint failed: task.project_id\n[SQL: UPDATE task SET project_id=? WHERE task.id = ?]\n[parameters: ((None, 1), (None, 2))]\n(Background on this error at: https://sqlalche.me/e/14/gkpj)"
     ]
    }
   ],
   "source": [
    "session.delete(project)\n",
    "session.commit()"
   ],
   "metadata": {
    "collapsed": false
   }
  },
  {
   "cell_type": "code",
   "execution_count": null,
   "outputs": [],
   "source": [],
   "metadata": {
    "collapsed": false
   }
  },
  {
   "cell_type": "markdown",
   "source": [
    "## 2. ORM cascades\n",
    "\n",
    "To avoid the above problem, we can use the orm cascade delete by using the option `cascade` in the relationship column of the project table.\n",
    "\n",
    "Below is the new version of the Project table mapping class\n",
    "\n",
    "```python\n",
    "class Project(Base):\n",
    "    __tablename__ = \"project\"\n",
    "    id = Column(Integer, primary_key=True)\n",
    "    tasks = relationship(\n",
    "        \"Task\", back_populates=\"project\", cascade=\"delete, merge, save-update\"\n",
    "    )\n",
    "```\n",
    "\n",
    "**Now restart your jupyter kernel and run below code**. This time, you should see when you delete a project, all tasks of this project will be deleted"
   ],
   "metadata": {
    "collapsed": false
   }
  },
  {
   "cell_type": "code",
   "execution_count": 1,
   "outputs": [],
   "source": [
    "from sqlalchemy import create_engine, Column, Integer, ForeignKey\n",
    "from sqlalchemy.ext.declarative import declarative_base\n",
    "from sqlalchemy.orm import relationship\n",
    "from sqlalchemy.orm.session import sessionmaker\n",
    "\n",
    "base_path=\"../../../data/cascade_delete.db\"\n",
    "db_url=f\"sqlite:///{base_path}\"\n",
    "# echo(default is false) when set to True will generate the activity log\n",
    "# Below command will create the sqlite db, if not existed\n",
    "# create_engine() will return an engine object.\n",
    "# The Engine establishes a real DBAPI connection to the database when\n",
    "# a method like Engine.execute() or Engine.connect() is called.\n",
    "engine = create_engine(db_url, echo = True)"
   ],
   "metadata": {
    "collapsed": false
   }
  },
  {
   "cell_type": "code",
   "execution_count": 2,
   "outputs": [],
   "source": [
    "Base = declarative_base()"
   ],
   "metadata": {
    "collapsed": false
   }
  },
  {
   "cell_type": "code",
   "execution_count": 3,
   "outputs": [],
   "source": [
    "def createTables(engine):\n",
    "    # create table with the metadata stored in model.Base\n",
    "    Base.metadata.create_all(engine)\n",
    "\n",
    "\n",
    "def dropAllTables(engine):\n",
    "    Base.metadata.drop_all(engine)"
   ],
   "metadata": {
    "collapsed": false
   }
  },
  {
   "cell_type": "code",
   "execution_count": 4,
   "outputs": [],
   "source": [
    "class Project(Base):\n",
    "    __tablename__ = \"project\"\n",
    "    id = Column(Integer, primary_key=True)\n",
    "    tasks = relationship(\"Task\", back_populates=\"project\",cascade=\"delete, merge, save-update\")\n",
    "\n",
    "\n",
    "class Task(Base):\n",
    "    __tablename__ = \"task\"\n",
    "    id = Column(Integer, primary_key=True)\n",
    "    # the nullable=False means, all task must have a project id.\n",
    "    project_id = Column(Integer, ForeignKey(\"project.id\"), nullable=False)\n",
    "    project = relationship(\"Project\", back_populates=\"tasks\")"
   ],
   "metadata": {
    "collapsed": false
   }
  },
  {
   "cell_type": "code",
   "execution_count": 5,
   "outputs": [
    {
     "name": "stdout",
     "output_type": "stream",
     "text": [
      "2023-03-16 16:04:05,144 INFO sqlalchemy.engine.Engine BEGIN (implicit)\n",
      "2023-03-16 16:04:05,145 INFO sqlalchemy.engine.Engine PRAGMA main.table_info(\"project\")\n",
      "2023-03-16 16:04:05,156 INFO sqlalchemy.engine.Engine [raw sql] ()\n",
      "2023-03-16 16:04:05,157 INFO sqlalchemy.engine.Engine PRAGMA main.table_info(\"task\")\n",
      "2023-03-16 16:04:05,158 INFO sqlalchemy.engine.Engine [raw sql] ()\n",
      "2023-03-16 16:04:05,166 INFO sqlalchemy.engine.Engine \n",
      "DROP TABLE task\n",
      "2023-03-16 16:04:05,168 INFO sqlalchemy.engine.Engine [no key 0.00283s] ()\n",
      "2023-03-16 16:04:05,171 INFO sqlalchemy.engine.Engine \n",
      "DROP TABLE project\n",
      "2023-03-16 16:04:05,172 INFO sqlalchemy.engine.Engine [no key 0.00111s] ()\n",
      "2023-03-16 16:04:05,181 INFO sqlalchemy.engine.Engine COMMIT\n",
      "2023-03-16 16:04:05,183 INFO sqlalchemy.engine.Engine BEGIN (implicit)\n",
      "2023-03-16 16:04:05,183 INFO sqlalchemy.engine.Engine PRAGMA main.table_info(\"project\")\n",
      "2023-03-16 16:04:05,184 INFO sqlalchemy.engine.Engine [raw sql] ()\n",
      "2023-03-16 16:04:05,185 INFO sqlalchemy.engine.Engine PRAGMA temp.table_info(\"project\")\n",
      "2023-03-16 16:04:05,186 INFO sqlalchemy.engine.Engine [raw sql] ()\n",
      "2023-03-16 16:04:05,186 INFO sqlalchemy.engine.Engine PRAGMA main.table_info(\"task\")\n",
      "2023-03-16 16:04:05,187 INFO sqlalchemy.engine.Engine [raw sql] ()\n",
      "2023-03-16 16:04:05,187 INFO sqlalchemy.engine.Engine PRAGMA temp.table_info(\"task\")\n",
      "2023-03-16 16:04:05,187 INFO sqlalchemy.engine.Engine [raw sql] ()\n",
      "2023-03-16 16:04:05,189 INFO sqlalchemy.engine.Engine \n",
      "CREATE TABLE project (\n",
      "\tid INTEGER NOT NULL, \n",
      "\tPRIMARY KEY (id)\n",
      ")\n",
      "\n",
      "\n",
      "2023-03-16 16:04:05,190 INFO sqlalchemy.engine.Engine [no key 0.00152s] ()\n",
      "2023-03-16 16:04:05,194 INFO sqlalchemy.engine.Engine \n",
      "CREATE TABLE task (\n",
      "\tid INTEGER NOT NULL, \n",
      "\tproject_id INTEGER NOT NULL, \n",
      "\tPRIMARY KEY (id), \n",
      "\tFOREIGN KEY(project_id) REFERENCES project (id)\n",
      ")\n",
      "\n",
      "\n",
      "2023-03-16 16:04:05,195 INFO sqlalchemy.engine.Engine [no key 0.00054s] ()\n",
      "2023-03-16 16:04:05,202 INFO sqlalchemy.engine.Engine COMMIT\n"
     ]
    }
   ],
   "source": [
    "dropAllTables(engine)\n",
    "createTables(engine)"
   ],
   "metadata": {
    "collapsed": false
   }
  },
  {
   "cell_type": "code",
   "execution_count": 6,
   "outputs": [
    {
     "name": "stdout",
     "output_type": "stream",
     "text": [
      "2023-03-16 16:04:08,003 INFO sqlalchemy.engine.Engine BEGIN (implicit)\n",
      "2023-03-16 16:04:08,007 INFO sqlalchemy.engine.Engine INSERT INTO project (id) VALUES (?)\n",
      "2023-03-16 16:04:08,007 INFO sqlalchemy.engine.Engine [generated in 0.00081s] (0,)\n",
      "2023-03-16 16:04:08,014 INFO sqlalchemy.engine.Engine INSERT INTO task (id, project_id) VALUES (?, ?)\n",
      "2023-03-16 16:04:08,015 INFO sqlalchemy.engine.Engine [generated in 0.00060s] ((1, 0), (2, 0))\n",
      "2023-03-16 16:04:08,017 INFO sqlalchemy.engine.Engine COMMIT\n"
     ]
    }
   ],
   "source": [
    "Session = sessionmaker(bind=engine)\n",
    "session = Session()\n",
    "\n",
    "task1 = Task(id=1,project_id=0)\n",
    "task2 = Task(id=2,project_id=0)\n",
    "\n",
    "project = Project(id=0)\n",
    "\n",
    "session.add(project)\n",
    "session.add(task1)\n",
    "session.add(task2)\n",
    "session.commit()"
   ],
   "metadata": {
    "collapsed": false
   }
  },
  {
   "cell_type": "code",
   "execution_count": 7,
   "outputs": [
    {
     "name": "stdout",
     "output_type": "stream",
     "text": [
      "2023-03-16 16:04:21,150 INFO sqlalchemy.engine.Engine BEGIN (implicit)\n",
      "2023-03-16 16:04:21,154 INFO sqlalchemy.engine.Engine SELECT project.id AS project_id \n",
      "FROM project \n",
      "WHERE project.id = ?\n",
      "2023-03-16 16:04:21,155 INFO sqlalchemy.engine.Engine [generated in 0.00092s] (0,)\n",
      "2023-03-16 16:04:21,157 INFO sqlalchemy.engine.Engine SELECT task.id AS task_id, task.project_id AS task_project_id \n",
      "FROM task \n",
      "WHERE ? = task.project_id\n",
      "2023-03-16 16:04:21,158 INFO sqlalchemy.engine.Engine [generated in 0.00058s] (0,)\n",
      "2023-03-16 16:04:21,161 INFO sqlalchemy.engine.Engine DELETE FROM task WHERE task.id = ?\n",
      "2023-03-16 16:04:21,168 INFO sqlalchemy.engine.Engine [generated in 0.00716s] ((1,), (2,))\n",
      "2023-03-16 16:04:21,170 INFO sqlalchemy.engine.Engine DELETE FROM project WHERE project.id = ?\n",
      "2023-03-16 16:04:21,170 INFO sqlalchemy.engine.Engine [generated in 0.00073s] (0,)\n",
      "2023-03-16 16:04:21,171 INFO sqlalchemy.engine.Engine COMMIT\n"
     ]
    }
   ],
   "source": [
    "session.delete(project)\n",
    "session.commit()"
   ],
   "metadata": {
    "collapsed": false
   }
  },
  {
   "cell_type": "markdown",
   "source": [
    "### 2.1 Other cascade actions\n",
    "\n",
    "You probably noticed that in the above example, the cascade parameter is set to **delete, merge, save-update** rather than just **delete**. This is because the ORM has other cascade behaviors aside from **delete**, and **merge, save-update are the ones that are on by default**. If you set `cascade=\"delete\", you're turning off other cascade default behavior of the ORM`.\n",
    "\n",
    "Using `save-update` as an example, you may know that with SQLAlchemy you don't normally have to explicitly call `session.add()` on every single object to add it to the database. If you had to do that, it would look like this:\n",
    "\n",
    "```python\n",
    "task1 = Task()\n",
    "session.add(task1)\n",
    "task2 = Task()\n",
    "session.add(task2)\n",
    "project = Project(tasks=[task1, task2])\n",
    "session.add(project)\n",
    "session.commit()\n",
    "```\n",
    "\n",
    "Since there is a relationship from a project to its tasks, we can do the simpler:\n",
    "\n",
    "```python\n",
    "project = Project(tasks=[Task(), Task()])\n",
    "session.add(project)\n",
    "session.commit()\n",
    "```\n",
    "\n",
    "The official doc propose to use **cascade=\"all, delete-orphan\"** in general, when you want to do cascade deletes. You can modify replace the cascade option with `all, delete-orphan` in the above code. You will notice the behavior is the same.\n"
   ],
   "metadata": {
    "collapsed": false
   }
  },
  {
   "cell_type": "markdown",
   "source": [
    "### 2.2 A many-to-many example\n",
    "\n",
    "In the above example,  we have solved the cascade delete of a one-to-many relationship. It means when a parent row (i.e. a project) is deleted, all children of this parent row (i.e. all task of the project) will be deleted by cascading. Now let's try to solve the many-to-many relation.\n",
    "\n"
   ],
   "metadata": {
    "collapsed": false
   }
  },
  {
   "cell_type": "code",
   "execution_count": 1,
   "outputs": [],
   "source": [
    "from sqlalchemy import create_engine, Column, Integer, ForeignKey, String, Table\n",
    "from sqlalchemy.ext.declarative import declarative_base\n",
    "from sqlalchemy.orm import relationship\n",
    "from sqlalchemy.orm.session import sessionmaker\n",
    "\n",
    "base_path=\"../../../data/cascade_delete.db\"\n",
    "db_url=f\"sqlite:///{base_path}\"\n",
    "# echo(default is false) when set to True will generate the activity log\n",
    "# Below command will create the sqlite db, if not existed\n",
    "# create_engine() will return an engine object.\n",
    "# The Engine establishes a real DBAPI connection to the database when\n",
    "# a method like Engine.execute() or Engine.connect() is called.\n",
    "engine = create_engine(db_url, echo = True)"
   ],
   "metadata": {
    "collapsed": false
   }
  },
  {
   "cell_type": "code",
   "execution_count": 2,
   "outputs": [],
   "source": [
    "Base = declarative_base()"
   ],
   "metadata": {
    "collapsed": false
   }
  },
  {
   "cell_type": "code",
   "execution_count": 3,
   "outputs": [],
   "source": [
    "def createTables(engine):\n",
    "    # create table with the metadata stored in model.Base\n",
    "    Base.metadata.create_all(engine)\n",
    "\n",
    "\n",
    "def dropAllTables(engine):\n",
    "    Base.metadata.drop_all(engine)"
   ],
   "metadata": {
    "collapsed": false
   }
  },
  {
   "cell_type": "code",
   "execution_count": 4,
   "outputs": [],
   "source": [
    "# association table for many-to-many relation between project and category\n",
    "project_category = Table(\n",
    "    \"project_category\",\n",
    "    Base.metadata,\n",
    "    Column(\"project_id\", Integer, ForeignKey(\"project.id\", ondelete=\"CASCADE\")),\n",
    "    Column(\"category_id\", Integer, ForeignKey(\"category.id\", ondelete=\"CASCADE\")),\n",
    ")\n",
    "\n",
    "class Project(Base):\n",
    "    __tablename__ = \"project\"\n",
    "    id = Column(Integer, primary_key=True)\n",
    "    # indicate one-to-many relation with table task\n",
    "    tasks = relationship(\"Task\", back_populates=\"project\",cascade=\"delete, merge, save-update\")\n",
    "    # indicate many-to-many relation with table category via association table\n",
    "    categories = relationship(\n",
    "        \"Category\",\n",
    "        secondary= project_category,\n",
    "        back_populates= \"projects\",\n",
    "        # if we add the below option, when we delete a project,\n",
    "        # not only the row of the association table will be deleted,\n",
    "        # but also the row of the children table will be deleted too.\n",
    "        # In our case, when a project is deleted, all rows in the association table of\n",
    "        # the project will be deleted. Then all categories that associated with\n",
    "        # the project will be removed too. Normally we don't want that.\n",
    "        # cascade= \"all,delete\",\n",
    "    )\n",
    "\n",
    "\n",
    "class Category(Base):\n",
    "    __tablename__ = \"category\"\n",
    "    id = Column(Integer, primary_key=True)\n",
    "    # the nullable=False means, all task must have a project id.\n",
    "    name = Column(String, nullable=False)\n",
    "    # the first arg is the name of the orm class, not the table name in the db\n",
    "    #\n",
    "    projects = relationship(\n",
    "        \"Project\",\n",
    "        secondary= project_category,\n",
    "        back_populates= \"categories\",\n",
    "        passive_deletes=True,\n",
    "    )\n",
    "\n",
    "\n",
    "\n",
    "class Task(Base):\n",
    "    __tablename__ = \"task\"\n",
    "    id = Column(Integer, primary_key=True)\n",
    "    # the nullable=False means, all task must have a project id.\n",
    "    project_id = Column(Integer, ForeignKey(\"project.id\"), nullable=False)\n",
    "    project = relationship(\"Project\", back_populates=\"tasks\")"
   ],
   "metadata": {
    "collapsed": false
   }
  },
  {
   "cell_type": "code",
   "execution_count": 5,
   "outputs": [
    {
     "name": "stdout",
     "output_type": "stream",
     "text": [
      "2023-03-27 11:02:19,432 INFO sqlalchemy.engine.Engine BEGIN (implicit)\n",
      "2023-03-27 11:02:19,433 INFO sqlalchemy.engine.Engine PRAGMA main.table_info(\"project_category\")\n",
      "2023-03-27 11:02:19,434 INFO sqlalchemy.engine.Engine [raw sql] ()\n",
      "2023-03-27 11:02:19,437 INFO sqlalchemy.engine.Engine PRAGMA main.table_info(\"project\")\n",
      "2023-03-27 11:02:19,438 INFO sqlalchemy.engine.Engine [raw sql] ()\n",
      "2023-03-27 11:02:19,440 INFO sqlalchemy.engine.Engine PRAGMA main.table_info(\"category\")\n",
      "2023-03-27 11:02:19,440 INFO sqlalchemy.engine.Engine [raw sql] ()\n",
      "2023-03-27 11:02:19,441 INFO sqlalchemy.engine.Engine PRAGMA main.table_info(\"task\")\n",
      "2023-03-27 11:02:19,443 INFO sqlalchemy.engine.Engine [raw sql] ()\n",
      "2023-03-27 11:02:19,444 INFO sqlalchemy.engine.Engine \n",
      "DROP TABLE task\n",
      "2023-03-27 11:02:19,445 INFO sqlalchemy.engine.Engine [no key 0.00141s] ()\n",
      "2023-03-27 11:02:19,462 INFO sqlalchemy.engine.Engine \n",
      "DROP TABLE project_category\n",
      "2023-03-27 11:02:19,463 INFO sqlalchemy.engine.Engine [no key 0.00067s] ()\n",
      "2023-03-27 11:02:19,474 INFO sqlalchemy.engine.Engine \n",
      "DROP TABLE category\n",
      "2023-03-27 11:02:19,485 INFO sqlalchemy.engine.Engine [no key 0.01090s] ()\n",
      "2023-03-27 11:02:19,490 INFO sqlalchemy.engine.Engine \n",
      "DROP TABLE project\n",
      "2023-03-27 11:02:19,491 INFO sqlalchemy.engine.Engine [no key 0.00088s] ()\n",
      "2023-03-27 11:02:19,499 INFO sqlalchemy.engine.Engine COMMIT\n",
      "2023-03-27 11:02:19,500 INFO sqlalchemy.engine.Engine BEGIN (implicit)\n",
      "2023-03-27 11:02:19,501 INFO sqlalchemy.engine.Engine PRAGMA main.table_info(\"project_category\")\n",
      "2023-03-27 11:02:19,501 INFO sqlalchemy.engine.Engine [raw sql] ()\n",
      "2023-03-27 11:02:19,503 INFO sqlalchemy.engine.Engine PRAGMA temp.table_info(\"project_category\")\n",
      "2023-03-27 11:02:19,503 INFO sqlalchemy.engine.Engine [raw sql] ()\n",
      "2023-03-27 11:02:19,504 INFO sqlalchemy.engine.Engine PRAGMA main.table_info(\"project\")\n",
      "2023-03-27 11:02:19,504 INFO sqlalchemy.engine.Engine [raw sql] ()\n",
      "2023-03-27 11:02:19,505 INFO sqlalchemy.engine.Engine PRAGMA temp.table_info(\"project\")\n",
      "2023-03-27 11:02:19,505 INFO sqlalchemy.engine.Engine [raw sql] ()\n",
      "2023-03-27 11:02:19,506 INFO sqlalchemy.engine.Engine PRAGMA main.table_info(\"category\")\n",
      "2023-03-27 11:02:19,506 INFO sqlalchemy.engine.Engine [raw sql] ()\n",
      "2023-03-27 11:02:19,507 INFO sqlalchemy.engine.Engine PRAGMA temp.table_info(\"category\")\n",
      "2023-03-27 11:02:19,507 INFO sqlalchemy.engine.Engine [raw sql] ()\n",
      "2023-03-27 11:02:19,508 INFO sqlalchemy.engine.Engine PRAGMA main.table_info(\"task\")\n",
      "2023-03-27 11:02:19,508 INFO sqlalchemy.engine.Engine [raw sql] ()\n",
      "2023-03-27 11:02:19,509 INFO sqlalchemy.engine.Engine PRAGMA temp.table_info(\"task\")\n",
      "2023-03-27 11:02:19,512 INFO sqlalchemy.engine.Engine [raw sql] ()\n",
      "2023-03-27 11:02:19,513 INFO sqlalchemy.engine.Engine \n",
      "CREATE TABLE project (\n",
      "\tid INTEGER NOT NULL, \n",
      "\tPRIMARY KEY (id)\n",
      ")\n",
      "\n",
      "\n",
      "2023-03-27 11:02:19,514 INFO sqlalchemy.engine.Engine [no key 0.00115s] ()\n",
      "2023-03-27 11:02:19,522 INFO sqlalchemy.engine.Engine \n",
      "CREATE TABLE category (\n",
      "\tid INTEGER NOT NULL, \n",
      "\tname VARCHAR NOT NULL, \n",
      "\tPRIMARY KEY (id)\n",
      ")\n",
      "\n",
      "\n",
      "2023-03-27 11:02:19,525 INFO sqlalchemy.engine.Engine [no key 0.00333s] ()\n",
      "2023-03-27 11:02:19,529 INFO sqlalchemy.engine.Engine \n",
      "CREATE TABLE project_category (\n",
      "\tproject_id INTEGER, \n",
      "\tcategory_id INTEGER, \n",
      "\tFOREIGN KEY(project_id) REFERENCES project (id) ON DELETE CASCADE, \n",
      "\tFOREIGN KEY(category_id) REFERENCES category (id) ON DELETE CASCADE\n",
      ")\n",
      "\n",
      "\n",
      "2023-03-27 11:02:19,530 INFO sqlalchemy.engine.Engine [no key 0.00064s] ()\n",
      "2023-03-27 11:02:19,533 INFO sqlalchemy.engine.Engine \n",
      "CREATE TABLE task (\n",
      "\tid INTEGER NOT NULL, \n",
      "\tproject_id INTEGER NOT NULL, \n",
      "\tPRIMARY KEY (id), \n",
      "\tFOREIGN KEY(project_id) REFERENCES project (id)\n",
      ")\n",
      "\n",
      "\n",
      "2023-03-27 11:02:19,534 INFO sqlalchemy.engine.Engine [no key 0.00052s] ()\n",
      "2023-03-27 11:02:19,537 INFO sqlalchemy.engine.Engine COMMIT\n"
     ]
    }
   ],
   "source": [
    "# clean db and create tables\n",
    "dropAllTables(engine)\n",
    "createTables(engine)"
   ],
   "metadata": {
    "collapsed": false
   }
  },
  {
   "cell_type": "code",
   "execution_count": 6,
   "outputs": [
    {
     "name": "stdout",
     "output_type": "stream",
     "text": [
      "2023-03-27 11:02:21,962 INFO sqlalchemy.engine.Engine BEGIN (implicit)\n",
      "2023-03-27 11:02:21,965 INFO sqlalchemy.engine.Engine INSERT INTO category (id, name) VALUES (?, ?)\n",
      "2023-03-27 11:02:21,965 INFO sqlalchemy.engine.Engine [generated in 0.00083s] ((1, 'science'), (2, 'history'), (3, 'politics'))\n",
      "2023-03-27 11:02:21,967 INFO sqlalchemy.engine.Engine INSERT INTO project (id) VALUES (?)\n",
      "2023-03-27 11:02:21,968 INFO sqlalchemy.engine.Engine [generated in 0.00071s] ((1,), (2,))\n",
      "2023-03-27 11:02:21,969 INFO sqlalchemy.engine.Engine INSERT INTO task (id, project_id) VALUES (?, ?)\n",
      "2023-03-27 11:02:21,970 INFO sqlalchemy.engine.Engine [generated in 0.00071s] ((1, 1), (2, 1))\n",
      "2023-03-27 11:02:21,971 INFO sqlalchemy.engine.Engine COMMIT\n"
     ]
    }
   ],
   "source": [
    "# create some categories and project\n",
    "Session = sessionmaker(bind=engine)\n",
    "session = Session()\n",
    "\n",
    "task1 = Task(id=1,project_id=1)\n",
    "task2 = Task(id=2,project_id=1)\n",
    "\n",
    "project1 = Project(id=1)\n",
    "project2 = Project(id=2)\n",
    "\n",
    "category1 = Category(id=1,name=\"science\")\n",
    "category2 = Category(id=2,name=\"history\")\n",
    "category3 = Category(id=3,name=\"politics\")\n",
    "\n",
    "session.add(project1)\n",
    "session.add(project2)\n",
    "session.add(task1)\n",
    "session.add(task2)\n",
    "session.add(category1)\n",
    "session.add(category2)\n",
    "session.add(category3)\n",
    "session.commit()"
   ],
   "metadata": {
    "collapsed": false
   }
  },
  {
   "cell_type": "markdown",
   "source": [
    "#### 2.2.1 Insert rows to association table\n",
    "You can check your db now, all the project, task and category should be created correctly. Now let's create some project_category relation.\n",
    "\n",
    "The most simple way is to use the `session.execute()` to insert rows directly without using the ORM classes. Check below code example"
   ],
   "metadata": {
    "collapsed": false
   }
  },
  {
   "cell_type": "code",
   "execution_count": 7,
   "outputs": [
    {
     "name": "stdout",
     "output_type": "stream",
     "text": [
      "2023-03-27 11:02:24,591 INFO sqlalchemy.engine.Engine BEGIN (implicit)\n",
      "2023-03-27 11:02:24,592 INFO sqlalchemy.engine.Engine INSERT INTO project_category (project_id, category_id) VALUES (?, ?)\n",
      "2023-03-27 11:02:24,600 INFO sqlalchemy.engine.Engine [generated in 0.00748s] (1, 1)\n",
      "2023-03-27 11:02:24,601 INFO sqlalchemy.engine.Engine INSERT INTO project_category (project_id, category_id) VALUES (?, ?)\n",
      "2023-03-27 11:02:24,602 INFO sqlalchemy.engine.Engine [cached since 0.009947s ago] (1, 2)\n",
      "2023-03-27 11:02:24,603 INFO sqlalchemy.engine.Engine INSERT INTO project_category (project_id, category_id) VALUES (?, ?)\n",
      "2023-03-27 11:02:24,603 INFO sqlalchemy.engine.Engine [cached since 0.01117s ago] (1, 3)\n",
      "2023-03-27 11:02:24,604 INFO sqlalchemy.engine.Engine COMMIT\n"
     ]
    }
   ],
   "source": [
    "session.execute(project_category.insert(),params={\"project_id\":1,\"category_id\":1})\n",
    "session.execute(project_category.insert(),params={\"project_id\":1,\"category_id\":2})\n",
    "session.execute(project_category.insert(),params={\"project_id\":1,\"category_id\":3})\n",
    "session.commit()"
   ],
   "metadata": {
    "collapsed": false
   }
  },
  {
   "cell_type": "markdown",
   "source": [
    "The second solution is to use the `Orm class .append()`. The sqlalchemy will do the insert for us.\n"
   ],
   "metadata": {
    "collapsed": false
   }
  },
  {
   "cell_type": "code",
   "execution_count": 8,
   "outputs": [
    {
     "name": "stdout",
     "output_type": "stream",
     "text": [
      "2023-03-27 11:02:26,318 INFO sqlalchemy.engine.Engine BEGIN (implicit)\n",
      "2023-03-27 11:02:26,322 INFO sqlalchemy.engine.Engine SELECT project.id AS project_id \n",
      "FROM project \n",
      "WHERE project.id = ?\n",
      "2023-03-27 11:02:26,323 INFO sqlalchemy.engine.Engine [generated in 0.00105s] (2,)\n",
      "2023-03-27 11:02:26,325 INFO sqlalchemy.engine.Engine SELECT category.id AS category_id, category.name AS category_name \n",
      "FROM category, project_category \n",
      "WHERE ? = project_category.project_id AND category.id = project_category.category_id\n",
      "2023-03-27 11:02:26,326 INFO sqlalchemy.engine.Engine [generated in 0.00084s] (2,)\n",
      "2023-03-27 11:02:26,328 INFO sqlalchemy.engine.Engine SELECT category.id AS category_id, category.name AS category_name \n",
      "FROM category \n",
      "WHERE category.id = ?\n",
      "2023-03-27 11:02:26,328 INFO sqlalchemy.engine.Engine [generated in 0.00065s] (1,)\n",
      "2023-03-27 11:02:26,332 INFO sqlalchemy.engine.Engine SELECT category.id AS category_id, category.name AS category_name \n",
      "FROM category \n",
      "WHERE category.id = ?\n",
      "2023-03-27 11:02:26,338 INFO sqlalchemy.engine.Engine [cached since 0.01005s ago] (3,)\n",
      "2023-03-27 11:02:26,343 INFO sqlalchemy.engine.Engine INSERT INTO project_category (project_id, category_id) VALUES (?, ?)\n",
      "2023-03-27 11:02:26,343 INFO sqlalchemy.engine.Engine [generated in 0.00070s] ((2, 1), (2, 3))\n",
      "2023-03-27 11:02:26,345 INFO sqlalchemy.engine.Engine COMMIT\n"
     ]
    }
   ],
   "source": [
    "project2.categories.append(category1)\n",
    "project2.categories.append(category3)\n",
    "session.commit()"
   ],
   "metadata": {
    "collapsed": false
   }
  },
  {
   "cell_type": "markdown",
   "source": [
    "#### Deleting rows via cascade\n",
    "\n",
    "Now let's delete a project, and check which row in the project_category table will be removed."
   ],
   "metadata": {
    "collapsed": false
   }
  },
  {
   "cell_type": "code",
   "execution_count": 9,
   "outputs": [
    {
     "name": "stdout",
     "output_type": "stream",
     "text": [
      "2023-03-27 11:02:37,677 INFO sqlalchemy.engine.Engine BEGIN (implicit)\n",
      "2023-03-27 11:02:37,678 INFO sqlalchemy.engine.Engine SELECT project.id AS project_id \n",
      "FROM project \n",
      "WHERE project.id = ?\n",
      "2023-03-27 11:02:37,678 INFO sqlalchemy.engine.Engine [cached since 11.36s ago] (1,)\n",
      "2023-03-27 11:02:37,688 INFO sqlalchemy.engine.Engine SELECT task.id AS task_id, task.project_id AS task_project_id \n",
      "FROM task \n",
      "WHERE ? = task.project_id\n",
      "2023-03-27 11:02:37,689 INFO sqlalchemy.engine.Engine [generated in 0.00138s] (1,)\n",
      "2023-03-27 11:02:37,691 INFO sqlalchemy.engine.Engine SELECT category.id AS category_id, category.name AS category_name \n",
      "FROM category, project_category \n",
      "WHERE ? = project_category.project_id AND category.id = project_category.category_id\n",
      "2023-03-27 11:02:37,692 INFO sqlalchemy.engine.Engine [cached since 11.37s ago] (1,)\n",
      "2023-03-27 11:02:37,696 INFO sqlalchemy.engine.Engine DELETE FROM project_category WHERE project_category.project_id = ? AND project_category.category_id = ?\n",
      "2023-03-27 11:02:37,697 INFO sqlalchemy.engine.Engine [generated in 0.00118s] ((1, 1), (1, 2), (1, 3))\n",
      "2023-03-27 11:02:37,698 INFO sqlalchemy.engine.Engine DELETE FROM task WHERE task.id = ?\n",
      "2023-03-27 11:02:37,699 INFO sqlalchemy.engine.Engine [generated in 0.00060s] ((1,), (2,))\n",
      "2023-03-27 11:02:37,699 INFO sqlalchemy.engine.Engine DELETE FROM project WHERE project.id = ?\n",
      "2023-03-27 11:02:37,700 INFO sqlalchemy.engine.Engine [generated in 0.00074s] (1,)\n",
      "2023-03-27 11:02:37,701 INFO sqlalchemy.engine.Engine COMMIT\n"
     ]
    }
   ],
   "source": [
    "session.delete(project1)\n",
    "session.commit()"
   ],
   "metadata": {
    "collapsed": false
   }
  },
  {
   "cell_type": "markdown",
   "source": [
    "Now you can notice that all rows of project1 in the association table project_category has been deleted by the cascading."
   ],
   "metadata": {
    "collapsed": false
   }
  },
  {
   "cell_type": "markdown",
   "source": [
    "## 2.3 Association Object\n",
    "\n",
    "In the above example, the association table is not defined as an object. This makes our model not fully ORM. Now lets try to use the association object to express the many-to-many relation\n",
    "\n",
    "You can find the official doc here. https://docs.sqlalchemy.org/en/20/orm/basic_relationships.html"
   ],
   "metadata": {
    "collapsed": false,
    "pycharm": {
     "name": "#%% md\n"
    }
   }
  },
  {
   "cell_type": "code",
   "execution_count": 1,
   "outputs": [],
   "source": [
    "from sqlalchemy import create_engine, Column, Integer, ForeignKey, String, Table\n",
    "from sqlalchemy.ext.declarative import declarative_base\n",
    "from sqlalchemy.orm import relationship\n",
    "from sqlalchemy.orm.session import sessionmaker\n",
    "\n",
    "base_path=\"../../../data/cascade_delete.db\"\n",
    "db_url=f\"sqlite:///{base_path}\"\n",
    "# echo(default is false) when set to True will generate the activity log\n",
    "# Below command will create the sqlite db, if not existed\n",
    "# create_engine() will return an engine object.\n",
    "# The Engine establishes a real DBAPI connection to the database when\n",
    "# a method like Engine.execute() or Engine.connect() is called.\n",
    "engine = create_engine(db_url, echo = True)"
   ],
   "metadata": {
    "collapsed": false,
    "pycharm": {
     "name": "#%%\n"
    }
   }
  },
  {
   "cell_type": "code",
   "execution_count": 2,
   "outputs": [
    {
     "name": "stderr",
     "output_type": "stream",
     "text": [
      "/tmp/ipykernel_5217/1438155385.py:1: MovedIn20Warning: The ``declarative_base()`` function is now available as sqlalchemy.orm.declarative_base(). (deprecated since: 2.0) (Background on SQLAlchemy 2.0 at: https://sqlalche.me/e/b8d9)\n",
      "  Base=declarative_base()\n"
     ]
    }
   ],
   "source": [
    "Base=declarative_base()"
   ],
   "metadata": {
    "collapsed": false,
    "pycharm": {
     "name": "#%%\n"
    }
   }
  },
  {
   "cell_type": "code",
   "execution_count": 3,
   "outputs": [],
   "source": [
    "def createTables(engine):\n",
    "    # create table with the metadata stored in model.Base\n",
    "    Base.metadata.create_all(engine)\n",
    "\n",
    "\n",
    "def dropAllTables(engine):\n",
    "    Base.metadata.drop_all(engine)"
   ],
   "metadata": {
    "collapsed": false,
    "pycharm": {
     "name": "#%%\n"
    }
   }
  },
  {
   "cell_type": "code",
   "execution_count": 4,
   "outputs": [],
   "source": [
    "from typing import List\n",
    "from sqlalchemy.orm import Mapped, mapped_column\n",
    "\n",
    "\n",
    "# association table for many-to-many relation between project and category\n",
    "class ProjectCategory(Base):\n",
    "    __tablename__ = \"project_category\"\n",
    "    project_id: Mapped[int] = mapped_column(\n",
    "        ForeignKey(\"project.id\",ondelete=\"CASCADE\"),\n",
    "        primary_key=True\n",
    "    )\n",
    "    category_id: Mapped[int] = mapped_column(\n",
    "        ForeignKey(\"category.id\",ondelete=\"CASCADE\"),\n",
    "        primary_key=True\n",
    "    )\n",
    "    category: Mapped[\"Category\"] = relationship(back_populates=\"projects\")\n",
    "    project: Mapped[\"Project\"] = relationship(back_populates=\"categories\")\n",
    "\n",
    "class Project(Base):\n",
    "    __tablename__ = \"project\"\n",
    "    id : Mapped[int] = mapped_column(primary_key=True)\n",
    "    # indicate one-to-many relation with table task\n",
    "    tasks = relationship(\"Task\", back_populates=\"project\",cascade=\"delete, merge, save-update\")\n",
    "    # indicate many-to-many relation with table category via association table\n",
    "    categories: Mapped[List[\"ProjectCategory\"]] = relationship(back_populates=\"project\",cascade=\"delete, merge, save-update\")\n",
    "\n",
    "\n",
    "class Category(Base):\n",
    "    __tablename__ = \"category\"\n",
    "    id: Mapped[int] = mapped_column(primary_key=True)\n",
    "    # the nullable=False means, all task must have a project id.\n",
    "    name = Column(String, nullable=False)\n",
    "    # the first arg is the name of the orm class, not the table name in the db\n",
    "    #\n",
    "    projects: Mapped[List[\"ProjectCategory\"]] = relationship(back_populates=\"category\",cascade=\"delete, merge, save-update\")\n",
    "\n",
    "\n",
    "class Task(Base):\n",
    "    __tablename__ = \"task\"\n",
    "    id = Column(Integer, primary_key=True)\n",
    "    # the nullable=False means, all task must have a project id.\n",
    "    project_id = Column(Integer, ForeignKey(\"project.id\"), nullable=False)\n",
    "    project = relationship(\"Project\", back_populates=\"tasks\")"
   ],
   "metadata": {
    "collapsed": false,
    "pycharm": {
     "name": "#%%\n"
    }
   }
  },
  {
   "cell_type": "code",
   "execution_count": 5,
   "outputs": [
    {
     "name": "stdout",
     "output_type": "stream",
     "text": [
      "2023-03-28 16:36:53,311 INFO sqlalchemy.engine.Engine BEGIN (implicit)\n",
      "2023-03-28 16:36:53,312 INFO sqlalchemy.engine.Engine PRAGMA main.table_info(\"project_category\")\n",
      "2023-03-28 16:36:53,312 INFO sqlalchemy.engine.Engine [raw sql] ()\n",
      "2023-03-28 16:36:53,313 INFO sqlalchemy.engine.Engine PRAGMA main.table_info(\"project\")\n",
      "2023-03-28 16:36:53,314 INFO sqlalchemy.engine.Engine [raw sql] ()\n",
      "2023-03-28 16:36:53,315 INFO sqlalchemy.engine.Engine PRAGMA main.table_info(\"category\")\n",
      "2023-03-28 16:36:53,315 INFO sqlalchemy.engine.Engine [raw sql] ()\n",
      "2023-03-28 16:36:53,316 INFO sqlalchemy.engine.Engine PRAGMA main.table_info(\"task\")\n",
      "2023-03-28 16:36:53,318 INFO sqlalchemy.engine.Engine [raw sql] ()\n",
      "2023-03-28 16:36:53,320 INFO sqlalchemy.engine.Engine \n",
      "DROP TABLE task\n",
      "2023-03-28 16:36:53,320 INFO sqlalchemy.engine.Engine [no key 0.00055s] ()\n",
      "2023-03-28 16:36:53,322 INFO sqlalchemy.engine.Engine \n",
      "DROP TABLE project_category\n",
      "2023-03-28 16:36:53,323 INFO sqlalchemy.engine.Engine [no key 0.00060s] ()\n",
      "2023-03-28 16:36:53,325 INFO sqlalchemy.engine.Engine \n",
      "DROP TABLE category\n",
      "2023-03-28 16:36:53,326 INFO sqlalchemy.engine.Engine [no key 0.00053s] ()\n",
      "2023-03-28 16:36:53,328 INFO sqlalchemy.engine.Engine \n",
      "DROP TABLE project\n",
      "2023-03-28 16:36:53,329 INFO sqlalchemy.engine.Engine [no key 0.00056s] ()\n",
      "2023-03-28 16:36:53,332 INFO sqlalchemy.engine.Engine COMMIT\n",
      "2023-03-28 16:36:53,333 INFO sqlalchemy.engine.Engine BEGIN (implicit)\n",
      "2023-03-28 16:36:53,333 INFO sqlalchemy.engine.Engine PRAGMA main.table_info(\"project_category\")\n",
      "2023-03-28 16:36:53,334 INFO sqlalchemy.engine.Engine [raw sql] ()\n",
      "2023-03-28 16:36:53,334 INFO sqlalchemy.engine.Engine PRAGMA temp.table_info(\"project_category\")\n",
      "2023-03-28 16:36:53,335 INFO sqlalchemy.engine.Engine [raw sql] ()\n",
      "2023-03-28 16:36:53,336 INFO sqlalchemy.engine.Engine PRAGMA main.table_info(\"project\")\n",
      "2023-03-28 16:36:53,336 INFO sqlalchemy.engine.Engine [raw sql] ()\n",
      "2023-03-28 16:36:53,337 INFO sqlalchemy.engine.Engine PRAGMA temp.table_info(\"project\")\n",
      "2023-03-28 16:36:53,337 INFO sqlalchemy.engine.Engine [raw sql] ()\n",
      "2023-03-28 16:36:53,338 INFO sqlalchemy.engine.Engine PRAGMA main.table_info(\"category\")\n",
      "2023-03-28 16:36:53,341 INFO sqlalchemy.engine.Engine [raw sql] ()\n",
      "2023-03-28 16:36:53,342 INFO sqlalchemy.engine.Engine PRAGMA temp.table_info(\"category\")\n",
      "2023-03-28 16:36:53,342 INFO sqlalchemy.engine.Engine [raw sql] ()\n",
      "2023-03-28 16:36:53,343 INFO sqlalchemy.engine.Engine PRAGMA main.table_info(\"task\")\n",
      "2023-03-28 16:36:53,344 INFO sqlalchemy.engine.Engine [raw sql] ()\n",
      "2023-03-28 16:36:53,345 INFO sqlalchemy.engine.Engine PRAGMA temp.table_info(\"task\")\n",
      "2023-03-28 16:36:53,346 INFO sqlalchemy.engine.Engine [raw sql] ()\n",
      "2023-03-28 16:36:53,347 INFO sqlalchemy.engine.Engine \n",
      "CREATE TABLE project (\n",
      "\tid INTEGER NOT NULL, \n",
      "\tPRIMARY KEY (id)\n",
      ")\n",
      "\n",
      "\n",
      "2023-03-28 16:36:53,347 INFO sqlalchemy.engine.Engine [no key 0.00053s] ()\n",
      "2023-03-28 16:36:53,349 INFO sqlalchemy.engine.Engine \n",
      "CREATE TABLE category (\n",
      "\tid INTEGER NOT NULL, \n",
      "\tname VARCHAR NOT NULL, \n",
      "\tPRIMARY KEY (id)\n",
      ")\n",
      "\n",
      "\n",
      "2023-03-28 16:36:53,350 INFO sqlalchemy.engine.Engine [no key 0.00068s] ()\n",
      "2023-03-28 16:36:53,352 INFO sqlalchemy.engine.Engine \n",
      "CREATE TABLE project_category (\n",
      "\tproject_id INTEGER NOT NULL, \n",
      "\tcategory_id INTEGER NOT NULL, \n",
      "\tPRIMARY KEY (project_id, category_id), \n",
      "\tFOREIGN KEY(project_id) REFERENCES project (id) ON DELETE CASCADE, \n",
      "\tFOREIGN KEY(category_id) REFERENCES category (id) ON DELETE CASCADE\n",
      ")\n",
      "\n",
      "\n",
      "2023-03-28 16:36:53,354 INFO sqlalchemy.engine.Engine [no key 0.00140s] ()\n",
      "2023-03-28 16:36:53,356 INFO sqlalchemy.engine.Engine \n",
      "CREATE TABLE task (\n",
      "\tid INTEGER NOT NULL, \n",
      "\tproject_id INTEGER NOT NULL, \n",
      "\tPRIMARY KEY (id), \n",
      "\tFOREIGN KEY(project_id) REFERENCES project (id)\n",
      ")\n",
      "\n",
      "\n",
      "2023-03-28 16:36:53,356 INFO sqlalchemy.engine.Engine [no key 0.00062s] ()\n",
      "2023-03-28 16:36:53,359 INFO sqlalchemy.engine.Engine COMMIT\n"
     ]
    }
   ],
   "source": [
    "# clean db and create tables\n",
    "dropAllTables(engine)\n",
    "createTables(engine)"
   ],
   "metadata": {
    "collapsed": false,
    "pycharm": {
     "name": "#%%\n"
    }
   }
  },
  {
   "cell_type": "code",
   "execution_count": 6,
   "outputs": [
    {
     "name": "stdout",
     "output_type": "stream",
     "text": [
      "2023-03-28 16:36:56,948 INFO sqlalchemy.engine.Engine BEGIN (implicit)\n",
      "2023-03-28 16:36:56,949 INFO sqlalchemy.engine.Engine INSERT INTO category (id, name) VALUES (?, ?)\n",
      "2023-03-28 16:36:56,951 INFO sqlalchemy.engine.Engine [generated in 0.00132s] [(1, 'science'), (2, 'history'), (3, 'politics')]\n",
      "2023-03-28 16:36:56,952 INFO sqlalchemy.engine.Engine INSERT INTO project (id) VALUES (?)\n",
      "2023-03-28 16:36:56,953 INFO sqlalchemy.engine.Engine [generated in 0.00067s] [(1,), (2,)]\n",
      "2023-03-28 16:36:56,954 INFO sqlalchemy.engine.Engine INSERT INTO task (id, project_id) VALUES (?, ?)\n",
      "2023-03-28 16:36:56,955 INFO sqlalchemy.engine.Engine [generated in 0.00088s] [(1, 1), (2, 1)]\n",
      "2023-03-28 16:36:56,956 INFO sqlalchemy.engine.Engine COMMIT\n"
     ]
    }
   ],
   "source": [
    "# create some categories and project\n",
    "Session = sessionmaker(bind=engine)\n",
    "session = Session()\n",
    "\n",
    "task1 = Task(id=1,project_id=1)\n",
    "task2 = Task(id=2,project_id=1)\n",
    "\n",
    "project1 = Project(id=1)\n",
    "project2 = Project(id=2)\n",
    "\n",
    "category1 = Category(id=1,name=\"science\")\n",
    "category2 = Category(id=2,name=\"history\")\n",
    "category3 = Category(id=3,name=\"politics\")\n",
    "\n",
    "session.add(project1)\n",
    "session.add(project2)\n",
    "session.add(task1)\n",
    "session.add(task2)\n",
    "session.add(category1)\n",
    "session.add(category2)\n",
    "session.add(category3)\n",
    "session.commit()"
   ],
   "metadata": {
    "collapsed": false,
    "pycharm": {
     "name": "#%%\n"
    }
   }
  },
  {
   "cell_type": "markdown",
   "source": [
    "We have all the project and category, now let's create some associations. The association object can't be init with simple int anymore, because it represents an association table. So we can only assgin the value of existing category to it. Below is an example, we create first a ProjectCategory() object without any value. Then we assigne the category value to it. Then we set it as the categories value of project2."
   ],
   "metadata": {
    "collapsed": false,
    "pycharm": {
     "name": "#%% md\n"
    }
   }
  },
  {
   "cell_type": "code",
   "execution_count": 7,
   "outputs": [
    {
     "name": "stdout",
     "output_type": "stream",
     "text": [
      "2023-03-28 16:37:00,980 INFO sqlalchemy.engine.Engine BEGIN (implicit)\n",
      "2023-03-28 16:37:00,984 INFO sqlalchemy.engine.Engine SELECT category.id AS category_id, category.name AS category_name \n",
      "FROM category \n",
      "WHERE category.id = ?\n",
      "2023-03-28 16:37:00,985 INFO sqlalchemy.engine.Engine [generated in 0.00090s] (1,)\n",
      "2023-03-28 16:37:00,986 INFO sqlalchemy.engine.Engine SELECT project.id AS project_id \n",
      "FROM project \n",
      "WHERE project.id = ?\n",
      "2023-03-28 16:37:00,987 INFO sqlalchemy.engine.Engine [generated in 0.00094s] (2,)\n",
      "2023-03-28 16:37:00,989 INFO sqlalchemy.engine.Engine SELECT project_category.project_id AS project_category_project_id, project_category.category_id AS project_category_category_id \n",
      "FROM project_category \n",
      "WHERE ? = project_category.project_id\n",
      "2023-03-28 16:37:00,990 INFO sqlalchemy.engine.Engine [generated in 0.00071s] (2,)\n",
      "2023-03-28 16:37:00,992 INFO sqlalchemy.engine.Engine INSERT INTO project_category (project_id, category_id) VALUES (?, ?)\n",
      "2023-03-28 16:37:00,993 INFO sqlalchemy.engine.Engine [generated in 0.00075s] (2, 1)\n",
      "2023-03-28 16:37:00,994 INFO sqlalchemy.engine.Engine COMMIT\n"
     ]
    }
   ],
   "source": [
    "pc1=ProjectCategory()\n",
    "pc1.category=category1\n",
    "project2.categories.append(pc1)\n",
    "session.commit()"
   ],
   "metadata": {
    "collapsed": false,
    "pycharm": {
     "name": "#%%\n"
    }
   }
  },
  {
   "cell_type": "markdown",
   "source": [
    "Now you should see a new row in the project_category table with project_id=2, category_id=1.\n",
    "\n",
    "We can also do the same thing for the project. Below code will add a new row with project_id=1,category_id=2"
   ],
   "metadata": {
    "collapsed": false,
    "pycharm": {
     "name": "#%% md\n"
    }
   }
  },
  {
   "cell_type": "code",
   "execution_count": 8,
   "outputs": [
    {
     "name": "stdout",
     "output_type": "stream",
     "text": [
      "2023-03-28 16:37:03,046 INFO sqlalchemy.engine.Engine BEGIN (implicit)\n",
      "2023-03-28 16:37:03,047 INFO sqlalchemy.engine.Engine SELECT project.id AS project_id \n",
      "FROM project \n",
      "WHERE project.id = ?\n",
      "2023-03-28 16:37:03,049 INFO sqlalchemy.engine.Engine [generated in 0.00164s] (1,)\n",
      "2023-03-28 16:37:03,051 INFO sqlalchemy.engine.Engine SELECT category.id AS category_id, category.name AS category_name \n",
      "FROM category \n",
      "WHERE category.id = ?\n",
      "2023-03-28 16:37:03,052 INFO sqlalchemy.engine.Engine [generated in 0.00095s] (2,)\n",
      "2023-03-28 16:37:03,054 INFO sqlalchemy.engine.Engine SELECT project_category.project_id AS project_category_project_id, project_category.category_id AS project_category_category_id \n",
      "FROM project_category \n",
      "WHERE ? = project_category.category_id\n",
      "2023-03-28 16:37:03,054 INFO sqlalchemy.engine.Engine [generated in 0.00063s] (2,)\n",
      "2023-03-28 16:37:03,056 INFO sqlalchemy.engine.Engine INSERT INTO project_category (project_id, category_id) VALUES (?, ?)\n",
      "2023-03-28 16:37:03,057 INFO sqlalchemy.engine.Engine [cached since 2.064s ago] (1, 2)\n",
      "2023-03-28 16:37:03,058 INFO sqlalchemy.engine.Engine COMMIT\n"
     ]
    }
   ],
   "source": [
    "pc2=ProjectCategory()\n",
    "pc2.project=project1\n",
    "category2.projects.append(pc2)\n",
    "session.commit()"
   ],
   "metadata": {
    "collapsed": false,
    "pycharm": {
     "name": "#%%\n"
    }
   }
  },
  {
   "cell_type": "markdown",
   "source": [
    "Or you can assign all the attribute and add it to the session"
   ],
   "metadata": {
    "collapsed": false,
    "pycharm": {
     "name": "#%% md\n"
    }
   }
  },
  {
   "cell_type": "code",
   "execution_count": 9,
   "outputs": [
    {
     "name": "stdout",
     "output_type": "stream",
     "text": [
      "2023-03-28 16:37:05,799 INFO sqlalchemy.engine.Engine BEGIN (implicit)\n",
      "2023-03-28 16:37:05,801 INFO sqlalchemy.engine.Engine SELECT category.id AS category_id, category.name AS category_name \n",
      "FROM category \n",
      "WHERE category.id = ?\n",
      "2023-03-28 16:37:05,802 INFO sqlalchemy.engine.Engine [cached since 4.819s ago] (3,)\n",
      "2023-03-28 16:37:05,804 INFO sqlalchemy.engine.Engine SELECT project.id AS project_id \n",
      "FROM project \n",
      "WHERE project.id = ?\n",
      "2023-03-28 16:37:05,804 INFO sqlalchemy.engine.Engine [cached since 2.757s ago] (1,)\n",
      "2023-03-28 16:37:05,805 INFO sqlalchemy.engine.Engine INSERT INTO project_category (project_id, category_id) VALUES (?, ?)\n",
      "2023-03-28 16:37:05,806 INFO sqlalchemy.engine.Engine [cached since 4.814s ago] (1, 3)\n",
      "2023-03-28 16:37:05,807 INFO sqlalchemy.engine.Engine COMMIT\n"
     ]
    }
   ],
   "source": [
    "pc3=ProjectCategory()\n",
    "pc3.project=project1\n",
    "pc3.category=category3\n",
    "# the session.add is essential. otherwise, it won't be added to the db.\n",
    "session.add(pc3)\n",
    "session.commit()"
   ],
   "metadata": {
    "collapsed": false,
    "pycharm": {
     "name": "#%%\n"
    }
   }
  },
  {
   "cell_type": "markdown",
   "source": [
    "Now let's try to delete a project"
   ],
   "metadata": {
    "collapsed": false,
    "pycharm": {
     "name": "#%% md\n"
    }
   }
  },
  {
   "cell_type": "code",
   "execution_count": 10,
   "outputs": [
    {
     "name": "stdout",
     "output_type": "stream",
     "text": [
      "2023-03-28 16:37:18,315 INFO sqlalchemy.engine.Engine BEGIN (implicit)\n",
      "2023-03-28 16:37:18,316 INFO sqlalchemy.engine.Engine SELECT project.id AS project_id \n",
      "FROM project \n",
      "WHERE project.id = ?\n",
      "2023-03-28 16:37:18,317 INFO sqlalchemy.engine.Engine [cached since 17.33s ago] (1,)\n",
      "2023-03-28 16:37:18,319 INFO sqlalchemy.engine.Engine SELECT task.id AS task_id, task.project_id AS task_project_id \n",
      "FROM task \n",
      "WHERE ? = task.project_id\n",
      "2023-03-28 16:37:18,320 INFO sqlalchemy.engine.Engine [generated in 0.00157s] (1,)\n",
      "2023-03-28 16:37:18,323 INFO sqlalchemy.engine.Engine SELECT project_category.project_id AS project_category_project_id, project_category.category_id AS project_category_category_id \n",
      "FROM project_category \n",
      "WHERE ? = project_category.project_id\n",
      "2023-03-28 16:37:18,324 INFO sqlalchemy.engine.Engine [cached since 17.33s ago] (1,)\n",
      "2023-03-28 16:37:18,326 INFO sqlalchemy.engine.Engine DELETE FROM project_category WHERE project_category.project_id = ? AND project_category.category_id = ?\n",
      "2023-03-28 16:37:18,326 INFO sqlalchemy.engine.Engine [generated in 0.00061s] [(1, 2), (1, 3)]\n",
      "2023-03-28 16:37:18,328 INFO sqlalchemy.engine.Engine DELETE FROM task WHERE task.id = ?\n",
      "2023-03-28 16:37:18,328 INFO sqlalchemy.engine.Engine [generated in 0.00059s] [(1,), (2,)]\n",
      "2023-03-28 16:37:18,330 INFO sqlalchemy.engine.Engine DELETE FROM project WHERE project.id = ?\n",
      "2023-03-28 16:37:18,330 INFO sqlalchemy.engine.Engine [generated in 0.00093s] (1,)\n",
      "2023-03-28 16:37:18,331 INFO sqlalchemy.engine.Engine COMMIT\n"
     ]
    }
   ],
   "source": [
    "session.delete(project1)\n",
    "session.commit()"
   ],
   "metadata": {
    "collapsed": false,
    "pycharm": {
     "name": "#%%\n"
    }
   }
  },
  {
   "cell_type": "markdown",
   "source": [
    "Now you can see all the rows in the project_category table that have project_id=1 have been deleted."
   ],
   "metadata": {
    "collapsed": false,
    "pycharm": {
     "name": "#%% md\n"
    }
   }
  },
  {
   "cell_type": "markdown",
   "source": [
    "## 3. Database level cascades\n",
    "\n",
    "The database also provides cascade delete on its level.\n",
    "For example, for `postgres` we can add **ondelete=\"CASCADE\"** to the `Task.prject_id` foreign key.\n",
    "```postgresql\n",
    "CREATE TABLE task\n",
    "(\n",
    "  id INT PRIMARY KEY,\n",
    "  project_id INT NOT NULL REFERENCES project(id) ON DELETE CASCADE\n",
    ");\n",
    "```\n",
    "After the creating the table, you can check the status of the table with below command\n",
    "\n",
    "```bash\n",
    "cascade> \\d task\n",
    "+------------+---------+----------------------------------------------------+\n",
    "| Column     | Type    | Modifiers                                          |\n",
    "|------------+---------+----------------------------------------------------|\n",
    "| id         | integer |  not null default nextval('task_id_seq'::regclass) |\n",
    "| project_id | integer |  not null                                          |\n",
    "+------------+---------+----------------------------------------------------+\n",
    "Indexes:\n",
    "    \"task_pkey\" PRIMARY KEY, btree (id)\n",
    "Foreign-key constraints:\n",
    "    \"task_project_id_fkey\" FOREIGN KEY (project_id) REFERENCES project(id) ON DELETE CASCADE\n",
    "\n",
    "Time: 0.020s\n",
    "```\n",
    "\n",
    "\n",
    "For `sqlite`, you can use below command to create the table\n",
    "\n",
    "```sqlite\n",
    "CREATE TABLE task\n",
    "(\n",
    "  id INTEGER PRIMARY KEY AUTOINCREMENT,\n",
    "  project_id INTEGER NOT NULL,\n",
    "  CONSTRAINT fk_projects\n",
    "    FOREIGN KEY (project_id)\n",
    "    REFERENCES project (id)\n",
    "    ON DELETE CASCADE\n",
    ");\n",
    "```\n",
    "\n"
   ],
   "metadata": {
    "collapsed": false
   }
  },
  {
   "cell_type": "markdown",
   "source": [
    "### 3.1 SqlAlchemy orm config\n",
    "\n",
    "If we only add ondelete=\"CASCADE\" on the database level, however, we get another 'NotNullViolation' when running the code:\n",
    "\n",
    "```text\n",
    "sqlalchemy.exc.IntegrityError: (psycopg2.errors.NotNullViolation) null value\n",
    "in column \"project_id\" violates not-null constraint\n",
    "```\n",
    "\n",
    "If we turn ORM-level cascades back on, declare victory and move on. The ondelete=\"CASCADE\" might remain, but it is never used since the ORM will have done the deletions before the database gets a chance.\n",
    "\n",
    "**The integrity error happens because the ORM still sets the project_id of each task to None**. To make the ondelete=\"CASCADE\" works, we need to additionally set `passive_deletes=True` on the `Project.tasks` relationship, which disables the ORM from loading each related task and setting project_id to None.\n",
    "\n",
    "```python\n",
    "class Project(Base):\n",
    "    __tablename__ = \"project\"\n",
    "    id = Column(Integer, primary_key=True)\n",
    "    tasks = relationship(\"Task\", back_populates=\"project\", passive_deletes=True)\n",
    "\n",
    "\n",
    "class Task(Base):\n",
    "    __tablename__ = \"task\"\n",
    "    id = Column(Integer, primary_key=True)\n",
    "    project_id = Column(\n",
    "        Integer, ForeignKey(\"project.id\", ondelete=\"CASCADE\"), nullable=False\n",
    "    )\n",
    "    project = relationship(\"Project\", back_populates=\"tasks\")\n",
    "\n",
    "```"
   ],
   "metadata": {
    "collapsed": false
   }
  },
  {
   "cell_type": "markdown",
   "source": [
    "## ORM level VS Database level\n",
    "\n",
    "Pros of Database level cascade delete:\n",
    "1. Performance: The SQLAlchemy documentation says: **Database level ON DELETE cascade is vastly more efficient than that of SQLAlchemy**.\n",
    "2. Cover all: If you use sql query directly in sqlalchemy, the cascade delete will still happen. (Not for the ORM level)\n",
    "\n",
    "When to Use ORM level?\n",
    "1. Maybe you have an existing schema that you're not free to change for some reason, but you still want automatic cascade deletes in your code.\n",
    "2. One of the models you'd like to cascade uses joined table inheritance and you want to avoid a \"half deleted\" object.\n",
    "3. Some databases don't support (or don't support by default) FOREIGN KEY, and therefore ON DELETE CASCADE.\n",
    "4. Maybe delete was added for completeness along with the other cascade behaviors that only make sense in the context of an ORM.\n",
    "\n",
    "\n"
   ],
   "metadata": {
    "collapsed": false
   }
  },
  {
   "cell_type": "code",
   "execution_count": null,
   "outputs": [],
   "source": [],
   "metadata": {
    "collapsed": false
   }
  }
 ],
 "metadata": {
  "kernelspec": {
   "display_name": "Python 3",
   "language": "python",
   "name": "python3"
  },
  "language_info": {
   "codemirror_mode": {
    "name": "ipython",
    "version": 2
   },
   "file_extension": ".py",
   "mimetype": "text/x-python",
   "name": "python",
   "nbconvert_exporter": "python",
   "pygments_lexer": "ipython2",
   "version": "2.7.6"
  }
 },
 "nbformat": 4,
 "nbformat_minor": 0
}