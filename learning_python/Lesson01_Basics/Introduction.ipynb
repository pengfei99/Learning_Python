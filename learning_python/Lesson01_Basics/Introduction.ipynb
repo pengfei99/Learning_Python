{
 "cells": [
  {
   "cell_type": "markdown",
   "source": [
    "# Python\n",
    "\n",
    "## Introducing the Python Interpreter\n",
    "\n",
    "Python is a **programming language**. But, it’s also a `software package called an interpreter`. When you run a python program\n",
    "the Python interpreter reads your program and carries out the instructions it contains and runs them on the host OS.\n",
    "In effect, the interpreter is a layer of software logic between your code and the computer hardware on your machine.\n",
    "\n",
    "\n",
    "When the Python package is installed on your machine, it generates a number of components minimally:\n",
    "  - an interpreter\n",
    "  - a support library. \n",
    "  - a package manager\n",
    " \n",
    "Depending on how you use it, the Python interpreter may take the form of an `executable program`, or a set of `libraries` linked into another program. \n",
    "\n",
    "Depending on which flavor of Python you run, the interpreter itself may be implemented as a `C program`, `a set of Java classes`, or something else. \n",
    "Whatever form it takes, the Python code you write must always be run by this interpreter. And to enable that, you must install a Python interpreter on your\n",
    "computer.\n",
    "\n",
    "## Run python program\n",
    "\n",
    "What it means to write and run a Python script depends on whether you look at these tasks `as a programmer`, or `as a Python interpreter`. Both views offer important perspectives\n",
    "on Python programming.\n",
    "\n",
    "### The Programmer’s View\n",
    "In its simplest form, a Python program is just a text file containing Python statements. For example, the following file, named `script0.py`, is one of the simplest Python scripts, but it passes for a fully functional Python program:\n",
    "\n",
    "```python\n",
    "print('hello world')\n",
    "print(2 ** 100)\n",
    "```\n",
    "After you’ve typed these statements into a text file, you must tell Python to execute the file which simply means to run all the statements in the file from top to bottom, one\n",
    "after another. \n",
    "\n",
    "You can launch Python program files by shell command lines, by clicking their icons, from within IDEs, and with other standard techniques. If all goes well, when you execute the file, you’ll see the results of\n",
    "the two print statements show up somewhere on your computer \n",
    "```text\n",
    "hello world\n",
    "1267650600228229401496703205376\n",
    "```\n",
    "\n",
    "In our example, we use a jupyter notebook."
   ],
   "metadata": {
    "collapsed": false
   },
   "id": "a72eddda7649c4ca"
  },
  {
   "cell_type": "code",
   "execution_count": 1,
   "outputs": [
    {
     "name": "stdout",
     "output_type": "stream",
     "text": [
      "hello world\n",
      "1267650600228229401496703205376\n"
     ]
    }
   ],
   "source": [
    "print('hello world')\n",
    "print(2 ** 100)"
   ],
   "metadata": {
    "collapsed": false,
    "ExecuteTime": {
     "end_time": "2024-01-12T10:39:53.952363480Z",
     "start_time": "2024-01-12T10:39:53.950884570Z"
    }
   },
   "id": "db5e8eb6d310a1c4"
  },
  {
   "cell_type": "markdown",
   "source": [
    "### The Python interpreter's View\n",
    "\n",
    "When you instruct Python to run your script, there are a few steps that Python carries out before your code actually starts crunching away. Specifically, it’s first compiled to\n",
    "something called “byte code” and then routed to something called a “virtual machine.”"
   ],
   "metadata": {
    "collapsed": false
   },
   "id": "fa2f7adb460f0b88"
  }
 ],
 "metadata": {
  "kernelspec": {
   "display_name": "Python 3",
   "language": "python",
   "name": "python3"
  },
  "language_info": {
   "codemirror_mode": {
    "name": "ipython",
    "version": 2
   },
   "file_extension": ".py",
   "mimetype": "text/x-python",
   "name": "python",
   "nbconvert_exporter": "python",
   "pygments_lexer": "ipython2",
   "version": "2.7.6"
  }
 },
 "nbformat": 4,
 "nbformat_minor": 5
}
