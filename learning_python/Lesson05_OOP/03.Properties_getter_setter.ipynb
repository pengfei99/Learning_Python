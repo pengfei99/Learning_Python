{
 "cells": [
  {
   "cell_type": "markdown",
   "metadata": {
    "collapsed": true,
    "pycharm": {
     "name": "#%% md\n"
    }
   },
   "source": [
    "# 3. Properties, getter and setter\n",
    "\n",
    "In section 1, we have seen that instance parameter can be private and only be accessible via getter and setter. But this will increase the development workload.\n",
    "\n",
    "Note the private parameter in python is **not really private**. We can still access it. For more detail, please visit section 1 Classes_and_instances.\n",
    "\n"
   ]
  },
  {
   "cell_type": "markdown",
   "source": [
    "## 3.1 Why we need getter and setter?\n",
    "\n",
    "Let's consider below example."
   ],
   "metadata": {
    "collapsed": false,
    "pycharm": {
     "name": "#%% md\n"
    }
   }
  },
  {
   "cell_type": "code",
   "execution_count": null,
   "outputs": [],
   "source": [
    "class P1:\n",
    "    def __init__(self,x):\n",
    "        self.x=x"
   ],
   "metadata": {
    "collapsed": false,
    "pycharm": {
     "name": "#%%\n"
    }
   }
  },
  {
   "cell_type": "markdown",
   "source": [
    "With above class, there is no encapsulation. Let's update it to version 2"
   ],
   "metadata": {
    "collapsed": false,
    "pycharm": {
     "name": "#%% md\n"
    }
   }
  },
  {
   "cell_type": "code",
   "execution_count": null,
   "outputs": [],
   "source": [
    "class P2:\n",
    "    def __init__(self,x):\n",
    "        self.__x=x\n",
    "    def get_x(self):\n",
    "        return self.__x\n",
    "    def set_x(self,x):\n",
    "        self.__x=x"
   ],
   "metadata": {
    "collapsed": false,
    "pycharm": {
     "name": "#%%\n"
    }
   }
  },
  {
   "cell_type": "markdown",
   "source": [
    "It's better, but we can see there is a code duplication between set_x and __init__. So we can update it to version 3"
   ],
   "metadata": {
    "collapsed": false,
    "pycharm": {
     "name": "#%% md\n"
    }
   }
  },
  {
   "cell_type": "code",
   "execution_count": null,
   "outputs": [],
   "source": [
    "class P3:\n",
    "    def __init__(self,x):\n",
    "        self.set_x(x)\n",
    "    def get_x(self):\n",
    "        return self.__x\n",
    "    def set_x(self,x):\n",
    "        self.__x=x"
   ],
   "metadata": {
    "collapsed": false,
    "pycharm": {
     "name": "#%%\n"
    }
   }
  },
  {
   "cell_type": "markdown",
   "source": [
    "Now the code is much better and easy to maintain. Imagine, now we need to change the logic of the initialization of x. From now on the attribute x can only have values between 0 and 1000. If a value larger than 1000, x should be set to 1000. Correspondingly, x should be set to 0, if the value is less than 0.\n",
    "\n",
    "### 3.1.1 Why P1 is bad?\n",
    "With P1, there is no way to do this. Because user can modify the value of x as they want. Check below example"
   ],
   "metadata": {
    "collapsed": false,
    "pycharm": {
     "name": "#%% md\n"
    }
   }
  },
  {
   "cell_type": "code",
   "execution_count": 1,
   "outputs": [],
   "source": [
    "class P1:\n",
    "    def __init__(self,x):\n",
    "        if x <0:\n",
    "           self.x=0\n",
    "        elif x >1000:\n",
    "            self.x=1000\n",
    "        else:\n",
    "            self.x=x"
   ],
   "metadata": {
    "collapsed": false,
    "pycharm": {
     "name": "#%%\n"
    }
   }
  },
  {
   "cell_type": "code",
   "execution_count": 2,
   "outputs": [
    {
     "name": "stdout",
     "output_type": "stream",
     "text": [
      "1000\n"
     ]
    }
   ],
   "source": [
    "p1=P1(2000)\n",
    "print(p1.x)"
   ],
   "metadata": {
    "collapsed": false,
    "pycharm": {
     "name": "#%%\n"
    }
   }
  },
  {
   "cell_type": "markdown",
   "source": [
    "So far so good, the logic is respected. But check below example. As user can assign value to x directly, the logic is not respected anymore. So version 1 is the bad way to implement a class"
   ],
   "metadata": {
    "collapsed": false,
    "pycharm": {
     "name": "#%% md\n"
    }
   }
  },
  {
   "cell_type": "code",
   "execution_count": 3,
   "outputs": [
    {
     "name": "stdout",
     "output_type": "stream",
     "text": [
      "2000\n"
     ]
    }
   ],
   "source": [
    "p1.x=2000\n",
    "print(p1.x)"
   ],
   "metadata": {
    "collapsed": false,
    "pycharm": {
     "name": "#%%\n"
    }
   }
  },
  {
   "cell_type": "markdown",
   "source": [
    "### 3.1.2 Why p2 is bad?\n",
    "\n",
    "With version 2, as user can only assign value to x via setter, so the logic will be respected. But we duplicate code, if any changes occur, we need to modify two code block.\n"
   ],
   "metadata": {
    "collapsed": false,
    "pycharm": {
     "name": "#%% md\n"
    }
   }
  },
  {
   "cell_type": "markdown",
   "source": [
    "### 3.1.3 P3 is a good start\n",
    "\n",
    "We can see all the logic that can modify x is located in set_x(), it's much easier to maintain the code. And x is only accessible via getter and setter, so we have the total control over the x logic."
   ],
   "metadata": {
    "collapsed": false,
    "pycharm": {
     "name": "#%% md\n"
    }
   }
  },
  {
   "cell_type": "code",
   "execution_count": 4,
   "outputs": [],
   "source": [
    "class P3:\n",
    "    def __init__(self,x):\n",
    "        self.set_x(x)\n",
    "    def get_x(self):\n",
    "        return self.__x\n",
    "    def set_x(self,x):\n",
    "        if x <0:\n",
    "           self.__x=0\n",
    "        elif x >1000:\n",
    "            self.__x=1000\n",
    "        else:\n",
    "            self.__x=x"
   ],
   "metadata": {
    "collapsed": false,
    "pycharm": {
     "name": "#%%\n"
    }
   }
  },
  {
   "cell_type": "code",
   "execution_count": 5,
   "outputs": [
    {
     "name": "stdout",
     "output_type": "stream",
     "text": [
      "1000\n",
      "1000\n"
     ]
    }
   ],
   "source": [
    "p3=P3(2000)\n",
    "print(p3.get_x())\n",
    "\n",
    "p3.set_x(2100)\n",
    "print(p3.get_x())"
   ],
   "metadata": {
    "collapsed": false,
    "pycharm": {
     "name": "#%%\n"
    }
   }
  },
  {
   "cell_type": "markdown",
   "source": [
    "## 3.2 Properties decorator\n",
    "\n",
    "Is there a way in python to allow us to apply getter and setter on public attributes? Imagine the following code (version 1) has been used in many place.\n",
    "```python\n",
    "p1 = P1(42)\n",
    "p1.x = 1001\n",
    "p1.x\n",
    "```\n",
    "\n",
    "If we change the version 1 signature. Many code will be broken. We can use property decorator\n"
   ],
   "metadata": {
    "collapsed": false,
    "pycharm": {
     "name": "#%% md\n"
    }
   }
  },
  {
   "cell_type": "code",
   "execution_count": 8,
   "outputs": [],
   "source": [
    "class P4:\n",
    "    def __init__(self,x):\n",
    "        self.x=x\n",
    "    @property\n",
    "    def x(self):\n",
    "        return self.__x\n",
    "    @x.setter\n",
    "    def x(self, x):\n",
    "        if x < 0:\n",
    "            self.__x = 0\n",
    "        elif x > 1000:\n",
    "            self.__x = 1000\n",
    "        else:\n",
    "            self.__x = x"
   ],
   "metadata": {
    "collapsed": false,
    "pycharm": {
     "name": "#%%\n"
    }
   }
  },
  {
   "cell_type": "code",
   "execution_count": 9,
   "outputs": [
    {
     "name": "stdout",
     "output_type": "stream",
     "text": [
      "1000\n"
     ]
    }
   ],
   "source": [
    "p4=P4(2000)\n",
    "print(p4.x)"
   ],
   "metadata": {
    "collapsed": false,
    "pycharm": {
     "name": "#%%\n"
    }
   }
  },
  {
   "cell_type": "code",
   "execution_count": 10,
   "outputs": [
    {
     "name": "stdout",
     "output_type": "stream",
     "text": [
      "1000\n"
     ]
    }
   ],
   "source": [
    "p4.x = 2900\n",
    "print(p4.x)"
   ],
   "metadata": {
    "collapsed": false,
    "pycharm": {
     "name": "#%%\n"
    }
   }
  },
  {
   "cell_type": "code",
   "execution_count": null,
   "outputs": [],
   "source": [],
   "metadata": {
    "collapsed": false,
    "pycharm": {
     "name": "#%%\n"
    }
   }
  }
 ],
 "metadata": {
  "kernelspec": {
   "display_name": "Python 3",
   "language": "python",
   "name": "python3"
  },
  "language_info": {
   "codemirror_mode": {
    "name": "ipython",
    "version": 2
   },
   "file_extension": ".py",
   "mimetype": "text/x-python",
   "name": "python",
   "nbconvert_exporter": "python",
   "pygments_lexer": "ipython2",
   "version": "2.7.6"
  }
 },
 "nbformat": 4,
 "nbformat_minor": 0
}