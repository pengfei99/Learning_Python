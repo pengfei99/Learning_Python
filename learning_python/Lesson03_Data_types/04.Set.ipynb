{
 "cells": [
  {
   "cell_type": "markdown",
   "id": "a1bb10fc-3d1c-4c15-97fe-c91a82c369d4",
   "metadata": {},
   "source": [
    "#  3.4 Set\n",
    "\n",
    "In Python, **Set is an unordered collection of data type that is iterable, mutable and has no duplicate elements. The order of elements in a set is undefined though it may consist of various elements**.\n",
    "- Sets are unordered.\n",
    "- Set elements are unique. Duplicate elements are not allowed.\n",
    "- A set itself may be modified, but the elements contained in the set must be of an immutable type.\n",
    "\n",
    "**Compare to a list, set has a highly optimized method for checking whether a specific element is contained in the set.**"
   ]
  },
  {
   "cell_type": "markdown",
   "id": "219f21c2-16f0-460b-a77a-0683ab5a3f02",
   "metadata": {},
   "source": [
    "## 3.4.1 Creating a Set\n",
    "\n",
    "Sets can be created by using the built-in set() function with an iterable object or a sequence by placing the sequence inside curly braces, separated by ‘comma’.\n",
    "\n",
    "**Note – A set cannot have mutable elements like a list or dictionary, as it is immutable.**"
   ]
  },
  {
   "cell_type": "code",
   "execution_count": 3,
   "id": "2824e1da-e3fe-4f78-be43-978b0673f697",
   "metadata": {},
   "outputs": [
    {
     "name": "stdout",
     "output_type": "stream",
     "text": [
      "Initial blank Set: \n",
      "set()\n"
     ]
    }
   ],
   "source": [
    "# Creating an empty Set\n",
    "set1 = set()\n",
    "print(\"Initial blank Set: \")\n",
    "print(set1)\n",
    " \n"
   ]
  },
  {
   "cell_type": "code",
   "execution_count": 4,
   "id": "ebcc603b-bfaa-4248-ad92-8ea59cb709e5",
   "metadata": {},
   "outputs": [
    {
     "name": "stdout",
     "output_type": "stream",
     "text": [
      "\n",
      "Set with the use of String: \n",
      "{'o', 'e', 'k', 'r', 'F', 'G', 's'}\n",
      "\n",
      "Set with the use of an Object: \n",
      "{'o', 'e', 'k', 'r', 'F', 'G', 's'}\n"
     ]
    }
   ],
   "source": [
    "# Creating a Set with the use of a String\n",
    "set1 = set(\"GeeksForGeeks\")\n",
    "print(\"\\nSet with the use of String: \")\n",
    "print(set1)\n",
    "\n",
    "# Creating a Set with the use of Constructor\n",
    "# (Using object to Store String)\n",
    "String = 'GeeksForGeeks'\n",
    "set1 = set(String)\n",
    "print(\"\\nSet with the use of an Object: \" )\n",
    "print(set1)"
   ]
  },
  {
   "cell_type": "markdown",
   "id": "f6ce2971-b1cf-436c-9611-4605a605f62a",
   "metadata": {},
   "source": [
    "- **A set contains only unique element, multiple duplicate values will be removed. Order of elements in a set is undefined and is unchangeable**. \n",
    "- **Type of elements in a set can be different.** "
   ]
  },
  {
   "cell_type": "code",
   "execution_count": 7,
   "id": "6b3ab929-1a9c-4984-ae51-30c2c8b2e995",
   "metadata": {},
   "outputs": [
    {
     "name": "stdout",
     "output_type": "stream",
     "text": [
      "\n",
      "Set with the use of Numbers: \n",
      "{1, 2, 3, 4, 5, 6}\n"
     ]
    }
   ],
   "source": [
    "# in the list we have duplicate 3, 4 \n",
    "list1=[1, 2, 4, 4, 3, 3, 3, 6, 5]\n",
    "set1 = set(list1)\n",
    "print(\"\\nSet with the use of Numbers: \")\n",
    "# after coverting listo to set. duplicate values are removed.\n",
    "print(set1)\n",
    "\n"
   ]
  },
  {
   "cell_type": "code",
   "execution_count": 10,
   "id": "89022e1d-42a8-4950-bb11-a364dac8d4d0",
   "metadata": {},
   "outputs": [
    {
     "name": "stdout",
     "output_type": "stream",
     "text": [
      "Input list: [1, 2, 4, 4, 3, 3, 3, 6, 5] has duplicate\n"
     ]
    }
   ],
   "source": [
    "# we can use this property to check if a list contains duplicate value\n",
    "def check_duplicate(list):\n",
    "    if len(list)>len(set(list)):\n",
    "        print(f\"Input list: {list} has duplicate\")\n",
    "\n",
    "check_duplicate(list1)"
   ]
  },
  {
   "cell_type": "code",
   "execution_count": 11,
   "id": "c66b5ede-4b0e-4453-bca3-642d7f111ede",
   "metadata": {},
   "outputs": [
    {
     "name": "stdout",
     "output_type": "stream",
     "text": [
      "\n",
      "Set with the use of List: \n",
      "{1, 'For', 'Geeks'}\n"
     ]
    }
   ],
   "source": [
    "# We can mix various data type in a set\n",
    "set1 = set([1,\"Geeks\", \"For\", \"Geeks\"])\n",
    "print(\"\\nSet with the use of List: \")\n",
    "print(set1)"
   ]
  },
  {
   "cell_type": "markdown",
   "id": "af230d55-d062-473c-ac95-4a696a7be5c5",
   "metadata": {},
   "source": [
    "## 3.4.2 Adding Elements to a Set\n",
    "- add() : add one element to a set\n",
    "- update(): add a list, set, string, tuple to a set\n"
   ]
  },
  {
   "cell_type": "markdown",
   "id": "35b4fe01-4318-4a83-8661-b3371ccc8514",
   "metadata": {},
   "source": [
    "### 3.4.2.1 Using add method\n",
    "\n",
    "The add() function adds one element at a time to the set, loops are used to add multiple elements\n",
    "\n",
    "- Lists cannot be added to a set as elements because Lists are mutable and not hashable\n",
    "- Tuples can be added because tuples are immutable and hence Hashable. "
   ]
  },
  {
   "cell_type": "code",
   "execution_count": 12,
   "id": "28058744-8b4b-461f-bafd-3a3d81b7b2a4",
   "metadata": {},
   "outputs": [
    {
     "name": "stdout",
     "output_type": "stream",
     "text": [
      "Initial blank Set: \n",
      "set()\n",
      "\n",
      "Set after Addition of Three elements: \n",
      "{8, 9, (6, 7)}\n",
      "\n",
      "Set after Addition of elements from 1-5: \n",
      "{1, 2, 3, 4, 5, 8, 9, (6, 7)}\n"
     ]
    }
   ],
   "source": [
    "# Creating a Set\n",
    "set1 = set()\n",
    "print(\"Initial blank Set: \")\n",
    "print(set1)\n",
    " \n",
    "# Adding element and tuple to the Set\n",
    "set1.add(8)\n",
    "set1.add(9)\n",
    "set1.add((6,7))\n",
    "print(\"\\nSet after Addition of Three elements: \")\n",
    "print(set1)\n",
    " \n",
    "# Adding elements to the Set\n",
    "# using Iterator\n",
    "for i in range(1, 6):\n",
    "    set1.add(i)\n",
    "print(\"\\nSet after Addition of elements from 1-5: \")\n",
    "print(set1)"
   ]
  },
  {
   "cell_type": "markdown",
   "id": "be00c40f-9142-4de9-b3d7-d1763061afd5",
   "metadata": {},
   "source": [
    "### 3.4.2.2 Using update() method\n",
    "Update() method can add two or more elements. It accepts lists, strings, tuples as well as other sets as its arguments. In all of these cases, duplicate elements are removed.\n",
    "\n"
   ]
  },
  {
   "cell_type": "code",
   "execution_count": 14,
   "id": "65cd2ff5-9b4c-4c12-a7ce-c83f51396e1e",
   "metadata": {},
   "outputs": [
    {
     "name": "stdout",
     "output_type": "stream",
     "text": [
      "\n",
      "Set after Addition of elements using Update: \n",
      "{4, 5, 10, 11, (6, 7)}\n",
      "\n",
      "Set after Addition of elements using Update: \n",
      "{4, 5, 6, 7, 10, 11, (6, 7)}\n"
     ]
    }
   ],
   "source": [
    "# Addition of elements to the Set\n",
    "# using Update function\n",
    "set1 = set([ 4, 5, (6, 7)])\n",
    "set1.update([10, 11])\n",
    "print(\"\\nSet after Addition of elements using Update: \")\n",
    "print(set1)\n",
    "\n",
    "# note even we give a tuple (6,7) as input. The update method will read element one by one. not use the tuple as one object\n",
    "# as a result, below code give us {4, 5, 6, 7, 10, 11, (6, 7)} instead of {4, 5, 10, 11, (6, 7)}\n",
    "set1.update((6,7))\n",
    "print(\"\\nSet after Addition of elements using Update: \")\n",
    "print(set1)"
   ]
  },
  {
   "cell_type": "markdown",
   "id": "13664df3-5bce-4edd-ba2f-f7d30a7b5b54",
   "metadata": {},
   "source": [
    "## 3.4.3 Accessing a Set\n",
    "\n",
    "**Set items cannot be accessed by referring to an index, since sets are unordered the items has no index**. But you can loop through the set items using a for loop, or ask if a specified value is present in a set, by using the in keyword."
   ]
  },
  {
   "cell_type": "code",
   "execution_count": 15,
   "id": "19acef52-c70e-4d35-bad3-621c262055af",
   "metadata": {},
   "outputs": [
    {
     "name": "stdout",
     "output_type": "stream",
     "text": [
      "\n",
      "Elements of set: \n",
      "4 5 6 7 10 11 (6, 7) "
     ]
    }
   ],
   "source": [
    "print(\"\\nElements of set: \")\n",
    "for i in set1:\n",
    "    print(i, end=\" \")"
   ]
  },
  {
   "cell_type": "code",
   "execution_count": 18,
   "id": "7d16c620-124b-4bac-8166-85af0991db18",
   "metadata": {},
   "outputs": [
    {
     "name": "stdout",
     "output_type": "stream",
     "text": [
      "result of test1: False\n",
      "result of test2: True\n"
     ]
    }
   ],
   "source": [
    "# check if an element is in the set\n",
    "test1 = 1 in set1\n",
    "print(f\"result of test1: {test1}\")\n",
    "\n",
    "test2 = (6,7) in set1\n",
    "print(f\"result of test2: {test2}\")"
   ]
  },
  {
   "cell_type": "markdown",
   "id": "d529f04d-3557-4221-9261-a711585aa577",
   "metadata": {},
   "source": [
    "## 3.4.4 Removing elements from the Set\n",
    "\n",
    "- remove(value): removes an element that matches the input value, but a KeyError arises if such element doesn’t exist in the set.\n",
    "- discard(value): removes an element from a set without KeyError, if the element doesn’t exist in the set, it remains unchanged.\n",
    "- pop(): removes an element and return it. remove and discard does not return any value.\n",
    "- clear(): removes all the elements from the set. \n",
    "\n",
    "### 3.4.4.1 Using remove()"
   ]
  },
  {
   "cell_type": "code",
   "execution_count": 31,
   "id": "33079fd0-eb73-4320-8c12-1748616c24e7",
   "metadata": {},
   "outputs": [
    {
     "name": "stdout",
     "output_type": "stream",
     "text": [
      "Initial Set: \n",
      "{1, 2, 3, 4, 5, 6, 7, 8, 9, 10, 11, 12}\n",
      "None\n",
      "\n",
      "Set after Removal of two elements: \n",
      "{1, 2, 3, 4, 7, 8, 9, 10, 11, 12}\n"
     ]
    }
   ],
   "source": [
    "# Creating a Set\n",
    "set1 = set([1, 2, 3, 4, 5, 6,7, 8, 9, 10, 11, 12])\n",
    "print(\"Initial Set: \")\n",
    "print(set1)\n",
    " \n",
    "# Removing elements from Set using Remove() method\n",
    "set1.remove(5)\n",
    "set1.remove(6)\n",
    "print(\"\\nSet after Removal of two elements: \")\n",
    "print(set1)"
   ]
  },
  {
   "cell_type": "code",
   "execution_count": 22,
   "id": "ed5b8033-7e5b-43b5-955a-e50da2abc902",
   "metadata": {},
   "outputs": [
    {
     "name": "stdout",
     "output_type": "stream",
     "text": [
      "error message: 5\n"
     ]
    }
   ],
   "source": [
    "# let's try to remove a value that does not exist\n",
    "try:\n",
    "    set1.remove(5)\n",
    "except KeyError as e:\n",
    "    print(f\"error message: {e}\")\n"
   ]
  },
  {
   "cell_type": "markdown",
   "id": "cbea3af3-5f7d-4212-bc0a-c446c8bd1def",
   "metadata": {},
   "source": [
    "### 3.4.4.2 Using discard()"
   ]
  },
  {
   "cell_type": "code",
   "execution_count": 30,
   "id": "2c6cc72b-dea3-47d4-afa8-c0fe17aa4e00",
   "metadata": {},
   "outputs": [
    {
     "name": "stdout",
     "output_type": "stream",
     "text": [
      "None\n",
      "Set after Discarding two elements: \n",
      "{1, 2, 3, 4, 7, 10, 11, 12}\n"
     ]
    }
   ],
   "source": [
    "# Removing elements from Set using Discard() method\n",
    "set1.discard(8)\n",
    "element2=set1.discard(9)\n",
    "\n",
    "print(\"Set after Discarding two elements: \")\n",
    "print(set1)\n"
   ]
  },
  {
   "cell_type": "code",
   "execution_count": 27,
   "id": "c98f5f03-ba20-45d3-b2b0-33d6e07e81f2",
   "metadata": {},
   "outputs": [
    {
     "name": "stdout",
     "output_type": "stream",
     "text": [
      "Set after Discarding element 5: \n",
      "{1, 2, 3, 4, 7, 10, 11, 12}\n"
     ]
    }
   ],
   "source": [
    "# let's try to discard a value that does not exist\n",
    "# you can notice no error is raised\n",
    "set1.discard(5)\n",
    "print(\"Set after Discarding element 5: \")\n",
    "print(set1)"
   ]
  },
  {
   "cell_type": "markdown",
   "id": "12668294-fea7-4bb7-ab02-29fb3ff76113",
   "metadata": {},
   "source": [
    "### 3.4.4.3 Using pop() \n",
    "\n",
    "**Pop() removes an element from the set and returns it, but it removes only the last element of the set.** \n",
    "\n",
    "If the set is unordered then there’s no such way to determine which element is popped by using the pop() function. "
   ]
  },
  {
   "cell_type": "code",
   "execution_count": 35,
   "id": "99e113b6-5d00-437d-a091-06b77e284a16",
   "metadata": {},
   "outputs": [
    {
     "name": "stdout",
     "output_type": "stream",
     "text": [
      "Initial Set: \n",
      "{1, 2, 3, 4, 5, 6, 7, 8, 9, 10, 11, 12}\n",
      "the element value that poped out of the set: 1 \n",
      "the set value is {2, 3, 4, 5, 6, 7, 8, 9, 10, 11, 12}\n",
      "the element value that poped out of the set: 2 \n",
      "the set value is {3, 4, 5, 6, 7, 8, 9, 10, 11, 12}\n",
      "the element value that poped out of the set: 3 \n",
      "the set value is {4, 5, 6, 7, 8, 9, 10, 11, 12}\n",
      "the element value that poped out of the set: 4 \n",
      "the set value is {5, 6, 7, 8, 9, 10, 11, 12}\n",
      "the element value that poped out of the set: 5 \n",
      "the set value is {6, 7, 8, 9, 10, 11, 12}\n",
      "the element value that poped out of the set: 6 \n",
      "the set value is {7, 8, 9, 10, 11, 12}\n",
      "the element value that poped out of the set: 7 \n",
      "the set value is {8, 9, 10, 11, 12}\n",
      "the element value that poped out of the set: 8 \n",
      "the set value is {9, 10, 11, 12}\n",
      "the element value that poped out of the set: 9 \n",
      "the set value is {10, 11, 12}\n",
      "the element value that poped out of the set: 10 \n",
      "the set value is {11, 12}\n",
      "the element value that poped out of the set: 11 \n",
      "the set value is {12}\n",
      "the element value that poped out of the set: 12 \n",
      "the set value is set()\n"
     ]
    }
   ],
   "source": [
    "# Creating a Set, note there is auto sorting after converting list to set\n",
    "set1 = set([1, 2, 5, 6, 7, 8, 9, 3, 4,  10, 11, 12])\n",
    "print(\"Initial Set: \")\n",
    "print(set1)\n",
    " \n",
    "# Removing element from the Set using the pop() method\n",
    "for i in range(1,13):\n",
    "    element=set1.pop()\n",
    "    print(f\"the element value that poped out of the set: {element} \")\n",
    "    print(f\"the set value is {set1}\")"
   ]
  },
  {
   "cell_type": "code",
   "execution_count": 37,
   "id": "68f49b1a-d54f-43de-8ceb-2158949d713f",
   "metadata": {},
   "outputs": [
    {
     "name": "stdout",
     "output_type": "stream",
     "text": [
      "\n",
      "Initial set: \n",
      "{1, 2, 3, 4, 5}\n",
      "\n",
      "Set after clearing all the elements: \n",
      "set()\n"
     ]
    }
   ],
   "source": [
    "#Creating a set\n",
    "set1 = set([1,2,3,4,5])\n",
    "print(\"\\nInitial set: \")\n",
    "print(set1)\n",
    " \n",
    "# Removing all the elements from Set using clear() method\n",
    "set1.clear()\n",
    "print(\"\\nSet after clearing all the elements: \")\n",
    "print(set1)"
   ]
  },
  {
   "cell_type": "markdown",
   "id": "1c9d20a9-e361-45f8-81a8-de59cdb4fa24",
   "metadata": {},
   "source": [
    "## 3.4.5 Frozen sets \n",
    "\n",
    "In Python fronzenset are immutable objects that only support methods and operators that produce a result without affecting the frozen set or sets to which they are applied. \n",
    "\n",
    "While elements of a set can be modified at any time, elements of the frozen set remain the same after creation. \n",
    "\n",
    "If no parameters are passed, it returns an empty frozenset.  "
   ]
  },
  {
   "cell_type": "code",
   "execution_count": 39,
   "id": "939b14d1-4585-4035-a4e9-12b9c4cc75d8",
   "metadata": {},
   "outputs": [
    {
     "name": "stdout",
     "output_type": "stream",
     "text": [
      "The FrozenSet from a string is: \n",
      "frozenset({'o', 'e', 'k', 'r', 'F', 'G', 's'})\n",
      "The frozenSet from a list is: \n",
      "frozenset({1, 2, 3, 4, 5, 6, 7, 8, 9, 10, 11, 12})\n",
      "\n",
      "Empty FrozenSet: \n",
      "frozenset()\n"
     ]
    }
   ],
   "source": [
    "# Creating a Set\n",
    "String = ('G', 'e', 'e', 'k', 's', 'F', 'o', 'r')\n",
    " \n",
    "Fset1 = frozenset(String)\n",
    "print(\"The FrozenSet from a string is: \")\n",
    "print(Fset1)\n",
    "\n",
    "list1=[1, 2, 5, 6, 7, 8, 9, 3, 4,  10, 11, 12]\n",
    "Fset2=frozenset(list1)\n",
    "print(\"The frozenSet from a list is: \")\n",
    "print(Fset2)\n",
    "\n",
    "# To print Empty Frozen Set No parameter is passed\n",
    "print(\"\\nEmpty FrozenSet: \")\n",
    "print(frozenset())"
   ]
  },
  {
   "cell_type": "code",
   "execution_count": 41,
   "id": "2fb8f388-c563-4b87-a288-9de7bd8ce8ad",
   "metadata": {},
   "outputs": [
    {
     "ename": "AttributeError",
     "evalue": "'frozenset' object has no attribute 'add'",
     "output_type": "error",
     "traceback": [
      "\u001B[0;31m---------------------------------------------------------------------------\u001B[0m",
      "\u001B[0;31mAttributeError\u001B[0m                            Traceback (most recent call last)",
      "\u001B[0;32m/tmp/ipykernel_1320/296327593.py\u001B[0m in \u001B[0;36m<module>\u001B[0;34m\u001B[0m\n\u001B[1;32m      1\u001B[0m \u001B[0;31m# try to add a new element in fronzenset\u001B[0m\u001B[0;34m\u001B[0m\u001B[0;34m\u001B[0m\u001B[0m\n\u001B[0;32m----> 2\u001B[0;31m \u001B[0mFset2\u001B[0m\u001B[0;34m.\u001B[0m\u001B[0madd\u001B[0m\u001B[0;34m(\u001B[0m\u001B[0;36m13\u001B[0m\u001B[0;34m)\u001B[0m\u001B[0;34m\u001B[0m\u001B[0;34m\u001B[0m\u001B[0m\n\u001B[0m",
      "\u001B[0;31mAttributeError\u001B[0m: 'frozenset' object has no attribute 'add'"
     ]
    }
   ],
   "source": [
    "# try to add a new element in fronzenset\n",
    "Fset2.add(13)"
   ]
  },
  {
   "cell_type": "code",
   "execution_count": null,
   "id": "c6ebf79e-2162-4b3a-832a-6f9c2f14c7e5",
   "metadata": {},
   "outputs": [],
   "source": []
  }
 ],
 "metadata": {
  "kernelspec": {
   "display_name": "Python 3 (ipykernel)",
   "language": "python",
   "name": "python3"
  },
  "language_info": {
   "codemirror_mode": {
    "name": "ipython",
    "version": 3
   },
   "file_extension": ".py",
   "mimetype": "text/x-python",
   "name": "python",
   "nbconvert_exporter": "python",
   "pygments_lexer": "ipython3",
   "version": "3.9.7"
  }
 },
 "nbformat": 4,
 "nbformat_minor": 5
}