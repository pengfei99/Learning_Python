{
 "cells": [
  {
   "cell_type": "markdown",
   "source": [
    "# 2. Create np array\n",
    "\n",
    "NumPy provide many method to create np array with static values:\n",
    "- np.zeros() : create an array with 0 with the given shape\n",
    "- np.ones(): create a numpy array of a given shape whose elements are filled with ones.\n",
    "- arange(): create a numpy array with evenly spaced numbers.\n",
    "- linspace(): create a new numpy array with evenly spaced numbers of a specified interval.\n",
    "\n",
    "## 2.1 zeros\n",
    "\n"
   ],
   "metadata": {
    "collapsed": false
   }
  },
  {
   "cell_type": "code",
   "execution_count": 1,
   "outputs": [
    {
     "name": "stdout",
     "output_type": "stream",
     "text": [
      "[[0. 0. 0.]\n",
      " [0. 0. 0.]]\n"
     ]
    }
   ],
   "source": [
    "import numpy as np\n",
    "\n",
    "zeros=np.zeros((2,3))\n",
    "print(zeros)"
   ],
   "metadata": {
    "collapsed": false
   }
  },
  {
   "cell_type": "code",
   "execution_count": 2,
   "outputs": [
    {
     "name": "stdout",
     "output_type": "stream",
     "text": [
      "float64\n"
     ]
    }
   ],
   "source": [
    "print(zeros.dtype)"
   ],
   "metadata": {
    "collapsed": false
   }
  },
  {
   "cell_type": "markdown",
   "source": [
    "You can notice by default, zeros() function uses the type float64 for its elements. if you want to use another type, you need to specify it explicitly"
   ],
   "metadata": {
    "collapsed": false
   }
  },
  {
   "cell_type": "code",
   "execution_count": 3,
   "outputs": [],
   "source": [
    "zeros_int=np.zeros((2,3),dtype=np.int16)"
   ],
   "metadata": {
    "collapsed": false
   }
  },
  {
   "cell_type": "code",
   "execution_count": 4,
   "outputs": [
    {
     "name": "stdout",
     "output_type": "stream",
     "text": [
      "[[0 0 0]\n",
      " [0 0 0]]\n"
     ]
    }
   ],
   "source": [
    "print(zeros_int)"
   ],
   "metadata": {
    "collapsed": false
   }
  },
  {
   "cell_type": "code",
   "execution_count": 5,
   "outputs": [
    {
     "name": "stdout",
     "output_type": "stream",
     "text": [
      "int16\n"
     ]
    }
   ],
   "source": [
    "print(zeros_int.dtype)"
   ],
   "metadata": {
    "collapsed": false
   }
  },
  {
   "cell_type": "markdown",
   "source": [
    "## ones\n",
    "\n",
    "Ones is similar to zeros"
   ],
   "metadata": {
    "collapsed": false
   }
  },
  {
   "cell_type": "code",
   "execution_count": 6,
   "outputs": [
    {
     "name": "stdout",
     "output_type": "stream",
     "text": [
      "[[[1. 1.]\n",
      "  [1. 1.]\n",
      "  [1. 1.]]\n",
      "\n",
      " [[1. 1.]\n",
      "  [1. 1.]\n",
      "  [1. 1.]]]\n"
     ]
    }
   ],
   "source": [
    "ones=np.ones((2,3,2))\n",
    "print(ones)"
   ],
   "metadata": {
    "collapsed": false
   }
  },
  {
   "cell_type": "code",
   "execution_count": 7,
   "outputs": [
    {
     "name": "stdout",
     "output_type": "stream",
     "text": [
      "float64\n"
     ]
    }
   ],
   "source": [
    "print(ones.dtype)"
   ],
   "metadata": {
    "collapsed": false
   }
  },
  {
   "cell_type": "markdown",
   "source": [
    "## arange\n",
    "\n",
    "The numpy **arange()** function creates a new numpy array with `evenly spaced numbers between start (inclusive) and stop (exclusive) with a given step`.\n",
    "\n",
    "The general form is:\n",
    "```python\n",
    "numpy.arange(start, stop, step, dtype=None, *, like=None)\n",
    "```"
   ],
   "metadata": {
    "collapsed": false
   }
  },
  {
   "cell_type": "code",
   "execution_count": 8,
   "outputs": [
    {
     "name": "stdout",
     "output_type": "stream",
     "text": [
      "[1 3 5 7 9]\n"
     ]
    }
   ],
   "source": [
    "# start is 1, stop is 10, step is 2\n",
    "a1 = np.arange(1, 10, 2)\n",
    "\n",
    "print(a1)"
   ],
   "metadata": {
    "collapsed": false
   }
  },
  {
   "cell_type": "code",
   "execution_count": 9,
   "outputs": [
    {
     "name": "stdout",
     "output_type": "stream",
     "text": [
      "int64\n"
     ]
    }
   ],
   "source": [
    "print(a1.dtype)"
   ],
   "metadata": {
    "collapsed": false
   }
  },
  {
   "cell_type": "markdown",
   "source": [
    "> arange use the dtype of start and stop as the dtype of the array, But you can force it by giving a type"
   ],
   "metadata": {
    "collapsed": false
   }
  },
  {
   "cell_type": "code",
   "execution_count": 10,
   "outputs": [
    {
     "name": "stdout",
     "output_type": "stream",
     "text": [
      "[1. 3. 5. 7. 9.]\n"
     ]
    }
   ],
   "source": [
    "a2 = np.arange(1, 10, 2,dtype=np.float32)\n",
    "\n",
    "print(a2)"
   ],
   "metadata": {
    "collapsed": false
   }
  },
  {
   "cell_type": "code",
   "execution_count": 11,
   "outputs": [
    {
     "name": "stdout",
     "output_type": "stream",
     "text": [
      "float32\n"
     ]
    }
   ],
   "source": [
    "print(a2.dtype)"
   ],
   "metadata": {
    "collapsed": false
   }
  },
  {
   "cell_type": "markdown",
   "source": [
    "## linspace\n",
    "\n",
    "The numpy linspace() function creates a new numpy array with evenly spaced numbers over a given interval.\n",
    "The general form is :\n",
    "\n",
    "```python\n",
    "numpy.linspace(start, stop, num=50, endpoint=True, retstep=False, dtype=None, axis=0)\n",
    "```\n",
    "\n",
    "The linspace() works like the arange() function. But instead of specifying the step size, `it defines the number of elements in the interval between the start and stop values`. You can notice the default num value is 50, which means you will have 50 elements in the array by default"
   ],
   "metadata": {
    "collapsed": false
   }
  },
  {
   "cell_type": "code",
   "execution_count": 12,
   "outputs": [
    {
     "name": "stdout",
     "output_type": "stream",
     "text": [
      "[1.         1.11111111 1.22222222 1.33333333 1.44444444 1.55555556\n",
      " 1.66666667 1.77777778 1.88888889 2.        ]\n"
     ]
    }
   ],
   "source": [
    "# we will have 10 elements between 1 and 2\n",
    "a3=np.linspace(1,2,10)\n",
    "\n",
    "print(a3)"
   ],
   "metadata": {
    "collapsed": false
   }
  },
  {
   "cell_type": "markdown",
   "source": [
    "If you don’t want to include the stop value, you can exclude it using the endpoint parameter. For example:"
   ],
   "metadata": {
    "collapsed": false
   }
  },
  {
   "cell_type": "code",
   "execution_count": 13,
   "outputs": [
    {
     "name": "stdout",
     "output_type": "stream",
     "text": [
      "[1.  1.1 1.2 1.3 1.4 1.5 1.6 1.7 1.8 1.9]\n"
     ]
    }
   ],
   "source": [
    "a = np.linspace(1, 2, 10, endpoint=False)\n",
    "\n",
    "print(a)"
   ],
   "metadata": {
    "collapsed": false
   }
  },
  {
   "cell_type": "code",
   "execution_count": null,
   "outputs": [],
   "source": [],
   "metadata": {
    "collapsed": false
   }
  }
 ],
 "metadata": {
  "kernelspec": {
   "display_name": "Python 3",
   "language": "python",
   "name": "python3"
  },
  "language_info": {
   "codemirror_mode": {
    "name": "ipython",
    "version": 2
   },
   "file_extension": ".py",
   "mimetype": "text/x-python",
   "name": "python",
   "nbconvert_exporter": "python",
   "pygments_lexer": "ipython2",
   "version": "2.7.6"
  }
 },
 "nbformat": 4,
 "nbformat_minor": 0
}
