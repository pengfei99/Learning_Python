{
 "cells": [
  {
   "cell_type": "markdown",
   "metadata": {
    "collapsed": true,
    "pycharm": {
     "name": "#%% md\n"
    }
   },
   "source": [
    "# 3.1 Strings in Python\n",
    "A string is a sequence of characters. It can be declared in python by using double-quotes. Strings are immutable, i.e.,\n",
    "they cannot be changed.\n",
    "\n",
    "In Python, Strings are arrays of bytes representing Unicode characters. However, **Python does not have a character\n",
    "data type**, a single character is simply a string with a length of 1. Square brackets can be used to access elements\n",
    "of the string.\n"
   ]
  },
  {
   "cell_type": "markdown",
   "metadata": {},
   "source": [
    "## 3.1.1 Creating a String\n",
    "Strings in Python can be created using single quotes or double quotes or even triple quotes. "
   ]
  },
  {
   "cell_type": "code",
   "execution_count": 1,
   "metadata": {},
   "outputs": [
    {
     "name": "stdout",
     "output_type": "stream",
     "text": [
      "String with the use of Single Quotes: Welcome to the Geeks World\n",
      "\n",
      "String with the use of Double Quotes: I'm a Geek\n",
      "\n",
      "String with the use of Triple Quotes: I'm a Geek and I live in a world of \"Geeks\"\n"
     ]
    }
   ],
   "source": [
    "# Creating a String with single Quotes\n",
    "str1 = 'Welcome to the Geeks World'\n",
    "print(f\"String with the use of Single Quotes: {str1}\")\n",
    " \n",
    "# Creating a String\n",
    "# with double Quotes\n",
    "str2 = \"I'm a Geek\"\n",
    "print(f\"\\nString with the use of Double Quotes: {str2}\")\n",
    " \n",
    "# Creating a String\n",
    "# with triple Quotes\n",
    "str2 = '''I'm a Geek and I live in a world of \"Geeks\"'''\n",
    "print(f\"\\nString with the use of Triple Quotes: {str2}\")\n"
   ]
  },
  {
   "cell_type": "code",
   "execution_count": null,
   "metadata": {},
   "outputs": [],
   "source": []
  }
 ],
 "metadata": {
  "kernelspec": {
   "display_name": "Python 3 (ipykernel)",
   "language": "python",
   "name": "python3"
  },
  "language_info": {
   "codemirror_mode": {
    "name": "ipython",
    "version": 3
   },
   "file_extension": ".py",
   "mimetype": "text/x-python",
   "name": "python",
   "nbconvert_exporter": "python",
   "pygments_lexer": "ipython3",
   "version": "3.8.5"
  }
 },
 "nbformat": 4,
 "nbformat_minor": 1
}
