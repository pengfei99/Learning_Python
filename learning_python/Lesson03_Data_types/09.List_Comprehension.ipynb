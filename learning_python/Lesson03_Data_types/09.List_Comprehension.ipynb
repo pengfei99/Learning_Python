{
 "cells": [
  {
   "cell_type": "markdown",
   "metadata": {
    "collapsed": true,
    "pycharm": {
     "name": "#%% md\n"
    }
   },
   "source": [
    "# 09 Python List Comprehension\n",
    "\n",
    "In this article, we will learn about Python list comprehensions, and how to use it.\n",
    "\n",
    "\n",
    "## 9.1 Introduction\n",
    "To populate s list, the most common way is to use a **for loop**\n",
    "Below is an example"
   ]
  },
  {
   "cell_type": "code",
   "execution_count": 1,
   "outputs": [
    {
     "name": "stdout",
     "output_type": "stream",
     "text": [
      "['h', 'e', 'l', 'l', 'o', 'w', 'o', 'r', 'd']\n"
     ]
    }
   ],
   "source": [
    "c_list = []\n",
    "\n",
    "word = \"helloword\"\n",
    "\n",
    "for c in word:\n",
    "    c_list.append(c)\n",
    "\n",
    "print(c_list)"
   ],
   "metadata": {
    "collapsed": false,
    "pycharm": {
     "name": "#%%\n"
    }
   }
  },
  {
   "cell_type": "markdown",
   "source": [
    "With list comprehension, we can transform the above code into one liner"
   ],
   "metadata": {
    "collapsed": false,
    "pycharm": {
     "name": "#%% md\n"
    }
   }
  },
  {
   "cell_type": "code",
   "execution_count": 2,
   "outputs": [
    {
     "name": "stdout",
     "output_type": "stream",
     "text": [
      "['h', 'e', 'l', 'l', 'o', 'w', 'o', 'r', 'd']\n"
     ]
    }
   ],
   "source": [
    "cc_list = [c for c in word]\n",
    "\n",
    "print(cc_list)"
   ],
   "metadata": {
    "collapsed": false,
    "pycharm": {
     "name": "#%%\n"
    }
   }
  },
  {
   "cell_type": "markdown",
   "source": [
    "The syntanx of list comprehension is, which includes three elements:\n",
    "\n",
    "```python\n",
    "[expression for member in iterable]\n",
    "```\n",
    "\n",
    "\n",
    "- expression: is the member itself, a call to a method, or any other valid expression that returns a value.\n",
    "- member: is the object or value in the list or iterable. In the example above, the member value is i.\n",
    "- iterable: is a list, set, sequence, generator, or any other object that can return its elements one at a time.\n",
    "\n",
    "In above example, you can notice **variable word** is a string, not a list. This is the power of list comprehension. It can use any object that are **iterable**.\n",
    "Go check section 08.Iteration, if you don't know how to check if an object is iterable.\n",
    "\n",
    "Below example also works, because os.listdir returns a list. So we can get a list of files of current directory in one line"
   ],
   "metadata": {
    "collapsed": false,
    "pycharm": {
     "name": "#%% md\n"
    }
   }
  },
  {
   "cell_type": "code",
   "execution_count": 10,
   "outputs": [
    {
     "data": {
      "text/plain": "['07.Slicing_collections.ipynb',\n '02.List.ipynb',\n '04.Set.ipynb',\n '03.Tuple.ipynb',\n '09.List_Comprehension.ipynb',\n '06.Array.ipynb',\n '05.Dictionary.ipynb',\n '08.Iteration.ipynb',\n '01.Set_String.ipynb']"
     },
     "execution_count": 10,
     "metadata": {},
     "output_type": "execute_result"
    }
   ],
   "source": [
    "import os\n",
    "\n",
    "[d for d in os.listdir('.')]"
   ],
   "metadata": {
    "collapsed": false,
    "pycharm": {
     "name": "#%%\n"
    }
   }
  },
  {
   "cell_type": "markdown",
   "source": [
    "## 9.2 More complexe expression\n",
    "\n",
    "In previous example, we use the simplest example (i.e item of the iteration). We can use more complex expression."
   ],
   "metadata": {
    "collapsed": false,
    "pycharm": {
     "name": "#%% md\n"
    }
   }
  },
  {
   "cell_type": "code",
   "execution_count": 4,
   "outputs": [
    {
     "name": "stdout",
     "output_type": "stream",
     "text": [
      "[30, 40, 50, 60, 70, 80, 90, 100, 110]\n"
     ]
    }
   ],
   "source": [
    "# here the expression is (x+2)*10\n",
    "num_list = [(x + 2) * 10 for x in range(1, 10)]\n",
    "print(num_list)"
   ],
   "metadata": {
    "collapsed": false,
    "pycharm": {
     "name": "#%%\n"
    }
   }
  },
  {
   "cell_type": "markdown",
   "source": [
    "In below example, we iterate over key and value of a dict, and use string template to build a new list of string"
   ],
   "metadata": {
    "collapsed": false,
    "pycharm": {
     "name": "#%% md\n"
    }
   }
  },
  {
   "cell_type": "code",
   "execution_count": 6,
   "outputs": [
    {
     "name": "stdout",
     "output_type": "stream",
     "text": [
      "['The book nature, has price 10', 'The book monster, has price 20', 'The book davinci code, has price 30']\n"
     ]
    }
   ],
   "source": [
    "books = {\"nature\": 10, \"monster\": 20, \"davinci code\": 30}\n",
    "\n",
    "my_book_list = [f\"The book {k} has price {v}\" for k, v in books.items()]\n",
    "\n",
    "print(my_book_list)"
   ],
   "metadata": {
    "collapsed": false,
    "pycharm": {
     "name": "#%%\n"
    }
   }
  },
  {
   "cell_type": "markdown",
   "source": [
    "You can also call other function in the expression. Below example will transform all string to lower case"
   ],
   "metadata": {
    "collapsed": false,
    "pycharm": {
     "name": "#%% md\n"
    }
   }
  },
  {
   "cell_type": "code",
   "execution_count": 7,
   "outputs": [
    {
     "name": "stdout",
     "output_type": "stream",
     "text": [
      "['toto', 'titi', 'tata']\n"
     ]
    }
   ],
   "source": [
    "words = [\"ToTo\", \"TITI\", \"tAtA\"]\n",
    "\n",
    "new_words = [word.lower() for word in words]\n",
    "print(new_words)"
   ],
   "metadata": {
    "collapsed": false,
    "pycharm": {
     "name": "#%%\n"
    }
   }
  },
  {
   "cell_type": "markdown",
   "source": [
    "## 9.3 Conditionals in List Comprehension\n",
    "\n",
    "We can use conditionals in expression or after for loop.\n",
    "\n",
    "\n",
    "### 9.3.1 Conditionals after for loop\n",
    "\n",
    "If we put the conditionals (i.e. if) after the for loop, it works like a filter of the for loop. Below example returns a list of even number between 0 and 10.\n",
    "For each item in the list, it checks the if condition, if condition is true, then return x, otherwise omit the item. That's why **we can't have else statement** after if. Because in that case, it will return all items with else, it's a useless filter."
   ],
   "metadata": {
    "collapsed": false,
    "pycharm": {
     "name": "#%% md\n"
    }
   }
  },
  {
   "cell_type": "code",
   "execution_count": 11,
   "outputs": [
    {
     "name": "stdout",
     "output_type": "stream",
     "text": [
      "[0, 2, 4, 6, 8]\n"
     ]
    }
   ],
   "source": [
    "even = [x for x in range(0, 10) if x % 2 == 0]\n",
    "print(even)"
   ],
   "metadata": {
    "collapsed": false,
    "pycharm": {
     "name": "#%%\n"
    }
   }
  },
  {
   "cell_type": "markdown",
   "source": [
    "### 9.3.2 Conditionals before for loop (if in expression)\n",
    "If we put the conditionals before for loop inside the expression, **we must have the else statement**. Because, it's an expression to determine the value of x, if we only have if without else, we can't determine the value of x in the case when if condition is false.\n",
    "\n",
    "Try below example, then try to remove else statement"
   ],
   "metadata": {
    "collapsed": false,
    "pycharm": {
     "name": "#%% md\n"
    }
   }
  },
  {
   "cell_type": "code",
   "execution_count": 12,
   "outputs": [
    {
     "name": "stdout",
     "output_type": "stream",
     "text": [
      "[-1, 2, -3, 4, -5, 6, -7, 8, -9]\n"
     ]
    }
   ],
   "source": [
    "n_even = [x if x % 2 == 0 else -x for x in range(1, 10)]\n",
    "print(n_even)"
   ],
   "metadata": {
    "collapsed": false,
    "pycharm": {
     "name": "#%%\n"
    }
   }
  },
  {
   "cell_type": "markdown",
   "source": [
    "### 9.3.3 Nested conditionals\n",
    "\n",
    "You can have if after(inside) another if statement. Try below example"
   ],
   "metadata": {
    "collapsed": false,
    "pycharm": {
     "name": "#%% md\n"
    }
   }
  },
  {
   "cell_type": "code",
   "execution_count": 14,
   "outputs": [
    {
     "name": "stdout",
     "output_type": "stream",
     "text": [
      "[2, 4]\n"
     ]
    }
   ],
   "source": [
    "even_small = [x for x in range(1, 10) if x % 2 == 0 if x < 5]\n",
    "print(even_small)"
   ],
   "metadata": {
    "collapsed": false,
    "pycharm": {
     "name": "#%%\n"
    }
   }
  },
  {
   "cell_type": "markdown",
   "source": [
    "Here, list comprehension checks:\n",
    "\n",
    "Is x divisible by 2 or not?\n",
    "Is x is smaller than 5 or not?\n",
    "If x satisfies both conditions, x is appended to the list\n",
    "\n",
    "In most of the case, the **nested if** can be replaced by the and operator."
   ],
   "metadata": {
    "collapsed": false,
    "pycharm": {
     "name": "#%% md\n"
    }
   }
  },
  {
   "cell_type": "code",
   "execution_count": 15,
   "outputs": [
    {
     "name": "stdout",
     "output_type": "stream",
     "text": [
      "[2, 4]\n"
     ]
    }
   ],
   "source": [
    "even_small = [x for x in range(1, 10) if x % 2 == 0 and x < 5]\n",
    "print(even_small)"
   ],
   "metadata": {
    "collapsed": false,
    "pycharm": {
     "name": "#%%\n"
    }
   }
  },
  {
   "cell_type": "markdown",
   "source": [
    "## 9.4 Nested loop\n",
    "\n",
    "We can also have multiple **for loop** in one list comprehension and combine the iterator in the expression\n",
    "\n",
    "Check below example, it's similar to\n",
    "\n",
    "```python\n",
    "for key in keys:\n",
    "    for value in values:\n",
    "    (key,value)\n",
    "```"
   ],
   "metadata": {
    "collapsed": false,
    "pycharm": {
     "name": "#%% md\n"
    }
   }
  },
  {
   "cell_type": "code",
   "execution_count": 5,
   "outputs": [
    {
     "name": "stdout",
     "output_type": "stream",
     "text": [
      "[(0, 'a'), (0, 'b'), (0, 'c'), (0, 'd'), (0, 'e'), (1, 'a'), (1, 'b'), (1, 'c'), (1, 'd'), (1, 'e'), (2, 'a'), (2, 'b'), (2, 'c'), (2, 'd'), (2, 'e'), (3, 'a'), (3, 'b'), (3, 'c'), (3, 'd'), (3, 'e')]\n"
     ]
    }
   ],
   "source": [
    "keys = list(range(0, 4))\n",
    "values = ['a', 'b', 'c', 'd', 'e']\n",
    "\n",
    "my_dict = [(key, value) for key in keys for value in values]\n",
    "\n",
    "print(my_dict)"
   ],
   "metadata": {
    "collapsed": false,
    "pycharm": {
     "name": "#%%\n"
    }
   }
  },
  {
   "cell_type": "markdown",
   "source": [
    "We can also use nested loop to iterate two dimension list(matrix). Below example, we pivot a matrix"
   ],
   "metadata": {
    "collapsed": false,
    "pycharm": {
     "name": "#%% md\n"
    }
   }
  },
  {
   "cell_type": "code",
   "execution_count": 16,
   "outputs": [
    {
     "name": "stdout",
     "output_type": "stream",
     "text": [
      "[[1, 4], [2, 5], [3, 6], [4, 8]]\n"
     ]
    }
   ],
   "source": [
    "transposed = []\n",
    "matrix = [[1, 2, 3, 4], [4, 5, 6, 8]]\n",
    "\n",
    "for i in range(len(matrix[0])):\n",
    "    transposed_row = []\n",
    "\n",
    "    for row in matrix:\n",
    "        transposed_row.append(row[i])\n",
    "    transposed.append(transposed_row)\n",
    "\n",
    "print(transposed)"
   ],
   "metadata": {
    "collapsed": false,
    "pycharm": {
     "name": "#%%\n"
    }
   }
  },
  {
   "cell_type": "markdown",
   "source": [
    "The above code use two for loops to find transpose of the matrix.\n",
    "\n",
    "We can also perform nested iteration inside a list comprehension. Below example convert the pivoted matrix back to origin.\n"
   ],
   "metadata": {
    "collapsed": false,
    "pycharm": {
     "name": "#%% md\n"
    }
   }
  },
  {
   "cell_type": "code",
   "execution_count": 18,
   "outputs": [
    {
     "name": "stdout",
     "output_type": "stream",
     "text": [
      "[[1, 2, 3, 4], [4, 5, 6, 8]]\n"
     ]
    }
   ],
   "source": [
    "origin = [[row[i] for row in transposed] for i in range(len(transposed[0]))]\n",
    "print(origin)"
   ],
   "metadata": {
    "collapsed": false,
    "pycharm": {
     "name": "#%%\n"
    }
   }
  },
  {
   "cell_type": "markdown",
   "source": [
    "**Note: The nested loops in list comprehension don’t work like normal nested loops. In the above program, for i in range(len(transposed[0])) is executed before row[i] for row in transposed. Hence at first, a value is assigned to i then item directed by row[i] is appended in the transpose variable.\n"
   ],
   "metadata": {
    "collapsed": false,
    "pycharm": {
     "name": "#%% md\n"
    }
   }
  },
  {
   "cell_type": "markdown",
   "source": [
    "## 9.5 Performance evaluation\n",
    "\n",
    "If you’re in a scenario where performance is important, then it’s typically best to profile different approaches and listen to the data. In below example, we will use three different approach to create list:\n",
    "- map()\n",
    "- list comprehensions\n",
    "- for loops\n",
    "\n",
    "Then we use **timeit library** to time how long it takes for each approach."
   ],
   "metadata": {
    "collapsed": false,
    "pycharm": {
     "name": "#%% md\n"
    }
   }
  },
  {
   "cell_type": "code",
   "execution_count": 22,
   "outputs": [],
   "source": [
    "import random\n",
    "import timeit\n",
    "\n",
    "TAX_RATE = .08\n",
    "price_base_list = [random.randrange(100) for _ in range(100000)]\n",
    "\n",
    "\n",
    "def get_price(price_base):\n",
    "    return price_base * (1 + TAX_RATE)\n",
    "\n",
    "\n",
    "def get_price_with_map():\n",
    "    return list(map(get_price, price_base_list))\n",
    "\n",
    "\n",
    "def get_price_with_comprehension():\n",
    "    return [get_price(price_base) for price_base in price_base_list]\n",
    "\n",
    "\n",
    "def get_price_with_for_loop():\n",
    "    final_p = []\n",
    "    for price_base in price_base_list:\n",
    "        final_p.append(get_price(price_base))\n",
    "    return final_p"
   ],
   "metadata": {
    "collapsed": false,
    "pycharm": {
     "name": "#%%\n"
    }
   }
  },
  {
   "cell_type": "code",
   "execution_count": 25,
   "outputs": [
    {
     "name": "stdout",
     "output_type": "stream",
     "text": [
      "map approach latency: 1.0384298659992055\n",
      "comprehension approach latency: 1.0716002180015494\n",
      "for approach latency: 1.245370938002452\n"
     ]
    }
   ],
   "source": [
    "map_latency=timeit.timeit(get_price_with_map,number=100)\n",
    "comprehension_latency=timeit.timeit(get_price_with_comprehension,number=100)\n",
    "for_latency=timeit.timeit(get_price_with_for_loop,number=100)\n",
    "\n",
    "print(f\"map approach latency: {str(map_latency)}\")\n",
    "print(f\"comprehension approach latency: {str(comprehension_latency)}\")\n",
    "print(f\"for approach latency: {str(for_latency)}\")"
   ],
   "metadata": {
    "collapsed": false,
    "pycharm": {
     "name": "#%%\n"
    }
   }
  },
  {
   "cell_type": "markdown",
   "source": [
    "Here, we define three methods that each use a different approach for creating a list. Then, we tell timeit to run each of those functions 100 times each. timeit returns the total time it took to run those 100 executions.\n",
    "\n",
    "As the code demonstrates, the biggest difference is between the loop-based approach and map(), with the loop taking much longer to execute."
   ],
   "metadata": {
    "collapsed": false,
    "pycharm": {
     "name": "#%% md\n"
    }
   }
  },
  {
   "cell_type": "markdown",
   "source": [
    "## 9.6 Key Points to Remember\n",
    "- List comprehension is an elegant way to define and create lists based on existing iterable objects.\n",
    "- List comprehension is generally more compact and faster than normal functions and loops for creating list.\n",
    "- However, we should avoid writing very long list comprehensions in one line to ensure that code is user-friendly.\n",
    "- Remember, every list comprehension can be rewritten in for loop, but every for loop can’t be rewritten in the form of list comprehension."
   ],
   "metadata": {
    "collapsed": false,
    "pycharm": {
     "name": "#%% md\n"
    }
   }
  },
  {
   "cell_type": "markdown",
   "source": [
    "## 9.7 Exercise\n",
    "\n",
    "We have a list mixed with string, int, and boolean. We want to transform all string to lower case\n",
    "\n",
    "```python\n",
    "ex_list=['Hello', 'World', 18, 'Apple', None, True]\n",
    "```\n"
   ],
   "metadata": {
    "collapsed": false,
    "pycharm": {
     "name": "#%% md\n"
    }
   }
  },
  {
   "cell_type": "code",
   "execution_count": 20,
   "outputs": [
    {
     "name": "stdout",
     "output_type": "stream",
     "text": [
      "<class 'str'>\n",
      "<class 'str'>\n",
      "<class 'int'>\n",
      "<class 'str'>\n",
      "<class 'NoneType'>\n",
      "<class 'bool'>\n"
     ]
    }
   ],
   "source": [
    "ex_list = ['HellO', 'WorLd', 18, 'Apple', None, True]\n",
    "for item in ex_list:\n",
    "    print(type(item))"
   ],
   "metadata": {
    "collapsed": false,
    "pycharm": {
     "name": "#%%\n"
    }
   }
  },
  {
   "cell_type": "code",
   "execution_count": 21,
   "outputs": [
    {
     "name": "stdout",
     "output_type": "stream",
     "text": [
      "['hello', 'world', 18, 'apple', None, True]\n"
     ]
    }
   ],
   "source": [
    "result = [x.lower() if isinstance(x, str) else x for x in ex_list]\n",
    "print(result)"
   ],
   "metadata": {
    "collapsed": false,
    "pycharm": {
     "name": "#%%\n"
    }
   }
  },
  {
   "cell_type": "code",
   "execution_count": null,
   "outputs": [],
   "source": [],
   "metadata": {
    "collapsed": false,
    "pycharm": {
     "name": "#%%\n"
    }
   }
  }
 ],
 "metadata": {
  "kernelspec": {
   "display_name": "Python 3",
   "language": "python",
   "name": "python3"
  },
  "language_info": {
   "codemirror_mode": {
    "name": "ipython",
    "version": 2
   },
   "file_extension": ".py",
   "mimetype": "text/x-python",
   "name": "python",
   "nbconvert_exporter": "python",
   "pygments_lexer": "ipython2",
   "version": "2.7.6"
  }
 },
 "nbformat": 4,
 "nbformat_minor": 0
}