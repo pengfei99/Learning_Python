{
 "cells": [
  {
   "cell_type": "markdown",
   "source": [
    "# 3. SQLAlchemy orm\n",
    "\n",
    "The main objective of the Object Relational Mapper API of SQLAlchemy is to facilitate associating user-defined Python classes with database tables, and objects of those classes with rows in their corresponding tables. Changes in states of objects and rows are synchronously matched with each other. SQLAlchemy enables expressing database queries in terms of user defined classes and their defined relationships.\n",
    "\n",
    "## 3.1 Declare mapping\n",
    "\n",
    "In case of ORM, the configuration process starts by\n",
    "- describing the database tables\n",
    "- defining classes which will be mapped to those tables.\n",
    "\n",
    "In SQLAlchemy, these two tasks are performed together. This is done by using Declarative system; the classes created include directives to describe the actual database table they are mapped to."
   ],
   "metadata": {
    "collapsed": false
   }
  },
  {
   "cell_type": "code",
   "execution_count": 1,
   "outputs": [],
   "source": [
    "from sqlalchemy import create_engine\n",
    "base_path=\"../../../data/orm_test.db\"\n",
    "db_url=f\"sqlite:///{base_path}\"\n",
    "# echo(default is false) when set to True will generate the activity log\n",
    "# Below command will create the sqlite db, if not existed\n",
    "# create_engine() will return an engine object.\n",
    "# The Engine establishes a real DBAPI connection to the database when\n",
    "# a method like Engine.execute() or Engine.connect() is called.\n",
    "engine = create_engine(db_url, echo = True)"
   ],
   "metadata": {
    "collapsed": false
   }
  },
  {
   "cell_type": "markdown",
   "source": [
    "Below code create a `base class`, which stores a catalog of classes and mapped tables in the Declarative system. This is called as the declarative base class. There will be usually just one instance of this base in a commonly imported module. The declarative_base() function is used to create base class. This function is defined in sqlalchemy.ext.declarative module."
   ],
   "metadata": {
    "collapsed": false
   }
  },
  {
   "cell_type": "code",
   "execution_count": 2,
   "outputs": [],
   "source": [
    "from sqlalchemy.ext.declarative import declarative_base\n",
    "Base = declarative_base()"
   ],
   "metadata": {
    "collapsed": false
   }
  },
  {
   "cell_type": "markdown",
   "source": [
    "A table object mapper class in Declarative must have a **__tablename__** attribute, and **at least one Column** which is part of a primary key. Declarative replaces all the Column objects with special Python accessors known as `descriptors`. In below example, we have two types of descriptors:\n",
    "- column\n",
    "- relationship\n",
    "\n",
    "All the descriptors will be stored in **Base.metadata**"
   ],
   "metadata": {
    "collapsed": false
   }
  },
  {
   "cell_type": "code",
   "execution_count": 3,
   "outputs": [],
   "source": [
    "from sqlalchemy.orm import backref, relationship\n",
    "from sqlalchemy import Column, Integer,String, SmallInteger, Text, DateTime, ForeignKey\n",
    "\n",
    "# One-to-many relation\n",
    "# Having a ForeignKey defines the existence of the relationship between Cohort and\n",
    "# Dataset.\n",
    "# Below code defines a parent-child collection. The datasets attribute being plural\n",
    "# (which is not a requirement, just a convention) is an indication that it’s a collection.\n",
    "# The first parameter is the class name Dataset (which is not the table name dataset), is the\n",
    "# class to which the datasets attribute is related. The relationship informs SQLAlchemy that\n",
    "# there’s a relationship between the **Cohort and Dataset classes**. SQLAlchemy will find the\n",
    "# relationship in the Dataset class definition (line 3 of Dataset class)\n",
    "# The backref parameter creates an author attribute for each Book instance. This attribute refers\n",
    "# to the parent Author that the Book instance is related to.\n",
    "\n",
    "class Cohort(Base):\n",
    "    __tablename__='cohort'\n",
    "\n",
    "    id=Column(Integer,primary_key=True)\n",
    "    cname=Column(String)\n",
    "    datasets=relationship(\"Dataset\", backref=backref(\"cohort\"))"
   ],
   "metadata": {
    "collapsed": false
   }
  },
  {
   "cell_type": "code",
   "execution_count": 4,
   "outputs": [],
   "source": [
    "class Dataset(Base):\n",
    "    __tablename__=\"dataset\"\n",
    "\n",
    "    id=Column(Integer,primary_key=True)\n",
    "    cohort_id=Column(Integer, ForeignKey(\"cohort.id\"))\n",
    "    year= Column(Integer)\n",
    "    name = Column(String)\n",
    "    location = Column(String)\n",
    "    status = Column(SmallInteger)\n",
    "    validation_tasks=relationship(\"ValidationTask\",backref=backref(\"dataset\"))"
   ],
   "metadata": {
    "collapsed": false
   }
  },
  {
   "cell_type": "code",
   "execution_count": 5,
   "outputs": [],
   "source": [
    "class Descriptor(Base):\n",
    "    __tablename__=\"descriptor\"\n",
    "\n",
    "    id=Column(Integer,primary_key=True)\n",
    "    dataset_id=Column(Integer, ForeignKey(\"dataset.id\"))\n",
    "    name = Column(String)\n",
    "    location = Column(String)"
   ],
   "metadata": {
    "collapsed": false
   }
  },
  {
   "cell_type": "code",
   "execution_count": 6,
   "outputs": [],
   "source": [
    "class ValidationRule(Base):\n",
    "    __tablename__=\"validation_rule\"\n",
    "\n",
    "    id=Column(Integer,primary_key=True)\n",
    "    name = Column(String)\n",
    "    description=Column(Text)\n",
    "    args= Column(String)\n",
    "    kwargs= Column(String)\n",
    "    validation_tasks=relationship(\"ValidationTask\",backref=backref(\"validation_rule\"))"
   ],
   "metadata": {
    "collapsed": false
   }
  },
  {
   "cell_type": "code",
   "execution_count": 7,
   "outputs": [],
   "source": [
    "class ValidationTask(Base):\n",
    "    __tablename__=\"validation_task\"\n",
    "\n",
    "    id=Column(Integer,primary_key=True)\n",
    "    start_date=Column(DateTime)\n",
    "    end_date=Column(DateTime)\n",
    "    dataset_id=Column(Integer, ForeignKey(\"dataset.id\"))\n",
    "    validation_rule_id=Column(Integer,ForeignKey(\"validation_rule.id\"))\n",
    "    task_status = Column(SmallInteger)\n",
    "    output = Column(Text)\n"
   ],
   "metadata": {
    "collapsed": false
   }
  },
  {
   "cell_type": "code",
   "execution_count": 8,
   "outputs": [
    {
     "name": "stdout",
     "output_type": "stream",
     "text": [
      "2023-01-02 09:02:31,981 INFO sqlalchemy.engine.Engine BEGIN (implicit)\n",
      "2023-01-02 09:02:31,982 INFO sqlalchemy.engine.Engine PRAGMA main.table_info(\"cohort\")\n",
      "2023-01-02 09:02:31,983 INFO sqlalchemy.engine.Engine [raw sql] ()\n",
      "2023-01-02 09:02:31,984 INFO sqlalchemy.engine.Engine PRAGMA main.table_info(\"dataset\")\n",
      "2023-01-02 09:02:31,984 INFO sqlalchemy.engine.Engine [raw sql] ()\n",
      "2023-01-02 09:02:31,985 INFO sqlalchemy.engine.Engine PRAGMA main.table_info(\"descriptor\")\n",
      "2023-01-02 09:02:31,986 INFO sqlalchemy.engine.Engine [raw sql] ()\n",
      "2023-01-02 09:02:31,986 INFO sqlalchemy.engine.Engine PRAGMA main.table_info(\"validation_rule\")\n",
      "2023-01-02 09:02:31,987 INFO sqlalchemy.engine.Engine [raw sql] ()\n",
      "2023-01-02 09:02:31,988 INFO sqlalchemy.engine.Engine PRAGMA main.table_info(\"validation_task\")\n",
      "2023-01-02 09:02:31,990 INFO sqlalchemy.engine.Engine [raw sql] ()\n",
      "2023-01-02 09:02:31,997 INFO sqlalchemy.engine.Engine COMMIT\n"
     ]
    }
   ],
   "source": [
    "Base.metadata.create_all(engine)"
   ],
   "metadata": {
    "collapsed": false
   }
  },
  {
   "cell_type": "markdown",
   "source": [
    "## 3.2 Session\n",
    "\n",
    "In order to interact with the database, we need to obtain its handle. A **session object** is the handle to database. Session class is defined using **sessionmaker()**  a configurable session factory method which is bound to the `engine object`."
   ],
   "metadata": {
    "collapsed": false
   }
  },
  {
   "cell_type": "code",
   "execution_count": 8,
   "outputs": [],
   "source": [
    "from sqlalchemy.orm import sessionmaker\n",
    "Session = sessionmaker(bind = engine)"
   ],
   "metadata": {
    "collapsed": false
   }
  },
  {
   "cell_type": "code",
   "execution_count": 9,
   "outputs": [],
   "source": [
    "session = Session()"
   ],
   "metadata": {
    "collapsed": false
   }
  },
  {
   "cell_type": "markdown",
   "source": [
    "### 3.2.1 Insert rows by using session\n",
    "\n",
    "Session class provides two function to add rows into tables\n",
    "- .add(): add one entry a time\n",
    "- .add_all(): add a list of entry\n"
   ],
   "metadata": {
    "collapsed": false
   }
  },
  {
   "cell_type": "code",
   "execution_count": 11,
   "outputs": [],
   "source": [
    "c1=Cohort(id=0,cname=\"breast_cancer\")\n",
    "session.add(c1)"
   ],
   "metadata": {
    "collapsed": false
   }
  },
  {
   "cell_type": "code",
   "execution_count": 12,
   "outputs": [
    {
     "name": "stdout",
     "output_type": "stream",
     "text": [
      "2022-12-12 14:29:36,510 INFO sqlalchemy.engine.Engine BEGIN (implicit)\n",
      "2022-12-12 14:29:36,513 INFO sqlalchemy.engine.Engine INSERT INTO cohort (id, cname) VALUES (?, ?)\n",
      "2022-12-12 14:29:36,514 INFO sqlalchemy.engine.Engine [generated in 0.00060s] (0, 'breast_cancer')\n",
      "2022-12-12 14:29:36,515 INFO sqlalchemy.engine.Engine COMMIT\n"
     ]
    }
   ],
   "source": [
    "# Note that the above transaction is pending until the same is flushed using commit() method.\n",
    "session.commit()"
   ],
   "metadata": {
    "collapsed": false
   }
  },
  {
   "cell_type": "code",
   "execution_count": 13,
   "outputs": [],
   "source": [
    "c2=Cohort(id=1,cname=\"colon_cancer\")\n",
    "d1=Dataset(id=1,cohort_id=0,year=2019,name=\"breast_clinical_meds.csv\",location=\"s3://minio.casd.local/data/casd_cancer\",status=0)\n",
    "\n",
    "d2=Dataset(id=2,cohort_id=0,year=2018,name=\"breast_cancer_death_rate.csv\",location=\"s3://minio.casd.local/data/casd_cancer\",status=0)\n",
    "\n",
    "session.add_all([c2,d1,d2])"
   ],
   "metadata": {
    "collapsed": false
   }
  },
  {
   "cell_type": "code",
   "execution_count": 14,
   "outputs": [
    {
     "name": "stdout",
     "output_type": "stream",
     "text": [
      "2022-12-12 14:39:05,666 INFO sqlalchemy.engine.Engine BEGIN (implicit)\n",
      "2022-12-12 14:39:05,667 INFO sqlalchemy.engine.Engine INSERT INTO cohort (id, cname) VALUES (?, ?)\n",
      "2022-12-12 14:39:05,668 INFO sqlalchemy.engine.Engine [cached since 569.2s ago] (1, 'colon_cancer')\n",
      "2022-12-12 14:39:05,670 INFO sqlalchemy.engine.Engine INSERT INTO dataset (id, cohort_id, year, name, location, status) VALUES (?, ?, ?, ?, ?, ?)\n",
      "2022-12-12 14:39:05,670 INFO sqlalchemy.engine.Engine [generated in 0.00082s] ((1, 0, 2019, 'breast_clinical_meds.csv', 's3://minio.casd.local/data/casd_cancer', 0), (2, 0, 2018, 'breast_cancer_death_rate.csv', 's3://minio.casd.local/data/casd_cancer', 0))\n",
      "2022-12-12 14:39:05,671 INFO sqlalchemy.engine.Engine COMMIT\n"
     ]
    }
   ],
   "source": [
    "session.commit()"
   ],
   "metadata": {
    "collapsed": false
   }
  },
  {
   "cell_type": "markdown",
   "source": [
    "### 3.2.2 Other useful method\n",
    "\n",
    "Session is the major way to interact with a db via `SQLAlchemy ORM`. It provides many methods to add, delete and update record/row of a table. Some frequently required methods of session class are listed below:\n",
    "\n",
    "- begin(): begins a transaction on this session\n",
    "\n",
    "- add(): places an object in the session. Its state is persisted in the database on next flush operation\n",
    "- add_all(): adds a collection of objects to the session\n",
    "\n",
    "- commit(): flushes all items and any transaction in progress\n",
    "\n",
    "- delete(): marks a transaction as deleted\n",
    "\n",
    "- execute(): executes a SQL expression\n",
    "\n",
    "- expire(): marks attributes of an instance as out of date\n",
    "\n",
    "- flush(): flushes all object changes to the database\n",
    "\n",
    "- invalidate(): closes the session using connection invalidation\n",
    "\n",
    "- rollback(): rolls back the current transaction in progress\n",
    "- close(): Closes current session by clearing all items and ending any transaction in progress"
   ],
   "metadata": {
    "collapsed": false
   }
  },
  {
   "cell_type": "markdown",
   "source": [
    "### 3.2.2 Querying tables\n",
    "\n",
    "All `SELECT statements generated by SQLAlchemy ORM are constructed by Query object`. It provides a generative interface, hence successive calls return a new Query object, a copy of the former with additional criteria and options associated with it.\n",
    "\n",
    "Query objects are initially generated using the query() method of the Session as follows\n",
    "\n",
    "```python\n",
    "q = session.query(mapped class)\n",
    "\n",
    "# below statement is also equivalent to the above given statement\n",
    "q = Query(mappedClass, session)\n",
    "```"
   ],
   "metadata": {
    "collapsed": false
   }
  },
  {
   "cell_type": "code",
   "execution_count": 12,
   "outputs": [
    {
     "name": "stdout",
     "output_type": "stream",
     "text": [
      "2023-01-02 09:03:12,168 INFO sqlalchemy.engine.Engine SELECT cohort.id AS cohort_id, cohort.cname AS cohort_cname \n",
      "FROM cohort\n",
      "2023-01-02 09:03:12,171 INFO sqlalchemy.engine.Engine [cached since 15.59s ago] ()\n",
      "Id:  0 | Name:  breast_cancer\n",
      "Id:  1 | Name:  colon_cancer\n",
      "Id:  2 | Name:  HIS\n",
      "Id:  3 | Name:  Hyper_tension\n"
     ]
    }
   ],
   "source": [
    "result = session.query(Cohort).all()\n",
    "\n",
    "for row in result:\n",
    "    print(\"Id: \", row.id, \"| Name: \", row.cname)"
   ],
   "metadata": {
    "collapsed": false
   }
  },
  {
   "cell_type": "markdown",
   "source": [
    "#### Other usefully function of query object\n",
    "\n",
    "1. add_columns(): It adds one or more column expressions to the list of result columns to be returned.\n",
    "\n",
    "2. add_entity(): It adds a mapped entity to the list of result columns to be returned.\n",
    "\n",
    "3. count(): It returns a count of rows this Query would return.\n",
    "\n",
    "4. delete(): It performs a bulk delete query. Deletes rows matched by this query from the database.\n",
    "\n",
    "5. distinct(): It applies a DISTINCT clause to the query and return the newly resulting Query.\n",
    "\n",
    "6. filter(): It applies the given filtering criterion to a copy of this Query, using SQL expressions.\n",
    "7. first(): It returns the first result of this Query or None if the result doesn’t contain any row.\n",
    "8. get(): It returns an instance based on the given primary key identifier providing direct access to the identity map of the owning Session.\n",
    "9. group_by() : It applies one or more GROUP BY criterion to the query and return the newly resulting Query\n",
    "10. join(): It creates a SQL JOIN against this Query object’s criterion and apply generatively, returning the newly resulting Query.\n",
    "11. one(): It returns exactly one result or raise an exception.\n",
    "\n",
    "12. order_by(): It applies one or more ORDER BY criterion to the query and returns the newly resulting Query.\n",
    "\n",
    "13. update(): It performs a bulk update query and updates rows matched by this query in the database."
   ],
   "metadata": {
    "collapsed": false
   }
  },
  {
   "cell_type": "code",
   "execution_count": 17,
   "outputs": [
    {
     "name": "stdout",
     "output_type": "stream",
     "text": [
      "Id:  0 , Name:  breast_cancer\n"
     ]
    }
   ],
   "source": [
    "# get the cohort with primary key=0\n",
    "row= session.query(Cohort).get(0)\n",
    "print(\"Id: \", row.id, \", Name: \", row.cname)"
   ],
   "metadata": {
    "collapsed": false
   }
  },
  {
   "cell_type": "code",
   "execution_count": 18,
   "outputs": [
    {
     "name": "stdout",
     "output_type": "stream",
     "text": [
      "2022-12-12 14:57:47,593 INFO sqlalchemy.engine.Engine SELECT count(*) AS count_1 \n",
      "FROM (SELECT cohort.id AS cohort_id, cohort.cname AS cohort_cname \n",
      "FROM cohort) AS anon_1\n",
      "2022-12-12 14:57:47,602 INFO sqlalchemy.engine.Engine [generated in 0.00842s] ()\n",
      "Cohort table has 2 rows\n"
     ]
    }
   ],
   "source": [
    "# get the row number of cohort table\n",
    "count=session.query(Cohort).count()\n",
    "print(f\"Cohort table has {count} rows\")"
   ],
   "metadata": {
    "collapsed": false
   }
  },
  {
   "cell_type": "markdown",
   "source": [
    "### 3.2.3 Updating values\n",
    "\n",
    "To update the value, you have two options:\n",
    "\n",
    "  - modify the attributes of the mapping object : Single row update\n",
    "  - Use Update(): bulk updates"
   ],
   "metadata": {
    "collapsed": false
   }
  },
  {
   "cell_type": "code",
   "execution_count": 19,
   "outputs": [
    {
     "name": "stdout",
     "output_type": "stream",
     "text": [
      "2022-12-12 15:19:53,249 INFO sqlalchemy.engine.Engine SELECT cohort.id AS cohort_id, cohort.cname AS cohort_cname \n",
      "FROM cohort\n",
      " LIMIT ? OFFSET ?\n",
      "2022-12-12 15:19:53,255 INFO sqlalchemy.engine.Engine [generated in 0.00626s] (1, 0)\n",
      "Id:  0 , Name:  breast_cancer\n"
     ]
    }
   ],
   "source": [
    "# Get the first row of cohort table\n",
    "first=session.query(Cohort).first()\n",
    "\n",
    "# before update value\n",
    "print(\"Id: \", first.id, \", Name: \", first.cname)"
   ],
   "metadata": {
    "collapsed": false
   }
  },
  {
   "cell_type": "code",
   "execution_count": 20,
   "outputs": [
    {
     "name": "stdout",
     "output_type": "stream",
     "text": [
      "Id:  0 , Name:  breast_cancer_2022\n"
     ]
    }
   ],
   "source": [
    "# Now we want to update the value cname\n",
    "first.cname=\"breast_cancer_2022\"\n",
    "\n",
    "# after the update\n",
    "print(\"Id: \", first.id, \", Name: \", first.cname)"
   ],
   "metadata": {
    "collapsed": false
   }
  },
  {
   "cell_type": "code",
   "execution_count": 21,
   "outputs": [
    {
     "name": "stdout",
     "output_type": "stream",
     "text": [
      "2022-12-12 15:24:49,660 INFO sqlalchemy.engine.Engine ROLLBACK\n",
      "2022-12-12 15:24:49,669 INFO sqlalchemy.engine.Engine BEGIN (implicit)\n",
      "2022-12-12 15:24:49,671 INFO sqlalchemy.engine.Engine SELECT cohort.id AS cohort_id, cohort.cname AS cohort_cname \n",
      "FROM cohort \n",
      "WHERE cohort.id = ?\n",
      "2022-12-12 15:24:49,681 INFO sqlalchemy.engine.Engine [generated in 0.00992s] (0,)\n",
      "Id:  0 , Name:  breast_cancer\n"
     ]
    }
   ],
   "source": [
    "# You can notice the value has been updated. What if you want to undo the changes. You can call rollback() method, which will restore the session to the state of last commit.\n",
    "\n",
    "# note all change after the last commit will be deleted.\n",
    "session.rollback()\n",
    "\n",
    "# after the rollback\n",
    "print(\"Id: \", first.id, \", Name: \", first.cname)"
   ],
   "metadata": {
    "collapsed": false
   }
  },
  {
   "cell_type": "code",
   "execution_count": 30,
   "outputs": [
    {
     "data": {
      "text/plain": "<sqlalchemy.orm.query.Query at 0x7fc15e2ea850>"
     },
     "execution_count": 30,
     "metadata": {},
     "output_type": "execute_result"
    }
   ],
   "source": [
    "from sqlalchemy import update\n",
    "\n",
    "# get all rows of Cohort\n",
    "session.query(Cohort).filter(Cohort.id!=0)\n"
   ],
   "metadata": {
    "collapsed": false
   }
  },
  {
   "cell_type": "markdown",
   "source": [
    "The update() method requires two parameters as follows:\n",
    "\n",
    "- A dictionary of key-values with key being the attribute to be updated, and value being the new contents of attribute.\n",
    "\n",
    "- synchronize_session attribute mentioning the strategy to update attributes in the session. Valid values are false: for not synchronizing the session, fetch: performs a select query before the update to find objects that are matched by the update query; and evaluate: evaluate criteria on objects in the session."
   ],
   "metadata": {
    "collapsed": false
   }
  },
  {
   "cell_type": "code",
   "execution_count": 31,
   "outputs": [
    {
     "ename": "ArgumentError",
     "evalue": "subject table for an INSERT, UPDATE or DELETE expected, got {<sqlalchemy.orm.attributes.InstrumentedAttribute object at 0x7fc177075ea0>: <sqlalchemy.sql.elements.BinaryExpression object at 0x7fc15e27f910>}.",
     "output_type": "error",
     "traceback": [
      "\u001B[0;31m---------------------------------------------------------------------------\u001B[0m",
      "\u001B[0;31mArgumentError\u001B[0m                             Traceback (most recent call last)",
      "Cell \u001B[0;32mIn [31], line 2\u001B[0m\n\u001B[1;32m      1\u001B[0m \u001B[38;5;66;03m# add a postfix value\u001B[39;00m\n\u001B[0;32m----> 2\u001B[0m \u001B[43mupdate\u001B[49m\u001B[43m(\u001B[49m\u001B[43m{\u001B[49m\u001B[43mCohort\u001B[49m\u001B[38;5;241;43m.\u001B[39;49m\u001B[43mcname\u001B[49m\u001B[43m:\u001B[49m\u001B[43mCohort\u001B[49m\u001B[38;5;241;43m.\u001B[39;49m\u001B[43mcname\u001B[49m\u001B[38;5;241;43m+\u001B[39;49m\u001B[38;5;124;43m\"\u001B[39;49m\u001B[38;5;124;43m_cohort\u001B[39;49m\u001B[38;5;124;43m\"\u001B[39;49m\u001B[43m}\u001B[49m\u001B[43m,\u001B[49m\u001B[43msychronize_session\u001B[49m\u001B[38;5;241;43m=\u001B[39;49m\u001B[38;5;28;43;01mFalse\u001B[39;49;00m\u001B[43m)\u001B[49m\n",
      "File \u001B[0;32m<string>:2\u001B[0m, in \u001B[0;36mupdate\u001B[0;34m(table, whereclause, values, inline, bind, prefixes, returning, return_defaults, preserve_parameter_order, **dialect_kw)\u001B[0m\n",
      "File \u001B[0;32m<string>:2\u001B[0m, in \u001B[0;36m__init__\u001B[0;34m(self, table, whereclause, values, inline, bind, prefixes, returning, return_defaults, preserve_parameter_order, **dialect_kw)\u001B[0m\n",
      "File \u001B[0;32m~/.cache/pypoetry/virtualenvs/learning-python-GOAEXFF0-py3.8/lib/python3.8/site-packages/sqlalchemy/util/deprecations.py:309\u001B[0m, in \u001B[0;36mdeprecated_params.<locals>.decorate.<locals>.warned\u001B[0;34m(fn, *args, **kwargs)\u001B[0m\n\u001B[1;32m    302\u001B[0m     \u001B[38;5;28;01mif\u001B[39;00m m \u001B[38;5;129;01min\u001B[39;00m kwargs:\n\u001B[1;32m    303\u001B[0m         _warn_with_version(\n\u001B[1;32m    304\u001B[0m             messages[m],\n\u001B[1;32m    305\u001B[0m             versions[m],\n\u001B[1;32m    306\u001B[0m             version_warnings[m],\n\u001B[1;32m    307\u001B[0m             stacklevel\u001B[38;5;241m=\u001B[39m\u001B[38;5;241m3\u001B[39m,\n\u001B[1;32m    308\u001B[0m         )\n\u001B[0;32m--> 309\u001B[0m \u001B[38;5;28;01mreturn\u001B[39;00m \u001B[43mfn\u001B[49m\u001B[43m(\u001B[49m\u001B[38;5;241;43m*\u001B[39;49m\u001B[43margs\u001B[49m\u001B[43m,\u001B[49m\u001B[43m \u001B[49m\u001B[38;5;241;43m*\u001B[39;49m\u001B[38;5;241;43m*\u001B[39;49m\u001B[43mkwargs\u001B[49m\u001B[43m)\u001B[49m\n",
      "File \u001B[0;32m~/.cache/pypoetry/virtualenvs/learning-python-GOAEXFF0-py3.8/lib/python3.8/site-packages/sqlalchemy/sql/dml.py:1356\u001B[0m, in \u001B[0;36mUpdate.__init__\u001B[0;34m(self, table, whereclause, values, inline, bind, prefixes, returning, return_defaults, preserve_parameter_order, **dialect_kw)\u001B[0m\n\u001B[1;32m   1256\u001B[0m \u001B[38;5;124mr\u001B[39m\u001B[38;5;124;03m\"\"\"Construct an :class:`_expression.Update` object.\u001B[39;00m\n\u001B[1;32m   1257\u001B[0m \n\u001B[1;32m   1258\u001B[0m \u001B[38;5;124;03mE.g.::\u001B[39;00m\n\u001B[0;32m   (...)\u001B[0m\n\u001B[1;32m   1353\u001B[0m \n\u001B[1;32m   1354\u001B[0m \u001B[38;5;124;03m\"\"\"\u001B[39;00m\n\u001B[1;32m   1355\u001B[0m \u001B[38;5;28mself\u001B[39m\u001B[38;5;241m.\u001B[39m_preserve_parameter_order \u001B[38;5;241m=\u001B[39m preserve_parameter_order\n\u001B[0;32m-> 1356\u001B[0m \u001B[38;5;28;43msuper\u001B[39;49m\u001B[43m(\u001B[49m\u001B[43mUpdate\u001B[49m\u001B[43m,\u001B[49m\u001B[43m \u001B[49m\u001B[38;5;28;43mself\u001B[39;49m\u001B[43m)\u001B[49m\u001B[38;5;241;43m.\u001B[39;49m\u001B[38;5;21;43m__init__\u001B[39;49m\u001B[43m(\u001B[49m\u001B[43mtable\u001B[49m\u001B[43m,\u001B[49m\u001B[43m \u001B[49m\u001B[43mvalues\u001B[49m\u001B[43m,\u001B[49m\u001B[43m \u001B[49m\u001B[43mprefixes\u001B[49m\u001B[43m)\u001B[49m\n\u001B[1;32m   1357\u001B[0m \u001B[38;5;28mself\u001B[39m\u001B[38;5;241m.\u001B[39m_bind \u001B[38;5;241m=\u001B[39m bind\n\u001B[1;32m   1358\u001B[0m \u001B[38;5;28;01mif\u001B[39;00m returning:\n",
      "File \u001B[0;32m~/.cache/pypoetry/virtualenvs/learning-python-GOAEXFF0-py3.8/lib/python3.8/site-packages/sqlalchemy/sql/dml.py:615\u001B[0m, in \u001B[0;36mValuesBase.__init__\u001B[0;34m(self, table, values, prefixes)\u001B[0m\n\u001B[1;32m    614\u001B[0m \u001B[38;5;28;01mdef\u001B[39;00m \u001B[38;5;21m__init__\u001B[39m(\u001B[38;5;28mself\u001B[39m, table, values, prefixes):\n\u001B[0;32m--> 615\u001B[0m     \u001B[38;5;28mself\u001B[39m\u001B[38;5;241m.\u001B[39mtable \u001B[38;5;241m=\u001B[39m \u001B[43mcoercions\u001B[49m\u001B[38;5;241;43m.\u001B[39;49m\u001B[43mexpect\u001B[49m\u001B[43m(\u001B[49m\n\u001B[1;32m    616\u001B[0m \u001B[43m        \u001B[49m\u001B[43mroles\u001B[49m\u001B[38;5;241;43m.\u001B[39;49m\u001B[43mDMLTableRole\u001B[49m\u001B[43m,\u001B[49m\u001B[43m \u001B[49m\u001B[43mtable\u001B[49m\u001B[43m,\u001B[49m\u001B[43m \u001B[49m\u001B[43mapply_propagate_attrs\u001B[49m\u001B[38;5;241;43m=\u001B[39;49m\u001B[38;5;28;43mself\u001B[39;49m\n\u001B[1;32m    617\u001B[0m \u001B[43m    \u001B[49m\u001B[43m)\u001B[49m\n\u001B[1;32m    618\u001B[0m     \u001B[38;5;28;01mif\u001B[39;00m values \u001B[38;5;129;01mis\u001B[39;00m \u001B[38;5;129;01mnot\u001B[39;00m \u001B[38;5;28;01mNone\u001B[39;00m:\n\u001B[1;32m    619\u001B[0m         \u001B[38;5;28mself\u001B[39m\u001B[38;5;241m.\u001B[39mvalues\u001B[38;5;241m.\u001B[39mnon_generative(\u001B[38;5;28mself\u001B[39m, values)\n",
      "File \u001B[0;32m~/.cache/pypoetry/virtualenvs/learning-python-GOAEXFF0-py3.8/lib/python3.8/site-packages/sqlalchemy/sql/coercions.py:188\u001B[0m, in \u001B[0;36mexpect\u001B[0;34m(role, element, apply_propagate_attrs, argname, post_inspect, **kw)\u001B[0m\n\u001B[1;32m    185\u001B[0m                 impl\u001B[38;5;241m.\u001B[39m_raise_for_expected(original_element, argname)\n\u001B[1;32m    187\u001B[0m     \u001B[38;5;28;01mif\u001B[39;00m resolved \u001B[38;5;129;01mis\u001B[39;00m \u001B[38;5;28;01mNone\u001B[39;00m:\n\u001B[0;32m--> 188\u001B[0m         resolved \u001B[38;5;241m=\u001B[39m \u001B[43mimpl\u001B[49m\u001B[38;5;241;43m.\u001B[39;49m\u001B[43m_literal_coercion\u001B[49m\u001B[43m(\u001B[49m\n\u001B[1;32m    189\u001B[0m \u001B[43m            \u001B[49m\u001B[43melement\u001B[49m\u001B[43m,\u001B[49m\u001B[43m \u001B[49m\u001B[43margname\u001B[49m\u001B[38;5;241;43m=\u001B[39;49m\u001B[43margname\u001B[49m\u001B[43m,\u001B[49m\u001B[43m \u001B[49m\u001B[38;5;241;43m*\u001B[39;49m\u001B[38;5;241;43m*\u001B[39;49m\u001B[43mkw\u001B[49m\n\u001B[1;32m    190\u001B[0m \u001B[43m        \u001B[49m\u001B[43m)\u001B[49m\n\u001B[1;32m    191\u001B[0m \u001B[38;5;28;01melse\u001B[39;00m:\n\u001B[1;32m    192\u001B[0m     resolved \u001B[38;5;241m=\u001B[39m element\n",
      "File \u001B[0;32m~/.cache/pypoetry/virtualenvs/learning-python-GOAEXFF0-py3.8/lib/python3.8/site-packages/sqlalchemy/sql/coercions.py:371\u001B[0m, in \u001B[0;36m_NoTextCoercion._literal_coercion\u001B[0;34m(self, element, argname, **kw)\u001B[0m\n\u001B[1;32m    369\u001B[0m     _no_text_coercion(element, argname)\n\u001B[1;32m    370\u001B[0m \u001B[38;5;28;01melse\u001B[39;00m:\n\u001B[0;32m--> 371\u001B[0m     \u001B[38;5;28;43mself\u001B[39;49m\u001B[38;5;241;43m.\u001B[39;49m\u001B[43m_raise_for_expected\u001B[49m\u001B[43m(\u001B[49m\u001B[43melement\u001B[49m\u001B[43m,\u001B[49m\u001B[43m \u001B[49m\u001B[43margname\u001B[49m\u001B[43m)\u001B[49m\n",
      "File \u001B[0;32m~/.cache/pypoetry/virtualenvs/learning-python-GOAEXFF0-py3.8/lib/python3.8/site-packages/sqlalchemy/sql/coercions.py:437\u001B[0m, in \u001B[0;36m_SelectIsNotFrom._raise_for_expected\u001B[0;34m(self, element, argname, resolved, **kw)\u001B[0m\n\u001B[1;32m    434\u001B[0m \u001B[38;5;28;01melse\u001B[39;00m:\n\u001B[1;32m    435\u001B[0m     advice \u001B[38;5;241m=\u001B[39m code \u001B[38;5;241m=\u001B[39m \u001B[38;5;28;01mNone\u001B[39;00m\n\u001B[0;32m--> 437\u001B[0m \u001B[38;5;28;01mreturn\u001B[39;00m \u001B[38;5;28;43msuper\u001B[39;49m\u001B[43m(\u001B[49m\u001B[43m_SelectIsNotFrom\u001B[49m\u001B[43m,\u001B[49m\u001B[43m \u001B[49m\u001B[38;5;28;43mself\u001B[39;49m\u001B[43m)\u001B[49m\u001B[38;5;241;43m.\u001B[39;49m\u001B[43m_raise_for_expected\u001B[49m\u001B[43m(\u001B[49m\n\u001B[1;32m    438\u001B[0m \u001B[43m    \u001B[49m\u001B[43melement\u001B[49m\u001B[43m,\u001B[49m\n\u001B[1;32m    439\u001B[0m \u001B[43m    \u001B[49m\u001B[43margname\u001B[49m\u001B[38;5;241;43m=\u001B[39;49m\u001B[43margname\u001B[49m\u001B[43m,\u001B[49m\n\u001B[1;32m    440\u001B[0m \u001B[43m    \u001B[49m\u001B[43mresolved\u001B[49m\u001B[38;5;241;43m=\u001B[39;49m\u001B[43mresolved\u001B[49m\u001B[43m,\u001B[49m\n\u001B[1;32m    441\u001B[0m \u001B[43m    \u001B[49m\u001B[43madvice\u001B[49m\u001B[38;5;241;43m=\u001B[39;49m\u001B[43madvice\u001B[49m\u001B[43m,\u001B[49m\n\u001B[1;32m    442\u001B[0m \u001B[43m    \u001B[49m\u001B[43mcode\u001B[49m\u001B[38;5;241;43m=\u001B[39;49m\u001B[43mcode\u001B[49m\u001B[43m,\u001B[49m\n\u001B[1;32m    443\u001B[0m \u001B[43m    \u001B[49m\u001B[38;5;241;43m*\u001B[39;49m\u001B[38;5;241;43m*\u001B[39;49m\u001B[43mkw\u001B[49m\n\u001B[1;32m    444\u001B[0m \u001B[43m\u001B[49m\u001B[43m)\u001B[49m\n",
      "File \u001B[0;32m~/.cache/pypoetry/virtualenvs/learning-python-GOAEXFF0-py3.8/lib/python3.8/site-packages/sqlalchemy/sql/coercions.py:283\u001B[0m, in \u001B[0;36mRoleImpl._raise_for_expected\u001B[0;34m(self, element, argname, resolved, advice, code, err)\u001B[0m\n\u001B[1;32m    280\u001B[0m \u001B[38;5;28;01mif\u001B[39;00m advice:\n\u001B[1;32m    281\u001B[0m     msg \u001B[38;5;241m+\u001B[39m\u001B[38;5;241m=\u001B[39m \u001B[38;5;124m\"\u001B[39m\u001B[38;5;124m \u001B[39m\u001B[38;5;124m\"\u001B[39m \u001B[38;5;241m+\u001B[39m advice\n\u001B[0;32m--> 283\u001B[0m \u001B[43mutil\u001B[49m\u001B[38;5;241;43m.\u001B[39;49m\u001B[43mraise_\u001B[49m\u001B[43m(\u001B[49m\u001B[43mexc\u001B[49m\u001B[38;5;241;43m.\u001B[39;49m\u001B[43mArgumentError\u001B[49m\u001B[43m(\u001B[49m\u001B[43mmsg\u001B[49m\u001B[43m,\u001B[49m\u001B[43m \u001B[49m\u001B[43mcode\u001B[49m\u001B[38;5;241;43m=\u001B[39;49m\u001B[43mcode\u001B[49m\u001B[43m)\u001B[49m\u001B[43m,\u001B[49m\u001B[43m \u001B[49m\u001B[43mreplace_context\u001B[49m\u001B[38;5;241;43m=\u001B[39;49m\u001B[43merr\u001B[49m\u001B[43m)\u001B[49m\n",
      "File \u001B[0;32m~/.cache/pypoetry/virtualenvs/learning-python-GOAEXFF0-py3.8/lib/python3.8/site-packages/sqlalchemy/util/compat.py:210\u001B[0m, in \u001B[0;36mraise_\u001B[0;34m(***failed resolving arguments***)\u001B[0m\n\u001B[1;32m    207\u001B[0m     exception\u001B[38;5;241m.\u001B[39m__cause__ \u001B[38;5;241m=\u001B[39m replace_context\n\u001B[1;32m    209\u001B[0m \u001B[38;5;28;01mtry\u001B[39;00m:\n\u001B[0;32m--> 210\u001B[0m     \u001B[38;5;28;01mraise\u001B[39;00m exception\n\u001B[1;32m    211\u001B[0m \u001B[38;5;28;01mfinally\u001B[39;00m:\n\u001B[1;32m    212\u001B[0m     \u001B[38;5;66;03m# credit to\u001B[39;00m\n\u001B[1;32m    213\u001B[0m     \u001B[38;5;66;03m# https://cosmicpercolator.com/2016/01/13/exception-leaks-in-python-2-and-3/\u001B[39;00m\n\u001B[1;32m    214\u001B[0m     \u001B[38;5;66;03m# as the __traceback__ object creates a cycle\u001B[39;00m\n\u001B[1;32m    215\u001B[0m     \u001B[38;5;28;01mdel\u001B[39;00m exception, replace_context, from_, with_traceback\n",
      "\u001B[0;31mArgumentError\u001B[0m: subject table for an INSERT, UPDATE or DELETE expected, got {<sqlalchemy.orm.attributes.InstrumentedAttribute object at 0x7fc177075ea0>: <sqlalchemy.sql.elements.BinaryExpression object at 0x7fc15e27f910>}."
     ]
    }
   ],
   "source": [
    "# add a postfix value\n",
    "\n",
    "update({Cohort.cname:Cohort.cname+\"_cohort\"},sychronize_session=False)"
   ],
   "metadata": {
    "collapsed": false
   }
  },
  {
   "cell_type": "markdown",
   "source": [
    "### 3.2.4 Applying filter\n",
    "\n",
    "The general form is\n",
    "\n",
    "```text\n",
    "session.query(map_class_name).filter(bool_condition)\n",
    "```\n",
    "\n",
    "The bool_condition can be combined with `and_(cond1,cond2)`, `or_(cond1,cond2)`\n"
   ],
   "metadata": {
    "collapsed": false
   }
  },
  {
   "cell_type": "code",
   "execution_count": 32,
   "outputs": [
    {
     "name": "stdout",
     "output_type": "stream",
     "text": [
      "2022-12-12 15:50:30,677 INFO sqlalchemy.engine.Engine BEGIN (implicit)\n",
      "2022-12-12 15:50:30,687 INFO sqlalchemy.engine.Engine SELECT cohort.id AS cohort_id, cohort.cname AS cohort_cname \n",
      "FROM cohort \n",
      "WHERE cohort.id >= ?\n",
      "2022-12-12 15:50:30,701 INFO sqlalchemy.engine.Engine [generated in 0.01361s] (0,)\n",
      "Id:  0 , Name:  breast_cancer\n",
      "Id:  1 , Name:  colon_cancer\n",
      "Id:  2 , Name:  HIS\n",
      "Id:  3 , Name:  Hyper_tension\n"
     ]
    }
   ],
   "source": [
    "result = session.query(Cohort).filter(Cohort.id>=0)\n",
    "for row in result:\n",
    "    print(\"Id: \", row.id, \"Name: \", row.cname)"
   ],
   "metadata": {
    "collapsed": false
   }
  },
  {
   "cell_type": "code",
   "execution_count": 33,
   "outputs": [
    {
     "name": "stdout",
     "output_type": "stream",
     "text": [
      "2022-12-12 15:51:31,607 INFO sqlalchemy.engine.Engine SELECT cohort.id AS cohort_id, cohort.cname AS cohort_cname \n",
      "FROM cohort \n",
      "WHERE cohort.id = ?\n",
      "2022-12-12 15:51:31,608 INFO sqlalchemy.engine.Engine [generated in 0.00181s] (3,)\n",
      "Id:  3 Name:  Hyper_tension\n"
     ]
    }
   ],
   "source": [
    "result = session.query(Cohort).filter(Cohort.id==3)\n",
    "for row in result:\n",
    "    print(\"Id: \", row.id, \"Name: \", row.cname)"
   ],
   "metadata": {
    "collapsed": false
   }
  },
  {
   "cell_type": "code",
   "execution_count": 35,
   "outputs": [
    {
     "name": "stdout",
     "output_type": "stream",
     "text": [
      "2022-12-12 15:53:32,501 INFO sqlalchemy.engine.Engine SELECT cohort.id AS cohort_id, cohort.cname AS cohort_cname \n",
      "FROM cohort \n",
      "WHERE cohort.cname LIKE ?\n",
      "2022-12-12 15:53:32,504 INFO sqlalchemy.engine.Engine [cached since 34.35s ago] ('%_cancer',)\n",
      "Id:  0 Name:  breast_cancer\n",
      "Id:  1 Name:  colon_cancer\n"
     ]
    }
   ],
   "source": [
    "# like operator on string column\n",
    "result = session.query(Cohort).filter(Cohort.cname.like(\"%_cancer\"))\n",
    "for row in result:\n",
    "    print(\"Id: \", row.id, \"Name: \", row.cname)"
   ],
   "metadata": {
    "collapsed": false
   }
  },
  {
   "cell_type": "code",
   "execution_count": 36,
   "outputs": [
    {
     "name": "stdout",
     "output_type": "stream",
     "text": [
      "2022-12-12 15:55:05,411 INFO sqlalchemy.engine.Engine SELECT cohort.id AS cohort_id, cohort.cname AS cohort_cname \n",
      "FROM cohort \n",
      "WHERE cohort.id IN (?, ?)\n",
      "2022-12-12 15:55:05,412 INFO sqlalchemy.engine.Engine [generated in 0.00134s] (1, 2)\n",
      "Id:  1 Name:  colon_cancer\n",
      "Id:  2 Name:  HIS\n"
     ]
    }
   ],
   "source": [
    "# use IN operator to match values in a list\n",
    "result = session.query(Cohort).filter(Cohort.id.in_([1,2]))\n",
    "for row in result:\n",
    "    print(\"Id: \", row.id, \"Name: \", row.cname)"
   ],
   "metadata": {
    "collapsed": false
   }
  },
  {
   "cell_type": "code",
   "execution_count": 38,
   "outputs": [
    {
     "name": "stdout",
     "output_type": "stream",
     "text": [
      "2022-12-12 16:05:56,431 INFO sqlalchemy.engine.Engine SELECT cohort.id AS cohort_id, cohort.cname AS cohort_cname \n",
      "FROM cohort \n",
      "WHERE cohort.id != ? AND cohort.cname LIKE ?\n",
      "2022-12-12 16:05:56,441 INFO sqlalchemy.engine.Engine [generated in 0.00991s] (0, '%_cancer')\n",
      "Id:  1 Name:  colon_cancer\n"
     ]
    }
   ],
   "source": [
    "from sqlalchemy import and_\n",
    "\n",
    "# multiple condition\n",
    "result = session.query(Cohort).filter(and_(Cohort.id!=0,Cohort.cname.like(\"%_cancer\")))\n",
    "for row in result:\n",
    "    print(\"Id: \", row.id, \"Name: \", row.cname)"
   ],
   "metadata": {
    "collapsed": false
   }
  },
  {
   "cell_type": "markdown",
   "source": [
    "### 3.2.5 Control the returned result\n",
    "\n",
    "The returned result of a filter may contain thousands of rows. To load them all in memory may cause performance issues. We can control how the session return these value.\n",
    "\n",
    "- all(): return all matching result as a list\n",
    "- first(): It applies a limit of one on the query and returns the first result as a scalar. The bound parameters for LIMIT is 1 and for OFFSET is 0\n",
    "- one(): It fully fetches all rows, and if there is not exactly one object identity or composite row present in the result, it raises an error. It is useful for systems that expect to handle “no items found” versus “multiple items found” differently.\n",
    "- scalar(): It invokes the one() method, and upon success returns the first column of the row as follows"
   ],
   "metadata": {
    "collapsed": false
   }
  },
  {
   "cell_type": "code",
   "execution_count": 14,
   "outputs": [
    {
     "name": "stdout",
     "output_type": "stream",
     "text": [
      "2023-01-02 09:04:34,578 INFO sqlalchemy.engine.Engine SELECT cohort.id AS cohort_id, cohort.cname AS cohort_cname \n",
      "FROM cohort\n",
      "2023-01-02 09:04:34,581 INFO sqlalchemy.engine.Engine [cached since 98s ago] ()\n",
      "Id:  0 | Name:  breast_cancer\n",
      "Id:  1 | Name:  colon_cancer\n",
      "Id:  2 | Name:  HIS\n",
      "Id:  3 | Name:  Hyper_tension\n"
     ]
    }
   ],
   "source": [
    "# all example\n",
    "result=session.query(Cohort).all()\n",
    "for row in result:\n",
    "    print(\"Id: \", row.id, \"| Name: \", row.cname)"
   ],
   "metadata": {
    "collapsed": false
   }
  },
  {
   "cell_type": "code",
   "execution_count": 19,
   "outputs": [
    {
     "name": "stdout",
     "output_type": "stream",
     "text": [
      "2023-01-02 09:13:00,221 INFO sqlalchemy.engine.Engine SELECT cohort.id AS cohort_id, cohort.cname AS cohort_cname \n",
      "FROM cohort\n",
      " LIMIT ? OFFSET ?\n",
      "2023-01-02 09:13:00,225 INFO sqlalchemy.engine.Engine [cached since 234.7s ago] (1, 0)\n",
      "<class '__main__.Cohort'>\n",
      "Id:  0 | Name:  breast_cancer\n"
     ]
    }
   ],
   "source": [
    "# first example\n",
    "result=session.query(Cohort).first()\n",
    "# You can notice the type of result is Cohort\n",
    "print(type(result))\n",
    "# so you can access its attribute\n",
    "print(\"Id: \", result.id, \"| Name: \", result.cname)"
   ],
   "metadata": {
    "collapsed": false
   }
  },
  {
   "cell_type": "code",
   "execution_count": 20,
   "outputs": [
    {
     "name": "stdout",
     "output_type": "stream",
     "text": [
      "2023-01-02 09:15:33,087 INFO sqlalchemy.engine.Engine SELECT cohort.id AS cohort_id, cohort.cname AS cohort_cname \n",
      "FROM cohort \n",
      "WHERE cohort.id > ?\n",
      "2023-01-02 09:15:33,090 INFO sqlalchemy.engine.Engine [generated in 0.00249s] (0,)\n"
     ]
    },
    {
     "ename": "MultipleResultsFound",
     "evalue": "Multiple rows were found when exactly one was required",
     "output_type": "error",
     "traceback": [
      "\u001B[0;31m---------------------------------------------------------------------------\u001B[0m",
      "\u001B[0;31mMultipleResultsFound\u001B[0m                      Traceback (most recent call last)",
      "Cell \u001B[0;32mIn[20], line 2\u001B[0m\n\u001B[1;32m      1\u001B[0m \u001B[38;5;66;03m# one example\u001B[39;00m\n\u001B[0;32m----> 2\u001B[0m result\u001B[38;5;241m=\u001B[39m\u001B[43msession\u001B[49m\u001B[38;5;241;43m.\u001B[39;49m\u001B[43mquery\u001B[49m\u001B[43m(\u001B[49m\u001B[43mCohort\u001B[49m\u001B[43m)\u001B[49m\u001B[38;5;241;43m.\u001B[39;49m\u001B[43mfilter\u001B[49m\u001B[43m(\u001B[49m\u001B[43mCohort\u001B[49m\u001B[38;5;241;43m.\u001B[39;49m\u001B[43mid\u001B[49m\u001B[38;5;241;43m>\u001B[39;49m\u001B[38;5;241;43m0\u001B[39;49m\u001B[43m)\u001B[49m\u001B[38;5;241;43m.\u001B[39;49m\u001B[43mone\u001B[49m\u001B[43m(\u001B[49m\u001B[43m)\u001B[49m\n",
      "File \u001B[0;32m~/.cache/pypoetry/virtualenvs/learning-python-GOAEXFF0-py3.8/lib/python3.8/site-packages/sqlalchemy/orm/query.py:2870\u001B[0m, in \u001B[0;36mQuery.one\u001B[0;34m(self)\u001B[0m\n\u001B[1;32m   2852\u001B[0m \u001B[38;5;28;01mdef\u001B[39;00m \u001B[38;5;21mone\u001B[39m(\u001B[38;5;28mself\u001B[39m):\n\u001B[1;32m   2853\u001B[0m \u001B[38;5;250m    \u001B[39m\u001B[38;5;124;03m\"\"\"Return exactly one result or raise an exception.\u001B[39;00m\n\u001B[1;32m   2854\u001B[0m \n\u001B[1;32m   2855\u001B[0m \u001B[38;5;124;03m    Raises ``sqlalchemy.orm.exc.NoResultFound`` if the query selects\u001B[39;00m\n\u001B[0;32m   (...)\u001B[0m\n\u001B[1;32m   2868\u001B[0m \n\u001B[1;32m   2869\u001B[0m \u001B[38;5;124;03m    \"\"\"\u001B[39;00m\n\u001B[0;32m-> 2870\u001B[0m     \u001B[38;5;28;01mreturn\u001B[39;00m \u001B[38;5;28;43mself\u001B[39;49m\u001B[38;5;241;43m.\u001B[39;49m\u001B[43m_iter\u001B[49m\u001B[43m(\u001B[49m\u001B[43m)\u001B[49m\u001B[38;5;241;43m.\u001B[39;49m\u001B[43mone\u001B[49m\u001B[43m(\u001B[49m\u001B[43m)\u001B[49m\n",
      "File \u001B[0;32m~/.cache/pypoetry/virtualenvs/learning-python-GOAEXFF0-py3.8/lib/python3.8/site-packages/sqlalchemy/engine/result.py:1522\u001B[0m, in \u001B[0;36mScalarResult.one\u001B[0;34m(self)\u001B[0m\n\u001B[1;32m   1514\u001B[0m \u001B[38;5;28;01mdef\u001B[39;00m \u001B[38;5;21mone\u001B[39m(\u001B[38;5;28mself\u001B[39m):\n\u001B[1;32m   1515\u001B[0m \u001B[38;5;250m    \u001B[39m\u001B[38;5;124;03m\"\"\"Return exactly one object or raise an exception.\u001B[39;00m\n\u001B[1;32m   1516\u001B[0m \n\u001B[1;32m   1517\u001B[0m \u001B[38;5;124;03m    Equivalent to :meth:`_engine.Result.one` except that\u001B[39;00m\n\u001B[0;32m   (...)\u001B[0m\n\u001B[1;32m   1520\u001B[0m \n\u001B[1;32m   1521\u001B[0m \u001B[38;5;124;03m    \"\"\"\u001B[39;00m\n\u001B[0;32m-> 1522\u001B[0m     \u001B[38;5;28;01mreturn\u001B[39;00m \u001B[38;5;28;43mself\u001B[39;49m\u001B[38;5;241;43m.\u001B[39;49m\u001B[43m_only_one_row\u001B[49m\u001B[43m(\u001B[49m\n\u001B[1;32m   1523\u001B[0m \u001B[43m        \u001B[49m\u001B[43mraise_for_second_row\u001B[49m\u001B[38;5;241;43m=\u001B[39;49m\u001B[38;5;28;43;01mTrue\u001B[39;49;00m\u001B[43m,\u001B[49m\u001B[43m \u001B[49m\u001B[43mraise_for_none\u001B[49m\u001B[38;5;241;43m=\u001B[39;49m\u001B[38;5;28;43;01mTrue\u001B[39;49;00m\u001B[43m,\u001B[49m\u001B[43m \u001B[49m\u001B[43mscalar\u001B[49m\u001B[38;5;241;43m=\u001B[39;49m\u001B[38;5;28;43;01mFalse\u001B[39;49;00m\n\u001B[1;32m   1524\u001B[0m \u001B[43m    \u001B[49m\u001B[43m)\u001B[49m\n",
      "File \u001B[0;32m~/.cache/pypoetry/virtualenvs/learning-python-GOAEXFF0-py3.8/lib/python3.8/site-packages/sqlalchemy/engine/result.py:614\u001B[0m, in \u001B[0;36mResultInternal._only_one_row\u001B[0;34m(self, raise_for_second_row, raise_for_none, scalar)\u001B[0m\n\u001B[1;32m    612\u001B[0m     \u001B[38;5;28;01mif\u001B[39;00m next_row \u001B[38;5;129;01mis\u001B[39;00m \u001B[38;5;129;01mnot\u001B[39;00m _NO_ROW:\n\u001B[1;32m    613\u001B[0m         \u001B[38;5;28mself\u001B[39m\u001B[38;5;241m.\u001B[39m_soft_close(hard\u001B[38;5;241m=\u001B[39m\u001B[38;5;28;01mTrue\u001B[39;00m)\n\u001B[0;32m--> 614\u001B[0m         \u001B[38;5;28;01mraise\u001B[39;00m exc\u001B[38;5;241m.\u001B[39mMultipleResultsFound(\n\u001B[1;32m    615\u001B[0m             \u001B[38;5;124m\"\u001B[39m\u001B[38;5;124mMultiple rows were found when exactly one was required\u001B[39m\u001B[38;5;124m\"\u001B[39m\n\u001B[1;32m    616\u001B[0m             \u001B[38;5;28;01mif\u001B[39;00m raise_for_none\n\u001B[1;32m    617\u001B[0m             \u001B[38;5;28;01melse\u001B[39;00m \u001B[38;5;124m\"\u001B[39m\u001B[38;5;124mMultiple rows were found when one or none \u001B[39m\u001B[38;5;124m\"\u001B[39m\n\u001B[1;32m    618\u001B[0m             \u001B[38;5;124m\"\u001B[39m\u001B[38;5;124mwas required\u001B[39m\u001B[38;5;124m\"\u001B[39m\n\u001B[1;32m    619\u001B[0m         )\n\u001B[1;32m    620\u001B[0m \u001B[38;5;28;01melse\u001B[39;00m:\n\u001B[1;32m    621\u001B[0m     next_row \u001B[38;5;241m=\u001B[39m _NO_ROW\n",
      "\u001B[0;31mMultipleResultsFound\u001B[0m: Multiple rows were found when exactly one was required"
     ]
    }
   ],
   "source": [
    "# one example\n",
    "# if multi rows are found, it throws MultipleResultsFound error\n",
    "result=session.query(Cohort).filter(Cohort.id>0).one()\n"
   ],
   "metadata": {
    "collapsed": false
   }
  },
  {
   "cell_type": "code",
   "execution_count": 21,
   "outputs": [
    {
     "name": "stdout",
     "output_type": "stream",
     "text": [
      "2023-01-02 09:16:59,906 INFO sqlalchemy.engine.Engine SELECT cohort.id AS cohort_id, cohort.cname AS cohort_cname \n",
      "FROM cohort \n",
      "WHERE cohort.id < ?\n",
      "2023-01-02 09:16:59,907 INFO sqlalchemy.engine.Engine [generated in 0.00100s] (0,)\n"
     ]
    },
    {
     "ename": "NoResultFound",
     "evalue": "No row was found when one was required",
     "output_type": "error",
     "traceback": [
      "\u001B[0;31m---------------------------------------------------------------------------\u001B[0m",
      "\u001B[0;31mNoResultFound\u001B[0m                             Traceback (most recent call last)",
      "Cell \u001B[0;32mIn[21], line 2\u001B[0m\n\u001B[1;32m      1\u001B[0m \u001B[38;5;66;03m# if no row found\u001B[39;00m\n\u001B[0;32m----> 2\u001B[0m result\u001B[38;5;241m=\u001B[39m\u001B[43msession\u001B[49m\u001B[38;5;241;43m.\u001B[39;49m\u001B[43mquery\u001B[49m\u001B[43m(\u001B[49m\u001B[43mCohort\u001B[49m\u001B[43m)\u001B[49m\u001B[38;5;241;43m.\u001B[39;49m\u001B[43mfilter\u001B[49m\u001B[43m(\u001B[49m\u001B[43mCohort\u001B[49m\u001B[38;5;241;43m.\u001B[39;49m\u001B[43mid\u001B[49m\u001B[38;5;241;43m<\u001B[39;49m\u001B[38;5;241;43m0\u001B[39;49m\u001B[43m)\u001B[49m\u001B[38;5;241;43m.\u001B[39;49m\u001B[43mone\u001B[49m\u001B[43m(\u001B[49m\u001B[43m)\u001B[49m\n",
      "File \u001B[0;32m~/.cache/pypoetry/virtualenvs/learning-python-GOAEXFF0-py3.8/lib/python3.8/site-packages/sqlalchemy/orm/query.py:2870\u001B[0m, in \u001B[0;36mQuery.one\u001B[0;34m(self)\u001B[0m\n\u001B[1;32m   2852\u001B[0m \u001B[38;5;28;01mdef\u001B[39;00m \u001B[38;5;21mone\u001B[39m(\u001B[38;5;28mself\u001B[39m):\n\u001B[1;32m   2853\u001B[0m \u001B[38;5;250m    \u001B[39m\u001B[38;5;124;03m\"\"\"Return exactly one result or raise an exception.\u001B[39;00m\n\u001B[1;32m   2854\u001B[0m \n\u001B[1;32m   2855\u001B[0m \u001B[38;5;124;03m    Raises ``sqlalchemy.orm.exc.NoResultFound`` if the query selects\u001B[39;00m\n\u001B[0;32m   (...)\u001B[0m\n\u001B[1;32m   2868\u001B[0m \n\u001B[1;32m   2869\u001B[0m \u001B[38;5;124;03m    \"\"\"\u001B[39;00m\n\u001B[0;32m-> 2870\u001B[0m     \u001B[38;5;28;01mreturn\u001B[39;00m \u001B[38;5;28;43mself\u001B[39;49m\u001B[38;5;241;43m.\u001B[39;49m\u001B[43m_iter\u001B[49m\u001B[43m(\u001B[49m\u001B[43m)\u001B[49m\u001B[38;5;241;43m.\u001B[39;49m\u001B[43mone\u001B[49m\u001B[43m(\u001B[49m\u001B[43m)\u001B[49m\n",
      "File \u001B[0;32m~/.cache/pypoetry/virtualenvs/learning-python-GOAEXFF0-py3.8/lib/python3.8/site-packages/sqlalchemy/engine/result.py:1522\u001B[0m, in \u001B[0;36mScalarResult.one\u001B[0;34m(self)\u001B[0m\n\u001B[1;32m   1514\u001B[0m \u001B[38;5;28;01mdef\u001B[39;00m \u001B[38;5;21mone\u001B[39m(\u001B[38;5;28mself\u001B[39m):\n\u001B[1;32m   1515\u001B[0m \u001B[38;5;250m    \u001B[39m\u001B[38;5;124;03m\"\"\"Return exactly one object or raise an exception.\u001B[39;00m\n\u001B[1;32m   1516\u001B[0m \n\u001B[1;32m   1517\u001B[0m \u001B[38;5;124;03m    Equivalent to :meth:`_engine.Result.one` except that\u001B[39;00m\n\u001B[0;32m   (...)\u001B[0m\n\u001B[1;32m   1520\u001B[0m \n\u001B[1;32m   1521\u001B[0m \u001B[38;5;124;03m    \"\"\"\u001B[39;00m\n\u001B[0;32m-> 1522\u001B[0m     \u001B[38;5;28;01mreturn\u001B[39;00m \u001B[38;5;28;43mself\u001B[39;49m\u001B[38;5;241;43m.\u001B[39;49m\u001B[43m_only_one_row\u001B[49m\u001B[43m(\u001B[49m\n\u001B[1;32m   1523\u001B[0m \u001B[43m        \u001B[49m\u001B[43mraise_for_second_row\u001B[49m\u001B[38;5;241;43m=\u001B[39;49m\u001B[38;5;28;43;01mTrue\u001B[39;49;00m\u001B[43m,\u001B[49m\u001B[43m \u001B[49m\u001B[43mraise_for_none\u001B[49m\u001B[38;5;241;43m=\u001B[39;49m\u001B[38;5;28;43;01mTrue\u001B[39;49;00m\u001B[43m,\u001B[49m\u001B[43m \u001B[49m\u001B[43mscalar\u001B[49m\u001B[38;5;241;43m=\u001B[39;49m\u001B[38;5;28;43;01mFalse\u001B[39;49;00m\n\u001B[1;32m   1524\u001B[0m \u001B[43m    \u001B[49m\u001B[43m)\u001B[49m\n",
      "File \u001B[0;32m~/.cache/pypoetry/virtualenvs/learning-python-GOAEXFF0-py3.8/lib/python3.8/site-packages/sqlalchemy/engine/result.py:562\u001B[0m, in \u001B[0;36mResultInternal._only_one_row\u001B[0;34m(self, raise_for_second_row, raise_for_none, scalar)\u001B[0m\n\u001B[1;32m    560\u001B[0m \u001B[38;5;28;01mif\u001B[39;00m row \u001B[38;5;129;01mis\u001B[39;00m \u001B[38;5;28;01mNone\u001B[39;00m:\n\u001B[1;32m    561\u001B[0m     \u001B[38;5;28;01mif\u001B[39;00m raise_for_none:\n\u001B[0;32m--> 562\u001B[0m         \u001B[38;5;28;01mraise\u001B[39;00m exc\u001B[38;5;241m.\u001B[39mNoResultFound(\n\u001B[1;32m    563\u001B[0m             \u001B[38;5;124m\"\u001B[39m\u001B[38;5;124mNo row was found when one was required\u001B[39m\u001B[38;5;124m\"\u001B[39m\n\u001B[1;32m    564\u001B[0m         )\n\u001B[1;32m    565\u001B[0m     \u001B[38;5;28;01melse\u001B[39;00m:\n\u001B[1;32m    566\u001B[0m         \u001B[38;5;28;01mreturn\u001B[39;00m \u001B[38;5;28;01mNone\u001B[39;00m\n",
      "\u001B[0;31mNoResultFound\u001B[0m: No row was found when one was required"
     ]
    }
   ],
   "source": [
    "# if no row found, it throws NoResultFound error\n",
    "result=session.query(Cohort).filter(Cohort.id<0).one()"
   ],
   "metadata": {
    "collapsed": false
   }
  },
  {
   "cell_type": "code",
   "execution_count": 22,
   "outputs": [
    {
     "name": "stdout",
     "output_type": "stream",
     "text": [
      "2023-01-02 09:18:59,826 INFO sqlalchemy.engine.Engine SELECT cohort.id AS cohort_id, cohort.cname AS cohort_cname \n",
      "FROM cohort \n",
      "WHERE cohort.id > ?\n",
      "2023-01-02 09:18:59,828 INFO sqlalchemy.engine.Engine [cached since 206.7s ago] (0,)\n"
     ]
    },
    {
     "ename": "MultipleResultsFound",
     "evalue": "Multiple rows were found when exactly one was required",
     "output_type": "error",
     "traceback": [
      "\u001B[0;31m---------------------------------------------------------------------------\u001B[0m",
      "\u001B[0;31mMultipleResultsFound\u001B[0m                      Traceback (most recent call last)",
      "Cell \u001B[0;32mIn[22], line 2\u001B[0m\n\u001B[1;32m      1\u001B[0m \u001B[38;5;66;03m# scalar example\u001B[39;00m\n\u001B[0;32m----> 2\u001B[0m result\u001B[38;5;241m=\u001B[39m\u001B[43msession\u001B[49m\u001B[38;5;241;43m.\u001B[39;49m\u001B[43mquery\u001B[49m\u001B[43m(\u001B[49m\u001B[43mCohort\u001B[49m\u001B[43m)\u001B[49m\u001B[38;5;241;43m.\u001B[39;49m\u001B[43mfilter\u001B[49m\u001B[43m(\u001B[49m\u001B[43mCohort\u001B[49m\u001B[38;5;241;43m.\u001B[39;49m\u001B[43mid\u001B[49m\u001B[38;5;241;43m>\u001B[39;49m\u001B[38;5;241;43m0\u001B[39;49m\u001B[43m)\u001B[49m\u001B[38;5;241;43m.\u001B[39;49m\u001B[43mscalar\u001B[49m\u001B[43m(\u001B[49m\u001B[43m)\u001B[49m\n",
      "File \u001B[0;32m~/.cache/pypoetry/virtualenvs/learning-python-GOAEXFF0-py3.8/lib/python3.8/site-packages/sqlalchemy/orm/query.py:2893\u001B[0m, in \u001B[0;36mQuery.scalar\u001B[0;34m(self)\u001B[0m\n\u001B[1;32m   2891\u001B[0m \u001B[38;5;66;03m# TODO: not sure why we can't use result.scalar() here\u001B[39;00m\n\u001B[1;32m   2892\u001B[0m \u001B[38;5;28;01mtry\u001B[39;00m:\n\u001B[0;32m-> 2893\u001B[0m     ret \u001B[38;5;241m=\u001B[39m \u001B[38;5;28;43mself\u001B[39;49m\u001B[38;5;241;43m.\u001B[39;49m\u001B[43mone\u001B[49m\u001B[43m(\u001B[49m\u001B[43m)\u001B[49m\n\u001B[1;32m   2894\u001B[0m     \u001B[38;5;28;01mif\u001B[39;00m \u001B[38;5;129;01mnot\u001B[39;00m \u001B[38;5;28misinstance\u001B[39m(ret, collections_abc\u001B[38;5;241m.\u001B[39mSequence):\n\u001B[1;32m   2895\u001B[0m         \u001B[38;5;28;01mreturn\u001B[39;00m ret\n",
      "File \u001B[0;32m~/.cache/pypoetry/virtualenvs/learning-python-GOAEXFF0-py3.8/lib/python3.8/site-packages/sqlalchemy/orm/query.py:2870\u001B[0m, in \u001B[0;36mQuery.one\u001B[0;34m(self)\u001B[0m\n\u001B[1;32m   2852\u001B[0m \u001B[38;5;28;01mdef\u001B[39;00m \u001B[38;5;21mone\u001B[39m(\u001B[38;5;28mself\u001B[39m):\n\u001B[1;32m   2853\u001B[0m \u001B[38;5;250m    \u001B[39m\u001B[38;5;124;03m\"\"\"Return exactly one result or raise an exception.\u001B[39;00m\n\u001B[1;32m   2854\u001B[0m \n\u001B[1;32m   2855\u001B[0m \u001B[38;5;124;03m    Raises ``sqlalchemy.orm.exc.NoResultFound`` if the query selects\u001B[39;00m\n\u001B[0;32m   (...)\u001B[0m\n\u001B[1;32m   2868\u001B[0m \n\u001B[1;32m   2869\u001B[0m \u001B[38;5;124;03m    \"\"\"\u001B[39;00m\n\u001B[0;32m-> 2870\u001B[0m     \u001B[38;5;28;01mreturn\u001B[39;00m \u001B[38;5;28;43mself\u001B[39;49m\u001B[38;5;241;43m.\u001B[39;49m\u001B[43m_iter\u001B[49m\u001B[43m(\u001B[49m\u001B[43m)\u001B[49m\u001B[38;5;241;43m.\u001B[39;49m\u001B[43mone\u001B[49m\u001B[43m(\u001B[49m\u001B[43m)\u001B[49m\n",
      "File \u001B[0;32m~/.cache/pypoetry/virtualenvs/learning-python-GOAEXFF0-py3.8/lib/python3.8/site-packages/sqlalchemy/engine/result.py:1522\u001B[0m, in \u001B[0;36mScalarResult.one\u001B[0;34m(self)\u001B[0m\n\u001B[1;32m   1514\u001B[0m \u001B[38;5;28;01mdef\u001B[39;00m \u001B[38;5;21mone\u001B[39m(\u001B[38;5;28mself\u001B[39m):\n\u001B[1;32m   1515\u001B[0m \u001B[38;5;250m    \u001B[39m\u001B[38;5;124;03m\"\"\"Return exactly one object or raise an exception.\u001B[39;00m\n\u001B[1;32m   1516\u001B[0m \n\u001B[1;32m   1517\u001B[0m \u001B[38;5;124;03m    Equivalent to :meth:`_engine.Result.one` except that\u001B[39;00m\n\u001B[0;32m   (...)\u001B[0m\n\u001B[1;32m   1520\u001B[0m \n\u001B[1;32m   1521\u001B[0m \u001B[38;5;124;03m    \"\"\"\u001B[39;00m\n\u001B[0;32m-> 1522\u001B[0m     \u001B[38;5;28;01mreturn\u001B[39;00m \u001B[38;5;28;43mself\u001B[39;49m\u001B[38;5;241;43m.\u001B[39;49m\u001B[43m_only_one_row\u001B[49m\u001B[43m(\u001B[49m\n\u001B[1;32m   1523\u001B[0m \u001B[43m        \u001B[49m\u001B[43mraise_for_second_row\u001B[49m\u001B[38;5;241;43m=\u001B[39;49m\u001B[38;5;28;43;01mTrue\u001B[39;49;00m\u001B[43m,\u001B[49m\u001B[43m \u001B[49m\u001B[43mraise_for_none\u001B[49m\u001B[38;5;241;43m=\u001B[39;49m\u001B[38;5;28;43;01mTrue\u001B[39;49;00m\u001B[43m,\u001B[49m\u001B[43m \u001B[49m\u001B[43mscalar\u001B[49m\u001B[38;5;241;43m=\u001B[39;49m\u001B[38;5;28;43;01mFalse\u001B[39;49;00m\n\u001B[1;32m   1524\u001B[0m \u001B[43m    \u001B[49m\u001B[43m)\u001B[49m\n",
      "File \u001B[0;32m~/.cache/pypoetry/virtualenvs/learning-python-GOAEXFF0-py3.8/lib/python3.8/site-packages/sqlalchemy/engine/result.py:614\u001B[0m, in \u001B[0;36mResultInternal._only_one_row\u001B[0;34m(self, raise_for_second_row, raise_for_none, scalar)\u001B[0m\n\u001B[1;32m    612\u001B[0m     \u001B[38;5;28;01mif\u001B[39;00m next_row \u001B[38;5;129;01mis\u001B[39;00m \u001B[38;5;129;01mnot\u001B[39;00m _NO_ROW:\n\u001B[1;32m    613\u001B[0m         \u001B[38;5;28mself\u001B[39m\u001B[38;5;241m.\u001B[39m_soft_close(hard\u001B[38;5;241m=\u001B[39m\u001B[38;5;28;01mTrue\u001B[39;00m)\n\u001B[0;32m--> 614\u001B[0m         \u001B[38;5;28;01mraise\u001B[39;00m exc\u001B[38;5;241m.\u001B[39mMultipleResultsFound(\n\u001B[1;32m    615\u001B[0m             \u001B[38;5;124m\"\u001B[39m\u001B[38;5;124mMultiple rows were found when exactly one was required\u001B[39m\u001B[38;5;124m\"\u001B[39m\n\u001B[1;32m    616\u001B[0m             \u001B[38;5;28;01mif\u001B[39;00m raise_for_none\n\u001B[1;32m    617\u001B[0m             \u001B[38;5;28;01melse\u001B[39;00m \u001B[38;5;124m\"\u001B[39m\u001B[38;5;124mMultiple rows were found when one or none \u001B[39m\u001B[38;5;124m\"\u001B[39m\n\u001B[1;32m    618\u001B[0m             \u001B[38;5;124m\"\u001B[39m\u001B[38;5;124mwas required\u001B[39m\u001B[38;5;124m\"\u001B[39m\n\u001B[1;32m    619\u001B[0m         )\n\u001B[1;32m    620\u001B[0m \u001B[38;5;28;01melse\u001B[39;00m:\n\u001B[1;32m    621\u001B[0m     next_row \u001B[38;5;241m=\u001B[39m _NO_ROW\n",
      "\u001B[0;31mMultipleResultsFound\u001B[0m: Multiple rows were found when exactly one was required"
     ]
    }
   ],
   "source": [
    "# scalar example\n",
    "result=session.query(Cohort).filter(Cohort.id>0).scalar()"
   ],
   "metadata": {
    "collapsed": false
   }
  },
  {
   "cell_type": "code",
   "execution_count": 27,
   "outputs": [
    {
     "name": "stdout",
     "output_type": "stream",
     "text": [
      "2023-01-02 09:20:29,723 INFO sqlalchemy.engine.Engine SELECT cohort.id AS cohort_id, cohort.cname AS cohort_cname \n",
      "FROM cohort \n",
      "WHERE cohort.id < ?\n",
      "2023-01-02 09:20:29,725 INFO sqlalchemy.engine.Engine [cached since 209.8s ago] (0,)\n"
     ]
    },
    {
     "ename": "AttributeError",
     "evalue": "'NoneType' object has no attribute 'id'",
     "output_type": "error",
     "traceback": [
      "\u001B[0;31m---------------------------------------------------------------------------\u001B[0m",
      "\u001B[0;31mAttributeError\u001B[0m                            Traceback (most recent call last)",
      "Cell \u001B[0;32mIn[27], line 2\u001B[0m\n\u001B[1;32m      1\u001B[0m result\u001B[38;5;241m=\u001B[39msession\u001B[38;5;241m.\u001B[39mquery(Cohort)\u001B[38;5;241m.\u001B[39mfilter(Cohort\u001B[38;5;241m.\u001B[39mid\u001B[38;5;241m<\u001B[39m\u001B[38;5;241m0\u001B[39m)\u001B[38;5;241m.\u001B[39mscalar()\n\u001B[0;32m----> 2\u001B[0m \u001B[38;5;28mprint\u001B[39m(\u001B[38;5;124m\"\u001B[39m\u001B[38;5;124mId: \u001B[39m\u001B[38;5;124m\"\u001B[39m, \u001B[43mresult\u001B[49m\u001B[38;5;241;43m.\u001B[39;49m\u001B[43mid\u001B[49m, \u001B[38;5;124m\"\u001B[39m\u001B[38;5;124m| Name: \u001B[39m\u001B[38;5;124m\"\u001B[39m, result\u001B[38;5;241m.\u001B[39mcname)\n",
      "\u001B[0;31mAttributeError\u001B[0m: 'NoneType' object has no attribute 'id'"
     ]
    }
   ],
   "source": [
    "# there is a bug, scalar does not return no result found error, but return a none object\n",
    "result=session.query(Cohort).filter(Cohort.id<0).scalar()\n",
    "print(\"Id: \", result.id, \"| Name: \", result.cname)"
   ],
   "metadata": {
    "collapsed": false
   }
  },
  {
   "cell_type": "markdown",
   "source": [
    "## 3.3 Building table relationship\n",
    "\n",
    "In a relational database, table has relations with each other, we need to express these relation in the ORM mapping class.\n",
    "\n",
    "We have four basic relationship patterns:\n",
    "\n",
    "- **One To Many**: A single record from one table can be linked to zero or more rows in another table. For example, The customer table stores customer information, where customer.id is the primary key. The invoice table holds the invoices for customer, where invoice.id is the primary key and customer.id is the foreign key.\n",
    "\n",
    "- **Many To One**: It's the reverse of one to many.\n",
    "\n",
    "- **One To One**: In One-to-One relationship, one record of the first table will be linked to zero or one record of another table. For example, each employee in the `Employee` table will have a corresponding row in `EmployeeDetails` table that stores the current passport details for that particular employee. So, each employee will have zero or one record in the EmployeeDetails table. This is called zero or one-to-one relationship.\n",
    "\n",
    "- **Many To Many**: It is established by adding an association table related to two classes by defining attributes with their foreign keys. It is indicated by the secondary argument to relationship(). Usually, the Table uses the MetaData object associated with the declarative base class, so that the ForeignKey directives can locate the remote tables with which to link. The relationship.back_populates parameter for each relationship() establishes a bidirectional relationship. Both sides of the relationship contain a collection.\n",
    "\n",
    "### 3.3.1 One To Many\n",
    "Below is an example of one to many, A customer (one class) may have many Invoice (many class). You can notice all the relationship declaration is located in the `many class (Invoice)`. The `relationship.back_populates` parameter is used to establish a bidirectional relationship in one-to-many, where the “reverse” side is a many to one."
   ],
   "metadata": {
    "collapsed": false
   }
  },
  {
   "cell_type": "code",
   "execution_count": 23,
   "outputs": [],
   "source": [
    "class Customer(Base):\n",
    "   __tablename__ = 'customers'\n",
    "   __table_args__ = {'extend_existing': True}\n",
    "   id = Column(Integer, primary_key = True)\n",
    "   name = Column(String)\n",
    "   address = Column(String)\n",
    "   email = Column(String)\n",
    "   invoices = relationship(\"Invoice\", back_populates = \"customer\")\n",
    "\n",
    "class Invoice(Base):\n",
    "   __tablename__ = 'invoices'\n",
    "   __table_args__ = {'extend_existing': True}\n",
    "   id = Column(Integer, primary_key = True)\n",
    "   custid = Column(Integer, ForeignKey('customers.id'))\n",
    "   invno = Column(Integer)\n",
    "   amount = Column(Integer)\n",
    "   customer = relationship(\"Customer\", back_populates = \"invoices\")\n",
    "\n",
    "# this line is very important\n",
    "\n",
    "# create the table in db by using the base metadata\n",
    "# Base.metadata.create_all(engine)\n"
   ],
   "metadata": {
    "collapsed": false
   }
  },
  {
   "cell_type": "code",
   "execution_count": 25,
   "outputs": [
    {
     "ename": "InvalidRequestError",
     "evalue": "One or more mappers failed to initialize - can't proceed with initialization of other mappers. Triggering mapper: 'mapped class Invoice->invoices'. Original exception was: Mapper 'mapped class Customer->customers' has no property 'invoices'",
     "output_type": "error",
     "traceback": [
      "\u001B[0;31m---------------------------------------------------------------------------\u001B[0m",
      "\u001B[0;31mInvalidRequestError\u001B[0m                       Traceback (most recent call last)",
      "Cell \u001B[0;32mIn[25], line 1\u001B[0m\n\u001B[0;32m----> 1\u001B[0m c1 \u001B[38;5;241m=\u001B[39m \u001B[43mCustomer\u001B[49m\u001B[43m(\u001B[49m\u001B[43mname\u001B[49m\u001B[43m \u001B[49m\u001B[38;5;241;43m=\u001B[39;49m\u001B[43m \u001B[49m\u001B[38;5;124;43m\"\u001B[39;49m\u001B[38;5;124;43mGopal Krishna\u001B[39;49m\u001B[38;5;124;43m\"\u001B[39;49m\u001B[43m,\u001B[49m\u001B[43m \u001B[49m\u001B[43maddress\u001B[49m\u001B[43m \u001B[49m\u001B[38;5;241;43m=\u001B[39;49m\u001B[43m \u001B[49m\u001B[38;5;124;43m\"\u001B[39;49m\u001B[38;5;124;43mBank Street Hydarebad\u001B[39;49m\u001B[38;5;124;43m\"\u001B[39;49m\u001B[43m,\u001B[49m\u001B[43m \u001B[49m\u001B[43memail\u001B[49m\u001B[43m \u001B[49m\u001B[38;5;241;43m=\u001B[39;49m\u001B[43m \u001B[49m\u001B[38;5;124;43m\"\u001B[39;49m\u001B[38;5;124;43mgk@gmail.com\u001B[39;49m\u001B[38;5;124;43m\"\u001B[39;49m\u001B[43m)\u001B[49m\n\u001B[1;32m      2\u001B[0m c1\u001B[38;5;241m.\u001B[39minvoices \u001B[38;5;241m=\u001B[39m [Invoice(invno \u001B[38;5;241m=\u001B[39m \u001B[38;5;241m10\u001B[39m, amount \u001B[38;5;241m=\u001B[39m \u001B[38;5;241m15000\u001B[39m), Invoice(invno \u001B[38;5;241m=\u001B[39m \u001B[38;5;241m14\u001B[39m, amount \u001B[38;5;241m=\u001B[39m \u001B[38;5;241m3850\u001B[39m)]\n\u001B[1;32m      3\u001B[0m session\u001B[38;5;241m.\u001B[39madd(c1)\n",
      "File \u001B[0;32m<string>:4\u001B[0m, in \u001B[0;36m__init__\u001B[0;34m(self, **kwargs)\u001B[0m\n",
      "File \u001B[0;32m~/.cache/pypoetry/virtualenvs/learning-python-GOAEXFF0-py3.8/lib/python3.8/site-packages/sqlalchemy/orm/state.py:476\u001B[0m, in \u001B[0;36mInstanceState._initialize_instance\u001B[0;34m(*mixed, **kwargs)\u001B[0m\n\u001B[1;32m    473\u001B[0m \u001B[38;5;28mself\u001B[39m, instance, args \u001B[38;5;241m=\u001B[39m mixed[\u001B[38;5;241m0\u001B[39m], mixed[\u001B[38;5;241m1\u001B[39m], mixed[\u001B[38;5;241m2\u001B[39m:]  \u001B[38;5;66;03m# noqa\u001B[39;00m\n\u001B[1;32m    474\u001B[0m manager \u001B[38;5;241m=\u001B[39m \u001B[38;5;28mself\u001B[39m\u001B[38;5;241m.\u001B[39mmanager\n\u001B[0;32m--> 476\u001B[0m \u001B[43mmanager\u001B[49m\u001B[38;5;241;43m.\u001B[39;49m\u001B[43mdispatch\u001B[49m\u001B[38;5;241;43m.\u001B[39;49m\u001B[43minit\u001B[49m\u001B[43m(\u001B[49m\u001B[38;5;28;43mself\u001B[39;49m\u001B[43m,\u001B[49m\u001B[43m \u001B[49m\u001B[43margs\u001B[49m\u001B[43m,\u001B[49m\u001B[43m \u001B[49m\u001B[43mkwargs\u001B[49m\u001B[43m)\u001B[49m\n\u001B[1;32m    478\u001B[0m \u001B[38;5;28;01mtry\u001B[39;00m:\n\u001B[1;32m    479\u001B[0m     \u001B[38;5;28;01mreturn\u001B[39;00m manager\u001B[38;5;241m.\u001B[39moriginal_init(\u001B[38;5;241m*\u001B[39mmixed[\u001B[38;5;241m1\u001B[39m:], \u001B[38;5;241m*\u001B[39m\u001B[38;5;241m*\u001B[39mkwargs)\n",
      "File \u001B[0;32m~/.cache/pypoetry/virtualenvs/learning-python-GOAEXFF0-py3.8/lib/python3.8/site-packages/sqlalchemy/event/attr.py:334\u001B[0m, in \u001B[0;36m_CompoundListener.__call__\u001B[0;34m(self, *args, **kw)\u001B[0m\n\u001B[1;32m    332\u001B[0m     fn(\u001B[38;5;241m*\u001B[39margs, \u001B[38;5;241m*\u001B[39m\u001B[38;5;241m*\u001B[39mkw)\n\u001B[1;32m    333\u001B[0m \u001B[38;5;28;01mfor\u001B[39;00m fn \u001B[38;5;129;01min\u001B[39;00m \u001B[38;5;28mself\u001B[39m\u001B[38;5;241m.\u001B[39mlisteners:\n\u001B[0;32m--> 334\u001B[0m     \u001B[43mfn\u001B[49m\u001B[43m(\u001B[49m\u001B[38;5;241;43m*\u001B[39;49m\u001B[43margs\u001B[49m\u001B[43m,\u001B[49m\u001B[43m \u001B[49m\u001B[38;5;241;43m*\u001B[39;49m\u001B[38;5;241;43m*\u001B[39;49m\u001B[43mkw\u001B[49m\u001B[43m)\u001B[49m\n",
      "File \u001B[0;32m~/.cache/pypoetry/virtualenvs/learning-python-GOAEXFF0-py3.8/lib/python3.8/site-packages/sqlalchemy/orm/mapper.py:3716\u001B[0m, in \u001B[0;36m_event_on_init\u001B[0;34m(state, args, kwargs)\u001B[0m\n\u001B[1;32m   3714\u001B[0m instrumenting_mapper \u001B[38;5;241m=\u001B[39m state\u001B[38;5;241m.\u001B[39mmanager\u001B[38;5;241m.\u001B[39mmapper\n\u001B[1;32m   3715\u001B[0m \u001B[38;5;28;01mif\u001B[39;00m instrumenting_mapper:\n\u001B[0;32m-> 3716\u001B[0m     \u001B[43minstrumenting_mapper\u001B[49m\u001B[38;5;241;43m.\u001B[39;49m\u001B[43m_check_configure\u001B[49m\u001B[43m(\u001B[49m\u001B[43m)\u001B[49m\n\u001B[1;32m   3717\u001B[0m     \u001B[38;5;28;01mif\u001B[39;00m instrumenting_mapper\u001B[38;5;241m.\u001B[39m_set_polymorphic_identity:\n\u001B[1;32m   3718\u001B[0m         instrumenting_mapper\u001B[38;5;241m.\u001B[39m_set_polymorphic_identity(state)\n",
      "File \u001B[0;32m~/.cache/pypoetry/virtualenvs/learning-python-GOAEXFF0-py3.8/lib/python3.8/site-packages/sqlalchemy/orm/mapper.py:1941\u001B[0m, in \u001B[0;36mMapper._check_configure\u001B[0;34m(self)\u001B[0m\n\u001B[1;32m   1939\u001B[0m \u001B[38;5;28;01mdef\u001B[39;00m \u001B[38;5;21m_check_configure\u001B[39m(\u001B[38;5;28mself\u001B[39m):\n\u001B[1;32m   1940\u001B[0m     \u001B[38;5;28;01mif\u001B[39;00m \u001B[38;5;28mself\u001B[39m\u001B[38;5;241m.\u001B[39mregistry\u001B[38;5;241m.\u001B[39m_new_mappers:\n\u001B[0;32m-> 1941\u001B[0m         \u001B[43m_configure_registries\u001B[49m\u001B[43m(\u001B[49m\u001B[43m{\u001B[49m\u001B[38;5;28;43mself\u001B[39;49m\u001B[38;5;241;43m.\u001B[39;49m\u001B[43mregistry\u001B[49m\u001B[43m}\u001B[49m\u001B[43m,\u001B[49m\u001B[43m \u001B[49m\u001B[43mcascade\u001B[49m\u001B[38;5;241;43m=\u001B[39;49m\u001B[38;5;28;43;01mTrue\u001B[39;49;00m\u001B[43m)\u001B[49m\n",
      "File \u001B[0;32m~/.cache/pypoetry/virtualenvs/learning-python-GOAEXFF0-py3.8/lib/python3.8/site-packages/sqlalchemy/orm/mapper.py:3527\u001B[0m, in \u001B[0;36m_configure_registries\u001B[0;34m(registries, cascade)\u001B[0m\n\u001B[1;32m   3521\u001B[0m     Mapper\u001B[38;5;241m.\u001B[39mdispatch\u001B[38;5;241m.\u001B[39m_for_class(Mapper)\u001B[38;5;241m.\u001B[39mbefore_configured()\n\u001B[1;32m   3522\u001B[0m     \u001B[38;5;66;03m# initialize properties on all mappers\u001B[39;00m\n\u001B[1;32m   3523\u001B[0m     \u001B[38;5;66;03m# note that _mapper_registry is unordered, which\u001B[39;00m\n\u001B[1;32m   3524\u001B[0m     \u001B[38;5;66;03m# may randomly conceal/reveal issues related to\u001B[39;00m\n\u001B[1;32m   3525\u001B[0m     \u001B[38;5;66;03m# the order of mapper compilation\u001B[39;00m\n\u001B[0;32m-> 3527\u001B[0m     \u001B[43m_do_configure_registries\u001B[49m\u001B[43m(\u001B[49m\u001B[43mregistries\u001B[49m\u001B[43m,\u001B[49m\u001B[43m \u001B[49m\u001B[43mcascade\u001B[49m\u001B[43m)\u001B[49m\n\u001B[1;32m   3528\u001B[0m \u001B[38;5;28;01mfinally\u001B[39;00m:\n\u001B[1;32m   3529\u001B[0m     _already_compiling \u001B[38;5;241m=\u001B[39m \u001B[38;5;28;01mFalse\u001B[39;00m\n",
      "File \u001B[0;32m~/.cache/pypoetry/virtualenvs/learning-python-GOAEXFF0-py3.8/lib/python3.8/site-packages/sqlalchemy/orm/mapper.py:3562\u001B[0m, in \u001B[0;36m_do_configure_registries\u001B[0;34m(registries, cascade)\u001B[0m\n\u001B[1;32m   3554\u001B[0m     e \u001B[38;5;241m=\u001B[39m sa_exc\u001B[38;5;241m.\u001B[39mInvalidRequestError(\n\u001B[1;32m   3555\u001B[0m         \u001B[38;5;124m\"\u001B[39m\u001B[38;5;124mOne or more mappers failed to initialize - \u001B[39m\u001B[38;5;124m\"\u001B[39m\n\u001B[1;32m   3556\u001B[0m         \u001B[38;5;124m\"\u001B[39m\u001B[38;5;124mcan\u001B[39m\u001B[38;5;124m'\u001B[39m\u001B[38;5;124mt proceed with initialization of other \u001B[39m\u001B[38;5;124m\"\u001B[39m\n\u001B[0;32m   (...)\u001B[0m\n\u001B[1;32m   3559\u001B[0m         \u001B[38;5;241m%\u001B[39m (mapper, mapper\u001B[38;5;241m.\u001B[39m_configure_failed)\n\u001B[1;32m   3560\u001B[0m     )\n\u001B[1;32m   3561\u001B[0m     e\u001B[38;5;241m.\u001B[39m_configure_failed \u001B[38;5;241m=\u001B[39m mapper\u001B[38;5;241m.\u001B[39m_configure_failed\n\u001B[0;32m-> 3562\u001B[0m     \u001B[38;5;28;01mraise\u001B[39;00m e\n\u001B[1;32m   3564\u001B[0m \u001B[38;5;28;01mif\u001B[39;00m \u001B[38;5;129;01mnot\u001B[39;00m mapper\u001B[38;5;241m.\u001B[39mconfigured:\n\u001B[1;32m   3565\u001B[0m     \u001B[38;5;28;01mtry\u001B[39;00m:\n",
      "\u001B[0;31mInvalidRequestError\u001B[0m: One or more mappers failed to initialize - can't proceed with initialization of other mappers. Triggering mapper: 'mapped class Invoice->invoices'. Original exception was: Mapper 'mapped class Customer->customers' has no property 'invoices'"
     ]
    }
   ],
   "source": [
    "# there is a bug with the notebook. so below code does not work\n",
    "# the full code example can be found in customer_invoice.py\n",
    "c1 = Customer(name = \"Gopal Krishna\", address = \"Bank Street Hydarebad\", email = \"gk@gmail.com\")\n",
    "c1.invoices = [Invoice(invno = 10, amount = 15000), Invoice(invno = 14, amount = 3850)]\n",
    "session.add(c1)\n",
    "session.commit()\n"
   ],
   "metadata": {
    "collapsed": false
   }
  },
  {
   "cell_type": "markdown",
   "source": [
    "### 3.3.2 One To One"
   ],
   "metadata": {
    "collapsed": false
   }
  },
  {
   "cell_type": "markdown",
   "source": [
    "### 3.3.3 Many To Many"
   ],
   "metadata": {
    "collapsed": false
   }
  },
  {
   "cell_type": "markdown",
   "source": [
    "### 3.4 Working with joins\n",
    "\n",
    "Now we have two tables that have relationship with each other. We need to use join operation if we want to combine the information of the two table together.\n",
    "The JOIN operation is easily achieved using the **Query.join()** method"
   ],
   "metadata": {
    "collapsed": false
   }
  },
  {
   "cell_type": "code",
   "execution_count": 12,
   "outputs": [
    {
     "name": "stdout",
     "output_type": "stream",
     "text": [
      "2023-01-02 11:12:13,960 INFO sqlalchemy.engine.Engine SELECT cohort.id AS cohort_id, cohort.cname AS cohort_cname \n",
      "FROM cohort JOIN dataset ON cohort.id = dataset.cohort_id\n",
      "2023-01-02 11:12:13,963 INFO sqlalchemy.engine.Engine [cached since 382.7s ago] ()\n",
      "Cohort_ID: 0 Cohort_Name: breast_cancer dataset_id: 1 dataset_name: breast_clinical_meds.csv\n",
      "Cohort_ID: 0 Cohort_Name: breast_cancer dataset_id: 2 dataset_name: breast_cancer_death_rate.csv\n"
     ]
    }
   ],
   "source": [
    "result=session.query(Cohort).join(Dataset).all()\n",
    "for row in result:\n",
    "    for dataset in row.datasets:\n",
    "        print (\"Cohort_ID: {} Cohort_Name: {} dataset_id: {} dataset_name: {}\".format(row.id,row.cname, dataset.id, dataset.name))"
   ],
   "metadata": {
    "collapsed": false
   }
  },
  {
   "cell_type": "markdown",
   "source": [
    "In the above code, we just used the join method. If you don't want to use join. Below"
   ],
   "metadata": {
    "collapsed": false
   }
  },
  {
   "cell_type": "code",
   "execution_count": 11,
   "outputs": [
    {
     "name": "stdout",
     "output_type": "stream",
     "text": [
      "2023-01-02 11:09:02,793 INFO sqlalchemy.engine.Engine SELECT cohort.id AS cohort_id, cohort.cname AS cohort_cname, dataset.id AS dataset_id, dataset.cohort_id AS dataset_cohort_id, dataset.year AS dataset_year, dataset.name AS dataset_name, dataset.location AS dataset_location, dataset.status AS dataset_status \n",
      "FROM cohort, dataset \n",
      "WHERE cohort.id = dataset.cohort_id\n",
      "2023-01-02 11:09:02,794 INFO sqlalchemy.engine.Engine [generated in 0.00137s] ()\n",
      "Cohort_ID: 0 Cohort_Name: breast_cancer dataset_id: 1 dataset_name: breast_clinical_meds.csv\n",
      "Cohort_ID: 0 Cohort_Name: breast_cancer dataset_id: 2 dataset_name: breast_cancer_death_rate.csv\n"
     ]
    }
   ],
   "source": [
    "for c,d in session.query(Cohort,Dataset).filter(Cohort.id==Dataset.cohort_id).all():\n",
    "     print (\"Cohort_ID: {} Cohort_Name: {} dataset_id: {} dataset_name: {}\".format(c.id,c.cname, d.id, d.name))"
   ],
   "metadata": {
    "collapsed": false
   }
  },
  {
   "cell_type": "markdown",
   "source": [
    "### 3.4.1 Join with filter\n",
    "\n",
    "We can also apply filter after the join operation. Note the filter operator must use the complete path (className.attributeName) below code is an example."
   ],
   "metadata": {
    "collapsed": false
   }
  },
  {
   "cell_type": "code",
   "execution_count": 13,
   "outputs": [
    {
     "name": "stdout",
     "output_type": "stream",
     "text": [
      "2023-01-02 11:20:21,269 INFO sqlalchemy.engine.Engine SELECT cohort.id AS cohort_id, cohort.cname AS cohort_cname \n",
      "FROM cohort JOIN dataset ON cohort.id = dataset.cohort_id \n",
      "WHERE dataset.status = ?\n",
      "2023-01-02 11:20:21,270 INFO sqlalchemy.engine.Engine [generated in 0.00078s] (0,)\n",
      "Cohort_ID: 0 Cohort_Name: breast_cancer dataset_id: 1 dataset_name: breast_clinical_meds.csv dataset_status: 0\n",
      "Cohort_ID: 0 Cohort_Name: breast_cancer dataset_id: 2 dataset_name: breast_cancer_death_rate.csv dataset_status: 0\n"
     ]
    }
   ],
   "source": [
    "result=session.query(Cohort).join(Dataset).filter(Dataset.status==0)\n",
    "for row in result:\n",
    "    for dataset in row.datasets:\n",
    "        print (\"Cohort_ID: {} Cohort_Name: {} dataset_id: {} dataset_name: {} dataset_status: {}\".format(row.id,row.cname, dataset.id, dataset.name, dataset.status))"
   ],
   "metadata": {
    "collapsed": false
   }
  },
  {
   "cell_type": "markdown",
   "source": [
    "### 3.4.2 Explicit Joins\n",
    "\n",
    "In above example, Query.join() knows how to join between these tables because there’s only `one foreign key` between them. If there were `no foreign keys, or more foreign keys`, Query.join() works better when one of the following forms are used:\n",
    "- query(Cohort).join(Dataset,Cohort.id==Dataset.cohort_id):\texplicit join condition\n",
    "- query(Cohort).join(Cohort.datasets):\tspecify relationship from left to right\n",
    "- query(Cohort).join(Dataset, Cohort.datasets)\tsame, with explicit target\n",
    "- query(Cohort).join('datasets') :\tsame, using a string"
   ],
   "metadata": {
    "collapsed": false
   }
  },
  {
   "cell_type": "code",
   "execution_count": 15,
   "outputs": [
    {
     "name": "stdout",
     "output_type": "stream",
     "text": [
      "2023-01-02 11:35:42,238 INFO sqlalchemy.engine.Engine SELECT cohort.id AS cohort_id, cohort.cname AS cohort_cname \n",
      "FROM cohort JOIN dataset ON cohort.id = dataset.cohort_id\n",
      "2023-01-02 11:35:42,239 INFO sqlalchemy.engine.Engine [generated in 0.00128s] ()\n",
      "Cohort_ID: 0 Cohort_Name: breast_cancer dataset_id: 1 dataset_name: breast_clinical_meds.csv\n",
      "Cohort_ID: 0 Cohort_Name: breast_cancer dataset_id: 2 dataset_name: breast_cancer_death_rate.csv\n"
     ]
    }
   ],
   "source": [
    "result=session.query(Cohort).join(Dataset,Cohort.id==Dataset.cohort_id).all()\n",
    "for row in result:\n",
    "    for dataset in row.datasets:\n",
    "        print (\"Cohort_ID: {} Cohort_Name: {} dataset_id: {} dataset_name: {}\".format(row.id,row.cname, dataset.id, dataset.name))"
   ],
   "metadata": {
    "collapsed": false
   }
  },
  {
   "cell_type": "code",
   "execution_count": 18,
   "outputs": [
    {
     "name": "stdout",
     "output_type": "stream",
     "text": [
      "2023-01-02 11:38:14,511 INFO sqlalchemy.engine.Engine SELECT cohort.id AS cohort_id, cohort.cname AS cohort_cname \n",
      "FROM cohort JOIN dataset ON cohort.id = dataset.cohort_id\n",
      "2023-01-02 11:38:14,513 INFO sqlalchemy.engine.Engine [generated in 0.00291s] ()\n",
      "Cohort_ID: 0 Cohort_Name: breast_cancer dataset_id: 1 dataset_name: breast_clinical_meds.csv\n",
      "Cohort_ID: 0 Cohort_Name: breast_cancer dataset_id: 2 dataset_name: breast_cancer_death_rate.csv\n"
     ]
    }
   ],
   "source": [
    "result=session.query(Cohort).join(Cohort.datasets).all()\n",
    "for row in result:\n",
    "    for dataset in row.datasets:\n",
    "        print (\"Cohort_ID: {} Cohort_Name: {} dataset_id: {} dataset_name: {}\".format(row.id,row.cname, dataset.id, dataset.name))"
   ],
   "metadata": {
    "collapsed": false
   }
  },
  {
   "cell_type": "code",
   "execution_count": 19,
   "outputs": [
    {
     "name": "stdout",
     "output_type": "stream",
     "text": [
      "2023-01-02 11:39:09,354 INFO sqlalchemy.engine.Engine SELECT cohort.id AS cohort_id, cohort.cname AS cohort_cname \n",
      "FROM cohort JOIN dataset ON cohort.id = dataset.cohort_id\n",
      "2023-01-02 11:39:09,355 INFO sqlalchemy.engine.Engine [generated in 0.00192s] ()\n",
      "Cohort_ID: 0 Cohort_Name: breast_cancer dataset_id: 1 dataset_name: breast_clinical_meds.csv\n",
      "Cohort_ID: 0 Cohort_Name: breast_cancer dataset_id: 2 dataset_name: breast_cancer_death_rate.csv\n"
     ]
    }
   ],
   "source": [
    "result=session.query(Cohort).join(Dataset, Cohort.datasets).all()\n",
    "for row in result:\n",
    "    for dataset in row.datasets:\n",
    "        print (\"Cohort_ID: {} Cohort_Name: {} dataset_id: {} dataset_name: {}\".format(row.id,row.cname, dataset.id, dataset.name))"
   ],
   "metadata": {
    "collapsed": false
   }
  },
  {
   "cell_type": "code",
   "execution_count": 21,
   "outputs": [
    {
     "name": "stdout",
     "output_type": "stream",
     "text": [
      "2023-01-02 11:39:59,561 INFO sqlalchemy.engine.Engine SELECT cohort.id AS cohort_id, cohort.cname AS cohort_cname \n",
      "FROM cohort JOIN dataset ON cohort.id = dataset.cohort_id\n",
      "2023-01-02 11:39:59,562 INFO sqlalchemy.engine.Engine [generated in 0.00153s] ()\n",
      "Cohort_ID: 0 Cohort_Name: breast_cancer dataset_id: 1 dataset_name: breast_clinical_meds.csv\n",
      "Cohort_ID: 0 Cohort_Name: breast_cancer dataset_id: 2 dataset_name: breast_cancer_death_rate.csv\n"
     ]
    }
   ],
   "source": [
    "result=session.query(Cohort).join('datasets').all()\n",
    "for row in result:\n",
    "    for dataset in row.datasets:\n",
    "        print (\"Cohort_ID: {} Cohort_Name: {} dataset_id: {} dataset_name: {}\".format(row.id,row.cname, dataset.id, dataset.name))"
   ],
   "metadata": {
    "collapsed": false
   }
  },
  {
   "cell_type": "markdown",
   "source": [
    "### 3.4.3 Left join\n",
    "\n",
    "Sqlalchemy does not have explicit method for left join. It uses a method called `outerjoin()` (left outer join)\n",
    "\n",
    "Below is an general form:\n",
    "\n",
    "```python\n",
    "# use outerjoin\n",
    "session.query(table1).outerjoin(table2,table1.pri_id == table2.id)\n",
    "\n",
    "# we can also use a join with isouter option to True\n",
    "session.query(table1).join(table2, table1.pri_id == table2.id, isouter=True)\n",
    "```\n",
    "\n",
    "Below is an example of the outer join"
   ],
   "metadata": {
    "collapsed": false
   }
  },
  {
   "cell_type": "code",
   "execution_count": 24,
   "outputs": [],
   "source": [
    "from sqlalchemy.sql import func\n",
    "\n",
    "stmt = session.query(\n",
    "   Invoice.custid, func.count('*').label('invoice_count')\n",
    ").group_by(Invoice.custid).subquery()"
   ],
   "metadata": {
    "collapsed": false
   }
  },
  {
   "cell_type": "code",
   "execution_count": 25,
   "outputs": [
    {
     "name": "stdout",
     "output_type": "stream",
     "text": [
      "2023-01-02 11:52:19,156 INFO sqlalchemy.engine.Engine SELECT customers.id AS customers_id, customers.name AS customers_name, customers.address AS customers_address, customers.email AS customers_email, anon_1.invoice_count AS anon_1_invoice_count \n",
      "FROM customers LEFT OUTER JOIN (SELECT invoices.custid AS custid, count(?) AS invoice_count \n",
      "FROM invoices GROUP BY invoices.custid) AS anon_1 ON customers.id = anon_1.custid ORDER BY customers.id\n",
      "2023-01-02 11:52:19,157 INFO sqlalchemy.engine.Engine [generated in 0.00092s] ('*',)\n",
      "Gopal Krishna 2\n",
      "Toto titi 2\n",
      "Govind Kala 2\n",
      "Abdul Rahman 2\n"
     ]
    }
   ],
   "source": [
    "for u, count in session.query(Customer, stmt.c.invoice_count).outerjoin(stmt, Customer.id == stmt.c.custid).order_by(Customer.id):\n",
    "   print(u.name, count)"
   ],
   "metadata": {
    "collapsed": false
   }
  },
  {
   "cell_type": "markdown",
   "source": [
    "## 3.5 Cascade deletion\n",
    "\n",
    "It is easy to perform delete operation on a single table. All you have to do is to delete an object of the mapped class from a session and commit the action. However, delete operation on multiple related tables is little tricky.\n",
    "\n",
    "Let's try to delete a customer"
   ],
   "metadata": {
    "collapsed": false
   }
  },
  {
   "cell_type": "code",
   "execution_count": 26,
   "outputs": [
    {
     "name": "stdout",
     "output_type": "stream",
     "text": [
      "2023-01-02 12:02:44,488 INFO sqlalchemy.engine.Engine SELECT customers.id AS customers_id, customers.name AS customers_name, customers.address AS customers_address, customers.email AS customers_email \n",
      "FROM customers\n",
      "2023-01-02 12:02:44,489 INFO sqlalchemy.engine.Engine [generated in 0.00094s] ()\n",
      "ID: 1 Name: Gopal Krishna Address: Bank Street Hydarebad email: gk@gmail.com\n",
      "ID: 2 Name: Toto titi Address: the mother land email: titi@gmail.com\n",
      "ID: 3 Name: Govind Kala Address: Gulmandi Aurangabad email: kala@gmail.com\n",
      "ID: 4 Name: Abdul Rahman Address: Rohtak email: abdulr@gmail.com\n"
     ]
    }
   ],
   "source": [
    "result=session.query(Customer).all()\n",
    "for row in result:\n",
    "    print (\"ID: {} Name: {} Address: {} email: {}\".format(row.id,row.name, row.address, row.email))"
   ],
   "metadata": {
    "collapsed": false
   }
  },
  {
   "cell_type": "code",
   "execution_count": 27,
   "outputs": [
    {
     "name": "stdout",
     "output_type": "stream",
     "text": [
      "Toto titi\n"
     ]
    }
   ],
   "source": [
    "# get customer with id=2\n",
    "c=session.query(Customer).get(2)\n",
    "print(c.name)\n"
   ],
   "metadata": {
    "collapsed": false
   }
  },
  {
   "cell_type": "code",
   "execution_count": 28,
   "outputs": [],
   "source": [
    "# delete this customer\n",
    "session.delete(c)"
   ],
   "metadata": {
    "collapsed": false
   }
  },
  {
   "cell_type": "code",
   "execution_count": 31,
   "outputs": [
    {
     "name": "stdout",
     "output_type": "stream",
     "text": [
      "2023-01-02 12:10:07,061 INFO sqlalchemy.engine.Engine SELECT count(*) AS count_1 \n",
      "FROM (SELECT customers.id AS customers_id, customers.name AS customers_name, customers.address AS customers_address, customers.email AS customers_email \n",
      "FROM customers \n",
      "WHERE customers.name = ?) AS anon_1\n",
      "2023-01-02 12:10:07,067 INFO sqlalchemy.engine.Engine [cached since 193.4s ago] ('Toto titi',)\n"
     ]
    },
    {
     "data": {
      "text/plain": "0"
     },
     "execution_count": 31,
     "metadata": {},
     "output_type": "execute_result"
    }
   ],
   "source": [
    "# count the number of customer with name Toto titi, it should be 0.\n",
    "session.query(Customer).filter(Customer.name == 'Toto titi').count()"
   ],
   "metadata": {
    "collapsed": false
   }
  },
  {
   "cell_type": "code",
   "execution_count": 38,
   "outputs": [
    {
     "name": "stdout",
     "output_type": "stream",
     "text": [
      "2023-01-02 12:15:24,912 INFO sqlalchemy.engine.Engine BEGIN (implicit)\n",
      "2023-01-02 12:15:24,913 INFO sqlalchemy.engine.Engine SELECT invoices.id AS invoices_id, invoices.custid AS invoices_custid, invoices.invno AS invoices_invno, invoices.amount AS invoices_amount \n",
      "FROM invoices \n",
      "WHERE invoices.custid > ?\n",
      "2023-01-02 12:15:24,913 INFO sqlalchemy.engine.Engine [cached since 142.9s ago] (0,)\n",
      "ID: 1 Customer_id: 1 invoice_number: 10 amount: 15000\n",
      "ID: 2 Customer_id: 1 invoice_number: 14 amount: 3850\n",
      "ID: 3 Customer_id: 2 invoice_number: 3 amount: 10000\n",
      "ID: 4 Customer_id: 2 invoice_number: 4 amount: 5000\n",
      "ID: 5 Customer_id: 3 invoice_number: 7 amount: 12000\n",
      "ID: 6 Customer_id: 3 invoice_number: 8 amount: 18500\n",
      "ID: 7 Customer_id: 4 invoice_number: 9 amount: 15000\n",
      "ID: 8 Customer_id: 4 invoice_number: 11 amount: 6000\n"
     ]
    }
   ],
   "source": [
    "result=session.query(Invoice).filter(Invoice.custid>0)\n",
    "for row in result:\n",
    "    print (\"ID: {} Customer_id: {} invoice_number: {} amount: {}\".format(row.id,row.custid, row.invno, row.amount))"
   ],
   "metadata": {
    "collapsed": false
   }
  },
  {
   "cell_type": "markdown",
   "source": [
    "The invoice for customer Toto is still in the DB. This is because SQLAlchemy doesn’t assume the deletion of cascade; we have to give a command to delete it.\n",
    "\n",
    "To change the behavior, we configure cascade options on the Customer.invoices relationship. Below code is the new Customer class definition\n",
    "\n",
    "\n",
    "```python\n",
    "class Customer(Base):\n",
    "   __tablename__ = 'customers'\n",
    "\n",
    "   id = Column(Integer, primary_key = True)\n",
    "   name = Column(String)\n",
    "   address = Column(String)\n",
    "   email = Column(String)\n",
    "   invoices = relationship(\n",
    "      \"Invoice\",\n",
    "      order_by = Invoice.id,\n",
    "      back_populates = \"customer\",\n",
    "      cascade = \"all,\n",
    "      delete, delete-orphan\"\n",
    "   )\n",
    "```\n",
    "\n",
    "The cascade attribute in relationship function is a `comma-separated list of cascade rules` which determines how Session operations should be “cascaded” from parent to child. By default, it is False, which means that it is \"save-update, merge\".\n",
    "\n",
    "The available cascades are as follows −\n",
    "\n",
    "- save-update\n",
    "- merge\n",
    "- expunge\n",
    "- delete\n",
    "- delete-orphan\n",
    "- refresh-expire\n",
    "\n",
    "Often used option is \"all, delete-orphan\" to indicate that related objects should follow along with the parent object in all cases, and be deleted when de-associated."
   ],
   "metadata": {
    "collapsed": false
   }
  }
 ],
 "metadata": {
  "kernelspec": {
   "display_name": "Python 3",
   "language": "python",
   "name": "python3"
  },
  "language_info": {
   "codemirror_mode": {
    "name": "ipython",
    "version": 2
   },
   "file_extension": ".py",
   "mimetype": "text/x-python",
   "name": "python",
   "nbconvert_exporter": "python",
   "pygments_lexer": "ipython2",
   "version": "2.7.6"
  }
 },
 "nbformat": 4,
 "nbformat_minor": 0
}
