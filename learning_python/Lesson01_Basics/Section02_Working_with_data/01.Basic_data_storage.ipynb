{
 "cells": [
  {
   "cell_type": "markdown",
   "metadata": {},
   "source": [
    "# 1. Basic data storage\n",
    "\n",
    "All programs process data in one form or another, and many need to be able to save and retrieve that data from one invocation to the next. In `Python`, we have many ways to store data. \n",
    "- Flat files (e.g. csv, json, xml, etc.)\n",
    "- RDBMS (e.g. postgres, mysql, etc)\n",
    "- NoSQL DB (e.g. mongoDB, Neo4J, etc.)\n",
    "\n",
    "In this tutorial, we will use first flat files, then RDBMS (SQLite), to store and retrieve data. At last we will use `SQLAlchemy (ORM)` which allow you to map rows in a table with python object. `SQLite` is a light weight RDBMS which stores data in a single file without the need for complex installation."
   ]
  },
  {
   "cell_type": "markdown",
   "metadata": {},
   "source": [
    "## 1.1 Working with flat files \n",
    "\n",
    "### Advantages of Flat Files\n",
    "- Easy to use and implement\n",
    "- human-readable makes it easy to edit, view/examine, and transfer \n",
    "- support by many language and framework (import, export)\n",
    "\n",
    "\n",
    "### Disadvantages of Flat Files\n",
    "- performance: Large files are difficult to view/examine/edit\n",
    "- No explicit relation between data parts (tables). Relation need to be written in the business logic\n",
    "- No schema or data structure. Users need understand not only the structure of the data but also the programming tools necessary for accessing it.\n",
    "\n",
    "\n",
    "In below example, we use pandas to read the csv file. And `treelib` to print the hierarchies"
   ]
  },
  {
   "cell_type": "code",
   "execution_count": 39,
   "metadata": {},
   "outputs": [],
   "source": [
    "import pandas as pd\n",
    "from treelib import Node, Tree\n",
    "import sqlite3\n",
    "from sqlite3 import Error\n",
    "# imports the Column, Integer, String, ForeignKey, and Table classes from SQLAlchemy, \n",
    "# which are used to help define the model attributes.\n",
    "from sqlalchemy import Column, Integer, String, ForeignKey, Table\n",
    "# imports the relationship() and backref objects, which are used to create the \n",
    "# relationships between objects.\n",
    "from sqlalchemy.orm import relationship, backref\n",
    "# imports the declarative_base object, which connects the database engine to the \n",
    "# SQLAlchemy functionality of the models.\n",
    "from sqlalchemy.ext.declarative import declarative_base"
   ]
  },
  {
   "cell_type": "code",
   "execution_count": 9,
   "metadata": {},
   "outputs": [],
   "source": [
    "def get_data(file_path):\n",
    "    return pd.read_csv(file_path)\n",
    "\n",
    "def get_books_by_publisher(data,ascending=True):\n",
    "    \"\"\"Return the number of books by each publisher as a pandas series\"\"\"\n",
    "    return data.groupby(\"publisher\").size().sort_values(ascending=ascending)\n",
    "\n",
    "def get_authors_by_publisher(data, ascending=True):\n",
    "    \"\"\"Returns the number of authors by each publisher as a pandas series\"\"\"\n",
    "    return (\n",
    "        data.assign(name=data.first_name.str.cat(data.last_name, sep=\" \"))\n",
    "        .groupby(\"publisher\")\n",
    "        .nunique()\n",
    "        .loc[:, \"name\"]\n",
    "        .sort_values(ascending=ascending)\n",
    "    )\n",
    "\n",
    "def add_new_book(data, author_name, book_title, publisher_name):\n",
    "    \"\"\"Adds a new book to the system\"\"\"\n",
    "    # Does the book exist?\n",
    "    first_name, _, last_name = author_name.partition(\" \")\n",
    "    if any(\n",
    "        (data.first_name == first_name)\n",
    "        & (data.last_name == last_name)\n",
    "        & (data.title == book_title)\n",
    "        & (data.publisher == publisher_name)\n",
    "    ):\n",
    "        return data\n",
    "    # Add the new book\n",
    "    return data.append(\n",
    "        {\n",
    "            \"first_name\": first_name,\n",
    "            \"last_name\": last_name,\n",
    "            \"title\": book_title,\n",
    "            \"publisher\": publisher_name,\n",
    "        },\n",
    "        ignore_index=True,\n",
    "    )\n",
    "\n",
    "def output_author_hierarchy(data):\n",
    "    \"\"\"Output the data as a hierarchy list of authors\"\"\"\n",
    "    authors = data.assign(\n",
    "        name=data.first_name.str.cat(data.last_name, sep=\" \")\n",
    "    )\n",
    "    authors_tree = Tree()\n",
    "    authors_tree.create_node(\"Authors\", \"authors\")\n",
    "    for author, books in authors.groupby(\"name\"):\n",
    "        authors_tree.create_node(author, author, parent=\"authors\")\n",
    "        for book, publishers in books.groupby(\"title\")[\"publisher\"]:\n",
    "            book_id = f\"{author}:{book}\"\n",
    "            authors_tree.create_node(book, book_id, parent=author)\n",
    "            for publisher in publishers:\n",
    "                authors_tree.create_node(publisher, parent=book_id)\n",
    "\n",
    "    # Output the hierarchical authors data\n",
    "    authors_tree.show()"
   ]
  },
  {
   "cell_type": "markdown",
   "metadata": {},
   "source": [
    "Below is the main function that calls the above functions "
   ]
  },
  {
   "cell_type": "code",
   "execution_count": 4,
   "metadata": {},
   "outputs": [
    {
     "data": {
      "text/html": [
       "<div>\n",
       "<style scoped>\n",
       "    .dataframe tbody tr th:only-of-type {\n",
       "        vertical-align: middle;\n",
       "    }\n",
       "\n",
       "    .dataframe tbody tr th {\n",
       "        vertical-align: top;\n",
       "    }\n",
       "\n",
       "    .dataframe thead th {\n",
       "        text-align: right;\n",
       "    }\n",
       "</style>\n",
       "<table border=\"1\" class=\"dataframe\">\n",
       "  <thead>\n",
       "    <tr style=\"text-align: right;\">\n",
       "      <th></th>\n",
       "      <th>first_name</th>\n",
       "      <th>last_name</th>\n",
       "      <th>title</th>\n",
       "      <th>publisher</th>\n",
       "    </tr>\n",
       "  </thead>\n",
       "  <tbody>\n",
       "    <tr>\n",
       "      <th>0</th>\n",
       "      <td>Isaac</td>\n",
       "      <td>Asimov</td>\n",
       "      <td>Foundation</td>\n",
       "      <td>Random House</td>\n",
       "    </tr>\n",
       "    <tr>\n",
       "      <th>1</th>\n",
       "      <td>Pearl</td>\n",
       "      <td>Buck</td>\n",
       "      <td>The Good Earth</td>\n",
       "      <td>Random House</td>\n",
       "    </tr>\n",
       "    <tr>\n",
       "      <th>2</th>\n",
       "      <td>Pearl</td>\n",
       "      <td>Buck</td>\n",
       "      <td>The Good Earth</td>\n",
       "      <td>Simon &amp; Schuster</td>\n",
       "    </tr>\n",
       "    <tr>\n",
       "      <th>3</th>\n",
       "      <td>Tom</td>\n",
       "      <td>Clancy</td>\n",
       "      <td>The Hunt For Red October</td>\n",
       "      <td>Berkley</td>\n",
       "    </tr>\n",
       "    <tr>\n",
       "      <th>4</th>\n",
       "      <td>Tom</td>\n",
       "      <td>Clancy</td>\n",
       "      <td>Patriot Games</td>\n",
       "      <td>Simon &amp; Schuster</td>\n",
       "    </tr>\n",
       "  </tbody>\n",
       "</table>\n",
       "</div>"
      ],
      "text/plain": [
       "  first_name last_name                     title         publisher\n",
       "0      Isaac    Asimov                Foundation      Random House\n",
       "1      Pearl      Buck            The Good Earth      Random House\n",
       "2      Pearl      Buck            The Good Earth  Simon & Schuster\n",
       "3        Tom    Clancy  The Hunt For Red October           Berkley\n",
       "4        Tom    Clancy             Patriot Games  Simon & Schuster"
      ]
     },
     "execution_count": 4,
     "metadata": {},
     "output_type": "execute_result"
    }
   ],
   "source": [
    "root_path=\"../../../data\"\n",
    "file_path=f\"{root_path}/author_book_publisher.csv\"\n",
    "\n",
    "data = get_data(file_path)\n",
    "data.head()"
   ]
  },
  {
   "cell_type": "code",
   "execution_count": 5,
   "metadata": {},
   "outputs": [
    {
     "name": "stdout",
     "output_type": "stream",
     "text": [
      "Publisher: Random House, total books: 4\n",
      "Publisher: Simon & Schuster, total books: 4\n",
      "Publisher: Berkley, total books: 2\n",
      "Publisher: Penguin Random House, total books: 2\n",
      "\n"
     ]
    }
   ],
   "source": [
    "# Get the number of books printed by each publisher\n",
    "books_by_publisher = get_books_by_publisher(data, ascending=False)\n",
    "for publisher, total_books in books_by_publisher.items():\n",
    "    print(f\"Publisher: {publisher}, total books: {total_books}\")\n",
    "print()"
   ]
  },
  {
   "cell_type": "code",
   "execution_count": 6,
   "metadata": {},
   "outputs": [
    {
     "name": "stdout",
     "output_type": "stream",
     "text": [
      "Publisher: Simon & Schuster, total authors: 4\n",
      "Publisher: Random House, total authors: 3\n",
      "Publisher: Berkley, total authors: 2\n",
      "Publisher: Penguin Random House, total authors: 1\n",
      "\n"
     ]
    }
   ],
   "source": [
    "# Get the number of authors each publisher publishes\n",
    "authors_by_publisher = get_authors_by_publisher(data, ascending=False)\n",
    "for publisher, total_authors in authors_by_publisher.items():\n",
    "    print(f\"Publisher: {publisher}, total authors: {total_authors}\")\n",
    "print()"
   ]
  },
  {
   "cell_type": "code",
   "execution_count": 10,
   "metadata": {},
   "outputs": [
    {
     "name": "stdout",
     "output_type": "stream",
     "text": [
      "Authors\n",
      "├── Alex Michaelides\n",
      "│   └── The Silent Patient\n",
      "│       └── Simon & Schuster\n",
      "├── Carol Shaben\n",
      "│   └── Into The Abyss\n",
      "│       └── Simon & Schuster\n",
      "├── Isaac Asimov\n",
      "│   └── Foundation\n",
      "│       └── Random House\n",
      "├── John Le Carre\n",
      "│   └── Tinker, Tailor, Soldier, Spy: A George Smiley Novel\n",
      "│       └── Berkley\n",
      "├── Pearl Buck\n",
      "│   └── The Good Earth\n",
      "│       ├── Random House\n",
      "│       └── Simon & Schuster\n",
      "├── Stephen King\n",
      "│   ├── Dead Zone\n",
      "│   │   └── Random House\n",
      "│   ├── It\n",
      "│   │   ├── Penguin Random House\n",
      "│   │   └── Random House\n",
      "│   └── The Shining\n",
      "│       └── Penguin Random House\n",
      "└── Tom Clancy\n",
      "    ├── Patriot Games\n",
      "    │   └── Simon & Schuster\n",
      "    └── The Hunt For Red October\n",
      "        └── Berkley\n",
      "\n"
     ]
    }
   ],
   "source": [
    "# Output hierarchical authors data\n",
    "output_author_hierarchy(data)"
   ]
  },
  {
   "cell_type": "code",
   "execution_count": 11,
   "metadata": {},
   "outputs": [
    {
     "name": "stderr",
     "output_type": "stream",
     "text": [
      "/tmp/ipykernel_45614/3122650083.py:30: FutureWarning: The frame.append method is deprecated and will be removed from pandas in a future version. Use pandas.concat instead.\n",
      "  return data.append(\n"
     ]
    }
   ],
   "source": [
    "# Add a new book to the data structure\n",
    "data = add_new_book(\n",
    "    data,\n",
    "    author_name=\"Pengfei Liu\",\n",
    "    book_title=\"The real world\",\n",
    "    publisher_name=\"Random House\",\n",
    ")"
   ]
  },
  {
   "cell_type": "code",
   "execution_count": 12,
   "metadata": {},
   "outputs": [
    {
     "name": "stdout",
     "output_type": "stream",
     "text": [
      "Authors\n",
      "├── Alex Michaelides\n",
      "│   └── The Silent Patient\n",
      "│       └── Simon & Schuster\n",
      "├── Carol Shaben\n",
      "│   └── Into The Abyss\n",
      "│       └── Simon & Schuster\n",
      "├── Isaac Asimov\n",
      "│   └── Foundation\n",
      "│       └── Random House\n",
      "├── John Le Carre\n",
      "│   └── Tinker, Tailor, Soldier, Spy: A George Smiley Novel\n",
      "│       └── Berkley\n",
      "├── Pearl Buck\n",
      "│   └── The Good Earth\n",
      "│       ├── Random House\n",
      "│       └── Simon & Schuster\n",
      "├── Pengfei Liu\n",
      "│   └── The real world\n",
      "│       └── Random House\n",
      "├── Stephen King\n",
      "│   ├── Dead Zone\n",
      "│   │   └── Random House\n",
      "│   ├── It\n",
      "│   │   ├── Penguin Random House\n",
      "│   │   └── Random House\n",
      "│   └── The Shining\n",
      "│       └── Penguin Random House\n",
      "└── Tom Clancy\n",
      "    ├── Patriot Games\n",
      "    │   └── Simon & Schuster\n",
      "    └── The Hunt For Red October\n",
      "        └── Berkley\n",
      "\n"
     ]
    }
   ],
   "source": [
    "# Output the updated hierarchical authors data\n",
    "output_author_hierarchy(data)"
   ]
  },
  {
   "cell_type": "markdown",
   "metadata": {},
   "source": [
    "\n",
    "## 1.2 Store data in a RDBMS\n",
    "\n",
    "As we mentioned before, data in flat file has no structure. If we put the `author_book_publisher.csv` data into one table. It can work, but we lose all the advantage of a RDBMS. So first step, we need to do \n",
    "data normalization. It often takes three steps:\n",
    "- convert data to 1st normal form\n",
    "- convert the result of step1 to 2nd normal form\n",
    "- convert the result of setp2 to 3rd normal form\n",
    "\n",
    "Here we will not show the details of how to normalize the tables. \n",
    "\n",
    "In below section, we will:\n",
    "1. create a data model for the csv file\n",
    "2. create a data base structure (tables with relation) in a RDBMS (SQLite)\n",
    "3. Populate the DB\n",
    "\n",
    "The `SQLite database` offers a full-featured relational database management system (RDBMS) that works with a single file to maintain all the database functionality.\n",
    "\n",
    "### 1.2.1 Create data model\n",
    "\n",
    "Entities:\n",
    "- book\n",
    "- author\n",
    "- publisher\n",
    "\n",
    "Relations between entities:\n",
    "\n",
    "Below figure is an **entity-relation diagram (ERD)**  which is created by using `data grip`.\n",
    "\n",
    "![book_publisher_ERD.PNG](../../../images/book_publisher_ERD.PNG)\n",
    "\n",
    "We have a `one-to-many relations` between authors and books (here, we suppose, one book only have one authors, otherwise it's a many to many relations). An author can have multiple books.\n",
    "\n",
    "We have two `many-to-many relations` between (author,publisher) and (book, publisher). Because One author can work with many publishers, and one publisher can work with many authors. Similarly, one book can be published by many publishers, and one publisher can publish many books.\n",
    "\n",
    "### 1.2.2 Create db structure\n",
    "\n",
    "Sqlite has a native support of python. So we can crate a sqlite db with python. For more info, please visit [sqlite-python](https://www.sqlitetutorial.net/sqlite-python/).\n",
    "\n",
    "\n",
    "We use python to connect to sqlite, you can also use `sqlite3 <db-path>` to open an interactive CLI. Once you have the shell, you can run any sql request as in a real RDBMS. \n",
    "\n",
    "```sqlite\n",
    "# formatting output\n",
    ".header on\n",
    ".mode column\n",
    ".timer on\n",
    "\n",
    "# list existing tables\n",
    "SELECT name FROM sqlite_schema\n",
    "WHERE type='table'\n",
    "ORDER BY name;\n",
    "\n",
    "# to exit shell\n",
    ".quit\n",
    "\n",
    "```"
   ]
  },
  {
   "cell_type": "code",
   "execution_count": 18,
   "metadata": {},
   "outputs": [],
   "source": [
    "def create_connection(db_file_path:str):\n",
    "    \"\"\" create a database connection to a SQLite database \n",
    "        if you put db_file_path=:memory:, the sqlite db resides in the memory\n",
    "    \"\"\"\n",
    "    conn = None\n",
    "    try:\n",
    "        conn = sqlite3.connect(db_file_path)\n",
    "        print(sqlite3.version)\n",
    "    except Error as e:\n",
    "        print(e)\n",
    "    return conn"
   ]
  },
  {
   "cell_type": "code",
   "execution_count": 19,
   "metadata": {},
   "outputs": [
    {
     "name": "stdout",
     "output_type": "stream",
     "text": [
      "2.6.0\n"
     ]
    }
   ],
   "source": [
    "# we create a new data base \n",
    "db_path=f\"{root_path}/author_book_publisher.db\"\n",
    "conn=create_connection(db_path)"
   ]
  },
  {
   "cell_type": "code",
   "execution_count": 21,
   "metadata": {},
   "outputs": [
    {
     "data": {
      "text/plain": [
       "<sqlite3.Cursor at 0x7f6e9bb353c0>"
      ]
     },
     "execution_count": 21,
     "metadata": {},
     "output_type": "execute_result"
    }
   ],
   "source": [
    "# add an entity table author in the database\n",
    "conn.execute('''\n",
    "CREATE TABLE IF NOT EXISTS author (\n",
    "    author_id INTEGER NOT NULL PRIMARY KEY,\n",
    "    first_name VARCHAR,\n",
    "    last_name VARCHAR\n",
    ");\n",
    "''')"
   ]
  },
  {
   "cell_type": "code",
   "execution_count": 22,
   "metadata": {},
   "outputs": [
    {
     "data": {
      "text/plain": [
       "<sqlite3.Cursor at 0x7f6e9bb34fc0>"
      ]
     },
     "execution_count": 22,
     "metadata": {},
     "output_type": "execute_result"
    }
   ],
   "source": [
    "# add an entity table book in the database\n",
    "# author book has one to many relation. So the primary key of author is the foreign\n",
    "# of book \n",
    "conn.execute('''\n",
    "CREATE TABLE IF NOT EXISTS book (\n",
    "    book_id INTEGER NOT NULL PRIMARY KEY,\n",
    "    author_id INTEGER REFERENCES author,\n",
    "    title VARCHAR\n",
    ");\n",
    "''')"
   ]
  },
  {
   "cell_type": "code",
   "execution_count": 23,
   "metadata": {},
   "outputs": [
    {
     "data": {
      "text/plain": [
       "<sqlite3.Cursor at 0x7f6e9bb35540>"
      ]
     },
     "execution_count": 23,
     "metadata": {},
     "output_type": "execute_result"
    }
   ],
   "source": [
    "# add an entity table book in the database\n",
    "conn.execute('''\n",
    "CREATE TABLE IF NOT EXISTS publisher (\n",
    "    publisher_id INTEGER NOT NULL PRIMARY KEY,\n",
    "    name VARCHAR\n",
    ");\n",
    "''')"
   ]
  },
  {
   "cell_type": "markdown",
   "metadata": {},
   "source": [
    "We have created the three table that represent the three entities. The author table has a one to many relation with book table. So the primary key of author is the foreign key of the book table.\n",
    "\n",
    "For expressing many-to-many relationships, we need to create **association table**. As we have two many to many relations, we need two association table\n",
    "- author_publisher\n",
    "- book_publisher\n",
    "\n"
   ]
  },
  {
   "cell_type": "code",
   "execution_count": 26,
   "metadata": {},
   "outputs": [
    {
     "data": {
      "text/plain": [
       "<sqlite3.Cursor at 0x7f6e9bb371c0>"
      ]
     },
     "execution_count": 26,
     "metadata": {},
     "output_type": "execute_result"
    }
   ],
   "source": [
    "# add an association table author_publisher in the database\n",
    "conn.execute('''\n",
    "CREATE TABLE IF NOT EXISTS author_publisher (\n",
    "    author_id INTEGER REFERENCES author,\n",
    "    publisher_id INTEGER REFERENCES publisher\n",
    ");\n",
    "''')"
   ]
  },
  {
   "cell_type": "code",
   "execution_count": 27,
   "metadata": {},
   "outputs": [
    {
     "data": {
      "text/plain": [
       "<sqlite3.Cursor at 0x7f6e9bb351c0>"
      ]
     },
     "execution_count": 27,
     "metadata": {},
     "output_type": "execute_result"
    }
   ],
   "source": [
    "# add an association table book_publisher in the database\n",
    "conn.execute('''\n",
    "CREATE TABLE IF NOT EXISTS book_publisher (\n",
    "    book_id INTEGER REFERENCES book,\n",
    "    publisher_id INTEGER REFERENCES publisher\n",
    ");\n",
    "''')"
   ]
  },
  {
   "cell_type": "markdown",
   "metadata": {},
   "source": [
    "### 1.2.3 Populating the DB\n",
    "\n",
    "To populate a table, we can use `insert into` command. Below is an example."
   ]
  },
  {
   "cell_type": "code",
   "execution_count": 24,
   "metadata": {},
   "outputs": [
    {
     "data": {
      "text/plain": [
       "<sqlite3.Cursor at 0x7f6e9bb35140>"
      ]
     },
     "execution_count": 24,
     "metadata": {},
     "output_type": "execute_result"
    }
   ],
   "source": [
    "# insert data to tables\n",
    "conn.execute('''\n",
    "INSERT INTO author\n",
    "    (first_name, last_name)\n",
    "VALUES ('Paul', 'Mendez');\n",
    "''')"
   ]
  },
  {
   "cell_type": "code",
   "execution_count": 28,
   "metadata": {},
   "outputs": [
    {
     "data": {
      "text/plain": [
       "<sqlite3.Cursor at 0x7f6e9bb37140>"
      ]
     },
     "execution_count": 28,
     "metadata": {},
     "output_type": "execute_result"
    }
   ],
   "source": [
    "# insert data to tables\n",
    "conn.execute('''\n",
    "INSERT INTO author\n",
    "    (first_name, last_name)\n",
    "VALUES ('Stephen', 'King');\n",
    "''')"
   ]
  },
  {
   "cell_type": "markdown",
   "metadata": {},
   "source": [
    "You may notice that, after the insert, the table is not updated. Instead, sqlite create a temporary (.db-journal) file\n",
    "that stores you transaction. Unless you run `commit`, no changes will be persistent"
   ]
  },
  {
   "cell_type": "code",
   "execution_count": 29,
   "metadata": {},
   "outputs": [
    {
     "data": {
      "text/plain": [
       "<sqlite3.Cursor at 0x7f6e9bb35b40>"
      ]
     },
     "execution_count": 29,
     "metadata": {},
     "output_type": "execute_result"
    }
   ],
   "source": [
    "conn.execute('''\n",
    "commit;\n",
    "''')"
   ]
  },
  {
   "cell_type": "markdown",
   "metadata": {},
   "source": [
    "After running commit, you can notice the temporary file is deleted, and the data is added to the DB.\n",
    "\n",
    "### 1.2.4 Modify data\n",
    "If you want to modify the value of an existing row, you can use the `UPDATE` command. Below is an example.\n",
    "Similar to insert, `UPDATE` is considered as a transaction too. So we need to run `commit` to validate the transaction."
   ]
  },
  {
   "cell_type": "code",
   "execution_count": 30,
   "metadata": {},
   "outputs": [
    {
     "data": {
      "text/plain": [
       "<sqlite3.Cursor at 0x7f6e9bb36540>"
      ]
     },
     "execution_count": 30,
     "metadata": {},
     "output_type": "execute_result"
    }
   ],
   "source": [
    "conn.execute('''\n",
    "UPDATE author\n",
    "SET first_name = 'Richard', last_name = 'Bachman'\n",
    "WHERE first_name = 'Stephen' AND last_name = 'King';\n",
    "''')"
   ]
  },
  {
   "cell_type": "code",
   "execution_count": 31,
   "metadata": {},
   "outputs": [
    {
     "data": {
      "text/plain": [
       "<sqlite3.Cursor at 0x7f6e9bb35c40>"
      ]
     },
     "execution_count": 31,
     "metadata": {},
     "output_type": "execute_result"
    }
   ],
   "source": [
    "conn.execute('''\n",
    "commit;\n",
    "''')"
   ]
  },
  {
   "cell_type": "markdown",
   "metadata": {},
   "source": [
    "### 1.2.5 Deleting data\n",
    "\n",
    "To delete data, we can use `DELETE` command. Note the `execute` method only allows you to execute one query a time. So you can't add `commit;` just after the delete command. As result you can execute the deletion as many as you want, it won't return error. "
   ]
  },
  {
   "cell_type": "code",
   "execution_count": 36,
   "metadata": {},
   "outputs": [
    {
     "data": {
      "text/plain": [
       "<sqlite3.Cursor at 0x7f6e9bb40040>"
      ]
     },
     "execution_count": 36,
     "metadata": {},
     "output_type": "execute_result"
    }
   ],
   "source": [
    "conn.execute('''\n",
    "DELETE FROM author\n",
    "WHERE first_name = 'Paul'\n",
    "AND last_name = 'Mendez';\n",
    "''')"
   ]
  },
  {
   "cell_type": "code",
   "execution_count": 37,
   "metadata": {},
   "outputs": [
    {
     "data": {
      "text/plain": [
       "<sqlite3.Cursor at 0x7f6e9bb36c40>"
      ]
     },
     "execution_count": 37,
     "metadata": {},
     "output_type": "execute_result"
    }
   ],
   "source": [
    "conn.execute('''\n",
    "commit;\n",
    "''')"
   ]
  },
  {
   "cell_type": "markdown",
   "metadata": {},
   "source": [
    "## 1.3 Working With SQLAlchemy and Python Objects\n",
    "\n",
    "**SQLAlchemy** is a powerful database access tool kit for Python, with its `object-relational mapper (ORM)` being one of its most famous components.\n",
    "\n",
    "As we know, the RDBMS data model does not always match with the data model of Object Oriented Programming.\n",
    "This problem is known as [object-relational impedance mismatch](https://en.wikipedia.org/wiki/Object-relational_impedance_mismatch).\n",
    "\n",
    "The `ORM provided by SQLAlchemy sits between the database and your Python program and transforms the data flow between the database engine and Python objects`. SQLAlchemy allows you to think in terms of objects and still retain the powerful features of a database engine.\n",
    "\n",
    "\n",
    "### 1.3.1 The Model\n",
    "\n",
    "The SQLAlchemy model is a Python class defining the data mapping between the Python objects returned as a result of a database query and the underlying database tables.\n",
    "\n",
    "In the `entity-relationship diagram`, all boxes will be represented by a table (Python classes) in the model. The arrows are the relationships between the tables.\n",
    "\n",
    "The tables in the model are Python classes inheriting from an `SQLAlchemy Base class`. The Base class provides the interface operations between instances of the model and the database table"
   ]
  },
  {
   "cell_type": "code",
   "execution_count": null,
   "metadata": {},
   "outputs": [],
   "source": [
    "# creates the Base class, which is what all models inherit from and how they \n",
    "# get SQLAlchemy ORM functionality.\n",
    "Base = declarative_base()"
   ]
  },
  {
   "cell_type": "code",
   "execution_count": null,
   "metadata": {},
   "outputs": [],
   "source": [
    "# create the author_publisher association table model.\n",
    "author_publisher = Table(\n",
    "    # table name\n",
    "    \"author_publisher\",\n",
    "    # Base.metadata provides the connection between the SQLAlchemy functionality and the database engine.\n",
    "    Base.metadata,\n",
    "    # column description: name, type, if foreign key, need to add a foreign key reference\n",
    "    # This reference creates a a dependency between two Column fields in different tables. \n",
    "    # A ForeignKey is how you make SQLAlchemy aware of the relationships between tables.\n",
    "    # Below code defines author_id is a foreign key related to the primary key in the author table.\n",
    "    Column(\"author_id\", Integer, ForeignKey(\"author.author_id\")),\n",
    "    Column(\"publisher_id\", Integer, ForeignKey(\"publisher.publisher_id\")),\n",
    ")"
   ]
  },
  {
   "cell_type": "code",
   "execution_count": null,
   "metadata": {},
   "outputs": [],
   "source": [
    "# create the book_publisher association table model.\n",
    "book_publisher = Table(\n",
    "    \"book_publisher\",\n",
    "    Base.metadata,\n",
    "    Column(\"book_id\", Integer, ForeignKey(\"book.book_id\")),\n",
    "    Column(\"publisher_id\", Integer, ForeignKey(\"publisher.publisher_id\")),\n",
    ")"
   ]
  },
  {
   "cell_type": "code",
   "execution_count": null,
   "metadata": {},
   "outputs": [],
   "source": [
    "# define the Author class model to the author database table.\n",
    "class Author(Base):\n",
    "    __tablename__ = \"author\"\n",
    "    author_id = Column(Integer, primary_key=True)\n",
    "    first_name = Column(String)\n",
    "    last_name = Column(String)\n",
    "    # One to many relation\n",
    "    # Having a ForeignKey defines the existence of the relationship between tables but not \n",
    "    # the collection of books an author can have. \n",
    "    # Below code defines a parent-child collection. The books attribute being plural \n",
    "    # (which is not a requirement, just a convention) is an indication that it’s a collection.\n",
    "    # The first parameter is the class name Book (which is not the table name book), is the class to \n",
    "    # which the books attribute is related. The relationship informs SQLAlchemy that there’s a relationship \n",
    "    # between the **Author and Book classes**. SQLAlchemy will find the relationship in the Book class \n",
    "    # definition (line 3 of book class)\n",
    "    # The backref parameter creates an author attribute for each Book instance. This attribute refers to \n",
    "    # the parent Author that the Book instance is related to.\n",
    "    books = relationship(\"Book\", backref=backref(\"author\"))\n",
    "\n",
    "    # Many to many relation\n",
    "    # The first parameter, \"Publisher\", informs SQLAlchemy what the related class is.\n",
    "    # \"secondary\" tells SQLAlchemy that the relationship to the Publisher class is through a secondary table, \n",
    "    # which is the author_publisher association table. It makes SQLAlchemy find the publisher_id ForeignKey \n",
    "    # defined in the author_publisher association table\n",
    "    # back_populates is a convenience configuration telling SQLAlchemy that there’s a complementary collection \n",
    "    # in the Publisher class called authors.\n",
    "    publishers = relationship(\n",
    "        \"Publisher\", secondary=author_publisher, back_populates=\"authors\"\n",
    "    )"
   ]
  },
  {
   "cell_type": "code",
   "execution_count": null,
   "metadata": {},
   "outputs": [],
   "source": [
    "# define the Book class model to the book database table.\n",
    "class Book(Base):\n",
    "    __tablename__ = \"book\"\n",
    "    book_id = Column(Integer, primary_key=True)\n",
    "    author_id = Column(Integer, ForeignKey(\"author.author_id\"))\n",
    "    title = Column(String)\n",
    "    publishers = relationship(\n",
    "        \"Publisher\", secondary=book_publisher, back_populates=\"books\"\n",
    "    )"
   ]
  },
  {
   "cell_type": "code",
   "execution_count": null,
   "metadata": {},
   "outputs": [],
   "source": [
    "# define the Publisher class model to the publisher database table.\n",
    "class Publisher(Base):\n",
    "    __tablename__ = \"publisher\"\n",
    "    publisher_id = Column(Integer, primary_key=True)\n",
    "    name = Column(String)\n",
    "    authors = relationship(\n",
    "        \"Author\", secondary=author_publisher, back_populates=\"publishers\"\n",
    "    )\n",
    "    books = relationship(\n",
    "        \"Book\", secondary=book_publisher, back_populates=\"publishers\"\n",
    "    )"
   ]
  },
  {
   "cell_type": "code",
   "execution_count": null,
   "metadata": {},
   "outputs": [],
   "source": []
  }
 ],
 "metadata": {
  "kernelspec": {
   "display_name": "base",
   "language": "python",
   "name": "python3"
  },
  "language_info": {
   "codemirror_mode": {
    "name": "ipython",
    "version": 3
   },
   "file_extension": ".py",
   "mimetype": "text/x-python",
   "name": "python",
   "nbconvert_exporter": "python",
   "pygments_lexer": "ipython3",
   "version": "3.10.4"
  },
  "orig_nbformat": 4,
  "vscode": {
   "interpreter": {
    "hash": "3fa046f995eb80ac40c0869a1f9df46519f4ada8b8c395ef25dd1aa1a1a2fc63"
   }
  }
 },
 "nbformat": 4,
 "nbformat_minor": 2
}
