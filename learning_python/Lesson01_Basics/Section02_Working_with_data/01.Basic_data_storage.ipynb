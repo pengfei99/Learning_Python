{
 "cells": [
  {
   "cell_type": "markdown",
   "metadata": {},
   "source": [
    "# 1. Basic data storage\n",
    "\n",
    "All programs process data in one form or another, and many need to be able to save and retrieve that data from one invocation to the next. In `Python`, we have many ways to store data. \n",
    "- Flat files (e.g. csv, json, xml, etc.)\n",
    "- RDBMS (e.g. postgres, mysql, etc)\n",
    "- NoSQL DB (e.g. mongoDB, Neo4J, etc.)\n",
    "\n",
    "In this tutorial, we will use first flat files, then RDBMS (SQLite), to store and retrieve data. At last we will use `SQLAlchemy (ORM)` which allow you to map rows in a table with python object. `SQLite` is a light weight RDBMS which stores data in a single file without the need for complex installation."
   ]
  },
  {
   "cell_type": "markdown",
   "metadata": {},
   "source": [
    "## 1.1 Working with flat files \n",
    "\n",
    "### Advantages of Flat Files\n",
    "- Easy to use and implement\n",
    "- human-readable makes it easy to edit, view/examine, and transfer \n",
    "- support by many language and framework (import, export)\n",
    "\n",
    "\n",
    "### Disadvantages of Flat Files\n",
    "- performance: Large files are difficult to view/examine/edit\n",
    "- No explicit relation between data parts (tables). Relation need to be written in the business logic\n",
    "- No schema or data structure. Users need understand not only the structure of the data but also the programming tools necessary for accessing it."
   ]
  }
 ],
 "metadata": {
  "kernelspec": {
   "display_name": "base",
   "language": "python",
   "name": "python3"
  },
  "language_info": {
   "name": "python",
   "version": "3.10.4 | packaged by conda-forge | (main, Mar 24 2022, 17:38:57) [GCC 10.3.0]"
  },
  "orig_nbformat": 4,
  "vscode": {
   "interpreter": {
    "hash": "3fa046f995eb80ac40c0869a1f9df46519f4ada8b8c395ef25dd1aa1a1a2fc63"
   }
  }
 },
 "nbformat": 4,
 "nbformat_minor": 2
}
