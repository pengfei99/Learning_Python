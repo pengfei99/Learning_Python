{
 "cells": [
  {
   "cell_type": "markdown",
   "source": [
    "# 4. Explore classes, module and packages\n",
    "\n",
    "After importing a classes, module or a package, we want to explorer the available functions.\n",
    "In this tutorial, we will show how to explore a python object(class), module or package\n",
    "\n",
    "Base on your python version, the behavior may be different. In this tutorial, we use pyton 3.8.10. So check your python version first."
   ],
   "metadata": {
    "collapsed": false
   }
  },
  {
   "cell_type": "code",
   "execution_count": 28,
   "outputs": [
    {
     "name": "stdout",
     "output_type": "stream",
     "text": [
      "/home/pengfei/.cache/pypoetry/virtualenvs/learning-python-GOAEXFF0-py3.8/bin/python\n",
      "3.8.10 (default, Mar 13 2023, 10:26:41) \n",
      "[GCC 9.4.0]\n",
      "sys.version_info(major=3, minor=8, micro=10, releaselevel='final', serial=0)\n"
     ]
    }
   ],
   "source": [
    "import sys\n",
    "import inspect\n",
    "print(sys.executable)\n",
    "print(sys.version)\n",
    "print(sys.version_info)"
   ],
   "metadata": {
    "collapsed": false
   }
  },
  {
   "cell_type": "markdown",
   "source": [
    "## 4.1 Python objects\n",
    "\n",
    "Python object provides some methods and attributes which allows you to better understand the python object:\n",
    "- __dict__ : is A `dictionary` or other `mapping object` used to store an object’s **writable** attributes. It's also called `mappingproxy` object\n",
    "- vars(): Without argument, it returns us a dictionary representation of all defined variables in the scope of a defined python script\n",
    "- vars(object): It returns the `__dict__` attribute of the object.\n",
    "- dir(): It returns a list of all available attribute, also include the attributes of its parent class\n",
    "- __dir__(): Idem to dir()\n",
    "\n",
    "Python objects keep their symbol table in a dictionary, you can call **__dir__()** method to show the list. So to see the dictionary of available symbols, run following command\n",
    "\n"
   ],
   "metadata": {
    "collapsed": false
   }
  },
  {
   "cell_type": "markdown",
   "source": [
    "### 4.1.1 Use builtin function to get all writable attributes of an object\n",
    "\n",
    "\n",
    "Below code snippet is the general form.\n",
    "\n",
    "```python\n",
    "\n",
    "object.__dict__\n",
    "```\n",
    "\n",
    "Run below code to get the dict of all writable attributes of an object"
   ],
   "metadata": {
    "collapsed": false
   }
  },
  {
   "cell_type": "code",
   "execution_count": 58,
   "outputs": [],
   "source": [
    "class MyObj:\n",
    "        def __init__(self, name:str, id:int):\n",
    "                self.name=name\n",
    "                self.id = id\n",
    "\n",
    "        def getId(self):\n",
    "                return self.id\n",
    "\n",
    "        def setId(self, id:int):\n",
    "                self.id=id\n"
   ],
   "metadata": {
    "collapsed": false
   }
  },
  {
   "cell_type": "code",
   "execution_count": 11,
   "outputs": [
    {
     "name": "stdout",
     "output_type": "stream",
     "text": [
      "{'name': 'toto', 'id': 1}\n"
     ]
    }
   ],
   "source": [
    "object1 = MyObj(\"toto\",1)\n",
    "# show the content of __dict__ of object1\n",
    "print(object1.__dict__)"
   ],
   "metadata": {
    "collapsed": false
   }
  },
  {
   "cell_type": "code",
   "execution_count": 14,
   "outputs": [
    {
     "data": {
      "text/plain": "{'name': 'toto', 'id': 1}"
     },
     "execution_count": 14,
     "metadata": {},
     "output_type": "execute_result"
    }
   ],
   "source": [
    "# you can notice below code prints the same output as object1.__dict__\n",
    "vars(object1)"
   ],
   "metadata": {
    "collapsed": false
   }
  },
  {
   "cell_type": "code",
   "execution_count": 15,
   "outputs": [
    {
     "data": {
      "text/plain": "{'__name__': '__main__',\n '__doc__': 'Automatically created module for IPython interactive environment',\n '__package__': None,\n '__loader__': None,\n '__spec__': None,\n '__builtin__': <module 'builtins' (built-in)>,\n '__builtins__': <module 'builtins' (built-in)>,\n '_ih': ['',\n  'object1 = [1,2,3]\\nprint(object1.__dict__)',\n  'print(dir(object1))',\n  'object1 = [1,2,3]\\nprint(object1.__dir__)',\n  'dict1= {\"k1\":\"v1\",\\n        \"k2\":\"v2\",\\n        \"k3\":\"v3\",\\n        }',\n  'print(dict1.__dict__)',\n  'import learning_python.Lesson04_Module_Package.src.mod as mod\\n\\nmyPrinter=mod.Printer(\"myPrinter\")\\nprint(myPrinter.__dict__)',\n  'from platform import python_version\\nprint(python_version())',\n  'import sys\\nprint(sys.executable)\\nprint(sys.version)\\nprint(sys.version_info)',\n  'class MyObj:\\n        def __init__(self, name:str, id:int):\\n                self.name=name\\n                self.id = id\\n            \\n            ',\n  'object1 = MyObj(\"toto\",1)\\nprint(object1.__dir__)',\n  'object1 = MyObj(\"toto\",1)\\nprint(object1.__dict__)',\n  'import sys\\nprint(sys.executable)\\nprint(sys.version)\\nprint(sys.version_info)',\n  'import sys\\nprint(sys.executable)\\nprint(sys.version)\\nprint(sys.version_info)',\n  'vars(object1)',\n  'vars()'],\n '_oh': {14: {'name': 'toto', 'id': 1}},\n '_dh': [PosixPath('/home/pengfei/git/Learning_Python/learning_python/Lesson04_Module_Package')],\n 'In': ['',\n  'object1 = [1,2,3]\\nprint(object1.__dict__)',\n  'print(dir(object1))',\n  'object1 = [1,2,3]\\nprint(object1.__dir__)',\n  'dict1= {\"k1\":\"v1\",\\n        \"k2\":\"v2\",\\n        \"k3\":\"v3\",\\n        }',\n  'print(dict1.__dict__)',\n  'import learning_python.Lesson04_Module_Package.src.mod as mod\\n\\nmyPrinter=mod.Printer(\"myPrinter\")\\nprint(myPrinter.__dict__)',\n  'from platform import python_version\\nprint(python_version())',\n  'import sys\\nprint(sys.executable)\\nprint(sys.version)\\nprint(sys.version_info)',\n  'class MyObj:\\n        def __init__(self, name:str, id:int):\\n                self.name=name\\n                self.id = id\\n            \\n            ',\n  'object1 = MyObj(\"toto\",1)\\nprint(object1.__dir__)',\n  'object1 = MyObj(\"toto\",1)\\nprint(object1.__dict__)',\n  'import sys\\nprint(sys.executable)\\nprint(sys.version)\\nprint(sys.version_info)',\n  'import sys\\nprint(sys.executable)\\nprint(sys.version)\\nprint(sys.version_info)',\n  'vars(object1)',\n  'vars()'],\n 'Out': {14: {'name': 'toto', 'id': 1}},\n 'get_ipython': <bound method InteractiveShell.get_ipython of <ipykernel.zmqshell.ZMQInteractiveShell object at 0x7fd194bf0070>>,\n 'exit': <IPython.core.autocall.ZMQExitAutocall at 0x7fd194bf0eb0>,\n 'quit': <IPython.core.autocall.ZMQExitAutocall at 0x7fd194bf0eb0>,\n 'open': <function io.open(file, mode='r', buffering=-1, encoding=None, errors=None, newline=None, closefd=True, opener=None)>,\n '_': {'name': 'toto', 'id': 1},\n '__': '',\n '___': '',\n '_i': 'vars(object1)',\n '_ii': 'import sys\\nprint(sys.executable)\\nprint(sys.version)\\nprint(sys.version_info)',\n '_iii': 'import sys\\nprint(sys.executable)\\nprint(sys.version)\\nprint(sys.version_info)',\n '_i1': 'object1 = [1,2,3]\\nprint(object1.__dict__)',\n 'object1': <__main__.MyObj at 0x7fd162458d90>,\n 'sys': <module 'sys' (built-in)>,\n 'remove_imported_pydev_package': <function pydev_jupyter_utils.remove_imported_pydev_package()>,\n '_pydevd_bundle': <module '_pydevd_bundle' from '/home/pengfei/Tools/pycharm-2022.2.2/plugins/python/helpers/pydev/_pydevd_bundle/__init__.py'>,\n 'pydev_jupyter_vars': <module 'pydev_jupyter_vars' from '/home/pengfei/Tools/pycharm-2022.2.2/plugins/python/helpers-pro/jupyter_debug/pydev_jupyter_vars.py'>,\n 'DataFrame': pandas.core.frame.DataFrame,\n 'MultiIndex': pandas.core.indexes.multi.MultiIndex,\n '_i2': 'print(dir(object1))',\n '_i3': 'object1 = [1,2,3]\\nprint(object1.__dir__)',\n '_i4': 'dict1= {\"k1\":\"v1\",\\n        \"k2\":\"v2\",\\n        \"k3\":\"v3\",\\n        }',\n 'dict1': {'k1': 'v1', 'k2': 'v2', 'k3': 'v3'},\n '_i5': 'print(dict1.__dict__)',\n '_i6': 'import learning_python.Lesson04_Module_Package.src.mod as mod\\n\\nmyPrinter=mod.Printer(\"myPrinter\")\\nprint(myPrinter.__dict__)',\n 'mod': <module 'learning_python.Lesson04_Module_Package.src.mod' from '/home/pengfei/git/Learning_Python/learning_python/Lesson04_Module_Package/src/mod.py'>,\n 'myPrinter': <learning_python.Lesson04_Module_Package.src.mod.Printer at 0x7fd194385430>,\n '_i7': 'from platform import python_version\\nprint(python_version())',\n 'python_version': <function platform.python_version()>,\n '_i8': 'import sys\\nprint(sys.executable)\\nprint(sys.version)\\nprint(sys.version_info)',\n '_i9': 'class MyObj:\\n        def __init__(self, name:str, id:int):\\n                self.name=name\\n                self.id = id\\n            \\n            ',\n 'MyObj': __main__.MyObj,\n '_i10': 'object1 = MyObj(\"toto\",1)\\nprint(object1.__dir__)',\n '_i11': 'object1 = MyObj(\"toto\",1)\\nprint(object1.__dict__)',\n '_i12': 'import sys\\nprint(sys.executable)\\nprint(sys.version)\\nprint(sys.version_info)',\n '_i13': 'import sys\\nprint(sys.executable)\\nprint(sys.version)\\nprint(sys.version_info)',\n '_i14': 'vars(object1)',\n '_14': {'name': 'toto', 'id': 1},\n '_i15': 'vars()'}"
     },
     "execution_count": 15,
     "metadata": {},
     "output_type": "execute_result"
    }
   ],
   "source": [
    "# but without argument, it prints all defined variables in the scope of a defined python script\n",
    "vars()"
   ],
   "metadata": {
    "collapsed": false
   }
  },
  {
   "cell_type": "markdown",
   "source": [
    "\n",
    "> You can notice dir() shows not only the object attribute such as id and name, but also the attribute of its parent class. We can consider __dict__ is a sub set of dir()."
   ],
   "metadata": {
    "collapsed": false
   }
  },
  {
   "cell_type": "code",
   "execution_count": 16,
   "outputs": [
    {
     "name": "stdout",
     "output_type": "stream",
     "text": [
      "['__class__', '__delattr__', '__dict__', '__dir__', '__doc__', '__eq__', '__format__', '__ge__', '__getattribute__', '__gt__', '__hash__', '__init__', '__init_subclass__', '__le__', '__lt__', '__module__', '__ne__', '__new__', '__reduce__', '__reduce_ex__', '__repr__', '__setattr__', '__sizeof__', '__str__', '__subclasshook__', '__weakref__', 'id', 'name']\n"
     ]
    }
   ],
   "source": [
    "print(dir(object1))"
   ],
   "metadata": {
    "collapsed": false
   }
  },
  {
   "cell_type": "code",
   "execution_count": 22,
   "outputs": [
    {
     "name": "stdout",
     "output_type": "stream",
     "text": [
      "['name', 'id', '__module__', '__init__', '__dict__', '__weakref__', '__doc__', '__repr__', '__hash__', '__str__', '__getattribute__', '__setattr__', '__delattr__', '__lt__', '__le__', '__eq__', '__ne__', '__gt__', '__ge__', '__new__', '__reduce_ex__', '__reduce__', '__subclasshook__', '__init_subclass__', '__format__', '__sizeof__', '__dir__', '__class__']\n"
     ]
    }
   ],
   "source": [
    "print(object1.__dir__())"
   ],
   "metadata": {
    "collapsed": false
   }
  },
  {
   "cell_type": "markdown",
   "source": [
    "### 4.1.2 Not all objects have __dict__\n",
    "\n",
    "Not all python object has the **__dict__** attribute. If it does not have one, it means the python object does not have writable attributes. For example, we create an object of type dict"
   ],
   "metadata": {
    "collapsed": false
   }
  },
  {
   "cell_type": "code",
   "execution_count": 20,
   "outputs": [],
   "source": [
    "dict1= {\"k1\":\"v1\",\n",
    "        \"k2\":\"v2\",\n",
    "        \"k3\":\"v3\",\n",
    "        }"
   ],
   "metadata": {
    "collapsed": false
   }
  },
  {
   "cell_type": "code",
   "execution_count": 21,
   "outputs": [
    {
     "ename": "AttributeError",
     "evalue": "'dict' object has no attribute '__dict__'",
     "output_type": "error",
     "traceback": [
      "\u001B[0;31m---------------------------------------------------------------------------\u001B[0m",
      "\u001B[0;31mAttributeError\u001B[0m                            Traceback (most recent call last)",
      "Cell \u001B[0;32mIn[21], line 1\u001B[0m\n\u001B[0;32m----> 1\u001B[0m \u001B[38;5;28mprint\u001B[39m(\u001B[43mdict1\u001B[49m\u001B[38;5;241;43m.\u001B[39;49m\u001B[38;5;18;43m__dict__\u001B[39;49m)\n",
      "\u001B[0;31mAttributeError\u001B[0m: 'dict' object has no attribute '__dict__'"
     ]
    }
   ],
   "source": [
    "print(dict1.__dict__)"
   ],
   "metadata": {
    "collapsed": false
   }
  },
  {
   "cell_type": "code",
   "execution_count": 25,
   "outputs": [
    {
     "ename": "TypeError",
     "evalue": "vars() argument must have __dict__ attribute",
     "output_type": "error",
     "traceback": [
      "\u001B[0;31m---------------------------------------------------------------------------\u001B[0m",
      "\u001B[0;31mTypeError\u001B[0m                                 Traceback (most recent call last)",
      "Cell \u001B[0;32mIn[25], line 1\u001B[0m\n\u001B[0;32m----> 1\u001B[0m \u001B[38;5;28;43mvars\u001B[39;49m\u001B[43m(\u001B[49m\u001B[43mdict1\u001B[49m\u001B[43m)\u001B[49m\n",
      "\u001B[0;31mTypeError\u001B[0m: vars() argument must have __dict__ attribute"
     ]
    }
   ],
   "source": [
    "vars(dict1)"
   ],
   "metadata": {
    "collapsed": false
   }
  },
  {
   "cell_type": "code",
   "execution_count": 26,
   "outputs": [
    {
     "data": {
      "text/plain": "['__class__',\n '__contains__',\n '__delattr__',\n '__delitem__',\n '__dir__',\n '__doc__',\n '__eq__',\n '__format__',\n '__ge__',\n '__getattribute__',\n '__getitem__',\n '__gt__',\n '__hash__',\n '__init__',\n '__init_subclass__',\n '__iter__',\n '__le__',\n '__len__',\n '__lt__',\n '__ne__',\n '__new__',\n '__reduce__',\n '__reduce_ex__',\n '__repr__',\n '__reversed__',\n '__setattr__',\n '__setitem__',\n '__sizeof__',\n '__str__',\n '__subclasshook__',\n 'clear',\n 'copy',\n 'fromkeys',\n 'get',\n 'items',\n 'keys',\n 'pop',\n 'popitem',\n 'setdefault',\n 'update',\n 'values']"
     },
     "execution_count": 26,
     "metadata": {},
     "output_type": "execute_result"
    }
   ],
   "source": [
    "# this works because, dir() presents all attributes\n",
    "dir(dict1)"
   ],
   "metadata": {
    "collapsed": false
   }
  },
  {
   "cell_type": "markdown",
   "source": [
    "### 4.1.3 Use inspect module\n",
    "\n",
    "The **inspect** module in Python helps in inspecting certain modules or objects that are included in the code. It includes several useful functions that provide information about live objects (like class, function, object, and methods). It can be used to obtain an analysis of objects. It provides a list of useful functions:\n",
    "\n",
    "- **getmembers()**: This function returns the list of tuples containing the attributes along with their values.\n",
    "- **isfunction**: This function checks if the attribute is a function or not (only works for module), it returns a bool\n",
    "-"
   ],
   "metadata": {
    "collapsed": false
   }
  },
  {
   "cell_type": "code",
   "execution_count": 29,
   "outputs": [
    {
     "data": {
      "text/plain": "[('__class__', __main__.MyObj),\n ('__delattr__',\n  <method-wrapper '__delattr__' of MyObj object at 0x7fd162458d90>),\n ('__dict__', {'name': 'toto', 'id': 1}),\n ('__dir__', <function MyObj.__dir__()>),\n ('__doc__', None),\n ('__eq__', <method-wrapper '__eq__' of MyObj object at 0x7fd162458d90>),\n ('__format__', <function MyObj.__format__(format_spec, /)>),\n ('__ge__', <method-wrapper '__ge__' of MyObj object at 0x7fd162458d90>),\n ('__getattribute__',\n  <method-wrapper '__getattribute__' of MyObj object at 0x7fd162458d90>),\n ('__gt__', <method-wrapper '__gt__' of MyObj object at 0x7fd162458d90>),\n ('__hash__', <method-wrapper '__hash__' of MyObj object at 0x7fd162458d90>),\n ('__init__',\n  <bound method MyObj.__init__ of <__main__.MyObj object at 0x7fd162458d90>>),\n ('__init_subclass__', <function MyObj.__init_subclass__>),\n ('__le__', <method-wrapper '__le__' of MyObj object at 0x7fd162458d90>),\n ('__lt__', <method-wrapper '__lt__' of MyObj object at 0x7fd162458d90>),\n ('__module__', '__main__'),\n ('__ne__', <method-wrapper '__ne__' of MyObj object at 0x7fd162458d90>),\n ('__new__', <function object.__new__(*args, **kwargs)>),\n ('__reduce__', <function MyObj.__reduce__()>),\n ('__reduce_ex__', <function MyObj.__reduce_ex__(protocol, /)>),\n ('__repr__', <method-wrapper '__repr__' of MyObj object at 0x7fd162458d90>),\n ('__setattr__',\n  <method-wrapper '__setattr__' of MyObj object at 0x7fd162458d90>),\n ('__sizeof__', <function MyObj.__sizeof__()>),\n ('__str__', <method-wrapper '__str__' of MyObj object at 0x7fd162458d90>),\n ('__subclasshook__', <function MyObj.__subclasshook__>),\n ('__weakref__', None),\n ('id', 1),\n ('name', 'toto')]"
     },
     "execution_count": 29,
     "metadata": {},
     "output_type": "execute_result"
    }
   ],
   "source": [
    "inspect.getmembers(object1)"
   ],
   "metadata": {
    "collapsed": false
   }
  },
  {
   "cell_type": "code",
   "execution_count": 37,
   "outputs": [],
   "source": [
    "# get all the function of a module\n",
    "def getMethodOfObj(obj):\n",
    "        for item in inspect.getmembers(obj):\n",
    "                if inspect.isfunction(item[1]):\n",
    "                        print(item)"
   ],
   "metadata": {
    "collapsed": false
   }
  },
  {
   "cell_type": "code",
   "execution_count": 43,
   "outputs": [
    {
     "name": "stdout",
     "output_type": "stream",
     "text": [
      "('__dir__', <function __dir__ at 0x7fd174104f70>)\n",
      "('__getattr__', <function __getattr__ at 0x7fd174104ee0>)\n",
      "('_no_nep50_warning', <function _no_nep50_warning at 0x7fd19404adc0>)\n",
      "('_pyinstaller_hooks_dir', <function _pyinstaller_hooks_dir at 0x7fd19a168160>)\n",
      "('add_newdoc', <function add_newdoc at 0x7fd176f03550>)\n",
      "('all', <function all at 0x7fd1940564c0>)\n",
      "('allclose', <function allclose at 0x7fd1940664c0>)\n",
      "('alltrue', <function alltrue at 0x7fd194059ee0>)\n",
      "('amax', <function amax at 0x7fd1940569d0>)\n",
      "('amin', <function amin at 0x7fd194056b80>)\n",
      "('angle', <function angle at 0x7fd1741c0790>)\n",
      "('any', <function any at 0x7fd194056310>)\n",
      "('append', <function append at 0x7fd1741c59d0>)\n",
      "('apply_along_axis', <function apply_along_axis at 0x7fd1741e10d0>)\n",
      "('apply_over_axes', <function apply_over_axes at 0x7fd1741e1280>)\n",
      "('argmax', <function argmax at 0x7fd19404fca0>)\n",
      "('argmin', <function argmin at 0x7fd19404fe50>)\n",
      "('argpartition', <function argpartition at 0x7fd19404f790>)\n",
      "('argsort', <function argsort at 0x7fd19404faf0>)\n",
      "('argwhere', <function argwhere at 0x7fd194060c10>)\n",
      "('around', <function around at 0x7fd194059430>)\n",
      "('array2string', <function array2string at 0x7fd176f4d9d0>)\n",
      "('array_equal', <function array_equal at 0x7fd194066820>)\n",
      "('array_equiv', <function array_equiv at 0x7fd1940669d0>)\n",
      "('array_repr', <function array_repr at 0x7fd176f50d30>)\n",
      "('array_split', <function array_split at 0x7fd1741e19d0>)\n",
      "('array_str', <function array_str at 0x7fd176f510d0>)\n",
      "('asarray_chkfinite', <function asarray_chkfinite at 0x7fd17426cb80>)\n",
      "('asfarray', <function asfarray at 0x7fd17428d4c0>)\n",
      "('asmatrix', <function asmatrix at 0x7fd174250670>)\n",
      "('atleast_1d', <function atleast_1d at 0x7fd19405d040>)\n",
      "('atleast_2d', <function atleast_2d at 0x7fd19405d1f0>)\n",
      "('atleast_3d', <function atleast_3d at 0x7fd19405d3a0>)\n",
      "('average', <function average at 0x7fd17426caf0>)\n",
      "('bartlett', <function bartlett at 0x7fd1741c2af0>)\n",
      "('base_repr', <function base_repr at 0x7fd1940660d0>)\n",
      "('binary_repr', <function binary_repr at 0x7fd194066040>)\n",
      "('bincount', <function bincount at 0x7fd194091160>)\n",
      "('blackman', <function blackman at 0x7fd1741c2a60>)\n",
      "('block', <function block at 0x7fd19405de50>)\n",
      "('bmat', <function bmat at 0x7fd1742539d0>)\n",
      "('broadcast_arrays', <function broadcast_arrays at 0x7fd17423b670>)\n",
      "('broadcast_shapes', <function broadcast_shapes at 0x7fd17423b4c0>)\n",
      "('broadcast_to', <function broadcast_to at 0x7fd17423b3a0>)\n",
      "('busday_count', <function busday_count at 0x7fd194091dc0>)\n",
      "('busday_offset', <function busday_offset at 0x7fd194091ca0>)\n",
      "('byte_bounds', <function byte_bounds at 0x7fd1741f1f70>)\n",
      "('can_cast', <function can_cast at 0x7fd19408fb80>)\n",
      "('choose', <function choose at 0x7fd19404dd30>)\n",
      "('clip', <function clip at 0x7fd194052f70>)\n",
      "('column_stack', <function column_stack at 0x7fd1741e15e0>)\n",
      "('common_type', <function common_type at 0x7fd17428f3a0>)\n",
      "('compress', <function compress at 0x7fd194052dc0>)\n",
      "('concatenate', <function concatenate at 0x7fd19408f700>)\n",
      "('convolve', <function convolve at 0x7fd194063160>)\n",
      "('copy', <function copy at 0x7fd1741c00d0>)\n",
      "('copyto', <function copyto at 0x7fd1940914c0>)\n",
      "('corrcoef', <function corrcoef at 0x7fd1741c29d0>)\n",
      "('correlate', <function correlate at 0x7fd194060f70>)\n",
      "('count_nonzero', <function count_nonzero at 0x7fd1940609d0>)\n",
      "('cov', <function cov at 0x7fd1741c2820>)\n",
      "('cross', <function cross at 0x7fd194063c10>)\n",
      "('cumprod', <function cumprod at 0x7fd194056ee0>)\n",
      "('cumproduct', <function cumproduct at 0x7fd194059ca0>)\n",
      "('cumsum', <function cumsum at 0x7fd194056670>)\n",
      "('datetime_as_string', <function datetime_as_string at 0x7fd194091ee0>)\n",
      "('delete', <function delete at 0x7fd1741c5670>)\n",
      "('deprecate', <function deprecate at 0x7fd1741f1e50>)\n",
      "('deprecate_with_doc', <function deprecate_with_doc at 0x7fd1741f1ee0>)\n",
      "('diag', <function diag at 0x7fd17423bca0>)\n",
      "('diag_indices', <function diag_indices at 0x7fd1741c9940>)\n",
      "('diag_indices_from', <function diag_indices_from at 0x7fd1741c9af0>)\n",
      "('diagflat', <function diagflat at 0x7fd17423bdc0>)\n",
      "('diagonal', <function diagonal at 0x7fd194052550>)\n",
      "('diff', <function diff at 0x7fd1741c0430>)\n",
      "('digitize', <function digitize at 0x7fd1741c5b80>)\n",
      "('disp', <function disp at 0x7fd1741c0ee0>)\n",
      "('dot', <function dot at 0x7fd19408fee0>)\n",
      "('dsplit', <function dsplit at 0x7fd1741e1f70>)\n",
      "('dstack', <function dstack at 0x7fd1741e1790>)\n",
      "('ediff1d', <function ediff1d at 0x7fd1741faaf0>)\n",
      "('einsum', <function einsum at 0x7fd176f1a3a0>)\n",
      "('einsum_path', <function einsum_path at 0x7fd176f1a1f0>)\n",
      "('empty_like', <function empty_like at 0x7fd19408f5e0>)\n",
      "('expand_dims', <function expand_dims at 0x7fd1741e1430>)\n",
      "('extract', <function extract at 0x7fd1741c0e50>)\n",
      "('eye', <function eye at 0x7fd17423ba60>)\n",
      "('fill_diagonal', <function fill_diagonal at 0x7fd1741c98b0>)\n",
      "('find_common_type', <function find_common_type at 0x7fd1940a65e0>)\n",
      "('fix', <function fix at 0x7fd174280f70>)\n",
      "('flatnonzero', <function flatnonzero at 0x7fd194060dc0>)\n",
      "('flip', <function flip at 0x7fd17426c8b0>)\n",
      "('fliplr', <function fliplr at 0x7fd17423b820>)\n",
      "('flipud', <function flipud at 0x7fd17423b940>)\n",
      "('format_float_positional', <function format_float_positional at 0x7fd176f4dee0>)\n",
      "('format_float_scientific', <function format_float_scientific at 0x7fd176f4de50>)\n",
      "('fromfunction', <function fromfunction at 0x7fd194063dc0>)\n",
      "('fromregex', <function fromregex at 0x7fd1741ab820>)\n",
      "('full', <function full at 0x7fd1940605e0>)\n",
      "('full_like', <function full_like at 0x7fd194060820>)\n",
      "('genfromtxt', <function genfromtxt at 0x7fd1741ab940>)\n",
      "('geomspace', <function geomspace at 0x7fd176f03430>)\n",
      "('get_array_wrap', <function get_array_wrap at 0x7fd1741e3040>)\n",
      "('get_include', <function get_include at 0x7fd1741f1b80>)\n",
      "('get_printoptions', <function get_printoptions at 0x7fd176f4d0d0>)\n",
      "('getbufsize', <function getbufsize at 0x7fd19404a940>)\n",
      "('geterr', <function geterr at 0x7fd19404a820>)\n",
      "('geterrcall', <function geterrcall at 0x7fd19404aa60>)\n",
      "('gradient', <function gradient at 0x7fd1741c0280>)\n",
      "('hamming', <function hamming at 0x7fd1741c2c10>)\n",
      "('hanning', <function hanning at 0x7fd1741c2b80>)\n",
      "('histogram', <function histogram at 0x7fd1742715e0>)\n",
      "('histogram2d', <function histogram2d at 0x7fd17423e5e0>)\n",
      "('histogram_bin_edges', <function histogram_bin_edges at 0x7fd174271430>)\n",
      "('histogramdd', <function histogramdd at 0x7fd174271790>)\n",
      "('hsplit', <function hsplit at 0x7fd1741e1d30>)\n",
      "('hstack', <function hstack at 0x7fd19405d700>)\n",
      "('i0', <function i0 at 0x7fd1741c2f70>)\n",
      "('identity', <function identity at 0x7fd194066280>)\n",
      "('imag', <function imag at 0x7fd17428d820>)\n",
      "('in1d', <function in1d at 0x7fd17417e310>)\n",
      "('indices', <function indices at 0x7fd194063ca0>)\n",
      "('info', <function info at 0x7fd1741fa310>)\n",
      "('inner', <function inner at 0x7fd19408f820>)\n",
      "('insert', <function insert at 0x7fd1741c5820>)\n",
      "('interp', <function interp at 0x7fd1741c05e0>)\n",
      "('intersect1d', <function intersect1d at 0x7fd1741faf70>)\n",
      "('is_busday', <function is_busday at 0x7fd194091b80>)\n",
      "('isclose', <function isclose at 0x7fd194066670>)\n",
      "('iscomplex', <function iscomplex at 0x7fd17428d9d0>)\n",
      "('iscomplexobj', <function iscomplexobj at 0x7fd17428dc10>)\n",
      "('isfortran', <function isfortran at 0x7fd194060a60>)\n",
      "('isin', <function isin at 0x7fd17417e4c0>)\n",
      "('isneginf', <function isneginf at 0x7fd17428d310>)\n",
      "('isposinf', <function isposinf at 0x7fd17428d160>)\n",
      "('isreal', <function isreal at 0x7fd17428daf0>)\n",
      "('isrealobj', <function isrealobj at 0x7fd17428dd30>)\n",
      "('isscalar', <function isscalar at 0x7fd194063f70>)\n",
      "('issctype', <function issctype at 0x7fd1940a51f0>)\n",
      "('issubclass_', <function issubclass_ at 0x7fd1940a5310>)\n",
      "('issubdtype', <function issubdtype at 0x7fd1940a5430>)\n",
      "('issubsctype', <function issubsctype at 0x7fd1940a53a0>)\n",
      "('iterable', <function iterable at 0x7fd17426c940>)\n",
      "('ix_', <function ix_ at 0x7fd1741c5ca0>)\n",
      "('kaiser', <function kaiser at 0x7fd1741c4040>)\n",
      "('kron', <function kron at 0x7fd1741e3280>)\n",
      "('lexsort', <function lexsort at 0x7fd19408fa60>)\n",
      "('linspace', <function linspace at 0x7fd176f030d0>)\n",
      "('load', <function load at 0x7fd17419ab80>)\n",
      "('loadtxt', <function loadtxt at 0x7fd1741ab550>)\n",
      "('logspace', <function logspace at 0x7fd176f03280>)\n",
      "('lookfor', <function lookfor at 0x7fd1741fa430>)\n",
      "('mask_indices', <function mask_indices at 0x7fd17423e670>)\n",
      "('mat', <function asmatrix at 0x7fd174250670>)\n",
      "('max', <function amax at 0x7fd1940569d0>)\n",
      "('maximum_sctype', <function maximum_sctype at 0x7fd194099310>)\n",
      "('may_share_memory', <function may_share_memory at 0x7fd194091a60>)\n",
      "('mean', <function mean at 0x7fd1940595e0>)\n",
      "('median', <function median at 0x7fd1741c45e0>)\n",
      "('meshgrid', <function meshgrid at 0x7fd1741c54c0>)\n",
      "('min', <function amin at 0x7fd194056b80>)\n",
      "('min_scalar_type', <function min_scalar_type at 0x7fd19408fca0>)\n",
      "('mintypecode', <function mintypecode at 0x7fd174280dc0>)\n",
      "('moveaxis', <function moveaxis at 0x7fd194063a60>)\n",
      "('msort', <function msort at 0x7fd1741c43a0>)\n",
      "('nan_to_num', <function nan_to_num at 0x7fd17428df70>)\n",
      "('nanargmax', <function nanargmax at 0x7fd1741d4670>)\n",
      "('nanargmin', <function nanargmin at 0x7fd1741d44c0>)\n",
      "('nancumprod', <function nancumprod at 0x7fd1741d4d30>)\n",
      "('nancumsum', <function nancumsum at 0x7fd1741d4b80>)\n",
      "('nanmax', <function nanmax at 0x7fd1741d4310>)\n",
      "('nanmean', <function nanmean at 0x7fd1741d4ee0>)\n",
      "('nanmedian', <function nanmedian at 0x7fd1741d8280>)\n",
      "('nanmin', <function nanmin at 0x7fd1741d4160>)\n",
      "('nanpercentile', <function nanpercentile at 0x7fd1741d8430>)\n",
      "('nanprod', <function nanprod at 0x7fd1741d49d0>)\n",
      "('nanquantile', <function nanquantile at 0x7fd1741d85e0>)\n",
      "('nanstd', <function nanstd at 0x7fd1741d8af0>)\n",
      "('nansum', <function nansum at 0x7fd1741d4820>)\n",
      "('nanvar', <function nanvar at 0x7fd1741d8940>)\n",
      "('ndim', <function ndim at 0x7fd1940590d0>)\n",
      "('nonzero', <function nonzero at 0x7fd194052a60>)\n",
      "('obj2sctype', <function obj2sctype at 0x7fd1940a5280>)\n",
      "('ones', <function ones at 0x7fd194060280>)\n",
      "('ones_like', <function ones_like at 0x7fd1940604c0>)\n",
      "('outer', <function outer at 0x7fd194063310>)\n",
      "('packbits', <function packbits at 0x7fd194091700>)\n",
      "('pad', <function pad at 0x7fd1741b2820>)\n",
      "('partition', <function partition at 0x7fd19404f5e0>)\n",
      "('percentile', <function percentile at 0x7fd1741c4820>)\n",
      "('piecewise', <function piecewise at 0x7fd17426cd30>)\n",
      "('place', <function place at 0x7fd1741c2040>)\n",
      "('poly', <function poly at 0x7fd1741e3820>)\n",
      "('polyadd', <function polyadd at 0x7fd1741f0280>)\n",
      "('polyder', <function polyder at 0x7fd1741e3d30>)\n",
      "('polydiv', <function polydiv at 0x7fd1741f0670>)\n",
      "('polyfit', <function polyfit at 0x7fd1741e3ee0>)\n",
      "('polyint', <function polyint at 0x7fd1741e3b80>)\n",
      "('polymul', <function polymul at 0x7fd1741f04c0>)\n",
      "('polysub', <function polysub at 0x7fd1741f03a0>)\n",
      "('polyval', <function polyval at 0x7fd1741f00d0>)\n",
      "('printoptions', <function printoptions at 0x7fd176f4d280>)\n",
      "('prod', <function prod at 0x7fd194056d30>)\n",
      "('product', <function product at 0x7fd194059b80>)\n",
      "('ptp', <function ptp at 0x7fd194056820>)\n",
      "('put', <function put at 0x7fd19404f0d0>)\n",
      "('put_along_axis', <function put_along_axis at 0x7fd1741d8ee0>)\n",
      "('putmask', <function putmask at 0x7fd1940915e0>)\n",
      "('quantile', <function quantile at 0x7fd1741c49d0>)\n",
      "('ravel', <function ravel at 0x7fd1940528b0>)\n",
      "('ravel_multi_index', <function ravel_multi_index at 0x7fd194091280>)\n",
      "('real', <function real at 0x7fd17428d670>)\n",
      "('real_if_close', <function real_if_close at 0x7fd17428f160>)\n",
      "('recfromcsv', <function recfromcsv at 0x7fd1741aba60>)\n",
      "('recfromtxt', <function recfromtxt at 0x7fd1741ab8b0>)\n",
      "('repeat', <function repeat at 0x7fd19404dee0>)\n",
      "('require', <function require at 0x7fd176f51280>)\n",
      "('reshape', <function reshape at 0x7fd19404db80>)\n",
      "('resize', <function resize at 0x7fd1940521f0>)\n",
      "('result_type', <function result_type at 0x7fd19408fdc0>)\n",
      "('roll', <function roll at 0x7fd194063670>)\n",
      "('rollaxis', <function rollaxis at 0x7fd194063820>)\n",
      "('roots', <function roots at 0x7fd1741e39d0>)\n",
      "('rot90', <function rot90 at 0x7fd17426c700>)\n",
      "('round', <function round_ at 0x7fd194059a60>)\n",
      "('round_', <function round_ at 0x7fd194059a60>)\n",
      "('row_stack', <function vstack at 0x7fd19405d5e0>)\n",
      "('safe_eval', <function safe_eval at 0x7fd1741fa550>)\n",
      "('save', <function save at 0x7fd17419ad30>)\n",
      "('savetxt', <function savetxt at 0x7fd1741ab790>)\n",
      "('savez', <function savez at 0x7fd17419aee0>)\n",
      "('savez_compressed', <function savez_compressed at 0x7fd1741ab0d0>)\n",
      "('sctype2char', <function sctype2char at 0x7fd1940a55e0>)\n",
      "('searchsorted', <function searchsorted at 0x7fd194052040>)\n",
      "('select', <function select at 0x7fd17426cee0>)\n",
      "('set_printoptions', <function set_printoptions at 0x7fd176f4d040>)\n",
      "('set_string_function', <function set_string_function at 0x7fd176f50f70>)\n",
      "('setbufsize', <function setbufsize at 0x7fd19404a8b0>)\n",
      "('setdiff1d', <function setdiff1d at 0x7fd17417e820>)\n",
      "('seterr', <function seterr at 0x7fd19404a790>)\n",
      "('seterrcall', <function seterrcall at 0x7fd19404a9d0>)\n",
      "('setxor1d', <function setxor1d at 0x7fd17417e160>)\n",
      "('shape', <function shape at 0x7fd194052c10>)\n",
      "('shares_memory', <function shares_memory at 0x7fd194091940>)\n",
      "('show_config', <function show at 0x7fd194382a60>)\n",
      "('show_runtime', <function show_runtime at 0x7fd1741f1af0>)\n",
      "('sinc', <function sinc at 0x7fd1741c41f0>)\n",
      "('size', <function size at 0x7fd194059280>)\n",
      "('sometrue', <function sometrue at 0x7fd194059dc0>)\n",
      "('sort', <function sort at 0x7fd19404f940>)\n",
      "('sort_complex', <function sort_complex at 0x7fd1741c0af0>)\n",
      "('source', <function source at 0x7fd1741fa3a0>)\n",
      "('split', <function split at 0x7fd1741e1b80>)\n",
      "('squeeze', <function squeeze at 0x7fd1940523a0>)\n",
      "('stack', <function stack at 0x7fd19405d8b0>)\n",
      "('std', <function std at 0x7fd194059790>)\n",
      "('sum', <function sum at 0x7fd194056160>)\n",
      "('swapaxes', <function swapaxes at 0x7fd19404f280>)\n",
      "('take', <function take at 0x7fd19404d9d0>)\n",
      "('take_along_axis', <function take_along_axis at 0x7fd1741d8d30>)\n",
      "('tensordot', <function tensordot at 0x7fd1940634c0>)\n",
      "('tile', <function tile at 0x7fd1741e3430>)\n",
      "('trace', <function trace at 0x7fd194052700>)\n",
      "('transpose', <function transpose at 0x7fd19404f430>)\n",
      "('trapz', <function trapz at 0x7fd1741c5310>)\n",
      "('tri', <function tri at 0x7fd17423bee0>)\n",
      "('tril', <function tril at 0x7fd17423e160>)\n",
      "('tril_indices', <function tril_indices at 0x7fd17423e700>)\n",
      "('tril_indices_from', <function tril_indices_from at 0x7fd17423e8b0>)\n",
      "('trim_zeros', <function trim_zeros at 0x7fd1741c0ca0>)\n",
      "('triu', <function triu at 0x7fd17423e280>)\n",
      "('triu_indices', <function triu_indices at 0x7fd17423e940>)\n",
      "('triu_indices_from', <function triu_indices_from at 0x7fd17423ea60>)\n",
      "('typename', <function typename at 0x7fd17428f1f0>)\n",
      "('union1d', <function union1d at 0x7fd17417e670>)\n",
      "('unique', <function unique at 0x7fd1741fad30>)\n",
      "('unpackbits', <function unpackbits at 0x7fd194091820>)\n",
      "('unravel_index', <function unravel_index at 0x7fd1940913a0>)\n",
      "('unwrap', <function unwrap at 0x7fd1741c0940>)\n",
      "('vander', <function vander at 0x7fd17423e430>)\n",
      "('var', <function var at 0x7fd194059940>)\n",
      "('vdot', <function vdot at 0x7fd194091040>)\n",
      "('vsplit', <function vsplit at 0x7fd1741e1e50>)\n",
      "('vstack', <function vstack at 0x7fd19405d5e0>)\n",
      "('where', <function where at 0x7fd19408f940>)\n",
      "('who', <function who at 0x7fd1741fa040>)\n",
      "('zeros_like', <function zeros_like at 0x7fd194060160>)\n"
     ]
    }
   ],
   "source": [
    "import numpy\n",
    "# it will print all the function of module numpy\n",
    "getMethodOfObj(numpy)"
   ],
   "metadata": {
    "collapsed": false
   }
  },
  {
   "cell_type": "markdown",
   "source": [
    "When we try this function on object, it shows nothing"
   ],
   "metadata": {
    "collapsed": false
   }
  },
  {
   "cell_type": "code",
   "execution_count": 38,
   "outputs": [],
   "source": [
    "getMethodOfObj(object1)"
   ],
   "metadata": {
    "collapsed": false
   }
  },
  {
   "cell_type": "code",
   "execution_count": 39,
   "outputs": [],
   "source": [
    "getMethodOfObj(dict1)"
   ],
   "metadata": {
    "collapsed": false
   }
  },
  {
   "cell_type": "code",
   "execution_count": 42,
   "outputs": [],
   "source": [],
   "metadata": {
    "collapsed": false
   }
  },
  {
   "cell_type": "markdown",
   "source": [
    "# Inspect\n",
    "\n",
    "## Check the type of variables\n",
    "\n",
    "inspect module provides a list of function that checks the type of variables\n",
    "\n",
    "- **isclass()**: Check if a variable is a class or not\n",
    "- **ismodule()**: Check if a variable is a module or not\n",
    "- **isfunction()**: Check if a variable is a function or not\n",
    "- **ismethod()**: This method is used to check if the argument passed is the name of a method or not.\n",
    "- Etc.\n",
    "- **getmro**: This method returns a list of the base classes that helps in understanding the class hierarchy.\n"
   ],
   "metadata": {
    "collapsed": false
   }
  },
  {
   "cell_type": "code",
   "execution_count": 44,
   "outputs": [
    {
     "name": "stdout",
     "output_type": "stream",
     "text": [
      "True\n"
     ]
    }
   ],
   "source": [
    "print(inspect.isclass(MyObj))"
   ],
   "metadata": {
    "collapsed": false
   }
  },
  {
   "cell_type": "code",
   "execution_count": 45,
   "outputs": [
    {
     "name": "stdout",
     "output_type": "stream",
     "text": [
      "True\n"
     ]
    }
   ],
   "source": [
    "print(inspect.ismodule(numpy))"
   ],
   "metadata": {
    "collapsed": false
   }
  },
  {
   "cell_type": "code",
   "execution_count": 48,
   "outputs": [
    {
     "name": "stdout",
     "output_type": "stream",
     "text": [
      "True\n"
     ]
    }
   ],
   "source": [
    "print(inspect.isfunction(getMethodOfObj))"
   ],
   "metadata": {
    "collapsed": false
   }
  },
  {
   "cell_type": "code",
   "execution_count": 51,
   "outputs": [
    {
     "name": "stdout",
     "output_type": "stream",
     "text": [
      "False\n"
     ]
    }
   ],
   "source": [
    "print(inspect.ismethod(MyObj.getId))"
   ],
   "metadata": {
    "collapsed": false
   }
  },
  {
   "cell_type": "code",
   "execution_count": 53,
   "outputs": [],
   "source": [
    "class A(object):\n",
    "        pass\n",
    "\n",
    "class B(A):\n",
    "        pass\n",
    "\n",
    "class C(B):\n",
    "        pass"
   ],
   "metadata": {
    "collapsed": false
   }
  },
  {
   "cell_type": "code",
   "execution_count": 55,
   "outputs": [
    {
     "name": "stdout",
     "output_type": "stream",
     "text": [
      "(<class '__main__.C'>, <class '__main__.B'>, <class '__main__.A'>, <class 'object'>)\n"
     ]
    }
   ],
   "source": [
    "# print the class hierarchy of Class C\n",
    "print(inspect.getmro(C))"
   ],
   "metadata": {
    "collapsed": false
   }
  },
  {
   "cell_type": "code",
   "execution_count": 56,
   "outputs": [
    {
     "name": "stdout",
     "output_type": "stream",
     "text": [
      "(<class 'object'>, ())\n",
      "[(<class '__main__.A'>, (<class 'object'>,)), [(<class '__main__.B'>, (<class '__main__.A'>,)), [(<class '__main__.C'>, (<class '__main__.B'>,))]]]\n"
     ]
    }
   ],
   "source": [
    "for i in (inspect.getclasstree(inspect.getmro(C))):\n",
    "    print(i)"
   ],
   "metadata": {
    "collapsed": false
   }
  },
  {
   "cell_type": "markdown",
   "source": [
    "## Get the details of an object, class, function, etc.\n",
    "\n",
    "- **getmembers()**: This method returns the member functions present in the module passed as an argument of this method.\n",
    "- **signature()**: The signature() method helps the user in understanding the attributes which are to be passed on to a function.\n",
    "- **stack()**: This method helps in examining the interpreter stack or the order in which functions were called.\n",
    "- **getsource()**: This method returns the source code of a module, class, method, or a function passes as an argument of getsource() method.\n",
    "- **getmodule()**: This method returns the module name of a particular object pass as an argument in this method.\n",
    "- **getdoc()**: The getdoc() method returns the documentation of the argument in this method as a string."
   ],
   "metadata": {
    "collapsed": false
   }
  },
  {
   "cell_type": "code",
   "execution_count": 60,
   "outputs": [
    {
     "name": "stdout",
     "output_type": "stream",
     "text": [
      "[('__class__', <class 'type'>), ('__delattr__', <slot wrapper '__delattr__' of 'object' objects>), ('__dict__', mappingproxy({'__module__': '__main__', '__init__': <function MyObj.__init__ at 0x7fd1624a5ca0>, 'getId': <function MyObj.getId at 0x7fd161da9310>, 'setId': <function MyObj.setId at 0x7fd161da94c0>, '__dict__': <attribute '__dict__' of 'MyObj' objects>, '__weakref__': <attribute '__weakref__' of 'MyObj' objects>, '__doc__': None})), ('__dir__', <method '__dir__' of 'object' objects>), ('__doc__', None), ('__eq__', <slot wrapper '__eq__' of 'object' objects>), ('__format__', <method '__format__' of 'object' objects>), ('__ge__', <slot wrapper '__ge__' of 'object' objects>), ('__getattribute__', <slot wrapper '__getattribute__' of 'object' objects>), ('__gt__', <slot wrapper '__gt__' of 'object' objects>), ('__hash__', <slot wrapper '__hash__' of 'object' objects>), ('__init__', <function MyObj.__init__ at 0x7fd1624a5ca0>), ('__init_subclass__', <built-in method __init_subclass__ of type object at 0x33753f0>), ('__le__', <slot wrapper '__le__' of 'object' objects>), ('__lt__', <slot wrapper '__lt__' of 'object' objects>), ('__module__', '__main__'), ('__ne__', <slot wrapper '__ne__' of 'object' objects>), ('__new__', <built-in method __new__ of type object at 0x9085a0>), ('__reduce__', <method '__reduce__' of 'object' objects>), ('__reduce_ex__', <method '__reduce_ex__' of 'object' objects>), ('__repr__', <slot wrapper '__repr__' of 'object' objects>), ('__setattr__', <slot wrapper '__setattr__' of 'object' objects>), ('__sizeof__', <method '__sizeof__' of 'object' objects>), ('__str__', <slot wrapper '__str__' of 'object' objects>), ('__subclasshook__', <built-in method __subclasshook__ of type object at 0x33753f0>), ('__weakref__', <attribute '__weakref__' of 'MyObj' objects>), ('getId', <function MyObj.getId at 0x7fd161da9310>), ('setId', <function MyObj.setId at 0x7fd161da94c0>)]\n"
     ]
    }
   ],
   "source": [
    "# print all members of the Class MyObj\n",
    "print(inspect.getmembers(MyObj))"
   ],
   "metadata": {
    "collapsed": false
   }
  },
  {
   "cell_type": "code",
   "execution_count": 63,
   "outputs": [
    {
     "name": "stdout",
     "output_type": "stream",
     "text": [
      "('__init__', <function MyObj.__init__ at 0x7fd1624a5ca0>)\n",
      "('getId', <function MyObj.getId at 0x7fd161da9310>)\n",
      "('setId', <function MyObj.setId at 0x7fd161da94c0>)\n"
     ]
    }
   ],
   "source": [
    "# the method of the class is considered as a function\n",
    "for item in inspect.getmembers(MyObj):\n",
    "        if inspect.isfunction(item[1]):\n",
    "                print(item)"
   ],
   "metadata": {
    "collapsed": false
   }
  },
  {
   "cell_type": "code",
   "execution_count": 57,
   "outputs": [
    {
     "name": "stdout",
     "output_type": "stream",
     "text": [
      "(self)\n"
     ]
    }
   ],
   "source": [
    "print(inspect.signature(MyObj.getId))"
   ],
   "metadata": {
    "collapsed": false
   }
  },
  {
   "cell_type": "code",
   "execution_count": 59,
   "outputs": [
    {
     "name": "stdout",
     "output_type": "stream",
     "text": [
      "(self, id: int)\n"
     ]
    }
   ],
   "source": [
    "print(inspect.signature(MyObj.setId))"
   ],
   "metadata": {
    "collapsed": false
   }
  },
  {
   "cell_type": "code",
   "execution_count": 65,
   "outputs": [
    {
     "name": "stdout",
     "output_type": "stream",
     "text": [
      "        def getId(self):\n",
      "                return self.id\n",
      "\n"
     ]
    }
   ],
   "source": [
    "print(inspect.getsource(MyObj.getId))"
   ],
   "metadata": {
    "collapsed": false
   }
  },
  {
   "cell_type": "code",
   "execution_count": 66,
   "outputs": [
    {
     "name": "stdout",
     "output_type": "stream",
     "text": [
      "        def setId(self, id:int):\n",
      "                self.id=id\n",
      "\n"
     ]
    }
   ],
   "source": [
    "print(inspect.getsource(MyObj.setId))"
   ],
   "metadata": {
    "collapsed": false
   }
  },
  {
   "cell_type": "code",
   "execution_count": 67,
   "outputs": [
    {
     "name": "stdout",
     "output_type": "stream",
     "text": [
      "<module '__main__'>\n"
     ]
    }
   ],
   "source": [
    "print(inspect.getmodule(MyObj))"
   ],
   "metadata": {
    "collapsed": false
   }
  },
  {
   "cell_type": "code",
   "execution_count": 68,
   "outputs": [
    {
     "name": "stdout",
     "output_type": "stream",
     "text": [
      "<module 'collections' from '/usr/lib/python3.8/collections/__init__.py'>\n"
     ]
    }
   ],
   "source": [
    "import collections\n",
    "print(inspect.getmodule(collections))"
   ],
   "metadata": {
    "collapsed": false
   }
  },
  {
   "cell_type": "code",
   "execution_count": 72,
   "outputs": [
    {
     "name": "stdout",
     "output_type": "stream",
     "text": [
      "<module 'learning_python.Lesson04_Module_Package.src.printer' from '/home/pengfei/git/Learning_Python/learning_python/Lesson04_Module_Package/src/printer.py'>\n"
     ]
    }
   ],
   "source": [
    "from learning_python.Lesson04_Module_Package.src.printer import Printer\n",
    "\n",
    "print(inspect.getmodule(Printer))"
   ],
   "metadata": {
    "collapsed": false
   }
  },
  {
   "cell_type": "markdown",
   "source": [
    "## Get the docstring of class and method\n",
    "\n",
    "To get the docstring of a class and its method, We have two options:\n",
    "- __doc__\n",
    "- inspect.getdoc()\n",
    "- help(): will combine the docstring of the class and the method and print them all together\n",
    "\n",
    "> You may need to restart the jupyter notebook after editing the docstring. Otherwise, the __doc__ is not updated dynamically."
   ],
   "metadata": {
    "collapsed": false
   }
  },
  {
   "cell_type": "code",
   "execution_count": 7,
   "outputs": [
    {
     "name": "stdout",
     "output_type": "stream",
     "text": [
      "This class is a demo class for testing inspect module\n"
     ]
    }
   ],
   "source": [
    "from learning_python.Lesson04_Module_Package.src.printer import Printer\n",
    "print(inspect.getdoc(Printer))"
   ],
   "metadata": {
    "collapsed": false
   }
  },
  {
   "cell_type": "code",
   "execution_count": 8,
   "outputs": [
    {
     "name": "stdout",
     "output_type": "stream",
     "text": [
      "\n",
      "    This class is a demo class for testing inspect module\n",
      "    \n"
     ]
    }
   ],
   "source": [
    "print(Printer.__doc__)"
   ],
   "metadata": {
    "collapsed": false
   }
  },
  {
   "cell_type": "code",
   "execution_count": 11,
   "outputs": [
    {
     "name": "stdout",
     "output_type": "stream",
     "text": [
      "<class 'str'>\n",
      "\n",
      "        This method print the attribute message of the object\n",
      "        :param message: the message to print\n",
      "        :type message: str\n",
      "        :return: None\n",
      "        :rtype:\n",
      "        \n"
     ]
    }
   ],
   "source": [
    "docStr=Printer.print_message.__doc__\n",
    "\n",
    "print(type(docStr))\n",
    "print(docStr)"
   ],
   "metadata": {
    "collapsed": false
   }
  },
  {
   "cell_type": "code",
   "execution_count": 12,
   "outputs": [
    {
     "name": "stdout",
     "output_type": "stream",
     "text": [
      "<class 'str'>\n",
      "This method print the attribute message of the object\n",
      ":param message: the message to print\n",
      ":type message: str\n",
      ":return: None\n",
      ":rtype:\n"
     ]
    }
   ],
   "source": [
    "docStr = inspect.getdoc(Printer.print_message)\n",
    "print(type(docStr))\n",
    "print(docStr)"
   ],
   "metadata": {
    "collapsed": false
   }
  },
  {
   "cell_type": "code",
   "execution_count": 13,
   "outputs": [
    {
     "name": "stdout",
     "output_type": "stream",
     "text": [
      "\n",
      "    This class is a demo class for testing inspect module\n",
      "    \n"
     ]
    }
   ],
   "source": [
    "# the __doc__ also works on the object\n",
    "printer= Printer(\"toto\")\n",
    "print(printer.__doc__)"
   ],
   "metadata": {
    "collapsed": false
   }
  },
  {
   "cell_type": "code",
   "execution_count": 16,
   "outputs": [
    {
     "name": "stdout",
     "output_type": "stream",
     "text": [
      "\n",
      "        This method print the attribute message of the object\n",
      "        :param message: the message to print\n",
      "        :type message: str\n",
      "        :return: None\n",
      "        :rtype:\n",
      "        \n"
     ]
    }
   ],
   "source": [
    "print(printer.print_message.__doc__)"
   ],
   "metadata": {
    "collapsed": false
   }
  },
  {
   "cell_type": "code",
   "execution_count": 15,
   "outputs": [
    {
     "name": "stdout",
     "output_type": "stream",
     "text": [
      "Help on class Printer in module learning_python.Lesson04_Module_Package.src.printer:\n",
      "\n",
      "class Printer(builtins.object)\n",
      " |  Printer(name)\n",
      " |  \n",
      " |  This class is a demo class for testing inspect module\n",
      " |  \n",
      " |  Methods defined here:\n",
      " |  \n",
      " |  __init__(self, name)\n",
      " |      The constructor of the printer\n",
      " |      :param name: the name of the printer\n",
      " |      :type name:\n",
      " |  \n",
      " |  print_message(self, message)\n",
      " |      This method print the attribute message of the object\n",
      " |      :param message: the message to print\n",
      " |      :type message: str\n",
      " |      :return: None\n",
      " |      :rtype:\n",
      " |  \n",
      " |  ----------------------------------------------------------------------\n",
      " |  Data descriptors defined here:\n",
      " |  \n",
      " |  __dict__\n",
      " |      dictionary for instance variables (if defined)\n",
      " |  \n",
      " |  __weakref__\n",
      " |      list of weak references to the object (if defined)\n",
      "\n"
     ]
    }
   ],
   "source": [
    "help(Printer)"
   ],
   "metadata": {
    "collapsed": false
   }
  },
  {
   "cell_type": "code",
   "execution_count": 5,
   "outputs": [],
   "source": [],
   "metadata": {
    "collapsed": false
   }
  }
 ],
 "metadata": {
  "kernelspec": {
   "display_name": "Python 3",
   "language": "python",
   "name": "python3"
  },
  "language_info": {
   "codemirror_mode": {
    "name": "ipython",
    "version": 2
   },
   "file_extension": ".py",
   "mimetype": "text/x-python",
   "name": "python",
   "nbconvert_exporter": "python",
   "pygments_lexer": "ipython2",
   "version": "2.7.6"
  }
 },
 "nbformat": 4,
 "nbformat_minor": 0
}
