{
 "cells": [
  {
   "cell_type": "markdown",
   "metadata": {
    "collapsed": true
   },
   "source": [
    "# 1 Regular expression\n",
    "\n",
    "## 1.1 A (Very Brief) History of Regular Expressions\n",
    "\n",
    "In 1951, mathematician **Stephen Cole Kleene** described the concept of a `regular language`, a language that is recognizable by a finite automaton and formally expressible using regular expressions. In the mid-1960s, computer science pioneer `Ken Thompson`, one of the original designers of Unix, implemented pattern matching in the QED text editor using Kleene’s notation.\n",
    "\n",
    "Since then, regexes have appeared in many programming languages, editors, and other tools as a means of **determining whether a string matches a specified pattern**. Python, Java, and Perl all support regex functionality, as do most Unix tools and many text editors.\n",
    "\n"
   ]
  },
  {
   "cell_type": "markdown",
   "source": [
    "## 1.2 The re Module\n",
    "\n",
    "**Regex functionality in Python resides in a module named re**.\n",
    "\n",
    "\n",
    "### 1.2.1 The first re Module example\n",
    "\n",
    "The first re module function which we will learn is called **re.search().** The **re.search(<regex>, <string>) scans <string> looking for the first location where the pattern <regex> matches**. If a match is found, then re.search() returns a match object. Otherwise, it returns None.\n"
   ],
   "metadata": {
    "collapsed": false
   }
  },
  {
   "cell_type": "code",
   "execution_count": 1,
   "outputs": [],
   "source": [
    "import re"
   ],
   "metadata": {
    "collapsed": false
   }
  },
  {
   "cell_type": "markdown",
   "source": [
    "In below example, we use the search pattern <regex> `123` and target <string> `sample1` as parameter for re.search(). As sample1 contains **123**, so it will return a match object."
   ],
   "metadata": {
    "collapsed": false
   }
  },
  {
   "cell_type": "code",
   "execution_count": 2,
   "outputs": [],
   "source": [
    "sample1 = \"foo123bar\""
   ],
   "metadata": {
    "collapsed": false
   }
  },
  {
   "cell_type": "code",
   "execution_count": 3,
   "outputs": [
    {
     "name": "stdout",
     "output_type": "stream",
     "text": [
      "<re.Match object; span=(3, 6), match='123'>\n"
     ]
    }
   ],
   "source": [
    "result = re.search(\"123\", sample1)\n",
    "\n",
    "print(result)"
   ],
   "metadata": {
    "collapsed": false
   }
  },
  {
   "cell_type": "markdown",
   "source": [
    "The match object is [truthy](https://realpython.com/python-data-types/#boolean-type-boolean-context-and-truthiness), so you can use it in a Boolean context like a conditional statement:"
   ],
   "metadata": {
    "collapsed": false
   }
  },
  {
   "cell_type": "code",
   "execution_count": 4,
   "outputs": [
    {
     "name": "stdout",
     "output_type": "stream",
     "text": [
      "Find a match\n"
     ]
    }
   ],
   "source": [
    "if result:\n",
    "    print(\"Find a match\")\n",
    "else:\n",
    "    print(\"No match\")"
   ],
   "metadata": {
    "collapsed": false
   }
  },
  {
   "cell_type": "markdown",
   "source": [
    "#### Understand the output\n",
    "\n",
    "All the function in the **re** module will return a standard result when a match is found for the giving pattern:\n",
    "\n",
    "```text\n",
    "# general format\n",
    "# first part is the class of the object, which is re.Match\n",
    "# Second part is the index of the sub string which matches the pattern\n",
    "# Third part is the sub string\n",
    "<re.Match object; span=(start_index, end_index), match='<matched_sub_string>'\n",
    "\n",
    "# for example, the above example returned below result\n",
    "# span=(3, 6) indicates the portion of <string> in which the match was found.\n",
    "# match='123' indicates which characters from <string> matched.\n",
    "# In this example, the <regex> pattern is just the plain string '123'. So the matched is exactly the same as regex.\n",
    "# But in the situation that the regex is very complex, the matched string can be very useful.\n",
    "<re.Match object; span=(3, 6), match='123'>\n",
    "\n",
    "```\n",
    "\n",
    "Below code shows the same thing if we slice the given string with the returned span:"
   ],
   "metadata": {
    "collapsed": false
   }
  },
  {
   "cell_type": "code",
   "execution_count": 7,
   "outputs": [
    {
     "name": "stdout",
     "output_type": "stream",
     "text": [
      "123\n"
     ]
    }
   ],
   "source": [
    "print(sample1[3:6])"
   ],
   "metadata": {
    "collapsed": false
   }
  },
  {
   "cell_type": "markdown",
   "source": [],
   "metadata": {
    "collapsed": false
   }
  },
  {
   "cell_type": "markdown",
   "source": [
    "## 1.3 Python Regex Metacharacters\n",
    "\n",
    "The real power of regex matching in Python emerges when <regex> contains special characters called metacharacters. These have a unique meaning to the regex matching engine and vastly enhance the capability of the search.\n",
    "\n",
    "The following table briefly summarizes all the metacharacters supported by the re module. Some characters serve more than one purpose:\n",
    "\n",
    "| Character(s)\t | Meaning                                                                                                                                                 |\n",
    "|---------------|---------------------------------------------------------------------------------------------------------------------------------------------------------|\n",
    "| .\t            | Matches any single character except newline (i.e. \\n)                                                                                                   |\n",
    "| ^             | Anchors a match at the start of a string, Complements a character class                                                                                 |\n",
    "| $\t            | Anchors a match at the end of a string                                                                                                                  |\n",
    "| *\t            | Matches zero or more repetitions                                                                                                                        |\n",
    "| +\t            | Matches one or more repetitions                                                                                                                         |\n",
    "| ?\t            | Matches zero or one repetition, Specifies the non-greedy versions of *, +, and ?, Introduces a lookahead or lookbehind assertion, Creates a named group |\n",
    "| {}\t           | Matches an explicitly specified number of repetitions                                                                                                   |\n",
    "| \\\t            | Escapes a metacharacter of its special meaning ,Introduces a special character class ,Introduces a grouping backreference                               |\n",
    "| []\t           | Specifies a character class                                                                                                                             |\n",
    "|               | \tDesignates alternation                                                                                                                                 |\n",
    "| ()\t           | Creates a group                                                                                                                                         |\n",
    "| : # = !\t      | Designate a specialized group                                                                                                                           |\n",
    "| <>            | \tCreates a named group                                                                                                                                  |\n",
    "\n",
    "\n",
    "\n",
    "### 1.3.1 First example, Digit expression\n",
    "\n",
    "Consider again the problem of how to determine whether a string contains any three consecutive decimal digit characters.\n",
    "\n",
    "In a regex, a set of characters specified in square brackets ([]) makes up a character class. For example, [0-9] matches any digit number between 0 and 9.\n",
    "\n",
    "So we can use below regex to match any three consecutive digits."
   ],
   "metadata": {
    "collapsed": false
   }
  },
  {
   "cell_type": "code",
   "execution_count": 10,
   "outputs": [],
   "source": [
    "regex1 = \"[0-9][0-9][0-9]\""
   ],
   "metadata": {
    "collapsed": false
   }
  },
  {
   "cell_type": "code",
   "execution_count": 11,
   "outputs": [
    {
     "data": {
      "text/plain": "<re.Match object; span=(3, 6), match='123'>"
     },
     "execution_count": 11,
     "metadata": {},
     "output_type": "execute_result"
    }
   ],
   "source": [
    "re.search(regex1, sample1)"
   ],
   "metadata": {
    "collapsed": false
   }
  },
  {
   "cell_type": "markdown",
   "source": [
    "It will also work on below string"
   ],
   "metadata": {
    "collapsed": false
   }
  },
  {
   "cell_type": "code",
   "execution_count": 12,
   "outputs": [
    {
     "data": {
      "text/plain": "<re.Match object; span=(0, 3), match='888'>"
     },
     "execution_count": 12,
     "metadata": {},
     "output_type": "execute_result"
    }
   ],
   "source": [
    "re.search(regex1, \"888toto\")"
   ],
   "metadata": {
    "collapsed": false
   }
  },
  {
   "cell_type": "code",
   "execution_count": 13,
   "outputs": [
    {
     "data": {
      "text/plain": "<re.Match object; span=(4, 7), match='666'>"
     },
     "execution_count": 13,
     "metadata": {},
     "output_type": "execute_result"
    }
   ],
   "source": [
    "re.search(regex1, \"toto666\")"
   ],
   "metadata": {
    "collapsed": false
   }
  },
  {
   "cell_type": "markdown",
   "source": [
    "### 1.3.2 The wildcard\n",
    "\n",
    "The **dot (.)** metacharacter matches any character except a newline (\\n), so it functions like a wildcard.\n",
    "For example, if we have `..` in the regex pattern\n",
    "- a : Not match, because it only has one character\n",
    "- ac : 1 match, which is ac\n",
    "- acd: 1 match,\n",
    "- acde : 2 match\n",
    "\n",
    "Below code"
   ],
   "metadata": {
    "collapsed": false
   }
  },
  {
   "cell_type": "code",
   "execution_count": 8,
   "outputs": [
    {
     "name": "stdout",
     "output_type": "stream",
     "text": [
      "test 0 result: None\n",
      "test 1 result: <re.Match object; span=(0, 2), match='ac'>\n",
      "test 2 result: <re.Match object; span=(0, 2), match='ac'>\n",
      "test 3 result: <re.Match object; span=(0, 2), match='ac'>\n"
     ]
    }
   ],
   "source": [
    "regex2 = \"..\"\n",
    "\n",
    "test_list=[\"a\",\"ac\",\"acd\",\"acde\"]\n",
    "\n",
    "for i,test in enumerate(test_list):\n",
    "    print(f\"test {i} result: {re.search(regex2,test)}\")"
   ],
   "metadata": {
    "collapsed": false
   }
  },
  {
   "cell_type": "markdown",
   "source": [
    "> You can notice, even-though there are two match for test 3, but it only shows the first match"
   ],
   "metadata": {
    "collapsed": false
   }
  },
  {
   "cell_type": "markdown",
   "source": [
    "Let's retake the example 1, we can write a new regex to match 123:"
   ],
   "metadata": {
    "collapsed": false
   }
  },
  {
   "cell_type": "code",
   "execution_count": 15,
   "outputs": [],
   "source": [
    "regex3 = \"1.3\""
   ],
   "metadata": {
    "collapsed": false
   }
  },
  {
   "cell_type": "code",
   "execution_count": 16,
   "outputs": [
    {
     "data": {
      "text/plain": "<re.Match object; span=(3, 6), match='123'>"
     },
     "execution_count": 16,
     "metadata": {},
     "output_type": "execute_result"
    }
   ],
   "source": [
    "re.search(regex3, sample1)"
   ],
   "metadata": {
    "collapsed": false
   }
  },
  {
   "cell_type": "markdown",
   "source": [
    "As dot (.) is a wildcard, so we can replace 2 by anything except none."
   ],
   "metadata": {
    "collapsed": false
   }
  },
  {
   "cell_type": "code",
   "execution_count": 17,
   "outputs": [
    {
     "data": {
      "text/plain": "<re.Match object; span=(0, 3), match='1a3'>"
     },
     "execution_count": 17,
     "metadata": {},
     "output_type": "execute_result"
    }
   ],
   "source": [
    "re.search(regex3, \"1a3toto\")"
   ],
   "metadata": {
    "collapsed": false
   }
  },
  {
   "cell_type": "code",
   "execution_count": 20,
   "outputs": [
    {
     "data": {
      "text/plain": "<re.Match object; span=(0, 3), match='1 3'>"
     },
     "execution_count": 20,
     "metadata": {},
     "output_type": "execute_result"
    }
   ],
   "source": [
    "re.search(regex3, \"1 3toto\")"
   ],
   "metadata": {
    "collapsed": false
   }
  },
  {
   "cell_type": "code",
   "execution_count": 19,
   "outputs": [
    {
     "name": "stdout",
     "output_type": "stream",
     "text": [
      "None\n"
     ]
    }
   ],
   "source": [
    "res = re.search(regex3, \"13toto\")\n",
    "print(res)"
   ],
   "metadata": {
    "collapsed": false
   }
  },
  {
   "cell_type": "markdown",
   "source": [
    "### 1.3.3 ^ - Caret\n",
    "\n",
    "The caret symbol ^ is used to check if a string starts with a certain character.\n",
    "\n",
    "For example, if we have `^ab` as the regex pattern\n",
    "- a : no match\n",
    "- ac : no match\n",
    "- abc : 1 match\n",
    "- acb : no match\n"
   ],
   "metadata": {
    "collapsed": false
   }
  },
  {
   "cell_type": "code",
   "execution_count": 9,
   "outputs": [
    {
     "name": "stdout",
     "output_type": "stream",
     "text": [
      "test 0 result: None\n",
      "test 1 result: None\n",
      "test 2 result: <re.Match object; span=(0, 2), match='ab'>\n",
      "test 3 result: None\n"
     ]
    }
   ],
   "source": [
    "regex4 = \"^ab\"\n",
    "\n",
    "test_list=[\"a\",\"ac\",\"abc\",\"acd\"]\n",
    "\n",
    "for i,test in enumerate(test_list):\n",
    "    print(f\"test {i} result: {re.search(regex4,test)}\")"
   ],
   "metadata": {
    "collapsed": false
   }
  },
  {
   "cell_type": "markdown",
   "source": [
    "### 1.3.4 $ - Dollar\n",
    "\n",
    "The dollar symbol $ is used to check if a string ends with certain characters.\n",
    "\n",
    "For example, if we have `ab$` as the regex pattern\n",
    "- a : no match\n",
    "- ac : no match\n",
    "- cab : 1 match\n",
    "- acd : no match\n"
   ],
   "metadata": {
    "collapsed": false
   }
  },
  {
   "cell_type": "code",
   "execution_count": 10,
   "outputs": [
    {
     "name": "stdout",
     "output_type": "stream",
     "text": [
      "test 0 result: None\n",
      "test 1 result: None\n",
      "test 2 result: <re.Match object; span=(1, 3), match='ab'>\n",
      "test 3 result: None\n"
     ]
    }
   ],
   "source": [
    "regex5 = \"ab$\"\n",
    "\n",
    "test_list=[\"a\",\"ac\",\"cab\",\"acd\"]\n",
    "\n",
    "for i,test in enumerate(test_list):\n",
    "    print(f\"test {i} result: {re.search(regex5,test)}\")"
   ],
   "metadata": {
    "collapsed": false
   }
  },
  {
   "cell_type": "markdown",
   "source": [
    "\n",
    "#### Period examples\n",
    "\n",
    "\n",
    "https://realpython.com/regex-python/#a-very-brief-history-of-regular-expressions"
   ],
   "metadata": {
    "collapsed": false
   }
  }
 ],
 "metadata": {
  "kernelspec": {
   "display_name": "Python 3",
   "language": "python",
   "name": "python3"
  },
  "language_info": {
   "codemirror_mode": {
    "name": "ipython",
    "version": 2
   },
   "file_extension": ".py",
   "mimetype": "text/x-python",
   "name": "python",
   "nbconvert_exporter": "python",
   "pygments_lexer": "ipython2",
   "version": "2.7.6"
  }
 },
 "nbformat": 4,
 "nbformat_minor": 0
}
