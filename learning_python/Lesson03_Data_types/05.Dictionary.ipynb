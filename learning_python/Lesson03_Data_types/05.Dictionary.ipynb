{
 "cells": [
  {
   "cell_type": "markdown",
   "id": "166c6ca1-3fcc-45c1-af06-c5f0c92fffc7",
   "metadata": {},
   "source": [
    "# 3.5 Dictionary\n",
    "\n",
    "Dictionary in Python is an collection of data values, used to store data values like a map, which, unlike other Data Types that hold only a single value as an element, Dictionary holds **key:value pair. Key-value is provided in the dictionary to make it more optimized**. \n",
    " \n",
    "After Python 3.7, dictionary maintains the insertion order, so dictionary is an ordered collection of data value since python 3.7\n",
    "\n",
    "Note – Keys in a dictionary don’t allow Polymorphism.\n",
    "\n",
    "\n",
    "## 3.5.1 Creating a Dictionary\n",
    "In Python, a Dictionary can be created by placing a sequence of elements within curly {} braces, separated by ‘comma’. Dictionary holds pairs of values, one being the Key and the other corresponding pair element being its Key:value. \n",
    "\n",
    "```text\n",
    "{k1:v1,\n",
    " k2:v2,\n",
    " ...\n",
    " kn:vn}\n",
    "```\n",
    "- Values in a dictionary can be of any data type and can be duplicated\n",
    "- keys can’t be repeated and must be immutable. keys are case sensitive, the same name but different cases of Key will be treated distinctly."
   ]
  },
  {
   "cell_type": "code",
   "execution_count": 1,
   "id": "72c895c4-da1c-4980-9aa4-d92064be14a4",
   "metadata": {},
   "outputs": [
    {
     "name": "stdout",
     "output_type": "stream",
     "text": [
      "\n",
      "Dictionary with the use of Integer Keys: \n",
      "{1: 'Geeks', 2: 'For', 3: 'Geeks'}\n",
      "\n",
      "Dictionary with the use of Mixed Keys: \n",
      "{'Name': 'Geeks', 1: [1, 2, 3, 4]}\n"
     ]
    }
   ],
   "source": [
    "# with Integer Keys\n",
    "Dict = {1: 'Geeks', 2: 'For', 3: 'Geeks'}\n",
    "print(\"\\nDictionary with the use of Integer Keys: \")\n",
    "print(Dict)\n",
    " \n",
    "# Creating a Dictionary\n",
    "# with Mixed keys\n",
    "Dict = {'Name': 'Geeks', 1: [1, 2, 3, 4]}\n",
    "print(\"\\nDictionary with the use of Mixed Keys: \")\n",
    "print(Dict)"
   ]
  },
  {
   "cell_type": "markdown",
   "id": "5a2c25fe-4ab5-49b1-b7ce-c59d2554b026",
   "metadata": {},
   "source": [
    "Dictionary can also be created by the built-in function dict(). An empty dictionary can be created by just placing to curly braces{}. "
   ]
  },
  {
   "cell_type": "code",
   "execution_count": 2,
   "id": "59d42e9a-4b16-49f3-8df4-e40d08dc0bd5",
   "metadata": {},
   "outputs": [
    {
     "name": "stdout",
     "output_type": "stream",
     "text": [
      "Empty Dictionary: \n",
      "{}\n",
      "\n",
      "Dictionary with the use of dict(): \n",
      "{1: 'Geeks', 2: 'For', 3: 'Geeks'}\n",
      "\n",
      "Dictionary with each item as a pair: \n",
      "{1: 'Geeks', 2: 'For'}\n"
     ]
    }
   ],
   "source": [
    "# Creating an empty Dictionary\n",
    "Dict = {}\n",
    "print(\"Empty Dictionary: \")\n",
    "print(Dict)\n",
    " \n",
    "# Creating a Dictionary with dict() method\n",
    "Dict = dict({1: 'Geeks', 2: 'For', 3:'Geeks'})\n",
    "print(\"\\nDictionary with the use of dict(): \")\n",
    "print(Dict)\n",
    " \n",
    "# Creating a Dictionary with each item as a Pair\n",
    "Dict = dict([(1, 'Geeks'), (2, 'For')])\n",
    "print(\"\\nDictionary with each item as a pair: \")\n",
    "print(Dict)"
   ]
  },
  {
   "cell_type": "markdown",
   "id": "aea5a979-9f6c-4cd7-9ac0-07c559574fea",
   "metadata": {},
   "source": [
    "As we said before values in a dictionary can be any data type, so value can be a dictionary"
   ]
  },
  {
   "cell_type": "code",
   "execution_count": 3,
   "id": "d8a0db1b-94f6-4b81-bbde-0b0d146e000c",
   "metadata": {},
   "outputs": [
    {
     "name": "stdout",
     "output_type": "stream",
     "text": [
      "{1: 'Geeks', 2: 'For', 3: {'A': 'Welcome', 'B': 'To', 'C': 'Geeks'}}\n"
     ]
    }
   ],
   "source": [
    "# Creating a Nested Dictionary\n",
    "# as shown in the below image\n",
    "Dict = {1: 'Geeks', 2: 'For',\n",
    "        3:{'A' : 'Welcome', 'B' : 'To', 'C' : 'Geeks'}}\n",
    " \n",
    "print(Dict)"
   ]
  },
  {
   "cell_type": "markdown",
   "id": "7b8ab085-25ae-46f4-bb6b-6928a35cddbf",
   "metadata": {},
   "source": [
    "## 3.5.2 Adding elements to a Dictionary\n",
    "\n",
    "One value at a time can be added to a Dictionary by defining value along with the key e.g. Dict[Key] = ‘Value’. \n",
    "Updating an existing value in a Dictionary can be done by using the built-in update() method. Nested key values can also be added to an existing Dictionary. \n",
    "\n",
    "**While adding a value, if the key-value already exists, the value gets updated otherwise a new Key with the value is added to the Dictionary.**"
   ]
  },
  {
   "cell_type": "code",
   "execution_count": 4,
   "id": "ebdeaa9b-3e26-42b3-8f27-608021c1acac",
   "metadata": {},
   "outputs": [
    {
     "name": "stdout",
     "output_type": "stream",
     "text": [
      "Empty Dictionary: \n",
      "{}\n",
      "\n",
      "Dictionary after adding 3 elements: \n",
      "{0: 'Geeks', 2: 'For', 3: 1}\n"
     ]
    }
   ],
   "source": [
    "# Creating an empty Dictionary\n",
    "Dict = {}\n",
    "print(\"Empty Dictionary: \")\n",
    "print(Dict)\n",
    " \n",
    "# Adding elements one at a time\n",
    "Dict[0] = 'Geeks'\n",
    "Dict[2] = 'For'\n",
    "Dict[3] = 1\n",
    "print(\"\\nDictionary after adding 3 elements: \")\n",
    "print(Dict)"
   ]
  },
  {
   "cell_type": "code",
   "execution_count": 5,
   "id": "92e62c84-e908-4e16-9cf8-d392c3eaae32",
   "metadata": {},
   "outputs": [
    {
     "name": "stdout",
     "output_type": "stream",
     "text": [
      "\n",
      "Dictionary after adding 3 elements: \n",
      "{0: 'Geeks', 2: 'For', 3: 1, 'Value_set': (2, 3, 4)}\n"
     ]
    }
   ],
   "source": [
    "# Adding set of values to a single Key\n",
    "Dict['Value_set'] = 2, 3, 4\n",
    "print(\"\\nDictionary after adding 3 elements: \")\n",
    "print(Dict)"
   ]
  },
  {
   "cell_type": "code",
   "execution_count": 6,
   "id": "697ea1de-6f2b-4fa6-bb14-955745b86882",
   "metadata": {},
   "outputs": [
    {
     "name": "stdout",
     "output_type": "stream",
     "text": [
      "\n",
      "Updated key value: \n",
      "{0: 'Geeks', 2: 'Welcome', 3: 1, 'Value_set': (2, 3, 4)}\n"
     ]
    }
   ],
   "source": [
    "# Updating existing Key's Value\n",
    "Dict[2] = 'Welcome'\n",
    "print(\"\\nUpdated key value: \")\n",
    "print(Dict)"
   ]
  },
  {
   "cell_type": "code",
   "execution_count": 7,
   "id": "bf6eb7c0-1804-48cb-909a-d57ad0dfe863",
   "metadata": {},
   "outputs": [
    {
     "name": "stdout",
     "output_type": "stream",
     "text": [
      "\n",
      "Adding a Nested Key: \n",
      "{0: 'Geeks', 2: 'Welcome', 3: 1, 'Value_set': (2, 3, 4), 5: {'Nested': {'1': 'Life', '2': 'Geeks'}}}\n"
     ]
    }
   ],
   "source": [
    "# Adding Nested Key value to Dictionary\n",
    "Dict[5] = {'Nested' :{'1' : 'Life', '2' : 'Geeks'}}\n",
    "print(\"\\nAdding a Nested Key: \")\n",
    "print(Dict)"
   ]
  },
  {
   "cell_type": "markdown",
   "id": "ea819c14-cdad-4d40-bc04-ed19ac0428dd",
   "metadata": {},
   "source": [
    "## 3.5.3 Accessing elements from a Dictionary\n",
    "\n",
    "To access the items of a dictionary refer to its key name:\n",
    "- Key can be used inside square brackets. \n",
    "- use get() method"
   ]
  },
  {
   "cell_type": "code",
   "execution_count": 8,
   "id": "8682e1dd-0b13-498d-a4f5-8404d05884fc",
   "metadata": {},
   "outputs": [
    {
     "name": "stdout",
     "output_type": "stream",
     "text": [
      "Accessing a element using key:\n",
      "For\n",
      "Accessing a element using key:\n",
      "Geeks\n"
     ]
    }
   ],
   "source": [
    "# Python program to demonstrate \n",
    "# accessing a element from a Dictionary\n",
    " \n",
    "# Creating a Dictionary\n",
    "Dict = {1: 'Geeks', 'name': 'For', 3: 'Geeks'}\n",
    " \n",
    "# accessing a element using key\n",
    "print(\"Accessing a element using key:\")\n",
    "print(Dict['name'])\n",
    " \n",
    "# accessing a element using key\n",
    "print(\"Accessing a element using key:\")\n",
    "print(Dict[1])"
   ]
  },
  {
   "cell_type": "code",
   "execution_count": 9,
   "id": "a91deeee-66cc-4f3a-aef9-cdab57d71034",
   "metadata": {},
   "outputs": [
    {
     "name": "stdout",
     "output_type": "stream",
     "text": [
      "Accessing a element using get:\n",
      "Geeks\n",
      "For\n"
     ]
    }
   ],
   "source": [
    "# accessing a element using get()\n",
    "# method\n",
    "print(\"Accessing a element using get:\")\n",
    "print(Dict.get(3))\n",
    "print(Dict.get('name'))"
   ]
  },
  {
   "cell_type": "markdown",
   "id": "9ec934b7-cf11-4848-8693-e9c89c9d5a74",
   "metadata": {},
   "source": [
    "Accessing an element of a nested dictionary\n",
    "In order to access the value of any key in the nested dictionary, use indexing [] syntax."
   ]
  },
  {
   "cell_type": "code",
   "execution_count": 10,
   "id": "53f3d090-f478-4385-9ec7-fd572ead65ff",
   "metadata": {},
   "outputs": [
    {
     "name": "stdout",
     "output_type": "stream",
     "text": [
      "{1: 'Geeks'}\n",
      "Geeks\n",
      "For\n"
     ]
    }
   ],
   "source": [
    "# Creating a Dictionary\n",
    "Dict = {'Dict1': {1: 'Geeks'},\n",
    "        'Dict2': {'Name': 'For'}}\n",
    " \n",
    "# Accessing element using key\n",
    "print(Dict['Dict1'])\n",
    "print(Dict['Dict1'][1])\n",
    "print(Dict['Dict2']['Name'])"
   ]
  },
  {
   "cell_type": "markdown",
   "id": "d8fc5c83-bc35-4887-b040-23d168ffb1b7",
   "metadata": {},
   "source": [
    "## 3.5.4 Removing Elements from Dictionary\n",
    "- del dict_name[key]\n",
    "- pop(key)\n",
    "- popitem(key)\n",
    "\n",
    "\n",
    "### 3.5.4.1 Using del keyword\n",
    "\n",
    "In Python Dictionary, deletion of keys can be done by using the del keyword. Using the del keyword, specific values from a dictionary as well as the whole dictionary can be deleted. \n",
    "\n",
    "Items in a Nested dictionary can also be deleted by using the del keyword and providing a specific nested key and particular key to be deleted from that nested Dictionary.\n",
    " \n",
    "\n",
    "Note: The **del \\<Dict\\>** without key will delete the entire dictionary and hence printing it after deletion will raise an Error."
   ]
  },
  {
   "cell_type": "code",
   "execution_count": 11,
   "id": "739a7517-ea6a-46de-9ca2-f5418c9072d0",
   "metadata": {},
   "outputs": [
    {
     "name": "stdout",
     "output_type": "stream",
     "text": [
      "Initial Dictionary: \n",
      "{5: 'Welcome', 6: 'To', 7: 'Geeks', 'A': {1: 'Geeks', 2: 'For', 3: 'Geeks'}, 'B': {1: 'Geeks', 2: 'Life'}}\n",
      "\n",
      "Deleting a specific key: \n",
      "{5: 'Welcome', 7: 'Geeks', 'A': {1: 'Geeks', 2: 'For', 3: 'Geeks'}, 'B': {1: 'Geeks', 2: 'Life'}}\n",
      "\n",
      "Deleting a key from Nested Dictionary: \n",
      "{5: 'Welcome', 7: 'Geeks', 'A': {1: 'Geeks', 3: 'Geeks'}, 'B': {1: 'Geeks', 2: 'Life'}}\n"
     ]
    }
   ],
   "source": [
    "# Initial Dictionary\n",
    "Dict = { 5 : 'Welcome', 6 : 'To', 7 : 'Geeks',\n",
    "        'A' : {1 : 'Geeks', 2 : 'For', 3 : 'Geeks'},\n",
    "        'B' : {1 : 'Geeks', 2 : 'Life'}}\n",
    "print(\"Initial Dictionary: \")\n",
    "print(Dict)\n",
    " \n",
    "# Deleting a Key value\n",
    "del Dict[6]\n",
    "print(\"\\nDeleting a specific key: \")\n",
    "print(Dict)\n",
    " \n",
    "# Deleting a Key from\n",
    "# Nested Dictionary\n",
    "del Dict['A'][2]\n",
    "print(\"\\nDeleting a key from Nested Dictionary: \")\n",
    "print(Dict)"
   ]
  },
  {
   "cell_type": "markdown",
   "id": "5668064e-c612-4fe1-84dc-4bf9320a4474",
   "metadata": {},
   "source": [
    "### 3.5.4.2 Using pop() method\n",
    "\n",
    "Pop(key): it deletes the value of the key specified from the dictionary, and returns the deleted value."
   ]
  },
  {
   "cell_type": "code",
   "execution_count": 15,
   "id": "c280c373-fadd-4593-87c0-87875d24b94f",
   "metadata": {},
   "outputs": [
    {
     "name": "stdout",
     "output_type": "stream",
     "text": [
      "Dictionary before deletion: {1: 'Geeks', 'name': 'For', 3: 'Geeks'}\n",
      "\n",
      "Dictionary after deletion: {'name': 'For', 3: 'Geeks'}\n",
      "\n",
      "Value associated to poped key is: Geeks\n"
     ]
    }
   ],
   "source": [
    "# Creating a Dictionary\n",
    "Dict = {1: 'Geeks', 'name': 'For', 3: 'Geeks'}\n",
    "print('Dictionary before deletion: ' + str(Dict)) \n",
    "# Deleting a key\n",
    "# using pop() method\n",
    "pop_ele = Dict.pop(1)\n",
    "print('\\nDictionary after deletion: ' + str(Dict))\n",
    "print('\\nValue associated to poped key is: ' + str(pop_ele))"
   ]
  },
  {
   "cell_type": "markdown",
   "id": "f2ef33c7-b6ce-47fe-a9c6-bc3c444bb0e9",
   "metadata": {},
   "source": [
    "### 3.5.4.3 Using popitem() method\n",
    "popitem(key): it deletes the the value of the key specified from the dictionary, returns the (key, value) pair."
   ]
  },
  {
   "cell_type": "code",
   "execution_count": 16,
   "id": "92a4680a-7473-442d-b8a2-e57b32b4b3b3",
   "metadata": {},
   "outputs": [
    {
     "name": "stdout",
     "output_type": "stream",
     "text": [
      "Dictionary before deletion: {1: 'Geeks', 'name': 'For', 3: 'Geeks'}\n",
      "\n",
      "Dictionary after deletion: {1: 'Geeks', 'name': 'For'}\n",
      "\n",
      "The arbitrary pair returned is: (3, 'Geeks')\n"
     ]
    }
   ],
   "source": [
    "# Creating Dictionary\n",
    "Dict = {1: 'Geeks', 'name': 'For', 3: 'Geeks'}\n",
    "print('Dictionary before deletion: ' + str(Dict))  \n",
    "# Deleting an arbitrary key\n",
    "# using popitem() function\n",
    "pop_ele = Dict.popitem()\n",
    "print(\"\\nDictionary after deletion: \" + str(Dict))\n",
    "print(\"\\nThe arbitrary pair returned is: \" + str(pop_ele))"
   ]
  },
  {
   "cell_type": "markdown",
   "id": "0e93f6a5-a837-46fe-ab38-846c5f046183",
   "metadata": {},
   "source": [
    "### 3.5.4.4 Using clear() method\n",
    "All the items from a dictionary can be deleted at once by using clear() method."
   ]
  },
  {
   "cell_type": "code",
   "execution_count": 17,
   "id": "7f92c973-e297-4ff0-b2c0-9b582eefa5c1",
   "metadata": {},
   "outputs": [
    {
     "name": "stdout",
     "output_type": "stream",
     "text": [
      "\n",
      "Deleting Entire Dictionary: \n",
      "{}\n"
     ]
    }
   ],
   "source": [
    "# Creating a Dictionary\n",
    "Dict = {1: 'Geeks', 'name': 'For', 3: 'Geeks'}\n",
    " \n",
    " \n",
    "# Deleting entire Dictionary\n",
    "Dict.clear()\n",
    "print(\"\\nDeleting Entire Dictionary: \")\n",
    "print(Dict)"
   ]
  },
  {
   "cell_type": "code",
   "execution_count": null,
   "id": "99438d81-f49b-44ed-a32f-2409e67dd0b0",
   "metadata": {},
   "outputs": [],
   "source": []
  }
 ],
 "metadata": {
  "kernelspec": {
   "display_name": "Python 3 (ipykernel)",
   "language": "python",
   "name": "python3"
  },
  "language_info": {
   "codemirror_mode": {
    "name": "ipython",
    "version": 3
   },
   "file_extension": ".py",
   "mimetype": "text/x-python",
   "name": "python",
   "nbconvert_exporter": "python",
   "pygments_lexer": "ipython3",
   "version": "3.9.7"
  }
 },
 "nbformat": 4,
 "nbformat_minor": 5
}
