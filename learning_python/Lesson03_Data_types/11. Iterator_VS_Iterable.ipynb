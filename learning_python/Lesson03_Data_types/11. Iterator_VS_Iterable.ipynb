{
 "cells": [
  {
   "cell_type": "markdown",
   "metadata": {
    "collapsed": true,
    "pycharm": {
     "name": "#%% md\n"
    }
   },
   "source": [
    "# 11 Iterator vs Iterable\n",
    "\n",
    "We have seen the data structure such as List, Tuple, set, dictionary, etc, we said **they are all iterable**, so we can use for statement to loop these data structure. We have also seen generator, we said it's an iterator.\n",
    "\n",
    "So what is the difference between iterator and iterable?\n",
    "\n",
    "## 11.1 Iterators overview\n",
    "\n",
    "**An iterator is an object that implements the iterator protocol**. In other words, an iterator is an object that implements the following methods:\n",
    "\n",
    "- __iter__ returns the iterator object itself.\n",
    "- __next__ returns the next element.\n",
    "\n",
    "**Once you complete iterating a collection using an iterator, the iterator becomes exhausted. It means that you cannot use the iterator object again.**\n",
    "\n",
    "## 11.2 Iterables overview\n",
    "\n",
    "**An iterable is an object that you can iterate over. An object is iterable when it implements the __iter__ method.\n",
    "And its __iter__ method returns a new iterator.**\n",
    "\n",
    "## 11.3 Check built in python list\n",
    "\n",
    "We have mentioned list is an iterable object. Let's check it first."
   ]
  },
  {
   "cell_type": "code",
   "execution_count": 1,
   "outputs": [
    {
     "name": "stdout",
     "output_type": "stream",
     "text": [
      "<class 'list'>\n",
      "Is list an iterable True\n",
      "<class 'list_iterator'>\n"
     ]
    }
   ],
   "source": [
    "from typing import Iterable\n",
    "\n",
    "# the numbers has type list, and is an instance of Iterable\n",
    "numbers = [1, 2, 3]\n",
    "print(type(numbers))\n",
    "print(f\"Is list an iterable {isinstance(numbers, Iterable)}\")\n",
    "\n",
    "# we use __iter__ to get the numbers iterator\n",
    "number_iterator = numbers.__iter__()\n",
    "# the type of returned iterator is list_iterator\n",
    "print(type(number_iterator))"
   ],
   "metadata": {
    "collapsed": false,
    "pycharm": {
     "name": "#%%\n"
    }
   }
  },
  {
   "cell_type": "code",
   "execution_count": 2,
   "outputs": [
    {
     "data": {
      "text/plain": "1"
     },
     "execution_count": 2,
     "metadata": {},
     "output_type": "execute_result"
    }
   ],
   "source": [
    "next(number_iterator)"
   ],
   "metadata": {
    "collapsed": false,
    "pycharm": {
     "name": "#%%\n"
    }
   }
  },
  {
   "cell_type": "markdown",
   "source": [
    "Because the list_iterator implements the __iter__ method, you can use the **built-in function iter()** to get the iterator object:\n",
    "Note it's recommended to use function to get the iterator\n",
    "\n",
    "Since the list_iterator also implements the __next__ method, you can use the built-in function next to iterate over the list:"
   ],
   "metadata": {
    "collapsed": false,
    "pycharm": {
     "name": "#%% md\n"
    }
   }
  },
  {
   "cell_type": "code",
   "execution_count": 3,
   "outputs": [
    {
     "data": {
      "text/plain": "1"
     },
     "execution_count": 3,
     "metadata": {},
     "output_type": "execute_result"
    }
   ],
   "source": [
    "n_iterator = iter(numbers)\n",
    "next(n_iterator)"
   ],
   "metadata": {
    "collapsed": false,
    "pycharm": {
     "name": "#%%\n"
    }
   }
  },
  {
   "cell_type": "markdown",
   "source": [
    "If we call many times of next(), we may receive a StopIteration exception. This is because the list iterator has been exhausted. To iterate the list again, you need to create a new iterator."
   ],
   "metadata": {
    "collapsed": false,
    "pycharm": {
     "name": "#%% md\n"
    }
   }
  },
  {
   "cell_type": "code",
   "execution_count": 4,
   "outputs": [
    {
     "ename": "StopIteration",
     "evalue": "",
     "output_type": "error",
     "traceback": [
      "\u001B[0;31m---------------------------------------------------------------------------\u001B[0m",
      "\u001B[0;31mStopIteration\u001B[0m                             Traceback (most recent call last)",
      "Input \u001B[0;32mIn [4]\u001B[0m, in \u001B[0;36m<cell line: 3>\u001B[0;34m()\u001B[0m\n\u001B[1;32m      1\u001B[0m \u001B[38;5;28mnext\u001B[39m(n_iterator)\n\u001B[1;32m      2\u001B[0m \u001B[38;5;28mnext\u001B[39m(n_iterator)\n\u001B[0;32m----> 3\u001B[0m \u001B[38;5;28;43mnext\u001B[39;49m\u001B[43m(\u001B[49m\u001B[43mn_iterator\u001B[49m\u001B[43m)\u001B[49m\n",
      "\u001B[0;31mStopIteration\u001B[0m: "
     ]
    }
   ],
   "source": [
    "next(n_iterator)\n",
    "next(n_iterator)\n",
    "next(n_iterator)"
   ],
   "metadata": {
    "collapsed": false,
    "pycharm": {
     "name": "#%%\n"
    }
   }
  },
  {
   "cell_type": "markdown",
   "source": [
    "The above example illustrates the reason why **the list is an iterable not an iterator**. The list is created once while the iterator is created every time you need to iterate over the list."
   ],
   "metadata": {
    "collapsed": false,
    "pycharm": {
     "name": "#%% md\n"
    }
   }
  },
  {
   "cell_type": "markdown",
   "source": [
    "## 11.4 Simple implementation of an iterable and iterator\n",
    "\n",
    "The below class Colors plays two roles: **iterable and iterator**.\n",
    "\n",
    "The Colors class **is an iterator because it implements both __iter__ and __next__ method**. The __iter__ method returns the object itself. And the __next__ method returns the next item from a list.\n",
    "\n",
    "The Colors class is **also an iterable because it implements the __iter__ method** that returns an object itself, which is an iterator.\n",
    "\n"
   ],
   "metadata": {
    "collapsed": false,
    "pycharm": {
     "name": "#%% md\n"
    }
   }
  },
  {
   "cell_type": "code",
   "execution_count": 5,
   "outputs": [],
   "source": [
    "class Colors:\n",
    "    def __init__(self):\n",
    "        self.colors = ['red', 'green', 'blue']\n",
    "        self.__index = 0\n",
    "\n",
    "    def __iter__(self):\n",
    "        return self\n",
    "\n",
    "    def __next__(self):\n",
    "        if self.__index >= len(self.colors):\n",
    "            raise StopIteration\n",
    "        color = self.colors[self.__index]\n",
    "        self.__index += 1\n",
    "        return color\n",
    "\n"
   ],
   "metadata": {
    "collapsed": false,
    "pycharm": {
     "name": "#%%\n"
    }
   }
  },
  {
   "cell_type": "code",
   "execution_count": 6,
   "outputs": [
    {
     "name": "stdout",
     "output_type": "stream",
     "text": [
      "red\n",
      "green\n",
      "blue\n"
     ]
    }
   ],
   "source": [
    "colors = Colors()\n",
    "\n",
    "for color in colors:\n",
    "    print(color)"
   ],
   "metadata": {
    "collapsed": false,
    "pycharm": {
     "name": "#%%\n"
    }
   }
  },
  {
   "cell_type": "markdown",
   "source": [
    "Note, as colors is an iterator, after we iterate it once, the colors object becomes useless. If you attempt to iterate it again, you’ll get a StopIteration exception:"
   ],
   "metadata": {
    "collapsed": false,
    "pycharm": {
     "name": "#%% md\n"
    }
   }
  },
  {
   "cell_type": "code",
   "execution_count": 7,
   "outputs": [
    {
     "ename": "StopIteration",
     "evalue": "",
     "output_type": "error",
     "traceback": [
      "\u001B[0;31m---------------------------------------------------------------------------\u001B[0m",
      "\u001B[0;31mStopIteration\u001B[0m                             Traceback (most recent call last)",
      "Input \u001B[0;32mIn [7]\u001B[0m, in \u001B[0;36m<cell line: 1>\u001B[0;34m()\u001B[0m\n\u001B[0;32m----> 1\u001B[0m \u001B[38;5;28;43mnext\u001B[39;49m\u001B[43m(\u001B[49m\u001B[43mcolors\u001B[49m\u001B[43m)\u001B[49m\n",
      "Input \u001B[0;32mIn [5]\u001B[0m, in \u001B[0;36mColors.__next__\u001B[0;34m(self)\u001B[0m\n\u001B[1;32m      9\u001B[0m \u001B[38;5;28;01mdef\u001B[39;00m \u001B[38;5;21m__next__\u001B[39m(\u001B[38;5;28mself\u001B[39m):\n\u001B[1;32m     10\u001B[0m     \u001B[38;5;28;01mif\u001B[39;00m \u001B[38;5;28mself\u001B[39m\u001B[38;5;241m.\u001B[39m__index \u001B[38;5;241m>\u001B[39m\u001B[38;5;241m=\u001B[39m \u001B[38;5;28mlen\u001B[39m(\u001B[38;5;28mself\u001B[39m\u001B[38;5;241m.\u001B[39mcolors):\n\u001B[0;32m---> 11\u001B[0m         \u001B[38;5;28;01mraise\u001B[39;00m \u001B[38;5;167;01mStopIteration\u001B[39;00m\n\u001B[1;32m     12\u001B[0m     color \u001B[38;5;241m=\u001B[39m \u001B[38;5;28mself\u001B[39m\u001B[38;5;241m.\u001B[39mcolors[\u001B[38;5;28mself\u001B[39m\u001B[38;5;241m.\u001B[39m__index]\n\u001B[1;32m     13\u001B[0m     \u001B[38;5;28mself\u001B[39m\u001B[38;5;241m.\u001B[39m__index \u001B[38;5;241m+\u001B[39m\u001B[38;5;241m=\u001B[39m \u001B[38;5;241m1\u001B[39m\n",
      "\u001B[0;31mStopIteration\u001B[0m: "
     ]
    }
   ],
   "source": [
    "next(colors)"
   ],
   "metadata": {
    "collapsed": false,
    "pycharm": {
     "name": "#%%\n"
    }
   }
  },
  {
   "cell_type": "markdown",
   "source": [
    "If you want to iterate again, you need to create a new Instance of Colors. This is quite annoying. How can we overcome this problem? Let's learn from the list implementation."
   ],
   "metadata": {
    "collapsed": false,
    "pycharm": {
     "name": "#%% md\n"
    }
   }
  },
  {
   "cell_type": "markdown",
   "source": [
    "## 11.5 Separating an iterator from an iterable\n",
    "\n",
    "Let’s separate the color iterator from its iterable like what Python does with the list iterator and list.\n",
    "\n",
    "The following defines the Colors class:"
   ],
   "metadata": {
    "collapsed": false,
    "pycharm": {
     "name": "#%% md\n"
    }
   }
  },
  {
   "cell_type": "code",
   "execution_count": 8,
   "outputs": [],
   "source": [
    "class MyColors:\n",
    "    def __init__(self):\n",
    "        self.data = ['red', 'green', 'blue']\n",
    "\n",
    "    def __len__(self):\n",
    "        return len(self.data)"
   ],
   "metadata": {
    "collapsed": false,
    "pycharm": {
     "name": "#%%\n"
    }
   }
  },
  {
   "cell_type": "code",
   "execution_count": 12,
   "outputs": [],
   "source": [
    "class ColorsIterator:\n",
    "    def __init__(self, cols):\n",
    "        self.__colors = cols\n",
    "        self.__index = 0\n",
    "\n",
    "    def __iter__(self):\n",
    "        return self\n",
    "\n",
    "    def __next__(self):\n",
    "        if self.__index >= len(self.__colors):\n",
    "            raise StopIteration\n",
    "        # here we access directly the data of class MyColors\n",
    "        color = self.__colors.data[self.__index]\n",
    "        self.__index += 1\n",
    "        return color"
   ],
   "metadata": {
    "collapsed": false,
    "pycharm": {
     "name": "#%%\n"
    }
   }
  },
  {
   "cell_type": "markdown",
   "source": [
    "How it works.\n",
    "\n",
    "- The __init__ method accepts an iterable which is an instance of the Colors class.\n",
    "- The __iter__ method returns the iterator itself.\n",
    "- The __next__ method returns the next element from the Colors object.\n",
    "\n",
    "The following shows how to use the ColorIterator to iterate over the Colors object:"
   ],
   "metadata": {
    "collapsed": false,
    "pycharm": {
     "name": "#%% md\n"
    }
   }
  },
  {
   "cell_type": "code",
   "execution_count": 13,
   "outputs": [
    {
     "name": "stdout",
     "output_type": "stream",
     "text": [
      "red\n",
      "green\n",
      "blue\n"
     ]
    }
   ],
   "source": [
    "colors = MyColors()\n",
    "color_iterator = ColorsIterator(colors)\n",
    "\n",
    "for color in color_iterator:\n",
    "    print(color)"
   ],
   "metadata": {
    "collapsed": false,
    "pycharm": {
     "name": "#%%\n"
    }
   }
  },
  {
   "cell_type": "markdown",
   "source": [
    "There’s one problem!\n",
    "\n",
    "When you want to iterate the MyColors object, you need to manually create a new ColorIterator object. And you also need to remember the iterator name ColorIterator.\n",
    "\n",
    "It would be great if you can automate this. To do it, you can make the MyColors class iterable by implementing the __iter__ method:"
   ],
   "metadata": {
    "collapsed": false,
    "pycharm": {
     "name": "#%% md\n"
    }
   }
  },
  {
   "cell_type": "code",
   "execution_count": 14,
   "outputs": [],
   "source": [
    "class MyColors:\n",
    "    def __init__(self):\n",
    "        self.data = ['red', 'green', 'blue']\n",
    "\n",
    "    def __len__(self):\n",
    "        return len(self.data)\n",
    "\n",
    "    def __iter__(self):\n",
    "        return ColorsIterator(self)"
   ],
   "metadata": {
    "collapsed": false,
    "pycharm": {
     "name": "#%%\n"
    }
   }
  },
  {
   "cell_type": "markdown",
   "source": [
    "The __iter__ method returns a new instance of the ColorIterator class.\n",
    "\n",
    "Now, you can iterate the Colors object without explicitly creating the ColorIterator object:"
   ],
   "metadata": {
    "collapsed": false,
    "pycharm": {
     "name": "#%% md\n"
    }
   }
  },
  {
   "cell_type": "code",
   "execution_count": 15,
   "outputs": [
    {
     "name": "stdout",
     "output_type": "stream",
     "text": [
      "red\n",
      "green\n",
      "blue\n"
     ]
    }
   ],
   "source": [
    "colors = MyColors()\n",
    "for color in colors:\n",
    "    print(color)"
   ],
   "metadata": {
    "collapsed": false,
    "pycharm": {
     "name": "#%%\n"
    }
   }
  },
  {
   "cell_type": "markdown",
   "source": [
    "Internally, the for loop calls the __iter__ method of the colors object to get the iterator and uses this iterator to iterate over the elements of the colors object.\n",
    "\n",
    "As the ColorIterator can be only used on MyColors class. It's nature to put it inside the MyColors class. The following example places the ColorIterator class inside the Colors class to encapsulate them into a single class:"
   ],
   "metadata": {
    "collapsed": false,
    "pycharm": {
     "name": "#%% md\n"
    }
   }
  },
  {
   "cell_type": "code",
   "execution_count": 18,
   "outputs": [],
   "source": [
    "class MyColors:\n",
    "    def __init__(self):\n",
    "        self.data = ['red', 'green', 'blue']\n",
    "\n",
    "    def __len__(self):\n",
    "        return len(self.data)\n",
    "\n",
    "    def __iter__(self):\n",
    "        return self.EmbedColorsIterator(self)\n",
    "\n",
    "    # a private class\n",
    "    class EmbedColorsIterator:\n",
    "        def __init__(self, colors):\n",
    "            self.__colors = colors\n",
    "            self.__index = 0\n",
    "\n",
    "        def __iter__(self):\n",
    "            return self\n",
    "\n",
    "        def __next__(self):\n",
    "            if self.__index >= len(self.__colors):\n",
    "                raise StopIteration\n",
    "            color = self.__colors.data[self.__index]\n",
    "            self.__index += 1\n",
    "            return color\n",
    "\n"
   ],
   "metadata": {
    "collapsed": false,
    "pycharm": {
     "name": "#%%\n"
    }
   }
  },
  {
   "cell_type": "code",
   "execution_count": 19,
   "outputs": [
    {
     "name": "stdout",
     "output_type": "stream",
     "text": [
      "red\n",
      "green\n",
      "blue\n"
     ]
    }
   ],
   "source": [
    "colors = MyColors()\n",
    "for color in colors:\n",
    "    print(color)"
   ],
   "metadata": {
    "collapsed": false,
    "pycharm": {
     "name": "#%%\n"
    }
   }
  },
  {
   "cell_type": "markdown",
   "source": [
    "## 11.6 Summery\n",
    "\n",
    "- An iterable is an object that implements the __iter__ method which returns an iterator.\n",
    "- An iterator is an object that implements the __iter__ method which returns itself and the __next__ method which returns the next element.\n",
    "- Iterators are also iterables. However, they’re iterables that become exhausted while iterables will never be exhausted."
   ],
   "metadata": {
    "collapsed": false,
    "pycharm": {
     "name": "#%% md\n"
    }
   }
  }
 ],
 "metadata": {
  "kernelspec": {
   "display_name": "Python 3",
   "language": "python",
   "name": "python3"
  },
  "language_info": {
   "codemirror_mode": {
    "name": "ipython",
    "version": 2
   },
   "file_extension": ".py",
   "mimetype": "text/x-python",
   "name": "python",
   "nbconvert_exporter": "python",
   "pygments_lexer": "ipython2",
   "version": "2.7.6"
  }
 },
 "nbformat": 4,
 "nbformat_minor": 0
}