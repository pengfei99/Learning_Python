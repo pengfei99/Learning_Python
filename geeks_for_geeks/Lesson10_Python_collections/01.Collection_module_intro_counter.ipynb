{
 "cells": [
  {
   "cell_type": "markdown",
   "id": "89675acd-7256-407d-9d79-d6f8a1c01d50",
   "metadata": {},
   "source": [
    "# 10.0 Python collection module\n",
    "\n",
    "The collection Module in Python provides different types of containers. **A Container is an object that is used to store different objects and provide a way to access the contained objects and iterate over them. Some of the built-in containers are Tuple, List, Dictionary, etc**. In this lesson, we will discuss the different containers provided by the collections module. Below is a list of containers in python:\n",
    "\n",
    "- Counters\n",
    "- OrderedDict\n",
    "- DefaultDict\n",
    "- ChainMap\n",
    "- NamedTuple\n",
    "- DeQue\n",
    "- UserDict\n",
    "- UserList\n",
    "- UserString\n",
    "\n"
   ]
  },
  {
   "cell_type": "markdown",
   "id": "ec866751-01e4-47e9-8f78-eb9d832ebd1d",
   "metadata": {},
   "source": [
    "# 10.1 Counter\n",
    "\n",
    "A counter is a sub-class of the dictionary. It is used to keep the count of the elements in an iterable in the form of an unordered dictionary where the key represents the element in the iterable and value represents the count of that element in the iterable. \n",
    "\n",
    "```text\n",
    "class collections.Counter([iterable-or-mapping])\n",
    "```\n",
    "\n",
    "Below is a simple implementation of counter, note it only works for the int or string list. Because other data type can not be a key in a dict\n",
    "\n",
    "```python\n",
    "def counter(list):\n",
    "    counter = {}\n",
    "    for item in list:\n",
    "        if item not in counter:\n",
    "            counter[item] = 0\n",
    "            counter[item] += 1\n",
    "    return counter \n",
    "```"
   ]
  },
  {
   "cell_type": "markdown",
   "id": "23c2bf24-c8d7-4eb4-9c6b-abebdf4183b1",
   "metadata": {},
   "source": [
    "## 10.1.1 Creating a counter\n",
    "\n",
    "The constructor of counter can be called in any one of the following ways :\n",
    "\n",
    "- With sequence of items\n",
    "- With dictionary containing keys and counts\n",
    "- With keyword arguments mapping string names to counts"
   ]
  },
  {
   "cell_type": "code",
   "execution_count": 4,
   "id": "fe679531-40b5-45ac-b479-77a6a5574e06",
   "metadata": {},
   "outputs": [
    {
     "name": "stdout",
     "output_type": "stream",
     "text": [
      "The counter has value: Counter({'B': 5, 'A': 3, 'C': 2})\n"
     ]
    }
   ],
   "source": [
    "from collections import Counter\n",
    "\n",
    "\n",
    "# We create a list (sequence of items) of char \n",
    "l=['B','B','A','B','C','A','B','B','A','C']\n",
    "# then we build a counter by using the list\n",
    "c1=Counter(l)\n",
    "print(f\"The counter has value: {c1}\")\n",
    "  \n",
    "# note the counter constructor countes the occurrence of each element of the list, \n",
    "# and build a dict where the key is the char, and value is the count\n",
    "# but the key is not sorted, as a result there is no order"
   ]
  },
  {
   "cell_type": "code",
   "execution_count": 8,
   "id": "09b4b738-aa99-4358-9ba5-0e027ce58d12",
   "metadata": {},
   "outputs": [
    {
     "name": "stdout",
     "output_type": "stream",
     "text": [
      "The counter has value: Counter({'l': 3, 'o': 2, 'h': 1, 'e': 1, ' ': 1, 'w': 1, 'r': 1, 'd': 1})\n"
     ]
    }
   ],
   "source": [
    "# We can also use a string \n",
    "l1=list(\"hello world\")\n",
    "c2=Counter(l1)\n",
    "print(f\"The counter has value: {c2}\")"
   ]
  },
  {
   "cell_type": "code",
   "execution_count": 3,
   "id": "06544334-dd3d-4d59-b140-dfd1a8f8da99",
   "metadata": {},
   "outputs": [
    {
     "name": "stdout",
     "output_type": "stream",
     "text": [
      "Counter({'B': 5, 'A': 3, 'C': 2})\n",
      "Counter({'B': 5, 'A': 3, 'C': 2})\n"
     ]
    }
   ],
   "source": [
    "# with dictionary, we give directly the key and value pair\n",
    "print(Counter({'A':3, 'B':5, 'C':2}))\n",
    "  \n",
    "# with keyword arguments, we give directly the key and value pair\n",
    "print(Counter(A=3, B=5, C=2))"
   ]
  },
  {
   "cell_type": "code",
   "execution_count": 5,
   "id": "af0e9d2f-ccbd-429f-bd10-e8a06b88cb52",
   "metadata": {},
   "outputs": [
    {
     "name": "stdout",
     "output_type": "stream",
     "text": [
      "This is an empty counter Counter()\n"
     ]
    }
   ],
   "source": [
    "# we can also create an empty counter\n",
    "\n",
    "c2=Counter()\n",
    "print(f\"This is an empty counter {c2}\")"
   ]
  },
  {
   "cell_type": "markdown",
   "id": "bc99a0dc-d0ca-42cd-9b7d-3061560ab863",
   "metadata": {},
   "source": [
    "### Counter for complex key\n",
    "\n",
    "We can also use counter to count more complex keys other than int or char."
   ]
  },
  {
   "cell_type": "code",
   "execution_count": 13,
   "id": "dd8d9c64-622d-4378-8a53-aabd6cfb7727",
   "metadata": {},
   "outputs": [
    {
     "name": "stdout",
     "output_type": "stream",
     "text": [
      "Counter({'blue': 3, 'red': 2, 'yellow': 1})\n"
     ]
    }
   ],
   "source": [
    "# Create a list\n",
    "z = ['blue', 'red', 'blue', 'yellow', 'blue', 'red']\n",
    "  \n",
    "# Count distinct elements and print Counter aboject\n",
    "print(Counter(z))"
   ]
  },
  {
   "cell_type": "markdown",
   "id": "7f83c423-556a-439f-a80f-3b2f6d984e39",
   "metadata": {},
   "source": [
    "## 10.1.2 Update a counter\n",
    "\n",
    "- update(data): can update an counter, with a input data. \n",
    "\n",
    "Important Note:\n",
    "- The Data can be provided in any of the three ways as mentioned in initialization and the counter’s data will be increased/decreased, but not replaced. \n",
    "- The Data can be another counter\n",
    "- **The Counts in the data can be zero or negative**."
   ]
  },
  {
   "cell_type": "code",
   "execution_count": 10,
   "id": "2f4f0d05-89c7-453a-b8b1-a66867ed343f",
   "metadata": {},
   "outputs": [
    {
     "name": "stdout",
     "output_type": "stream",
     "text": [
      "Before update, counter has value: Counter()\n",
      "After update [1, 2, 3, 1, 2, 1, 1, 2], counter has value: Counter({1: 4, 2: 3, 3: 1})\n",
      "After update [1, 2, 4], counter has value: Counter({1: 5, 2: 4, 3: 1, 4: 1})\n"
     ]
    }
   ],
   "source": [
    "c2=Counter()\n",
    "print(f\"Before update, counter has value: {c2}\")\n",
    "l1=[1, 2, 3, 1, 2, 1, 1, 2]\n",
    "c2.update(l1)\n",
    "print(f\"After update {l1}, counter has value: {c2}\")\n",
    "\n",
    "# update counter with another list\n",
    "l2=[1, 2, 4]  \n",
    "c2.update(l2)\n",
    "print(f\"After update {l2}, counter has value: {c2}\")"
   ]
  },
  {
   "cell_type": "markdown",
   "id": "682cedfc-afe3-477d-aac3-9f09d76214d8",
   "metadata": {},
   "source": [
    "### Update counter with zero or negative count"
   ]
  },
  {
   "cell_type": "code",
   "execution_count": 15,
   "id": "0258800c-2976-4112-bef6-c3c0572c6b55",
   "metadata": {},
   "outputs": [
    {
     "name": "stdout",
     "output_type": "stream",
     "text": [
      "Before update, counter has value: Counter({1: 5, 2: 4, 3: 1, 4: 1})\n",
      "After update {1: -3, 2: 0, 4: -2}, counter has value: Counter({2: 4, 1: 2, 3: 1, 4: -1})\n"
     ]
    }
   ],
   "source": [
    "c2=Counter({1: 5, 2: 4, 3: 1, 4: 1})\n",
    "print(f\"Before update, counter has value: {c2}\")\n",
    "d1={1:-3, 2:0, 4:-2}\n",
    "c2.update(d1)\n",
    "print(f\"After update {d1}, counter has value: {c2}\")\n",
    "\n",
    "# note after the update, the order of key may change too. We have zero control on how the key is organized inside a counter"
   ]
  },
  {
   "cell_type": "markdown",
   "id": "04823fe8-4ebc-4256-b407-99469bb81cb9",
   "metadata": {},
   "source": [
    "### Update with complex keys"
   ]
  },
  {
   "cell_type": "code",
   "execution_count": 17,
   "id": "60fb6925-e2a0-4f9c-8f50-2173594dba01",
   "metadata": {},
   "outputs": [
    {
     "name": "stdout",
     "output_type": "stream",
     "text": [
      "Before update, counter has value: Counter({'blue': 3, 'red': 2, 'yellow': 1})\n",
      "After update {'blue': 3, 'red': -2, 'yellow': 0}, counter has value: Counter({'blue': 6, 'yellow': 1, 'red': 0})\n"
     ]
    }
   ],
   "source": [
    "c=Counter({'blue': 3, 'red': 2, 'yellow': 1})\n",
    "print(f\"Before update, counter has value: {c}\")\n",
    "d={'blue':3,'red':-2,'yellow':0}\n",
    "c.update(d)\n",
    "print(f\"After update {d}, counter has value: {c}\")"
   ]
  },
  {
   "cell_type": "markdown",
   "id": "0b2edaba-3592-4cf2-9bdc-fa2cae32a024",
   "metadata": {},
   "source": [
    "## 10.1.3 Accessing counters\n",
    "\n",
    "- Counter[key]: Counters can be accessed just like dictionaries. Also, it does not raise the KeyValue error (if key is not present) instead the value’s count is shown as 0.\n",
    "- elements(): It returns an iterator that produces all of the items known to the Counter.\n",
    "- most_common(): It returns a sequence of the n most frequently encountered input values and their respective counts.\n"
   ]
  },
  {
   "cell_type": "code",
   "execution_count": 22,
   "id": "bb5a75b9-8b79-4dcb-82f1-ac7fa1b7c124",
   "metadata": {},
   "outputs": [
    {
     "name": "stdout",
     "output_type": "stream",
     "text": [
      "Counter({'blue': 3, 'red': 2, 'yellow': 1})\n",
      "blue 3\n",
      "red 2\n",
      "yellow 1\n",
      "green 0\n"
     ]
    }
   ],
   "source": [
    "z = ['blue', 'red', 'blue', 'yellow', 'blue', 'red']\n",
    "col_count = Counter(z)\n",
    "print(col_count)\n",
    "  \n",
    "col = ['blue','red','yellow','green']\n",
    "  \n",
    "# Here green is not in col_count so count of green will be zero\n",
    "for color in col:\n",
    "    print (color, col_count[color])"
   ]
  },
  {
   "cell_type": "markdown",
   "id": "c3be9596-ffd6-4aa1-b475-e2138aaadcc0",
   "metadata": {},
   "source": [
    "### 10.1.3.2 Using elements()\n",
    "- elements(): It returns an iterator that produces all of the items known to the Counter.\n",
    "\n",
    "Note : Elements with count <= 0 are not included."
   ]
  },
  {
   "cell_type": "code",
   "execution_count": 23,
   "id": "4a73be08-6b54-4993-bd99-539b1629565c",
   "metadata": {},
   "outputs": [
    {
     "name": "stdout",
     "output_type": "stream",
     "text": [
      "['blue', 'blue', 'blue', 'red', 'red', 'yellow']\n"
     ]
    }
   ],
   "source": [
    "c=Counter({'blue': 3, 'red': 2, 'yellow': 1})\n",
    "\n",
    "# we convert the iterator that returned by c.elements() to a list\n",
    "print(list(c.elements()))"
   ]
  },
  {
   "cell_type": "markdown",
   "id": "533b226b-8908-41db-a6a3-635b373622f5",
   "metadata": {},
   "source": [
    "### 10.1.3.3 Using most_common()\n",
    "- most_common(): It returns a sequence of the n most frequently encountered input values and their respective counts."
   ]
  },
  {
   "cell_type": "code",
   "execution_count": 24,
   "id": "821d243b-015a-4a2c-b511-7557e40a72a0",
   "metadata": {},
   "outputs": [
    {
     "name": "stdout",
     "output_type": "stream",
     "text": [
      "f: 219\n",
      "e: 123\n",
      "d: 120\n"
     ]
    }
   ],
   "source": [
    "c = Counter(a=1, b=2, c=30, d=120, e=123, f=219)\n",
    "  \n",
    "# This prints 3 most frequent characters in the counter\n",
    "for letter, count in c.most_common(3):\n",
    "    print('%s: %d' % (letter, count))"
   ]
  },
  {
   "cell_type": "markdown",
   "id": "4a625583-cacd-435b-8c4b-5df7975b432b",
   "metadata": {},
   "source": [
    "### 10.1.4 Ohter Built-in method\n",
    "- subtract(counter): can substract an counter with another input counter"
   ]
  },
  {
   "cell_type": "code",
   "execution_count": 21,
   "id": "899bfde4-747f-4862-87d1-5c1fc24b8ef3",
   "metadata": {},
   "outputs": [
    {
     "name": "stdout",
     "output_type": "stream",
     "text": [
      "Counter c1 has value: Counter({'C': 10, 'A': 4, 'B': 3})\n",
      "Counter c2 has value: Counter({'A': 10, 'C': 4, 'B': 3})\n",
      "After substraction, counter c1 has value: Counter({'C': 6, 'B': 0, 'A': -6})\n"
     ]
    }
   ],
   "source": [
    "c1 = Counter(A=4,  B=3, C=10)\n",
    "c2 = Counter(A=10, B=3, C=4)\n",
    "print(f\"Counter c1 has value: {c1}\")\n",
    "print(f\"Counter c2 has value: {c2}\")\n",
    "\n",
    "# subtract is a method of object c1. so after calling subtract, c1 is modified, no new object is returned\n",
    "c1.subtract(c2)\n",
    "print(f\"After substraction, counter c1 has value: {c1}\")"
   ]
  },
  {
   "cell_type": "code",
   "execution_count": null,
   "id": "24de414b-fc49-49d8-959d-d4a5602b350f",
   "metadata": {},
   "outputs": [],
   "source": []
  }
 ],
 "metadata": {
  "kernelspec": {
   "display_name": "Python 3 (ipykernel)",
   "language": "python",
   "name": "python3"
  },
  "language_info": {
   "codemirror_mode": {
    "name": "ipython",
    "version": 3
   },
   "file_extension": ".py",
   "mimetype": "text/x-python",
   "name": "python",
   "nbconvert_exporter": "python",
   "pygments_lexer": "ipython3",
   "version": "3.9.7"
  }
 },
 "nbformat": 4,
 "nbformat_minor": 5
}
