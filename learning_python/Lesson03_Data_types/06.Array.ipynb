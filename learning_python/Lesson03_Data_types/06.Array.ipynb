{
 "cells": [
  {
   "cell_type": "markdown",
   "id": "1643c133-3bdb-466b-a9b1-c11a44e41f91",
   "metadata": {},
   "source": [
    "# 3.6 Arrays\n",
    "\n",
    "An array is a collection of **items stored at contiguous memory locations**. The idea is to store multiple items of the same type together. This makes it easier to calculate the position of each element by simply adding an offset to a base value, i.e., the memory location of the first element of the array (generally denoted by the name of the array).\n",
    "\n",
    "To use Array in Python, you need to import a module named array. All elements of the array must be of the same type. \n",
    "\n",
    "## Array vs List\n",
    "\n",
    "|List|Array|\n",
    "|-----|------|\n",
    "|Can consist of elements belonging to different data types| Only consists of elements belonging to the same data type|\n",
    "|No need to explicitly import a module for declaration | Need to explicitly import a module for declaration |\n",
    "|Cannot directly handle arithmetic operations| Can directly handle arithmetic operations |\n",
    "|Can be nested to contain different type of elements|Must contain either all nested elements of same size |\n",
    "|Preferred for shorter sequence of data items|Preferred for longer sequence of data items|\n",
    "|Greater flexibility allows easy modification (addition, deletion) of data|Less flexibility since addition, deletion has to be done element wise|\n",
    "|The entire list can be printed without any explicit looping| A loop has to be formed to print or access the components of array|\n",
    "|Consume larger memory for easy addition of elements|Comparatively more compact in memory size||\n",
    "\n",
    "## 3.6.1 Creating a Array\n",
    "To create an Array in Python, you need to import array module first, then call an array constructor of the module. **The constructor array(data_type, value_list) is used to create an array with data type and value list specified in its arguments**.\n",
    "\n"
   ]
  },
  {
   "cell_type": "code",
   "execution_count": 2,
   "id": "23bd41d7-bd28-4624-9432-cd2cd9027f00",
   "metadata": {},
   "outputs": [
    {
     "name": "stdout",
     "output_type": "stream",
     "text": [
      "The array object is: array('i', [1, 2, 3])\n",
      "The new created array is :  1 2 3 \n"
     ]
    }
   ],
   "source": [
    "# importing \"array\" for array creations\n",
    "import array as arr\n",
    " \n",
    "# creating an array with integer type\n",
    "# 'i' is the data type indicator\n",
    "a = arr.array('i', [1, 2, 3])\n",
    "\n",
    "# try to print the array object, you can notice you can't print the elements.\n",
    "print(f\"The array object is: {a}\")\n",
    "\n",
    "# to print elements in an array, you need to use a for loop\n",
    "print (\"The new created array is : \", end =\" \")\n",
    "for i in range (0, 3):\n",
    "    print (a[i], end =\" \")\n",
    "print()\n",
    " \n"
   ]
  },
  {
   "cell_type": "code",
   "execution_count": 3,
   "id": "d7567e44-72be-4ae3-a588-2dbd4b0171dd",
   "metadata": {},
   "outputs": [
    {
     "name": "stdout",
     "output_type": "stream",
     "text": [
      "The new created array is :  2.5 3.2 3.3 "
     ]
    }
   ],
   "source": [
    "# creating an array with float type\n",
    "b = arr.array('d', [2.5, 3.2, 3.3])\n",
    " \n",
    "# printing original array\n",
    "print (\"The new created array is : \", end =\" \")\n",
    "for i in range (0, 3):\n",
    "    print (b[i], end =\" \")"
   ]
  },
  {
   "cell_type": "markdown",
   "id": "3764f1ae-e03f-4156-948c-7d245bae6a94",
   "metadata": {},
   "source": [
    "Below figure shows a list of possible data type indicator\n",
    "![array_data_type_indicator](https://raw.githubusercontent.com/pengfei99/Learning_Python/main/images/data_types.png)"
   ]
  },
  {
   "cell_type": "markdown",
   "id": "cede211f-35d9-4424-9d64-610e786b3bf7",
   "metadata": {},
   "source": [
    "## 3.6.3 Adding Elements to a Array\n",
    "\n",
    "To add elements in to an Array, we can use:\n",
    "\n",
    "- insert(index, val): it can insert one or more data elements into an array with any given index of array. \n",
    "- append(val): it insert data element at the end of the array. \n",
    "\n",
    "### 3.6.3.1 Using insert()"
   ]
  },
  {
   "cell_type": "code",
   "execution_count": 4,
   "id": "9d8822fb-686d-4179-ac96-6e5968e7fb36",
   "metadata": {},
   "outputs": [
    {
     "name": "stdout",
     "output_type": "stream",
     "text": [
      "Array before insertion :  1 2 3 \n",
      "Array after insertion :  1 4 2 3 \n"
     ]
    }
   ],
   "source": [
    "# array with int type\n",
    "a = arr.array('i', [1, 2, 3])\n",
    " \n",
    " \n",
    "print (\"Array before insertion : \", end =\" \")\n",
    "for i in range (0, 3):\n",
    "    print (a[i], end =\" \")\n",
    "print()\n",
    " \n",
    "# inserting array using insert() function\n",
    "# 1 is the index, 4 is the value to be inserted\n",
    "a.insert(1, 4)\n",
    " \n",
    "print (\"Array after insertion : \", end =\" \")\n",
    "for i in (a):\n",
    "    print (i, end =\" \")\n",
    "print()\n",
    " \n"
   ]
  },
  {
   "cell_type": "markdown",
   "id": "425d0e31-226a-4496-9a2b-0576cbe7b399",
   "metadata": {},
   "source": [
    "### 3.6.3.2 Using append()\n",
    "\n",
    "As append add element at the end of array, we don't need to provide an index."
   ]
  },
  {
   "cell_type": "code",
   "execution_count": 5,
   "id": "2240e42e-335b-4b1a-8585-eeababc98520",
   "metadata": {},
   "outputs": [
    {
     "name": "stdout",
     "output_type": "stream",
     "text": [
      "Array before insertion :  2.5 3.2 3.3 \n",
      "Array after insertion :  2.5 3.2 3.3 4.4 \n"
     ]
    }
   ],
   "source": [
    "# array with float type\n",
    "b = arr.array('d', [2.5, 3.2, 3.3])\n",
    " \n",
    "print (\"Array before insertion : \", end =\" \")\n",
    "for i in range (0, 3):\n",
    "    print (b[i], end =\" \")\n",
    "print()\n",
    " \n",
    "# adding an element using append()\n",
    "b.append(4.4)\n",
    " \n",
    "print (\"Array after insertion : \", end =\" \")\n",
    "for i in (b):\n",
    "    print (i, end =\" \")\n",
    "print()"
   ]
  },
  {
   "cell_type": "markdown",
   "id": "a215d902-425f-412e-87cb-faa133914a98",
   "metadata": {},
   "source": [
    "## 3.6.4 Accessing elements from the Array\n",
    "\n",
    "In order to access the array items refer to the index number. Use the index operator [ ] to access an item in a array. The index must be an integer. \n",
    " "
   ]
  },
  {
   "cell_type": "code",
   "execution_count": 8,
   "id": "825807f2-64dc-4df2-b6bb-045073963493",
   "metadata": {},
   "outputs": [
    {
     "name": "stdout",
     "output_type": "stream",
     "text": [
      "element at index 0 is:  1\n",
      "element at index 3 is:  4\n"
     ]
    }
   ],
   "source": [
    "# array with int type\n",
    "a = arr.array('i', [1, 2, 3, 4, 5, 6])\n",
    "\n",
    "i = 0\n",
    "# accessing element of array\n",
    "print(f\"element at index {i} is: \", a[i])\n",
    "\n",
    "i =3\n",
    "# accessing element of array\n",
    "print(f\"element at index {i} is: \", a[i])"
   ]
  },
  {
   "cell_type": "code",
   "execution_count": 9,
   "id": "c790d80a-89b2-4e27-b7f0-629037ea82ba",
   "metadata": {},
   "outputs": [
    {
     "name": "stdout",
     "output_type": "stream",
     "text": [
      "element at index 2 is:  3.3\n"
     ]
    }
   ],
   "source": [
    "i=2\n",
    "# array with float type\n",
    "b = arr.array('d', [2.5, 3.2, 3.3])\n",
    "print(f\"element at index {i} is: \", b[i])"
   ]
  },
  {
   "cell_type": "markdown",
   "id": "be34a29c-27db-456d-9b05-9bc1f8ddf29a",
   "metadata": {},
   "source": [
    "## 3.6.5 Removing Elements from the Array\n",
    "- remove(value): It removes the first element that matches the input value, an Error arises if element doesn’t exist in the set. Remove() method only removes one element at a time, to remove range of elements, iterator need to be used. \n",
    "- pop(index): It removes the element at the given index, and return the element. If index is absent, it removes the last element of the array. "
   ]
  },
  {
   "cell_type": "markdown",
   "id": "87b385f3-467f-4e91-995d-167bf99886bd",
   "metadata": {},
   "source": [
    "### 3.6.5.1 Using pop"
   ]
  },
  {
   "cell_type": "code",
   "execution_count": 13,
   "id": "496882e7-7277-4903-a345-20228fc3a5bd",
   "metadata": {},
   "outputs": [
    {
     "name": "stdout",
     "output_type": "stream",
     "text": [
      "The new created array is : 1 2 3 1 5 \n",
      "The popped element is : 3\n",
      "The array after popping is : 1 2 1 5 \n"
     ]
    }
   ],
   "source": [
    "a = arr.array('i', [1, 2, 3, 1, 5])\n",
    " \n",
    "# printing original array\n",
    "print (\"The new created array is : \", end =\"\")\n",
    "for i in range (0, 5):\n",
    "    print (a[i], end =\" \")\n",
    " \n",
    "print (\"\\r\")\n",
    " \n",
    "# using pop() to remove element at 2nd position\n",
    "removed_element=a.pop(2)\n",
    "print (f\"The popped element is : {removed_element}\")\n",
    " \n",
    "# printing array after popping\n",
    "print (\"The array after popping is : \", end =\"\")\n",
    "for i in range (0, 4):\n",
    "    print (a[i], end =\" \")\n",
    " \n",
    "print(\"\\r\")"
   ]
  },
  {
   "cell_type": "markdown",
   "id": "fa57804d-2806-4db4-bc96-e4abf635ac88",
   "metadata": {},
   "source": [
    "### 3.6.5.2 Using remove"
   ]
  },
  {
   "cell_type": "code",
   "execution_count": 12,
   "id": "1b4b912e-ba23-43f9-b218-da0ece090460",
   "metadata": {},
   "outputs": [
    {
     "name": "stdout",
     "output_type": "stream",
     "text": [
      "The array after removing is : 2 1 5 "
     ]
    }
   ],
   "source": [
    "# using remove() to remove 1st occurrence of 1\n",
    "a.remove(1)\n",
    " \n",
    "# printing array after removing\n",
    "print (\"The array after removing is : \", end =\"\")\n",
    "for i in range (0, 3):\n",
    "    print (a[i], end =\" \")"
   ]
  },
  {
   "cell_type": "markdown",
   "id": "bbddd7ab-5a5e-43d2-8600-d50f3f139776",
   "metadata": {},
   "source": [
    "## 3.6.6 Slicing of a Array\n",
    "To slice an array, we need to use Slice operation which is the array name followed by a range. You can use the below syntaxe to specify a range \n",
    "\n",
    "```text\n",
    "[start:end:step]\n",
    "\n",
    "# It means that slicing will start from index start will go up to index stop with inteval of steps. \n",
    "# Default value:\n",
    "- start is 0, \n",
    "- stop is last index of list\n",
    "- step is 1 \n",
    "They all can be negative\n",
    "if start, stop are negative, it means we will count the index from the end of the list\n",
    "if step is negative, it means we will show elements of the list in reverse order.\n",
    "```\n",
    "\n",
    "Note- Negative Increment values can also be used to reverse the sequence of Tuples \n",
    "\n",
    "For example:  \n",
    "- To print elements from beginning to a range use [: Index], \n",
    "- To print elements from end-use [:-Index], \n",
    "- To print elements from specific Index till the end use [Index:], \n",
    "- To print elements within a range, use [Start Index:End Index]\n",
    "- To print the whole List with the use of slicing operation, use [:]. \n",
    "- To print elements within a range with step value 2, use [Start Index:End Index:2]\n",
    "- Further, to print the whole List in reverse order, use [::-1].\n",
    "\n",
    "Below figure shows how to use negative index:\n",
    "![List_element_indexing](https://raw.githubusercontent.com/pengfei99/Learning_Python/main/images/List_element_indexing.jpg)\n"
   ]
  },
  {
   "cell_type": "code",
   "execution_count": 14,
   "id": "4fae2976-bf09-431a-be74-f3ac5fd8325a",
   "metadata": {},
   "outputs": [
    {
     "name": "stdout",
     "output_type": "stream",
     "text": [
      "Initial Array: \n",
      "1 2 3 4 5 6 7 8 9 10 \n",
      "Slicing elements in a range 3-8: \n",
      "array('i', [4, 5, 6, 7, 8])\n",
      "\n",
      "Elements sliced from 5th element till the end: \n",
      "array('i', [6, 7, 8, 9, 10])\n",
      "\n",
      "Printing all elements using slice operation: \n",
      "array('i', [1, 2, 3, 4, 5, 6, 7, 8, 9, 10])\n"
     ]
    }
   ],
   "source": [
    "# creating a list\n",
    "l = [1, 2, 3, 4, 5, 6, 7, 8, 9, 10]\n",
    " \n",
    "a = arr.array('i', l)\n",
    "print(\"Initial Array: \")\n",
    "for i in (a):\n",
    "    print(i, end =\" \")\n",
    " \n",
    "# Print elements of a range using Slice operation\n",
    "Sliced_array = a[3:8]\n",
    "print(\"\\nSlicing elements in a range 3-8: \")\n",
    "print(Sliced_array)\n",
    " \n",
    "# Print elements from 5 to end\n",
    "Sliced_array = a[5:]\n",
    "print(\"\\nElements sliced from 5th element till the end: \")\n",
    "print(Sliced_array)\n",
    " \n",
    "# Printing elements from\n",
    "# beginning till end\n",
    "Sliced_array = a[:]\n",
    "print(\"\\nPrinting all elements using slice operation: \")\n",
    "print(Sliced_array)"
   ]
  },
  {
   "cell_type": "markdown",
   "id": "23a43fc3-4d59-483b-806d-1ca004bd2df0",
   "metadata": {},
   "source": [
    "### 3.6.7 Searching element in a Array\n",
    "\n",
    "- index(): This function returns the index of the first occurrence of value that matches the input arguments. "
   ]
  },
  {
   "cell_type": "code",
   "execution_count": 15,
   "id": "5b3a1e40-1334-474c-a4a3-d764d731c89d",
   "metadata": {},
   "outputs": [
    {
     "name": "stdout",
     "output_type": "stream",
     "text": [
      "The new created array is : 1 2 3 1 2 5 \n",
      "The index of 1st occurrence of 2 is : 1\n",
      "The index of 1st occurrence of 1 is : 0\n"
     ]
    }
   ],
   "source": [
    "a = arr.array('i', [1, 2, 3, 1, 2, 5])\n",
    " \n",
    "# printing original array\n",
    "print (\"The new created array is : \", end =\"\")\n",
    "for i in range (0, 6):\n",
    "    print (a[i], end =\" \")\n",
    " \n",
    "print (\"\\r\")\n",
    " \n",
    "# using index() to print index of 1st occurrenece of 2\n",
    "print (\"The index of 1st occurrence of 2 is : \", end =\"\")\n",
    "print (a.index(2))\n",
    " \n",
    "# using index() to print index of 1st occurrenece of 1\n",
    "print (\"The index of 1st occurrence of 1 is : \", end =\"\")\n",
    "print (a.index(1))"
   ]
  },
  {
   "cell_type": "markdown",
   "id": "c9ca4ba1-a77d-4bbe-ac94-78d244ee9d92",
   "metadata": {},
   "source": [
    "## 3.6.8 Updating Elements in a Array\n",
    "In order to update an element in the array we simply reassign a new value to the desired index we want to update. \n",
    " "
   ]
  },
  {
   "cell_type": "code",
   "execution_count": 18,
   "id": "14eb0025-5533-4d5d-b282-0b21f0bc903f",
   "metadata": {},
   "outputs": [
    {
     "name": "stdout",
     "output_type": "stream",
     "text": [
      "Array before updation : 1 2 3 1 2 5 \n",
      "Array after updation : 1 2 6 1 2 5 \n",
      "Array after updation : 1 2 6 1 8 5 "
     ]
    }
   ],
   "source": [
    "a = arr.array('i', [1, 2, 3, 1, 2, 5])\n",
    "# printing original array\n",
    "print (\"Array before updation : \", end =\"\")\n",
    "for i in range (0, 6):\n",
    "    print (a[i], end =\" \")\n",
    "print (\"\\r\")\n",
    " \n",
    "# updating a element in a array\n",
    "a[2] = 6\n",
    "print(\"Array after updation : \", end =\"\")\n",
    "for i in range (0, 6):\n",
    "    print (a[i], end =\" \")\n",
    "print()\n",
    " \n",
    "# updating a element in a array\n",
    "a[4] = 8\n",
    "print(\"Array after updation : \", end =\"\")\n",
    "for i in range (0, 6):\n",
    "    print (a[i], end =\" \")"
   ]
  },
  {
   "cell_type": "code",
   "execution_count": null,
   "id": "47165781-9042-4a40-a472-be558e11826f",
   "metadata": {},
   "outputs": [],
   "source": []
  }
 ],
 "metadata": {
  "kernelspec": {
   "display_name": "Python 3 (ipykernel)",
   "language": "python",
   "name": "python3"
  },
  "language_info": {
   "codemirror_mode": {
    "name": "ipython",
    "version": 3
   },
   "file_extension": ".py",
   "mimetype": "text/x-python",
   "name": "python",
   "nbconvert_exporter": "python",
   "pygments_lexer": "ipython3",
   "version": "3.9.7"
  }
 },
 "nbformat": 4,
 "nbformat_minor": 5
}
