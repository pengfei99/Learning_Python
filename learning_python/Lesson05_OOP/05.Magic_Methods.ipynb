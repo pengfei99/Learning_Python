{
 "cells": [
  {
   "cell_type": "markdown",
   "metadata": {
    "collapsed": true,
    "pycharm": {
     "name": "#%% md\n"
    }
   },
   "source": [
    "# 5. Magic Methods\n",
    "\n",
    " So far, we have seen many special methods with fixed names, such as __init__, __str__, etc. . We also call them dunder methods, because they all the form __<name>__.\n",
    "\n",
    "So what's magic about them? The answer is, you don't have to invoke them directly. The invocation is realized behind the scenes. For example, when you create an instance x of a class A with the statement \"x = A()\", Python will do the necessary calls to __new__ and __init__.\n"
   ]
  },
  {
   "cell_type": "markdown",
   "source": [
    "# 5.1 A simple example\n",
    "\n",
    "We had used the plus(+) sign to add numerical values, to concatenate strings or to combine lists. In fact to use the plus on two object, you need to implement the __add__ dunder function.\n",
    "\n",
    "In below example, I decide that dog1+dog2 will concatenate their name"
   ],
   "metadata": {
    "collapsed": false,
    "pycharm": {
     "name": "#%% md\n"
    }
   }
  },
  {
   "cell_type": "code",
   "execution_count": 2,
   "outputs": [],
   "source": [
    "class Dog:\n",
    "    def __init__(self,name):\n",
    "        self.name=name\n",
    "    def __add__(self, other):\n",
    "        return Dog(self.name+other.name)"
   ],
   "metadata": {
    "collapsed": false,
    "pycharm": {
     "name": "#%%\n"
    }
   }
  },
  {
   "cell_type": "code",
   "execution_count": 3,
   "outputs": [
    {
     "name": "stdout",
     "output_type": "stream",
     "text": [
      "TotoTiti\n"
     ]
    }
   ],
   "source": [
    "d1=Dog(\"Toto\")\n",
    "d2=Dog(\"Titi\")\n",
    "d3=d1+d2\n",
    "\n",
    "print(d3.name)"
   ],
   "metadata": {
    "collapsed": false,
    "pycharm": {
     "name": "#%%\n"
    }
   }
  },
  {
   "cell_type": "markdown",
   "source": [
    "So you can see, we don't need to call __add__, it's been called automatically when we use +."
   ],
   "metadata": {
    "collapsed": false,
    "pycharm": {
     "name": "#%% md\n"
    }
   }
  },
  {
   "cell_type": "markdown",
   "source": [
    "## 5.2 Overview of Magic Methods\n",
    "\n",
    "Below are important magic methods in python 3\n",
    "\n",
    "### 5.2.1 Initialization and Construction\n",
    "```text\n",
    "name\tDescription\n",
    "__new__(cls, other)\tTo get called in an object's instantiation.\n",
    "__init__(self, other)\tTo get called by the __new__ method.\n",
    "__del__(self)\tDestructor method.\n",
    "```\n",
    "\n",
    "### 5.2.2 Extended Assignments\n",
    "\n",
    "```text\n",
    "Augmented Assignment\tDescription\n",
    "__iadd__(self, other)\tTo get called on addition with assignment e.g. a +=b.\n",
    "__isub__(self, other)\tTo get called on subtraction with assignment e.g. a -=b.\n",
    "__imul__(self, other)\tTo get called on multiplication with assignment e.g. a *=b.\n",
    "__ifloordiv__(self, other)\tTo get called on integer division with assignment e.g. a //=b.\n",
    "__idiv__(self, other)\tTo get called on division with assignment e.g. a /=b.\n",
    "__itruediv__(self, other)\tTo get called on true division with assignment\n",
    "__imod__(self, other)\tTo get called on modulo with assignment e.g. a%=b.\n",
    "__ipow__(self, other)\tTo get called on exponentswith assignment e.g. a **=b.\n",
    "__ilshift__(self, other)\tTo get called on left bitwise shift with assignment e.g. a<<=b.\n",
    "__irshift__(self, other)\tTo get called on right bitwise shift with assignment e.g. a >>=b.\n",
    "__iand__(self, other)\tTo get called on bitwise AND with assignment e.g. a&=b.\n",
    "__ior__(self, other)\tTo get called on bitwise OR with assignment e.g. a|=b.\n",
    "__ixor__(self, other)\tTo get called on bitwise XOR with assignment e.g. a ^=b.\n",
    "```\n",
    "\n",
    "### 5.2.3 Unary Operators\n",
    "```text\n",
    "Operator\tMethod   description\n",
    "-\tobject.__neg__(self)  To get called for unary negative e.g. -someobject.\n",
    "+\tobject.__pos__(self)  To get called for unary positive e.g. +someobject.\n",
    "abs()\tobject.__abs__(self)  To get called by built-in abs() function.\n",
    "~\tobject.__invert__(self)  To get called for inversion using the ~ operator.\n",
    "complex()\tobject.__complex__(self)\n",
    "round()  __round__(self,n)\tTo get called by built-in round() function.\n",
    "floor()   __floor__(self)\tTo get called by built-in math.floor() function.\n",
    "ceil()    __ceil__(self)\tTo get called by built-in math.ceil() function.\n",
    "trunc()   __trunc__(self)\tTo get called by built-in math.trunc() function.\n",
    "\n",
    "```\n",
    "\n",
    "### 5.2.4 Type Conversion Magic Methods\n",
    "```text\n",
    "Name\tDescription\n",
    "__int__(self)\tTo get called by built-int int() method to convert a type to an int.\n",
    "__float__(self)\tTo get called by built-int float() method to convert a type to float.\n",
    "__complex__(self)\tTo get called by built-int complex() method to convert a type to complex.\n",
    "__oct__(self)\tTo get called by built-int oct() method to convert a type to octal.\n",
    "__hex__(self)\tTo get called by built-int hex() method to convert a type to hexadecimal.\n",
    "__index__(self)\tTo get called on type conversion to an int when the object is used in a slice expression.\n",
    "__trunc__(self)\tTo get called from math.trunc() method.\n",
    "```\n",
    "\n",
    "### 5.2.5 String Magic Methods\n",
    "\n",
    "```text\n",
    "Name\tDescription\n",
    "__str__(self)\tTo get called by built-int str() method to return a string representation of a type.\n",
    "__repr__(self)\tTo get called by built-int repr() method to return a machine readable representation of a type.\n",
    "__unicode__(self)\tTo get called by built-int unicode() method to return an unicode string of a type.\n",
    "__format__(self, formatstr)\tTo get called by built-int string.format() method to return a new style of string.\n",
    "__hash__(self)\tTo get called by built-int hash() method to return an integer.\n",
    "__nonzero__(self)\tTo get called by built-int bool() method to return True or False.\n",
    "__dir__(self)\tTo get called by built-int dir() method to return a list of attributes of a class.\n",
    "__sizeof__(self)\tTo get called by built-int sys.getsizeof() method to return the size of an object.\n",
    "```\n",
    "\n",
    "### 5.2.6 Attribute Magic Methods\n",
    "\n",
    "```text\n",
    "Name\tDescription\n",
    "__getattr__(self, name)\tIs called when the accessing attribute of a class that does not exist.\n",
    "__setattr__(self, name, value)\tIs called when assigning a value to the attribute of a class.\n",
    "__delattr__(self, name)\tIs called when deleting an attribute of a class.\n",
    "```\n",
    "\n",
    "### 5.2.7 Operator Magic Methods\n",
    "\n",
    "```text\n",
    "Name\tDescription\n",
    "__add__(self, other)\tTo get called on add operation using + operator\n",
    "__sub__(self, other)\tTo get called on subtraction operation using - operator.\n",
    "__mul__(self, other)\tTo get called on multiplication operation using * operator.\n",
    "__floordiv__(self, other)\tTo get called on floor division operation using // operator.\n",
    "__truediv__(self, other)\tTo get called on division operation using / operator.\n",
    "__mod__(self, other)\tTo get called on modulo operation using % operator.\n",
    "__pow__(self, other[, modulo])\tTo get called on calculating the power using ** operator.\n",
    "__lt__(self, other)\tTo get called on comparison using < operator.\n",
    "__le__(self, other)\tTo get called on comparison using <= operator.\n",
    "__eq__(self, other)\tTo get called on comparison using == operator.\n",
    "__ne__(self, other)\tTo get called on comparison using != operator.\n",
    "__ge__(self, other)\tTo get called on comparison using >= operator.\n",
    "```\n"
   ],
   "metadata": {
    "collapsed": false,
    "pycharm": {
     "name": "#%% md\n"
    }
   }
  },
  {
   "cell_type": "markdown",
   "source": [
    "## 5.3 A more complex example"
   ],
   "metadata": {
    "collapsed": false,
    "pycharm": {
     "name": "#%% md\n"
    }
   }
  },
  {
   "cell_type": "code",
   "execution_count": 6,
   "outputs": [],
   "source": [
    "class Length:\n",
    "    __metric = {\"mm\" : 0.001, \"cm\" : 0.01, \"m\" : 1, \"km\" : 1000,\n",
    "                \"in\" : 0.0254, \"ft\" : 0.3048, \"yd\" : 0.9144,\n",
    "                \"mi\" : 1609.344 }\n",
    "    def __init__(self, value, unit = \"m\" ):\n",
    "        self.value = value\n",
    "        self.unit = unit\n",
    "    def Converse2Metres(self):\n",
    "        return self.value * Length.__metric[self.unit]\n",
    "    def __add__(self, other):\n",
    "        l = self.Converse2Metres() + other.Converse2Metres()\n",
    "        return Length(l / Length.__metric[self.unit], self.unit )\n",
    "    # print for end user\n",
    "    def __str__(self):\n",
    "        return f\"{str(self.Converse2Metres())} meters\"\n",
    "    # print for developer to debug\n",
    "    def __repr__(self):\n",
    "        return \"Length(\" + str(self.value) + \", '\" + self.unit + \"')\""
   ],
   "metadata": {
    "collapsed": false,
    "pycharm": {
     "name": "#%%\n"
    }
   }
  },
  {
   "cell_type": "code",
   "execution_count": 9,
   "outputs": [
    {
     "name": "stdout",
     "output_type": "stream",
     "text": [
      "2.56 meters\n",
      "Length(2.56, 'm')\n",
      "2.7432 meters\n",
      "Length(3, 'yd')\n",
      "5.57162 meters\n"
     ]
    }
   ],
   "source": [
    "l1=Length(2.56)\n",
    "print(l1)\n",
    "print(repr(l1))\n",
    "\n",
    "l2=Length(3,\"yd\")\n",
    "print(l2)\n",
    "print(repr(l2))\n",
    "\n",
    "\n",
    "print( l1+ l2 + Length(7.8,\"in\") + Length(7.03,\"cm\"))\n"
   ],
   "metadata": {
    "collapsed": false,
    "pycharm": {
     "name": "#%%\n"
    }
   }
  },
  {
   "cell_type": "markdown",
   "source": [
    "## 5.4 Some important dunder function\n",
    "\n",
    "Some dunder function are more important, because they can change the behavior of the class dramatically. Below are some examples.\n",
    "\n",
    "### 5.4.1 __iter__ and __next__\n",
    "\n",
    "In chapiter 3.11 Iterator_VS_Iterable, we have explained that if a class implement __iter__ which returns an iterator, then it's an **iterable class**.\n",
    "If a class implements both __iter__(return self) and __next__, then this class is an **iterator class**\n",
    "\n",
    "Below Fib function is an iterator class."
   ],
   "metadata": {
    "collapsed": false,
    "pycharm": {
     "name": "#%% md\n"
    }
   }
  },
  {
   "cell_type": "code",
   "execution_count": 11,
   "outputs": [],
   "source": [
    "class Fib(object):\n",
    "    def __init__(self):\n",
    "        self.a, self.b = 0, 1\n",
    "\n",
    "    def __iter__(self):\n",
    "        return self\n",
    "\n",
    "    def __next__(self):\n",
    "        self.a, self.b = self.b, self.a + self.b # calculate next value\n",
    "        if self.a > 100000: # loop exit condition\n",
    "            raise StopIteration()\n",
    "        return self.a"
   ],
   "metadata": {
    "collapsed": false,
    "pycharm": {
     "name": "#%%\n"
    }
   }
  },
  {
   "cell_type": "code",
   "execution_count": 12,
   "outputs": [
    {
     "name": "stdout",
     "output_type": "stream",
     "text": [
      "1\n",
      "1\n",
      "2\n",
      "3\n",
      "5\n",
      "8\n",
      "13\n",
      "21\n",
      "34\n",
      "55\n",
      "89\n",
      "144\n",
      "233\n",
      "377\n",
      "610\n",
      "987\n",
      "1597\n",
      "2584\n",
      "4181\n",
      "6765\n",
      "10946\n",
      "17711\n",
      "28657\n",
      "46368\n",
      "75025\n"
     ]
    }
   ],
   "source": [
    "for n in Fib():\n",
    "    print(n)"
   ],
   "metadata": {
    "collapsed": false,
    "pycharm": {
     "name": "#%%\n"
    }
   }
  },
  {
   "cell_type": "markdown",
   "source": [
    "## 5.4.2 __getitem__\n",
    "\n",
    "If you want a function that can get item by its index, you need to implement __getitem__.\n"
   ],
   "metadata": {
    "collapsed": false,
    "pycharm": {
     "name": "#%% md\n"
    }
   }
  },
  {
   "cell_type": "code",
   "execution_count": 15,
   "outputs": [],
   "source": [
    "class Fib(object):\n",
    "    def __getitem__(self, n):\n",
    "        if isinstance(n, int): # n is an index\n",
    "            a, b = 1, 1\n",
    "            for x in range(n):\n",
    "                a, b = b, a + b\n",
    "            return a\n",
    "        if isinstance(n, slice): # n is a slice\n",
    "            start = n.start\n",
    "            stop = n.stop\n",
    "            if start is None:\n",
    "                start = 0\n",
    "            a, b = 1, 1\n",
    "            L = []\n",
    "            for x in range(stop):\n",
    "                if x >= start:\n",
    "                    L.append(a)\n",
    "                a, b = b, a + b\n",
    "            return L"
   ],
   "metadata": {
    "collapsed": false,
    "pycharm": {
     "name": "#%%\n"
    }
   }
  },
  {
   "cell_type": "code",
   "execution_count": 16,
   "outputs": [
    {
     "name": "stdout",
     "output_type": "stream",
     "text": [
      "89\n",
      "987\n"
     ]
    }
   ],
   "source": [
    "f = Fib()\n",
    "print(f[10])\n",
    "print(f[15])"
   ],
   "metadata": {
    "collapsed": false,
    "pycharm": {
     "name": "#%%\n"
    }
   }
  },
  {
   "cell_type": "code",
   "execution_count": 17,
   "outputs": [
    {
     "data": {
      "text/plain": "[1, 1, 2, 3, 5]"
     },
     "execution_count": 17,
     "metadata": {},
     "output_type": "execute_result"
    }
   ],
   "source": [
    "f[0:5]"
   ],
   "metadata": {
    "collapsed": false,
    "pycharm": {
     "name": "#%%\n"
    }
   }
  },
  {
   "cell_type": "markdown",
   "source": [
    "## 5.4.3 __getattr__  and __getattribute__\n",
    "\n",
    "__getattr__ is called when an attribute lookup has not found the attribute in the usual places (i.e. it is not an instance attribute nor is it found in the class tree for self).\n",
    "\n",
    "\n",
    " Check below example, if we call name, it's ok, If we call score, it will raise exception, because it does not exist in Student."
   ],
   "metadata": {
    "collapsed": false,
    "pycharm": {
     "name": "#%% md\n"
    }
   }
  },
  {
   "cell_type": "code",
   "execution_count": 18,
   "outputs": [],
   "source": [
    "class Student(object):\n",
    "\n",
    "    def __init__(self):\n",
    "        self.name = 'Michael'"
   ],
   "metadata": {
    "collapsed": false,
    "pycharm": {
     "name": "#%%\n"
    }
   }
  },
  {
   "cell_type": "code",
   "execution_count": 19,
   "outputs": [
    {
     "data": {
      "text/plain": "'Michael'"
     },
     "execution_count": 19,
     "metadata": {},
     "output_type": "execute_result"
    }
   ],
   "source": [
    "s=Student()\n",
    "s.name"
   ],
   "metadata": {
    "collapsed": false,
    "pycharm": {
     "name": "#%%\n"
    }
   }
  },
  {
   "cell_type": "code",
   "execution_count": 20,
   "outputs": [
    {
     "ename": "AttributeError",
     "evalue": "'Student' object has no attribute 'score'",
     "output_type": "error",
     "traceback": [
      "\u001B[0;31m---------------------------------------------------------------------------\u001B[0m",
      "\u001B[0;31mAttributeError\u001B[0m                            Traceback (most recent call last)",
      "Input \u001B[0;32mIn [20]\u001B[0m, in \u001B[0;36m<cell line: 1>\u001B[0;34m()\u001B[0m\n\u001B[0;32m----> 1\u001B[0m \u001B[43ms\u001B[49m\u001B[38;5;241;43m.\u001B[39;49m\u001B[43mscore\u001B[49m\n",
      "\u001B[0;31mAttributeError\u001B[0m: 'Student' object has no attribute 'score'"
     ]
    }
   ],
   "source": [
    "s.score"
   ],
   "metadata": {
    "collapsed": false,
    "pycharm": {
     "name": "#%%\n"
    }
   }
  },
  {
   "cell_type": "markdown",
   "source": [
    "If we add __getattr__, then we can treat all call of attributes dynamically."
   ],
   "metadata": {
    "collapsed": false,
    "pycharm": {
     "name": "#%% md\n"
    }
   }
  },
  {
   "cell_type": "code",
   "execution_count": 21,
   "outputs": [],
   "source": [
    "class Student(object):\n",
    "\n",
    "    def __init__(self):\n",
    "        self.name = 'Michael'\n",
    "\n",
    "    def __getattr__(self, item):\n",
    "        if item==\"score\":\n",
    "            return 100\n",
    "        elif item==\"sex\":\n",
    "            return \"Masculin\"\n",
    "        else:\n",
    "            raise AttributeError('\\'Student\\' object has no attribute \\'%s\\'' % item)"
   ],
   "metadata": {
    "collapsed": false,
    "pycharm": {
     "name": "#%%\n"
    }
   }
  },
  {
   "cell_type": "code",
   "execution_count": 22,
   "outputs": [
    {
     "name": "stdout",
     "output_type": "stream",
     "text": [
      "Michael\n",
      "100\n",
      "Masculin\n"
     ]
    }
   ],
   "source": [
    "s=Student()\n",
    "print(s.name)\n",
    "print(s.score)\n",
    "print(s.sex)"
   ],
   "metadata": {
    "collapsed": false,
    "pycharm": {
     "name": "#%%\n"
    }
   }
  },
  {
   "cell_type": "code",
   "execution_count": 23,
   "outputs": [
    {
     "ename": "AttributeError",
     "evalue": "'Student' object has no attribute 'toto'",
     "output_type": "error",
     "traceback": [
      "\u001B[0;31m---------------------------------------------------------------------------\u001B[0m",
      "\u001B[0;31mAttributeError\u001B[0m                            Traceback (most recent call last)",
      "Input \u001B[0;32mIn [23]\u001B[0m, in \u001B[0;36m<cell line: 1>\u001B[0;34m()\u001B[0m\n\u001B[0;32m----> 1\u001B[0m \u001B[38;5;28mprint\u001B[39m(\u001B[43ms\u001B[49m\u001B[38;5;241;43m.\u001B[39;49m\u001B[43mtoto\u001B[49m)\n",
      "Input \u001B[0;32mIn [21]\u001B[0m, in \u001B[0;36mStudent.__getattr__\u001B[0;34m(self, item)\u001B[0m\n\u001B[1;32m     10\u001B[0m     \u001B[38;5;28;01mreturn\u001B[39;00m \u001B[38;5;124m\"\u001B[39m\u001B[38;5;124mMasculin\u001B[39m\u001B[38;5;124m\"\u001B[39m\n\u001B[1;32m     11\u001B[0m \u001B[38;5;28;01melse\u001B[39;00m:\n\u001B[0;32m---> 12\u001B[0m     \u001B[38;5;28;01mraise\u001B[39;00m \u001B[38;5;167;01mAttributeError\u001B[39;00m(\u001B[38;5;124m'\u001B[39m\u001B[38;5;130;01m\\'\u001B[39;00m\u001B[38;5;124mStudent\u001B[39m\u001B[38;5;130;01m\\'\u001B[39;00m\u001B[38;5;124m object has no attribute \u001B[39m\u001B[38;5;130;01m\\'\u001B[39;00m\u001B[38;5;132;01m%s\u001B[39;00m\u001B[38;5;130;01m\\'\u001B[39;00m\u001B[38;5;124m'\u001B[39m \u001B[38;5;241m%\u001B[39m item)\n",
      "\u001B[0;31mAttributeError\u001B[0m: 'Student' object has no attribute 'toto'"
     ]
    }
   ],
   "source": [
    "print(s.toto)"
   ],
   "metadata": {
    "collapsed": false,
    "pycharm": {
     "name": "#%%\n"
    }
   }
  },
  {
   "cell_type": "markdown",
   "source": [
    "### A more useful example for __getattr__\n",
    "\n",
    "Now, many site provide REST API：\n",
    "\n",
    "http://api.server/user/friends\n",
    "http://api.server/user/timeline/list\n",
    "\n",
    "If you want to write a SDK，for each URL you need to have an endpoint in your API，and if the url change, you need to change the SDK too.\n",
    "\n",
    "With __getattr__，we can write a chain that builds the url dynamically："
   ],
   "metadata": {
    "collapsed": false,
    "pycharm": {
     "name": "#%% md\n"
    }
   }
  },
  {
   "cell_type": "code",
   "execution_count": 24,
   "outputs": [],
   "source": [
    "class Chain(object):\n",
    "\n",
    "    def __init__(self, path=''):\n",
    "        self._path = path\n",
    "\n",
    "    def __getattr__(self, path):\n",
    "        return Chain('%s/%s' % (self._path, path))\n",
    "\n",
    "    def __str__(self):\n",
    "        return self._path\n",
    "\n",
    "\n",
    "    __repr__ = __str__"
   ],
   "metadata": {
    "collapsed": false,
    "pycharm": {
     "name": "#%%\n"
    }
   }
  },
  {
   "cell_type": "code",
   "execution_count": 25,
   "outputs": [
    {
     "data": {
      "text/plain": "/status/user/timeline/list"
     },
     "execution_count": 25,
     "metadata": {},
     "output_type": "execute_result"
    }
   ],
   "source": [
    "Chain().status.user.timeline.list"
   ],
   "metadata": {
    "collapsed": false,
    "pycharm": {
     "name": "#%%\n"
    }
   }
  },
  {
   "cell_type": "markdown",
   "source": [
    "For the api that need to pass parameters:\n",
    "GET /users/:user/repos\n",
    "We can use below function."
   ],
   "metadata": {
    "collapsed": false,
    "pycharm": {
     "name": "#%% md\n"
    }
   }
  },
  {
   "cell_type": "code",
   "execution_count": 26,
   "outputs": [
    {
     "ename": "TypeError",
     "evalue": "'Chain' object is not callable",
     "output_type": "error",
     "traceback": [
      "\u001B[0;31m---------------------------------------------------------------------------\u001B[0m",
      "\u001B[0;31mTypeError\u001B[0m                                 Traceback (most recent call last)",
      "Input \u001B[0;32mIn [26]\u001B[0m, in \u001B[0;36m<cell line: 1>\u001B[0;34m()\u001B[0m\n\u001B[0;32m----> 1\u001B[0m \u001B[43mChain\u001B[49m\u001B[43m(\u001B[49m\u001B[43m)\u001B[49m\u001B[38;5;241;43m.\u001B[39;49m\u001B[43musers\u001B[49m\u001B[43m(\u001B[49m\u001B[38;5;124;43m'\u001B[39;49m\u001B[38;5;124;43mmichael\u001B[39;49m\u001B[38;5;124;43m'\u001B[39;49m\u001B[43m)\u001B[49m\u001B[38;5;241m.\u001B[39mrepos\n",
      "\u001B[0;31mTypeError\u001B[0m: 'Chain' object is not callable"
     ]
    }
   ],
   "source": [
    "Chain().users('michael').repos"
   ],
   "metadata": {
    "collapsed": false,
    "pycharm": {
     "name": "#%%\n"
    }
   }
  },
  {
   "cell_type": "markdown",
   "source": [
    "It says it's not callable, we will see how to make an object callable below."
   ],
   "metadata": {
    "collapsed": false,
    "pycharm": {
     "name": "#%% md\n"
    }
   }
  },
  {
   "cell_type": "markdown",
   "source": [
    "### __getattribute__\n",
    "\n",
    "Unlike __getattr__ will be used only if nothing can be used, __getattribute__ will be used all the time, even thought there are normal instance attribute found. So be careful, when you use it. It can quickly turn your class into a mess. Check below example."
   ],
   "metadata": {
    "collapsed": false,
    "pycharm": {
     "name": "#%% md\n"
    }
   }
  },
  {
   "cell_type": "code",
   "execution_count": 28,
   "outputs": [],
   "source": [
    "class Yeah(object):\n",
    "    def __init__(self, name):\n",
    "        self.name = name\n",
    "    # Gets called when an attribute is accessed\n",
    "    def __getattribute__(self, item):\n",
    "        print ('__getattribute__ ', item)\n",
    "        # Calling the super class to avoid recursion\n",
    "        return super(Yeah, self).__getattribute__(item)\n",
    "\n",
    "    # Gets called when the item is not found via __getattribute__\n",
    "    def __getattr__(self, item):\n",
    "        print ('__getattr__ ', item)\n",
    "        return super(Yeah, self).__setattr__(item, 'orphan')"
   ],
   "metadata": {
    "collapsed": false,
    "pycharm": {
     "name": "#%%\n"
    }
   }
  },
  {
   "cell_type": "code",
   "execution_count": 29,
   "outputs": [],
   "source": [
    "y1 = Yeah('yes')"
   ],
   "metadata": {
    "collapsed": false,
    "pycharm": {
     "name": "#%%\n"
    }
   }
  },
  {
   "cell_type": "code",
   "execution_count": 30,
   "outputs": [
    {
     "name": "stdout",
     "output_type": "stream",
     "text": [
      "__getattribute__  name\n"
     ]
    },
    {
     "data": {
      "text/plain": "'yes'"
     },
     "execution_count": 30,
     "metadata": {},
     "output_type": "execute_result"
    }
   ],
   "source": [
    "y1.name"
   ],
   "metadata": {
    "collapsed": false,
    "pycharm": {
     "name": "#%%\n"
    }
   }
  },
  {
   "cell_type": "code",
   "execution_count": 31,
   "outputs": [
    {
     "name": "stdout",
     "output_type": "stream",
     "text": [
      "__getattribute__  foo\n",
      "__getattr__  foo\n"
     ]
    }
   ],
   "source": [
    "y1.foo"
   ],
   "metadata": {
    "collapsed": false,
    "pycharm": {
     "name": "#%%\n"
    }
   }
  },
  {
   "cell_type": "code",
   "execution_count": 32,
   "outputs": [
    {
     "name": "stdout",
     "output_type": "stream",
     "text": [
      "__getattribute__  foo\n"
     ]
    },
    {
     "data": {
      "text/plain": "'orphan'"
     },
     "execution_count": 32,
     "metadata": {},
     "output_type": "execute_result"
    }
   ],
   "source": [
    "y1.foo"
   ],
   "metadata": {
    "collapsed": false,
    "pycharm": {
     "name": "#%%\n"
    }
   }
  },
  {
   "cell_type": "code",
   "execution_count": 33,
   "outputs": [
    {
     "name": "stdout",
     "output_type": "stream",
     "text": [
      "__getattribute__  __dict__\n"
     ]
    },
    {
     "data": {
      "text/plain": "{'name': 'yes', 'shape': 'orphan', 'foo': 'orphan'}"
     },
     "execution_count": 33,
     "metadata": {},
     "output_type": "execute_result"
    }
   ],
   "source": [
    "y1.__dict__"
   ],
   "metadata": {
    "collapsed": false,
    "pycharm": {
     "name": "#%%\n"
    }
   }
  },
  {
   "cell_type": "markdown",
   "source": [
    "### 5.4.4 __call__\n",
    "\n",
    " The __call__ method enables Python programmers to write classes where the instances behave like functions and can be called like a function. When the instance(e.g. class_x) is called as a function; if the __call__ method is defined inside the class, class_x(arg1, arg2, ...) is a shorthand for class_x.__call__(arg1, arg2, ...).\n",
    "\n",
    "If a class implements the __call__ function, then this class is **callable**.\n"
   ],
   "metadata": {
    "collapsed": false,
    "pycharm": {
     "name": "#%% md\n"
    }
   }
  },
  {
   "cell_type": "code",
   "execution_count": 1,
   "outputs": [],
   "source": [
    "class Product:\n",
    "    def __init__(self):\n",
    "        print(\"Product class initialization\")\n",
    "\n",
    "    def __call__(self, a, b):\n",
    "        return a*b"
   ],
   "metadata": {
    "collapsed": false,
    "pycharm": {
     "name": "#%%\n"
    }
   }
  },
  {
   "cell_type": "code",
   "execution_count": 2,
   "outputs": [
    {
     "name": "stdout",
     "output_type": "stream",
     "text": [
      "Product class initialization\n"
     ]
    }
   ],
   "source": [
    "p=Product()"
   ],
   "metadata": {
    "collapsed": false,
    "pycharm": {
     "name": "#%%\n"
    }
   }
  },
  {
   "cell_type": "code",
   "execution_count": 3,
   "outputs": [
    {
     "data": {
      "text/plain": "6"
     },
     "execution_count": 3,
     "metadata": {},
     "output_type": "execute_result"
    }
   ],
   "source": [
    "# we still need to create the instance of class\n",
    "p(2,3)"
   ],
   "metadata": {
    "collapsed": false,
    "pycharm": {
     "name": "#%%\n"
    }
   }
  },
  {
   "cell_type": "markdown",
   "source": [
    "We can use function `callable` to check if an object is callable or not"
   ],
   "metadata": {
    "collapsed": false,
    "pycharm": {
     "name": "#%% md\n"
    }
   }
  },
  {
   "cell_type": "code",
   "execution_count": 5,
   "outputs": [
    {
     "name": "stdout",
     "output_type": "stream",
     "text": [
      "True\n"
     ]
    }
   ],
   "source": [
    "print(callable(p))"
   ],
   "metadata": {
    "collapsed": false,
    "pycharm": {
     "name": "#%%\n"
    }
   }
  },
  {
   "cell_type": "code",
   "execution_count": 6,
   "outputs": [
    {
     "name": "stdout",
     "output_type": "stream",
     "text": [
      "False\n"
     ]
    }
   ],
   "source": [
    "print(callable([1, 2, 3]))"
   ],
   "metadata": {
    "collapsed": false,
    "pycharm": {
     "name": "#%%\n"
    }
   }
  },
  {
   "cell_type": "markdown",
   "source": [
    "### 5.4.5 __slots__\n",
    "\n",
    "In Python every class can have instance attributes. By default Python uses a dict to store an object’s instance attributes. This is really helpful as it allows setting arbitrary new attributes at runtime.\n",
    "\n",
    "However, for small classes with known attributes it might be a bottleneck. The dict wastes a lot of RAM. Python can’t just allocate a static amount of memory at object creation to store all the attributes. Therefore it sucks a lot of RAM if you create a lot of objects (I am talking in thousands and millions). Still there is a way to circumvent this issue. It involves the usage of __slots__ to tell Python not to use a dict, and only allocate space for a fixed set of attributes. Here is an example with and without __slots__:"
   ],
   "metadata": {
    "collapsed": false,
    "pycharm": {
     "name": "#%% md\n"
    }
   }
  },
  {
   "cell_type": "code",
   "execution_count": 8,
   "outputs": [],
   "source": [
    "class MyClass1(object):\n",
    "    def __init__(self, name, identifier):\n",
    "        self.name = name\n",
    "        self.identifier = identifier\n"
   ],
   "metadata": {
    "collapsed": false,
    "pycharm": {
     "name": "#%%\n"
    }
   }
  },
  {
   "cell_type": "code",
   "execution_count": 9,
   "outputs": [],
   "source": [
    "class MyClass2(object):\n",
    "    __slots__ = ['name', 'identifier']\n",
    "    def __init__(self, name, identifier):\n",
    "        self.name = name\n",
    "        self.identifier = identifier"
   ],
   "metadata": {
    "collapsed": false,
    "pycharm": {
     "name": "#%%\n"
    }
   }
  },
  {
   "cell_type": "code",
   "execution_count": 10,
   "outputs": [],
   "source": [
    "c1=MyClass1(\"toto\",\"t1\")"
   ],
   "metadata": {
    "collapsed": false,
    "pycharm": {
     "name": "#%%\n"
    }
   }
  },
  {
   "cell_type": "code",
   "execution_count": 11,
   "outputs": [
    {
     "name": "stdout",
     "output_type": "stream",
     "text": [
      "{'name': 'toto', 'identifier': 't1'}\n"
     ]
    }
   ],
   "source": [
    "print(c1.__dict__)"
   ],
   "metadata": {
    "collapsed": false,
    "pycharm": {
     "name": "#%%\n"
    }
   }
  },
  {
   "cell_type": "code",
   "execution_count": 12,
   "outputs": [
    {
     "ename": "AttributeError",
     "evalue": "'MyClass2' object has no attribute '__dict__'",
     "output_type": "error",
     "traceback": [
      "\u001B[0;31m---------------------------------------------------------------------------\u001B[0m",
      "\u001B[0;31mAttributeError\u001B[0m                            Traceback (most recent call last)",
      "Input \u001B[0;32mIn [12]\u001B[0m, in \u001B[0;36m<cell line: 2>\u001B[0;34m()\u001B[0m\n\u001B[1;32m      1\u001B[0m c2\u001B[38;5;241m=\u001B[39mMyClass2(\u001B[38;5;124m\"\u001B[39m\u001B[38;5;124mtoto\u001B[39m\u001B[38;5;124m\"\u001B[39m,\u001B[38;5;124m\"\u001B[39m\u001B[38;5;124mt1\u001B[39m\u001B[38;5;124m\"\u001B[39m)\n\u001B[0;32m----> 2\u001B[0m \u001B[38;5;28mprint\u001B[39m(\u001B[43mc2\u001B[49m\u001B[38;5;241;43m.\u001B[39;49m\u001B[38;5;18;43m__dict__\u001B[39;49m)\n",
      "\u001B[0;31mAttributeError\u001B[0m: 'MyClass2' object has no attribute '__dict__'"
     ]
    }
   ],
   "source": [
    "c2=MyClass2(\"toto\",\"t1\")\n",
    "print(c2.__dict__)"
   ],
   "metadata": {
    "collapsed": false,
    "pycharm": {
     "name": "#%%\n"
    }
   }
  },
  {
   "cell_type": "markdown",
   "source": [
    "You can notice that the instance of MyClass2 does not have dictionary to store instance attributes. This will reduce the burden on your RAM. Some people have seen almost 40 to 50% reduction in RAM usage by using this technique.\n",
    "\n",
    " Thanks to https://github.com/ianozsvald/ipython_memory_usage, you can check how many it saves memory"
   ],
   "metadata": {
    "collapsed": false,
    "pycharm": {
     "name": "#%% md\n"
    }
   }
  },
  {
   "cell_type": "markdown",
   "source": [
    "### 5.5 dir()\n",
    "\n",
    "If you want to know what magic methods or methods a class implement, you can use dir().\n",
    "\n",
    "For instance, you can simply type dir(int) and you will get all the properties and methods of int type in Python.\n"
   ],
   "metadata": {
    "collapsed": false,
    "pycharm": {
     "name": "#%% md\n"
    }
   }
  },
  {
   "cell_type": "code",
   "execution_count": 13,
   "outputs": [
    {
     "data": {
      "text/plain": "['__abs__',\n '__add__',\n '__and__',\n '__bool__',\n '__ceil__',\n '__class__',\n '__delattr__',\n '__dir__',\n '__divmod__',\n '__doc__',\n '__eq__',\n '__float__',\n '__floor__',\n '__floordiv__',\n '__format__',\n '__ge__',\n '__getattribute__',\n '__getnewargs__',\n '__gt__',\n '__hash__',\n '__index__',\n '__init__',\n '__init_subclass__',\n '__int__',\n '__invert__',\n '__le__',\n '__lshift__',\n '__lt__',\n '__mod__',\n '__mul__',\n '__ne__',\n '__neg__',\n '__new__',\n '__or__',\n '__pos__',\n '__pow__',\n '__radd__',\n '__rand__',\n '__rdivmod__',\n '__reduce__',\n '__reduce_ex__',\n '__repr__',\n '__rfloordiv__',\n '__rlshift__',\n '__rmod__',\n '__rmul__',\n '__ror__',\n '__round__',\n '__rpow__',\n '__rrshift__',\n '__rshift__',\n '__rsub__',\n '__rtruediv__',\n '__rxor__',\n '__setattr__',\n '__sizeof__',\n '__str__',\n '__sub__',\n '__subclasshook__',\n '__truediv__',\n '__trunc__',\n '__xor__',\n 'as_integer_ratio',\n 'bit_length',\n 'conjugate',\n 'denominator',\n 'from_bytes',\n 'imag',\n 'numerator',\n 'real',\n 'to_bytes']"
     },
     "execution_count": 13,
     "metadata": {},
     "output_type": "execute_result"
    }
   ],
   "source": [
    "dir(int)"
   ],
   "metadata": {
    "collapsed": false,
    "pycharm": {
     "name": "#%%\n"
    }
   }
  },
  {
   "cell_type": "markdown",
   "source": [
    "You might also have a string variable, let’s say called: s.\n",
    "\n",
    "You can also just type dir(s) and since this variable is a string type you will get all the properties and methods of string type listed for you."
   ],
   "metadata": {
    "collapsed": false,
    "pycharm": {
     "name": "#%% md\n"
    }
   }
  },
  {
   "cell_type": "code",
   "execution_count": 14,
   "outputs": [
    {
     "data": {
      "text/plain": "['__add__',\n '__class__',\n '__contains__',\n '__delattr__',\n '__dir__',\n '__doc__',\n '__eq__',\n '__format__',\n '__ge__',\n '__getattribute__',\n '__getitem__',\n '__getnewargs__',\n '__gt__',\n '__hash__',\n '__init__',\n '__init_subclass__',\n '__iter__',\n '__le__',\n '__len__',\n '__lt__',\n '__mod__',\n '__mul__',\n '__ne__',\n '__new__',\n '__reduce__',\n '__reduce_ex__',\n '__repr__',\n '__rmod__',\n '__rmul__',\n '__setattr__',\n '__sizeof__',\n '__str__',\n '__subclasshook__',\n 'capitalize',\n 'casefold',\n 'center',\n 'count',\n 'encode',\n 'endswith',\n 'expandtabs',\n 'find',\n 'format',\n 'format_map',\n 'index',\n 'isalnum',\n 'isalpha',\n 'isascii',\n 'isdecimal',\n 'isdigit',\n 'isidentifier',\n 'islower',\n 'isnumeric',\n 'isprintable',\n 'isspace',\n 'istitle',\n 'isupper',\n 'join',\n 'ljust',\n 'lower',\n 'lstrip',\n 'maketrans',\n 'partition',\n 'replace',\n 'rfind',\n 'rindex',\n 'rjust',\n 'rpartition',\n 'rsplit',\n 'rstrip',\n 'split',\n 'splitlines',\n 'startswith',\n 'strip',\n 'swapcase',\n 'title',\n 'translate',\n 'upper',\n 'zfill']"
     },
     "execution_count": 14,
     "metadata": {},
     "output_type": "execute_result"
    }
   ],
   "source": [
    "s=\"toto\"\n",
    "\n",
    "dir(s)"
   ],
   "metadata": {
    "collapsed": false,
    "pycharm": {
     "name": "#%%\n"
    }
   }
  },
  {
   "cell_type": "code",
   "execution_count": null,
   "outputs": [],
   "source": [],
   "metadata": {
    "collapsed": false,
    "pycharm": {
     "name": "#%%\n"
    }
   }
  }
 ],
 "metadata": {
  "kernelspec": {
   "display_name": "Python 3",
   "language": "python",
   "name": "python3"
  },
  "language_info": {
   "codemirror_mode": {
    "name": "ipython",
    "version": 2
   },
   "file_extension": ".py",
   "mimetype": "text/x-python",
   "name": "python",
   "nbconvert_exporter": "python",
   "pygments_lexer": "ipython2",
   "version": "2.7.6"
  }
 },
 "nbformat": 4,
 "nbformat_minor": 0
}