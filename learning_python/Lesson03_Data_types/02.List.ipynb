{
 "cells": [
  {
   "cell_type": "markdown",
   "id": "fab8c287-420b-46d0-8777-1acf8954a687",
   "metadata": {},
   "source": [
    "# 3.2 List in python\n",
    "\n",
    "Lists are just like dynamically sized arrays, declared in other languages (vector in C++ and ArrayList in Java). Lists need not be homogeneous always which makes it the most powerful tool in Python. A single list may contain DataTypes like Integers, Strings, as well as Objects. **Lists are mutable**, and hence, they can be altered even after their creation.\n",
    "\n",
    "**List in Python are ordered and have a definite count**. The elements in a list are indexed according to a definite sequence and the indexing of a list is done with 0 being the first index. **Each element in the list has its definite place in the list, which allows duplicating of elements in the list, with each element having its own distinct place and credibility**."
   ]
  },
  {
   "cell_type": "markdown",
   "id": "526c426f-4632-48bb-a7e4-df5e31d6fcd4",
   "metadata": {},
   "source": [
    "## 3.2.1 Creating a List\n",
    "Lists in Python can be created by just placing the sequence inside the square brackets[]. Unlike Sets, a list doesn’t need a built-in function for the creation of a list. "
   ]
  },
  {
   "cell_type": "code",
   "execution_count": 2,
   "id": "807e106d-caf8-4fb4-904e-962b28121231",
   "metadata": {},
   "outputs": [
    {
     "name": "stdout",
     "output_type": "stream",
     "text": [
      "Blank List: \n",
      "[]\n",
      "\n",
      "List of numbers: \n",
      "[10, 20, 14]\n",
      "\n",
      "List Items: \n",
      "fist item: List[0]\n",
      "Third item: List[2]\n",
      "\n",
      "Multi-Dimensional List: \n",
      "[['Geeks', 'For'], ['Geeks']]\n"
     ]
    }
   ],
   "source": [
    "# Python program to demonstrate\n",
    "# Creation of List\n",
    " \n",
    "# Creating a List\n",
    "List = []\n",
    "print(\"Blank List: \")\n",
    "print(List)\n",
    " \n",
    "# Creating a List of numbers\n",
    "List = [10, 20, 14]\n",
    "print(\"\\nList of numbers: \")\n",
    "print(List)\n",
    " \n",
    "# Creating a List of strings and accessing\n",
    "# using index\n",
    "List = [\"Geeks\", \"For\", \"Geeks\"]\n",
    "print(\"\\nList Items: \")\n",
    "print(f\"fist item: List[0]\")\n",
    "print(f\"Third item: List[2]\")\n",
    " \n",
    "# Creating a Multi-Dimensional List\n",
    "# (By Nesting a list inside a List)\n",
    "List = [['Geeks', 'For'] , ['Geeks']]\n",
    "print(\"\\nMulti-Dimensional List: \")\n",
    "print(List)"
   ]
  },
  {
   "cell_type": "markdown",
   "id": "6030d040-7557-4a53-9f3f-7285ddcfd663",
   "metadata": {},
   "source": [
    "Creating a list with multiple distinct or duplicate elements\n",
    "\n",
    "A list may contain duplicate values with their distinct positions and hence, multiple distinct or duplicate values can be passed as a sequence at the time of list creation."
   ]
  },
  {
   "cell_type": "code",
   "execution_count": 3,
   "id": "4c64d305-ddf6-4476-ba51-150791597490",
   "metadata": {},
   "outputs": [
    {
     "name": "stdout",
     "output_type": "stream",
     "text": [
      "\n",
      "List with the use of Numbers: \n",
      "[1, 2, 4, 4, 3, 3, 3, 6, 5]\n",
      "\n",
      "List with the use of Mixed Values: \n",
      "[1, 2, 'Geeks', 4, 'For', 6, 'Geeks']\n"
     ]
    }
   ],
   "source": [
    "# Creating a List with\n",
    "# the use of Numbers\n",
    "# (Having duplicate values)\n",
    "List = [1, 2, 4, 4, 3, 3, 3, 6, 5]\n",
    "print(\"\\nList with the use of Numbers: \")\n",
    "print(List)\n",
    " \n",
    "# Creating a List with\n",
    "# mixed type of values\n",
    "# (Having numbers and strings)\n",
    "List = [1, 2, 'Geeks', 4, 'For', 6, 'Geeks']\n",
    "print(\"\\nList with the use of Mixed Values: \")\n",
    "print(List)"
   ]
  },
  {
   "cell_type": "code",
   "execution_count": 6,
   "id": "bf20c9ac-a2d8-48fc-a76f-3a82c627beee",
   "metadata": {},
   "outputs": [
    {
     "name": "stdout",
     "output_type": "stream",
     "text": [
      "the length of the list: 7\n"
     ]
    }
   ],
   "source": [
    "# get the length of a list\n",
    "print(f\"the length of the list: {len(List)}\")"
   ]
  },
  {
   "cell_type": "markdown",
   "id": "54dfca98-f681-4614-b32a-d9a3cfbb6fd8",
   "metadata": {},
   "source": [
    "## 3.2 Adding Elements to a List\n",
    "- append()\n",
    "- insert(item,)\n",
    "- extend(items)"
   ]
  },
  {
   "cell_type": "markdown",
   "id": "1ed40aaf-4d44-4b97-9db5-7e4ddfbada43",
   "metadata": {},
   "source": [
    "### 3.2.1 Using append\n",
    "\n",
    "Use **append() function, can only add one element at a time**. **Tuple and List** can be added to a List by using append."
   ]
  },
  {
   "cell_type": "code",
   "execution_count": 7,
   "id": "ff1b223f-415f-455c-bff9-ee0eee4a170f",
   "metadata": {},
   "outputs": [
    {
     "name": "stdout",
     "output_type": "stream",
     "text": [
      "Initial blank List: \n",
      "[]\n",
      "\n",
      "List after Addition of Three elements: \n",
      "[1, 2, 4]\n",
      "\n",
      "List after Addition of elements from 1-3: \n",
      "[1, 2, 4, 1, 2, 3]\n",
      "\n",
      "List after Addition of a Tuple: \n",
      "[1, 2, 4, 1, 2, 3, (5, 6)]\n",
      "\n",
      "List after Addition of a List: \n",
      "[1, 2, 4, 1, 2, 3, (5, 6), ['For', 'Geeks']]\n"
     ]
    }
   ],
   "source": [
    "# Creating a List\n",
    "List = []\n",
    "print(\"Initial blank List: \")\n",
    "print(List)\n",
    " \n",
    "# Addition of Elements\n",
    "# in the List\n",
    "List.append(1)\n",
    "List.append(2)\n",
    "List.append(4)\n",
    "print(\"\\nList after Addition of Three elements: \")\n",
    "print(List)\n",
    " \n",
    "# Adding elements to the List\n",
    "# using Iterator\n",
    "for i in range(1, 4):\n",
    "    List.append(i)\n",
    "print(\"\\nList after Addition of elements from 1-3: \")\n",
    "print(List)\n",
    " \n",
    "# Adding Tuples to the List\n",
    "List.append((5, 6))\n",
    "print(\"\\nList after Addition of a Tuple: \")\n",
    "print(List)\n",
    " \n",
    "# Addition of List to a List\n",
    "List2 = ['For', 'Geeks']\n",
    "List.append(List2)\n",
    "print(\"\\nList after Addition of a List: \")\n",
    "print(List)"
   ]
  },
  {
   "cell_type": "markdown",
   "id": "b551ab12-2f2f-4bf0-a39d-8a4581605826",
   "metadata": {},
   "source": [
    "### 3.2.2 Using insert() method\n",
    "**append() method add elements at the end of the List**. For insert elements at the desired position, insert() method is used. The insert() method requires two arguments(position, value). "
   ]
  },
  {
   "cell_type": "code",
   "execution_count": 8,
   "id": "c81435e1-4352-4c3d-b6fe-c29a22946471",
   "metadata": {},
   "outputs": [
    {
     "name": "stdout",
     "output_type": "stream",
     "text": [
      "Initial List: \n",
      "[1, 2, 3, 4]\n",
      "\n",
      "List after performing Insert Operation: \n",
      "['Geeks', 1, 2, 3, 12, 4]\n"
     ]
    }
   ],
   "source": [
    "# Creating a List\n",
    "List = [1,2,3,4]\n",
    "print(\"Initial List: \")\n",
    "print(List)\n",
    " \n",
    "# Addition of Element at\n",
    "# specific Position\n",
    "# (using Insert Method)\n",
    "List.insert(3, 12)\n",
    "List.insert(0, 'Geeks')\n",
    "print(\"\\nList after performing Insert Operation: \")\n",
    "print(List)"
   ]
  },
  {
   "cell_type": "markdown",
   "id": "6cf46afd-fe86-4e8d-b81f-7156791b0fc7",
   "metadata": {},
   "source": [
    "### 3.2.3 Using extend() method\n",
    "\n",
    "**Extend() is used to add multiple elements at the same time at the end of the list.**"
   ]
  },
  {
   "cell_type": "code",
   "execution_count": 9,
   "id": "5fc9b6b9-8d15-4d12-94a5-5e3baabe04f0",
   "metadata": {},
   "outputs": [
    {
     "name": "stdout",
     "output_type": "stream",
     "text": [
      "Initial List: \n",
      "[1, 2, 3, 4]\n",
      "\n",
      "List after performing Extend Operation: \n",
      "[1, 2, 3, 4, 8, 'Geeks', 'Always']\n"
     ]
    }
   ],
   "source": [
    "# Creating a List\n",
    "List = [1,2,3,4]\n",
    "print(\"Initial List: \")\n",
    "print(List)\n",
    " \n",
    "# Addition of multiple elements\n",
    "# to the List at the end\n",
    "# (using Extend Method)\n",
    "List.extend([8, 'Geeks', 'Always'])\n",
    "print(\"\\nList after performing Extend Operation: \")\n",
    "print(List)"
   ]
  },
  {
   "cell_type": "markdown",
   "id": "2adf45c8-c17b-4c9e-9056-46bbdc18ebae",
   "metadata": {},
   "source": [
    "## 3.3 Accessing elements from the List\n",
    "In order to access the list items refer to the index number. Use the index operator [] to access an item in a list. The index must be an integer. **Nested lists are accessed using nested indexing.**\n",
    "\n"
   ]
  },
  {
   "cell_type": "code",
   "execution_count": 10,
   "id": "d5d82f7e-0a07-445f-ae47-ea6986946f72",
   "metadata": {},
   "outputs": [
    {
     "name": "stdout",
     "output_type": "stream",
     "text": [
      "Accessing a element from the list\n",
      "Geeks\n",
      "Geeks\n",
      "Accessing a element from a Multi-Dimensional list\n",
      "For\n",
      "Geeks\n"
     ]
    }
   ],
   "source": [
    "List = [\"Geeks\", \"For\", \"Geeks\"]\n",
    " \n",
    "# accessing a element from the\n",
    "# list using index number\n",
    "print(\"Accessing a element from the list\")\n",
    "print(List[0])\n",
    "print(List[2])\n",
    " \n",
    "# Creating a Multi-Dimensional List\n",
    "# (By Nesting a list inside a List)\n",
    "List = [['Geeks', 'For'] , ['Geeks']]\n",
    " \n",
    "# accessing an element from the\n",
    "# Multi-Dimensional List using\n",
    "# index number\n",
    "print(\"Accessing a element from a Multi-Dimensional list\")\n",
    "print(List[0][1])\n",
    "print(List[1][0])"
   ]
  },
  {
   "cell_type": "markdown",
   "id": "c4267e16-2dcd-419e-8278-84aeabbe49c7",
   "metadata": {},
   "source": [
    "### Negative indexing\n",
    "**In Python, negative sequence indexes represent positions from the end of the array**. Instead of having to compute the offset as in List[len(List)-3], it is enough to just write List[-3]. Negative indexing means beginning from the end, -1 refers to the last item, -2 refers to the second-last item, etc.\n",
    "\n",
    "Below figure shows how to use negative index:\n",
    "![List_element_indexing](https://raw.githubusercontent.com/pengfei99/Learning_Python/main/images/List_element_indexing.jpg)"
   ]
  },
  {
   "cell_type": "code",
   "execution_count": 11,
   "id": "138ba3a4-2845-48ab-81bd-a313cd6bd537",
   "metadata": {},
   "outputs": [
    {
     "name": "stdout",
     "output_type": "stream",
     "text": [
      "Accessing element using negative indexing\n",
      "Geeks\n",
      "For\n"
     ]
    }
   ],
   "source": [
    "List = [1, 2, 'Geeks', 4, 'For', 6, 'Geeks']\n",
    " \n",
    "# accessing an element using\n",
    "# negative indexing\n",
    "print(\"Accessing element using negative indexing\")\n",
    " \n",
    "# print the last element of list\n",
    "print(List[-1])\n",
    " \n",
    "# print the third last element of list\n",
    "print(List[-3])"
   ]
  },
  {
   "cell_type": "markdown",
   "id": "119ebd57-6806-41ed-9782-b545bc5b5b0a",
   "metadata": {},
   "source": [
    "## 3.4 Removing Elements from the List\n",
    "- remove()\n",
    "\n",
    "### 3.4.1 Using remove() method \n",
    "remove(val) function removes the first occurence of the element that matches val, an Error arises if the element doesn’t exist in the list. Remove() method only removes one element at a time, to remove a range of elements, the iterator is used. The remove() method removes the specified item.\n",
    "\n",
    "Note – Remove method in List will only remove the first occurrence of the searched element. If you have duplicate, you may want to use a "
   ]
  },
  {
   "cell_type": "code",
   "execution_count": 14,
   "id": "9318d63d-2dc8-43f8-ae1d-0ded3da960c4",
   "metadata": {},
   "outputs": [
    {
     "name": "stdout",
     "output_type": "stream",
     "text": [
      "Initial List: \n",
      "[1, 2, 3, 4, 5, 'toto', 'titi', 6, 7, 8, 9, 10, 11, 12]\n",
      "\n",
      "List after Removal of two elements: \n",
      "[1, 2, 3, 4, 5, 'titi', 7, 8, 9, 10, 11, 12]\n"
     ]
    }
   ],
   "source": [
    "# Creating a List\n",
    "List = [1, 2, 3, 4, 5,\"toto\",\"titi\", 6,7, 8, 9, 10, 11, 12]\n",
    "print(\"Initial List: \")\n",
    "print(List)\n",
    " \n",
    "# Removing elements from List\n",
    "# using Remove() method\n",
    "List.remove(\"toto\")\n",
    "List.remove(6)\n",
    "print(\"\\nList after Removal of two elements: \")\n",
    "print(List)\n",
    " \n"
   ]
  },
  {
   "cell_type": "code",
   "execution_count": 18,
   "id": "99bb65bb-ecc6-4a8c-a65c-8986f77ad3e0",
   "metadata": {},
   "outputs": [
    {
     "name": "stdout",
     "output_type": "stream",
     "text": [
      "List after changing value of first element: \n",
      "['a', 5, 'titi', 7, 8, 9, 10, 11, 12]\n"
     ]
    },
    {
     "ename": "ValueError",
     "evalue": "list.remove(x): x not in list",
     "output_type": "error",
     "traceback": [
      "\u001b[0;31m---------------------------------------------------------------------------\u001b[0m",
      "\u001b[0;31mValueError\u001b[0m                                Traceback (most recent call last)",
      "\u001b[0;32m/tmp/ipykernel_1002/468700599.py\u001b[0m in \u001b[0;36m<module>\u001b[0;34m\u001b[0m\n\u001b[1;32m      5\u001b[0m \u001b[0;34m\u001b[0m\u001b[0m\n\u001b[1;32m      6\u001b[0m \u001b[0;31m# below will raise an error, because 1 is no longer in the list\u001b[0m\u001b[0;34m\u001b[0m\u001b[0;34m\u001b[0m\u001b[0m\n\u001b[0;32m----> 7\u001b[0;31m \u001b[0mList\u001b[0m\u001b[0;34m.\u001b[0m\u001b[0mremove\u001b[0m\u001b[0;34m(\u001b[0m\u001b[0;36m1\u001b[0m\u001b[0;34m)\u001b[0m\u001b[0;34m\u001b[0m\u001b[0;34m\u001b[0m\u001b[0m\n\u001b[0m",
      "\u001b[0;31mValueError\u001b[0m: list.remove(x): x not in list"
     ]
    }
   ],
   "source": [
    "#change the first element from 1 to 'a' \n",
    "List[0]='a'\n",
    "print(\"List after changing value of first element: \")\n",
    "print(List)\n",
    "\n",
    "# below will raise an error, because 1 is no longer in the list\n",
    "List.remove(1)"
   ]
  },
  {
   "cell_type": "code",
   "execution_count": 20,
   "id": "a6039a7c-ce0f-4141-b4f2-fa2ed7d96f6d",
   "metadata": {},
   "outputs": [
    {
     "name": "stdout",
     "output_type": "stream",
     "text": [
      "\n",
      "List after Removing a range of elements: \n",
      "[1, 5, 'toto', 'titi', 6, 7, 8, 9, 10, 11, 12]\n"
     ]
    }
   ],
   "source": [
    "# create a new list\n",
    "List = [1, 2, 3, 4, 5,\"toto\",\"titi\", 6,7, 8, 9, 10, 11, 12]\n",
    "# Removing elements from List using iterator method\n",
    "for i in range(2, 5):\n",
    "    List.remove(i)\n",
    "print(\"\\nList after Removing a range of elements: \")\n",
    "print(List)"
   ]
  },
  {
   "cell_type": "markdown",
   "id": "1f486136-09e9-4eb3-b4c1-fde4ee124547",
   "metadata": {},
   "source": [
    "### 3.4.2 Using pop() method\n",
    "\n",
    "Pop(position): position is the index of the element that we want to remove. It's optional, when empty, by default pop function removes only the last element of the set."
   ]
  },
  {
   "cell_type": "code",
   "execution_count": 21,
   "id": "a7741942-41d1-4f7d-b3a6-2c4e7adb02df",
   "metadata": {},
   "outputs": [
    {
     "name": "stdout",
     "output_type": "stream",
     "text": [
      "\n",
      "List after popping an element: \n",
      "[1, 2, 3, 4]\n",
      "\n",
      "List after popping a specific element: \n",
      "[1, 2, 4]\n"
     ]
    }
   ],
   "source": [
    "List = [1,2,3,4,5]\n",
    " \n",
    "# Removing element from the\n",
    "# Set using the pop() method\n",
    "List.pop()\n",
    "print(\"\\nList after popping an element: \")\n",
    "print(List)\n",
    " \n",
    "# Removing element at a\n",
    "# specific location from the\n",
    "# Set using the pop() method\n",
    "List.pop(2)\n",
    "print(\"\\nList after popping a specific element: \")\n",
    "print(List)"
   ]
  },
  {
   "cell_type": "markdown",
   "id": "a5355411-b2b3-42d3-9f75-420648ab6d87",
   "metadata": {},
   "source": [
    "## 3.5 Slicing of a List\n",
    "\n",
    "In Python List, to print a specific range of elements from the list, we use the **Slice operation**. Slice operation is performed on Lists with the use of a colon(:), it has the following general syntax: \n",
    "```text\n",
    "[start : stop : steps]\n",
    "\n",
    "# It means that slicing will start from index start will go up to index stop with inteval of steps. \n",
    "# Default value:\n",
    "- start is 0, \n",
    "- stop is last index of list\n",
    "- step is 1 \n",
    "They all can be negative\n",
    "if start, stop are negative, it means we will count the index from the end of the list\n",
    "if step is negative, it means we will show elements of the list in reverse order.\n",
    "```\n",
    "\n",
    "For example:  \n",
    "- To print elements from beginning to a range use [: Index], \n",
    "- To print elements from end-use [:-Index], \n",
    "- To print elements from specific Index till the end use [Index:], \n",
    "- To print elements within a range, use [Start Index:End Index]\n",
    "- To print the whole List with the use of slicing operation, use [:]. \n",
    "- To print elements within a range with step value 2, use [Start Index:End Index:2]\n",
    "- Further, to print the whole List in reverse order, use [::-1].\n",
    "Note – To print elements of List from rear-end, use Negative Indexes. "
   ]
  },
  {
   "cell_type": "code",
   "execution_count": 32,
   "id": "0b5e332c-fb4c-4560-9096-41b2e2511ad1",
   "metadata": {},
   "outputs": [
    {
     "name": "stdout",
     "output_type": "stream",
     "text": [
      "Initial List: \n",
      "[0, 1, 2, 3, 4, 5, 6, 7, 8, 9, 10, 11, 12]\n",
      "\n",
      "Slicing elements in a range 3-8: \n",
      "[3, 4, 5, 6, 7]\n",
      "\n",
      "Elements sliced from 5th element till the end: \n",
      "[5, 6, 7, 8, 9, 10, 11, 12]\n",
      "\n",
      "Printing all elements using slice operation: \n",
      "[0, 1, 2, 3, 4, 5, 6, 7, 8, 9, 10, 11, 12]\n"
     ]
    }
   ],
   "source": [
    "# Creating a List\n",
    "List = [0,1, 2, 3, 4, 5, 6, 7, 8, 9, 10, 11, 12]\n",
    "print(\"Initial List: \")\n",
    "print(List)\n",
    " \n",
    "# Print elements of a range\n",
    "# using Slice operation\n",
    "Sliced_List = List[3:8]\n",
    "print(\"\\nSlicing elements in a range 3-8: \")\n",
    "print(Sliced_List)\n",
    " \n",
    "# Print elements from a\n",
    "# pre-defined point to end\n",
    "Sliced_List = List[5:]\n",
    "print(\"\\nElements sliced from 5th \"\n",
    "      \"element till the end: \")\n",
    "print(Sliced_List)\n",
    " \n",
    "# Printing elements from\n",
    "# beginning till end\n",
    "Sliced_List = List[:]\n",
    "print(\"\\nPrinting all elements using slice operation: \")\n",
    "print(Sliced_List)"
   ]
  },
  {
   "cell_type": "code",
   "execution_count": 33,
   "id": "c2bd2814-df5d-4f01-8148-6678a01020f6",
   "metadata": {},
   "outputs": [
    {
     "name": "stdout",
     "output_type": "stream",
     "text": [
      "\n",
      "Printing all elements with step value 2: \n",
      "[0, 2, 4, 6, 8, 10, 12]\n"
     ]
    }
   ],
   "source": [
    "Sliced_List = List[::2]\n",
    "print(\"\\nPrinting all elements with step value 2: \")\n",
    "print(Sliced_List)"
   ]
  },
  {
   "cell_type": "code",
   "execution_count": 34,
   "id": "a1e6feed-a129-429a-93d2-e6736e60fae7",
   "metadata": {},
   "outputs": [
    {
     "name": "stdout",
     "output_type": "stream",
     "text": [
      "\n",
      "Printing all elements with step value 3: \n",
      "[0, 3, 6, 9, 12]\n"
     ]
    }
   ],
   "source": [
    "Sliced_List = List[::3]\n",
    "print(\"\\nPrinting all elements with step value 3: \")\n",
    "print(Sliced_List)"
   ]
  },
  {
   "cell_type": "markdown",
   "id": "87ffdae1-56b0-497e-b210-d31e56c5f28e",
   "metadata": {},
   "source": [
    "### Negative index List slicing"
   ]
  },
  {
   "cell_type": "code",
   "execution_count": 23,
   "id": "d7d50c02-bcca-4a88-b860-99b4d5be69d2",
   "metadata": {},
   "outputs": [
    {
     "name": "stdout",
     "output_type": "stream",
     "text": [
      "Initial List: \n",
      "['G', 'E', 'E', 'K', 'S', 'F', 'O', 'R', 'G', 'E', 'E', 'K', 'S']\n",
      "\n",
      "Elements sliced till 6th element from last: \n",
      "['G', 'E', 'E', 'K', 'S', 'F', 'O']\n",
      "\n",
      "Elements sliced from index -6 to -1\n",
      "['R', 'G', 'E', 'E', 'K']\n",
      "\n",
      "Printing List in reverse: \n",
      "['S', 'K', 'E', 'E', 'G', 'R', 'O', 'F', 'S', 'K', 'E', 'E', 'G']\n"
     ]
    }
   ],
   "source": [
    "# Creating a List\n",
    "List = ['G','E','E','K','S','F','O','R','G','E','E','K','S']\n",
    "print(\"Initial List: \")\n",
    "print(List)\n",
    " \n",
    "# Print elements from beginning to a pre-defined point using Slice\n",
    "Sliced_List = List[:-6]\n",
    "print(\"\\nElements sliced till 6th element from last: \")\n",
    "print(Sliced_List)\n",
    " \n",
    "# Print elements of a range using negative index List slicing\n",
    "# note the element at -1 (S) is not in the result\n",
    "Sliced_List = List[-6:-1]\n",
    "print(\"\\nElements sliced from index -6 to -1\")\n",
    "print(Sliced_List)\n",
    " \n",
    "# Printing elements in reverse using Slice operation\n",
    "Sliced_List = List[::-1]\n",
    "print(\"\\nPrinting List in reverse: \")\n",
    "print(Sliced_List)"
   ]
  },
  {
   "cell_type": "code",
   "execution_count": 35,
   "id": "7b6e0b83-c43e-4b04-9e90-3dc9ddc9c1e4",
   "metadata": {},
   "outputs": [
    {
     "name": "stdout",
     "output_type": "stream",
     "text": [
      "\n",
      "Printing all elements with step value -2: \n",
      "[12, 10, 8, 6, 4, 2, 0]\n"
     ]
    }
   ],
   "source": [
    "Sliced_List = List[::-2]\n",
    "print(\"\\nPrinting all elements with step value -2: \")\n",
    "print(Sliced_List)"
   ]
  },
  {
   "cell_type": "code",
   "execution_count": 36,
   "id": "7819683e-9a43-423e-b80d-4e9354a4f0b0",
   "metadata": {},
   "outputs": [
    {
     "name": "stdout",
     "output_type": "stream",
     "text": [
      "\n",
      "Printing all elements with step value -3: \n",
      "[12, 9, 6, 3, 0]\n"
     ]
    }
   ],
   "source": [
    "Sliced_List = List[::-3]\n",
    "print(\"\\nPrinting all elements with step value -3: \")\n",
    "print(Sliced_List)"
   ]
  },
  {
   "cell_type": "markdown",
   "id": "2af10087-a4fb-4935-998e-3d4791df483c",
   "metadata": {},
   "source": [
    "## 3.6 List Comprehension\n",
    "\n",
    "List comprehensions are used for creating new lists from other iterables like tuples, strings, arrays, lists, etc.\n",
    "\n",
    "A list comprehension generally consists of these parts : \n",
    "\n",
    "1. Output expression, \n",
    "2. Input sequence, \n",
    "3. A variable representing a member of the input sequence and \n",
    "4. An optional predicate part. \n",
    "\n",
    "```text\n",
    "newList = [ output_expression(element) for element in oldList if condition ]\n",
    "\n",
    "# In this example oldList is the input sequence, \n",
    "# if condition is the optional predicate\n",
    "```\n"
   ]
  },
  {
   "cell_type": "code",
   "execution_count": 24,
   "id": "7f5972b2-901d-4b19-8752-00fd78dc610c",
   "metadata": {},
   "outputs": [
    {
     "name": "stdout",
     "output_type": "stream",
     "text": [
      "[1, 9, 25, 49, 81]\n"
     ]
    }
   ],
   "source": [
    "# below list contains square of all odd numbers from range 1 to 10\n",
    "odd_square = [x ** 2 for x in range(1, 11) if x % 2 == 1]\n",
    "print (odd_square)"
   ]
  },
  {
   "cell_type": "code",
   "execution_count": 25,
   "id": "8127d122-840c-4c47-9a25-054c75779dd1",
   "metadata": {},
   "outputs": [
    {
     "name": "stdout",
     "output_type": "stream",
     "text": [
      "[1, 9, 25, 49, 81]\n"
     ]
    }
   ],
   "source": [
    "# for understanding, above generation is same as,\n",
    "odd_square = []\n",
    " \n",
    "for x in range(1, 11):\n",
    "    if x % 2 == 1:\n",
    "        odd_square.append(x**2)\n",
    " \n",
    "print (odd_square)"
   ]
  },
  {
   "cell_type": "markdown",
   "id": "99ede417-9720-45e6-b7f6-0818453daf93",
   "metadata": {},
   "source": [
    "We can have iteration inside another iteration for looping through the input sequence "
   ]
  },
  {
   "cell_type": "code",
   "execution_count": 26,
   "id": "9aa0bd31-962c-46a4-90bf-72ab471fc8d9",
   "metadata": {},
   "outputs": [
    {
     "name": "stdout",
     "output_type": "stream",
     "text": [
      "[2, 3, 5, 7, 11, 13, 17, 19, 23, 29, 31, 37, 41, 43, 47]\n"
     ]
    }
   ],
   "source": [
    "# below list contains prime and non-prime in range 1 to 50 \n",
    "noprimes = [j for i in range(2, 8) for j in range(i*2, 50, i)] \n",
    "\n",
    "primes = [x for x in range(2, 50) if x not in noprimes] \n",
    "print (primes) \n",
    "   \n"
   ]
  },
  {
   "cell_type": "code",
   "execution_count": 27,
   "id": "b5acd2c5-6f0e-4557-8021-11b546a0d56e",
   "metadata": {},
   "outputs": [
    {
     "name": "stdout",
     "output_type": "stream",
     "text": [
      "['a', 'b', 'c']\n",
      "\n",
      "Extracted digits\n",
      "['1', '1', '1', '2', '2']\n"
     ]
    }
   ],
   "source": [
    "# list for lowering the characters \n",
    "print ([x.lower() for x in [\"A\",\"B\",\"C\"]] )\n",
    "   \n",
    "# list which extracts number \n",
    "string = \"my phone number is : 11122 !!\"\n",
    "   \n",
    "print(\"\\nExtracted digits\") \n",
    "numbers = [x for x in string if x.isdigit()] \n",
    "print (numbers) \n",
    "   \n"
   ]
  },
  {
   "cell_type": "code",
   "execution_count": 29,
   "id": "7afb720e-814f-4b12-a39b-8af4653e96a8",
   "metadata": {},
   "outputs": [
    {
     "name": "stdout",
     "output_type": "stream",
     "text": [
      "\n",
      "Multiplication Table\n",
      "[[5, 1, 5], [5, 2, 10], [5, 3, 15], [5, 4, 20], [5, 5, 25], [5, 6, 30], [5, 7, 35], [5, 8, 40], [5, 9, 45], [5, 10, 50]]\n"
     ]
    }
   ],
   "source": [
    "# A list of list for multiplication table \n",
    "a = 5\n",
    "table = [[a, b, a * b] for b in range(1, 11)] \n",
    "   \n",
    "print(\"\\nMultiplication Table\") \n",
    "print(table)"
   ]
  },
  {
   "cell_type": "code",
   "execution_count": null,
   "id": "c9f8e0ba-327c-4e04-b48c-cee59355f564",
   "metadata": {},
   "outputs": [],
   "source": []
  }
 ],
 "metadata": {
  "kernelspec": {
   "display_name": "Python 3 (ipykernel)",
   "language": "python",
   "name": "python3"
  },
  "language_info": {
   "codemirror_mode": {
    "name": "ipython",
    "version": 3
   },
   "file_extension": ".py",
   "mimetype": "text/x-python",
   "name": "python",
   "nbconvert_exporter": "python",
   "pygments_lexer": "ipython3",
   "version": "3.9.7"
  }
 },
 "nbformat": 4,
 "nbformat_minor": 5
}
