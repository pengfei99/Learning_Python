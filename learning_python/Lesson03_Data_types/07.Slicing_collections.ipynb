{
 "cells": [
  {
   "cell_type": "markdown",
   "metadata": {
    "collapsed": true,
    "pycharm": {
     "name": "#%% md\n"
    }
   },
   "source": [
    "# Ordered Collection slicing\n",
    "Getting one item or a sub set of items of a collection(e.g. str, list, tuple, Array) is very common in python. We have presented how to do slicing in List.\n",
    "\n",
    "This can be generalized to all python ordered collection object (e.g. tuple, Array), which uses index to access items. To print a specific range of elements from the list, we use the **Slice operation**. Slice operation is performed on Lists with the use of a colon(:), it has the following general syntax:\n",
    "```text\n",
    "[start : stop : steps]\n",
    "\n",
    "# It means that slicing will start from index start will go up to index stop with interval of steps.\n",
    "# Default value:\n",
    "- start is 0,\n",
    "- stop is last index of list\n",
    "- step is 1\n",
    "They all can be negative\n",
    "if start, stop are negative, it means we will count the index from the end of the list\n",
    "if step is negative, it means we will show elements of the list in reverse order.\n",
    "```\n",
    "\n",
    "For example:\n",
    "- To print elements from beginning to a range use [: Index],\n",
    "- To print elements from end-use [:-Index],\n",
    "- To print elements from specific Index till the end use [Index:],\n",
    "- To print elements within a range, use [Start Index:End Index]\n",
    "- To print the whole List with the use of slicing operation, use [:].\n",
    "- To print elements within a range with step value 2, use [Start Index:End Index:2]\n",
    "- Further, to print the whole List in reverse order, use [::-1].\n",
    "Note – To print elements of List from rear-end, use Negative Indexes."
   ]
  },
  {
   "cell_type": "code",
   "execution_count": 1,
   "outputs": [
    {
     "name": "stdout",
     "output_type": "stream",
     "text": [
      "Initial List: \n",
      "[0, 1, 2, 3, 4, 5, 6, 7, 8, 9, 10, 11, 12]\n"
     ]
    }
   ],
   "source": [
    "# Creating a List\n",
    "List = [0, 1, 2, 3, 4, 5, 6, 7, 8, 9, 10, 11, 12]\n",
    "print(\"Initial List: \")\n",
    "print(List)\n"
   ],
   "metadata": {
    "collapsed": false,
    "pycharm": {
     "name": "#%%\n"
    }
   }
  },
  {
   "cell_type": "code",
   "execution_count": 2,
   "outputs": [
    {
     "name": "stdout",
     "output_type": "stream",
     "text": [
      "Slicing elements in a range 3-8: \n",
      "[3, 4, 5, 6, 7]\n"
     ]
    }
   ],
   "source": [
    "# Print elements of a range using Slice operation\n",
    "Sliced_List = List[3:8]\n",
    "print(\"Slicing elements in a range 3-8: \")\n",
    "print(Sliced_List)\n"
   ],
   "metadata": {
    "collapsed": false,
    "pycharm": {
     "name": "#%%\n"
    }
   }
  },
  {
   "cell_type": "code",
   "execution_count": 3,
   "outputs": [
    {
     "name": "stdout",
     "output_type": "stream",
     "text": [
      "Elements sliced from 5th element till the end: \n",
      "[5, 6, 7, 8, 9, 10, 11, 12]\n"
     ]
    }
   ],
   "source": [
    "# Print elements from a pre-defined point to end\n",
    "Sliced_List = List[5:]\n",
    "print(\"Elements sliced from 5th element till the end: \")\n",
    "print(Sliced_List)"
   ],
   "metadata": {
    "collapsed": false,
    "pycharm": {
     "name": "#%%\n"
    }
   }
  },
  {
   "cell_type": "code",
   "execution_count": 4,
   "outputs": [
    {
     "name": "stdout",
     "output_type": "stream",
     "text": [
      "\n",
      "Printing all elements using slice operation: \n",
      "[0, 1, 2, 3, 4, 5, 6, 7, 8, 9, 10, 11, 12]\n"
     ]
    }
   ],
   "source": [
    "# Printing elements from beginning till end\n",
    "Sliced_List = List[:]\n",
    "print(\"\\nPrinting all elements using slice operation: \")\n",
    "print(Sliced_List)"
   ],
   "metadata": {
    "collapsed": false,
    "pycharm": {
     "name": "#%%\n"
    }
   }
  },
  {
   "cell_type": "markdown",
   "source": [
    "## Custom steps\n",
    "By default, the step is 1, we can set steps to any number that we want"
   ],
   "metadata": {
    "collapsed": false,
    "pycharm": {
     "name": "#%% md\n"
    }
   }
  },
  {
   "cell_type": "code",
   "execution_count": 5,
   "outputs": [
    {
     "name": "stdout",
     "output_type": "stream",
     "text": [
      "\n",
      "Printing all elements with step value 2: \n",
      "[0, 2, 4, 6, 8, 10, 12]\n"
     ]
    }
   ],
   "source": [
    "Sliced_List = List[::2]\n",
    "print(\"Printing all elements with step value 2: \")\n",
    "print(Sliced_List)"
   ],
   "metadata": {
    "collapsed": false,
    "pycharm": {
     "name": "#%%\n"
    }
   }
  },
  {
   "cell_type": "code",
   "execution_count": 6,
   "outputs": [
    {
     "name": "stdout",
     "output_type": "stream",
     "text": [
      "Printing all elements with step value -3: \n",
      "[12, 9, 6, 3, 0]\n"
     ]
    }
   ],
   "source": [
    "# note if the steps is negative, the starting index is automatically set at the last element, and the order change too\n",
    "Sliced_List = List[::-3]\n",
    "print(\"Printing all elements with step value -3: \")\n",
    "print(Sliced_List)"
   ],
   "metadata": {
    "collapsed": false,
    "pycharm": {
     "name": "#%%\n"
    }
   }
  },
  {
   "cell_type": "markdown",
   "source": [
    "## negative slicing\n",
    "\n",
    "When you do negative slicing, you need to pay attention to index value. if the start index is behind the end index, the return list will be always empty. And the -1 is the index of the last element, -<list-size> is the first element. Unlike the negative step, the order of the element in list does not change."
   ],
   "metadata": {
    "collapsed": false,
    "pycharm": {
     "name": "#%% md\n"
    }
   }
  },
  {
   "cell_type": "code",
   "execution_count": 11,
   "outputs": [
    {
     "name": "stdout",
     "output_type": "stream",
     "text": [
      "Printing all elements from first item to before last item: \n",
      "[0, 1, 2, 3, 4, 5, 6, 7, 8, 9, 10, 11]\n"
     ]
    }
   ],
   "source": [
    "Sliced_List = List[-len(List):-1]\n",
    "print(\"Printing all elements from first item to before last item: \")\n",
    "print(Sliced_List)"
   ],
   "metadata": {
    "collapsed": false,
    "pycharm": {
     "name": "#%%\n"
    }
   }
  },
  {
   "cell_type": "code",
   "execution_count": 12,
   "outputs": [
    {
     "name": "stdout",
     "output_type": "stream",
     "text": [
      "Printing all elements : \n",
      "[0, 1, 2, 3, 4, 5, 6, 7, 8, 9, 10, 11, 12]\n"
     ]
    }
   ],
   "source": [
    "Sliced_List = List[-len(List):]\n",
    "print(\"Printing all elements : \")\n",
    "print(Sliced_List)"
   ],
   "metadata": {
    "collapsed": false,
    "pycharm": {
     "name": "#%%\n"
    }
   }
  },
  {
   "cell_type": "markdown",
   "source": [
    "# Exercise:\n",
    "利用切片操作，实现一个trim()函数，去除字符串首尾的空格，注意不要调用str的strip()方法："
   ],
   "metadata": {
    "collapsed": false,
    "pycharm": {
     "name": "#%% md\n"
    }
   }
  },
  {
   "cell_type": "code",
   "execution_count": 13,
   "outputs": [],
   "source": [
    "def trim(arg: str):\n",
    "    if not isinstance(arg, str):\n",
    "        raise TypeError(\"Bad operand type\")\n",
    "    i=0\n",
    "    for c in arg:\n",
    "        if c.isspace():\n",
    "            i+=1\n",
    "        else: break\n",
    "    return arg[i:]\n"
   ],
   "metadata": {
    "collapsed": false,
    "pycharm": {
     "name": "#%%\n"
    }
   }
  },
  {
   "cell_type": "code",
   "execution_count": 16,
   "outputs": [
    {
     "name": "stdout",
     "output_type": "stream",
     "text": [
      "     hello\n",
      "h\n",
      "e\n",
      "l\n",
      "l\n",
      "o\n"
     ]
    }
   ],
   "source": [
    "arg=\"     hello\"\n",
    "print(arg)\n",
    "res=trim(arg)\n",
    "for c in res:\n",
    "   print(c)"
   ],
   "metadata": {
    "collapsed": false,
    "pycharm": {
     "name": "#%%\n"
    }
   }
  },
  {
   "cell_type": "code",
   "execution_count": null,
   "outputs": [],
   "source": [],
   "metadata": {
    "collapsed": false,
    "pycharm": {
     "name": "#%%\n"
    }
   }
  }
 ],
 "metadata": {
  "kernelspec": {
   "display_name": "Python 3",
   "language": "python",
   "name": "python3"
  },
  "language_info": {
   "codemirror_mode": {
    "name": "ipython",
    "version": 2
   },
   "file_extension": ".py",
   "mimetype": "text/x-python",
   "name": "python",
   "nbconvert_exporter": "python",
   "pygments_lexer": "ipython2",
   "version": "2.7.6"
  }
 },
 "nbformat": 4,
 "nbformat_minor": 0
}