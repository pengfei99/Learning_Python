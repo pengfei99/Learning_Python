{
 "cells": [
  {
   "cell_type": "markdown",
   "metadata": {
    "collapsed": true,
    "pycharm": {
     "name": "#%% md\n"
    }
   },
   "source": [
    "# 4. Multiple inheritance\n",
    "\n",
    "In chapter 2, we have covered \"single inheritance\". Multiple inheritance is a feature in which a class can inherit attributes and methods from more than one parent class. The critics point out that multiple inheritance comes along with a high level of complexity and ambiguity in situations such as the diamond problem. We will address this problem later in this chapter.\n",
    "\n",
    "**The widespread prejudice that multiple inheritance is something \"dangerous\" or \"bad\" is mostly nourished by programming languages with poorly implemented multiple inheritance mechanisms and above all by improper usage of it.** Java doesn't support multiple inheritance through extends class, but can achieve multiple inheritance by implementing multiple interfaces.\n",
    "\n",
    "\n",
    "Python has a sophisticated and well-designed approach to multiple inheritance."
   ]
  },
  {
   "cell_type": "markdown",
   "source": [
    "## 4.1 Simple example\n",
    "\n",
    "Let's reuse the Animal example. This time we will have four different animals\n",
    "\n",
    "1. Dog\n",
    "2. Bat\n",
    "3. Parrot\n",
    "4. Ostrich\n",
    "\n",
    "If we class them by using mamot and bird, we will have the following inheritance tree\n",
    "![py_oop_multi_inheritance01.PNG](../../images/py_oop_multi_inheritance01.PNG)\n",
    "\n",
    "If we class them by using fly or run, we will have the following inheritance tree\n",
    "![py_oop_multi_inheritance02.PNG](../../images/py_oop_multi_inheritance02.PNG)\n",
    "\n",
    "But if we want to use both classification, we will have the following inheritance tree\n",
    "![py_oop_multi_inheritance03.PNG](../../images/py_oop_multi_inheritance03.PNG)\n",
    "\n",
    "You can see, we just create many useless class such as MRun, MFly, etc. And the number of class will increase exponentially. To avoid implementing many useless class, we need to use multi inheritance.\n"
   ],
   "metadata": {
    "collapsed": false,
    "pycharm": {
     "name": "#%% md\n"
    }
   }
  },
  {
   "cell_type": "code",
   "execution_count": 1,
   "outputs": [],
   "source": [
    "class Animal(object):\n",
    "    pass\n",
    "\n",
    "# classes for first classification:\n",
    "class Mammal(Animal):\n",
    "    def mammal(self):\n",
    "        print(\"This is mammal\")\n",
    "\n",
    "class Bird(Animal):\n",
    "    def bird(self):\n",
    "        print(\"This is bird\")\n",
    "\n",
    "# classes for second classification\n",
    "class Runnable(object):\n",
    "    def run(self):\n",
    "        print('Running...')\n",
    "\n",
    "class Flyable(object):\n",
    "    def fly(self):\n",
    "        print('Flying...')"
   ],
   "metadata": {
    "collapsed": false,
    "pycharm": {
     "name": "#%%\n"
    }
   }
  },
  {
   "cell_type": "code",
   "execution_count": 2,
   "outputs": [],
   "source": [
    "# concrete class for each animal\n",
    "class Dog(Mammal,Runnable):\n",
    "    pass\n",
    "\n",
    "class Bat(Mammal,Flyable):\n",
    "    pass\n",
    "\n",
    "class Parrot(Bird,Flyable):\n",
    "    pass\n",
    "\n",
    "class Ostrich(Bird,Runnable):\n",
    "    pass"
   ],
   "metadata": {
    "collapsed": false,
    "pycharm": {
     "name": "#%%\n"
    }
   }
  },
  {
   "cell_type": "code",
   "execution_count": 3,
   "outputs": [
    {
     "name": "stdout",
     "output_type": "stream",
     "text": [
      "This is mammal\n",
      "Running...\n"
     ]
    }
   ],
   "source": [
    "dog=Dog()\n",
    "dog.mammal()\n",
    "dog.run()"
   ],
   "metadata": {
    "collapsed": false,
    "pycharm": {
     "name": "#%%\n"
    }
   }
  },
  {
   "cell_type": "code",
   "execution_count": 4,
   "outputs": [
    {
     "name": "stdout",
     "output_type": "stream",
     "text": [
      "This is bird\n",
      "Flying...\n"
     ]
    }
   ],
   "source": [
    "parrot=Parrot()\n",
    "parrot.bird()\n",
    "parrot.fly()"
   ],
   "metadata": {
    "collapsed": false,
    "pycharm": {
     "name": "#%%\n"
    }
   }
  },
  {
   "cell_type": "markdown",
   "source": [
    "With the above example, we can see with multiple inheritance, the child class can have all the function of multiple parent functions.\n",
    "\n",
    "\n"
   ],
   "metadata": {
    "collapsed": false,
    "pycharm": {
     "name": "#%% md\n"
    }
   }
  },
  {
   "cell_type": "markdown",
   "source": [
    "## 4.2 MixIn\n",
    "\n",
    "The above multi inheritance example is also called **Mixin**.\n",
    "\n",
    "A mixin is a special kind of multiple inheritance. There are two main situations where mixins are used:\n",
    "\n",
    "- You want to provide a lot of optional features for a class.\n",
    "- You want to use one particular feature in a lot of different classes.\n",
    "\n",
    "This pattern allows you to create special function for many different classes and centralize their logic in one place. So it's easy to maintain and use by others.\n",
    "\n",
    "For example, we can easily add two new classes `CarnivorousMixIn` and `HerbivoresMixIn` for function that applies animals who eat meat or not."
   ],
   "metadata": {
    "collapsed": false,
    "pycharm": {
     "name": "#%% md\n"
    }
   }
  },
  {
   "cell_type": "code",
   "execution_count": null,
   "outputs": [],
   "source": [],
   "metadata": {
    "collapsed": false,
    "pycharm": {
     "name": "#%%\n"
    }
   }
  }
 ],
 "metadata": {
  "kernelspec": {
   "display_name": "Python 3",
   "language": "python",
   "name": "python3"
  },
  "language_info": {
   "codemirror_mode": {
    "name": "ipython",
    "version": 2
   },
   "file_extension": ".py",
   "mimetype": "text/x-python",
   "name": "python",
   "nbconvert_exporter": "python",
   "pygments_lexer": "ipython2",
   "version": "2.7.6"
  }
 },
 "nbformat": 4,
 "nbformat_minor": 0
}