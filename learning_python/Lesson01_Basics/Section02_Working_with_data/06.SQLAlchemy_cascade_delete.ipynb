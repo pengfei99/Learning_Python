{
 "cells": [
  {
   "cell_type": "markdown",
   "source": [
    "# SQLAlchemy cascade delete\n",
    "\n",
    "Since there is overlapping **cascade delete** functionality supported by SQLAlchemy -- with the ORM handling some deletes and the database itself handling others -- it can be hard to know the right way to set it up. Here are some examples to help clarify how it all works. For more information, you can visit the official [doc](https://docs.sqlalchemy.org/en/13/orm/cascades.html) of the sqlalchemy."
   ],
   "metadata": {
    "collapsed": false
   }
  },
  {
   "cell_type": "code",
   "execution_count": 1,
   "outputs": [],
   "source": [
    "from sqlalchemy import create_engine, Column, Integer, ForeignKey\n",
    "from sqlalchemy.ext.declarative import declarative_base\n",
    "from sqlalchemy.orm import relationship\n",
    "from sqlalchemy.orm.session import sessionmaker\n",
    "\n",
    "base_path=\"../../../data/cascade_delete.db\"\n",
    "db_url=f\"sqlite:///{base_path}\"\n",
    "# echo(default is false) when set to True will generate the activity log\n",
    "# Below command will create the sqlite db, if not existed\n",
    "# create_engine() will return an engine object.\n",
    "# The Engine establishes a real DBAPI connection to the database when\n",
    "# a method like Engine.execute() or Engine.connect() is called.\n",
    "engine = create_engine(db_url, echo = True)"
   ],
   "metadata": {
    "collapsed": false
   }
  },
  {
   "cell_type": "code",
   "execution_count": 2,
   "outputs": [],
   "source": [
    "Base = declarative_base()"
   ],
   "metadata": {
    "collapsed": false
   }
  },
  {
   "cell_type": "code",
   "execution_count": 3,
   "outputs": [],
   "source": [
    "def createTables(engine):\n",
    "    # create table with the metadata stored in model.Base\n",
    "    Base.metadata.create_all(engine)\n",
    "\n",
    "\n",
    "def dropAllTables(engine):\n",
    "    Base.metadata.drop_all(engine)"
   ],
   "metadata": {
    "collapsed": false
   }
  },
  {
   "cell_type": "markdown",
   "source": [
    "## 1 A simple example\n",
    "\n",
    "In this simple example, we have two tables: A table project which can contain one or more `Task`. You can check below two mapping class.\n",
    "\n",
    "The task table has a foreignkey project_id which links the two tables with a one-to-many relation.\n",
    "\n",
    "> We don't configure cascade delete for now"
   ],
   "metadata": {
    "collapsed": false
   }
  },
  {
   "cell_type": "code",
   "execution_count": 4,
   "outputs": [],
   "source": [
    "class Project(Base):\n",
    "    __tablename__ = \"project\"\n",
    "    id = Column(Integer, primary_key=True)\n",
    "    tasks = relationship(\"Task\", back_populates=\"project\")\n",
    "\n",
    "\n",
    "class Task(Base):\n",
    "    __tablename__ = \"task\"\n",
    "    id = Column(Integer, primary_key=True)\n",
    "    # the nullable=False means, all task must have a project id.\n",
    "    project_id = Column(Integer, ForeignKey(\"project.id\"),nullable=False)\n",
    "    project = relationship(\"Project\", back_populates=\"tasks\")\n"
   ],
   "metadata": {
    "collapsed": false
   }
  },
  {
   "cell_type": "code",
   "execution_count": 5,
   "outputs": [
    {
     "name": "stdout",
     "output_type": "stream",
     "text": [
      "2023-03-16 15:26:11,744 INFO sqlalchemy.engine.Engine BEGIN (implicit)\n",
      "2023-03-16 15:26:11,745 INFO sqlalchemy.engine.Engine PRAGMA main.table_info(\"project\")\n",
      "2023-03-16 15:26:11,746 INFO sqlalchemy.engine.Engine [raw sql] ()\n",
      "2023-03-16 15:26:11,747 INFO sqlalchemy.engine.Engine PRAGMA main.table_info(\"task\")\n",
      "2023-03-16 15:26:11,754 INFO sqlalchemy.engine.Engine [raw sql] ()\n",
      "2023-03-16 15:26:11,756 INFO sqlalchemy.engine.Engine \n",
      "DROP TABLE task\n",
      "2023-03-16 15:26:11,756 INFO sqlalchemy.engine.Engine [no key 0.00076s] ()\n",
      "2023-03-16 15:26:11,766 INFO sqlalchemy.engine.Engine \n",
      "DROP TABLE project\n",
      "2023-03-16 15:26:11,767 INFO sqlalchemy.engine.Engine [no key 0.00066s] ()\n",
      "2023-03-16 15:26:11,773 INFO sqlalchemy.engine.Engine COMMIT\n",
      "2023-03-16 15:26:11,774 INFO sqlalchemy.engine.Engine BEGIN (implicit)\n",
      "2023-03-16 15:26:11,779 INFO sqlalchemy.engine.Engine PRAGMA main.table_info(\"project\")\n",
      "2023-03-16 15:26:11,780 INFO sqlalchemy.engine.Engine [raw sql] ()\n",
      "2023-03-16 15:26:11,782 INFO sqlalchemy.engine.Engine PRAGMA temp.table_info(\"project\")\n",
      "2023-03-16 15:26:11,791 INFO sqlalchemy.engine.Engine [raw sql] ()\n",
      "2023-03-16 15:26:11,792 INFO sqlalchemy.engine.Engine PRAGMA main.table_info(\"task\")\n",
      "2023-03-16 15:26:11,793 INFO sqlalchemy.engine.Engine [raw sql] ()\n",
      "2023-03-16 15:26:11,793 INFO sqlalchemy.engine.Engine PRAGMA temp.table_info(\"task\")\n",
      "2023-03-16 15:26:11,794 INFO sqlalchemy.engine.Engine [raw sql] ()\n",
      "2023-03-16 15:26:11,795 INFO sqlalchemy.engine.Engine \n",
      "CREATE TABLE project (\n",
      "\tid INTEGER NOT NULL, \n",
      "\tPRIMARY KEY (id)\n",
      ")\n",
      "\n",
      "\n",
      "2023-03-16 15:26:11,795 INFO sqlalchemy.engine.Engine [no key 0.00044s] ()\n",
      "2023-03-16 15:26:11,808 INFO sqlalchemy.engine.Engine \n",
      "CREATE TABLE task (\n",
      "\tid INTEGER NOT NULL, \n",
      "\tproject_id INTEGER NOT NULL, \n",
      "\tPRIMARY KEY (id), \n",
      "\tFOREIGN KEY(project_id) REFERENCES project (id)\n",
      ")\n",
      "\n",
      "\n",
      "2023-03-16 15:26:11,809 INFO sqlalchemy.engine.Engine [no key 0.00091s] ()\n",
      "2023-03-16 15:26:11,816 INFO sqlalchemy.engine.Engine COMMIT\n"
     ]
    }
   ],
   "source": [
    "dropAllTables(engine)\n",
    "createTables(engine)"
   ],
   "metadata": {
    "collapsed": false
   }
  },
  {
   "cell_type": "markdown",
   "source": [
    "Run below code to insert some entities in the database."
   ],
   "metadata": {
    "collapsed": false
   }
  },
  {
   "cell_type": "code",
   "execution_count": 6,
   "outputs": [
    {
     "name": "stdout",
     "output_type": "stream",
     "text": [
      "2023-03-16 15:26:18,114 INFO sqlalchemy.engine.Engine BEGIN (implicit)\n",
      "2023-03-16 15:26:18,117 INFO sqlalchemy.engine.Engine INSERT INTO project (id) VALUES (?)\n",
      "2023-03-16 15:26:18,117 INFO sqlalchemy.engine.Engine [generated in 0.00083s] (0,)\n",
      "2023-03-16 15:26:18,119 INFO sqlalchemy.engine.Engine INSERT INTO task (id, project_id) VALUES (?, ?)\n",
      "2023-03-16 15:26:18,119 INFO sqlalchemy.engine.Engine [generated in 0.00061s] ((1, 0), (2, 0))\n",
      "2023-03-16 15:26:18,120 INFO sqlalchemy.engine.Engine COMMIT\n"
     ]
    }
   ],
   "source": [
    "Session = sessionmaker(bind=engine)\n",
    "session = Session()\n",
    "\n",
    "task1 = Task(id=1,project_id=0)\n",
    "task2 = Task(id=2,project_id=0)\n",
    "\n",
    "project = Project(id=0)\n",
    "\n",
    "session.add(project)\n",
    "session.add(task1)\n",
    "session.add(task2)\n",
    "session.commit()\n"
   ],
   "metadata": {
    "collapsed": false
   }
  },
  {
   "cell_type": "markdown",
   "source": [
    "Now you can check the content of your database, you should see 1 project with id =0 and two tasks which are attached to the task. Now let's try to delete the project, if you set\n",
    "nullable=True (default value), then the project is deleted. And the project_id of the tasks will be set to `null`.\n",
    "```python\n",
    "project_id = Column(Integer, ForeignKey(\"project.id\"),nullable=True)\n",
    "```\n",
    "\n",
    "If you set `nullable=False` for the project_id, when you run below command, you will receive an IntegrityError. To avoid this error and delete the project, you need to delete all the tasks of this project first. This can cost you a lot if your have many tasks.\n"
   ],
   "metadata": {
    "collapsed": false
   }
  },
  {
   "cell_type": "code",
   "execution_count": 7,
   "outputs": [
    {
     "name": "stdout",
     "output_type": "stream",
     "text": [
      "2023-03-16 15:26:28,993 INFO sqlalchemy.engine.Engine BEGIN (implicit)\n",
      "2023-03-16 15:26:28,997 INFO sqlalchemy.engine.Engine SELECT project.id AS project_id \n",
      "FROM project \n",
      "WHERE project.id = ?\n",
      "2023-03-16 15:26:28,998 INFO sqlalchemy.engine.Engine [generated in 0.00106s] (0,)\n",
      "2023-03-16 15:26:29,001 INFO sqlalchemy.engine.Engine SELECT task.id AS task_id, task.project_id AS task_project_id \n",
      "FROM task \n",
      "WHERE ? = task.project_id\n",
      "2023-03-16 15:26:29,001 INFO sqlalchemy.engine.Engine [generated in 0.00074s] (0,)\n",
      "2023-03-16 15:26:29,005 INFO sqlalchemy.engine.Engine UPDATE task SET project_id=? WHERE task.id = ?\n",
      "2023-03-16 15:26:29,006 INFO sqlalchemy.engine.Engine [generated in 0.00089s] ((None, 1), (None, 2))\n",
      "2023-03-16 15:26:29,006 INFO sqlalchemy.engine.Engine ROLLBACK\n"
     ]
    },
    {
     "ename": "IntegrityError",
     "evalue": "(sqlite3.IntegrityError) NOT NULL constraint failed: task.project_id\n[SQL: UPDATE task SET project_id=? WHERE task.id = ?]\n[parameters: ((None, 1), (None, 2))]\n(Background on this error at: https://sqlalche.me/e/14/gkpj)",
     "output_type": "error",
     "traceback": [
      "\u001B[0;31m---------------------------------------------------------------------------\u001B[0m",
      "\u001B[0;31mIntegrityError\u001B[0m                            Traceback (most recent call last)",
      "File \u001B[0;32m~/.cache/pypoetry/virtualenvs/learning-python-GOAEXFF0-py3.8/lib/python3.8/site-packages/sqlalchemy/engine/base.py:1880\u001B[0m, in \u001B[0;36mConnection._execute_context\u001B[0;34m(self, dialect, constructor, statement, parameters, execution_options, *args, **kw)\u001B[0m\n\u001B[1;32m   1879\u001B[0m     \u001B[38;5;28;01mif\u001B[39;00m \u001B[38;5;129;01mnot\u001B[39;00m evt_handled:\n\u001B[0;32m-> 1880\u001B[0m         \u001B[38;5;28;43mself\u001B[39;49m\u001B[38;5;241;43m.\u001B[39;49m\u001B[43mdialect\u001B[49m\u001B[38;5;241;43m.\u001B[39;49m\u001B[43mdo_executemany\u001B[49m\u001B[43m(\u001B[49m\n\u001B[1;32m   1881\u001B[0m \u001B[43m            \u001B[49m\u001B[43mcursor\u001B[49m\u001B[43m,\u001B[49m\u001B[43m \u001B[49m\u001B[43mstatement\u001B[49m\u001B[43m,\u001B[49m\u001B[43m \u001B[49m\u001B[43mparameters\u001B[49m\u001B[43m,\u001B[49m\u001B[43m \u001B[49m\u001B[43mcontext\u001B[49m\n\u001B[1;32m   1882\u001B[0m \u001B[43m        \u001B[49m\u001B[43m)\u001B[49m\n\u001B[1;32m   1883\u001B[0m \u001B[38;5;28;01melif\u001B[39;00m \u001B[38;5;129;01mnot\u001B[39;00m parameters \u001B[38;5;129;01mand\u001B[39;00m context\u001B[38;5;241m.\u001B[39mno_parameters:\n",
      "File \u001B[0;32m~/.cache/pypoetry/virtualenvs/learning-python-GOAEXFF0-py3.8/lib/python3.8/site-packages/sqlalchemy/engine/default.py:733\u001B[0m, in \u001B[0;36mDefaultDialect.do_executemany\u001B[0;34m(self, cursor, statement, parameters, context)\u001B[0m\n\u001B[1;32m    732\u001B[0m \u001B[38;5;28;01mdef\u001B[39;00m \u001B[38;5;21mdo_executemany\u001B[39m(\u001B[38;5;28mself\u001B[39m, cursor, statement, parameters, context\u001B[38;5;241m=\u001B[39m\u001B[38;5;28;01mNone\u001B[39;00m):\n\u001B[0;32m--> 733\u001B[0m     \u001B[43mcursor\u001B[49m\u001B[38;5;241;43m.\u001B[39;49m\u001B[43mexecutemany\u001B[49m\u001B[43m(\u001B[49m\u001B[43mstatement\u001B[49m\u001B[43m,\u001B[49m\u001B[43m \u001B[49m\u001B[43mparameters\u001B[49m\u001B[43m)\u001B[49m\n",
      "\u001B[0;31mIntegrityError\u001B[0m: NOT NULL constraint failed: task.project_id",
      "\nThe above exception was the direct cause of the following exception:\n",
      "\u001B[0;31mIntegrityError\u001B[0m                            Traceback (most recent call last)",
      "Cell \u001B[0;32mIn[7], line 2\u001B[0m\n\u001B[1;32m      1\u001B[0m session\u001B[38;5;241m.\u001B[39mdelete(project)\n\u001B[0;32m----> 2\u001B[0m \u001B[43msession\u001B[49m\u001B[38;5;241;43m.\u001B[39;49m\u001B[43mcommit\u001B[49m\u001B[43m(\u001B[49m\u001B[43m)\u001B[49m\n",
      "File \u001B[0;32m~/.cache/pypoetry/virtualenvs/learning-python-GOAEXFF0-py3.8/lib/python3.8/site-packages/sqlalchemy/orm/session.py:1451\u001B[0m, in \u001B[0;36mSession.commit\u001B[0;34m(self)\u001B[0m\n\u001B[1;32m   1448\u001B[0m     \u001B[38;5;28;01mif\u001B[39;00m \u001B[38;5;129;01mnot\u001B[39;00m \u001B[38;5;28mself\u001B[39m\u001B[38;5;241m.\u001B[39m_autobegin():\n\u001B[1;32m   1449\u001B[0m         \u001B[38;5;28;01mraise\u001B[39;00m sa_exc\u001B[38;5;241m.\u001B[39mInvalidRequestError(\u001B[38;5;124m\"\u001B[39m\u001B[38;5;124mNo transaction is begun.\u001B[39m\u001B[38;5;124m\"\u001B[39m)\n\u001B[0;32m-> 1451\u001B[0m \u001B[38;5;28;43mself\u001B[39;49m\u001B[38;5;241;43m.\u001B[39;49m\u001B[43m_transaction\u001B[49m\u001B[38;5;241;43m.\u001B[39;49m\u001B[43mcommit\u001B[49m\u001B[43m(\u001B[49m\u001B[43m_to_root\u001B[49m\u001B[38;5;241;43m=\u001B[39;49m\u001B[38;5;28;43mself\u001B[39;49m\u001B[38;5;241;43m.\u001B[39;49m\u001B[43mfuture\u001B[49m\u001B[43m)\u001B[49m\n",
      "File \u001B[0;32m~/.cache/pypoetry/virtualenvs/learning-python-GOAEXFF0-py3.8/lib/python3.8/site-packages/sqlalchemy/orm/session.py:829\u001B[0m, in \u001B[0;36mSessionTransaction.commit\u001B[0;34m(self, _to_root)\u001B[0m\n\u001B[1;32m    827\u001B[0m \u001B[38;5;28mself\u001B[39m\u001B[38;5;241m.\u001B[39m_assert_active(prepared_ok\u001B[38;5;241m=\u001B[39m\u001B[38;5;28;01mTrue\u001B[39;00m)\n\u001B[1;32m    828\u001B[0m \u001B[38;5;28;01mif\u001B[39;00m \u001B[38;5;28mself\u001B[39m\u001B[38;5;241m.\u001B[39m_state \u001B[38;5;129;01mis\u001B[39;00m \u001B[38;5;129;01mnot\u001B[39;00m PREPARED:\n\u001B[0;32m--> 829\u001B[0m     \u001B[38;5;28;43mself\u001B[39;49m\u001B[38;5;241;43m.\u001B[39;49m\u001B[43m_prepare_impl\u001B[49m\u001B[43m(\u001B[49m\u001B[43m)\u001B[49m\n\u001B[1;32m    831\u001B[0m \u001B[38;5;28;01mif\u001B[39;00m \u001B[38;5;28mself\u001B[39m\u001B[38;5;241m.\u001B[39m_parent \u001B[38;5;129;01mis\u001B[39;00m \u001B[38;5;28;01mNone\u001B[39;00m \u001B[38;5;129;01mor\u001B[39;00m \u001B[38;5;28mself\u001B[39m\u001B[38;5;241m.\u001B[39mnested:\n\u001B[1;32m    832\u001B[0m     \u001B[38;5;28;01mfor\u001B[39;00m conn, trans, should_commit, autoclose \u001B[38;5;129;01min\u001B[39;00m \u001B[38;5;28mset\u001B[39m(\n\u001B[1;32m    833\u001B[0m         \u001B[38;5;28mself\u001B[39m\u001B[38;5;241m.\u001B[39m_connections\u001B[38;5;241m.\u001B[39mvalues()\n\u001B[1;32m    834\u001B[0m     ):\n",
      "File \u001B[0;32m~/.cache/pypoetry/virtualenvs/learning-python-GOAEXFF0-py3.8/lib/python3.8/site-packages/sqlalchemy/orm/session.py:808\u001B[0m, in \u001B[0;36mSessionTransaction._prepare_impl\u001B[0;34m(self)\u001B[0m\n\u001B[1;32m    806\u001B[0m     \u001B[38;5;28;01mif\u001B[39;00m \u001B[38;5;28mself\u001B[39m\u001B[38;5;241m.\u001B[39msession\u001B[38;5;241m.\u001B[39m_is_clean():\n\u001B[1;32m    807\u001B[0m         \u001B[38;5;28;01mbreak\u001B[39;00m\n\u001B[0;32m--> 808\u001B[0m     \u001B[38;5;28;43mself\u001B[39;49m\u001B[38;5;241;43m.\u001B[39;49m\u001B[43msession\u001B[49m\u001B[38;5;241;43m.\u001B[39;49m\u001B[43mflush\u001B[49m\u001B[43m(\u001B[49m\u001B[43m)\u001B[49m\n\u001B[1;32m    809\u001B[0m \u001B[38;5;28;01melse\u001B[39;00m:\n\u001B[1;32m    810\u001B[0m     \u001B[38;5;28;01mraise\u001B[39;00m exc\u001B[38;5;241m.\u001B[39mFlushError(\n\u001B[1;32m    811\u001B[0m         \u001B[38;5;124m\"\u001B[39m\u001B[38;5;124mOver 100 subsequent flushes have occurred within \u001B[39m\u001B[38;5;124m\"\u001B[39m\n\u001B[1;32m    812\u001B[0m         \u001B[38;5;124m\"\u001B[39m\u001B[38;5;124msession.commit() - is an after_flush() hook \u001B[39m\u001B[38;5;124m\"\u001B[39m\n\u001B[1;32m    813\u001B[0m         \u001B[38;5;124m\"\u001B[39m\u001B[38;5;124mcreating new objects?\u001B[39m\u001B[38;5;124m\"\u001B[39m\n\u001B[1;32m    814\u001B[0m     )\n",
      "File \u001B[0;32m~/.cache/pypoetry/virtualenvs/learning-python-GOAEXFF0-py3.8/lib/python3.8/site-packages/sqlalchemy/orm/session.py:3444\u001B[0m, in \u001B[0;36mSession.flush\u001B[0;34m(self, objects)\u001B[0m\n\u001B[1;32m   3442\u001B[0m \u001B[38;5;28;01mtry\u001B[39;00m:\n\u001B[1;32m   3443\u001B[0m     \u001B[38;5;28mself\u001B[39m\u001B[38;5;241m.\u001B[39m_flushing \u001B[38;5;241m=\u001B[39m \u001B[38;5;28;01mTrue\u001B[39;00m\n\u001B[0;32m-> 3444\u001B[0m     \u001B[38;5;28;43mself\u001B[39;49m\u001B[38;5;241;43m.\u001B[39;49m\u001B[43m_flush\u001B[49m\u001B[43m(\u001B[49m\u001B[43mobjects\u001B[49m\u001B[43m)\u001B[49m\n\u001B[1;32m   3445\u001B[0m \u001B[38;5;28;01mfinally\u001B[39;00m:\n\u001B[1;32m   3446\u001B[0m     \u001B[38;5;28mself\u001B[39m\u001B[38;5;241m.\u001B[39m_flushing \u001B[38;5;241m=\u001B[39m \u001B[38;5;28;01mFalse\u001B[39;00m\n",
      "File \u001B[0;32m~/.cache/pypoetry/virtualenvs/learning-python-GOAEXFF0-py3.8/lib/python3.8/site-packages/sqlalchemy/orm/session.py:3584\u001B[0m, in \u001B[0;36mSession._flush\u001B[0;34m(self, objects)\u001B[0m\n\u001B[1;32m   3582\u001B[0m \u001B[38;5;28;01mexcept\u001B[39;00m:\n\u001B[1;32m   3583\u001B[0m     \u001B[38;5;28;01mwith\u001B[39;00m util\u001B[38;5;241m.\u001B[39msafe_reraise():\n\u001B[0;32m-> 3584\u001B[0m         transaction\u001B[38;5;241m.\u001B[39mrollback(_capture_exception\u001B[38;5;241m=\u001B[39m\u001B[38;5;28;01mTrue\u001B[39;00m)\n",
      "File \u001B[0;32m~/.cache/pypoetry/virtualenvs/learning-python-GOAEXFF0-py3.8/lib/python3.8/site-packages/sqlalchemy/util/langhelpers.py:70\u001B[0m, in \u001B[0;36msafe_reraise.__exit__\u001B[0;34m(self, type_, value, traceback)\u001B[0m\n\u001B[1;32m     68\u001B[0m     \u001B[38;5;28mself\u001B[39m\u001B[38;5;241m.\u001B[39m_exc_info \u001B[38;5;241m=\u001B[39m \u001B[38;5;28;01mNone\u001B[39;00m  \u001B[38;5;66;03m# remove potential circular references\u001B[39;00m\n\u001B[1;32m     69\u001B[0m     \u001B[38;5;28;01mif\u001B[39;00m \u001B[38;5;129;01mnot\u001B[39;00m \u001B[38;5;28mself\u001B[39m\u001B[38;5;241m.\u001B[39mwarn_only:\n\u001B[0;32m---> 70\u001B[0m         \u001B[43mcompat\u001B[49m\u001B[38;5;241;43m.\u001B[39;49m\u001B[43mraise_\u001B[49m\u001B[43m(\u001B[49m\n\u001B[1;32m     71\u001B[0m \u001B[43m            \u001B[49m\u001B[43mexc_value\u001B[49m\u001B[43m,\u001B[49m\n\u001B[1;32m     72\u001B[0m \u001B[43m            \u001B[49m\u001B[43mwith_traceback\u001B[49m\u001B[38;5;241;43m=\u001B[39;49m\u001B[43mexc_tb\u001B[49m\u001B[43m,\u001B[49m\n\u001B[1;32m     73\u001B[0m \u001B[43m        \u001B[49m\u001B[43m)\u001B[49m\n\u001B[1;32m     74\u001B[0m \u001B[38;5;28;01melse\u001B[39;00m:\n\u001B[1;32m     75\u001B[0m     \u001B[38;5;28;01mif\u001B[39;00m \u001B[38;5;129;01mnot\u001B[39;00m compat\u001B[38;5;241m.\u001B[39mpy3k \u001B[38;5;129;01mand\u001B[39;00m \u001B[38;5;28mself\u001B[39m\u001B[38;5;241m.\u001B[39m_exc_info \u001B[38;5;129;01mand\u001B[39;00m \u001B[38;5;28mself\u001B[39m\u001B[38;5;241m.\u001B[39m_exc_info[\u001B[38;5;241m1\u001B[39m]:\n\u001B[1;32m     76\u001B[0m         \u001B[38;5;66;03m# emulate Py3K's behavior of telling us when an exception\u001B[39;00m\n\u001B[1;32m     77\u001B[0m         \u001B[38;5;66;03m# occurs in an exception handler.\u001B[39;00m\n",
      "File \u001B[0;32m~/.cache/pypoetry/virtualenvs/learning-python-GOAEXFF0-py3.8/lib/python3.8/site-packages/sqlalchemy/util/compat.py:211\u001B[0m, in \u001B[0;36mraise_\u001B[0;34m(***failed resolving arguments***)\u001B[0m\n\u001B[1;32m    208\u001B[0m     exception\u001B[38;5;241m.\u001B[39m__cause__ \u001B[38;5;241m=\u001B[39m replace_context\n\u001B[1;32m    210\u001B[0m \u001B[38;5;28;01mtry\u001B[39;00m:\n\u001B[0;32m--> 211\u001B[0m     \u001B[38;5;28;01mraise\u001B[39;00m exception\n\u001B[1;32m    212\u001B[0m \u001B[38;5;28;01mfinally\u001B[39;00m:\n\u001B[1;32m    213\u001B[0m     \u001B[38;5;66;03m# credit to\u001B[39;00m\n\u001B[1;32m    214\u001B[0m     \u001B[38;5;66;03m# https://cosmicpercolator.com/2016/01/13/exception-leaks-in-python-2-and-3/\u001B[39;00m\n\u001B[1;32m    215\u001B[0m     \u001B[38;5;66;03m# as the __traceback__ object creates a cycle\u001B[39;00m\n\u001B[1;32m    216\u001B[0m     \u001B[38;5;28;01mdel\u001B[39;00m exception, replace_context, from_, with_traceback\n",
      "File \u001B[0;32m~/.cache/pypoetry/virtualenvs/learning-python-GOAEXFF0-py3.8/lib/python3.8/site-packages/sqlalchemy/orm/session.py:3544\u001B[0m, in \u001B[0;36mSession._flush\u001B[0;34m(self, objects)\u001B[0m\n\u001B[1;32m   3542\u001B[0m \u001B[38;5;28mself\u001B[39m\u001B[38;5;241m.\u001B[39m_warn_on_events \u001B[38;5;241m=\u001B[39m \u001B[38;5;28;01mTrue\u001B[39;00m\n\u001B[1;32m   3543\u001B[0m \u001B[38;5;28;01mtry\u001B[39;00m:\n\u001B[0;32m-> 3544\u001B[0m     \u001B[43mflush_context\u001B[49m\u001B[38;5;241;43m.\u001B[39;49m\u001B[43mexecute\u001B[49m\u001B[43m(\u001B[49m\u001B[43m)\u001B[49m\n\u001B[1;32m   3545\u001B[0m \u001B[38;5;28;01mfinally\u001B[39;00m:\n\u001B[1;32m   3546\u001B[0m     \u001B[38;5;28mself\u001B[39m\u001B[38;5;241m.\u001B[39m_warn_on_events \u001B[38;5;241m=\u001B[39m \u001B[38;5;28;01mFalse\u001B[39;00m\n",
      "File \u001B[0;32m~/.cache/pypoetry/virtualenvs/learning-python-GOAEXFF0-py3.8/lib/python3.8/site-packages/sqlalchemy/orm/unitofwork.py:456\u001B[0m, in \u001B[0;36mUOWTransaction.execute\u001B[0;34m(self)\u001B[0m\n\u001B[1;32m    454\u001B[0m \u001B[38;5;28;01melse\u001B[39;00m:\n\u001B[1;32m    455\u001B[0m     \u001B[38;5;28;01mfor\u001B[39;00m rec \u001B[38;5;129;01min\u001B[39;00m topological\u001B[38;5;241m.\u001B[39msort(\u001B[38;5;28mself\u001B[39m\u001B[38;5;241m.\u001B[39mdependencies, postsort_actions):\n\u001B[0;32m--> 456\u001B[0m         \u001B[43mrec\u001B[49m\u001B[38;5;241;43m.\u001B[39;49m\u001B[43mexecute\u001B[49m\u001B[43m(\u001B[49m\u001B[38;5;28;43mself\u001B[39;49m\u001B[43m)\u001B[49m\n",
      "File \u001B[0;32m~/.cache/pypoetry/virtualenvs/learning-python-GOAEXFF0-py3.8/lib/python3.8/site-packages/sqlalchemy/orm/unitofwork.py:630\u001B[0m, in \u001B[0;36mSaveUpdateAll.execute\u001B[0;34m(self, uow)\u001B[0m\n\u001B[1;32m    628\u001B[0m \u001B[38;5;129m@util\u001B[39m\u001B[38;5;241m.\u001B[39mpreload_module(\u001B[38;5;124m\"\u001B[39m\u001B[38;5;124msqlalchemy.orm.persistence\u001B[39m\u001B[38;5;124m\"\u001B[39m)\n\u001B[1;32m    629\u001B[0m \u001B[38;5;28;01mdef\u001B[39;00m \u001B[38;5;21mexecute\u001B[39m(\u001B[38;5;28mself\u001B[39m, uow):\n\u001B[0;32m--> 630\u001B[0m     \u001B[43mutil\u001B[49m\u001B[38;5;241;43m.\u001B[39;49m\u001B[43mpreloaded\u001B[49m\u001B[38;5;241;43m.\u001B[39;49m\u001B[43morm_persistence\u001B[49m\u001B[38;5;241;43m.\u001B[39;49m\u001B[43msave_obj\u001B[49m\u001B[43m(\u001B[49m\n\u001B[1;32m    631\u001B[0m \u001B[43m        \u001B[49m\u001B[38;5;28;43mself\u001B[39;49m\u001B[38;5;241;43m.\u001B[39;49m\u001B[43mmapper\u001B[49m\u001B[43m,\u001B[49m\n\u001B[1;32m    632\u001B[0m \u001B[43m        \u001B[49m\u001B[43muow\u001B[49m\u001B[38;5;241;43m.\u001B[39;49m\u001B[43mstates_for_mapper_hierarchy\u001B[49m\u001B[43m(\u001B[49m\u001B[38;5;28;43mself\u001B[39;49m\u001B[38;5;241;43m.\u001B[39;49m\u001B[43mmapper\u001B[49m\u001B[43m,\u001B[49m\u001B[43m \u001B[49m\u001B[38;5;28;43;01mFalse\u001B[39;49;00m\u001B[43m,\u001B[49m\u001B[43m \u001B[49m\u001B[38;5;28;43;01mFalse\u001B[39;49;00m\u001B[43m)\u001B[49m\u001B[43m,\u001B[49m\n\u001B[1;32m    633\u001B[0m \u001B[43m        \u001B[49m\u001B[43muow\u001B[49m\u001B[43m,\u001B[49m\n\u001B[1;32m    634\u001B[0m \u001B[43m    \u001B[49m\u001B[43m)\u001B[49m\n",
      "File \u001B[0;32m~/.cache/pypoetry/virtualenvs/learning-python-GOAEXFF0-py3.8/lib/python3.8/site-packages/sqlalchemy/orm/persistence.py:237\u001B[0m, in \u001B[0;36msave_obj\u001B[0;34m(base_mapper, states, uowtransaction, single)\u001B[0m\n\u001B[1;32m    231\u001B[0m     insert \u001B[38;5;241m=\u001B[39m _collect_insert_commands(table, states_to_insert)\n\u001B[1;32m    233\u001B[0m     update \u001B[38;5;241m=\u001B[39m _collect_update_commands(\n\u001B[1;32m    234\u001B[0m         uowtransaction, table, states_to_update\n\u001B[1;32m    235\u001B[0m     )\n\u001B[0;32m--> 237\u001B[0m     \u001B[43m_emit_update_statements\u001B[49m\u001B[43m(\u001B[49m\n\u001B[1;32m    238\u001B[0m \u001B[43m        \u001B[49m\u001B[43mbase_mapper\u001B[49m\u001B[43m,\u001B[49m\n\u001B[1;32m    239\u001B[0m \u001B[43m        \u001B[49m\u001B[43muowtransaction\u001B[49m\u001B[43m,\u001B[49m\n\u001B[1;32m    240\u001B[0m \u001B[43m        \u001B[49m\u001B[43mmapper\u001B[49m\u001B[43m,\u001B[49m\n\u001B[1;32m    241\u001B[0m \u001B[43m        \u001B[49m\u001B[43mtable\u001B[49m\u001B[43m,\u001B[49m\n\u001B[1;32m    242\u001B[0m \u001B[43m        \u001B[49m\u001B[43mupdate\u001B[49m\u001B[43m,\u001B[49m\n\u001B[1;32m    243\u001B[0m \u001B[43m    \u001B[49m\u001B[43m)\u001B[49m\n\u001B[1;32m    245\u001B[0m     _emit_insert_statements(\n\u001B[1;32m    246\u001B[0m         base_mapper,\n\u001B[1;32m    247\u001B[0m         uowtransaction,\n\u001B[0;32m   (...)\u001B[0m\n\u001B[1;32m    250\u001B[0m         insert,\n\u001B[1;32m    251\u001B[0m     )\n\u001B[1;32m    253\u001B[0m _finalize_insert_update_commands(\n\u001B[1;32m    254\u001B[0m     base_mapper,\n\u001B[1;32m    255\u001B[0m     uowtransaction,\n\u001B[0;32m   (...)\u001B[0m\n\u001B[1;32m    271\u001B[0m     ),\n\u001B[1;32m    272\u001B[0m )\n",
      "File \u001B[0;32m~/.cache/pypoetry/virtualenvs/learning-python-GOAEXFF0-py3.8/lib/python3.8/site-packages/sqlalchemy/orm/persistence.py:1001\u001B[0m, in \u001B[0;36m_emit_update_statements\u001B[0;34m(base_mapper, uowtransaction, mapper, table, update, bookkeeping)\u001B[0m\n\u001B[1;32m    995\u001B[0m multiparams \u001B[38;5;241m=\u001B[39m [rec[\u001B[38;5;241m2\u001B[39m] \u001B[38;5;28;01mfor\u001B[39;00m rec \u001B[38;5;129;01min\u001B[39;00m records]\n\u001B[1;32m    997\u001B[0m check_rowcount \u001B[38;5;241m=\u001B[39m assert_multirow \u001B[38;5;129;01mor\u001B[39;00m (\n\u001B[1;32m    998\u001B[0m     assert_singlerow \u001B[38;5;129;01mand\u001B[39;00m \u001B[38;5;28mlen\u001B[39m(multiparams) \u001B[38;5;241m==\u001B[39m \u001B[38;5;241m1\u001B[39m\n\u001B[1;32m    999\u001B[0m )\n\u001B[0;32m-> 1001\u001B[0m c \u001B[38;5;241m=\u001B[39m \u001B[43mconnection\u001B[49m\u001B[38;5;241;43m.\u001B[39;49m\u001B[43m_execute_20\u001B[49m\u001B[43m(\u001B[49m\n\u001B[1;32m   1002\u001B[0m \u001B[43m    \u001B[49m\u001B[43mstatement\u001B[49m\u001B[43m,\u001B[49m\u001B[43m \u001B[49m\u001B[43mmultiparams\u001B[49m\u001B[43m,\u001B[49m\u001B[43m \u001B[49m\u001B[43mexecution_options\u001B[49m\u001B[38;5;241;43m=\u001B[39;49m\u001B[43mexecution_options\u001B[49m\n\u001B[1;32m   1003\u001B[0m \u001B[43m\u001B[49m\u001B[43m)\u001B[49m\n\u001B[1;32m   1005\u001B[0m rows \u001B[38;5;241m+\u001B[39m\u001B[38;5;241m=\u001B[39m c\u001B[38;5;241m.\u001B[39mrowcount\n\u001B[1;32m   1007\u001B[0m \u001B[38;5;28;01mfor\u001B[39;00m (\n\u001B[1;32m   1008\u001B[0m     state,\n\u001B[1;32m   1009\u001B[0m     state_dict,\n\u001B[0;32m   (...)\u001B[0m\n\u001B[1;32m   1015\u001B[0m     has_all_pks,\n\u001B[1;32m   1016\u001B[0m ) \u001B[38;5;129;01min\u001B[39;00m records:\n",
      "File \u001B[0;32m~/.cache/pypoetry/virtualenvs/learning-python-GOAEXFF0-py3.8/lib/python3.8/site-packages/sqlalchemy/engine/base.py:1705\u001B[0m, in \u001B[0;36mConnection._execute_20\u001B[0;34m(self, statement, parameters, execution_options)\u001B[0m\n\u001B[1;32m   1701\u001B[0m     util\u001B[38;5;241m.\u001B[39mraise_(\n\u001B[1;32m   1702\u001B[0m         exc\u001B[38;5;241m.\u001B[39mObjectNotExecutableError(statement), replace_context\u001B[38;5;241m=\u001B[39merr\n\u001B[1;32m   1703\u001B[0m     )\n\u001B[1;32m   1704\u001B[0m \u001B[38;5;28;01melse\u001B[39;00m:\n\u001B[0;32m-> 1705\u001B[0m     \u001B[38;5;28;01mreturn\u001B[39;00m \u001B[43mmeth\u001B[49m\u001B[43m(\u001B[49m\u001B[38;5;28;43mself\u001B[39;49m\u001B[43m,\u001B[49m\u001B[43m \u001B[49m\u001B[43margs_10style\u001B[49m\u001B[43m,\u001B[49m\u001B[43m \u001B[49m\u001B[43mkwargs_10style\u001B[49m\u001B[43m,\u001B[49m\u001B[43m \u001B[49m\u001B[43mexecution_options\u001B[49m\u001B[43m)\u001B[49m\n",
      "File \u001B[0;32m~/.cache/pypoetry/virtualenvs/learning-python-GOAEXFF0-py3.8/lib/python3.8/site-packages/sqlalchemy/sql/elements.py:334\u001B[0m, in \u001B[0;36mClauseElement._execute_on_connection\u001B[0;34m(self, connection, multiparams, params, execution_options, _force)\u001B[0m\n\u001B[1;32m    330\u001B[0m \u001B[38;5;28;01mdef\u001B[39;00m \u001B[38;5;21m_execute_on_connection\u001B[39m(\n\u001B[1;32m    331\u001B[0m     \u001B[38;5;28mself\u001B[39m, connection, multiparams, params, execution_options, _force\u001B[38;5;241m=\u001B[39m\u001B[38;5;28;01mFalse\u001B[39;00m\n\u001B[1;32m    332\u001B[0m ):\n\u001B[1;32m    333\u001B[0m     \u001B[38;5;28;01mif\u001B[39;00m _force \u001B[38;5;129;01mor\u001B[39;00m \u001B[38;5;28mself\u001B[39m\u001B[38;5;241m.\u001B[39msupports_execution:\n\u001B[0;32m--> 334\u001B[0m         \u001B[38;5;28;01mreturn\u001B[39;00m \u001B[43mconnection\u001B[49m\u001B[38;5;241;43m.\u001B[39;49m\u001B[43m_execute_clauseelement\u001B[49m\u001B[43m(\u001B[49m\n\u001B[1;32m    335\u001B[0m \u001B[43m            \u001B[49m\u001B[38;5;28;43mself\u001B[39;49m\u001B[43m,\u001B[49m\u001B[43m \u001B[49m\u001B[43mmultiparams\u001B[49m\u001B[43m,\u001B[49m\u001B[43m \u001B[49m\u001B[43mparams\u001B[49m\u001B[43m,\u001B[49m\u001B[43m \u001B[49m\u001B[43mexecution_options\u001B[49m\n\u001B[1;32m    336\u001B[0m \u001B[43m        \u001B[49m\u001B[43m)\u001B[49m\n\u001B[1;32m    337\u001B[0m     \u001B[38;5;28;01melse\u001B[39;00m:\n\u001B[1;32m    338\u001B[0m         \u001B[38;5;28;01mraise\u001B[39;00m exc\u001B[38;5;241m.\u001B[39mObjectNotExecutableError(\u001B[38;5;28mself\u001B[39m)\n",
      "File \u001B[0;32m~/.cache/pypoetry/virtualenvs/learning-python-GOAEXFF0-py3.8/lib/python3.8/site-packages/sqlalchemy/engine/base.py:1572\u001B[0m, in \u001B[0;36mConnection._execute_clauseelement\u001B[0;34m(self, elem, multiparams, params, execution_options)\u001B[0m\n\u001B[1;32m   1560\u001B[0m compiled_cache \u001B[38;5;241m=\u001B[39m execution_options\u001B[38;5;241m.\u001B[39mget(\n\u001B[1;32m   1561\u001B[0m     \u001B[38;5;124m\"\u001B[39m\u001B[38;5;124mcompiled_cache\u001B[39m\u001B[38;5;124m\"\u001B[39m, \u001B[38;5;28mself\u001B[39m\u001B[38;5;241m.\u001B[39mengine\u001B[38;5;241m.\u001B[39m_compiled_cache\n\u001B[1;32m   1562\u001B[0m )\n\u001B[1;32m   1564\u001B[0m compiled_sql, extracted_params, cache_hit \u001B[38;5;241m=\u001B[39m elem\u001B[38;5;241m.\u001B[39m_compile_w_cache(\n\u001B[1;32m   1565\u001B[0m     dialect\u001B[38;5;241m=\u001B[39mdialect,\n\u001B[1;32m   1566\u001B[0m     compiled_cache\u001B[38;5;241m=\u001B[39mcompiled_cache,\n\u001B[0;32m   (...)\u001B[0m\n\u001B[1;32m   1570\u001B[0m     linting\u001B[38;5;241m=\u001B[39m\u001B[38;5;28mself\u001B[39m\u001B[38;5;241m.\u001B[39mdialect\u001B[38;5;241m.\u001B[39mcompiler_linting \u001B[38;5;241m|\u001B[39m compiler\u001B[38;5;241m.\u001B[39mWARN_LINTING,\n\u001B[1;32m   1571\u001B[0m )\n\u001B[0;32m-> 1572\u001B[0m ret \u001B[38;5;241m=\u001B[39m \u001B[38;5;28;43mself\u001B[39;49m\u001B[38;5;241;43m.\u001B[39;49m\u001B[43m_execute_context\u001B[49m\u001B[43m(\u001B[49m\n\u001B[1;32m   1573\u001B[0m \u001B[43m    \u001B[49m\u001B[43mdialect\u001B[49m\u001B[43m,\u001B[49m\n\u001B[1;32m   1574\u001B[0m \u001B[43m    \u001B[49m\u001B[43mdialect\u001B[49m\u001B[38;5;241;43m.\u001B[39;49m\u001B[43mexecution_ctx_cls\u001B[49m\u001B[38;5;241;43m.\u001B[39;49m\u001B[43m_init_compiled\u001B[49m\u001B[43m,\u001B[49m\n\u001B[1;32m   1575\u001B[0m \u001B[43m    \u001B[49m\u001B[43mcompiled_sql\u001B[49m\u001B[43m,\u001B[49m\n\u001B[1;32m   1576\u001B[0m \u001B[43m    \u001B[49m\u001B[43mdistilled_params\u001B[49m\u001B[43m,\u001B[49m\n\u001B[1;32m   1577\u001B[0m \u001B[43m    \u001B[49m\u001B[43mexecution_options\u001B[49m\u001B[43m,\u001B[49m\n\u001B[1;32m   1578\u001B[0m \u001B[43m    \u001B[49m\u001B[43mcompiled_sql\u001B[49m\u001B[43m,\u001B[49m\n\u001B[1;32m   1579\u001B[0m \u001B[43m    \u001B[49m\u001B[43mdistilled_params\u001B[49m\u001B[43m,\u001B[49m\n\u001B[1;32m   1580\u001B[0m \u001B[43m    \u001B[49m\u001B[43melem\u001B[49m\u001B[43m,\u001B[49m\n\u001B[1;32m   1581\u001B[0m \u001B[43m    \u001B[49m\u001B[43mextracted_params\u001B[49m\u001B[43m,\u001B[49m\n\u001B[1;32m   1582\u001B[0m \u001B[43m    \u001B[49m\u001B[43mcache_hit\u001B[49m\u001B[38;5;241;43m=\u001B[39;49m\u001B[43mcache_hit\u001B[49m\u001B[43m,\u001B[49m\n\u001B[1;32m   1583\u001B[0m \u001B[43m\u001B[49m\u001B[43m)\u001B[49m\n\u001B[1;32m   1584\u001B[0m \u001B[38;5;28;01mif\u001B[39;00m has_events:\n\u001B[1;32m   1585\u001B[0m     \u001B[38;5;28mself\u001B[39m\u001B[38;5;241m.\u001B[39mdispatch\u001B[38;5;241m.\u001B[39mafter_execute(\n\u001B[1;32m   1586\u001B[0m         \u001B[38;5;28mself\u001B[39m,\n\u001B[1;32m   1587\u001B[0m         elem,\n\u001B[0;32m   (...)\u001B[0m\n\u001B[1;32m   1591\u001B[0m         ret,\n\u001B[1;32m   1592\u001B[0m     )\n",
      "File \u001B[0;32m~/.cache/pypoetry/virtualenvs/learning-python-GOAEXFF0-py3.8/lib/python3.8/site-packages/sqlalchemy/engine/base.py:1943\u001B[0m, in \u001B[0;36mConnection._execute_context\u001B[0;34m(self, dialect, constructor, statement, parameters, execution_options, *args, **kw)\u001B[0m\n\u001B[1;32m   1940\u001B[0m             branched\u001B[38;5;241m.\u001B[39mclose()\n\u001B[1;32m   1942\u001B[0m \u001B[38;5;28;01mexcept\u001B[39;00m \u001B[38;5;167;01mBaseException\u001B[39;00m \u001B[38;5;28;01mas\u001B[39;00m e:\n\u001B[0;32m-> 1943\u001B[0m     \u001B[38;5;28;43mself\u001B[39;49m\u001B[38;5;241;43m.\u001B[39;49m\u001B[43m_handle_dbapi_exception\u001B[49m\u001B[43m(\u001B[49m\n\u001B[1;32m   1944\u001B[0m \u001B[43m        \u001B[49m\u001B[43me\u001B[49m\u001B[43m,\u001B[49m\u001B[43m \u001B[49m\u001B[43mstatement\u001B[49m\u001B[43m,\u001B[49m\u001B[43m \u001B[49m\u001B[43mparameters\u001B[49m\u001B[43m,\u001B[49m\u001B[43m \u001B[49m\u001B[43mcursor\u001B[49m\u001B[43m,\u001B[49m\u001B[43m \u001B[49m\u001B[43mcontext\u001B[49m\n\u001B[1;32m   1945\u001B[0m \u001B[43m    \u001B[49m\u001B[43m)\u001B[49m\n\u001B[1;32m   1947\u001B[0m \u001B[38;5;28;01mreturn\u001B[39;00m result\n",
      "File \u001B[0;32m~/.cache/pypoetry/virtualenvs/learning-python-GOAEXFF0-py3.8/lib/python3.8/site-packages/sqlalchemy/engine/base.py:2124\u001B[0m, in \u001B[0;36mConnection._handle_dbapi_exception\u001B[0;34m(self, e, statement, parameters, cursor, context)\u001B[0m\n\u001B[1;32m   2122\u001B[0m     util\u001B[38;5;241m.\u001B[39mraise_(newraise, with_traceback\u001B[38;5;241m=\u001B[39mexc_info[\u001B[38;5;241m2\u001B[39m], from_\u001B[38;5;241m=\u001B[39me)\n\u001B[1;32m   2123\u001B[0m \u001B[38;5;28;01melif\u001B[39;00m should_wrap:\n\u001B[0;32m-> 2124\u001B[0m     \u001B[43mutil\u001B[49m\u001B[38;5;241;43m.\u001B[39;49m\u001B[43mraise_\u001B[49m\u001B[43m(\u001B[49m\n\u001B[1;32m   2125\u001B[0m \u001B[43m        \u001B[49m\u001B[43msqlalchemy_exception\u001B[49m\u001B[43m,\u001B[49m\u001B[43m \u001B[49m\u001B[43mwith_traceback\u001B[49m\u001B[38;5;241;43m=\u001B[39;49m\u001B[43mexc_info\u001B[49m\u001B[43m[\u001B[49m\u001B[38;5;241;43m2\u001B[39;49m\u001B[43m]\u001B[49m\u001B[43m,\u001B[49m\u001B[43m \u001B[49m\u001B[43mfrom_\u001B[49m\u001B[38;5;241;43m=\u001B[39;49m\u001B[43me\u001B[49m\n\u001B[1;32m   2126\u001B[0m \u001B[43m    \u001B[49m\u001B[43m)\u001B[49m\n\u001B[1;32m   2127\u001B[0m \u001B[38;5;28;01melse\u001B[39;00m:\n\u001B[1;32m   2128\u001B[0m     util\u001B[38;5;241m.\u001B[39mraise_(exc_info[\u001B[38;5;241m1\u001B[39m], with_traceback\u001B[38;5;241m=\u001B[39mexc_info[\u001B[38;5;241m2\u001B[39m])\n",
      "File \u001B[0;32m~/.cache/pypoetry/virtualenvs/learning-python-GOAEXFF0-py3.8/lib/python3.8/site-packages/sqlalchemy/util/compat.py:211\u001B[0m, in \u001B[0;36mraise_\u001B[0;34m(***failed resolving arguments***)\u001B[0m\n\u001B[1;32m    208\u001B[0m     exception\u001B[38;5;241m.\u001B[39m__cause__ \u001B[38;5;241m=\u001B[39m replace_context\n\u001B[1;32m    210\u001B[0m \u001B[38;5;28;01mtry\u001B[39;00m:\n\u001B[0;32m--> 211\u001B[0m     \u001B[38;5;28;01mraise\u001B[39;00m exception\n\u001B[1;32m    212\u001B[0m \u001B[38;5;28;01mfinally\u001B[39;00m:\n\u001B[1;32m    213\u001B[0m     \u001B[38;5;66;03m# credit to\u001B[39;00m\n\u001B[1;32m    214\u001B[0m     \u001B[38;5;66;03m# https://cosmicpercolator.com/2016/01/13/exception-leaks-in-python-2-and-3/\u001B[39;00m\n\u001B[1;32m    215\u001B[0m     \u001B[38;5;66;03m# as the __traceback__ object creates a cycle\u001B[39;00m\n\u001B[1;32m    216\u001B[0m     \u001B[38;5;28;01mdel\u001B[39;00m exception, replace_context, from_, with_traceback\n",
      "File \u001B[0;32m~/.cache/pypoetry/virtualenvs/learning-python-GOAEXFF0-py3.8/lib/python3.8/site-packages/sqlalchemy/engine/base.py:1880\u001B[0m, in \u001B[0;36mConnection._execute_context\u001B[0;34m(self, dialect, constructor, statement, parameters, execution_options, *args, **kw)\u001B[0m\n\u001B[1;32m   1878\u001B[0m                 \u001B[38;5;28;01mbreak\u001B[39;00m\n\u001B[1;32m   1879\u001B[0m     \u001B[38;5;28;01mif\u001B[39;00m \u001B[38;5;129;01mnot\u001B[39;00m evt_handled:\n\u001B[0;32m-> 1880\u001B[0m         \u001B[38;5;28;43mself\u001B[39;49m\u001B[38;5;241;43m.\u001B[39;49m\u001B[43mdialect\u001B[49m\u001B[38;5;241;43m.\u001B[39;49m\u001B[43mdo_executemany\u001B[49m\u001B[43m(\u001B[49m\n\u001B[1;32m   1881\u001B[0m \u001B[43m            \u001B[49m\u001B[43mcursor\u001B[49m\u001B[43m,\u001B[49m\u001B[43m \u001B[49m\u001B[43mstatement\u001B[49m\u001B[43m,\u001B[49m\u001B[43m \u001B[49m\u001B[43mparameters\u001B[49m\u001B[43m,\u001B[49m\u001B[43m \u001B[49m\u001B[43mcontext\u001B[49m\n\u001B[1;32m   1882\u001B[0m \u001B[43m        \u001B[49m\u001B[43m)\u001B[49m\n\u001B[1;32m   1883\u001B[0m \u001B[38;5;28;01melif\u001B[39;00m \u001B[38;5;129;01mnot\u001B[39;00m parameters \u001B[38;5;129;01mand\u001B[39;00m context\u001B[38;5;241m.\u001B[39mno_parameters:\n\u001B[1;32m   1884\u001B[0m     \u001B[38;5;28;01mif\u001B[39;00m \u001B[38;5;28mself\u001B[39m\u001B[38;5;241m.\u001B[39mdialect\u001B[38;5;241m.\u001B[39m_has_events:\n",
      "File \u001B[0;32m~/.cache/pypoetry/virtualenvs/learning-python-GOAEXFF0-py3.8/lib/python3.8/site-packages/sqlalchemy/engine/default.py:733\u001B[0m, in \u001B[0;36mDefaultDialect.do_executemany\u001B[0;34m(self, cursor, statement, parameters, context)\u001B[0m\n\u001B[1;32m    732\u001B[0m \u001B[38;5;28;01mdef\u001B[39;00m \u001B[38;5;21mdo_executemany\u001B[39m(\u001B[38;5;28mself\u001B[39m, cursor, statement, parameters, context\u001B[38;5;241m=\u001B[39m\u001B[38;5;28;01mNone\u001B[39;00m):\n\u001B[0;32m--> 733\u001B[0m     \u001B[43mcursor\u001B[49m\u001B[38;5;241;43m.\u001B[39;49m\u001B[43mexecutemany\u001B[49m\u001B[43m(\u001B[49m\u001B[43mstatement\u001B[49m\u001B[43m,\u001B[49m\u001B[43m \u001B[49m\u001B[43mparameters\u001B[49m\u001B[43m)\u001B[49m\n",
      "\u001B[0;31mIntegrityError\u001B[0m: (sqlite3.IntegrityError) NOT NULL constraint failed: task.project_id\n[SQL: UPDATE task SET project_id=? WHERE task.id = ?]\n[parameters: ((None, 1), (None, 2))]\n(Background on this error at: https://sqlalche.me/e/14/gkpj)"
     ]
    }
   ],
   "source": [
    "session.delete(project)\n",
    "session.commit()"
   ],
   "metadata": {
    "collapsed": false
   }
  },
  {
   "cell_type": "markdown",
   "source": [
    "## 2. ORM cascades\n",
    "\n",
    "To avoid the above problem, we can use the orm cascade delete by using the option `cascade` in the relationship column of the project table.\n",
    "\n",
    "Below is the new version of the Project table mapping class\n",
    "\n",
    "```python\n",
    "class Project(Base):\n",
    "    __tablename__ = \"project\"\n",
    "    id = Column(Integer, primary_key=True)\n",
    "    tasks = relationship(\n",
    "        \"Task\", back_populates=\"project\", cascade=\"delete, merge, save-update\"\n",
    "    )\n",
    "```\n",
    "\n",
    "**Now restart your jupyter kernel and run below code**. This time, you should see when you delete a project, all tasks of this project will be deleted"
   ],
   "metadata": {
    "collapsed": false
   }
  },
  {
   "cell_type": "code",
   "execution_count": 1,
   "outputs": [],
   "source": [
    "from sqlalchemy import create_engine, Column, Integer, ForeignKey\n",
    "from sqlalchemy.ext.declarative import declarative_base\n",
    "from sqlalchemy.orm import relationship\n",
    "from sqlalchemy.orm.session import sessionmaker\n",
    "\n",
    "base_path=\"../../../data/cascade_delete.db\"\n",
    "db_url=f\"sqlite:///{base_path}\"\n",
    "# echo(default is false) when set to True will generate the activity log\n",
    "# Below command will create the sqlite db, if not existed\n",
    "# create_engine() will return an engine object.\n",
    "# The Engine establishes a real DBAPI connection to the database when\n",
    "# a method like Engine.execute() or Engine.connect() is called.\n",
    "engine = create_engine(db_url, echo = True)"
   ],
   "metadata": {
    "collapsed": false
   }
  },
  {
   "cell_type": "code",
   "execution_count": 2,
   "outputs": [],
   "source": [
    "Base = declarative_base()"
   ],
   "metadata": {
    "collapsed": false
   }
  },
  {
   "cell_type": "code",
   "execution_count": 3,
   "outputs": [],
   "source": [
    "def createTables(engine):\n",
    "    # create table with the metadata stored in model.Base\n",
    "    Base.metadata.create_all(engine)\n",
    "\n",
    "\n",
    "def dropAllTables(engine):\n",
    "    Base.metadata.drop_all(engine)"
   ],
   "metadata": {
    "collapsed": false
   }
  },
  {
   "cell_type": "code",
   "execution_count": 4,
   "outputs": [],
   "source": [
    "class Project(Base):\n",
    "    __tablename__ = \"project\"\n",
    "    id = Column(Integer, primary_key=True)\n",
    "    tasks = relationship(\"Task\", back_populates=\"project\",cascade=\"delete, merge, save-update\")\n",
    "\n",
    "\n",
    "class Task(Base):\n",
    "    __tablename__ = \"task\"\n",
    "    id = Column(Integer, primary_key=True)\n",
    "    # the nullable=False means, all task must have a project id.\n",
    "    project_id = Column(Integer, ForeignKey(\"project.id\"), nullable=False)\n",
    "    project = relationship(\"Project\", back_populates=\"tasks\")"
   ],
   "metadata": {
    "collapsed": false
   }
  },
  {
   "cell_type": "code",
   "execution_count": 5,
   "outputs": [
    {
     "name": "stdout",
     "output_type": "stream",
     "text": [
      "2023-03-16 16:04:05,144 INFO sqlalchemy.engine.Engine BEGIN (implicit)\n",
      "2023-03-16 16:04:05,145 INFO sqlalchemy.engine.Engine PRAGMA main.table_info(\"project\")\n",
      "2023-03-16 16:04:05,156 INFO sqlalchemy.engine.Engine [raw sql] ()\n",
      "2023-03-16 16:04:05,157 INFO sqlalchemy.engine.Engine PRAGMA main.table_info(\"task\")\n",
      "2023-03-16 16:04:05,158 INFO sqlalchemy.engine.Engine [raw sql] ()\n",
      "2023-03-16 16:04:05,166 INFO sqlalchemy.engine.Engine \n",
      "DROP TABLE task\n",
      "2023-03-16 16:04:05,168 INFO sqlalchemy.engine.Engine [no key 0.00283s] ()\n",
      "2023-03-16 16:04:05,171 INFO sqlalchemy.engine.Engine \n",
      "DROP TABLE project\n",
      "2023-03-16 16:04:05,172 INFO sqlalchemy.engine.Engine [no key 0.00111s] ()\n",
      "2023-03-16 16:04:05,181 INFO sqlalchemy.engine.Engine COMMIT\n",
      "2023-03-16 16:04:05,183 INFO sqlalchemy.engine.Engine BEGIN (implicit)\n",
      "2023-03-16 16:04:05,183 INFO sqlalchemy.engine.Engine PRAGMA main.table_info(\"project\")\n",
      "2023-03-16 16:04:05,184 INFO sqlalchemy.engine.Engine [raw sql] ()\n",
      "2023-03-16 16:04:05,185 INFO sqlalchemy.engine.Engine PRAGMA temp.table_info(\"project\")\n",
      "2023-03-16 16:04:05,186 INFO sqlalchemy.engine.Engine [raw sql] ()\n",
      "2023-03-16 16:04:05,186 INFO sqlalchemy.engine.Engine PRAGMA main.table_info(\"task\")\n",
      "2023-03-16 16:04:05,187 INFO sqlalchemy.engine.Engine [raw sql] ()\n",
      "2023-03-16 16:04:05,187 INFO sqlalchemy.engine.Engine PRAGMA temp.table_info(\"task\")\n",
      "2023-03-16 16:04:05,187 INFO sqlalchemy.engine.Engine [raw sql] ()\n",
      "2023-03-16 16:04:05,189 INFO sqlalchemy.engine.Engine \n",
      "CREATE TABLE project (\n",
      "\tid INTEGER NOT NULL, \n",
      "\tPRIMARY KEY (id)\n",
      ")\n",
      "\n",
      "\n",
      "2023-03-16 16:04:05,190 INFO sqlalchemy.engine.Engine [no key 0.00152s] ()\n",
      "2023-03-16 16:04:05,194 INFO sqlalchemy.engine.Engine \n",
      "CREATE TABLE task (\n",
      "\tid INTEGER NOT NULL, \n",
      "\tproject_id INTEGER NOT NULL, \n",
      "\tPRIMARY KEY (id), \n",
      "\tFOREIGN KEY(project_id) REFERENCES project (id)\n",
      ")\n",
      "\n",
      "\n",
      "2023-03-16 16:04:05,195 INFO sqlalchemy.engine.Engine [no key 0.00054s] ()\n",
      "2023-03-16 16:04:05,202 INFO sqlalchemy.engine.Engine COMMIT\n"
     ]
    }
   ],
   "source": [
    "dropAllTables(engine)\n",
    "createTables(engine)"
   ],
   "metadata": {
    "collapsed": false
   }
  },
  {
   "cell_type": "code",
   "execution_count": 6,
   "outputs": [
    {
     "name": "stdout",
     "output_type": "stream",
     "text": [
      "2023-03-16 16:04:08,003 INFO sqlalchemy.engine.Engine BEGIN (implicit)\n",
      "2023-03-16 16:04:08,007 INFO sqlalchemy.engine.Engine INSERT INTO project (id) VALUES (?)\n",
      "2023-03-16 16:04:08,007 INFO sqlalchemy.engine.Engine [generated in 0.00081s] (0,)\n",
      "2023-03-16 16:04:08,014 INFO sqlalchemy.engine.Engine INSERT INTO task (id, project_id) VALUES (?, ?)\n",
      "2023-03-16 16:04:08,015 INFO sqlalchemy.engine.Engine [generated in 0.00060s] ((1, 0), (2, 0))\n",
      "2023-03-16 16:04:08,017 INFO sqlalchemy.engine.Engine COMMIT\n"
     ]
    }
   ],
   "source": [
    "Session = sessionmaker(bind=engine)\n",
    "session = Session()\n",
    "\n",
    "task1 = Task(id=1,project_id=0)\n",
    "task2 = Task(id=2,project_id=0)\n",
    "\n",
    "project = Project(id=0)\n",
    "\n",
    "session.add(project)\n",
    "session.add(task1)\n",
    "session.add(task2)\n",
    "session.commit()"
   ],
   "metadata": {
    "collapsed": false
   }
  },
  {
   "cell_type": "code",
   "execution_count": 7,
   "outputs": [
    {
     "name": "stdout",
     "output_type": "stream",
     "text": [
      "2023-03-16 16:04:21,150 INFO sqlalchemy.engine.Engine BEGIN (implicit)\n",
      "2023-03-16 16:04:21,154 INFO sqlalchemy.engine.Engine SELECT project.id AS project_id \n",
      "FROM project \n",
      "WHERE project.id = ?\n",
      "2023-03-16 16:04:21,155 INFO sqlalchemy.engine.Engine [generated in 0.00092s] (0,)\n",
      "2023-03-16 16:04:21,157 INFO sqlalchemy.engine.Engine SELECT task.id AS task_id, task.project_id AS task_project_id \n",
      "FROM task \n",
      "WHERE ? = task.project_id\n",
      "2023-03-16 16:04:21,158 INFO sqlalchemy.engine.Engine [generated in 0.00058s] (0,)\n",
      "2023-03-16 16:04:21,161 INFO sqlalchemy.engine.Engine DELETE FROM task WHERE task.id = ?\n",
      "2023-03-16 16:04:21,168 INFO sqlalchemy.engine.Engine [generated in 0.00716s] ((1,), (2,))\n",
      "2023-03-16 16:04:21,170 INFO sqlalchemy.engine.Engine DELETE FROM project WHERE project.id = ?\n",
      "2023-03-16 16:04:21,170 INFO sqlalchemy.engine.Engine [generated in 0.00073s] (0,)\n",
      "2023-03-16 16:04:21,171 INFO sqlalchemy.engine.Engine COMMIT\n"
     ]
    }
   ],
   "source": [
    "session.delete(project)\n",
    "session.commit()"
   ],
   "metadata": {
    "collapsed": false
   }
  },
  {
   "cell_type": "markdown",
   "source": [
    "### 2.1 Other cascade actions\n",
    "\n",
    "You probably noticed that in the above example, the cascade parameter is set to \"delete, merge, save-update\" rather than just \"delete\". This is because the ORM has other cascade behaviors aside from \"delete\", and \"merge, save-update\" are the ones that are on by default. If you set cascade=\"delete\", you're turning off other cascade default behavior of the ORM.\n",
    "\n",
    "Using \"save-update\" as an example, you may know that with SQLAlchemy you don't normally have to explicitly call session.add() on every single object to add it to the database. If you had to do that, it would look like this:\n",
    "\n",
    "```python\n",
    "task1 = Task()\n",
    "session.add(task1)\n",
    "task2 = Task()\n",
    "session.add(task2)\n",
    "project = Project(tasks=[task1, task2])\n",
    "session.add(project)\n",
    "session.commit()\n",
    "```\n",
    "\n",
    "Since there is a relationship from a project to its tasks, we can do the simpler:\n",
    "\n",
    "```python\n",
    "project = Project(tasks=[Task(), Task()])\n",
    "session.add(project)\n",
    "session.commit()\n",
    "```\n",
    "\n",
    "The official doc propose to use **cascade=\"all, delete-orphan\"** in general, when you want to do cascade deletes. You can modify replace the cascade option with `all, delete-orphan` in the above code. You will notice the behavior is the same.\n"
   ],
   "metadata": {
    "collapsed": false
   }
  },
  {
   "cell_type": "markdown",
   "source": [
    "## 3. Database level cascades\n",
    "\n",
    "The database also provides cascade delete on its level.\n",
    "For example, for `postgres` we can add **ondelete=\"CASCADE\"** to the `Task.prject_id` foreign key.\n",
    "```postgresql\n",
    "CREATE TABLE task\n",
    "(\n",
    "  id INT PRIMARY KEY,\n",
    "  project_id INT NOT NULL REFERENCES project(id) ON DELETE CASCADE\n",
    ");\n",
    "```\n",
    "After the creating the table, you can check the status of the table with below command\n",
    "\n",
    "```bash\n",
    "cascade> \\d task\n",
    "+------------+---------+----------------------------------------------------+\n",
    "| Column     | Type    | Modifiers                                          |\n",
    "|------------+---------+----------------------------------------------------|\n",
    "| id         | integer |  not null default nextval('task_id_seq'::regclass) |\n",
    "| project_id | integer |  not null                                          |\n",
    "+------------+---------+----------------------------------------------------+\n",
    "Indexes:\n",
    "    \"task_pkey\" PRIMARY KEY, btree (id)\n",
    "Foreign-key constraints:\n",
    "    \"task_project_id_fkey\" FOREIGN KEY (project_id) REFERENCES project(id) ON DELETE CASCADE\n",
    "\n",
    "Time: 0.020s\n",
    "```\n",
    "\n",
    "\n",
    "For `sqlite`, you can use below command to create the table\n",
    "\n",
    "```sqlite\n",
    "CREATE TABLE task\n",
    "(\n",
    "  id INTEGER PRIMARY KEY AUTOINCREMENT,\n",
    "  project_id INTEGER NOT NULL,\n",
    "  CONSTRAINT fk_projects\n",
    "    FOREIGN KEY (project_id)\n",
    "    REFERENCES project (id)\n",
    "    ON DELETE CASCADE\n",
    ");\n",
    "```\n",
    "\n"
   ],
   "metadata": {
    "collapsed": false
   }
  },
  {
   "cell_type": "markdown",
   "source": [
    "### 3.1 SqlAlchemy orm config\n",
    "\n",
    "If we only add ondelete=\"CASCADE\" on the database level, however, we get another 'NotNullViolation' when running the code:\n",
    "\n",
    "```text\n",
    "sqlalchemy.exc.IntegrityError: (psycopg2.errors.NotNullViolation) null value\n",
    "in column \"project_id\" violates not-null constraint\n",
    "```\n",
    "\n",
    "If we turn ORM-level cascades back on, declare victory and move on. The ondelete=\"CASCADE\" might remain, but it is never used since the ORM will have done the deletions before the database gets a chance.\n",
    "\n",
    "**The integrity error happens because the ORM still sets the project_id of each task to None**. To make the ondelete=\"CASCADE\" works, we need to additionally set `passive_deletes=True` on the `Project.tasks` relationship, which disables the ORM from loading each related task and setting project_id to None.\n",
    "\n",
    "```python\n",
    "class Project(Base):\n",
    "    __tablename__ = \"project\"\n",
    "    id = Column(Integer, primary_key=True)\n",
    "    tasks = relationship(\"Task\", back_populates=\"project\", passive_deletes=True)\n",
    "\n",
    "\n",
    "class Task(Base):\n",
    "    __tablename__ = \"task\"\n",
    "    id = Column(Integer, primary_key=True)\n",
    "    project_id = Column(\n",
    "        Integer, ForeignKey(\"project.id\", ondelete=\"CASCADE\"), nullable=False\n",
    "    )\n",
    "    project = relationship(\"Project\", back_populates=\"tasks\")\n",
    "\n",
    "```"
   ],
   "metadata": {
    "collapsed": false
   }
  },
  {
   "cell_type": "markdown",
   "source": [
    "## ORM level VS Database level\n",
    "\n",
    "Pros of Database level cascade delete:\n",
    "1. Performance: The SQLAlchemy documentation says: **Database level ON DELETE cascade is vastly more efficient than that of SQLAlchemy**.\n",
    "2. Cover all: If you use sql query directly in sqlalchemy, the cascade delete will still happen. (Not for the ORM level)\n",
    "\n",
    "When to Use ORM level?\n",
    "1. Maybe you have an existing schema that you're not free to change for some reason, but you still want automatic cascade deletes in your code.\n",
    "2. One of the models you'd like to cascade uses joined table inheritance and you want to avoid a \"half deleted\" object.\n",
    "3. Some databases don't support (or don't support by default) FOREIGN KEY, and therefore ON DELETE CASCADE.\n",
    "4. Maybe delete was added for completeness along with the other cascade behaviors that only make sense in the context of an ORM.\n",
    "\n",
    "\n"
   ],
   "metadata": {
    "collapsed": false
   }
  },
  {
   "cell_type": "code",
   "execution_count": null,
   "outputs": [],
   "source": [],
   "metadata": {
    "collapsed": false
   }
  }
 ],
 "metadata": {
  "kernelspec": {
   "display_name": "Python 3",
   "language": "python",
   "name": "python3"
  },
  "language_info": {
   "codemirror_mode": {
    "name": "ipython",
    "version": 2
   },
   "file_extension": ".py",
   "mimetype": "text/x-python",
   "name": "python",
   "nbconvert_exporter": "python",
   "pygments_lexer": "ipython2",
   "version": "2.7.6"
  }
 },
 "nbformat": 4,
 "nbformat_minor": 0
}
