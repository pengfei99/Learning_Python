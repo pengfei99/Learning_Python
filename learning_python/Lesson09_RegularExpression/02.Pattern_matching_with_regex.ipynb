{
 "cells": [
  {
   "cell_type": "markdown",
   "source": [
    "# Pattern matching with regex\n",
    "\n",
    "In previous tutorial, we already showed how to find text with regex. What if now we want to not only find the text, but also use a specific pattern to extract the subgroup of the text.\n",
    "\n",
    "## A simple example\n",
    "\n",
    "Suppose we have a phone number which compose three parts:\n",
    "1. three digit: country code\n",
    "2. three digit: region code\n",
    "3. four digit: user id\n",
    "For example a valid phone number looks like : 415-555-4242\n",
    "\n",
    "Task 1 : check if a text contains a phone number.\n",
    "Task 2: if there is a phone number, extract the country code, region code, and user id\n",
    "\n",
    "### Task 1\n",
    "\n",
    "With below code, we can easily check if the text contains a phone number or not, if it contains, it returns a **re.Match** object, otherwise it returns None"
   ],
   "metadata": {
    "collapsed": false
   }
  },
  {
   "cell_type": "code",
   "execution_count": 2,
   "outputs": [],
   "source": [
    "import re"
   ],
   "metadata": {
    "collapsed": false
   }
  },
  {
   "cell_type": "code",
   "execution_count": 3,
   "outputs": [],
   "source": [
    "# \\d means any digit,\n",
    "# We use r\"\" to specify that do not interpreter the string inside, otherwise \"\\\" will be interpreted as a special symbol to escape\n",
    "# we can also use \"[0-9][0-9][0-9]-[0-9][0-9][0-9]-[0-9][0-9][0-9][0-9]\"\n",
    "phoneRegex=re.compile(r\"\\d\\d\\d-\\d\\d\\d-\\d\\d\\d\\d\")"
   ],
   "metadata": {
    "collapsed": false
   }
  },
  {
   "cell_type": "code",
   "execution_count": 2,
   "outputs": [],
   "source": [
    "text1=\"My number is : none of your business\"\n",
    "\n",
    "text2=\"My number is : 415-555-8888\"\n",
    "\n",
    "text3=\"My number is : 415-55-8888\""
   ],
   "metadata": {
    "collapsed": false
   }
  },
  {
   "cell_type": "code",
   "execution_count": 4,
   "outputs": [
    {
     "name": "stdout",
     "output_type": "stream",
     "text": [
      "None\n"
     ]
    }
   ],
   "source": [
    "result1=phoneRegex.search(text1)\n",
    "\n",
    "print(result1)\n",
    "if result1:\n",
    "    print(result1.group())"
   ],
   "metadata": {
    "collapsed": false
   }
  },
  {
   "cell_type": "code",
   "execution_count": 5,
   "outputs": [
    {
     "name": "stdout",
     "output_type": "stream",
     "text": [
      "<re.Match object; span=(15, 27), match='415-555-8888'>\n",
      "type: <class 'str'>, value : 415-555-8888\n"
     ]
    }
   ],
   "source": [
    "result2=phoneRegex.search(text2)\n",
    "\n",
    "print(result2)\n",
    "if result2:\n",
    "    targetText=result2.group()\n",
    "    print(f\"type: {type(targetText)}, value : {targetText}\")"
   ],
   "metadata": {
    "collapsed": false
   }
  },
  {
   "cell_type": "code",
   "execution_count": 6,
   "outputs": [
    {
     "name": "stdout",
     "output_type": "stream",
     "text": [
      "None\n"
     ]
    }
   ],
   "source": [
    "result3=phoneRegex.search(text3)\n",
    "\n",
    "print(result3)\n",
    "if result3:\n",
    "    print(result3.group())"
   ],
   "metadata": {
    "collapsed": false
   }
  },
  {
   "cell_type": "markdown",
   "source": [
    "### Task 2\n",
    "\n",
    "Now we want to extract the country code, etc.\n",
    "\n",
    "The **re.Match** object provides two interesting method for extracting subgroups\n",
    "- group():  return the actual matched text from the searched string,\n",
    "- groups()\n",
    "- groupDict():\n"
   ],
   "metadata": {
    "collapsed": false
   }
  },
  {
   "cell_type": "code",
   "execution_count": 7,
   "outputs": [
    {
     "ename": "IndexError",
     "evalue": "no such group",
     "output_type": "error",
     "traceback": [
      "\u001B[0;31m---------------------------------------------------------------------------\u001B[0m",
      "\u001B[0;31mIndexError\u001B[0m                                Traceback (most recent call last)",
      "Cell \u001B[0;32mIn[7], line 2\u001B[0m\n\u001B[1;32m      1\u001B[0m result\u001B[38;5;241m=\u001B[39mphoneRegex\u001B[38;5;241m.\u001B[39msearch(text2)\n\u001B[0;32m----> 2\u001B[0m countryCode\u001B[38;5;241m=\u001B[39m\u001B[43mresult\u001B[49m\u001B[38;5;241;43m.\u001B[39;49m\u001B[43mgroup\u001B[49m\u001B[43m(\u001B[49m\u001B[38;5;241;43m1\u001B[39;49m\u001B[43m)\u001B[49m\n\u001B[1;32m      3\u001B[0m regionCode\u001B[38;5;241m=\u001B[39mresult\u001B[38;5;241m.\u001B[39mgroup(\u001B[38;5;241m2\u001B[39m)\n\u001B[1;32m      4\u001B[0m userId\u001B[38;5;241m=\u001B[39mresult\u001B[38;5;241m.\u001B[39mgroup(\u001B[38;5;241m3\u001B[39m)\n",
      "\u001B[0;31mIndexError\u001B[0m: no such group"
     ]
    }
   ],
   "source": [
    "result=phoneRegex.search(text2)\n",
    "countryCode=result.group(1)\n",
    "regionCode=result.group(2)\n",
    "userId=result.group(3)\n",
    "\n",
    "print(f\"country code: {countryCode}\")\n",
    "print(f\"region code: {regionCode}\")\n",
    "print(f\"user Id : {userId}\")"
   ],
   "metadata": {
    "collapsed": false
   }
  },
  {
   "cell_type": "code",
   "execution_count": 8,
   "outputs": [
    {
     "name": "stdout",
     "output_type": "stream",
     "text": [
      "type: <class 'tuple'>, value: ()\n"
     ]
    }
   ],
   "source": [
    "resultTuple=result.groups()\n",
    "print(f\"type: {type(resultTuple)}, value: {resultTuple}\")"
   ],
   "metadata": {
    "collapsed": false
   }
  },
  {
   "cell_type": "code",
   "execution_count": 9,
   "outputs": [
    {
     "name": "stdout",
     "output_type": "stream",
     "text": [
      "{}\n"
     ]
    }
   ],
   "source": [
    "resultDict=result.groupdict()\n",
    "print(resultDict)"
   ],
   "metadata": {
    "collapsed": false
   }
  },
  {
   "cell_type": "markdown",
   "source": [
    "#### Grouped regex\n",
    "\n",
    "What happened? Why it does not work?\n",
    "\n",
    "Let's check our regex \"\\d\\d\\d-\\d\\d\\d-\\d\\d\\d\\d\", it's a single regex without group, so the returned **re.match** does not contain any subgroups\n",
    "\n",
    "Let' try another version of the regex \"(\\d\\d\\d)-(\\d\\d\\d)-(\\d\\d\\d\\d)\", this time, we use () to define three subgroups."
   ],
   "metadata": {
    "collapsed": false
   }
  },
  {
   "cell_type": "code",
   "execution_count": 10,
   "outputs": [
    {
     "name": "stdout",
     "output_type": "stream",
     "text": [
      "country code: 415\n",
      "region code: 555\n",
      "user Id : 8888\n"
     ]
    }
   ],
   "source": [
    "phoneGroupedRegex=re.compile(r\"(\\d\\d\\d)-(\\d\\d\\d)-(\\d\\d\\d\\d)\")\n",
    "\n",
    "groupedResu=phoneGroupedRegex.search(text2)\n",
    "countryCode=groupedResu.group(1)\n",
    "regionCode=groupedResu.group(2)\n",
    "userId=groupedResu.group(3)\n",
    "\n",
    "print(f\"country code: {countryCode}\")\n",
    "print(f\"region code: {regionCode}\")\n",
    "print(f\"user Id : {userId}\")"
   ],
   "metadata": {
    "collapsed": false
   }
  },
  {
   "cell_type": "code",
   "execution_count": 11,
   "outputs": [
    {
     "name": "stdout",
     "output_type": "stream",
     "text": [
      "type: <class 'tuple'>, value: ('415', '555', '8888')\n"
     ]
    }
   ],
   "source": [
    "resultTuple=groupedResu.groups()\n",
    "print(f\"type: {type(resultTuple)}, value: {resultTuple}\")"
   ],
   "metadata": {
    "collapsed": false
   }
  },
  {
   "cell_type": "code",
   "execution_count": 18,
   "outputs": [
    {
     "name": "stdout",
     "output_type": "stream",
     "text": [
      "type: <class 'dict'>, value: {}\n"
     ]
    }
   ],
   "source": [
    "resultDict=groupedResu.groupdict()\n",
    "print(f\"type: {type(resultDict)}, value: {resultDict}\")"
   ],
   "metadata": {
    "collapsed": false
   }
  },
  {
   "cell_type": "markdown",
   "source": [
    "The **groupdict** method still returns an empty dictionary"
   ],
   "metadata": {
    "collapsed": false
   }
  },
  {
   "cell_type": "markdown",
   "source": [
    "#### Named group\n",
    "\n",
    "We can notice, we can only access the subgroup by using their position. Can we name the subgroup?\n",
    "\n",
    "Yes we can. Check below regex\n",
    "\n",
    "> To maximize readability, we use **?P<name>**, where name is the tag of the subgroup. For example, we tagged the country code subgroup with `country`(?P<country>\\d\\d\\d)"
   ],
   "metadata": {
    "collapsed": false
   }
  },
  {
   "cell_type": "code",
   "execution_count": 12,
   "outputs": [
    {
     "name": "stdout",
     "output_type": "stream",
     "text": [
      "country code: 415\n",
      "region code: 555\n",
      "user Id : 8888\n"
     ]
    }
   ],
   "source": [
    "phoneNamedGroupedRegex=re.compile(r\"(?P<country>\\d\\d\\d)-(?P<region>\\d\\d\\d)-(?P<user>\\d\\d\\d\\d)\")\n",
    "\n",
    "namedResu=phoneNamedGroupedRegex.search(text2)\n",
    "countryCode=namedResu.group(\"country\")\n",
    "regionCode=namedResu.group(\"region\")\n",
    "userId=namedResu.group(\"user\")\n",
    "\n",
    "print(f\"country code: {countryCode}\")\n",
    "print(f\"region code: {regionCode}\")\n",
    "print(f\"user Id : {userId}\")"
   ],
   "metadata": {
    "collapsed": false
   }
  },
  {
   "cell_type": "code",
   "execution_count": 13,
   "outputs": [
    {
     "name": "stdout",
     "output_type": "stream",
     "text": [
      "type: <class 'tuple'>, value: ('415', '555', '8888')\n"
     ]
    }
   ],
   "source": [
    "resultTuple=namedResu.groups()\n",
    "print(f\"type: {type(resultTuple)}, value: {resultTuple}\")"
   ],
   "metadata": {
    "collapsed": false
   }
  },
  {
   "cell_type": "markdown",
   "source": [
    "With named groups, we can use the syntax **\\g<name>** to refer to the tagged group in substitution text:\n"
   ],
   "metadata": {
    "collapsed": false
   }
  },
  {
   "cell_type": "code",
   "execution_count": 15,
   "outputs": [
    {
     "name": "stdout",
     "output_type": "stream",
     "text": [
      "My number is : 415 555 8888\n"
     ]
    }
   ],
   "source": [
    "outputPattern= \"\\g<country> \\g<region> \\g<user>\"\n",
    "output=phoneNamedGroupedRegex.sub(outputPattern,text2)\n",
    "\n",
    "print(output)"
   ],
   "metadata": {
    "collapsed": false
   }
  },
  {
   "cell_type": "code",
   "execution_count": 16,
   "outputs": [
    {
     "name": "stdout",
     "output_type": "stream",
     "text": [
      "My number is : country code: 415, region code: 555, user id: 8888\n"
     ]
    }
   ],
   "source": [
    "outputPattern= \"country code: \\g<country>, region code: \\g<region>, user id: \\g<user>\"\n",
    "output=phoneNamedGroupedRegex.sub(outputPattern,text2)\n",
    "\n",
    "print(output)"
   ],
   "metadata": {
    "collapsed": false
   }
  },
  {
   "cell_type": "code",
   "execution_count": 17,
   "outputs": [
    {
     "name": "stdout",
     "output_type": "stream",
     "text": [
      "type: <class 'dict'>, value: {'country': '415', 'region': '555', 'user': '8888'}\n"
     ]
    }
   ],
   "source": [
    "resultDict=namedResu.groupdict()\n",
    "print(f\"type: {type(resultDict)}, value: {resultDict}\")"
   ],
   "metadata": {
    "collapsed": false
   }
  },
  {
   "cell_type": "markdown",
   "source": [
    "## Another example\n",
    "\n",
    "Now we want to match a file name with different subgroups. A file name example CRTO_CT_Bio_G2_2016\n",
    "file name patterns:\n",
    "- domain=CRTO_CT\n",
    "- table_name = Bio\n",
    "- carto_version = 2\n",
    "- year = 2016"
   ],
   "metadata": {
    "collapsed": false
   }
  },
  {
   "cell_type": "code",
   "execution_count": 6,
   "outputs": [],
   "source": [
    "fileRegex = re.compile(r\"(?P<domain>CRTO_CT)_(?P<table>\\w+)_G(?P<version>[0-9])_(?P<year>2[0-1][0-5][0-9])\")\n",
    "text=\"CRTO_CT_Bio_G2_2016\""
   ],
   "metadata": {
    "collapsed": false
   }
  },
  {
   "cell_type": "code",
   "execution_count": 7,
   "outputs": [],
   "source": [
    "resu= fileRegex.search(text)"
   ],
   "metadata": {
    "collapsed": false
   }
  },
  {
   "cell_type": "code",
   "execution_count": 8,
   "outputs": [
    {
     "name": "stdout",
     "output_type": "stream",
     "text": [
      "{'domain': 'CRTO_CT', 'table': 'Bio', 'version': '2', 'year': '2016'}\n"
     ]
    }
   ],
   "source": [
    "print(resu.groupdict())"
   ],
   "metadata": {
    "collapsed": false
   }
  },
  {
   "cell_type": "code",
   "execution_count": null,
   "outputs": [],
   "source": [],
   "metadata": {
    "collapsed": false
   }
  }
 ],
 "metadata": {
  "kernelspec": {
   "display_name": "Python 3",
   "language": "python",
   "name": "python3"
  },
  "language_info": {
   "codemirror_mode": {
    "name": "ipython",
    "version": 2
   },
   "file_extension": ".py",
   "mimetype": "text/x-python",
   "name": "python",
   "nbconvert_exporter": "python",
   "pygments_lexer": "ipython2",
   "version": "2.7.6"
  }
 },
 "nbformat": 4,
 "nbformat_minor": 0
}
