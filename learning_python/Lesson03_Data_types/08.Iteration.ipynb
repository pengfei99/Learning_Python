{
 "cells": [
  {
   "cell_type": "markdown",
   "metadata": {
    "collapsed": true,
    "pycharm": {
     "name": "#%% md\n"
    }
   },
   "source": [
    "# 8 Iteration of collection\n",
    "\n",
    "When we want to access items of a collection object, we often use a for loop. This is called iteration. The most common iteration is by using the index of the item.\n",
    "But this only works for the ordered collection that has index.\n",
    "\n",
    "**For python, the for loop works for all object that extends Iterable.**\n",
    "\n",
    "To test if an object is iterable or not. We can use below code"
   ]
  },
  {
   "cell_type": "code",
   "execution_count": 1,
   "outputs": [],
   "source": [
    "from collections.abc import Iterable\n",
    "import array as arr\n",
    "\n",
    "# list\n",
    "arg1 = [1, 2, 3]\n",
    "\n",
    "# string\n",
    "arg2 = \"123\"\n",
    "\n",
    "# int\n",
    "arg3 = 123\n",
    "\n",
    "# tuple\n",
    "arg4 = (1, 2, 3)\n",
    "\n",
    "# dict\n",
    "arg5 = {\"k1\": 1,\n",
    "        \"k2\": 2,\n",
    "        \"k3\": 3\n",
    "        }\n",
    "\n",
    "# set\n",
    "arg6 = {1, 2, 3}\n",
    "\n",
    "# array\n",
    "arg7 = arr.array('i', [1, 2, 3])"
   ],
   "metadata": {
    "collapsed": false,
    "pycharm": {
     "name": "#%%\n"
    }
   }
  },
  {
   "cell_type": "code",
   "execution_count": 3,
   "outputs": [
    {
     "name": "stdout",
     "output_type": "stream",
     "text": [
      "Is <class 'list'> iterable True\n"
     ]
    }
   ],
   "source": [
    "print(f\"Is {type(arg1)} iterable: {isinstance(arg1, Iterable)}\")"
   ],
   "metadata": {
    "collapsed": false,
    "pycharm": {
     "name": "#%%\n"
    }
   }
  },
  {
   "cell_type": "code",
   "execution_count": 4,
   "outputs": [
    {
     "name": "stdout",
     "output_type": "stream",
     "text": [
      "Is <class 'str'> iterable True\n"
     ]
    }
   ],
   "source": [
    "print(f\"Is {type(arg2)} iterable {isinstance(arg2, Iterable)}\")"
   ],
   "metadata": {
    "collapsed": false,
    "pycharm": {
     "name": "#%%\n"
    }
   }
  },
  {
   "cell_type": "code",
   "execution_count": 5,
   "outputs": [
    {
     "name": "stdout",
     "output_type": "stream",
     "text": [
      "Is <class 'int'> iterable False\n"
     ]
    }
   ],
   "source": [
    "print(f\"Is {type(arg3)} iterable {isinstance(arg3, Iterable)}\")"
   ],
   "metadata": {
    "collapsed": false,
    "pycharm": {
     "name": "#%%\n"
    }
   }
  },
  {
   "cell_type": "code",
   "execution_count": 6,
   "outputs": [
    {
     "name": "stdout",
     "output_type": "stream",
     "text": [
      "Is <class 'tuple'> iterable True\n"
     ]
    }
   ],
   "source": [
    "print(f\"Is {type(arg4)} iterable {isinstance(arg4, Iterable)}\")"
   ],
   "metadata": {
    "collapsed": false,
    "pycharm": {
     "name": "#%%\n"
    }
   }
  },
  {
   "cell_type": "code",
   "execution_count": 7,
   "outputs": [
    {
     "name": "stdout",
     "output_type": "stream",
     "text": [
      "Is <class 'dict'> iterable True\n"
     ]
    }
   ],
   "source": [
    "print(f\"Is {type(arg5)} iterable {isinstance(arg5, Iterable)}\")"
   ],
   "metadata": {
    "collapsed": false,
    "pycharm": {
     "name": "#%%\n"
    }
   }
  },
  {
   "cell_type": "code",
   "execution_count": 8,
   "outputs": [
    {
     "name": "stdout",
     "output_type": "stream",
     "text": [
      "Is <class 'set'> iterable True\n"
     ]
    }
   ],
   "source": [
    "print(f\"Is {type(arg6)} iterable {isinstance(arg6, Iterable)}\")"
   ],
   "metadata": {
    "collapsed": false,
    "pycharm": {
     "name": "#%%\n"
    }
   }
  },
  {
   "cell_type": "code",
   "execution_count": 9,
   "outputs": [
    {
     "name": "stdout",
     "output_type": "stream",
     "text": [
      "Is <class 'array.array'> iterable True\n"
     ]
    }
   ],
   "source": [
    "print(f\"Is {type(arg7)} iterable {isinstance(arg7, Iterable)}\")"
   ],
   "metadata": {
    "collapsed": false,
    "pycharm": {
     "name": "#%%\n"
    }
   }
  },
  {
   "cell_type": "markdown",
   "source": [
    "## Dict iteration\n",
    "\n",
    "Dictionary is a bit different from others, because it has key and value, so you can iterate by using key or value. By default, we use key to iterate a Dict"
   ],
   "metadata": {
    "collapsed": false,
    "pycharm": {
     "name": "#%% md\n"
    }
   }
  },
  {
   "cell_type": "code",
   "execution_count": 10,
   "outputs": [
    {
     "name": "stdout",
     "output_type": "stream",
     "text": [
      "a\n",
      "b\n",
      "c\n"
     ]
    }
   ],
   "source": [
    "d = {'a': 1, 'b': 2, 'c': 3}\n",
    "for key in d:\n",
    "    print(key)"
   ],
   "metadata": {
    "collapsed": false,
    "pycharm": {
     "name": "#%%\n"
    }
   }
  },
  {
   "cell_type": "markdown",
   "source": [
    "To get the value of key, we need to use below example"
   ],
   "metadata": {
    "collapsed": false,
    "pycharm": {
     "name": "#%% md\n"
    }
   }
  },
  {
   "cell_type": "code",
   "execution_count": 11,
   "outputs": [
    {
     "name": "stdout",
     "output_type": "stream",
     "text": [
      "key is a, value is 1\n",
      "key is b, value is 2\n",
      "key is c, value is 3\n"
     ]
    }
   ],
   "source": [
    "for key in d:\n",
    "    print(f\"key is {key}, value is {d.get(key)}\")"
   ],
   "metadata": {
    "collapsed": false,
    "pycharm": {
     "name": "#%%\n"
    }
   }
  },
  {
   "cell_type": "markdown",
   "source": [
    "You can also iterate by using values .values(), which returns a dict_values(list) of values in the dict"
   ],
   "metadata": {
    "collapsed": false,
    "pycharm": {
     "name": "#%% md\n"
    }
   }
  },
  {
   "cell_type": "code",
   "execution_count": 13,
   "outputs": [
    {
     "name": "stdout",
     "output_type": "stream",
     "text": [
      "<class 'dict_values'>\n",
      "1\n",
      "2\n",
      "3\n"
     ]
    }
   ],
   "source": [
    "print(type(d.values()))\n",
    "for value in d.values():\n",
    "    print(value)"
   ],
   "metadata": {
    "collapsed": false,
    "pycharm": {
     "name": "#%%\n"
    }
   }
  },
  {
   "cell_type": "code",
   "execution_count": 14,
   "outputs": [
    {
     "name": "stdout",
     "output_type": "stream",
     "text": [
      "<class 'dict_items'>\n",
      "key:a, value:1\n",
      "key:b, value:2\n",
      "key:c, value:3\n"
     ]
    }
   ],
   "source": [
    "# you can also iterate by using key and value at same time\n",
    "print(type(d.items()))\n",
    "for k, v in d.items():\n",
    "    print(f\"key:{k}, value:{v}\")"
   ],
   "metadata": {
    "collapsed": false,
    "pycharm": {
     "name": "#%%\n"
    }
   }
  },
  {
   "cell_type": "markdown",
   "source": [
    "## Counting iteration\n",
    "\n",
    "Often, when dealing with iterators, we also get a need to keep a count of iterations. Python eases the programmers’ task by providing a built-in function enumerate() for this task.\n",
    "Enumerate() method adds a counter to an iterable and returns it in a form of enumerating object. This enumerated object can then be used directly for loops or converted into a list of tuples using the list() method.\n",
    "\n",
    "```text\n",
    "enumerate(iterable, start=0)\n",
    "\n",
    "Parameters:\n",
    "Iterable: any object that supports iteration\n",
    "Start: the index value from which the counter is\n",
    "              to be started, by default it is 0, and it can be negative\n",
    "```"
   ],
   "metadata": {
    "collapsed": false,
    "pycharm": {
     "name": "#%% md\n"
    }
   }
  },
  {
   "cell_type": "code",
   "execution_count": 18,
   "outputs": [
    {
     "name": "stdout",
     "output_type": "stream",
     "text": [
      "0 A\n",
      "1 B\n",
      "2 C\n"
     ]
    }
   ],
   "source": [
    "for i, value in enumerate(['A', 'B', 'C'],0):\n",
    "    print(i, value)"
   ],
   "metadata": {
    "collapsed": false,
    "pycharm": {
     "name": "#%%\n"
    }
   }
  },
  {
   "cell_type": "code",
   "execution_count": 17,
   "outputs": [
    {
     "name": "stdout",
     "output_type": "stream",
     "text": [
      "-1 A\n",
      "0 B\n",
      "1 C\n"
     ]
    }
   ],
   "source": [
    "# the starting point of the counter can be negative\n",
    "for i, value in enumerate(['A', 'B', 'C'],-1):\n",
    "    print(i, value)"
   ],
   "metadata": {
    "collapsed": false,
    "pycharm": {
     "name": "#%%\n"
    }
   }
  },
  {
   "cell_type": "markdown",
   "source": [
    "## Unboxing of tuple\n",
    "\n",
    "In the for iteration, we can also use automatically the unboxing of the tuple"
   ],
   "metadata": {
    "collapsed": false,
    "pycharm": {
     "name": "#%% md\n"
    }
   }
  },
  {
   "cell_type": "code",
   "execution_count": 20,
   "outputs": [
    {
     "name": "stdout",
     "output_type": "stream",
     "text": [
      "1 a\n",
      "2 b\n",
      "3 c\n"
     ]
    }
   ],
   "source": [
    "for x, y in [(1, \"a\"), (2, \"b\"), (3, \"c\")]:\n",
    "    print(x, y)"
   ],
   "metadata": {
    "collapsed": false,
    "pycharm": {
     "name": "#%%\n"
    }
   }
  },
  {
   "cell_type": "code",
   "execution_count": 21,
   "outputs": [
    {
     "name": "stdout",
     "output_type": "stream",
     "text": [
      "<class 'tuple'>\n",
      "1 a\n",
      "<class 'tuple'>\n",
      "2 b\n",
      "<class 'tuple'>\n",
      "3 c\n"
     ]
    }
   ],
   "source": [
    "# the iterated element is a tuple, not one int, one string\n",
    "for item in [(1, \"a\"), (2, \"b\"), (3, \"c\")]:\n",
    "    print(type(item))\n",
    "    x,y=item\n",
    "    print(x, y)"
   ],
   "metadata": {
    "collapsed": false,
    "pycharm": {
     "name": "#%%\n"
    }
   }
  },
  {
   "cell_type": "code",
   "execution_count": null,
   "outputs": [],
   "source": [],
   "metadata": {
    "collapsed": false,
    "pycharm": {
     "name": "#%%\n"
    }
   }
  }
 ],
 "metadata": {
  "kernelspec": {
   "display_name": "Python 3",
   "language": "python",
   "name": "python3"
  },
  "language_info": {
   "codemirror_mode": {
    "name": "ipython",
    "version": 2
   },
   "file_extension": ".py",
   "mimetype": "text/x-python",
   "name": "python",
   "nbconvert_exporter": "python",
   "pygments_lexer": "ipython2",
   "version": "2.7.6"
  }
 },
 "nbformat": 4,
 "nbformat_minor": 0
}