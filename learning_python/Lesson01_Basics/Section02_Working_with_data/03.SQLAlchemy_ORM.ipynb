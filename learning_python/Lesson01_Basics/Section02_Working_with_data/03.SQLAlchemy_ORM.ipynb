{
 "cells": [
  {
   "cell_type": "markdown",
   "source": [
    "# 3. SQLAlchemy orm\n",
    "\n",
    "The main objective of the Object Relational Mapper API of SQLAlchemy is to facilitate associating user-defined Python classes with database tables, and objects of those classes with rows in their corresponding tables. Changes in states of objects and rows are synchronously matched with each other. SQLAlchemy enables expressing database queries in terms of user defined classes and their defined relationships.\n",
    "\n",
    "## 3.1 Declare mapping\n",
    "\n",
    "In case of ORM, the configuration process starts by\n",
    "- describing the database tables\n",
    "- defining classes which will be mapped to those tables.\n",
    "\n",
    "In SQLAlchemy, these two tasks are performed together. This is done by using Declarative system; the classes created include directives to describe the actual database table they are mapped to."
   ],
   "metadata": {
    "collapsed": false
   }
  },
  {
   "cell_type": "code",
   "execution_count": 1,
   "outputs": [],
   "source": [
    "from sqlalchemy import create_engine\n",
    "base_path=\"../../../data/orm_test.db\"\n",
    "db_url=f\"sqlite:///{base_path}\"\n",
    "# echo(default is false) when set to True will generate the activity log\n",
    "# Below command will create the sqlite db, if not existed\n",
    "# create_engine() will return an engine object.\n",
    "# The Engine establishes a real DBAPI connection to the database when\n",
    "# a method like Engine.execute() or Engine.connect() is called.\n",
    "engine = create_engine(db_url, echo = True)"
   ],
   "metadata": {
    "collapsed": false
   }
  },
  {
   "cell_type": "markdown",
   "source": [
    "Below code create a `base class`, which stores a catalog of classes and mapped tables in the Declarative system. This is called as the declarative base class. There will be usually just one instance of this base in a commonly imported module. The declarative_base() function is used to create base class. This function is defined in sqlalchemy.ext.declarative module."
   ],
   "metadata": {
    "collapsed": false
   }
  },
  {
   "cell_type": "code",
   "execution_count": 2,
   "outputs": [],
   "source": [
    "from sqlalchemy.ext.declarative import declarative_base\n",
    "Base = declarative_base()"
   ],
   "metadata": {
    "collapsed": false
   }
  },
  {
   "cell_type": "markdown",
   "source": [
    "A table object mapper class in Declarative must have a **__tablename__** attribute, and **at least one Column** which is part of a primary key. Declarative replaces all the Column objects with special Python accessors known as `descriptors`. In below example, we have two types of descriptors:\n",
    "- column\n",
    "- relationship\n",
    "\n",
    "All the descriptors will be stored in **Base.metadata**"
   ],
   "metadata": {
    "collapsed": false
   }
  },
  {
   "cell_type": "code",
   "execution_count": 3,
   "outputs": [],
   "source": [
    "from sqlalchemy.orm import backref, relationship\n",
    "from sqlalchemy import Column, Integer,String, SmallInteger, Text, DateTime, ForeignKey\n",
    "\n",
    "# One-to-many relation\n",
    "# Having a ForeignKey defines the existence of the relationship between Cohort and\n",
    "# Dataset.\n",
    "# Below code defines a parent-child collection. The datasets attribute being plural\n",
    "# (which is not a requirement, just a convention) is an indication that it’s a collection.\n",
    "# The first parameter is the class name Dataset (which is not the table name dataset), is the\n",
    "# class to which the datasets attribute is related. The relationship informs SQLAlchemy that\n",
    "# there’s a relationship between the **Cohort and Dataset classes**. SQLAlchemy will find the\n",
    "# relationship in the Dataset class definition (line 3 of Dataset class)\n",
    "# The backref parameter creates an author attribute for each Book instance. This attribute refers\n",
    "# to the parent Author that the Book instance is related to.\n",
    "\n",
    "class Cohort(Base):\n",
    "    __tablename__='cohort'\n",
    "\n",
    "    id=Column(Integer,primary_key=True)\n",
    "    cname=Column(String)\n",
    "    datasets=relationship(\"Dataset\", backref=backref(\"cohort\"))"
   ],
   "metadata": {
    "collapsed": false
   }
  },
  {
   "cell_type": "code",
   "execution_count": 4,
   "outputs": [],
   "source": [
    "class Dataset(Base):\n",
    "    __tablename__=\"dataset\"\n",
    "\n",
    "    id=Column(Integer,primary_key=True)\n",
    "    cohort_id=Column(Integer, ForeignKey(\"cohort.id\"))\n",
    "    year= Column(Integer)\n",
    "    name = Column(String)\n",
    "    location = Column(String)\n",
    "    status = Column(SmallInteger)\n",
    "    validation_tasks=relationship(\"ValidationTask\",backref=backref(\"dataset\"))"
   ],
   "metadata": {
    "collapsed": false
   }
  },
  {
   "cell_type": "code",
   "execution_count": 5,
   "outputs": [],
   "source": [
    "class Descriptor(Base):\n",
    "    __tablename__=\"descriptor\"\n",
    "\n",
    "    id=Column(Integer,primary_key=True)\n",
    "    dataset_id=Column(Integer, ForeignKey(\"dataset.id\"))\n",
    "    name = Column(String)\n",
    "    location = Column(String)"
   ],
   "metadata": {
    "collapsed": false
   }
  },
  {
   "cell_type": "code",
   "execution_count": 6,
   "outputs": [],
   "source": [
    "class ValidationRule(Base):\n",
    "    __tablename__=\"validation_rule\"\n",
    "\n",
    "    id=Column(Integer,primary_key=True)\n",
    "    name = Column(String)\n",
    "    description=Column(Text)\n",
    "    args= Column(String)\n",
    "    kwargs= Column(String)\n",
    "    validation_tasks=relationship(\"ValidationTask\",backref=backref(\"validation_rule\"))"
   ],
   "metadata": {
    "collapsed": false
   }
  },
  {
   "cell_type": "code",
   "execution_count": 7,
   "outputs": [],
   "source": [
    "class ValidationTask(Base):\n",
    "    __tablename__=\"validation_task\"\n",
    "\n",
    "    id=Column(Integer,primary_key=True)\n",
    "    start_date=Column(DateTime)\n",
    "    end_date=Column(DateTime)\n",
    "    dataset_id=Column(Integer, ForeignKey(\"dataset.id\"))\n",
    "    validation_rule_id=Column(Integer,ForeignKey(\"validation_rule.id\"))\n",
    "    task_status = Column(SmallInteger)\n",
    "    output = Column(Text)\n"
   ],
   "metadata": {
    "collapsed": false
   }
  },
  {
   "cell_type": "code",
   "execution_count": 8,
   "outputs": [
    {
     "name": "stdout",
     "output_type": "stream",
     "text": [
      "2022-12-12 09:40:26,176 INFO sqlalchemy.engine.Engine BEGIN (implicit)\n",
      "2022-12-12 09:40:26,177 INFO sqlalchemy.engine.Engine PRAGMA main.table_info(\"cohort\")\n",
      "2022-12-12 09:40:26,197 INFO sqlalchemy.engine.Engine [raw sql] ()\n",
      "2022-12-12 09:40:26,200 INFO sqlalchemy.engine.Engine PRAGMA temp.table_info(\"cohort\")\n",
      "2022-12-12 09:40:26,201 INFO sqlalchemy.engine.Engine [raw sql] ()\n",
      "2022-12-12 09:40:26,201 INFO sqlalchemy.engine.Engine PRAGMA main.table_info(\"dataset\")\n",
      "2022-12-12 09:40:26,202 INFO sqlalchemy.engine.Engine [raw sql] ()\n",
      "2022-12-12 09:40:26,203 INFO sqlalchemy.engine.Engine PRAGMA temp.table_info(\"dataset\")\n",
      "2022-12-12 09:40:26,217 INFO sqlalchemy.engine.Engine [raw sql] ()\n",
      "2022-12-12 09:40:26,217 INFO sqlalchemy.engine.Engine PRAGMA main.table_info(\"descriptor\")\n",
      "2022-12-12 09:40:26,228 INFO sqlalchemy.engine.Engine [raw sql] ()\n",
      "2022-12-12 09:40:26,229 INFO sqlalchemy.engine.Engine PRAGMA temp.table_info(\"descriptor\")\n",
      "2022-12-12 09:40:26,233 INFO sqlalchemy.engine.Engine [raw sql] ()\n",
      "2022-12-12 09:40:26,234 INFO sqlalchemy.engine.Engine PRAGMA main.table_info(\"validation_rule\")\n",
      "2022-12-12 09:40:26,235 INFO sqlalchemy.engine.Engine [raw sql] ()\n",
      "2022-12-12 09:40:26,249 INFO sqlalchemy.engine.Engine PRAGMA temp.table_info(\"validation_rule\")\n",
      "2022-12-12 09:40:26,256 INFO sqlalchemy.engine.Engine [raw sql] ()\n",
      "2022-12-12 09:40:26,260 INFO sqlalchemy.engine.Engine PRAGMA main.table_info(\"validation_task\")\n",
      "2022-12-12 09:40:26,268 INFO sqlalchemy.engine.Engine [raw sql] ()\n",
      "2022-12-12 09:40:26,281 INFO sqlalchemy.engine.Engine PRAGMA temp.table_info(\"validation_task\")\n",
      "2022-12-12 09:40:26,283 INFO sqlalchemy.engine.Engine [raw sql] ()\n",
      "2022-12-12 09:40:26,285 INFO sqlalchemy.engine.Engine \n",
      "CREATE TABLE cohort (\n",
      "\tid INTEGER NOT NULL, \n",
      "\tcname VARCHAR, \n",
      "\tPRIMARY KEY (id)\n",
      ")\n",
      "\n",
      "\n",
      "2022-12-12 09:40:26,285 INFO sqlalchemy.engine.Engine [no key 0.00045s] ()\n",
      "2022-12-12 09:40:26,315 INFO sqlalchemy.engine.Engine \n",
      "CREATE TABLE validation_rule (\n",
      "\tid INTEGER NOT NULL, \n",
      "\tname VARCHAR, \n",
      "\tdescription TEXT, \n",
      "\targs VARCHAR, \n",
      "\tkwargs VARCHAR, \n",
      "\tPRIMARY KEY (id)\n",
      ")\n",
      "\n",
      "\n",
      "2022-12-12 09:40:26,316 INFO sqlalchemy.engine.Engine [no key 0.00083s] ()\n",
      "2022-12-12 09:40:26,352 INFO sqlalchemy.engine.Engine \n",
      "CREATE TABLE dataset (\n",
      "\tid INTEGER NOT NULL, \n",
      "\tcohort_id INTEGER, \n",
      "\tyear INTEGER, \n",
      "\tname VARCHAR, \n",
      "\tlocation VARCHAR, \n",
      "\tstatus SMALLINT, \n",
      "\tPRIMARY KEY (id), \n",
      "\tFOREIGN KEY(cohort_id) REFERENCES cohort (id)\n",
      ")\n",
      "\n",
      "\n",
      "2022-12-12 09:40:26,362 INFO sqlalchemy.engine.Engine [no key 0.00999s] ()\n",
      "2022-12-12 09:40:26,374 INFO sqlalchemy.engine.Engine \n",
      "CREATE TABLE descriptor (\n",
      "\tid INTEGER NOT NULL, \n",
      "\tdataset_id INTEGER, \n",
      "\tname VARCHAR, \n",
      "\tlocation VARCHAR, \n",
      "\tPRIMARY KEY (id), \n",
      "\tFOREIGN KEY(dataset_id) REFERENCES dataset (id)\n",
      ")\n",
      "\n",
      "\n",
      "2022-12-12 09:40:26,374 INFO sqlalchemy.engine.Engine [no key 0.00083s] ()\n",
      "2022-12-12 09:40:26,387 INFO sqlalchemy.engine.Engine \n",
      "CREATE TABLE validation_task (\n",
      "\tid INTEGER NOT NULL, \n",
      "\tstart_date DATETIME, \n",
      "\tend_date DATETIME, \n",
      "\tdataset_id INTEGER, \n",
      "\tvalidation_rule_id INTEGER, \n",
      "\ttask_status SMALLINT, \n",
      "\toutput TEXT, \n",
      "\tPRIMARY KEY (id), \n",
      "\tFOREIGN KEY(dataset_id) REFERENCES dataset (id), \n",
      "\tFOREIGN KEY(validation_rule_id) REFERENCES validation_rule (id)\n",
      ")\n",
      "\n",
      "\n",
      "2022-12-12 09:40:26,387 INFO sqlalchemy.engine.Engine [no key 0.00083s] ()\n",
      "2022-12-12 09:40:26,413 INFO sqlalchemy.engine.Engine COMMIT\n"
     ]
    }
   ],
   "source": [
    "Base.metadata.create_all(engine)"
   ],
   "metadata": {
    "collapsed": false
   }
  },
  {
   "cell_type": "markdown",
   "source": [
    "## 3.2 Session\n",
    "\n",
    "In order to interact with the database, we need to obtain its handle. A **session object** is the handle to database. Session class is defined using **sessionmaker()**  a configurable session factory method which is bound to the `engine object`."
   ],
   "metadata": {
    "collapsed": false
   }
  },
  {
   "cell_type": "code",
   "execution_count": 9,
   "outputs": [],
   "source": [
    "from sqlalchemy.orm import sessionmaker\n",
    "Session = sessionmaker(bind = engine)"
   ],
   "metadata": {
    "collapsed": false
   }
  },
  {
   "cell_type": "code",
   "execution_count": 10,
   "outputs": [],
   "source": [
    "session = Session()"
   ],
   "metadata": {
    "collapsed": false
   }
  },
  {
   "cell_type": "markdown",
   "source": [
    "### 3.2.1 Insert rows by using session\n",
    "\n",
    "Session class provides two function to add rows into tables\n",
    "- .add(): add one entry a time\n",
    "- .add_all(): add a list of entry\n"
   ],
   "metadata": {
    "collapsed": false
   }
  },
  {
   "cell_type": "code",
   "execution_count": 11,
   "outputs": [],
   "source": [
    "c1=Cohort(id=0,cname=\"breast_cancer\")\n",
    "session.add(c1)"
   ],
   "metadata": {
    "collapsed": false
   }
  },
  {
   "cell_type": "code",
   "execution_count": 12,
   "outputs": [
    {
     "name": "stdout",
     "output_type": "stream",
     "text": [
      "2022-12-12 14:29:36,510 INFO sqlalchemy.engine.Engine BEGIN (implicit)\n",
      "2022-12-12 14:29:36,513 INFO sqlalchemy.engine.Engine INSERT INTO cohort (id, cname) VALUES (?, ?)\n",
      "2022-12-12 14:29:36,514 INFO sqlalchemy.engine.Engine [generated in 0.00060s] (0, 'breast_cancer')\n",
      "2022-12-12 14:29:36,515 INFO sqlalchemy.engine.Engine COMMIT\n"
     ]
    }
   ],
   "source": [
    "# Note that the above transaction is pending until the same is flushed using commit() method.\n",
    "session.commit()"
   ],
   "metadata": {
    "collapsed": false
   }
  },
  {
   "cell_type": "code",
   "execution_count": 13,
   "outputs": [],
   "source": [
    "c2=Cohort(id=1,cname=\"colon_cancer\")\n",
    "d1=Dataset(id=1,cohort_id=0,year=2019,name=\"breast_clinical_meds.csv\",location=\"s3://minio.casd.local/data/casd_cancer\",status=0)\n",
    "\n",
    "d2=Dataset(id=2,cohort_id=0,year=2018,name=\"breast_cancer_death_rate.csv\",location=\"s3://minio.casd.local/data/casd_cancer\",status=0)\n",
    "\n",
    "session.add_all([c2,d1,d2])"
   ],
   "metadata": {
    "collapsed": false
   }
  },
  {
   "cell_type": "code",
   "execution_count": 14,
   "outputs": [
    {
     "name": "stdout",
     "output_type": "stream",
     "text": [
      "2022-12-12 14:39:05,666 INFO sqlalchemy.engine.Engine BEGIN (implicit)\n",
      "2022-12-12 14:39:05,667 INFO sqlalchemy.engine.Engine INSERT INTO cohort (id, cname) VALUES (?, ?)\n",
      "2022-12-12 14:39:05,668 INFO sqlalchemy.engine.Engine [cached since 569.2s ago] (1, 'colon_cancer')\n",
      "2022-12-12 14:39:05,670 INFO sqlalchemy.engine.Engine INSERT INTO dataset (id, cohort_id, year, name, location, status) VALUES (?, ?, ?, ?, ?, ?)\n",
      "2022-12-12 14:39:05,670 INFO sqlalchemy.engine.Engine [generated in 0.00082s] ((1, 0, 2019, 'breast_clinical_meds.csv', 's3://minio.casd.local/data/casd_cancer', 0), (2, 0, 2018, 'breast_cancer_death_rate.csv', 's3://minio.casd.local/data/casd_cancer', 0))\n",
      "2022-12-12 14:39:05,671 INFO sqlalchemy.engine.Engine COMMIT\n"
     ]
    }
   ],
   "source": [
    "session.commit()"
   ],
   "metadata": {
    "collapsed": false
   }
  },
  {
   "cell_type": "markdown",
   "source": [
    "### 3.2.2 Querying tables\n",
    "\n",
    "All `SELECT statements generated by SQLAlchemy ORM are constructed by Query object`. It provides a generative interface, hence successive calls return a new Query object, a copy of the former with additional criteria and options associated with it.\n",
    "\n",
    "Query objects are initially generated using the query() method of the Session as follows\n",
    "\n",
    "```python\n",
    "q = session.query(mapped class)\n",
    "\n",
    "# below statement is also equivalent to the above given statement\n",
    "q = Query(mappedClass, session)\n",
    "```"
   ],
   "metadata": {
    "collapsed": false
   }
  },
  {
   "cell_type": "code",
   "execution_count": 16,
   "outputs": [
    {
     "name": "stdout",
     "output_type": "stream",
     "text": [
      "2022-12-12 14:45:17,666 INFO sqlalchemy.engine.Engine SELECT cohort.id AS cohort_id, cohort.cname AS cohort_cname \n",
      "FROM cohort\n",
      "2022-12-12 14:45:17,667 INFO sqlalchemy.engine.Engine [cached since 10.1s ago] ()\n",
      "Id:  0 , Name:  breast_cancer\n",
      "Id:  1 , Name:  colon_cancer\n"
     ]
    }
   ],
   "source": [
    "result = session.query(Cohort).all()\n",
    "\n",
    "for row in result:\n",
    "    print(\"Id: \", row.id, \", Name: \", row.cname)"
   ],
   "metadata": {
    "collapsed": false
   }
  },
  {
   "cell_type": "markdown",
   "source": [
    "#### Other usefully function of query object\n",
    "\n",
    "1. add_columns(): It adds one or more column expressions to the list of result columns to be returned.\n",
    "\n",
    "2. add_entity(): It adds a mapped entity to the list of result columns to be returned.\n",
    "\n",
    "3. count(): It returns a count of rows this Query would return.\n",
    "\n",
    "4. delete(): It performs a bulk delete query. Deletes rows matched by this query from the database.\n",
    "\n",
    "5. distinct(): It applies a DISTINCT clause to the query and return the newly resulting Query.\n",
    "\n",
    "6. filter(): It applies the given filtering criterion to a copy of this Query, using SQL expressions.\n",
    "7. first(): It returns the first result of this Query or None if the result doesn’t contain any row.\n",
    "8. get(): It returns an instance based on the given primary key identifier providing direct access to the identity map of the owning Session.\n",
    "9. group_by() : It applies one or more GROUP BY criterion to the query and return the newly resulting Query\n",
    "10. join(): It creates a SQL JOIN against this Query object’s criterion and apply generatively, returning the newly resulting Query.\n",
    "11. one(): It returns exactly one result or raise an exception.\n",
    "\n",
    "12. order_by(): It applies one or more ORDER BY criterion to the query and returns the newly resulting Query.\n",
    "\n",
    "13. update(): It performs a bulk update query and updates rows matched by this query in the database."
   ],
   "metadata": {
    "collapsed": false
   }
  },
  {
   "cell_type": "code",
   "execution_count": 17,
   "outputs": [
    {
     "name": "stdout",
     "output_type": "stream",
     "text": [
      "Id:  0 , Name:  breast_cancer\n"
     ]
    }
   ],
   "source": [
    "# get the cohort with primary key=0\n",
    "row= session.query(Cohort).get(0)\n",
    "print(\"Id: \", row.id, \", Name: \", row.cname)"
   ],
   "metadata": {
    "collapsed": false
   }
  },
  {
   "cell_type": "code",
   "execution_count": 18,
   "outputs": [
    {
     "name": "stdout",
     "output_type": "stream",
     "text": [
      "2022-12-12 14:57:47,593 INFO sqlalchemy.engine.Engine SELECT count(*) AS count_1 \n",
      "FROM (SELECT cohort.id AS cohort_id, cohort.cname AS cohort_cname \n",
      "FROM cohort) AS anon_1\n",
      "2022-12-12 14:57:47,602 INFO sqlalchemy.engine.Engine [generated in 0.00842s] ()\n",
      "Cohort table has 2 rows\n"
     ]
    }
   ],
   "source": [
    "# get the row number of cohort table\n",
    "count=session.query(Cohort).count()\n",
    "print(f\"Cohort table has {count} rows\")"
   ],
   "metadata": {
    "collapsed": false
   }
  },
  {
   "cell_type": "markdown",
   "source": [
    "### 3.2.3 Updating values\n",
    "\n",
    "To update the value, you have two options:\n",
    "\n",
    "  - modify the attributes of the mapping object : Single row update\n",
    "  - Use Update(): bulk updates"
   ],
   "metadata": {
    "collapsed": false
   }
  },
  {
   "cell_type": "code",
   "execution_count": 19,
   "outputs": [
    {
     "name": "stdout",
     "output_type": "stream",
     "text": [
      "2022-12-12 15:19:53,249 INFO sqlalchemy.engine.Engine SELECT cohort.id AS cohort_id, cohort.cname AS cohort_cname \n",
      "FROM cohort\n",
      " LIMIT ? OFFSET ?\n",
      "2022-12-12 15:19:53,255 INFO sqlalchemy.engine.Engine [generated in 0.00626s] (1, 0)\n",
      "Id:  0 , Name:  breast_cancer\n"
     ]
    }
   ],
   "source": [
    "# Get the first row of cohort table\n",
    "first=session.query(Cohort).first()\n",
    "\n",
    "# before update value\n",
    "print(\"Id: \", first.id, \", Name: \", first.cname)"
   ],
   "metadata": {
    "collapsed": false
   }
  },
  {
   "cell_type": "code",
   "execution_count": 20,
   "outputs": [
    {
     "name": "stdout",
     "output_type": "stream",
     "text": [
      "Id:  0 , Name:  breast_cancer_2022\n"
     ]
    }
   ],
   "source": [
    "# Now we want to update the value cname\n",
    "first.cname=\"breast_cancer_2022\"\n",
    "\n",
    "# after the update\n",
    "print(\"Id: \", first.id, \", Name: \", first.cname)"
   ],
   "metadata": {
    "collapsed": false
   }
  },
  {
   "cell_type": "code",
   "execution_count": 21,
   "outputs": [
    {
     "name": "stdout",
     "output_type": "stream",
     "text": [
      "2022-12-12 15:24:49,660 INFO sqlalchemy.engine.Engine ROLLBACK\n",
      "2022-12-12 15:24:49,669 INFO sqlalchemy.engine.Engine BEGIN (implicit)\n",
      "2022-12-12 15:24:49,671 INFO sqlalchemy.engine.Engine SELECT cohort.id AS cohort_id, cohort.cname AS cohort_cname \n",
      "FROM cohort \n",
      "WHERE cohort.id = ?\n",
      "2022-12-12 15:24:49,681 INFO sqlalchemy.engine.Engine [generated in 0.00992s] (0,)\n",
      "Id:  0 , Name:  breast_cancer\n"
     ]
    }
   ],
   "source": [
    "# You can notice the value has been updated. What if you want to undo the changes. You can call rollback() method, which will restore the session to the state of last commit.\n",
    "\n",
    "# note all change after the last commit will be deleted.\n",
    "session.rollback()\n",
    "\n",
    "# after the rollback\n",
    "print(\"Id: \", first.id, \", Name: \", first.cname)"
   ],
   "metadata": {
    "collapsed": false
   }
  },
  {
   "cell_type": "code",
   "execution_count": 30,
   "outputs": [
    {
     "data": {
      "text/plain": "<sqlalchemy.orm.query.Query at 0x7fc15e2ea850>"
     },
     "execution_count": 30,
     "metadata": {},
     "output_type": "execute_result"
    }
   ],
   "source": [
    "from sqlalchemy import update\n",
    "\n",
    "# get all rows of Cohort\n",
    "session.query(Cohort).filter(Cohort.id!=0)\n"
   ],
   "metadata": {
    "collapsed": false
   }
  },
  {
   "cell_type": "markdown",
   "source": [
    "The update() method requires two parameters as follows:\n",
    "\n",
    "- A dictionary of key-values with key being the attribute to be updated, and value being the new contents of attribute.\n",
    "\n",
    "- synchronize_session attribute mentioning the strategy to update attributes in the session. Valid values are false: for not synchronizing the session, fetch: performs a select query before the update to find objects that are matched by the update query; and evaluate: evaluate criteria on objects in the session."
   ],
   "metadata": {
    "collapsed": false
   }
  },
  {
   "cell_type": "code",
   "execution_count": 31,
   "outputs": [
    {
     "ename": "ArgumentError",
     "evalue": "subject table for an INSERT, UPDATE or DELETE expected, got {<sqlalchemy.orm.attributes.InstrumentedAttribute object at 0x7fc177075ea0>: <sqlalchemy.sql.elements.BinaryExpression object at 0x7fc15e27f910>}.",
     "output_type": "error",
     "traceback": [
      "\u001B[0;31m---------------------------------------------------------------------------\u001B[0m",
      "\u001B[0;31mArgumentError\u001B[0m                             Traceback (most recent call last)",
      "Cell \u001B[0;32mIn [31], line 2\u001B[0m\n\u001B[1;32m      1\u001B[0m \u001B[38;5;66;03m# add a postfix value\u001B[39;00m\n\u001B[0;32m----> 2\u001B[0m \u001B[43mupdate\u001B[49m\u001B[43m(\u001B[49m\u001B[43m{\u001B[49m\u001B[43mCohort\u001B[49m\u001B[38;5;241;43m.\u001B[39;49m\u001B[43mcname\u001B[49m\u001B[43m:\u001B[49m\u001B[43mCohort\u001B[49m\u001B[38;5;241;43m.\u001B[39;49m\u001B[43mcname\u001B[49m\u001B[38;5;241;43m+\u001B[39;49m\u001B[38;5;124;43m\"\u001B[39;49m\u001B[38;5;124;43m_cohort\u001B[39;49m\u001B[38;5;124;43m\"\u001B[39;49m\u001B[43m}\u001B[49m\u001B[43m,\u001B[49m\u001B[43msychronize_session\u001B[49m\u001B[38;5;241;43m=\u001B[39;49m\u001B[38;5;28;43;01mFalse\u001B[39;49;00m\u001B[43m)\u001B[49m\n",
      "File \u001B[0;32m<string>:2\u001B[0m, in \u001B[0;36mupdate\u001B[0;34m(table, whereclause, values, inline, bind, prefixes, returning, return_defaults, preserve_parameter_order, **dialect_kw)\u001B[0m\n",
      "File \u001B[0;32m<string>:2\u001B[0m, in \u001B[0;36m__init__\u001B[0;34m(self, table, whereclause, values, inline, bind, prefixes, returning, return_defaults, preserve_parameter_order, **dialect_kw)\u001B[0m\n",
      "File \u001B[0;32m~/.cache/pypoetry/virtualenvs/learning-python-GOAEXFF0-py3.8/lib/python3.8/site-packages/sqlalchemy/util/deprecations.py:309\u001B[0m, in \u001B[0;36mdeprecated_params.<locals>.decorate.<locals>.warned\u001B[0;34m(fn, *args, **kwargs)\u001B[0m\n\u001B[1;32m    302\u001B[0m     \u001B[38;5;28;01mif\u001B[39;00m m \u001B[38;5;129;01min\u001B[39;00m kwargs:\n\u001B[1;32m    303\u001B[0m         _warn_with_version(\n\u001B[1;32m    304\u001B[0m             messages[m],\n\u001B[1;32m    305\u001B[0m             versions[m],\n\u001B[1;32m    306\u001B[0m             version_warnings[m],\n\u001B[1;32m    307\u001B[0m             stacklevel\u001B[38;5;241m=\u001B[39m\u001B[38;5;241m3\u001B[39m,\n\u001B[1;32m    308\u001B[0m         )\n\u001B[0;32m--> 309\u001B[0m \u001B[38;5;28;01mreturn\u001B[39;00m \u001B[43mfn\u001B[49m\u001B[43m(\u001B[49m\u001B[38;5;241;43m*\u001B[39;49m\u001B[43margs\u001B[49m\u001B[43m,\u001B[49m\u001B[43m \u001B[49m\u001B[38;5;241;43m*\u001B[39;49m\u001B[38;5;241;43m*\u001B[39;49m\u001B[43mkwargs\u001B[49m\u001B[43m)\u001B[49m\n",
      "File \u001B[0;32m~/.cache/pypoetry/virtualenvs/learning-python-GOAEXFF0-py3.8/lib/python3.8/site-packages/sqlalchemy/sql/dml.py:1356\u001B[0m, in \u001B[0;36mUpdate.__init__\u001B[0;34m(self, table, whereclause, values, inline, bind, prefixes, returning, return_defaults, preserve_parameter_order, **dialect_kw)\u001B[0m\n\u001B[1;32m   1256\u001B[0m \u001B[38;5;124mr\u001B[39m\u001B[38;5;124;03m\"\"\"Construct an :class:`_expression.Update` object.\u001B[39;00m\n\u001B[1;32m   1257\u001B[0m \n\u001B[1;32m   1258\u001B[0m \u001B[38;5;124;03mE.g.::\u001B[39;00m\n\u001B[0;32m   (...)\u001B[0m\n\u001B[1;32m   1353\u001B[0m \n\u001B[1;32m   1354\u001B[0m \u001B[38;5;124;03m\"\"\"\u001B[39;00m\n\u001B[1;32m   1355\u001B[0m \u001B[38;5;28mself\u001B[39m\u001B[38;5;241m.\u001B[39m_preserve_parameter_order \u001B[38;5;241m=\u001B[39m preserve_parameter_order\n\u001B[0;32m-> 1356\u001B[0m \u001B[38;5;28;43msuper\u001B[39;49m\u001B[43m(\u001B[49m\u001B[43mUpdate\u001B[49m\u001B[43m,\u001B[49m\u001B[43m \u001B[49m\u001B[38;5;28;43mself\u001B[39;49m\u001B[43m)\u001B[49m\u001B[38;5;241;43m.\u001B[39;49m\u001B[38;5;21;43m__init__\u001B[39;49m\u001B[43m(\u001B[49m\u001B[43mtable\u001B[49m\u001B[43m,\u001B[49m\u001B[43m \u001B[49m\u001B[43mvalues\u001B[49m\u001B[43m,\u001B[49m\u001B[43m \u001B[49m\u001B[43mprefixes\u001B[49m\u001B[43m)\u001B[49m\n\u001B[1;32m   1357\u001B[0m \u001B[38;5;28mself\u001B[39m\u001B[38;5;241m.\u001B[39m_bind \u001B[38;5;241m=\u001B[39m bind\n\u001B[1;32m   1358\u001B[0m \u001B[38;5;28;01mif\u001B[39;00m returning:\n",
      "File \u001B[0;32m~/.cache/pypoetry/virtualenvs/learning-python-GOAEXFF0-py3.8/lib/python3.8/site-packages/sqlalchemy/sql/dml.py:615\u001B[0m, in \u001B[0;36mValuesBase.__init__\u001B[0;34m(self, table, values, prefixes)\u001B[0m\n\u001B[1;32m    614\u001B[0m \u001B[38;5;28;01mdef\u001B[39;00m \u001B[38;5;21m__init__\u001B[39m(\u001B[38;5;28mself\u001B[39m, table, values, prefixes):\n\u001B[0;32m--> 615\u001B[0m     \u001B[38;5;28mself\u001B[39m\u001B[38;5;241m.\u001B[39mtable \u001B[38;5;241m=\u001B[39m \u001B[43mcoercions\u001B[49m\u001B[38;5;241;43m.\u001B[39;49m\u001B[43mexpect\u001B[49m\u001B[43m(\u001B[49m\n\u001B[1;32m    616\u001B[0m \u001B[43m        \u001B[49m\u001B[43mroles\u001B[49m\u001B[38;5;241;43m.\u001B[39;49m\u001B[43mDMLTableRole\u001B[49m\u001B[43m,\u001B[49m\u001B[43m \u001B[49m\u001B[43mtable\u001B[49m\u001B[43m,\u001B[49m\u001B[43m \u001B[49m\u001B[43mapply_propagate_attrs\u001B[49m\u001B[38;5;241;43m=\u001B[39;49m\u001B[38;5;28;43mself\u001B[39;49m\n\u001B[1;32m    617\u001B[0m \u001B[43m    \u001B[49m\u001B[43m)\u001B[49m\n\u001B[1;32m    618\u001B[0m     \u001B[38;5;28;01mif\u001B[39;00m values \u001B[38;5;129;01mis\u001B[39;00m \u001B[38;5;129;01mnot\u001B[39;00m \u001B[38;5;28;01mNone\u001B[39;00m:\n\u001B[1;32m    619\u001B[0m         \u001B[38;5;28mself\u001B[39m\u001B[38;5;241m.\u001B[39mvalues\u001B[38;5;241m.\u001B[39mnon_generative(\u001B[38;5;28mself\u001B[39m, values)\n",
      "File \u001B[0;32m~/.cache/pypoetry/virtualenvs/learning-python-GOAEXFF0-py3.8/lib/python3.8/site-packages/sqlalchemy/sql/coercions.py:188\u001B[0m, in \u001B[0;36mexpect\u001B[0;34m(role, element, apply_propagate_attrs, argname, post_inspect, **kw)\u001B[0m\n\u001B[1;32m    185\u001B[0m                 impl\u001B[38;5;241m.\u001B[39m_raise_for_expected(original_element, argname)\n\u001B[1;32m    187\u001B[0m     \u001B[38;5;28;01mif\u001B[39;00m resolved \u001B[38;5;129;01mis\u001B[39;00m \u001B[38;5;28;01mNone\u001B[39;00m:\n\u001B[0;32m--> 188\u001B[0m         resolved \u001B[38;5;241m=\u001B[39m \u001B[43mimpl\u001B[49m\u001B[38;5;241;43m.\u001B[39;49m\u001B[43m_literal_coercion\u001B[49m\u001B[43m(\u001B[49m\n\u001B[1;32m    189\u001B[0m \u001B[43m            \u001B[49m\u001B[43melement\u001B[49m\u001B[43m,\u001B[49m\u001B[43m \u001B[49m\u001B[43margname\u001B[49m\u001B[38;5;241;43m=\u001B[39;49m\u001B[43margname\u001B[49m\u001B[43m,\u001B[49m\u001B[43m \u001B[49m\u001B[38;5;241;43m*\u001B[39;49m\u001B[38;5;241;43m*\u001B[39;49m\u001B[43mkw\u001B[49m\n\u001B[1;32m    190\u001B[0m \u001B[43m        \u001B[49m\u001B[43m)\u001B[49m\n\u001B[1;32m    191\u001B[0m \u001B[38;5;28;01melse\u001B[39;00m:\n\u001B[1;32m    192\u001B[0m     resolved \u001B[38;5;241m=\u001B[39m element\n",
      "File \u001B[0;32m~/.cache/pypoetry/virtualenvs/learning-python-GOAEXFF0-py3.8/lib/python3.8/site-packages/sqlalchemy/sql/coercions.py:371\u001B[0m, in \u001B[0;36m_NoTextCoercion._literal_coercion\u001B[0;34m(self, element, argname, **kw)\u001B[0m\n\u001B[1;32m    369\u001B[0m     _no_text_coercion(element, argname)\n\u001B[1;32m    370\u001B[0m \u001B[38;5;28;01melse\u001B[39;00m:\n\u001B[0;32m--> 371\u001B[0m     \u001B[38;5;28;43mself\u001B[39;49m\u001B[38;5;241;43m.\u001B[39;49m\u001B[43m_raise_for_expected\u001B[49m\u001B[43m(\u001B[49m\u001B[43melement\u001B[49m\u001B[43m,\u001B[49m\u001B[43m \u001B[49m\u001B[43margname\u001B[49m\u001B[43m)\u001B[49m\n",
      "File \u001B[0;32m~/.cache/pypoetry/virtualenvs/learning-python-GOAEXFF0-py3.8/lib/python3.8/site-packages/sqlalchemy/sql/coercions.py:437\u001B[0m, in \u001B[0;36m_SelectIsNotFrom._raise_for_expected\u001B[0;34m(self, element, argname, resolved, **kw)\u001B[0m\n\u001B[1;32m    434\u001B[0m \u001B[38;5;28;01melse\u001B[39;00m:\n\u001B[1;32m    435\u001B[0m     advice \u001B[38;5;241m=\u001B[39m code \u001B[38;5;241m=\u001B[39m \u001B[38;5;28;01mNone\u001B[39;00m\n\u001B[0;32m--> 437\u001B[0m \u001B[38;5;28;01mreturn\u001B[39;00m \u001B[38;5;28;43msuper\u001B[39;49m\u001B[43m(\u001B[49m\u001B[43m_SelectIsNotFrom\u001B[49m\u001B[43m,\u001B[49m\u001B[43m \u001B[49m\u001B[38;5;28;43mself\u001B[39;49m\u001B[43m)\u001B[49m\u001B[38;5;241;43m.\u001B[39;49m\u001B[43m_raise_for_expected\u001B[49m\u001B[43m(\u001B[49m\n\u001B[1;32m    438\u001B[0m \u001B[43m    \u001B[49m\u001B[43melement\u001B[49m\u001B[43m,\u001B[49m\n\u001B[1;32m    439\u001B[0m \u001B[43m    \u001B[49m\u001B[43margname\u001B[49m\u001B[38;5;241;43m=\u001B[39;49m\u001B[43margname\u001B[49m\u001B[43m,\u001B[49m\n\u001B[1;32m    440\u001B[0m \u001B[43m    \u001B[49m\u001B[43mresolved\u001B[49m\u001B[38;5;241;43m=\u001B[39;49m\u001B[43mresolved\u001B[49m\u001B[43m,\u001B[49m\n\u001B[1;32m    441\u001B[0m \u001B[43m    \u001B[49m\u001B[43madvice\u001B[49m\u001B[38;5;241;43m=\u001B[39;49m\u001B[43madvice\u001B[49m\u001B[43m,\u001B[49m\n\u001B[1;32m    442\u001B[0m \u001B[43m    \u001B[49m\u001B[43mcode\u001B[49m\u001B[38;5;241;43m=\u001B[39;49m\u001B[43mcode\u001B[49m\u001B[43m,\u001B[49m\n\u001B[1;32m    443\u001B[0m \u001B[43m    \u001B[49m\u001B[38;5;241;43m*\u001B[39;49m\u001B[38;5;241;43m*\u001B[39;49m\u001B[43mkw\u001B[49m\n\u001B[1;32m    444\u001B[0m \u001B[43m\u001B[49m\u001B[43m)\u001B[49m\n",
      "File \u001B[0;32m~/.cache/pypoetry/virtualenvs/learning-python-GOAEXFF0-py3.8/lib/python3.8/site-packages/sqlalchemy/sql/coercions.py:283\u001B[0m, in \u001B[0;36mRoleImpl._raise_for_expected\u001B[0;34m(self, element, argname, resolved, advice, code, err)\u001B[0m\n\u001B[1;32m    280\u001B[0m \u001B[38;5;28;01mif\u001B[39;00m advice:\n\u001B[1;32m    281\u001B[0m     msg \u001B[38;5;241m+\u001B[39m\u001B[38;5;241m=\u001B[39m \u001B[38;5;124m\"\u001B[39m\u001B[38;5;124m \u001B[39m\u001B[38;5;124m\"\u001B[39m \u001B[38;5;241m+\u001B[39m advice\n\u001B[0;32m--> 283\u001B[0m \u001B[43mutil\u001B[49m\u001B[38;5;241;43m.\u001B[39;49m\u001B[43mraise_\u001B[49m\u001B[43m(\u001B[49m\u001B[43mexc\u001B[49m\u001B[38;5;241;43m.\u001B[39;49m\u001B[43mArgumentError\u001B[49m\u001B[43m(\u001B[49m\u001B[43mmsg\u001B[49m\u001B[43m,\u001B[49m\u001B[43m \u001B[49m\u001B[43mcode\u001B[49m\u001B[38;5;241;43m=\u001B[39;49m\u001B[43mcode\u001B[49m\u001B[43m)\u001B[49m\u001B[43m,\u001B[49m\u001B[43m \u001B[49m\u001B[43mreplace_context\u001B[49m\u001B[38;5;241;43m=\u001B[39;49m\u001B[43merr\u001B[49m\u001B[43m)\u001B[49m\n",
      "File \u001B[0;32m~/.cache/pypoetry/virtualenvs/learning-python-GOAEXFF0-py3.8/lib/python3.8/site-packages/sqlalchemy/util/compat.py:210\u001B[0m, in \u001B[0;36mraise_\u001B[0;34m(***failed resolving arguments***)\u001B[0m\n\u001B[1;32m    207\u001B[0m     exception\u001B[38;5;241m.\u001B[39m__cause__ \u001B[38;5;241m=\u001B[39m replace_context\n\u001B[1;32m    209\u001B[0m \u001B[38;5;28;01mtry\u001B[39;00m:\n\u001B[0;32m--> 210\u001B[0m     \u001B[38;5;28;01mraise\u001B[39;00m exception\n\u001B[1;32m    211\u001B[0m \u001B[38;5;28;01mfinally\u001B[39;00m:\n\u001B[1;32m    212\u001B[0m     \u001B[38;5;66;03m# credit to\u001B[39;00m\n\u001B[1;32m    213\u001B[0m     \u001B[38;5;66;03m# https://cosmicpercolator.com/2016/01/13/exception-leaks-in-python-2-and-3/\u001B[39;00m\n\u001B[1;32m    214\u001B[0m     \u001B[38;5;66;03m# as the __traceback__ object creates a cycle\u001B[39;00m\n\u001B[1;32m    215\u001B[0m     \u001B[38;5;28;01mdel\u001B[39;00m exception, replace_context, from_, with_traceback\n",
      "\u001B[0;31mArgumentError\u001B[0m: subject table for an INSERT, UPDATE or DELETE expected, got {<sqlalchemy.orm.attributes.InstrumentedAttribute object at 0x7fc177075ea0>: <sqlalchemy.sql.elements.BinaryExpression object at 0x7fc15e27f910>}."
     ]
    }
   ],
   "source": [
    "# add a postfix value\n",
    "\n",
    "update({Cohort.cname:Cohort.cname+\"_cohort\"},sychronize_session=False)"
   ],
   "metadata": {
    "collapsed": false
   }
  },
  {
   "cell_type": "markdown",
   "source": [
    "### 3.2.4 Applying filter\n",
    "\n",
    "The general form is\n",
    "\n",
    "```text\n",
    "session.query(map_class_name).filter(bool_condition)\n",
    "```\n",
    "\n",
    "The bool_condition can be combined with `and_(cond1,cond2)`, `or_(cond1,cond2)`\n"
   ],
   "metadata": {
    "collapsed": false
   }
  },
  {
   "cell_type": "code",
   "execution_count": 32,
   "outputs": [
    {
     "name": "stdout",
     "output_type": "stream",
     "text": [
      "2022-12-12 15:50:30,677 INFO sqlalchemy.engine.Engine BEGIN (implicit)\n",
      "2022-12-12 15:50:30,687 INFO sqlalchemy.engine.Engine SELECT cohort.id AS cohort_id, cohort.cname AS cohort_cname \n",
      "FROM cohort \n",
      "WHERE cohort.id >= ?\n",
      "2022-12-12 15:50:30,701 INFO sqlalchemy.engine.Engine [generated in 0.01361s] (0,)\n",
      "Id:  0 , Name:  breast_cancer\n",
      "Id:  1 , Name:  colon_cancer\n",
      "Id:  2 , Name:  HIS\n",
      "Id:  3 , Name:  Hyper_tension\n"
     ]
    }
   ],
   "source": [
    "result = session.query(Cohort).filter(Cohort.id>=0)\n",
    "for row in result:\n",
    "    print(\"Id: \", row.id, \"Name: \", row.cname)"
   ],
   "metadata": {
    "collapsed": false
   }
  },
  {
   "cell_type": "code",
   "execution_count": 33,
   "outputs": [
    {
     "name": "stdout",
     "output_type": "stream",
     "text": [
      "2022-12-12 15:51:31,607 INFO sqlalchemy.engine.Engine SELECT cohort.id AS cohort_id, cohort.cname AS cohort_cname \n",
      "FROM cohort \n",
      "WHERE cohort.id = ?\n",
      "2022-12-12 15:51:31,608 INFO sqlalchemy.engine.Engine [generated in 0.00181s] (3,)\n",
      "Id:  3 Name:  Hyper_tension\n"
     ]
    }
   ],
   "source": [
    "result = session.query(Cohort).filter(Cohort.id==3)\n",
    "for row in result:\n",
    "    print(\"Id: \", row.id, \"Name: \", row.cname)"
   ],
   "metadata": {
    "collapsed": false
   }
  },
  {
   "cell_type": "code",
   "execution_count": 35,
   "outputs": [
    {
     "name": "stdout",
     "output_type": "stream",
     "text": [
      "2022-12-12 15:53:32,501 INFO sqlalchemy.engine.Engine SELECT cohort.id AS cohort_id, cohort.cname AS cohort_cname \n",
      "FROM cohort \n",
      "WHERE cohort.cname LIKE ?\n",
      "2022-12-12 15:53:32,504 INFO sqlalchemy.engine.Engine [cached since 34.35s ago] ('%_cancer',)\n",
      "Id:  0 Name:  breast_cancer\n",
      "Id:  1 Name:  colon_cancer\n"
     ]
    }
   ],
   "source": [
    "# like operator on string column\n",
    "result = session.query(Cohort).filter(Cohort.cname.like(\"%_cancer\"))\n",
    "for row in result:\n",
    "    print(\"Id: \", row.id, \"Name: \", row.cname)"
   ],
   "metadata": {
    "collapsed": false
   }
  },
  {
   "cell_type": "code",
   "execution_count": 36,
   "outputs": [
    {
     "name": "stdout",
     "output_type": "stream",
     "text": [
      "2022-12-12 15:55:05,411 INFO sqlalchemy.engine.Engine SELECT cohort.id AS cohort_id, cohort.cname AS cohort_cname \n",
      "FROM cohort \n",
      "WHERE cohort.id IN (?, ?)\n",
      "2022-12-12 15:55:05,412 INFO sqlalchemy.engine.Engine [generated in 0.00134s] (1, 2)\n",
      "Id:  1 Name:  colon_cancer\n",
      "Id:  2 Name:  HIS\n"
     ]
    }
   ],
   "source": [
    "# use IN operator to match values in a list\n",
    "result = session.query(Cohort).filter(Cohort.id.in_([1,2]))\n",
    "for row in result:\n",
    "    print(\"Id: \", row.id, \"Name: \", row.cname)"
   ],
   "metadata": {
    "collapsed": false
   }
  },
  {
   "cell_type": "code",
   "execution_count": 38,
   "outputs": [
    {
     "name": "stdout",
     "output_type": "stream",
     "text": [
      "2022-12-12 16:05:56,431 INFO sqlalchemy.engine.Engine SELECT cohort.id AS cohort_id, cohort.cname AS cohort_cname \n",
      "FROM cohort \n",
      "WHERE cohort.id != ? AND cohort.cname LIKE ?\n",
      "2022-12-12 16:05:56,441 INFO sqlalchemy.engine.Engine [generated in 0.00991s] (0, '%_cancer')\n",
      "Id:  1 Name:  colon_cancer\n"
     ]
    }
   ],
   "source": [
    "from sqlalchemy import and_\n",
    "\n",
    "# multiple condition\n",
    "result = session.query(Cohort).filter(and_(Cohort.id!=0,Cohort.cname.like(\"%_cancer\")))\n",
    "for row in result:\n",
    "    print(\"Id: \", row.id, \"Name: \", row.cname)"
   ],
   "metadata": {
    "collapsed": false
   }
  },
  {
   "cell_type": "markdown",
   "source": [
    "### 3.2.5 Working with joins\n",
    "\n",
    "The JOIN operation is easily achieved using the **Query.join()** method"
   ],
   "metadata": {
    "collapsed": false
   }
  },
  {
   "cell_type": "code",
   "execution_count": 40,
   "outputs": [
    {
     "name": "stdout",
     "output_type": "stream",
     "text": [
      "2022-12-12 16:12:21,327 INFO sqlalchemy.engine.Engine SELECT cohort.id AS cohort_id, cohort.cname AS cohort_cname \n",
      "FROM cohort JOIN dataset ON cohort.id = dataset.cohort_id\n",
      "2022-12-12 16:12:21,336 INFO sqlalchemy.engine.Engine [cached since 154.9s ago] ()\n",
      "<__main__.Cohort object at 0x7fc161f91190>\n",
      "Id:  0 Name:  breast_cancer\n"
     ]
    }
   ],
   "source": [
    "result=session.query(Cohort).join(Dataset).all()\n",
    "for row in result:\n",
    "    print(row)\n",
    "    print(\"Id: \", row.id, \"Name: \", row.cname)"
   ],
   "metadata": {
    "collapsed": false
   }
  },
  {
   "cell_type": "markdown",
   "source": [
    "In the above code, we just"
   ],
   "metadata": {
    "collapsed": false
   }
  }
 ],
 "metadata": {
  "kernelspec": {
   "display_name": "Python 3",
   "language": "python",
   "name": "python3"
  },
  "language_info": {
   "codemirror_mode": {
    "name": "ipython",
    "version": 2
   },
   "file_extension": ".py",
   "mimetype": "text/x-python",
   "name": "python",
   "nbconvert_exporter": "python",
   "pygments_lexer": "ipython2",
   "version": "2.7.6"
  }
 },
 "nbformat": 4,
 "nbformat_minor": 0
}
