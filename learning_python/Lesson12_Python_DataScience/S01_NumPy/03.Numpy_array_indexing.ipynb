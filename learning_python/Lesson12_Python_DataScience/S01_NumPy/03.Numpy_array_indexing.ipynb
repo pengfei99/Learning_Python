{
 "cells": [
  {
   "cell_type": "markdown",
   "source": [
    "# 3. NumPy Array Indexing and Slicing\n",
    "\n",
    "Like a list, you can use the square bracket notation ([]) and index to access elements of a numpy array.\n",
    "\n",
    "## 3.1 1-D array indexing\n",
    "\n",
    "For a 1-D array, it's similar to python built-in list. `The first element starts with index 0, the second element starts with index 1, and so on. the last element has an index -1, the second last element has an index -2, and so on`."
   ],
   "metadata": {
    "collapsed": false
   }
  },
  {
   "cell_type": "code",
   "execution_count": 1,
   "outputs": [],
   "source": [
    "import numpy as np"
   ],
   "metadata": {
    "collapsed": false
   }
  },
  {
   "cell_type": "code",
   "execution_count": 3,
   "outputs": [],
   "source": [
    "a=np.arange(0,5)"
   ],
   "metadata": {
    "collapsed": false
   }
  },
  {
   "cell_type": "code",
   "execution_count": 4,
   "outputs": [
    {
     "name": "stdout",
     "output_type": "stream",
     "text": [
      "[0 1 2 3 4]\n"
     ]
    }
   ],
   "source": [
    "print(a)"
   ],
   "metadata": {
    "collapsed": false
   }
  },
  {
   "cell_type": "code",
   "execution_count": 5,
   "outputs": [
    {
     "name": "stdout",
     "output_type": "stream",
     "text": [
      "0\n",
      "4\n"
     ]
    }
   ],
   "source": [
    "print(a[0])\n",
    "print(a[4])\n",
    "\n"
   ],
   "metadata": {
    "collapsed": false
   }
  },
  {
   "cell_type": "code",
   "execution_count": 7,
   "outputs": [
    {
     "name": "stdout",
     "output_type": "stream",
     "text": [
      "0\n",
      "4\n"
     ]
    }
   ],
   "source": [
    "print(a[-5])\n",
    "print(a[-1])"
   ],
   "metadata": {
    "collapsed": false
   }
  },
  {
   "cell_type": "markdown",
   "source": [
    "## 3.1 2-D array indexing\n",
    "\n",
    "With 2-D and multidimensional arrays, you can select elements as you do with 1-D arrays but for each dimension (or axis)."
   ],
   "metadata": {
    "collapsed": false
   }
  },
  {
   "cell_type": "code",
   "execution_count": 9,
   "outputs": [
    {
     "name": "stdout",
     "output_type": "stream",
     "text": [
      "(2, 3)\n"
     ]
    }
   ],
   "source": [
    "a = np.array([\n",
    "    [1, 2, 3],\n",
    "    [4, 5, 6]\n",
    "])\n",
    "\n",
    "print(a.shape)"
   ],
   "metadata": {
    "collapsed": false
   }
  },
  {
   "cell_type": "code",
   "execution_count": 10,
   "outputs": [
    {
     "name": "stdout",
     "output_type": "stream",
     "text": [
      "[1 2 3]\n",
      "[4 5 6]\n"
     ]
    }
   ],
   "source": [
    "# returns the first element of the first axis\n",
    "print(a[0])  # [1 2 3]\n",
    "\n",
    "# returns the second element of the first axis\n",
    "print(a[1])  # [4 5 6]"
   ],
   "metadata": {
    "collapsed": false
   }
  },
  {
   "cell_type": "code",
   "execution_count": 11,
   "outputs": [
    {
     "name": "stdout",
     "output_type": "stream",
     "text": [
      "1\n",
      "4\n",
      "3\n",
      "6\n",
      "3\n",
      "6\n"
     ]
    }
   ],
   "source": [
    "# selects the first element of the first axis ([1 2 3]) and the first element of the second axis.\n",
    "print(a[0, 0])  # 1\n",
    "# 1 selects the second element of the first axis ([4 5 6]) and 0 selects the first element of the second axis.\n",
    "print(a[1, 0])  # 4\n",
    "# 0 selects the first element of the first axis ([1 2 3]) axis and 2 selects the third element of the second axis.\n",
    "print(a[0, 2])  # 3\n",
    "# 1 selects the second element of the first axis ([4 5 6]) and 2 selects the third element of the second axis.\n",
    "print(a[1, 2])  # 6\n",
    "# 0 selects the first element of the first axis ([1 2 3]) and -1 selects the last element of the second axis.\n",
    "print(a[0, -1])  # 3\n",
    "# 1 selects the second element of the first axis ([1 2 3]) and -1 selects the last element of the second axis.\n",
    "print(a[1, -1])  # 6"
   ],
   "metadata": {
    "collapsed": false
   }
  },
  {
   "cell_type": "markdown",
   "source": [
    "## 3-D array indexing"
   ],
   "metadata": {
    "collapsed": false
   }
  },
  {
   "cell_type": "code",
   "execution_count": 12,
   "outputs": [
    {
     "name": "stdout",
     "output_type": "stream",
     "text": [
      "(2, 3, 2)\n"
     ]
    }
   ],
   "source": [
    "a = np.array([\n",
    "    [[1, 2], [3, 4], [5, 6]],\n",
    "    [[5, 6], [7, 8], [9, 10]],\n",
    "])\n",
    "\n",
    "print(a.shape)"
   ],
   "metadata": {
    "collapsed": false
   }
  },
  {
   "cell_type": "code",
   "execution_count": 13,
   "outputs": [
    {
     "name": "stdout",
     "output_type": "stream",
     "text": [
      "2\n"
     ]
    }
   ],
   "source": [
    "print(a[0, 0, 1])"
   ],
   "metadata": {
    "collapsed": false
   }
  },
  {
   "cell_type": "code",
   "execution_count": null,
   "outputs": [],
   "source": [],
   "metadata": {
    "collapsed": false
   }
  }
 ],
 "metadata": {
  "kernelspec": {
   "display_name": "Python 3",
   "language": "python",
   "name": "python3"
  },
  "language_info": {
   "codemirror_mode": {
    "name": "ipython",
    "version": 2
   },
   "file_extension": ".py",
   "mimetype": "text/x-python",
   "name": "python",
   "nbconvert_exporter": "python",
   "pygments_lexer": "ipython2",
   "version": "2.7.6"
  }
 },
 "nbformat": 4,
 "nbformat_minor": 0
}
