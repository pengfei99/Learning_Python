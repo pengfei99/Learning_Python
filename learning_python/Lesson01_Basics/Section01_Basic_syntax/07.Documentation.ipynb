{
 "cells": [
  {
   "cell_type": "markdown",
   "metadata": {
    "collapsed": true
   },
   "source": [
    "# 7. Documentation\n",
    "\n",
    "Documenting your python code is the best way to make your code understandable and usable by others.\n",
    "\n",
    "In this lesson, we will talk about\n",
    "- docstrings basics\n",
    "- type hinting\n",
    "- documenting a project\n",
    "- doctest"
   ]
  },
  {
   "cell_type": "markdown",
   "source": [
    "## 7.1 Docstrings\n",
    "\n",
    "In python, we use **Docstrings** to document the code. In this section, we will discuss below topics:\n",
    "\n",
    "- **Docstrings Background**: A background on how docstrings work internally within Python\n",
    "- **Docstring Types**: The various docstring “types” (function, class, class method, module, package, and script)\n",
    "- **Docstring Formats**: The different docstring “formats” (Google, NumPy/SciPy, reStructuredText, and Epytext)"
   ],
   "metadata": {
    "collapsed": false
   }
  },
  {
   "cell_type": "markdown",
   "source": [
    "### 7.1.1 Docstrings Background\n",
    "\n",
    "**docstrings** are built-in strings that, when configured correctly, can help your users and yourself with your project’s documentation. Along with docstrings, Python also has the built-in function help() that prints out the objects docstring to the console. Here’s a quick example:"
   ],
   "metadata": {
    "collapsed": false
   }
  },
  {
   "cell_type": "code",
   "execution_count": 1,
   "outputs": [
    {
     "name": "stdout",
     "output_type": "stream",
     "text": [
      "Help on class str in module builtins:\n",
      "\n",
      "class str(object)\n",
      " |  str(object='') -> str\n",
      " |  str(bytes_or_buffer[, encoding[, errors]]) -> str\n",
      " |  \n",
      " |  Create a new string object from the given object. If encoding or\n",
      " |  errors is specified, then the object must expose a data buffer\n",
      " |  that will be decoded using the given encoding and error handler.\n",
      " |  Otherwise, returns the result of object.__str__() (if defined)\n",
      " |  or repr(object).\n",
      " |  encoding defaults to sys.getdefaultencoding().\n",
      " |  errors defaults to 'strict'.\n",
      " |  \n",
      " |  Methods defined here:\n",
      " |  \n",
      " |  __add__(self, value, /)\n",
      " |      Return self+value.\n",
      " |  \n",
      " |  __contains__(self, key, /)\n",
      " |      Return key in self.\n",
      " |  \n",
      " |  __eq__(self, value, /)\n",
      " |      Return self==value.\n",
      " |  \n",
      " |  __format__(self, format_spec, /)\n",
      " |      Return a formatted version of the string as described by format_spec.\n",
      " |  \n",
      " |  __ge__(self, value, /)\n",
      " |      Return self>=value.\n",
      " |  \n",
      " |  __getattribute__(self, name, /)\n",
      " |      Return getattr(self, name).\n",
      " |  \n",
      " |  __getitem__(self, key, /)\n",
      " |      Return self[key].\n",
      " |  \n",
      " |  __getnewargs__(...)\n",
      " |  \n",
      " |  __gt__(self, value, /)\n",
      " |      Return self>value.\n",
      " |  \n",
      " |  __hash__(self, /)\n",
      " |      Return hash(self).\n",
      " |  \n",
      " |  __iter__(self, /)\n",
      " |      Implement iter(self).\n",
      " |  \n",
      " |  __le__(self, value, /)\n",
      " |      Return self<=value.\n",
      " |  \n",
      " |  __len__(self, /)\n",
      " |      Return len(self).\n",
      " |  \n",
      " |  __lt__(self, value, /)\n",
      " |      Return self<value.\n",
      " |  \n",
      " |  __mod__(self, value, /)\n",
      " |      Return self%value.\n",
      " |  \n",
      " |  __mul__(self, value, /)\n",
      " |      Return self*value.\n",
      " |  \n",
      " |  __ne__(self, value, /)\n",
      " |      Return self!=value.\n",
      " |  \n",
      " |  __repr__(self, /)\n",
      " |      Return repr(self).\n",
      " |  \n",
      " |  __rmod__(self, value, /)\n",
      " |      Return value%self.\n",
      " |  \n",
      " |  __rmul__(self, value, /)\n",
      " |      Return value*self.\n",
      " |  \n",
      " |  __sizeof__(self, /)\n",
      " |      Return the size of the string in memory, in bytes.\n",
      " |  \n",
      " |  __str__(self, /)\n",
      " |      Return str(self).\n",
      " |  \n",
      " |  capitalize(self, /)\n",
      " |      Return a capitalized version of the string.\n",
      " |      \n",
      " |      More specifically, make the first character have upper case and the rest lower\n",
      " |      case.\n",
      " |  \n",
      " |  casefold(self, /)\n",
      " |      Return a version of the string suitable for caseless comparisons.\n",
      " |  \n",
      " |  center(self, width, fillchar=' ', /)\n",
      " |      Return a centered string of length width.\n",
      " |      \n",
      " |      Padding is done using the specified fill character (default is a space).\n",
      " |  \n",
      " |  count(...)\n",
      " |      S.count(sub[, start[, end]]) -> int\n",
      " |      \n",
      " |      Return the number of non-overlapping occurrences of substring sub in\n",
      " |      string S[start:end].  Optional arguments start and end are\n",
      " |      interpreted as in slice notation.\n",
      " |  \n",
      " |  encode(self, /, encoding='utf-8', errors='strict')\n",
      " |      Encode the string using the codec registered for encoding.\n",
      " |      \n",
      " |      encoding\n",
      " |        The encoding in which to encode the string.\n",
      " |      errors\n",
      " |        The error handling scheme to use for encoding errors.\n",
      " |        The default is 'strict' meaning that encoding errors raise a\n",
      " |        UnicodeEncodeError.  Other possible values are 'ignore', 'replace' and\n",
      " |        'xmlcharrefreplace' as well as any other name registered with\n",
      " |        codecs.register_error that can handle UnicodeEncodeErrors.\n",
      " |  \n",
      " |  endswith(...)\n",
      " |      S.endswith(suffix[, start[, end]]) -> bool\n",
      " |      \n",
      " |      Return True if S ends with the specified suffix, False otherwise.\n",
      " |      With optional start, test S beginning at that position.\n",
      " |      With optional end, stop comparing S at that position.\n",
      " |      suffix can also be a tuple of strings to try.\n",
      " |  \n",
      " |  expandtabs(self, /, tabsize=8)\n",
      " |      Return a copy where all tab characters are expanded using spaces.\n",
      " |      \n",
      " |      If tabsize is not given, a tab size of 8 characters is assumed.\n",
      " |  \n",
      " |  find(...)\n",
      " |      S.find(sub[, start[, end]]) -> int\n",
      " |      \n",
      " |      Return the lowest index in S where substring sub is found,\n",
      " |      such that sub is contained within S[start:end].  Optional\n",
      " |      arguments start and end are interpreted as in slice notation.\n",
      " |      \n",
      " |      Return -1 on failure.\n",
      " |  \n",
      " |  format(...)\n",
      " |      S.format(*args, **kwargs) -> str\n",
      " |      \n",
      " |      Return a formatted version of S, using substitutions from args and kwargs.\n",
      " |      The substitutions are identified by braces ('{' and '}').\n",
      " |  \n",
      " |  format_map(...)\n",
      " |      S.format_map(mapping) -> str\n",
      " |      \n",
      " |      Return a formatted version of S, using substitutions from mapping.\n",
      " |      The substitutions are identified by braces ('{' and '}').\n",
      " |  \n",
      " |  index(...)\n",
      " |      S.index(sub[, start[, end]]) -> int\n",
      " |      \n",
      " |      Return the lowest index in S where substring sub is found,\n",
      " |      such that sub is contained within S[start:end].  Optional\n",
      " |      arguments start and end are interpreted as in slice notation.\n",
      " |      \n",
      " |      Raises ValueError when the substring is not found.\n",
      " |  \n",
      " |  isalnum(self, /)\n",
      " |      Return True if the string is an alpha-numeric string, False otherwise.\n",
      " |      \n",
      " |      A string is alpha-numeric if all characters in the string are alpha-numeric and\n",
      " |      there is at least one character in the string.\n",
      " |  \n",
      " |  isalpha(self, /)\n",
      " |      Return True if the string is an alphabetic string, False otherwise.\n",
      " |      \n",
      " |      A string is alphabetic if all characters in the string are alphabetic and there\n",
      " |      is at least one character in the string.\n",
      " |  \n",
      " |  isascii(self, /)\n",
      " |      Return True if all characters in the string are ASCII, False otherwise.\n",
      " |      \n",
      " |      ASCII characters have code points in the range U+0000-U+007F.\n",
      " |      Empty string is ASCII too.\n",
      " |  \n",
      " |  isdecimal(self, /)\n",
      " |      Return True if the string is a decimal string, False otherwise.\n",
      " |      \n",
      " |      A string is a decimal string if all characters in the string are decimal and\n",
      " |      there is at least one character in the string.\n",
      " |  \n",
      " |  isdigit(self, /)\n",
      " |      Return True if the string is a digit string, False otherwise.\n",
      " |      \n",
      " |      A string is a digit string if all characters in the string are digits and there\n",
      " |      is at least one character in the string.\n",
      " |  \n",
      " |  isidentifier(self, /)\n",
      " |      Return True if the string is a valid Python identifier, False otherwise.\n",
      " |      \n",
      " |      Call keyword.iskeyword(s) to test whether string s is a reserved identifier,\n",
      " |      such as \"def\" or \"class\".\n",
      " |  \n",
      " |  islower(self, /)\n",
      " |      Return True if the string is a lowercase string, False otherwise.\n",
      " |      \n",
      " |      A string is lowercase if all cased characters in the string are lowercase and\n",
      " |      there is at least one cased character in the string.\n",
      " |  \n",
      " |  isnumeric(self, /)\n",
      " |      Return True if the string is a numeric string, False otherwise.\n",
      " |      \n",
      " |      A string is numeric if all characters in the string are numeric and there is at\n",
      " |      least one character in the string.\n",
      " |  \n",
      " |  isprintable(self, /)\n",
      " |      Return True if the string is printable, False otherwise.\n",
      " |      \n",
      " |      A string is printable if all of its characters are considered printable in\n",
      " |      repr() or if it is empty.\n",
      " |  \n",
      " |  isspace(self, /)\n",
      " |      Return True if the string is a whitespace string, False otherwise.\n",
      " |      \n",
      " |      A string is whitespace if all characters in the string are whitespace and there\n",
      " |      is at least one character in the string.\n",
      " |  \n",
      " |  istitle(self, /)\n",
      " |      Return True if the string is a title-cased string, False otherwise.\n",
      " |      \n",
      " |      In a title-cased string, upper- and title-case characters may only\n",
      " |      follow uncased characters and lowercase characters only cased ones.\n",
      " |  \n",
      " |  isupper(self, /)\n",
      " |      Return True if the string is an uppercase string, False otherwise.\n",
      " |      \n",
      " |      A string is uppercase if all cased characters in the string are uppercase and\n",
      " |      there is at least one cased character in the string.\n",
      " |  \n",
      " |  join(self, iterable, /)\n",
      " |      Concatenate any number of strings.\n",
      " |      \n",
      " |      The string whose method is called is inserted in between each given string.\n",
      " |      The result is returned as a new string.\n",
      " |      \n",
      " |      Example: '.'.join(['ab', 'pq', 'rs']) -> 'ab.pq.rs'\n",
      " |  \n",
      " |  ljust(self, width, fillchar=' ', /)\n",
      " |      Return a left-justified string of length width.\n",
      " |      \n",
      " |      Padding is done using the specified fill character (default is a space).\n",
      " |  \n",
      " |  lower(self, /)\n",
      " |      Return a copy of the string converted to lowercase.\n",
      " |  \n",
      " |  lstrip(self, chars=None, /)\n",
      " |      Return a copy of the string with leading whitespace removed.\n",
      " |      \n",
      " |      If chars is given and not None, remove characters in chars instead.\n",
      " |  \n",
      " |  partition(self, sep, /)\n",
      " |      Partition the string into three parts using the given separator.\n",
      " |      \n",
      " |      This will search for the separator in the string.  If the separator is found,\n",
      " |      returns a 3-tuple containing the part before the separator, the separator\n",
      " |      itself, and the part after it.\n",
      " |      \n",
      " |      If the separator is not found, returns a 3-tuple containing the original string\n",
      " |      and two empty strings.\n",
      " |  \n",
      " |  replace(self, old, new, count=-1, /)\n",
      " |      Return a copy with all occurrences of substring old replaced by new.\n",
      " |      \n",
      " |        count\n",
      " |          Maximum number of occurrences to replace.\n",
      " |          -1 (the default value) means replace all occurrences.\n",
      " |      \n",
      " |      If the optional argument count is given, only the first count occurrences are\n",
      " |      replaced.\n",
      " |  \n",
      " |  rfind(...)\n",
      " |      S.rfind(sub[, start[, end]]) -> int\n",
      " |      \n",
      " |      Return the highest index in S where substring sub is found,\n",
      " |      such that sub is contained within S[start:end].  Optional\n",
      " |      arguments start and end are interpreted as in slice notation.\n",
      " |      \n",
      " |      Return -1 on failure.\n",
      " |  \n",
      " |  rindex(...)\n",
      " |      S.rindex(sub[, start[, end]]) -> int\n",
      " |      \n",
      " |      Return the highest index in S where substring sub is found,\n",
      " |      such that sub is contained within S[start:end].  Optional\n",
      " |      arguments start and end are interpreted as in slice notation.\n",
      " |      \n",
      " |      Raises ValueError when the substring is not found.\n",
      " |  \n",
      " |  rjust(self, width, fillchar=' ', /)\n",
      " |      Return a right-justified string of length width.\n",
      " |      \n",
      " |      Padding is done using the specified fill character (default is a space).\n",
      " |  \n",
      " |  rpartition(self, sep, /)\n",
      " |      Partition the string into three parts using the given separator.\n",
      " |      \n",
      " |      This will search for the separator in the string, starting at the end. If\n",
      " |      the separator is found, returns a 3-tuple containing the part before the\n",
      " |      separator, the separator itself, and the part after it.\n",
      " |      \n",
      " |      If the separator is not found, returns a 3-tuple containing two empty strings\n",
      " |      and the original string.\n",
      " |  \n",
      " |  rsplit(self, /, sep=None, maxsplit=-1)\n",
      " |      Return a list of the words in the string, using sep as the delimiter string.\n",
      " |      \n",
      " |        sep\n",
      " |          The delimiter according which to split the string.\n",
      " |          None (the default value) means split according to any whitespace,\n",
      " |          and discard empty strings from the result.\n",
      " |        maxsplit\n",
      " |          Maximum number of splits to do.\n",
      " |          -1 (the default value) means no limit.\n",
      " |      \n",
      " |      Splits are done starting at the end of the string and working to the front.\n",
      " |  \n",
      " |  rstrip(self, chars=None, /)\n",
      " |      Return a copy of the string with trailing whitespace removed.\n",
      " |      \n",
      " |      If chars is given and not None, remove characters in chars instead.\n",
      " |  \n",
      " |  split(self, /, sep=None, maxsplit=-1)\n",
      " |      Return a list of the words in the string, using sep as the delimiter string.\n",
      " |      \n",
      " |      sep\n",
      " |        The delimiter according which to split the string.\n",
      " |        None (the default value) means split according to any whitespace,\n",
      " |        and discard empty strings from the result.\n",
      " |      maxsplit\n",
      " |        Maximum number of splits to do.\n",
      " |        -1 (the default value) means no limit.\n",
      " |  \n",
      " |  splitlines(self, /, keepends=False)\n",
      " |      Return a list of the lines in the string, breaking at line boundaries.\n",
      " |      \n",
      " |      Line breaks are not included in the resulting list unless keepends is given and\n",
      " |      true.\n",
      " |  \n",
      " |  startswith(...)\n",
      " |      S.startswith(prefix[, start[, end]]) -> bool\n",
      " |      \n",
      " |      Return True if S starts with the specified prefix, False otherwise.\n",
      " |      With optional start, test S beginning at that position.\n",
      " |      With optional end, stop comparing S at that position.\n",
      " |      prefix can also be a tuple of strings to try.\n",
      " |  \n",
      " |  strip(self, chars=None, /)\n",
      " |      Return a copy of the string with leading and trailing whitespace removed.\n",
      " |      \n",
      " |      If chars is given and not None, remove characters in chars instead.\n",
      " |  \n",
      " |  swapcase(self, /)\n",
      " |      Convert uppercase characters to lowercase and lowercase characters to uppercase.\n",
      " |  \n",
      " |  title(self, /)\n",
      " |      Return a version of the string where each word is titlecased.\n",
      " |      \n",
      " |      More specifically, words start with uppercased characters and all remaining\n",
      " |      cased characters have lower case.\n",
      " |  \n",
      " |  translate(self, table, /)\n",
      " |      Replace each character in the string using the given translation table.\n",
      " |      \n",
      " |        table\n",
      " |          Translation table, which must be a mapping of Unicode ordinals to\n",
      " |          Unicode ordinals, strings, or None.\n",
      " |      \n",
      " |      The table must implement lookup/indexing via __getitem__, for instance a\n",
      " |      dictionary or list.  If this operation raises LookupError, the character is\n",
      " |      left untouched.  Characters mapped to None are deleted.\n",
      " |  \n",
      " |  upper(self, /)\n",
      " |      Return a copy of the string converted to uppercase.\n",
      " |  \n",
      " |  zfill(self, width, /)\n",
      " |      Pad a numeric string with zeros on the left, to fill a field of the given width.\n",
      " |      \n",
      " |      The string is never truncated.\n",
      " |  \n",
      " |  ----------------------------------------------------------------------\n",
      " |  Static methods defined here:\n",
      " |  \n",
      " |  __new__(*args, **kwargs) from builtins.type\n",
      " |      Create and return a new object.  See help(type) for accurate signature.\n",
      " |  \n",
      " |  maketrans(...)\n",
      " |      Return a translation table usable for str.translate().\n",
      " |      \n",
      " |      If there is only one argument, it must be a dictionary mapping Unicode\n",
      " |      ordinals (integers) or characters to Unicode ordinals, strings or None.\n",
      " |      Character keys will be then converted to ordinals.\n",
      " |      If there are two arguments, they must be strings of equal length, and\n",
      " |      in the resulting dictionary, each character in x will be mapped to the\n",
      " |      character at the same position in y. If there is a third argument, it\n",
      " |      must be a string, whose characters will be mapped to None in the result.\n",
      "\n"
     ]
    }
   ],
   "source": [
    "# this function returns the docstrings of the class str\n",
    "help(str)"
   ],
   "metadata": {
    "collapsed": false
   }
  },
  {
   "cell_type": "markdown",
   "source": [
    "Another way to get the class docstrings. Since everything in Python is an object, you can examine the directory of the object using the **dir()** command. You will find an interesting property __doc__."
   ],
   "metadata": {
    "collapsed": false
   }
  },
  {
   "cell_type": "code",
   "execution_count": 2,
   "outputs": [
    {
     "data": {
      "text/plain": "['__add__',\n '__class__',\n '__contains__',\n '__delattr__',\n '__dir__',\n '__doc__',\n '__eq__',\n '__format__',\n '__ge__',\n '__getattribute__',\n '__getitem__',\n '__getnewargs__',\n '__gt__',\n '__hash__',\n '__init__',\n '__init_subclass__',\n '__iter__',\n '__le__',\n '__len__',\n '__lt__',\n '__mod__',\n '__mul__',\n '__ne__',\n '__new__',\n '__reduce__',\n '__reduce_ex__',\n '__repr__',\n '__rmod__',\n '__rmul__',\n '__setattr__',\n '__sizeof__',\n '__str__',\n '__subclasshook__',\n 'capitalize',\n 'casefold',\n 'center',\n 'count',\n 'encode',\n 'endswith',\n 'expandtabs',\n 'find',\n 'format',\n 'format_map',\n 'index',\n 'isalnum',\n 'isalpha',\n 'isascii',\n 'isdecimal',\n 'isdigit',\n 'isidentifier',\n 'islower',\n 'isnumeric',\n 'isprintable',\n 'isspace',\n 'istitle',\n 'isupper',\n 'join',\n 'ljust',\n 'lower',\n 'lstrip',\n 'maketrans',\n 'partition',\n 'replace',\n 'rfind',\n 'rindex',\n 'rjust',\n 'rpartition',\n 'rsplit',\n 'rstrip',\n 'split',\n 'splitlines',\n 'startswith',\n 'strip',\n 'swapcase',\n 'title',\n 'translate',\n 'upper',\n 'zfill']"
     },
     "execution_count": 2,
     "metadata": {},
     "output_type": "execute_result"
    }
   ],
   "source": [
    "dir(str)"
   ],
   "metadata": {
    "collapsed": false
   }
  },
  {
   "cell_type": "code",
   "execution_count": 3,
   "outputs": [
    {
     "name": "stdout",
     "output_type": "stream",
     "text": [
      "str(object='') -> str\n",
      "str(bytes_or_buffer[, encoding[, errors]]) -> str\n",
      "\n",
      "Create a new string object from the given object. If encoding or\n",
      "errors is specified, then the object must expose a data buffer\n",
      "that will be decoded using the given encoding and error handler.\n",
      "Otherwise, returns the result of object.__str__() (if defined)\n",
      "or repr(object).\n",
      "encoding defaults to sys.getdefaultencoding().\n",
      "errors defaults to 'strict'.\n"
     ]
    }
   ],
   "source": [
    "# let's print the __doc__\n",
    "\n",
    "print(str.__doc__)"
   ],
   "metadata": {
    "collapsed": false
   }
  },
  {
   "cell_type": "markdown",
   "source": [
    "You can find that the output are the same as `help(str)`. It means docstrings are stored within the object. This means that you can directly manipulate that property. However, there are restrictions for builtins classes. But you can change docstrings of any other custom objects.\n",
    "\n",
    "Below is an example"
   ],
   "metadata": {
    "collapsed": false
   }
  },
  {
   "cell_type": "code",
   "execution_count": 5,
   "outputs": [
    {
     "name": "stdout",
     "output_type": "stream",
     "text": [
      "Help on function say_hello in module __main__:\n",
      "\n",
      "say_hello(name: str)\n",
      "    A simple function that says hello... Richie style\n",
      "\n"
     ]
    }
   ],
   "source": [
    "def say_hello(name:str):\n",
    "    print(f\"Hello {name}, is it me you're looking for?\")\n",
    "\n",
    "say_hello.__doc__ = \"A simple function that says hello... Richie style\"\n",
    "\n",
    "help(say_hello)"
   ],
   "metadata": {
    "collapsed": false
   }
  },
  {
   "cell_type": "markdown",
   "source": [
    "Python has one more feature that simplifies docstring creation. **Instead of directly manipulating the __doc__ property, the strategic placement of the string literal directly below the object will automatically set the __doc__ value**. Here’s what happens with the same example as above:"
   ],
   "metadata": {
    "collapsed": false
   }
  },
  {
   "cell_type": "code",
   "execution_count": 6,
   "outputs": [
    {
     "name": "stdout",
     "output_type": "stream",
     "text": [
      "Help on function say_hello in module __main__:\n",
      "\n",
      "say_hello(name: str)\n",
      "    This function use auto docstrings as base documentations\n",
      "\n"
     ]
    }
   ],
   "source": [
    "def say_hello(name:str):\n",
    "    \"\"\" This function use auto docstrings as base documentations\"\"\"\n",
    "    print(f\"Hello {name}, is it me you're looking for?\")\n",
    "\n",
    "help(say_hello)"
   ],
   "metadata": {
    "collapsed": false
   }
  },
  {
   "cell_type": "markdown",
   "source": [
    "### 7.1.2 Docstring Types\n",
    "\n",
    "Docstring conventions are described within [PEP 257](https://peps.python.org/pep-0257/). In all cases, **the docstrings should use the triple-double quote (\"\"\") string format**. This should be done whether the docstring is multi-lined or not.\n",
    "\n",
    "At a `bare minimum`, a docstring should be a quick summary of whatever is it you’re describing and should be contained within a single line.\n",
    "\n",
    "We highly recommend **Multi-lined** docstrings which has the following parts:\n",
    "- A one-line summary line\n",
    "- A blank line proceeding the summary\n",
    "- Any further elaboration for the docstring\n",
    "- Another blank line\n",
    "\n",
    "Below is an example:\n",
    "\n",
    "```python\n",
    "\"\"\"This is the summary line\n",
    "\n",
    "This is the further elaboration of the docstring. Within this section,\n",
    "you can elaborate further on details as appropriate for the situation.\n",
    "Notice that the summary and the elaboration is separated by a blank new\n",
    "line.\n",
    "\"\"\"\n",
    "\n",
    "# Notice the blank line above. Code should continue on this line.\n",
    "\n",
    "```\n",
    "\n",
    "`All docstrings should have the same max character length as comments (72 characters)`. Docstrings can be further broken up into three major categories:\n",
    "\n",
    "- **Class Docstrings**: Class and class methods\n",
    "- **Package and Module Docstrings**: Package, modules, and functions\n",
    "- **Script Docstrings**: Script and functions"
   ],
   "metadata": {
    "collapsed": false
   }
  },
  {
   "cell_type": "markdown",
   "source": [
    "#### 7.1.2.1 Class Docstrings\n",
    "\n",
    "Class Docstrings are created for the class itself, as well as any class methods. The docstrings are placed immediately following the class or class method indented by one level:\n",
    "\n",
    "Class docstrings should contain the following information:\n",
    "\n",
    "- A brief summary of its purpose and behavior\n",
    "- Any public methods, along with a brief description\n",
    "- Any class properties (attributes)\n",
    "- Anything related to the `interface` for subclassers, if the class is intended to be subclassed\n",
    "\n",
    "\n",
    "The **class constructor parameters should be documented within the __init__ class method** docstring. Individual methods should be documented using their individual docstrings. Class method docstrings should contain the following:\n",
    "\n",
    "- A brief description of what the method is and what it’s used for\n",
    "- Any arguments (both required and optional) that are passed including keyword arguments\n",
    "- Label any arguments that are considered optional or have a default value\n",
    "- Any side effects that occur when executing the method\n",
    "- Any exceptions that are raised\n",
    "- Any restrictions on when the method can be called\n",
    "\n",
    "Below is an example of python class with docstrings."
   ],
   "metadata": {
    "collapsed": false
   }
  },
  {
   "cell_type": "code",
   "execution_count": null,
   "outputs": [],
   "source": [
    "class Animal:\n",
    "    \"\"\"\n",
    "    A class used to represent an Animal\n",
    "\n",
    "    ...\n",
    "\n",
    "    Attributes\n",
    "    ----------\n",
    "    says_str : str\n",
    "        a formatted string to print out what the animal says\n",
    "    name : str\n",
    "        the name of the animal\n",
    "    sound : str\n",
    "        the sound that the animal makes\n",
    "    num_legs : int\n",
    "        the number of legs the animal has (default 4)\n",
    "\n",
    "    Methods\n",
    "    -------\n",
    "    says(sound=None)\n",
    "        Prints the animals name and what sound it makes\n",
    "    \"\"\"\n",
    "\n",
    "    says_str = \"A {name} says {sound}\"\n",
    "\n",
    "    def __init__(self, name, sound, num_legs=4):\n",
    "        \"\"\"\n",
    "        Parameters\n",
    "        ----------\n",
    "        name : str\n",
    "            The name of the animal\n",
    "        sound : str\n",
    "            The sound the animal makes\n",
    "        num_legs : int, optional\n",
    "            The number of legs the animal (default is 4)\n",
    "        \"\"\"\n",
    "\n",
    "        self.name = name\n",
    "        self.sound = sound\n",
    "        self.num_legs = num_legs\n",
    "\n",
    "    def says(self, sound=None):\n",
    "        \"\"\"Prints what the animals name is and what sound it makes.\n",
    "\n",
    "        If the argument `sound` isn't passed in, the default Animal\n",
    "        sound is used.\n",
    "\n",
    "        Parameters\n",
    "        ----------\n",
    "        sound : str, optional\n",
    "            The sound the animal makes (default is None)\n",
    "\n",
    "        Raises\n",
    "        ------\n",
    "        NotImplementedError\n",
    "            If no sound is set for the animal or passed in as a\n",
    "            parameter.\n",
    "        \"\"\"\n",
    "\n",
    "        if self.sound is None and sound is None:\n",
    "            raise NotImplementedError(\"Silent Animals are not supported!\")\n",
    "\n",
    "        out_sound = self.sound if sound is None else sound\n",
    "        print(self.says_str.format(name=self.name, sound=out_sound))"
   ],
   "metadata": {
    "collapsed": false
   }
  },
  {
   "cell_type": "markdown",
   "source": [
    "#### 7.1.2.2 Package and Module Docstrings\n",
    "\n",
    "**Package docstrings should be placed at the top of the package’s __init__.py file. This docstring should list the modules and sub-packages that are exported by the package.**\n",
    "\n",
    "**Module docstrings are similar to class docstrings. Instead of classes and class methods being documented, it’s now the module and any functions found within. Module docstrings are placed at the top of the file even before any imports**.\n",
    "\n",
    "\n",
    "Module docstrings should include the following:\n",
    "\n",
    "- A brief description of the module and its purpose\n",
    "- A list of any classes, exception, functions, and any other objects exported by the module\n",
    "\n",
    "The docstring for a module function should include the same items as a class method:\n",
    "\n",
    "- A brief description of what the function is and what it’s used for\n",
    "- Any arguments (both required and optional) that are passed including keyword arguments\n",
    "- Label any arguments that are considered optional\n",
    "- Any side effects that occur when executing the function\n",
    "- Any exceptions that are raised\n",
    "- Any restrictions on when the function can be called"
   ],
   "metadata": {
    "collapsed": false
   }
  },
  {
   "cell_type": "markdown",
   "source": [
    "#### 7.1.2.3 Script Docstrings\n",
    "\n",
    "**Scripts are considered to be single file executables run from the console.** `Docstrings for scripts are placed at the top of the file and should be documented well enough for users to be able to have a sufficient understanding of how to use the script.` It should be usable for its “usage” message, when the user incorrectly passes in a parameter or uses the -h option.\n",
    "\n",
    "If you use argparse, then you can omit parameter-specific documentation, assuming it’s correctly been documented within the help parameter of the `argparser.parser.add_argument function`. It is recommended to use the __doc__ for the description parameter within argparse.ArgumentParser’s constructor. Check out our tutorial on Command-Line Parsing Libraries for more details on how to use argparse and other common command line parsers.\n",
    "\n",
    "Finally, any custom or third-party imports should be listed within the docstrings to allow users to know which packages may be required for running the script.\n",
    "\n",
    "Here’s an example of a script that is used to simply print out the column headers of a spreadsheet:"
   ],
   "metadata": {
    "collapsed": false
   }
  },
  {
   "cell_type": "code",
   "execution_count": null,
   "outputs": [],
   "source": [
    "\"\"\"Spreadsheet Column Printer\n",
    "\n",
    "This script allows the user to print to the console all columns in the\n",
    "spreadsheet. It is assumed that the first row of the spreadsheet is the\n",
    "location of the columns.\n",
    "\n",
    "This tool accepts comma separated value files (.csv) as well as excel\n",
    "(.xls, .xlsx) files.\n",
    "\n",
    "This script requires that `pandas` be installed within the Python\n",
    "environment you are running this script in.\n",
    "\n",
    "This file can also be imported as a module and contains the following\n",
    "functions:\n",
    "\n",
    "    * get_spreadsheet_cols - returns the column headers of the file\n",
    "    * main - the main function of the script\n",
    "\"\"\"\n",
    "\n",
    "import argparse\n",
    "\n",
    "import pandas as pd\n",
    "\n",
    "\n",
    "def get_spreadsheet_cols(file_loc, print_cols=False):\n",
    "    \"\"\"Gets and prints the spreadsheet's header columns\n",
    "\n",
    "    Parameters\n",
    "    ----------\n",
    "    file_loc : str\n",
    "        The file location of the spreadsheet\n",
    "    print_cols : bool, optional\n",
    "        A flag used to print the columns to the console (default is\n",
    "        False)\n",
    "\n",
    "    Returns\n",
    "    -------\n",
    "    list\n",
    "        a list of strings used that are the header columns\n",
    "    \"\"\"\n",
    "\n",
    "    file_data = pd.read_excel(file_loc)\n",
    "    col_headers = list(file_data.columns.values)\n",
    "\n",
    "    if print_cols:\n",
    "        print(\"\\n\".join(col_headers))\n",
    "\n",
    "    return col_headers\n",
    "\n",
    "\n",
    "def main():\n",
    "    parser = argparse.ArgumentParser(description=__doc__)\n",
    "    parser.add_argument(\n",
    "        'input_file',\n",
    "        type=str,\n",
    "        help=\"The spreadsheet file to pring the columns of\"\n",
    "    )\n",
    "    args = parser.parse_args()\n",
    "    get_spreadsheet_cols(args.input_file, print_cols=True)\n",
    "\n",
    "\n",
    "if __name__ == \"__main__\":\n",
    "    main()"
   ],
   "metadata": {
    "collapsed": false
   }
  },
  {
   "cell_type": "markdown",
   "source": [
    "###  7.1.3 Docstring formats\n",
    "\n",
    "There are specific docstrings formats that can be used to help docstring parsers and users have a familiar and known format. The formatting used within the examples in this tutorial are `NumPy/SciPy-style` docstrings. Some of the most common formats are the following:\n",
    "\n",
    "| Formatting Type        | \tDescription\t                                                                   | Supported by Sphynx | \tFormal Specification |\n",
    "|------------------------|---------------------------------------------------------------------------------|---------------------|-----------------------|\n",
    "| Google docstrings\t     | Google’s recommended form of documentation\t                                     | Yes\t                | No                    |\n",
    "| reStructuredText\t      | Official Python documentation standard; Not beginner friendly but feature rich\t | Yes\t                | Yes                   |\n",
    "| NumPy/SciPy docstrings | \tNumPy’s combination of reStructuredText and Google Docstrings\t                 | Yes                 | \tYes                  |\n",
    "| Epytext                | \tA Python adaptation of Epydoc; Great for Java developers                       | \tNot officially     | \tYes                  |"
   ],
   "metadata": {
    "collapsed": false
   }
  },
  {
   "cell_type": "markdown",
   "source": [
    "#### Google Docstrings Example"
   ],
   "metadata": {
    "collapsed": false
   }
  },
  {
   "cell_type": "code",
   "execution_count": null,
   "outputs": [],
   "source": [
    "\"\"\"Gets and prints the spreadsheet's header columns\n",
    "\n",
    "Args:\n",
    "    file_loc (str): The file location of the spreadsheet\n",
    "    print_cols (bool): A flag used to print the columns to the console\n",
    "        (default is False)\n",
    "\n",
    "Returns:\n",
    "    list: a list of strings representing the header columns\n",
    "\"\"\""
   ],
   "metadata": {
    "collapsed": false
   }
  },
  {
   "cell_type": "markdown",
   "source": [
    "#### reStructuredText Example"
   ],
   "metadata": {
    "collapsed": false
   }
  },
  {
   "cell_type": "code",
   "execution_count": null,
   "outputs": [],
   "source": [
    "\"\"\"Gets and prints the spreadsheet's header columns\n",
    "\n",
    ":param file_loc: The file location of the spreadsheet\n",
    ":type file_loc: str\n",
    ":param print_cols: A flag used to print the columns to the console\n",
    "    (default is False)\n",
    ":type print_cols: bool\n",
    ":returns: a list of strings representing the header columns\n",
    ":rtype: list\n",
    "\"\"\""
   ],
   "metadata": {
    "collapsed": false
   }
  },
  {
   "cell_type": "markdown",
   "source": [
    "#### NumPy/SciPy Docstrings Example"
   ],
   "metadata": {
    "collapsed": false
   }
  },
  {
   "cell_type": "code",
   "execution_count": null,
   "outputs": [],
   "source": [
    "\"\"\"Gets and prints the spreadsheet's header columns\n",
    "\n",
    "Parameters\n",
    "----------\n",
    "file_loc : str\n",
    "    The file location of the spreadsheet\n",
    "print_cols : bool, optional\n",
    "    A flag used to print the columns to the console (default is False)\n",
    "\n",
    "Returns\n",
    "-------\n",
    "list\n",
    "    a list of strings representing the header columns\n",
    "\"\"\""
   ],
   "metadata": {
    "collapsed": false
   }
  },
  {
   "cell_type": "markdown",
   "source": [
    "#### Epytext Example"
   ],
   "metadata": {
    "collapsed": false
   }
  },
  {
   "cell_type": "code",
   "execution_count": null,
   "outputs": [],
   "source": [
    "\"\"\"Gets and prints the spreadsheet's header columns\n",
    "\n",
    "@type file_loc: str\n",
    "@param file_loc: The file location of the spreadsheet\n",
    "@type print_cols: bool\n",
    "@param print_cols: A flag used to print the columns to the console\n",
    "    (default is False)\n",
    "@rtype: list\n",
    "@returns: a list of strings representing the header columns\n",
    "\"\"\""
   ],
   "metadata": {
    "collapsed": false
   }
  },
  {
   "cell_type": "markdown",
   "source": [
    "## 7.2 Type Hint\n",
    "\n",
    "Type hinting was added to Python 3.5 and is an additional form to help the readers of your code. It allows the developer to design and explain portions of their code without commenting. Here’s a quick example:"
   ],
   "metadata": {
    "collapsed": false
   }
  },
  {
   "cell_type": "code",
   "execution_count": null,
   "outputs": [],
   "source": [
    "def hello_name(name:str)->str:\n",
    "    return f\"Hello {name}\""
   ],
   "metadata": {
    "collapsed": false
   }
  },
  {
   "cell_type": "markdown",
   "source": [
    "From examining the type hinting, you can immediately tell that the function expects the input name to be of a type `string`. You can also tell that the expected output of the function will be of a type `string`, as well. While type hinting helps reduce comments, take into consideration that doing so may also make extra work when you are creating or updating your project documentation."
   ],
   "metadata": {
    "collapsed": false
   }
  },
  {
   "cell_type": "markdown",
   "source": [
    "## 7.3 Doctest\n",
    "\n",
    "Doctest allow us to add test in python documentation.\n",
    "A Python doctest is written as though it is a comment, with a series of three quotation marks in a row — \"\"\" — at the top and bottom of the doctest.\n",
    "\n",
    "Sometimes, doctests are written with an example of the function and the expected output, but it may be preferable to also include a comment on what the function is intended to do. Including a comment will ensure that you as the programmer have sharpened your goals, and a future person reading the code understands it well. Remember, the future programmer reading the code may very well be you.\n",
    "\n",
    "> If your project does not have unit tests, this can come handy, but for big project, it's not recommended to do the test inside docstrings.\n"
   ],
   "metadata": {
    "collapsed": false
   }
  },
  {
   "cell_type": "markdown",
   "source": [
    "### A simple doctest example\n",
    "\n",
    "Below is a simple example. You can notice if we remove below two lines from the example, the example will be a standard docstring for python.\n",
    "``` text\n",
    ">>> add(2, 3)\n",
    "5\n",
    "```\n",
    "So basically, we use **>>>** to specify that we will call a function. and the next line is the expected value."
   ],
   "metadata": {
    "collapsed": false
   }
  },
  {
   "cell_type": "code",
   "execution_count": 2,
   "outputs": [],
   "source": [
    "def add(a, b):\n",
    "    \"\"\"\n",
    "    Given two integers, return the sum.\n",
    "\n",
    "    :param a: int\n",
    "    :param b: int\n",
    "    :return: int\n",
    "\n",
    "    >>> add(2, 3)\n",
    "    5\n",
    "    \"\"\"\n",
    "    return a + b"
   ],
   "metadata": {
    "collapsed": false
   }
  },
  {
   "cell_type": "markdown",
   "source": [
    "But, if we run the above code, nothing happens. That's because by default the doctest is deactivated. To enable it, you need to add below two lines\n",
    "\n",
    "```python\n",
    "import doctest\n",
    "\n",
    "doctest.testmod()\n",
    "```\n",
    "Try run below example, and see what happens"
   ],
   "metadata": {
    "collapsed": false
   }
  },
  {
   "cell_type": "code",
   "execution_count": 3,
   "outputs": [
    {
     "data": {
      "text/plain": "TestResults(failed=0, attempted=1)"
     },
     "execution_count": 3,
     "metadata": {},
     "output_type": "execute_result"
    }
   ],
   "source": [
    "import doctest\n",
    "\n",
    "def add(a, b):\n",
    "    \"\"\"\n",
    "    Given two integers, return the sum.\n",
    "\n",
    "    :param a: int\n",
    "    :param b: int\n",
    "    :return: int\n",
    "\n",
    "    >>> add(2, 3)\n",
    "    5\n",
    "    \"\"\"\n",
    "    return a + b\n",
    "\n",
    "doctest.testmod()"
   ],
   "metadata": {
    "collapsed": false
   }
  },
  {
   "cell_type": "markdown",
   "source": [
    "Now, you can see all test in doctest has passed. Now let's try with some error. Change the **a+b** to **a\\*b**."
   ],
   "metadata": {
    "collapsed": false
   }
  },
  {
   "cell_type": "code",
   "execution_count": 4,
   "outputs": [
    {
     "name": "stdout",
     "output_type": "stream",
     "text": [
      "**********************************************************************\n",
      "File \"__main__\", line 11, in __main__.add\n",
      "Failed example:\n",
      "    add(2, 3)\n",
      "Expected:\n",
      "    5\n",
      "Got:\n",
      "    6\n",
      "**********************************************************************\n",
      "1 items had failures:\n",
      "   1 of   1 in __main__.add\n",
      "***Test Failed*** 1 failures.\n"
     ]
    },
    {
     "data": {
      "text/plain": "TestResults(failed=1, attempted=1)"
     },
     "execution_count": 4,
     "metadata": {},
     "output_type": "execute_result"
    }
   ],
   "source": [
    "import doctest\n",
    "\n",
    "def add(a, b):\n",
    "    \"\"\"\n",
    "    Given two integers, return the sum.\n",
    "\n",
    "    :param a: int\n",
    "    :param b: int\n",
    "    :return: int\n",
    "\n",
    "    >>> add(2, 3)\n",
    "    5\n",
    "    \"\"\"\n",
    "    return a * b\n",
    "\n",
    "doctest.testmod()"
   ],
   "metadata": {
    "collapsed": false
   }
  },
  {
   "cell_type": "markdown",
   "source": [
    "You can notice that the expected value is 5, but the function return 6. So test failed.\n",
    "\n",
    "You can find a complete example of doctest in module in **src/doc_demo/count_vowels.py**."
   ],
   "metadata": {
    "collapsed": false
   }
  },
  {
   "cell_type": "markdown",
   "source": [
    "## 7.4 Documenting a Python Project\n",
    "\n",
    "Python projects come in all sorts of shapes, sizes, and purposes. The way you document your project should suit your specific situation. Keep in mind who the users of your project are going to be and adapt to their needs. Depending on the project type, certain aspects of documentation are recommended. The general layout of the project and its documentation should be as follows:\n",
    "\n",
    "```text\n",
    "project_root/\n",
    "│\n",
    "├── project/  # Project source code\n",
    "├── docs/\n",
    "├── README\n",
    "├── HOW_TO_CONTRIBUTE\n",
    "├── CODE_OF_CONDUCT\n",
    "├── examples.py\n",
    "```\n",
    "\n",
    "Projects can be generally subdivided into three major types:\n",
    "- Private,\n",
    "- Shared,\n",
    "- Public/Open Source."
   ],
   "metadata": {
    "collapsed": false
   }
  },
  {
   "cell_type": "markdown",
   "source": [
    "### 7.4.1 Documenting a private project\n",
    "\n",
    "Private projects are projects intended for personal use only and generally aren’t shared with other users or developers. Documentation can be pretty light on these types of projects. There are some recommended parts to add as needed:\n",
    "\n",
    "- **Readme**: A brief summary of the project and its purpose. Include any special requirements for installation or operating the project.\n",
    "- **examples.py**: A Python script file that gives simple examples of how to use the project.\n",
    "\n",
    "Remember, even though private projects are intended for you personally, you are also considered a user. Think about anything that may be confusing to you down the road and make sure to capture those in either `comments, docstrings, or the readme`."
   ],
   "metadata": {
    "collapsed": false
   }
  },
  {
   "cell_type": "markdown",
   "source": [
    "### 7.4.2 Documenting a shared project\n",
    "\n",
    "`Shared projects` are projects in which you collaborate with a few other people in the development and/or use of the project. The “customer” or user of the project continues to be yourself and those limited few that use the project as well.\n",
    "\n",
    "Documentation should be a little more rigorous than it needs to be for a private project, mainly to `help onboard new members to the project` or `alert contributors/users of new changes to the project`. Some recommended parts to add to the project are the following:\n",
    "\n",
    "- **Readme**: A brief summary of the project and its purpose. Include any special requirements for installing or operating the project. Additionally, add any major changes since the previous version.\n",
    "- **examples.py**: A Python script file that gives simple examples of how to use the projects.\n",
    "- **How to Contribute**: This should include how new contributors to the project can start contributing."
   ],
   "metadata": {
    "collapsed": false
   }
  },
  {
   "cell_type": "markdown",
   "source": [
    "### 7.4.3 Documenting a public and Open Source Project\n",
    "\n",
    "`Public and Open Source projects` are projects that are intended to be shared with a large group of users and can involve large development teams. These projects should place as high of a priority on project documentation as the actual development of the project itself. Some recommended parts to add to the project are the following:\n",
    "\n",
    "- **Readme**: A brief summary of the project and its purpose. Include any special requirements for installing or operating the projects. Additionally, add any major changes since the previous version. Finally, add links to further documentation, bug reporting, and any other important information for the project. `Dan Bader has put together a [great tutorial](https://dbader.org/blog/write-a-great-readme-for-your-github-project) on what all should be included in your readme.`\n",
    "\n",
    "- **How to Contribute**: This should include how new contributors to the project can help. This includes developing new features, fixing known issues, adding documentation, adding new tests, or reporting issues.\n",
    "\n",
    "- **Code of Conduct**: Defines how other contributors should treat each other when developing or using your software. This also states what will happen if this code is broken. If you’re using Github, a Code of Conduct template can be generated with recommended wording. For Open Source projects especially, consider adding this.\n",
    "\n",
    "- **License**: A plaintext file that describes the license your project is using. For Open Source projects especially, consider adding this.\n",
    "\n",
    "- **docs**: A folder that contains further documentation. The next section describes more fully what should be included and how to organize the contents of this folder."
   ],
   "metadata": {
    "collapsed": false
   }
  },
  {
   "cell_type": "markdown",
   "source": [
    "### 7.4.4 The Four Main Sections of the docs Folder\n",
    "\n",
    "Daniele Procida gave a wonderful PyCon 2017 talk and subsequent [blog post](https://documentation.divio.com/) about documenting Python projects. He mentions that all projects should have the following four major sections to help you focus your work:\n",
    "\n",
    "- **Tutorials**: Lessons that take the reader by the hand through a series of steps to complete a project (or meaningful exercise). Geared towards the user’s learning.\n",
    "- **How-To Guides**: Guides that take the reader through the steps required to solve a common problem (problem-oriented recipes).\n",
    "- **References**: Explanations that clarify and illuminate a particular topic. Geared towards understanding.\n",
    "- **Explanations**: Technical descriptions of the machinery and how to operate it (key classes, functions, APIs, and so forth). Think Encyclopedia article."
   ],
   "metadata": {
    "collapsed": false
   }
  },
  {
   "cell_type": "markdown",
   "source": [
    "## 7.5 Documentation Tools and Resources\n",
    "\n",
    "Documenting your code, especially large projects, can be daunting. Thankfully there are some tools out and references to get you started:\n",
    "\n",
    "| Tool                                                       | \tDescription                                                                                                                                                           |\n",
    "|------------------------------------------------------------|------------------------------------------------------------------------------------------------------------------------------------------------------------------------|\n",
    "| [Sphinx](http://www.sphinx-doc.org/en/stable/)             | A collection of tools to auto-generate documentation in multiple formats                                                                                               |\n",
    "| [Epydoc](http://epydoc.sourceforge.net/)\t                  | A tool for generating API documentation for Python modules based on their docstrings                                                                                   |\n",
    "| [Read The Docs](https://readthedocs.org/)                  | \tAutomatic building, versioning, and hosting of your docs for you                                                                                                      |\n",
    "| [Doxygen](https://www.doxygen.nl/manual/docblocks.html)    | \tA tool for generating documentation that supports Python as well as multiple other languages                                                                          |\n",
    "| [MkDocs](https://www.mkdocs.org/)                          | \tA static site generator to help build project documentation using the Markdown language. Check out Build Your Python Project Documentation With MkDocs to learn more. |\n",
    "| [pycco](https://pycco-docs.github.io/pycco/)\t              | A “quick and dirty” documentation generator that displays code and documentation side by side. Check out our tutorial on how to use it for more info.                  |\n",
    "| [doctest](https://docs.python.org/3/library/doctest.html)\t | A standard-library module for running usage examples as automated tests. Check out Python’s doctest: Document and Test Your Code at Once                               |"
   ],
   "metadata": {
    "collapsed": false
   }
  },
  {
   "cell_type": "markdown",
   "source": [
    "The origin doc https://realpython.com/documenting-python-code/"
   ],
   "metadata": {
    "collapsed": false
   }
  }
 ],
 "metadata": {
  "kernelspec": {
   "display_name": "Python 3",
   "language": "python",
   "name": "python3"
  },
  "language_info": {
   "codemirror_mode": {
    "name": "ipython",
    "version": 2
   },
   "file_extension": ".py",
   "mimetype": "text/x-python",
   "name": "python",
   "nbconvert_exporter": "python",
   "pygments_lexer": "ipython2",
   "version": "2.7.6"
  }
 },
 "nbformat": 4,
 "nbformat_minor": 0
}
