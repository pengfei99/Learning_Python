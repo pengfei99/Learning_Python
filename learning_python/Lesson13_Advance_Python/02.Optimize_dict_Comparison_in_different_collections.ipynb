{
 "cells": [
  {
   "cell_type": "markdown",
   "source": [
    "# Optimize dict comparison\n",
    "\n",
    "Suppose that we have two lists of dictionary, the two dictionaries have shared keys. How to find matching dict in the two list?\n",
    "- solution 1: use a nested loop, the complexity will be O(n*2)\n",
    "- solution 2: convert the two list to dict. Use the shared keys of dict to build a new key, the value can be the item or the index of the item of the original list\n",
    "\n",
    "In below example, we have two lists of dictionary. The shared keys are ['domain','year','tableName']"
   ],
   "metadata": {
    "collapsed": false
   }
  },
  {
   "cell_type": "code",
   "execution_count": 15,
   "outputs": [],
   "source": [
    "list1 = [\n",
    "    {\"id\": 1, \"domain\":\"d1\",\"year\":2010,\"tableName\":\"tab1\",\"matchDescIndex\":-1},\n",
    "    {\"id\": 2, \"domain\":\"d1\",\"year\":2011,\"tableName\":\"tab1\",\"matchDescIndex\":-1},\n",
    "    {\"id\": 3, \"domain\":\"d1\",\"year\":2012,\"tableName\":\"tab1\",\"matchDescIndex\":-1},\n",
    "    {\"id\": 4, \"domain\":\"d1\",\"year\":2013,\"tableName\":\"tab1\",\"matchDescIndex\":-1},\n",
    "    {\"id\": 5, \"domain\":\"d1\",\"year\":2014,\"tableName\":\"tab1\",\"matchDescIndex\":-1},\n",
    "    {\"id\": 6, \"domain\":\"d1\",\"year\":2015,\"tableName\":\"tab1\",\"matchDescIndex\":-1}\n",
    "]\n",
    "\n",
    "list2 = [\n",
    "    {\"id\": 1, \"domain\":\"d1\",\"year\":2010,\"tableName\":\"tab1\",\"matchDsIndex\":-1},\n",
    "    {\"id\": 2, \"domain\":\"d1\",\"year\":2011,\"tableName\":\"tab1\",\"matchDsIndex\":-1},\n",
    "    {\"id\": 3, \"domain\":\"d1\",\"year\":2012,\"tableName\":\"tab1\",\"matchDsIndex\":-1},\n",
    "    {\"id\": 4, \"domain\":\"d1\",\"year\":2013,\"tableName\":\"tab1\",\"matchDsIndex\":-1},\n",
    "    {\"id\": 5, \"domain\":\"d1\",\"year\":2014,\"tableName\":\"tab1\",\"matchDsIndex\":-1},\n",
    "    {\"id\": 6, \"domain\":\"d1\",\"year\":2015,\"tableName\":\"tab1\",\"matchDsIndex\":-1},\n",
    "    {\"id\": 7, \"domain\":\"d1\",\"year\":2016,\"tableName\":\"tab1\",\"matchDsIndex\":-1}\n",
    "]"
   ],
   "metadata": {
    "collapsed": false
   }
  },
  {
   "cell_type": "code",
   "execution_count": 16,
   "outputs": [],
   "source": [
    "# build the key for the converted dictionary\n",
    "def buildKey(inDict):\n",
    "    return frozenset({(\"domain\",inDict[\"domain\"]),(\"year\",inDict[\"year\"]),(\"tableName\",inDict[\"tableName\"])})"
   ],
   "metadata": {
    "collapsed": false
   }
  },
  {
   "cell_type": "code",
   "execution_count": 17,
   "outputs": [
    {
     "name": "stdout",
     "output_type": "stream",
     "text": [
      "{frozenset({('tableName', 'tab1'), ('domain', 'd1'), ('year', 2010)}): 0, frozenset({('tableName', 'tab1'), ('year', 2011), ('domain', 'd1')}): 1, frozenset({('tableName', 'tab1'), ('domain', 'd1'), ('year', 2012)}): 2, frozenset({('tableName', 'tab1'), ('domain', 'd1'), ('year', 2013)}): 3, frozenset({('tableName', 'tab1'), ('domain', 'd1'), ('year', 2014)}): 4, frozenset({('tableName', 'tab1'), ('domain', 'd1'), ('year', 2015)}): 5}\n"
     ]
    }
   ],
   "source": [
    "# convert list1 to a ref dict which uses a unique id (domain, year, tableName) as the key\n",
    "refDict = {}\n",
    "for index, item in enumerate(list1):\n",
    "    key = buildKey(item)\n",
    "    refDict[key]=index\n",
    "\n",
    "print(refDict)"
   ],
   "metadata": {
    "collapsed": false
   }
  },
  {
   "cell_type": "code",
   "execution_count": 18,
   "outputs": [
    {
     "name": "stdout",
     "output_type": "stream",
     "text": [
      "{'id': 1, 'domain': 'd1', 'year': 2010, 'tableName': 'tab1', 'matchDsIndex': 0}\n",
      "{'id': 2, 'domain': 'd1', 'year': 2011, 'tableName': 'tab1', 'matchDsIndex': 1}\n",
      "{'id': 3, 'domain': 'd1', 'year': 2012, 'tableName': 'tab1', 'matchDsIndex': 2}\n",
      "{'id': 4, 'domain': 'd1', 'year': 2013, 'tableName': 'tab1', 'matchDsIndex': 3}\n",
      "{'id': 5, 'domain': 'd1', 'year': 2014, 'tableName': 'tab1', 'matchDsIndex': 4}\n",
      "{'id': 6, 'domain': 'd1', 'year': 2015, 'tableName': 'tab1', 'matchDsIndex': 5}\n",
      "{'id': 7, 'domain': 'd1', 'year': 2016, 'tableName': 'tab1', 'matchDsIndex': -1}\n"
     ]
    }
   ],
   "source": [
    "matchingIndex = -1\n",
    "\n",
    "# loop through the second list and try to find matching index of the first list\n",
    "for item in list2:\n",
    "    key=buildKey(item)\n",
    "    if key in refDict:\n",
    "        matchingIndex = refDict[key]\n",
    "        item[\"matchDsIndex\"]=matchingIndex\n",
    "\n",
    "\n",
    "for item in list2:\n",
    "    print(item)"
   ],
   "metadata": {
    "collapsed": false
   }
  },
  {
   "cell_type": "code",
   "execution_count": null,
   "outputs": [],
   "source": [],
   "metadata": {
    "collapsed": false
   }
  }
 ],
 "metadata": {
  "kernelspec": {
   "display_name": "Python 3",
   "language": "python",
   "name": "python3"
  },
  "language_info": {
   "codemirror_mode": {
    "name": "ipython",
    "version": 2
   },
   "file_extension": ".py",
   "mimetype": "text/x-python",
   "name": "python",
   "nbconvert_exporter": "python",
   "pygments_lexer": "ipython2",
   "version": "2.7.6"
  }
 },
 "nbformat": 4,
 "nbformat_minor": 0
}
