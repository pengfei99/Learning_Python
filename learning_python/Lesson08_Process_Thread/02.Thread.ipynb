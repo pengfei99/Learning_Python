{
 "cells": [
  {
   "cell_type": "markdown",
   "metadata": {
    "collapsed": true,
    "pycharm": {
     "name": "#%% md\n"
    }
   },
   "source": [
    "# 2 Thread\n",
    "\n",
    "In Chapter 1, we have seen how to use Process to accelerate your python program. In this chapter we will see:\n",
    "\n",
    "1. What threads are\n",
    "2. How to create threads and wait for them to finish\n",
    "3. How to use a ThreadPoolExecutor\n",
    "4. How to avoid race conditions\n",
    "5. How to use the common tools that Python threading provide"
   ]
  },
  {
   "cell_type": "markdown",
   "source": [
    "## 2.1 What Is a Python Thread?\n",
    "\n",
    "Generally speaking, a thread is a separate flow of execution, which means that your program will have many flow of execution happening at the same time. But for most Python 3 implementations **the threads do not actually execute at the same time**.\n",
    "\n",
    "This is due to the python interpreter uses [GIL(Global Interpreter Lock)](https://realpython.com/python-gil/) to provide a thread safe memory management environment for the underlying C libraries. And **GIL limits only one Python thread can run at a time**.\n",
    "\n",
    "## 2.2 When to use python thread?\n",
    "\n",
    "As only one python thread can run at a time, if **tasks that spend much of their time waiting for external events are generally good candidates for threading**. \n",
    "\n",
    "If **tasks that require heavy CPU computation and spend little time waiting for external events might not run faster at all after adding multi threading**.\n",
    "\n",
    "**The above condition is true for code written in Python and running on the standard CPython implementation**. If your threads are written in C they have the ability to release the GIL and run concurrently. If you are running on a different Python interpreter implementation, check with the documentation to see how it handles threads.\n",
    "\n",
    "**If you are running a standard Python implementation, writing in only Python, and have a CPU-bound problem, you should check out the multiprocessing module instead.**\n",
    "\n",
    "So Why python still have thread, if they can't run parallely? \n",
    "Thread can provide gains in design clarity for your program architecture. Most of the examples you’ll see in this chapter are not necessarily going to run faster because they use threads. Using threading in them helps to make the design cleaner and easier to reason about."
   ],
   "metadata": {
    "collapsed": false,
    "pycharm": {
     "name": "#%% md\n"
    }
   }
  },
  {
   "cell_type": "markdown",
   "source": [
    "## 2.3 A simple thread\n",
    "\n"
   ],
   "metadata": {
    "collapsed": false,
    "pycharm": {
     "name": "#%% md\n"
    }
   }
  }
 ],
 "metadata": {
  "kernelspec": {
   "display_name": "Python 3",
   "language": "python",
   "name": "python3"
  },
  "language_info": {
   "codemirror_mode": {
    "name": "ipython",
    "version": 2
   },
   "file_extension": ".py",
   "mimetype": "text/x-python",
   "name": "python",
   "nbconvert_exporter": "python",
   "pygments_lexer": "ipython2",
   "version": "2.7.6"
  }
 },
 "nbformat": 4,
 "nbformat_minor": 0
}