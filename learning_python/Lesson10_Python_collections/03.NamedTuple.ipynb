{
 "cells": [
  {
   "cell_type": "markdown",
   "metadata": {
    "collapsed": true,
    "pycharm": {
     "name": "#%% md\n"
    }
   },
   "source": [
    "# 10.3 NamedTuple\n",
    "\n",
    "You can find a more complete tuto [here](https://realpython.com/python-namedtuple/).\n",
    "\n",
    "Python’s namedtuple() is a `factory function(is an object for creating other objects )` that allows you to create tuple subclasses with named fields. These fields give you direct access to the values in a given named tuple using the dot notation, like in obj.attr.\n",
    "\n",
    "The need for this feature arose because using indices to access the values in a regular tuple is annoying, difficult to read, and error-prone. This is especially true if the tuple you’re working with has several items and is constructed far away from where you’re using it.\n",
   "\n",
    "**Note the performence of NamedTuple is very bad, it could cause 100 times more time in latency. So use it with caution **"
   ]
  },
  {
   "cell_type": "markdown",
   "source": [
    "## 10.3.1 A simple example\n",
    "\n",
    "As we mentioned before, the NamedTuple is used for improving code readability. Let's use below example to illustrate that.\n",
    "\n",
    "Consider the built-in function divmod(), which takes two (non-complex) numbers and returns a tuple with the `quotient` and `remainder` that result from the integer division of the input values.\n",
    "\n",
    "For instance, divmod(10,3) returns (quotient=3, remainder=1). But as the tuple can't have key, so we can only use index to retrieve the value."
   ],
   "metadata": {
    "collapsed": false,
    "pycharm": {
     "name": "#%% md\n"
    }
   }
  },
  {
   "cell_type": "code",
   "execution_count": 1,
   "outputs": [
    {
     "data": {
      "text/plain": "(3, 1)"
     },
     "execution_count": 1,
     "metadata": {},
     "output_type": "execute_result"
    }
   ],
   "source": [
    "divmod(10, 3)"
   ],
   "metadata": {
    "collapsed": false,
    "pycharm": {
     "name": "#%%\n"
    }
   }
  },
  {
   "cell_type": "code",
   "execution_count": 4,
   "outputs": [],
   "source": [
    "from collections import namedtuple"
   ],
   "metadata": {
    "collapsed": false,
    "pycharm": {
     "name": "#%%\n"
    }
   }
  },
  {
   "cell_type": "code",
   "execution_count": 5,
   "outputs": [],
   "source": [
    "def custom_divmod(x, y):\n",
    "    DivMod = namedtuple(\"DivMod\", \"quotient remainder\")\n",
    "    return DivMod(*divmod(x, y))"
   ],
   "metadata": {
    "collapsed": false,
    "pycharm": {
     "name": "#%%\n"
    }
   }
  },
  {
   "cell_type": "code",
   "execution_count": 10,
   "outputs": [
    {
     "name": "stdout",
     "output_type": "stream",
     "text": [
      "DivMod(quotient=3, remainder=1)\n"
     ]
    }
   ],
   "source": [
    "result = custom_divmod(10, 3)\n",
    "print(result)"
   ],
   "metadata": {
    "collapsed": false,
    "pycharm": {
     "name": "#%%\n"
    }
   }
  },
  {
   "cell_type": "code",
   "execution_count": 11,
   "outputs": [
    {
     "name": "stdout",
     "output_type": "stream",
     "text": [
      "3\n"
     ]
    }
   ],
   "source": [
    "print(result.quotient)"
   ],
   "metadata": {
    "collapsed": false,
    "pycharm": {
     "name": "#%%\n"
    }
   }
  },
  {
   "cell_type": "code",
   "execution_count": 12,
   "outputs": [
    {
     "name": "stdout",
     "output_type": "stream",
     "text": [
      "1\n"
     ]
    }
   ],
   "source": [
    "print(result.remainder)"
   ],
   "metadata": {
    "collapsed": false,
    "pycharm": {
     "name": "#%%\n"
    }
   }
  },
  {
   "cell_type": "markdown",
   "source": [
    "You can notice that with a NamedTuple, you know the meaning of each value in the result. You can also access each independent value **using the dot notation and a descriptive field name**."
   ],
   "metadata": {
    "collapsed": false,
    "pycharm": {
     "name": "#%% md\n"
    }
   }
  },
  {
   "cell_type": "markdown",
   "source": [
    "## 10.3.2 Create NamedTuple\n",
    "\n",
    "To create new tuple subclass using namedtuple(), you need two required arguments:\n",
    "\n",
    "1. **typename**: is the name of the class you’re creating. It must be a **string with a valid Python identifier**.\n",
    "2. **field_names**: is the list of field names you’ll use to access the items in the resulting tuple. It can be:\n",
    "    - An iterable of strings, such as [\"field1\", \"field2\", ..., \"fieldN\"]\n",
    "    - A string with whitespace-separated field names, such as \"field1 field2 ... fieldN\"\n",
    "    - A string with comma-separated field names, such as \"field1, field2, ..., fieldN\"\n",
    "\n",
    "In below example, We create a NamedTuple called \"MyPoint\", in the (namedtuple)function argument, we also have \"MyPoint\". This the **typename** of the NamedTuple, it must be identical to the left part. The second argument is a list of **field_names**, in our case is x and y."
   ],
   "metadata": {
    "collapsed": false,
    "pycharm": {
     "name": "#%% md\n"
    }
   }
  },
  {
   "cell_type": "code",
   "execution_count": 13,
   "outputs": [],
   "source": [
    "MyPoint = namedtuple(\"MyPoint\", [\"x\", \"y\"])"
   ],
   "metadata": {
    "collapsed": false,
    "pycharm": {
     "name": "#%%\n"
    }
   }
  },
  {
   "cell_type": "code",
   "execution_count": 14,
   "outputs": [],
   "source": [
    "# create an instance of MyPoint (looks like a class)\n",
    "p1=MyPoint(6,8)"
   ],
   "metadata": {
    "collapsed": false,
    "pycharm": {
     "name": "#%%\n"
    }
   }
  },
  {
   "cell_type": "code",
   "execution_count": 15,
   "outputs": [
    {
     "name": "stdout",
     "output_type": "stream",
     "text": [
      "6\n"
     ]
    }
   ],
   "source": [
    "print(p1.x)"
   ],
   "metadata": {
    "collapsed": false,
    "pycharm": {
     "name": "#%%\n"
    }
   }
  },
  {
   "cell_type": "code",
   "execution_count": 16,
   "outputs": [
    {
     "name": "stdout",
     "output_type": "stream",
     "text": [
      "8\n"
     ]
    }
   ],
   "source": [
    "print(p1.y)"
   ],
   "metadata": {
    "collapsed": false,
    "pycharm": {
     "name": "#%%\n"
    }
   }
  },
  {
   "cell_type": "markdown",
   "source": [
    "As we mentioned above, for the field name declaration, we can have three different ways. Below declarations are identical to the above one."
   ],
   "metadata": {
    "collapsed": false,
    "pycharm": {
     "name": "#%% md\n"
    }
   }
  },
  {
   "cell_type": "code",
   "execution_count": 18,
   "outputs": [
    {
     "name": "stdout",
     "output_type": "stream",
     "text": [
      "MyPoint(x=6, y=8)\n",
      "6\n",
      "8\n"
     ]
    }
   ],
   "source": [
    "MyPoint = namedtuple(\"MyPoint\", \"x y\")\n",
    "p1=MyPoint(6,8)\n",
    "print(p1)\n",
    "print(p1.x)\n",
    "print(p1.y)"
   ],
   "metadata": {
    "collapsed": false,
    "pycharm": {
     "name": "#%%\n"
    }
   }
  },
  {
   "cell_type": "code",
   "execution_count": 19,
   "outputs": [
    {
     "name": "stdout",
     "output_type": "stream",
     "text": [
      "MyPoint(x=6, y=8)\n",
      "6\n",
      "8\n"
     ]
    }
   ],
   "source": [
    "MyPoint = namedtuple(\"MyPoint\", \"x,y\")\n",
    "p1=MyPoint(6,8)\n",
    "print(p1)\n",
    "print(p1.x)\n",
    "print(p1.y)"
   ],
   "metadata": {
    "collapsed": false,
    "pycharm": {
     "name": "#%%\n"
    }
   }
  },
  {
   "cell_type": "markdown",
   "source": [
    "Note the field identifier must be a valid python identifier. For example, below field name won't work"
   ],
   "metadata": {
    "collapsed": false,
    "pycharm": {
     "name": "#%% md\n"
    }
   }
  },
  {
   "cell_type": "code",
   "execution_count": 25,
   "outputs": [
    {
     "ename": "ValueError",
     "evalue": "Type names and field names must be valid identifiers: 'y-position'",
     "output_type": "error",
     "traceback": [
      "\u001B[0;31m---------------------------------------------------------------------------\u001B[0m",
      "\u001B[0;31mValueError\u001B[0m                                Traceback (most recent call last)",
      "Input \u001B[0;32mIn [25]\u001B[0m, in \u001B[0;36m<cell line: 1>\u001B[0;34m()\u001B[0m\n\u001B[0;32m----> 1\u001B[0m MyPoint \u001B[38;5;241m=\u001B[39m \u001B[43mnamedtuple\u001B[49m\u001B[43m(\u001B[49m\u001B[38;5;124;43m\"\u001B[39;49m\u001B[38;5;124;43mMyPoint\u001B[39;49m\u001B[38;5;124;43m\"\u001B[39;49m\u001B[43m,\u001B[49m\u001B[43m \u001B[49m\u001B[38;5;124;43m\"\u001B[39;49m\u001B[38;5;124;43mx,y-position\u001B[39;49m\u001B[38;5;124;43m\"\u001B[39;49m\u001B[43m)\u001B[49m\n\u001B[1;32m      2\u001B[0m p1\u001B[38;5;241m=\u001B[39mMyPoint(\u001B[38;5;241m6\u001B[39m,\u001B[38;5;241m8\u001B[39m)\n",
      "File \u001B[0;32m/usr/lib/python3.8/collections/__init__.py:358\u001B[0m, in \u001B[0;36mnamedtuple\u001B[0;34m(typename, field_names, rename, defaults, module)\u001B[0m\n\u001B[1;32m    356\u001B[0m     \u001B[38;5;28;01mraise\u001B[39;00m \u001B[38;5;167;01mTypeError\u001B[39;00m(\u001B[38;5;124m'\u001B[39m\u001B[38;5;124mType names and field names must be strings\u001B[39m\u001B[38;5;124m'\u001B[39m)\n\u001B[1;32m    357\u001B[0m \u001B[38;5;28;01mif\u001B[39;00m \u001B[38;5;129;01mnot\u001B[39;00m name\u001B[38;5;241m.\u001B[39misidentifier():\n\u001B[0;32m--> 358\u001B[0m     \u001B[38;5;28;01mraise\u001B[39;00m \u001B[38;5;167;01mValueError\u001B[39;00m(\u001B[38;5;124m'\u001B[39m\u001B[38;5;124mType names and field names must be valid \u001B[39m\u001B[38;5;124m'\u001B[39m\n\u001B[1;32m    359\u001B[0m                      \u001B[38;5;124mf\u001B[39m\u001B[38;5;124m'\u001B[39m\u001B[38;5;124midentifiers: \u001B[39m\u001B[38;5;132;01m{\u001B[39;00mname\u001B[38;5;132;01m!r}\u001B[39;00m\u001B[38;5;124m'\u001B[39m)\n\u001B[1;32m    360\u001B[0m \u001B[38;5;28;01mif\u001B[39;00m _iskeyword(name):\n\u001B[1;32m    361\u001B[0m     \u001B[38;5;28;01mraise\u001B[39;00m \u001B[38;5;167;01mValueError\u001B[39;00m(\u001B[38;5;124m'\u001B[39m\u001B[38;5;124mType names and field names cannot be a \u001B[39m\u001B[38;5;124m'\u001B[39m\n\u001B[1;32m    362\u001B[0m                      \u001B[38;5;124mf\u001B[39m\u001B[38;5;124m'\u001B[39m\u001B[38;5;124mkeyword: \u001B[39m\u001B[38;5;132;01m{\u001B[39;00mname\u001B[38;5;132;01m!r}\u001B[39;00m\u001B[38;5;124m'\u001B[39m)\n",
      "\u001B[0;31mValueError\u001B[0m: Type names and field names must be valid identifiers: 'y-position'"
     ]
    }
   ],
   "source": [
    "MyPoint = namedtuple(\"MyPoint\", \"x,y-position\")\n",
    "p1=MyPoint(6,8)"
   ],
   "metadata": {
    "collapsed": false,
    "pycharm": {
     "name": "#%%\n"
    }
   }
  },
  {
   "cell_type": "code",
   "execution_count": 26,
   "outputs": [
    {
     "ename": "ValueError",
     "evalue": "Type names and field names must be valid identifiers: '1x'",
     "output_type": "error",
     "traceback": [
      "\u001B[0;31m---------------------------------------------------------------------------\u001B[0m",
      "\u001B[0;31mValueError\u001B[0m                                Traceback (most recent call last)",
      "Input \u001B[0;32mIn [26]\u001B[0m, in \u001B[0;36m<cell line: 1>\u001B[0;34m()\u001B[0m\n\u001B[0;32m----> 1\u001B[0m MyPoint \u001B[38;5;241m=\u001B[39m \u001B[43mnamedtuple\u001B[49m\u001B[43m(\u001B[49m\u001B[38;5;124;43m\"\u001B[39;49m\u001B[38;5;124;43mMyPoint\u001B[39;49m\u001B[38;5;124;43m\"\u001B[39;49m\u001B[43m,\u001B[49m\u001B[43m \u001B[49m\u001B[38;5;124;43m\"\u001B[39;49m\u001B[38;5;124;43m1x,y\u001B[39;49m\u001B[38;5;124;43m\"\u001B[39;49m\u001B[43m)\u001B[49m\n\u001B[1;32m      2\u001B[0m p1\u001B[38;5;241m=\u001B[39mMyPoint(\u001B[38;5;241m6\u001B[39m,\u001B[38;5;241m8\u001B[39m)\n",
      "File \u001B[0;32m/usr/lib/python3.8/collections/__init__.py:358\u001B[0m, in \u001B[0;36mnamedtuple\u001B[0;34m(typename, field_names, rename, defaults, module)\u001B[0m\n\u001B[1;32m    356\u001B[0m     \u001B[38;5;28;01mraise\u001B[39;00m \u001B[38;5;167;01mTypeError\u001B[39;00m(\u001B[38;5;124m'\u001B[39m\u001B[38;5;124mType names and field names must be strings\u001B[39m\u001B[38;5;124m'\u001B[39m)\n\u001B[1;32m    357\u001B[0m \u001B[38;5;28;01mif\u001B[39;00m \u001B[38;5;129;01mnot\u001B[39;00m name\u001B[38;5;241m.\u001B[39misidentifier():\n\u001B[0;32m--> 358\u001B[0m     \u001B[38;5;28;01mraise\u001B[39;00m \u001B[38;5;167;01mValueError\u001B[39;00m(\u001B[38;5;124m'\u001B[39m\u001B[38;5;124mType names and field names must be valid \u001B[39m\u001B[38;5;124m'\u001B[39m\n\u001B[1;32m    359\u001B[0m                      \u001B[38;5;124mf\u001B[39m\u001B[38;5;124m'\u001B[39m\u001B[38;5;124midentifiers: \u001B[39m\u001B[38;5;132;01m{\u001B[39;00mname\u001B[38;5;132;01m!r}\u001B[39;00m\u001B[38;5;124m'\u001B[39m)\n\u001B[1;32m    360\u001B[0m \u001B[38;5;28;01mif\u001B[39;00m _iskeyword(name):\n\u001B[1;32m    361\u001B[0m     \u001B[38;5;28;01mraise\u001B[39;00m \u001B[38;5;167;01mValueError\u001B[39;00m(\u001B[38;5;124m'\u001B[39m\u001B[38;5;124mType names and field names cannot be a \u001B[39m\u001B[38;5;124m'\u001B[39m\n\u001B[1;32m    362\u001B[0m                      \u001B[38;5;124mf\u001B[39m\u001B[38;5;124m'\u001B[39m\u001B[38;5;124mkeyword: \u001B[39m\u001B[38;5;132;01m{\u001B[39;00mname\u001B[38;5;132;01m!r}\u001B[39;00m\u001B[38;5;124m'\u001B[39m)\n",
      "\u001B[0;31mValueError\u001B[0m: Type names and field names must be valid identifiers: '1x'"
     ]
    }
   ],
   "source": [
    "MyPoint = namedtuple(\"MyPoint\", \"1x,y\")\n",
    "p1=MyPoint(6,8)"
   ],
   "metadata": {
    "collapsed": false,
    "pycharm": {
     "name": "#%%\n"
    }
   }
  },
  {
   "cell_type": "markdown",
   "source": [
    "## 10.3.2 Default values in NamedTuple\n",
    "\n",
    "Named tuples also provide a bunch of cool features that allow you to define default values for your fields, create a dictionary from a given named tuple, replace the value of a given field, and more.\n",
    "\n",
    "In below example, we create a NamedTuple `Person` with two fields `name, job-title`. Then we add an additional parameter defaults. If we don't give any value when we create the tuple, the default values will be used."
   ],
   "metadata": {
    "collapsed": false,
    "pycharm": {
     "name": "#%% md\n"
    }
   }
  },
  {
   "cell_type": "code",
   "execution_count": 23,
   "outputs": [
    {
     "name": "stdout",
     "output_type": "stream",
     "text": [
      "Person(name='John', job_title='Python Developer')\n"
     ]
    }
   ],
   "source": [
    "Person = namedtuple(\"Person\", \"name job_title\", defaults=[\"John\",\"Python Developer\"])\n",
    "person = Person()\n",
    "print(person)"
   ],
   "metadata": {
    "collapsed": false,
    "pycharm": {
     "name": "#%%\n"
    }
   }
  },
  {
   "cell_type": "code",
   "execution_count": 28,
   "outputs": [
    {
     "name": "stdout",
     "output_type": "stream",
     "text": [
      "Person(name='Toto', job='The boss')\n"
     ]
    }
   ],
   "source": [
    "person = Person(\"Toto\", \"The boss\")\n",
    "print(person)"
   ],
   "metadata": {
    "collapsed": false,
    "pycharm": {
     "name": "#%%\n"
    }
   }
  },
  {
   "cell_type": "markdown",
   "source": [
    "You can notice if we provide the parameter at creation time, the default value are overwrote.\n",
    "\n",
    "In below example, we only give one default value for the field. Check the output."
   ],
   "metadata": {
    "collapsed": false,
    "pycharm": {
     "name": "#%% md\n"
    }
   }
  },
  {
   "cell_type": "code",
   "execution_count": 27,
   "outputs": [
    {
     "name": "stdout",
     "output_type": "stream",
     "text": [
      "Person(name='Jane', job='Python Developer')\n"
     ]
    }
   ],
   "source": [
    "Person = namedtuple(\"Person\", \"name job\", defaults=[\"Python Developer\"])\n",
    "person = Person(\"Jane\")\n",
    "print(person)"
   ],
   "metadata": {
    "collapsed": false,
    "pycharm": {
     "name": "#%%\n"
    }
   }
  },
  {
   "cell_type": "markdown",
   "source": [
    "You can notice, it worked. that's because the namedtuple() applies the default values to the rightmost fields.\n",
    "\n",
    "If we give 0 parameter, what will happen?"
   ],
   "metadata": {
    "collapsed": false,
    "pycharm": {
     "name": "#%% md\n"
    }
   }
  },
  {
   "cell_type": "code",
   "execution_count": 29,
   "outputs": [
    {
     "ename": "TypeError",
     "evalue": "__new__() missing 1 required positional argument: 'name'",
     "output_type": "error",
     "traceback": [
      "\u001B[0;31m---------------------------------------------------------------------------\u001B[0m",
      "\u001B[0;31mTypeError\u001B[0m                                 Traceback (most recent call last)",
      "Input \u001B[0;32mIn [29]\u001B[0m, in \u001B[0;36m<cell line: 1>\u001B[0;34m()\u001B[0m\n\u001B[0;32m----> 1\u001B[0m person \u001B[38;5;241m=\u001B[39m \u001B[43mPerson\u001B[49m\u001B[43m(\u001B[49m\u001B[43m)\u001B[49m\n\u001B[1;32m      2\u001B[0m \u001B[38;5;28mprint\u001B[39m(person)\n",
      "\u001B[0;31mTypeError\u001B[0m: __new__() missing 1 required positional argument: 'name'"
     ]
    }
   ],
   "source": [
    "person = Person()\n",
    "print(person)"
   ],
   "metadata": {
    "collapsed": false,
    "pycharm": {
     "name": "#%%\n"
    }
   }
  },
  {
   "cell_type": "markdown",
   "source": [
    "## 10.3.3 Show tuple as dict\n",
    "\n",
    "We can create a dictionary from an existing named tuple by using **._asdict()**. This method returns a new dictionary that uses the field names as keys."
   ],
   "metadata": {
    "collapsed": false,
    "pycharm": {
     "name": "#%% md\n"
    }
   }
  },
  {
   "cell_type": "code",
   "execution_count": 32,
   "outputs": [
    {
     "data": {
      "text/plain": "{'name': 'Toto', 'job': 'The boss'}"
     },
     "execution_count": 32,
     "metadata": {},
     "output_type": "execute_result"
    }
   ],
   "source": [
    "person = Person(\"Toto\", \"The boss\")\n",
    "person._asdict()"
   ],
   "metadata": {
    "collapsed": false,
    "pycharm": {
     "name": "#%%\n"
    }
   }
  },
  {
   "cell_type": "markdown",
   "source": [
    "## 10.3.4 Update the tuple\n",
    "\n",
    "We can use **._replace()** to replace the original value of a field. **This method does not update the tuple in place but returns a new named tuple** with the new value stored in the corresponding field. Do you have an idea of why ._replace() returns a new named tuple?\n",
    "\n",
    "Yes, you are right, tuple is immutable, so you can't update value of an exiting tuple, you need to create a new one."
   ],
   "metadata": {
    "collapsed": false,
    "pycharm": {
     "name": "#%% md\n"
    }
   }
  },
  {
   "cell_type": "code",
   "execution_count": 33,
   "outputs": [],
   "source": [
    "person1=person._replace(name=\"titi\",job=\"the janitor\")"
   ],
   "metadata": {
    "collapsed": false,
    "pycharm": {
     "name": "#%%\n"
    }
   }
  },
  {
   "cell_type": "code",
   "execution_count": 34,
   "outputs": [
    {
     "name": "stdout",
     "output_type": "stream",
     "text": [
      "Person(name='Toto', job='The boss')\n",
      "Person(name='titi', job='the janitor')\n"
     ]
    }
   ],
   "source": [
    "print(person)\n",
    "print(person1)"
   ],
   "metadata": {
    "collapsed": false,
    "pycharm": {
     "name": "#%%\n"
    }
   }
  },
  {
   "cell_type": "code",
   "execution_count": null,
   "outputs": [],
   "source": [],
   "metadata": {
    "collapsed": false,
    "pycharm": {
     "name": "#%%\n"
    }
   }
  }
 ],
 "metadata": {
  "kernelspec": {
   "display_name": "Python 3",
   "language": "python",
   "name": "python3"
  },
  "language_info": {
   "codemirror_mode": {
    "name": "ipython",
    "version": 2
   },
   "file_extension": ".py",
   "mimetype": "text/x-python",
   "name": "python",
   "nbconvert_exporter": "python",
   "pygments_lexer": "ipython2",
   "version": "2.7.6"
  }
 },
 "nbformat": 4,
 "nbformat_minor": 0
}
