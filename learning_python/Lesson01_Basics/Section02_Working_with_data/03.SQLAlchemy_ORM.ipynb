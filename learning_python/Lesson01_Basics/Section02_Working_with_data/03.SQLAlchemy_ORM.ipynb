{
 "cells": [
  {
   "cell_type": "markdown",
   "source": [
    "# 3. SQLAlchemy orm\n",
    "\n",
    "The main objective of the Object Relational Mapper API of SQLAlchemy is to facilitate associating user-defined Python classes with database tables, and objects of those classes with rows in their corresponding tables. Changes in states of objects and rows are synchronously matched with each other. SQLAlchemy enables expressing database queries in terms of user defined classes and their defined relationships.\n",
    "\n",
    "## 3.1 Declare mapping\n",
    "\n",
    "In case of ORM, the configuration process starts by\n",
    "- describing the database tables\n",
    "- defining classes which will be mapped to those tables.\n",
    "\n",
    "In SQLAlchemy, these two tasks are performed together. This is done by using Declarative system; the classes created include directives to describe the actual database table they are mapped to."
   ],
   "metadata": {
    "collapsed": false
   }
  },
  {
   "cell_type": "code",
   "execution_count": 1,
   "outputs": [],
   "source": [
    "from sqlalchemy import create_engine\n",
    "base_path=\"../../../data/orm_test.db\"\n",
    "db_url=f\"sqlite:///{base_path}\"\n",
    "# echo(default is false) when set to True will generate the activity log\n",
    "# Below command will create the sqlite db, if not existed\n",
    "# create_engine() will return an engine object.\n",
    "# The Engine establishes a real DBAPI connection to the database when\n",
    "# a method like Engine.execute() or Engine.connect() is called.\n",
    "engine = create_engine(db_url, echo = True)"
   ],
   "metadata": {
    "collapsed": false
   }
  },
  {
   "cell_type": "markdown",
   "source": [
    "Below code create a `base class`, which stores a catalog of classes and mapped tables in the Declarative system. This is called as the declarative base class. There will be usually just one instance of this base in a commonly imported module. The declarative_base() function is used to create base class. This function is defined in sqlalchemy.ext.declarative module."
   ],
   "metadata": {
    "collapsed": false
   }
  },
  {
   "cell_type": "code",
   "execution_count": 2,
   "outputs": [],
   "source": [
    "from sqlalchemy.ext.declarative import declarative_base\n",
    "Base = declarative_base()"
   ],
   "metadata": {
    "collapsed": false
   }
  },
  {
   "cell_type": "markdown",
   "source": [
    "A table object mapper class in Declarative must have a **__tablename__** attribute, and **at least one Column** which is part of a primary key. Declarative replaces all the Column objects with special Python accessors known as `descriptors`. In below example, we have two types of descriptors:\n",
    "- column\n",
    "- relationship\n",
    "\n",
    "All the descriptors will be stored in **Base.metadata**"
   ],
   "metadata": {
    "collapsed": false
   }
  },
  {
   "cell_type": "code",
   "execution_count": 3,
   "outputs": [],
   "source": [
    "from sqlalchemy.orm import backref, relationship\n",
    "from sqlalchemy import Column, Integer,String, SmallInteger, Text, DateTime, ForeignKey\n",
    "\n",
    "# One-to-many relation\n",
    "# Having a ForeignKey defines the existence of the relationship between Cohort and\n",
    "# Dataset.\n",
    "# Below code defines a parent-child collection. The datasets attribute being plural\n",
    "# (which is not a requirement, just a convention) is an indication that it’s a collection.\n",
    "# The first parameter is the class name Dataset (which is not the table name dataset), is the\n",
    "# class to which the datasets attribute is related. The relationship informs SQLAlchemy that\n",
    "# there’s a relationship between the **Cohort and Dataset classes**. SQLAlchemy will find the\n",
    "# relationship in the Dataset class definition (line 3 of Dataset class)\n",
    "# The backref parameter creates an author attribute for each Book instance. This attribute refers\n",
    "# to the parent Author that the Book instance is related to.\n",
    "\n",
    "class Cohort(Base):\n",
    "    __tablename__='cohort'\n",
    "\n",
    "    id=Column(Integer,primary_key=True)\n",
    "    cname=Column(String)\n",
    "    datasets=relationship(\"Dataset\", backref=backref(\"cohort\"))"
   ],
   "metadata": {
    "collapsed": false
   }
  },
  {
   "cell_type": "code",
   "execution_count": 4,
   "outputs": [],
   "source": [
    "class Dataset(Base):\n",
    "    __tablename__=\"dataset\"\n",
    "\n",
    "    id=Column(Integer,primary_key=True)\n",
    "    cohort_id=Column(Integer, ForeignKey(\"cohort.id\"))\n",
    "    year= Column(Integer)\n",
    "    name = Column(String)\n",
    "    location = Column(String)\n",
    "    status = Column(SmallInteger)\n",
    "    validation_tasks=relationship(\"ValidationTask\",backref=backref(\"dataset\"))"
   ],
   "metadata": {
    "collapsed": false
   }
  },
  {
   "cell_type": "code",
   "execution_count": 5,
   "outputs": [],
   "source": [
    "class Descriptor(Base):\n",
    "    __tablename__=\"descriptor\"\n",
    "\n",
    "    id=Column(Integer,primary_key=True)\n",
    "    dataset_id=Column(Integer, ForeignKey(\"dataset.id\"))\n",
    "    name = Column(String)\n",
    "    location = Column(String)"
   ],
   "metadata": {
    "collapsed": false
   }
  },
  {
   "cell_type": "code",
   "execution_count": 6,
   "outputs": [],
   "source": [
    "class ValidationRule(Base):\n",
    "    __tablename__=\"validation_rule\"\n",
    "\n",
    "    id=Column(Integer,primary_key=True)\n",
    "    name = Column(String)\n",
    "    description=Column(Text)\n",
    "    args= Column(String)\n",
    "    kwargs= Column(String)\n",
    "    validation_tasks=relationship(\"ValidationTask\",backref=backref(\"validation_rule\"))"
   ],
   "metadata": {
    "collapsed": false
   }
  },
  {
   "cell_type": "code",
   "execution_count": 7,
   "outputs": [],
   "source": [
    "class ValidationTask(Base):\n",
    "    __tablename__=\"validation_task\"\n",
    "\n",
    "    id=Column(Integer,primary_key=True)\n",
    "    start_date=Column(DateTime)\n",
    "    end_date=Column(DateTime)\n",
    "    dataset_id=Column(Integer, ForeignKey(\"dataset.id\"))\n",
    "    validation_rule_id=Column(Integer,ForeignKey(\"validation_rule.id\"))\n",
    "    task_status = Column(SmallInteger)\n",
    "    output = Column(Text)\n"
   ],
   "metadata": {
    "collapsed": false
   }
  },
  {
   "cell_type": "code",
   "execution_count": 8,
   "outputs": [
    {
     "name": "stdout",
     "output_type": "stream",
     "text": [
      "2022-12-12 09:40:26,176 INFO sqlalchemy.engine.Engine BEGIN (implicit)\n",
      "2022-12-12 09:40:26,177 INFO sqlalchemy.engine.Engine PRAGMA main.table_info(\"cohort\")\n",
      "2022-12-12 09:40:26,197 INFO sqlalchemy.engine.Engine [raw sql] ()\n",
      "2022-12-12 09:40:26,200 INFO sqlalchemy.engine.Engine PRAGMA temp.table_info(\"cohort\")\n",
      "2022-12-12 09:40:26,201 INFO sqlalchemy.engine.Engine [raw sql] ()\n",
      "2022-12-12 09:40:26,201 INFO sqlalchemy.engine.Engine PRAGMA main.table_info(\"dataset\")\n",
      "2022-12-12 09:40:26,202 INFO sqlalchemy.engine.Engine [raw sql] ()\n",
      "2022-12-12 09:40:26,203 INFO sqlalchemy.engine.Engine PRAGMA temp.table_info(\"dataset\")\n",
      "2022-12-12 09:40:26,217 INFO sqlalchemy.engine.Engine [raw sql] ()\n",
      "2022-12-12 09:40:26,217 INFO sqlalchemy.engine.Engine PRAGMA main.table_info(\"descriptor\")\n",
      "2022-12-12 09:40:26,228 INFO sqlalchemy.engine.Engine [raw sql] ()\n",
      "2022-12-12 09:40:26,229 INFO sqlalchemy.engine.Engine PRAGMA temp.table_info(\"descriptor\")\n",
      "2022-12-12 09:40:26,233 INFO sqlalchemy.engine.Engine [raw sql] ()\n",
      "2022-12-12 09:40:26,234 INFO sqlalchemy.engine.Engine PRAGMA main.table_info(\"validation_rule\")\n",
      "2022-12-12 09:40:26,235 INFO sqlalchemy.engine.Engine [raw sql] ()\n",
      "2022-12-12 09:40:26,249 INFO sqlalchemy.engine.Engine PRAGMA temp.table_info(\"validation_rule\")\n",
      "2022-12-12 09:40:26,256 INFO sqlalchemy.engine.Engine [raw sql] ()\n",
      "2022-12-12 09:40:26,260 INFO sqlalchemy.engine.Engine PRAGMA main.table_info(\"validation_task\")\n",
      "2022-12-12 09:40:26,268 INFO sqlalchemy.engine.Engine [raw sql] ()\n",
      "2022-12-12 09:40:26,281 INFO sqlalchemy.engine.Engine PRAGMA temp.table_info(\"validation_task\")\n",
      "2022-12-12 09:40:26,283 INFO sqlalchemy.engine.Engine [raw sql] ()\n",
      "2022-12-12 09:40:26,285 INFO sqlalchemy.engine.Engine \n",
      "CREATE TABLE cohort (\n",
      "\tid INTEGER NOT NULL, \n",
      "\tcname VARCHAR, \n",
      "\tPRIMARY KEY (id)\n",
      ")\n",
      "\n",
      "\n",
      "2022-12-12 09:40:26,285 INFO sqlalchemy.engine.Engine [no key 0.00045s] ()\n",
      "2022-12-12 09:40:26,315 INFO sqlalchemy.engine.Engine \n",
      "CREATE TABLE validation_rule (\n",
      "\tid INTEGER NOT NULL, \n",
      "\tname VARCHAR, \n",
      "\tdescription TEXT, \n",
      "\targs VARCHAR, \n",
      "\tkwargs VARCHAR, \n",
      "\tPRIMARY KEY (id)\n",
      ")\n",
      "\n",
      "\n",
      "2022-12-12 09:40:26,316 INFO sqlalchemy.engine.Engine [no key 0.00083s] ()\n",
      "2022-12-12 09:40:26,352 INFO sqlalchemy.engine.Engine \n",
      "CREATE TABLE dataset (\n",
      "\tid INTEGER NOT NULL, \n",
      "\tcohort_id INTEGER, \n",
      "\tyear INTEGER, \n",
      "\tname VARCHAR, \n",
      "\tlocation VARCHAR, \n",
      "\tstatus SMALLINT, \n",
      "\tPRIMARY KEY (id), \n",
      "\tFOREIGN KEY(cohort_id) REFERENCES cohort (id)\n",
      ")\n",
      "\n",
      "\n",
      "2022-12-12 09:40:26,362 INFO sqlalchemy.engine.Engine [no key 0.00999s] ()\n",
      "2022-12-12 09:40:26,374 INFO sqlalchemy.engine.Engine \n",
      "CREATE TABLE descriptor (\n",
      "\tid INTEGER NOT NULL, \n",
      "\tdataset_id INTEGER, \n",
      "\tname VARCHAR, \n",
      "\tlocation VARCHAR, \n",
      "\tPRIMARY KEY (id), \n",
      "\tFOREIGN KEY(dataset_id) REFERENCES dataset (id)\n",
      ")\n",
      "\n",
      "\n",
      "2022-12-12 09:40:26,374 INFO sqlalchemy.engine.Engine [no key 0.00083s] ()\n",
      "2022-12-12 09:40:26,387 INFO sqlalchemy.engine.Engine \n",
      "CREATE TABLE validation_task (\n",
      "\tid INTEGER NOT NULL, \n",
      "\tstart_date DATETIME, \n",
      "\tend_date DATETIME, \n",
      "\tdataset_id INTEGER, \n",
      "\tvalidation_rule_id INTEGER, \n",
      "\ttask_status SMALLINT, \n",
      "\toutput TEXT, \n",
      "\tPRIMARY KEY (id), \n",
      "\tFOREIGN KEY(dataset_id) REFERENCES dataset (id), \n",
      "\tFOREIGN KEY(validation_rule_id) REFERENCES validation_rule (id)\n",
      ")\n",
      "\n",
      "\n",
      "2022-12-12 09:40:26,387 INFO sqlalchemy.engine.Engine [no key 0.00083s] ()\n",
      "2022-12-12 09:40:26,413 INFO sqlalchemy.engine.Engine COMMIT\n"
     ]
    }
   ],
   "source": [
    "Base.metadata.create_all(engine)"
   ],
   "metadata": {
    "collapsed": false
   }
  },
  {
   "cell_type": "code",
   "execution_count": null,
   "outputs": [],
   "source": [],
   "metadata": {
    "collapsed": false
   }
  }
 ],
 "metadata": {
  "kernelspec": {
   "display_name": "Python 3",
   "language": "python",
   "name": "python3"
  },
  "language_info": {
   "codemirror_mode": {
    "name": "ipython",
    "version": 2
   },
   "file_extension": ".py",
   "mimetype": "text/x-python",
   "name": "python",
   "nbconvert_exporter": "python",
   "pygments_lexer": "ipython2",
   "version": "2.7.6"
  }
 },
 "nbformat": 4,
 "nbformat_minor": 0
}
