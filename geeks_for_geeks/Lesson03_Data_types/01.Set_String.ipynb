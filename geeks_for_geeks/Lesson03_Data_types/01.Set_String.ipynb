{
 "cells": [
  {
   "cell_type": "markdown",
   "metadata": {
    "pycharm": {
     "name": "#%% md\n"
    }
   },
   "source": [
    "# 3.1 Strings in Python\n",
    "A string is a sequence of characters. It can be declared in python by using double-quotes. Strings are immutable, i.e.,\n",
    "they cannot be changed.\n",
    "\n",
    "**In Python, Strings are arrays of bytes representing Unicode characters**. However, **Python does not have a character\n",
    "data type**, a single character is simply a string with a length of 1. Square brackets can be used to access elements\n",
    "of the string.\n"
   ]
  },
  {
   "cell_type": "markdown",
   "metadata": {},
   "source": [
    "## 3.1.1 Creating a String\n",
    "Strings in Python can be created using single quotes or double quotes or even triple quotes. "
   ]
  },
  {
   "cell_type": "code",
   "execution_count": 1,
   "metadata": {},
   "outputs": [
    {
     "name": "stdout",
     "output_type": "stream",
     "text": [
      "String with the use of Single Quotes: Welcome to the Geeks World\n",
      "\n",
      "String with the use of Double Quotes: I'm a Geek\n",
      "\n",
      "String with the use of Triple Quotes: I'm a Geek and I live in a world of \"Geeks\"\n"
     ]
    }
   ],
   "source": [
    "# Creating a String with single Quotes\n",
    "str1 = 'Welcome to the Geeks World'\n",
    "print(f\"String with the use of Single Quotes: {str1}\")\n",
    " \n",
    "# Creating a String\n",
    "# with double Quotes\n",
    "str2 = \"I'm a Geek\"\n",
    "print(f\"\\nString with the use of Double Quotes: {str2}\")\n",
    " \n",
    "# Creating a String\n",
    "# with triple Quotes\n",
    "str2 = '''I'm a Geek and I live in a world of \"Geeks\"'''\n",
    "print(f\"\\nString with the use of Triple Quotes: {str2}\")\n"
   ]
  },
  {
   "cell_type": "markdown",
   "metadata": {},
   "source": [
    "## 3.1.2 Accessing characters\n",
    "\n",
    "In Python, individual characters of a String can be accessed by using the method of Indexing. Indexing allows **negative address references to access characters from the back of the String, e.g. -1 refers to the last character, -2 refers to the second last character, and so on.**\n",
    "\n",
    "While accessing an index out of the range will cause an IndexError. Only Integers are allowed to be passed as an index, float or other types that will cause a TypeError. "
   ]
  },
  {
   "cell_type": "code",
   "execution_count": 2,
   "metadata": {},
   "outputs": [
    {
     "name": "stdout",
     "output_type": "stream",
     "text": [
      "Initial String: \n",
      "Hello world\n",
      "\n",
      "First character of String is: \n",
      "H\n",
      "\n",
      "Last character of String is: \n",
      "d\n"
     ]
    }
   ],
   "source": [
    "message = \"Hello world\"\n",
    "print(\"Initial String: \")\n",
    "print(message)\n",
    " \n",
    "# Printing First character\n",
    "print(\"\\nFirst character of String is: \")\n",
    "print(message[0])\n",
    " \n",
    "# Printing Last character\n",
    "print(\"\\nLast character of String is: \")\n",
    "print(message[-1])"
   ]
  },
  {
   "cell_type": "markdown",
   "metadata": {},
   "source": [
    "## 3.1.3 String Slicing\n",
    "To access a range of characters in the String, the method of slicing is used. Slicing in a String is done by using a Slicing operator (colon). "
   ]
  },
  {
   "cell_type": "code",
   "execution_count": 5,
   "metadata": {},
   "outputs": [
    {
     "name": "stdout",
     "output_type": "stream",
     "text": [
      "Slicing characters from 3-12: \n",
      "lo world\n",
      "Slicing characters between 3rd and 2nd last character: \n",
      "lo wor\n"
     ]
    }
   ],
   "source": [
    "# Printing 3rd to 12th character\n",
    "print(\"Slicing characters from 3-12: \")\n",
    "print(message[3:12])\n",
    " \n",
    "# Printing characters between\n",
    "# 3rd and 2nd last character\n",
    "print(\"Slicing characters between 3rd and 2nd last character: \")\n",
    "print(message[3:-2])"
   ]
  },
  {
   "cell_type": "markdown",
   "metadata": {},
   "source": [
    "## 3.1.4 Deleting/Updating from a String\n",
    "\n",
    "In Python, **Updation or deletion of characters from a String is not allowed**. This will cause an error because item assignment or item deletion from a String is not supported. **Although deletion of the entire String is possible with the use of a built-in del keyword**. This is because Strings are immutable, hence elements of a String cannot be changed once it has been assigned. Only new strings can be reassigned to the same name. "
   ]
  },
  {
   "cell_type": "code",
   "execution_count": 8,
   "metadata": {},
   "outputs": [
    {
     "ename": "TypeError",
     "evalue": "'str' object does not support item assignment",
     "output_type": "error",
     "traceback": [
      "\u001b[0;31m---------------------------------------------------------------------------\u001b[0m",
      "\u001b[0;31mTypeError\u001b[0m                                 Traceback (most recent call last)",
      "\u001b[0;32m/tmp/ipykernel_938/3674092219.py\u001b[0m in \u001b[0;36m<module>\u001b[0;34m\u001b[0m\n\u001b[1;32m      1\u001b[0m \u001b[0;31m# Updating a character of the String, you should see an error message\u001b[0m\u001b[0;34m\u001b[0m\u001b[0;34m\u001b[0m\u001b[0m\n\u001b[0;32m----> 2\u001b[0;31m \u001b[0mmessage\u001b[0m\u001b[0;34m[\u001b[0m\u001b[0;36m2\u001b[0m\u001b[0;34m]\u001b[0m \u001b[0;34m=\u001b[0m \u001b[0;34m'p'\u001b[0m\u001b[0;34m\u001b[0m\u001b[0;34m\u001b[0m\u001b[0m\n\u001b[0m\u001b[1;32m      3\u001b[0m \u001b[0mprint\u001b[0m\u001b[0;34m(\u001b[0m\u001b[0;34m\"Updating character at 2nd Index: \"\u001b[0m\u001b[0;34m)\u001b[0m\u001b[0;34m\u001b[0m\u001b[0;34m\u001b[0m\u001b[0m\n\u001b[1;32m      4\u001b[0m \u001b[0mprint\u001b[0m\u001b[0;34m(\u001b[0m\u001b[0mmessage\u001b[0m\u001b[0;34m)\u001b[0m\u001b[0;34m\u001b[0m\u001b[0;34m\u001b[0m\u001b[0m\n\u001b[1;32m      5\u001b[0m \u001b[0;34m\u001b[0m\u001b[0m\n",
      "\u001b[0;31mTypeError\u001b[0m: 'str' object does not support item assignment"
     ]
    }
   ],
   "source": [
    "# Updating a character of the String, you should see an error message\n",
    "message[2] = 'p'\n",
    "print(\"Updating character at 2nd Index: \")\n",
    "print(message)\n"
   ]
  },
  {
   "cell_type": "code",
   "execution_count": 7,
   "metadata": {},
   "outputs": [
    {
     "name": "stdout",
     "output_type": "stream",
     "text": [
      "before update: Hello world \n",
      "after update: python can do a lot of things\n"
     ]
    }
   ],
   "source": [
    "# We can update an entire string\n",
    "print(f\"before update: {message} \")\n",
    "message=\"python can do a lot of things\"\n",
    "print(f\"after update: {message}\")"
   ]
  },
  {
   "cell_type": "code",
   "execution_count": 9,
   "metadata": {},
   "outputs": [
    {
     "ename": "TypeError",
     "evalue": "'str' object doesn't support item deletion",
     "output_type": "error",
     "traceback": [
      "\u001b[0;31m---------------------------------------------------------------------------\u001b[0m",
      "\u001b[0;31mTypeError\u001b[0m                                 Traceback (most recent call last)",
      "\u001b[0;32m/tmp/ipykernel_938/2875240372.py\u001b[0m in \u001b[0;36m<module>\u001b[0;34m\u001b[0m\n\u001b[1;32m      1\u001b[0m \u001b[0;31m# Deleting a character of the String\u001b[0m\u001b[0;34m\u001b[0m\u001b[0;34m\u001b[0m\u001b[0m\n\u001b[0;32m----> 2\u001b[0;31m \u001b[0;32mdel\u001b[0m \u001b[0mmessage\u001b[0m\u001b[0;34m[\u001b[0m\u001b[0;36m2\u001b[0m\u001b[0;34m]\u001b[0m\u001b[0;34m\u001b[0m\u001b[0;34m\u001b[0m\u001b[0m\n\u001b[0m\u001b[1;32m      3\u001b[0m \u001b[0mprint\u001b[0m\u001b[0;34m(\u001b[0m\u001b[0;34m\"Deleting character at 2nd Index: \"\u001b[0m\u001b[0;34m)\u001b[0m\u001b[0;34m\u001b[0m\u001b[0;34m\u001b[0m\u001b[0m\n\u001b[1;32m      4\u001b[0m \u001b[0mprint\u001b[0m\u001b[0;34m(\u001b[0m\u001b[0mmessage\u001b[0m\u001b[0;34m)\u001b[0m\u001b[0;34m\u001b[0m\u001b[0;34m\u001b[0m\u001b[0m\n",
      "\u001b[0;31mTypeError\u001b[0m: 'str' object doesn't support item deletion"
     ]
    }
   ],
   "source": [
    "# Deleting a character of the String\n",
    "del message[2]\n",
    "print(\"Deleting character at 2nd Index: \")\n",
    "print(message)"
   ]
  },
  {
   "cell_type": "code",
   "execution_count": 10,
   "metadata": {},
   "outputs": [
    {
     "name": "stdout",
     "output_type": "stream",
     "text": [
      "Deleting entire String: \n"
     ]
    },
    {
     "ename": "NameError",
     "evalue": "name 'message' is not defined",
     "output_type": "error",
     "traceback": [
      "\u001b[0;31m---------------------------------------------------------------------------\u001b[0m",
      "\u001b[0;31mNameError\u001b[0m                                 Traceback (most recent call last)",
      "\u001b[0;32m/tmp/ipykernel_938/3615670031.py\u001b[0m in \u001b[0;36m<module>\u001b[0;34m\u001b[0m\n\u001b[1;32m      2\u001b[0m \u001b[0;32mdel\u001b[0m \u001b[0mmessage\u001b[0m\u001b[0;34m\u001b[0m\u001b[0;34m\u001b[0m\u001b[0m\n\u001b[1;32m      3\u001b[0m \u001b[0mprint\u001b[0m\u001b[0;34m(\u001b[0m\u001b[0;34m\"Deleting entire String: \"\u001b[0m\u001b[0;34m)\u001b[0m\u001b[0;34m\u001b[0m\u001b[0;34m\u001b[0m\u001b[0m\n\u001b[0;32m----> 4\u001b[0;31m \u001b[0mprint\u001b[0m\u001b[0;34m(\u001b[0m\u001b[0mmessage\u001b[0m\u001b[0;34m)\u001b[0m\u001b[0;34m\u001b[0m\u001b[0;34m\u001b[0m\u001b[0m\n\u001b[0m",
      "\u001b[0;31mNameError\u001b[0m: name 'message' is not defined"
     ]
    }
   ],
   "source": [
    "# Deleting an entire String with the use of del\n",
    "del message\n",
    "print(\"Deleting entire String: \")\n",
    "\n",
    "# after delete, we can not print it anymore\n",
    "print(message)"
   ]
  },
  {
   "cell_type": "markdown",
   "metadata": {},
   "source": [
    "## 3.1.5 Escape Sequencing in Python\n",
    "\n",
    "While printing Strings with single and double quotes in it causes SyntaxError because String already contains Single and Double Quotes and hence cannot be printed with the use of either of these. Hence, to print such a String either Triple Quotes are used or Escape sequences are used to print such Strings. \n",
    "\n",
    "**Escape sequences start with a backslash and can be interpreted differently**. If single quotes are used to represent a string, then all the single quotes present in the string must be escaped and same is done for Double Quotes. "
   ]
  },
  {
   "cell_type": "code",
   "execution_count": 11,
   "metadata": {},
   "outputs": [
    {
     "name": "stdout",
     "output_type": "stream",
     "text": [
      "String with Triple Quotes can have double and single quote in it: \n",
      "I'm a \"Geek\"\n"
     ]
    }
   ],
   "source": [
    "# Initial String\n",
    "message = '''I'm a \"Geek\"'''\n",
    "print(\"String with Triple Quotes can have double and single quote in it: \")\n",
    "print(message)"
   ]
  },
  {
   "cell_type": "code",
   "execution_count": 13,
   "metadata": {},
   "outputs": [
    {
     "name": "stdout",
     "output_type": "stream",
     "text": [
      "Escaping Single Quote inside a single quote: \n",
      "I'm a \"Geek\"\n"
     ]
    }
   ],
   "source": [
    "# Escaping Single Quote in a single quote. Note the double quote does not need to be escaped. Because it does not cause confusion.\n",
    "String1 = 'I\\'m a \"Geek\"'\n",
    "print(\"Escaping Single Quote inside a single quote: \")\n",
    "print(String1)"
   ]
  },
  {
   "cell_type": "code",
   "execution_count": 14,
   "metadata": {},
   "outputs": [
    {
     "name": "stdout",
     "output_type": "stream",
     "text": [
      "Escaping Double Quotes: \n",
      "I'm a \"Geek\"\n"
     ]
    }
   ],
   "source": [
    "# Escaping Double Quotes inside a double quote\n",
    "String1 = \"I'm a \\\"Geek\\\"\"\n",
    "print(\"Escaping Double Quotes: \")\n",
    "print(String1)"
   ]
  },
  {
   "cell_type": "code",
   "execution_count": 17,
   "metadata": {},
   "outputs": [
    {
     "ename": "SyntaxError",
     "evalue": "EOL while scanning string literal (2442666582.py, line 4)",
     "output_type": "error",
     "traceback": [
      "\u001b[0;36m  File \u001b[0;32m\"/tmp/ipykernel_938/2442666582.py\"\u001b[0;36m, line \u001b[0;32m4\u001b[0m\n\u001b[0;31m    String2 = \"C:\\Python\\Geeks\\\"\u001b[0m\n\u001b[0m                                ^\u001b[0m\n\u001b[0;31mSyntaxError\u001b[0m\u001b[0;31m:\u001b[0m EOL while scanning string literal\n"
     ]
    }
   ],
   "source": [
    "# \\ is a special character too. Without protection, it will be considered as a escaping character.\n",
    "# Printing Paths with and without the use of Escape Sequences\n",
    "String1 = \"C:\\\\Python\\\\Geeks\\\\\"\n",
    "String2 = \"C:\\Python\\Geeks\\\"\n",
    "print(f\"Escaping Backslashes: {String1}\")\n",
    "print(f\"Without Escaping Backslashes: {String2}\")"
   ]
  },
  {
   "cell_type": "markdown",
   "metadata": {},
   "source": [
    "## 3.1.6 Formatting of Strings\n",
    "Strings in Python can be formatted with the use of format() method which is a very versatile and powerful tool for formatting Strings. Format method in String contains curly braces {} as placeholders which can hold arguments according to position or keyword to specify the order."
   ]
  },
  {
   "cell_type": "code",
   "execution_count": 18,
   "metadata": {},
   "outputs": [
    {
     "name": "stdout",
     "output_type": "stream",
     "text": [
      "Print String in default order: \n",
      "Geeks For Life\n",
      "\n",
      "Print String in Positional order: \n",
      "For Geeks Life\n",
      "\n",
      "Print String in order of Keywords: \n",
      "Life For Geeks\n"
     ]
    }
   ],
   "source": [
    "# Python Program for\n",
    "# Formatting of Strings\n",
    " \n",
    "# Default order\n",
    "String1 = \"{} {} {}\".format('Geeks', 'For', 'Life')\n",
    "print(\"Print String in default order: \")\n",
    "print(String1)\n",
    " \n",
    "# Positional Formatting\n",
    "String1 = \"{1} {0} {2}\".format('Geeks', 'For', 'Life')\n",
    "print(\"\\nPrint String in Positional order: \")\n",
    "print(String1)\n",
    " \n",
    "# Keyword Formatting\n",
    "String1 = \"{l} {f} {g}\".format(g='Geeks', f='For', l='Life')\n",
    "print(\"\\nPrint String in order of Keywords: \")\n",
    "print(String1)"
   ]
  },
  {
   "cell_type": "markdown",
   "metadata": {},
   "source": [
    "Integers such as Binary, hexadecimal, etc., and floats can be rounded or displayed in the exponent form with the use of **format specifiers**:\n",
    "- b: for binary representation\n",
    "- e: for exponential representation\n",
    "- .2f: for float representation and keep 2 digit after ."
   ]
  },
  {
   "cell_type": "code",
   "execution_count": 19,
   "metadata": {},
   "outputs": [
    {
     "name": "stdout",
     "output_type": "stream",
     "text": [
      "\n",
      "Binary representation of 16 is \n",
      "10000\n",
      "\n",
      "Exponent representation of 165.6458 is \n",
      "1.656458e+02\n",
      "\n",
      "one-sixth is : \n",
      "0.17\n"
     ]
    }
   ],
   "source": [
    "# Formatting of Integers, \n",
    "String1 = \"{0:b}\".format(16)\n",
    "print(\"\\nBinary representation of 16 is \")\n",
    "print(String1)\n",
    " \n",
    "# Formatting of Floats\n",
    "String1 = \"{0:e}\".format(165.6458)\n",
    "print(\"\\nExponent representation of 165.6458 is \")\n",
    "print(String1)\n",
    " \n",
    "# Rounding off Integers\n",
    "String1 = \"{0:.2f}\".format(1/6)\n",
    "print(\"\\none-sixth is : \")\n",
    "print(String1)"
   ]
  },
  {
   "cell_type": "markdown",
   "metadata": {},
   "source": [
    "The position of a string can be set by using format specifiers < (left), > (right) or ^ (center), separated by a colon(:).  "
   ]
  },
  {
   "cell_type": "code",
   "execution_count": 21,
   "metadata": {},
   "outputs": [
    {
     "name": "stdout",
     "output_type": "stream",
     "text": [
      "\n",
      "Left, center and right alignment with Formatting: \n",
      "|Geeks     |   for    |     Geeks|\n",
      "\n",
      " GeeksforGeeks   was founded in 2009!\n"
     ]
    }
   ],
   "source": [
    "# String alignment\n",
    "String1 = \"|{:<10}|{:^10}|{:>10}|\".format('Geeks', 'for', 'Geeks')\n",
    "print(\"\\nLeft, center and right alignment with Formatting: \")\n",
    "print(String1)\n",
    " \n",
    "# To demonstrate aligning of spaces\n",
    "String1 = \"\\n{0:^16} was founded in {1:<4}!\".format(\"GeeksforGeeks\", 2009)\n",
    "print(String1)"
   ]
  },
  {
   "cell_type": "code",
   "execution_count": null,
   "metadata": {},
   "outputs": [],
   "source": []
  },
  {
   "cell_type": "code",
   "execution_count": null,
   "metadata": {},
   "outputs": [],
   "source": []
  }
 ],
 "metadata": {
  "kernelspec": {
   "display_name": "Python 3 (ipykernel)",
   "language": "python",
   "name": "python3"
  },
  "language_info": {
   "codemirror_mode": {
    "name": "ipython",
    "version": 3
   },
   "file_extension": ".py",
   "mimetype": "text/x-python",
   "name": "python",
   "nbconvert_exporter": "python",
   "pygments_lexer": "ipython3",
   "version": "3.9.7"
  }
 },
 "nbformat": 4,
 "nbformat_minor": 4
}
