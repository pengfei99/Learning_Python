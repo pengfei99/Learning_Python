{
 "cells": [
  {
   "cell_type": "markdown",
   "id": "96dd1c78-4e0b-45ee-9fac-4ee5217d27c6",
   "metadata": {},
   "source": [
    "# 10.2 OrderedDict\n",
    "\n",
    "Python’s **OrderedDict is a dict subclass that preserves the order in which key-value pairs, commonly known as items, are inserted into the dictionary**. When you iterate over an OrderedDict object, items are traversed in the original order. If you update the value of an existing key, then the order remains unchanged. If you remove an item and reinsert it, then the item is added at the end of the dictionary.\n",
    "\n",
    "Being a dict subclass means that it inherits all the methods a regular dictionary provides. OrderedDict also has additional features that you’ll learn about in this tutorial. In this section, however, you’ll learn the basics of creating and using OrderedDict objects in your code.\n",
    "\n",
    "OrderedDict property:\n",
    "- Mutable\n",
    "- Ordered"
   ]
  },
  {
   "cell_type": "markdown",
   "id": "f829fd0a-5ef9-4476-ad2d-c7d236099905",
   "metadata": {},
   "source": [
    "## 10.2.1 Creating an OrderedDict\n",
    "\n",
    "Unlike dict, OrderedDict isn’t a built-in type, so we need to import the class from collections. There are several ways to create ordered dictionaries. Most of them are identical to how you create a regular dict object. \n",
    "\n",
    "1. Create an empty OrderedDict and insert items one by one\n",
    "2. Use the constructor of OrderedDict with an iterable of items as an argument"
   ]
  },
  {
   "cell_type": "code",
   "execution_count": 2,
   "id": "bc7b28fb-2c24-4d12-b9c9-485f6a17c845",
   "metadata": {},
   "outputs": [],
   "source": [
    "from collections import OrderedDict"
   ]
  },
  {
   "cell_type": "code",
   "execution_count": 4,
   "id": "5e2281b8-6275-4405-8134-4051528361ff",
   "metadata": {},
   "outputs": [
    {
     "name": "stdout",
     "output_type": "stream",
     "text": [
      "OrderedDict([('one', 1), ('two', 2), ('three', 3)])\n"
     ]
    }
   ],
   "source": [
    "# create an empty OrderedDict and insert items one by one\n",
    "numbers = OrderedDict()\n",
    "numbers[\"one\"] = 1\n",
    "numbers[\"two\"] = 2\n",
    "numbers[\"three\"] = 3\n",
    "\n",
    "# note the order of insert is preserved\n",
    "print(numbers)"
   ]
  },
  {
   "cell_type": "code",
   "execution_count": 6,
   "id": "1f8164b0-6ea3-4552-a0d6-8312f2b31da8",
   "metadata": {},
   "outputs": [
    {
     "name": "stdout",
     "output_type": "stream",
     "text": [
      "OrderedDict([('one', 1), ('two', 2), ('three', 3)])\n"
     ]
    }
   ],
   "source": [
    "# Use the constructor of OrderedDict with an iterable of items as an argument \n",
    "numbers = OrderedDict([(\"one\", 1), (\"two\", 2), (\"three\", 3)])\n",
    "\n",
    "# note the order of items in the iterable is preserved\n",
    "print(numbers)"
   ]
  },
  {
   "cell_type": "markdown",
   "id": "ca113b10-7ea8-4d28-96c0-c425a87c61e1",
   "metadata": {},
   "source": [
    "> Note\n",
    ">\n",
    "> If the input iterable are ordered such as List, Set, the order iss preserved. If the iterable are not ordered such as set, **the final order of items in the Ordered Dict is unknown until the OrderedDict is created.**"
   ]
  },
  {
   "cell_type": "code",
   "execution_count": 7,
   "id": "fd2c86b9-fa5f-4a09-b3ad-73edfdcf5d24",
   "metadata": {},
   "outputs": [
    {
     "name": "stdout",
     "output_type": "stream",
     "text": [
      "OrderedDict([('three', 3), ('two', 2), ('one', 1)])\n"
     ]
    }
   ],
   "source": [
    "# Use a set to create a OrderedDict\n",
    "numbers = OrderedDict({(\"one\", 1), (\"two\", 2), (\"three\", 3)})\n",
    "\n",
    "# note the order of items \n",
    "print(numbers)"
   ]
  },
  {
   "cell_type": "markdown",
   "id": "a24ddd54-82a4-4474-ba79-30ffeb50803f",
   "metadata": {},
   "source": [
    "> Note\n",
    ">\n",
    "> If the input iterable is a Dict. The output depends on your python version. **Because since python 3.6 and beyond, Dict is ordered, below 3.6, Dict is not ordered**"
   ]
  },
  {
   "cell_type": "markdown",
   "id": "d3b1bc11-6c43-4da1-b40d-4f4229b98d8d",
   "metadata": {},
   "source": [
    "## 10.2.2 Updating an OrderedDict\n",
    "\n",
    "Since OrderedDict is a **mutable** data structure, you can perform mutating operations on its instances, such as\n",
    "- insert \n",
    "- update\n",
    "- remove \n",
    "\n",
    "Note: If you insert a new item into an existing ordered dictionary, then the item is added to the end of the dictionary:"
   ]
  },
  {
   "cell_type": "markdown",
   "id": "cc9c3df0-7f6e-4dc4-83b7-372b2f8daf1e",
   "metadata": {},
   "source": [
    "### 10.2.2.1 Insert\n",
    "\n",
    "To insert an item, we can use the following general form\n",
    "```text\n",
    "<dict_name>[key]=value\n",
    "```"
   ]
  },
  {
   "cell_type": "code",
   "execution_count": 9,
   "id": "d4d330f1-2b6d-4d2c-a530-8010f89e005f",
   "metadata": {},
   "outputs": [
    {
     "name": "stdout",
     "output_type": "stream",
     "text": [
      "numbers before update: OrderedDict([('one', 1), ('two', 2), ('three', 3)])\n",
      "numbers before update: OrderedDict([('one', 1), ('two', 2), ('three', 3), ('four', 4)])\n"
     ]
    }
   ],
   "source": [
    "numbers = OrderedDict(one=1, two=2, three=3)\n",
    "print(f\"numbers before update: {numbers}\")\n",
    "\n",
    "# insert a new item four: 4\n",
    "numbers['four']=4\n",
    "\n",
    "# note the inserted item is at the end of the OrderedDict\n",
    "print(f\"numbers after update: {numbers}\")"
   ]
  },
  {
   "cell_type": "markdown",
   "id": "8ee591d6-4dc3-4a7a-8a9a-8eea9d7bb509",
   "metadata": {},
   "source": [
    "### 10.2.2.2 Delete\n",
    "\n",
    "To delete an item from a Dict, we can use the following general form\n",
    "```text\n",
    "del <dict_name>[key]\n",
    "```"
   ]
  },
  {
   "cell_type": "code",
   "execution_count": 10,
   "id": "b32aa203-fdd4-40dd-87e9-c469031b3602",
   "metadata": {},
   "outputs": [
    {
     "name": "stdout",
     "output_type": "stream",
     "text": [
      "numbers before delete: OrderedDict([('one', 1), ('two', 2), ('three', 3)])\n",
      "numbers after delete: OrderedDict([('two', 2), ('three', 3)])\n",
      "numbers after insert: OrderedDict([('two', 2), ('three', 3), ('one', 1)])\n"
     ]
    }
   ],
   "source": [
    "numbers = OrderedDict(one=1, two=2, three=3)\n",
    "print(f\"numbers before delete: {numbers}\")\n",
    "\n",
    "# insert a new item four: 4\n",
    "del numbers['one']\n",
    "\n",
    "# note the inserted item is at the end of the OrderedDict\n",
    "print(f\"numbers after delete: {numbers}\")\n",
    "\n",
    "# if we insert again one,  check the order\n",
    "numbers['one']=1\n",
    "print(f\"numbers after insert: {numbers}\")\n",
    "# note the item ('one',1) is at the end now"
   ]
  },
  {
   "cell_type": "markdown",
   "id": "c56eb3ff-f3d0-43a0-85e7-41e26550d85d",
   "metadata": {},
   "source": [
    "### 10.2.2.3 Update\n",
    "\n",
    "To update the value of an item from a Dict, we can use the two following general form\n",
    "```text\n",
    "1. <dict_name>[key]=new_value\n",
    "2. <dict_name>.update({key:new_value})\n",
    "```\n",
    "Note. The update of an exsiting key does not change the order of the key."
   ]
  },
  {
   "cell_type": "code",
   "execution_count": 13,
   "id": "0a44370e-fa44-4647-ade8-9cb72b008ad9",
   "metadata": {},
   "outputs": [
    {
     "name": "stdout",
     "output_type": "stream",
     "text": [
      "numbers before update: OrderedDict([('one', 1), ('two', 2), ('three', 3)])\n",
      "numbers after 1st update: OrderedDict([('one', 1.0), ('two', 2), ('three', 3)])\n",
      "numbers after 2nd update: OrderedDict([('one', 1.0), ('two', 2.0), ('three', 3)])\n"
     ]
    }
   ],
   "source": [
    "numbers = OrderedDict(one=1, two=2, three=3)\n",
    "print(f\"numbers before update: {numbers}\")\n",
    "\n",
    "# first update\n",
    "numbers['one']=1.0\n",
    "print(f\"numbers after 1st update: {numbers}\")\n",
    "\n",
    "\n",
    "# second update\n",
    "numbers.update(two=2.0)\n",
    "print(f\"numbers after 2nd update: {numbers}\")"
   ]
  },
  {
   "cell_type": "markdown",
   "id": "67c06724-17c0-4682-b485-e9e1923f7da4",
   "metadata": {},
   "source": [
    "> Note\n",
    "> \n",
    "> the update method allows you to update multiple items at same time, if the key does not exist in the origin dict, the item will be added at the end of the dict"
   ]
  },
  {
   "cell_type": "code",
   "execution_count": 20,
   "id": "e24dada5-5d6c-4115-9c71-0c7af67f9f88",
   "metadata": {},
   "outputs": [
    {
     "name": "stdout",
     "output_type": "stream",
     "text": [
      "1st item :one\n",
      "numbers after update: OrderedDict([(1, 'ONE'), (2, 'TWO'), (3, 'three'), (4, 'four')])\n"
     ]
    }
   ],
   "source": [
    "# the key can be any hashable type, below we use int as key\n",
    "numbers = OrderedDict([(1,'one'), (2,'two'), (3,'three')])\n",
    "print(f\"numbers before update: {numbers}\")\n",
    "\n",
    "# update multiple items\n",
    "numbers.update({1:'ONE', 2:'TWO', 4:'four'})\n",
    "print(f\"numbers after update: {numbers}\")"
   ]
  },
  {
   "cell_type": "markdown",
   "id": "223e74a4-87d1-449b-9e7b-8aeed9ec4a9b",
   "metadata": {},
   "source": [
    "## 10.2.3 Accessing an OrderedDict\n",
    "\n",
    "To access the value of a single item, you can use:\n",
    "```text\n",
    "value= <dict_name>[key]\n",
    "```\n",
    "\n",
    "To iterate all items of an OrderedDict, we can use below method:\n",
    "1. Use Dict default iterator which is key\n",
    "2. Use Dict.items to return an item iterator\n",
    "3. Use Dict.keys to return a key iterator\n",
    "4. Use Dict.values to return a value iterator"
   ]
  },
  {
   "cell_type": "code",
   "execution_count": null,
   "id": "c2497ae5-3e08-4aa7-aa1d-d4970d5824df",
   "metadata": {},
   "outputs": [],
   "source": [
    "numbers = OrderedDict([(1,'one'), (2,'two'), (3,'three'),(4,'four')])"
   ]
  },
  {
   "cell_type": "code",
   "execution_count": 21,
   "id": "64850873-1cdd-489d-85ca-53ee6aeafbdf",
   "metadata": {},
   "outputs": [
    {
     "name": "stdout",
     "output_type": "stream",
     "text": [
      "1 -> ONE\n",
      "2 -> TWO\n",
      "3 -> three\n",
      "4 -> four\n"
     ]
    }
   ],
   "source": [
    "# note the Dict is a iterable itself. key is the default iterator of the Dict\n",
    "for key in numbers:\n",
    "    print(f\"{key} -> {numbers[key]}\")"
   ]
  },
  {
   "cell_type": "code",
   "execution_count": 23,
   "id": "119c1887-5409-47a4-9085-14da41d8b249",
   "metadata": {},
   "outputs": [
    {
     "name": "stdout",
     "output_type": "stream",
     "text": [
      "(1, 'ONE')\n",
      "(2, 'TWO')\n",
      "(3, 'three')\n",
      "(4, 'four')\n",
      "1 -> ONE\n",
      "2 -> TWO\n",
      "3 -> three\n",
      "4 -> four\n"
     ]
    }
   ],
   "source": [
    "# note item is a tuple of (key,value)\n",
    "for item in numbers.items():\n",
    "    print(item)\n",
    "    \n",
    "# we can also map variable directly to the element of the item tuple\n",
    "for key, value in numbers.items():\n",
    "    print(f\"{key} -> {value}\")"
   ]
  },
  {
   "cell_type": "code",
   "execution_count": 24,
   "id": "ee553777-62f2-446a-98b9-7fc6b8a1d61f",
   "metadata": {},
   "outputs": [
    {
     "name": "stdout",
     "output_type": "stream",
     "text": [
      "1 -> ONE\n",
      "2 -> TWO\n",
      "3 -> three\n",
      "4 -> four\n"
     ]
    }
   ],
   "source": [
    "# use .keys() as iterator\n",
    "for key in numbers.keys():\n",
    "    print(f\"{key} -> {numbers[key]}\")"
   ]
  },
  {
   "cell_type": "code",
   "execution_count": 25,
   "id": "032c5a42-2ecf-4494-a9c8-95dc478e32d3",
   "metadata": {},
   "outputs": [
    {
     "name": "stdout",
     "output_type": "stream",
     "text": [
      "ONE\n",
      "TWO\n",
      "three\n",
      "four\n"
     ]
    }
   ],
   "source": [
    "# use values() as iterator, note we will lose track of the key\n",
    "for value in numbers.values():\n",
    "    print(value)"
   ]
  },
  {
   "cell_type": "markdown",
   "id": "617a17bc-2e1b-4c34-bd28-f7f77f779288",
   "metadata": {},
   "source": [
    "> Note\n",
    ">\n",
    "> Dict support the function reversed(), as OrderedDict is a subClass, so OrderedDict support the function reversed() too"
   ]
  },
  {
   "cell_type": "code",
   "execution_count": 27,
   "id": "3090046f-8f7b-473f-b22f-3e65ec4ab262",
   "metadata": {},
   "outputs": [
    {
     "name": "stdout",
     "output_type": "stream",
     "text": [
      "(4, 'four')\n",
      "(3, 'three')\n",
      "(2, 'TWO')\n",
      "(1, 'ONE')\n"
     ]
    }
   ],
   "source": [
    "# we reversed the order of the dict\n",
    "for item in reversed(numbers.items()):\n",
    "    print(item)"
   ]
  },
  {
   "cell_type": "code",
   "execution_count": null,
   "id": "a4a6bf3c-7e6c-48c8-9cbb-feada6e8233f",
   "metadata": {},
   "outputs": [],
   "source": []
  },
  {
   "cell_type": "markdown",
   "id": "202c7353-b736-41a1-a396-791a7fd46058",
   "metadata": {},
   "source": [
    "## 10.2.4 Ohter OrderedDict features\n",
    "\n",
    "As we explained before, since Python 3.6, regular dictionaries is ordered. Why we still need OrderedDict? \n",
    "\n",
    "Because OrderedDict provides some unique features that you can’t find in a regular dict object.\n",
    "1. Extra and enhanced methods\n",
    "2. Test equlity of two OrderedDict will also takes account to orders of items. That’s not the case with regular dictionaries.\n",
    "3. OrderedDict instances provide an attribute called .__dict__ that you can’t find in a regular dictionary instance. This attribute allows you to add custom writable attributes to an existing ordered dictionary.\n",
    "\n",
    "With an OrderedDict, you have access to the following extra and enhanced methods:\n",
    "\n",
    "- .move_to_end() is a new method added in Python 3.2 that allows you to move an existing item either to the end or to the beginning of the dictionary.\n",
    "\n",
    "- .popitem() is an enhanced variation of its dict.popitem() counterpart that allows you to remove and return an item from either the end or the beginning of the underlying ordered dictionary."
   ]
  },
  {
   "cell_type": "markdown",
   "id": "e83069ce-fbc7-46e2-927d-437be2ad1e21",
   "metadata": {},
   "source": [
    "### 10.2.4.1 Reordering Items With .move_to_end()\n",
    "\n",
    "- move_to_end(key,last=bool): This method allows you to move existing items by using it's key to either the end or the beginning of the underlying dictionary, so it’s a great tool for reordering a dictionary. **If you set last=False, this method moves the item to the beginning. The default value is True**\n",
    "\n",
    "If we move a key does not exist, it will raise KeyError"
   ]
  },
  {
   "cell_type": "code",
   "execution_count": 28,
   "id": "00621a6f-0f74-4356-b073-8f903db3f134",
   "metadata": {},
   "outputs": [
    {
     "name": "stdout",
     "output_type": "stream",
     "text": [
      "numbers before update: OrderedDict([('one', 1), ('two', 2), ('three', 3)])\n"
     ]
    }
   ],
   "source": [
    "numbers = OrderedDict(one=1, two=2, three=3)\n",
    "print(f\"numbers before moving: {numbers}\")"
   ]
  },
  {
   "cell_type": "code",
   "execution_count": 29,
   "id": "bf4c643b-ac73-4330-8acc-cd9e283ed608",
   "metadata": {},
   "outputs": [
    {
     "name": "stdout",
     "output_type": "stream",
     "text": [
      "numbers after 1st moving: OrderedDict([('two', 2), ('three', 3), ('one', 1)])\n"
     ]
    }
   ],
   "source": [
    "# move the item (one,1) to the end\n",
    "numbers.move_to_end('one')\n",
    "print(f\"numbers after 1st moving: {numbers}\")"
   ]
  },
  {
   "cell_type": "code",
   "execution_count": null,
   "id": "a8c6b74b-58f4-40d2-872e-6dde3952a81a",
   "metadata": {},
   "outputs": [],
   "source": [
    "# move the item (one,1) to the beginning\n",
    "numbers.move_to_end('one',last=False)\n",
    "print(f\"numbers after 1st moving: {numbers}\")"
   ]
  },
  {
   "cell_type": "code",
   "execution_count": 30,
   "id": "2ab66d40-39e2-4dc3-99c3-fa83bf5cccb6",
   "metadata": {},
   "outputs": [
    {
     "ename": "KeyError",
     "evalue": "'toto'",
     "output_type": "error",
     "traceback": [
      "\u001b[0;31m---------------------------------------------------------------------------\u001b[0m",
      "\u001b[0;31mKeyError\u001b[0m                                  Traceback (most recent call last)",
      "\u001b[0;32m/tmp/ipykernel_2703/353226243.py\u001b[0m in \u001b[0;36m<module>\u001b[0;34m\u001b[0m\n\u001b[1;32m      1\u001b[0m \u001b[0;31m# if we move a key does not exist\u001b[0m\u001b[0;34m\u001b[0m\u001b[0;34m\u001b[0m\u001b[0m\n\u001b[0;32m----> 2\u001b[0;31m \u001b[0mnumbers\u001b[0m\u001b[0;34m.\u001b[0m\u001b[0mmove_to_end\u001b[0m\u001b[0;34m(\u001b[0m\u001b[0;34m'toto'\u001b[0m\u001b[0;34m)\u001b[0m\u001b[0;34m\u001b[0m\u001b[0;34m\u001b[0m\u001b[0m\n\u001b[0m",
      "\u001b[0;31mKeyError\u001b[0m: 'toto'"
     ]
    }
   ],
   "source": [
    "# if we move a key does not exist, it will raise KeyError\n",
    "numbers.move_to_end('toto')"
   ]
  },
  {
   "cell_type": "markdown",
   "id": "e6c0bb35-604b-4434-b288-20b28a8275a1",
   "metadata": {},
   "source": [
    "#### Sort the dict by using the keys\n",
    "\n",
    "We can sort a dict by using the keys of items with the move_to_end() method"
   ]
  },
  {
   "cell_type": "code",
   "execution_count": 31,
   "id": "be63afde-9436-4285-b313-b55db754127a",
   "metadata": {},
   "outputs": [
    {
     "name": "stdout",
     "output_type": "stream",
     "text": [
      "numbers before sorting: OrderedDict([(1, 'one'), (5, 'five'), (3, 'three'), (2, 'two'), (4, 'four')])\n"
     ]
    }
   ],
   "source": [
    "numbers = OrderedDict([(1,'one'), (5,'five'), (3,'three'),(2,'two'),(4,'four')])\n",
    "print(f\"numbers before sorting: {numbers}\")"
   ]
  },
  {
   "cell_type": "code",
   "execution_count": 33,
   "id": "5e5b179f-447d-4ecb-b866-fb54b9385932",
   "metadata": {},
   "outputs": [
    {
     "name": "stdout",
     "output_type": "stream",
     "text": [
      "key: 1\n",
      "key: 2\n",
      "key: 3\n",
      "key: 4\n",
      "key: 5\n",
      "numbers before sorting: OrderedDict([(1, 'one'), (2, 'two'), (3, 'three'), (4, 'four'), (5, 'five')])\n"
     ]
    }
   ],
   "source": [
    "for key in sorted(numbers):\n",
    "    print(f\"key: {key}\")\n",
    "    numbers.move_to_end(key)\n",
    "\n",
    "print(f\"numbers before sorting: {numbers}\")"
   ]
  },
  {
   "cell_type": "markdown",
   "id": "512b2bd9-08dd-4322-8ba5-ebbe135c8c3d",
   "metadata": {},
   "source": [
    "#### Sort the dict by using the values\n",
    "\n",
    "We can also use the value order to sort the dict"
   ]
  },
  {
   "cell_type": "code",
   "execution_count": 36,
   "id": "2a2d105d-7f94-432e-a372-75b91f6fc0cc",
   "metadata": {},
   "outputs": [
    {
     "name": "stdout",
     "output_type": "stream",
     "text": [
      "numbers before sorting: OrderedDict([(1, 'b'), (5, 'c'), (3, 'd'), (2, 'a'), (4, 'e')])\n",
      "numbers before sorting: OrderedDict([(2, 'a'), (1, 'b'), (5, 'c'), (3, 'd'), (4, 'e')])\n"
     ]
    }
   ],
   "source": [
    "numbers = OrderedDict([(1,'b'), (5,'c'), (3,'d'),(2,'a'),(4,'e')])\n",
    "print(f\"numbers before sorting: {numbers}\")\n",
    "\n",
    "for key, _ in sorted(numbers.items(), key=lambda item: item[1]):\n",
    "    numbers.move_to_end(key)\n",
    "    \n",
    "print(f\"numbers before sorting: {numbers}\")"
   ]
  },
  {
   "cell_type": "code",
   "execution_count": null,
   "id": "b7632ed7-b387-4b2e-9c1b-07cbdd055ec5",
   "metadata": {},
   "outputs": [],
   "source": []
  }
 ],
 "metadata": {
  "kernelspec": {
   "display_name": "Python 3 (ipykernel)",
   "language": "python",
   "name": "python3"
  },
  "language_info": {
   "codemirror_mode": {
    "name": "ipython",
    "version": 3
   },
   "file_extension": ".py",
   "mimetype": "text/x-python",
   "name": "python",
   "nbconvert_exporter": "python",
   "pygments_lexer": "ipython3",
   "version": "3.9.7"
  }
 },
 "nbformat": 4,
 "nbformat_minor": 5
}
