{
 "cells": [
  {
   "cell_type": "markdown",
   "metadata": {
    "collapsed": true,
    "pycharm": {
     "name": "#%% md\n"
    }
   },
   "source": [
    "# 1 Basic syntax\n",
    "\n",
    "## 1.1 Code source encoding\n",
    "\n",
    "The default python source code encoding is UTF-8, which means all code are unicode char. You can also specify one encoding to overwrite the default encoding.\n",
    "\n",
    "For example\n",
    "Below defines a Windows-1252 encoding, which are used by some esat european countries such as Belarus, Bulgaria\n",
    "```python\n",
    "# -*- coding: cp-1252 -*-\n",
    "\n",
    "# The general form is\n",
    "# -*- coding: <encoding-name> -*-\n",
    "```\n",
    "\n",
    "## 1.2 Identifier\n",
    "\n",
    "A valid identifier in python must **start with character or _ **, then followed by characters ,numbers or _.\n",
    "Note:\n",
    "1. The identifier in python **can't start with numbers**.\n",
    "2. The identifier is case-sensitive. (e.g. toto, Toto are two different identifier)\n",
    "```python\n",
    "# wrong identifier\n",
    "3rd=\"hello\"\n",
    "toto@=\"hello\"\n",
    "\n",
    "# correct identifier\n",
    "toto1=\"hello\"\n",
    "```\n",
    "\n",
    "## 1.3 Python keywords\n",
    "\n",
    "When we define a variable with an identifier, we can not use the keywords. Below is a list of python keywords."
   ]
  },
  {
   "cell_type": "code",
   "execution_count": 6,
   "outputs": [
    {
     "name": "stdout",
     "output_type": "stream",
     "text": [
      "['False', 'None', 'True', 'and', 'as', 'assert', 'async', 'await', 'break', 'class', 'continue', 'def', 'del', 'elif', 'else', 'except', 'finally', 'for', 'from', 'global', 'if', 'import', 'in', 'is', 'lambda', 'nonlocal', 'not', 'or', 'pass', 'raise', 'return', 'try', 'while', 'with', 'yield']\n"
     ]
    }
   ],
   "source": [
    "import keyword\n",
    "\n",
    "print(keyword.kwlist)"
   ],
   "metadata": {
    "collapsed": false,
    "pycharm": {
     "name": "#%%\n"
    }
   }
  },
  {
   "cell_type": "markdown",
   "source": [
    "## 1.4 Comments in python\n",
    "\n",
    "To define a comments in python we can use\n",
    "```python\n",
    "# comments\n",
    "''' comments '''\n",
    "\"\"\" comments \"\"\"\n",
    "```\n",
    "Below are some examples"
   ],
   "metadata": {
    "collapsed": false,
    "pycharm": {
     "name": "#%% md\n"
    }
   }
  },
  {
   "cell_type": "code",
   "execution_count": 7,
   "outputs": [
    {
     "name": "stdout",
     "output_type": "stream",
     "text": [
      "Hello, Python!\n"
     ]
    }
   ],
   "source": [
    "#!/usr/bin/python3\n",
    "\n",
    "# 1st comments\n",
    "# 2nd comments\n",
    "\n",
    "'''\n",
    "3rd comments\n",
    "4th comments\n",
    "'''\n",
    "\n",
    "\"\"\"\n",
    "5th comments\n",
    "6th comments\n",
    "\"\"\"\n",
    "print(\"Hello, Python!\")"
   ],
   "metadata": {
    "collapsed": false,
    "pycharm": {
     "name": "#%%\n"
    }
   }
  },
  {
   "cell_type": "markdown",
   "source": [
    "## 1.5 Code layout\n",
    "\n",
    "### 1.5.1 indentation\n",
    "Python does not use {} to group code into blocks, it uses the **indentation** to control the code blocks. Python allow us to use tab or space to do the indentation. But **spaces are the preferred indentation method. Tabs should be used solely to remain consistent with code that is already indented with tabs. Python disallows mixing tabs and spaces for indentation** More details in [pep-8](https://www.python.org/dev/peps/pep-0008/#tabs-or-spaces).\n",
    "\n",
    "PEP stands for Python Enhancement Proposal. A PEP is a design document providing information to the Python community, or describing a new feature for Python or its processes or environment.\n",
    "\n",
    "In below example, we use a function to illustrate how python use \"spaces\" to control code blocks. Note one indentation takes four spaces. If you don't respect that,\n",
    "you will have syntax errors.\n"
   ],
   "metadata": {
    "collapsed": false,
    "pycharm": {
     "name": "#%% md\n"
    }
   }
  },
  {
   "cell_type": "code",
   "execution_count": 10,
   "outputs": [
    {
     "name": "stdout",
     "output_type": "stream",
     "text": [
      "Answer\n",
      "True\n",
      "function end with flag True\n",
      "Answer\n",
      "False\n",
      "function end with flag False\n"
     ]
    }
   ],
   "source": [
    "def test(flag):  # root block\n",
    "    if flag:  # block 1\n",
    "        print(\"Answer\")  # block 2\n",
    "        print(\"True\")  # block 2\n",
    "    else:\n",
    "        print(\"Answer\")  # block 3\n",
    "        print(\"False\")  # block 3\n",
    "    print(f\"function end with flag {flag}\")  # block1\n",
    "\n",
    "\n",
    "test(True)  # root block\n",
    "test(False)  # root block"
   ],
   "metadata": {
    "collapsed": false,
    "pycharm": {
     "name": "#%%\n"
    }
   }
  },
  {
   "cell_type": "markdown",
   "source": [
    "### 1.5.2 Multiple lines\n",
    "\n",
    "In python, one line is one instruction, if your instruction is too long for 1 line, it will be considered as another instruction. To avoid this we need to use \\\n",
    "to connect multilines as one single instruction."
   ],
   "metadata": {
    "collapsed": false,
    "pycharm": {
     "name": "#%% md\n"
    }
   }
  },
  {
   "cell_type": "code",
   "execution_count": 11,
   "outputs": [
    {
     "name": "stdout",
     "output_type": "stream",
     "text": [
      "appleorangebanana\n",
      "appleorangebanana\n"
     ]
    }
   ],
   "source": [
    "item_one = \"apple\"\n",
    "item_two = \"orange\"\n",
    "item_three = \"banana\"\n",
    "total1 = item_one +\n",
    "         item_two +\n",
    "         item_three\n",
    "total2 = item_one + item_two + item_three\n",
    "print(total1)\n",
    "print(total2)"
   ],
   "metadata": {
    "collapsed": false,
    "pycharm": {
     "name": "#%%\n"
    }
   }
  },
  {
   "cell_type": "markdown",
   "source": [
    "There are exceptions, when you code are in [], {}, or (), you don't need to use \\ to create a new line. Check the below example\n"
   ],
   "metadata": {
    "collapsed": false,
    "pycharm": {
     "name": "#%% md\n"
    }
   }
  },
  {
   "cell_type": "code",
   "execution_count": 12,
   "outputs": [
    {
     "name": "stdout",
     "output_type": "stream",
     "text": [
      "['apple', 'orange', 'banana']\n"
     ]
    }
   ],
   "source": [
    "total3 = [item_one,\n",
    "          item_two,\n",
    "          item_three]\n",
    "print(total3)"
   ],
   "metadata": {
    "collapsed": false,
    "pycharm": {
     "name": "#%%\n"
    }
   }
  },
  {
   "cell_type": "markdown",
   "source": [
    "## 1.6 Primitive data types(structures)\n",
    "\n",
    "Python provides following primitive data types\n",
    "- int\n",
    "- float\n",
    "- complex\n",
    "- bool\n",
    "- str\n",
    "\n",
    "\n",
    "### 1.6.1 Integer\n",
    "\n",
    "In Python 3, the integer has the following feature\n",
    "- **no limit to how long an integer value can be**. Of course, it is constrained by the amount of memory your system has, as are all things, but beyond that an integer can be as long as you need it to be.\n",
    "- **All integers are signed.**\n",
    "- a sequence of decimal digits without any prefix will be interpreted as a decimal number. To use other base such as binary, Octal, Hexadecimal, we need to add prefix to the numbers"
   ],
   "metadata": {
    "collapsed": false,
    "pycharm": {
     "name": "#%% md\n"
    }
   }
  },
  {
   "cell_type": "code",
   "execution_count": 14,
   "outputs": [
    {
     "name": "stdout",
     "output_type": "stream",
     "text": [
      "10000000000000000000000000000000000000000000000000000000000000000000000000000000000000000000000000000000000000000000000000000000000000000000000000000000000000000000000000000000000000000000000000000000000\n"
     ]
    }
   ],
   "source": [
    "# big int, notice there is no value out of bound or arithmetic overflow\n",
    "print(\n",
    "    9999999999999999999999999999999999999999999999999999999999999999999999999999999999999999999999999999999999999999999999999999999999999999999999999999999999999999999999999999999999999999999999999999999999 + 1)"
   ],
   "metadata": {
    "collapsed": false,
    "pycharm": {
     "name": "#%%\n"
    }
   }
  },
  {
   "cell_type": "code",
   "execution_count": 15,
   "outputs": [
    {
     "name": "stdout",
     "output_type": "stream",
     "text": [
      "0\n"
     ]
    }
   ],
   "source": [
    "# all int are singed\n",
    "i1 = 99\n",
    "i2 = -99\n",
    "\n",
    "print(i1 + i2)"
   ],
   "metadata": {
    "collapsed": false,
    "pycharm": {
     "name": "#%%\n"
    }
   }
  },
  {
   "cell_type": "code",
   "execution_count": 20,
   "outputs": [
    {
     "name": "stdout",
     "output_type": "stream",
     "text": [
      "value is 2, type is <class 'int'>\n",
      "value is 8, type is <class 'int'>\n",
      "value is 10, type is <class 'int'>\n",
      "value is 16, type is <class 'int'>\n"
     ]
    }
   ],
   "source": [
    "\n",
    "\n",
    "# base 2, the prefix is 0b\n",
    "i1 = 0b10\n",
    "print(f\"value is {i1}, type is {type(i1)}\")\n",
    "\n",
    "# base 8, the prefix is 0o\n",
    "i1 = 0o10\n",
    "print(f\"value is {i1}, type is {type(i1)}\")\n",
    "\n",
    "# base 10\n",
    "i1 = 10\n",
    "print(f\"value is {i1}, type is {type(i1)}\")\n",
    "\n",
    "# base 16, the prefix is 0x\n",
    "i1 = 0x10\n",
    "print(f\"value is {i1}, type is {type(i1)}\")"
   ],
   "metadata": {
    "collapsed": false,
    "pycharm": {
     "name": "#%%\n"
    }
   }
  },
  {
   "cell_type": "markdown",
   "source": [
    "### 1.6.2 Float\n",
    "The float type in Python designates a floating-point number. float values are specified with a decimal point. Optionally, the character e or E followed by a positive or negative integer may be appended to specify [scientific notation](https://en.wikipedia.org/wiki/Scientific_notation)"
   ],
   "metadata": {
    "collapsed": false,
    "pycharm": {
     "name": "#%% md\n"
    }
   }
  },
  {
   "cell_type": "code",
   "execution_count": 21,
   "outputs": [
    {
     "name": "stdout",
     "output_type": "stream",
     "text": [
      "value is 4.2, type is <class 'float'>\n",
      "value is 4000000.0, type is <class 'float'>\n",
      "value is 0.00042, type is <class 'float'>\n"
     ]
    }
   ],
   "source": [
    "f1 = 4.2\n",
    "print(f\"value is {f1}, type is {type(f1)}\")\n",
    "\n",
    "f2 = .4e7\n",
    "print(f\"value is {f2}, type is {type(f2)}\")\n",
    "\n",
    "f3 = 4.2e-4\n",
    "print(f\"value is {f3}, type is {type(f3)}\")"
   ],
   "metadata": {
    "collapsed": false,
    "pycharm": {
     "name": "#%%\n"
    }
   }
  },
  {
   "cell_type": "markdown",
   "source": [
    "### 1.6.3 Complex numbers\n",
    "\n",
    "Complex numbers are specified as <real part>+<imaginary part>j. For more details of complex numbers, please visit this [doc](https://realpython.com/python-complex-numbers/)"
   ],
   "metadata": {
    "collapsed": false,
    "pycharm": {
     "name": "#%% md\n"
    }
   }
  },
  {
   "cell_type": "code",
   "execution_count": 22,
   "outputs": [
    {
     "name": "stdout",
     "output_type": "stream",
     "text": [
      "value is (2+3j), type is <class 'complex'>\n"
     ]
    }
   ],
   "source": [
    "c1 = 2 + 3j\n",
    "print(f\"value is {c1}, type is {type(c1)}\")"
   ],
   "metadata": {
    "collapsed": false,
    "pycharm": {
     "name": "#%%\n"
    }
   }
  },
  {
   "cell_type": "markdown",
   "source": [
    "### 1.6.4 Bool\n",
    "\n",
    "Bool type is quite simple in python, it contains only two value: True , False"
   ],
   "metadata": {
    "collapsed": false,
    "pycharm": {
     "name": "#%% md\n"
    }
   }
  },
  {
   "cell_type": "markdown",
   "source": [
    "### 1.6.5 String"
   ],
   "metadata": {
    "collapsed": false,
    "pycharm": {
     "name": "#%% md\n"
    }
   }
  },
  {
   "cell_type": "markdown",
   "source": [
    "## 1.7 Blank Lines\n",
    "\n",
    "Unlike indentation, blank lines are not required by the python interpreter, but a convention that can make your code more readable.\n",
    "\n",
    "Surround top-level function and class definitions with **two blank lines**. Method definitions inside a class are surrounded by a **single blank line**.\n",
    "\n",
    "Extra blank lines may be used (sparingly) to separate groups of related functions. Blank lines may be omitted between a bunch of related one-liners (e.g. a set of dummy implementations).\n",
    "\n",
    "Use blank lines in functions, sparingly, to indicate logical sections.\n",
    "\n",
    "Python accepts the control-L (i.e. ^L) form feed character as whitespace; Many tools treat these characters as page separators, so you may use them to separate pages of related sections of your file. Note, some editors and web-based code viewers may not recognize control-L as a form feed and will show another glyph in its place."
   ],
   "metadata": {
    "collapsed": false,
    "pycharm": {
     "name": "#%% md\n"
    }
   }
  },
  {
   "cell_type": "markdown",
   "source": [
    "## 1.8 Multiple instructions in one line\n",
    "\n",
    "If you want to have multiple instructions in one line, you need to separate them by using ;\n",
    "Below example has three instructions in one line.\n",
    "It prints\n",
    "```text\n",
    "runoob\n",
    "7\n",
    "```\n",
    "The value 7 is because \"runoob\" has 6 char and \"\\n\" has one char."
   ],
   "metadata": {
    "collapsed": false,
    "pycharm": {
     "name": "#%% md\n"
    }
   }
  },
  {
   "cell_type": "code",
   "execution_count": 23,
   "outputs": [
    {
     "name": "stdout",
     "output_type": "stream",
     "text": [
      "runoob\n"
     ]
    },
    {
     "data": {
      "text/plain": "7"
     },
     "execution_count": 23,
     "metadata": {},
     "output_type": "execute_result"
    }
   ],
   "source": [
    "import sys;\n",
    "\n",
    "x = 'runoob';\n",
    "sys.stdout.write(x + '\\n')"
   ],
   "metadata": {
    "collapsed": false,
    "pycharm": {
     "name": "#%%\n"
    }
   }
  },
  {
   "cell_type": "markdown",
   "source": [
    "## 1.9 print\n",
    "\n",
    "By default, print will jump to next line automatically，if you don't want to jump to next line, use **end=\"\"**"
   ],
   "metadata": {
    "collapsed": false,
    "pycharm": {
     "name": "#%% md\n"
    }
   }
  },
  {
   "cell_type": "code",
   "execution_count": 24,
   "outputs": [
    {
     "name": "stdout",
     "output_type": "stream",
     "text": [
      "a\n",
      "b\n",
      "---------\n",
      "a b \n"
     ]
    }
   ],
   "source": [
    "x = \"a\"\n",
    "y = \"b\"\n",
    "print(x)\n",
    "print(y)\n",
    "\n",
    "print('---------')\n",
    "# don't jump line\n",
    "print(x, end=\" \")\n",
    "print(y, end=\" \")\n",
    "print()"
   ],
   "metadata": {
    "collapsed": false,
    "pycharm": {
     "name": "#%%\n"
    }
   }
  },
  {
   "cell_type": "markdown",
   "source": [
    "## 1.10 Import module\n",
    "\n",
    "\n",
    "import module_name:\n",
    "\n",
    "When the import is used, python interpreter searches for the module initially in the local scope by calling __import__() function. The value returned by the function is then reflected in the output of the initial code.\n",
    "-"
   ],
   "metadata": {
    "collapsed": false,
    "pycharm": {
     "name": "#%% md\n"
    }
   }
  },
  {
   "cell_type": "code",
   "execution_count": 25,
   "outputs": [
    {
     "name": "stdout",
     "output_type": "stream",
     "text": [
      "3.141592653589793\n"
     ]
    }
   ],
   "source": [
    "import math\n",
    "print(math.pi)"
   ],
   "metadata": {
    "collapsed": false,
    "pycharm": {
     "name": "#%%\n"
    }
   }
  },
  {
   "cell_type": "markdown",
   "source": [
    "import module_name.member_name\n",
    "\n",
    "In the above code module, math is imported, and its variables can be accessed by considering it to be a class and pi as its object.\n",
    "The value of pi is returned by __import__().\n",
    "pi as a whole can be imported into our initial code, rather than importing the whole module."
   ],
   "metadata": {
    "collapsed": false,
    "pycharm": {
     "name": "#%% md\n"
    }
   }
  },
  {
   "cell_type": "code",
   "execution_count": 26,
   "outputs": [
    {
     "name": "stdout",
     "output_type": "stream",
     "text": [
      "3.141592653589793\n"
     ]
    }
   ],
   "source": [
    "from math import pi, factorial\n",
    "print(pi)\n",
    "print(factorial(6))"
   ],
   "metadata": {
    "collapsed": false,
    "pycharm": {
     "name": "#%%\n"
    }
   }
  },
  {
   "cell_type": "markdown",
   "source": [
    "from module_name import *\n",
    "\n",
    "In the above code module, math is not imported, rather just pi has been imported as a variable.\n",
    "All the functions and constants can be imported using *."
   ],
   "metadata": {
    "collapsed": false,
    "pycharm": {
     "name": "#%% md\n"
    }
   }
  },
  {
   "cell_type": "code",
   "execution_count": 28,
   "outputs": [
    {
     "name": "stdout",
     "output_type": "stream",
     "text": [
      "3.141592653589793\n",
      "720\n",
      "1.0\n"
     ]
    }
   ],
   "source": [
    "from math import *\n",
    "print(pi)\n",
    "# get the factorial of 6\n",
    "print(factorial(6))\n",
    "# return the value of 10 in mod 3 \n",
    "print(fmod(10,3))"
   ],
   "metadata": {
    "collapsed": false,
    "pycharm": {
     "name": "#%%\n"
    }
   }
  }
 ],
 "metadata": {
  "kernelspec": {
   "display_name": "Python 3",
   "language": "python",
   "name": "python3"
  },
  "language_info": {
   "codemirror_mode": {
    "name": "ipython",
    "version": 2
   },
   "file_extension": ".py",
   "mimetype": "text/x-python",
   "name": "python",
   "nbconvert_exporter": "python",
   "pygments_lexer": "ipython2",
   "version": "2.7.6"
  }
 },
 "nbformat": 4,
 "nbformat_minor": 0
}