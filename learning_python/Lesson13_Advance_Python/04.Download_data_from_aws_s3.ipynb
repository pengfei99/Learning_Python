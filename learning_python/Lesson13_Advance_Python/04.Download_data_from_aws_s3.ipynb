{
 "cells": [
  {
   "cell_type": "code",
   "execution_count": 4,
   "id": "initial_id",
   "metadata": {
    "collapsed": true,
    "ExecuteTime": {
     "end_time": "2024-04-19T07:43:16.360734880Z",
     "start_time": "2024-04-19T07:43:16.306860747Z"
    }
   },
   "outputs": [],
   "source": [
    "import boto3\n",
    "import botocore"
   ]
  },
  {
   "cell_type": "code",
   "execution_count": 6,
   "outputs": [
    {
     "name": "stdout",
     "output_type": "stream",
     "text": [
      "You dont have the right to download the file\n"
     ]
    }
   ],
   "source": [
    "# Initialize the S3 client\n",
    "s3 = boto3.resource('s3')\n",
    "\n",
    "# Specify the bucket name and the file key\n",
    "bucket_name = 'wherobots-examples'\n",
    "file_key = 'overturemaps-us-west-2/release/2023-07-26-alpha'\n",
    "local_file_path = \"/tmp/2023-07-26-alpha\"\n",
    "\n",
    "try:\n",
    "    s3.Bucket(bucket_name).download_file(file_key, local_file_path)\n",
    "except botocore.exceptions.ClientError as e:\n",
    "    if e.response['Error']['Code'] == \"404\":\n",
    "        print(\"The object does not exist.\")\n",
    "    elif e.response['Error']['Code'] == \"403\":\n",
    "        print(\"You dont have the right to download the file\")\n",
    "    else:\n",
    "        raise"
   ],
   "metadata": {
    "collapsed": false,
    "ExecuteTime": {
     "end_time": "2024-04-19T07:44:24.311492199Z",
     "start_time": "2024-04-19T07:44:22.585835854Z"
    }
   },
   "id": "5d6b3a5e4b61217e"
  },
  {
   "cell_type": "code",
   "execution_count": null,
   "outputs": [],
   "source": [],
   "metadata": {
    "collapsed": false
   },
   "id": "f52b848ece7f641c"
  }
 ],
 "metadata": {
  "kernelspec": {
   "display_name": "Python 3",
   "language": "python",
   "name": "python3"
  },
  "language_info": {
   "codemirror_mode": {
    "name": "ipython",
    "version": 2
   },
   "file_extension": ".py",
   "mimetype": "text/x-python",
   "name": "python",
   "nbconvert_exporter": "python",
   "pygments_lexer": "ipython2",
   "version": "2.7.6"
  }
 },
 "nbformat": 4,
 "nbformat_minor": 5
}
