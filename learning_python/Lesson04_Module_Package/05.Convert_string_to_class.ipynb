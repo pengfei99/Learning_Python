{
 "cells": [
  {
   "cell_type": "markdown",
   "source": [
    "# 5. Convert string to a class object\n",
    "\n",
    "Sometimes, we get a class name with string type, we want to get the class object which has the given class name.\n",
    "\n",
    "We can use below solutions:\n",
    "- Use sys.modules\n",
    "-\n"
   ],
   "metadata": {
    "collapsed": false
   }
  },
  {
   "cell_type": "markdown",
   "source": [
    "## 5.1 Use sys.modules\n",
    "\n",
    "**sys.modules** is a dictionary that contains all module names that have already been loaded into current interpreter.\n",
    "\n",
    "The **__name__** global variable stores the module's name.\n",
    "\n",
    "The **getattr()** get the Class obj from the given module with a given name. The official doc is [here](https://docs.python.org/3/library/functions.html#getattr)\n",
    "\n",
    "> This solution only works if you have the module name of the class, and the module must be already loaded. Otherwise, you'd get an AttributeError.\n"
   ],
   "metadata": {
    "collapsed": false
   }
  },
  {
   "cell_type": "code",
   "execution_count": 1,
   "outputs": [],
   "source": [
    "import importlib\n",
    "import sys\n",
    "\n",
    "\n",
    "class MyEmployee():\n",
    "    def __init__(self, id:int, name:str):\n",
    "        self.id=id\n",
    "        self.name=name\n",
    "    def getId(self):\n",
    "        return self.id\n",
    "    def setName(self, name:str):\n",
    "        self.name=name"
   ],
   "metadata": {
    "collapsed": false
   }
  },
  {
   "cell_type": "code",
   "execution_count": 4,
   "outputs": [],
   "source": [
    "className=\"MyEmployee\"\n",
    "\n",
    "# get the current module name\n",
    "modName = sys.modules[__name__]\n",
    "\n",
    "# get the Class obj from the given module with a given name\n",
    "employeeClass = getattr(modName,className)"
   ],
   "metadata": {
    "collapsed": false
   }
  },
  {
   "cell_type": "code",
   "execution_count": 3,
   "outputs": [
    {
     "name": "stdout",
     "output_type": "stream",
     "text": [
      "<class '__main__.MyEmployee'>\n"
     ]
    }
   ],
   "source": [
    "print(employeeClass)"
   ],
   "metadata": {
    "collapsed": false
   }
  },
  {
   "cell_type": "markdown",
   "source": [
    "Let's try the above code with a class Printer which is not loaded yet.\n"
   ],
   "metadata": {
    "collapsed": false
   }
  },
  {
   "cell_type": "code",
   "execution_count": 5,
   "outputs": [
    {
     "ename": "AttributeError",
     "evalue": "module '__main__' has no attribute 'Printer'",
     "output_type": "error",
     "traceback": [
      "\u001B[0;31m---------------------------------------------------------------------------\u001B[0m",
      "\u001B[0;31mAttributeError\u001B[0m                            Traceback (most recent call last)",
      "Cell \u001B[0;32mIn[5], line 7\u001B[0m\n\u001B[1;32m      4\u001B[0m modName \u001B[38;5;241m=\u001B[39m sys\u001B[38;5;241m.\u001B[39mmodules[\u001B[38;5;18m__name__\u001B[39m]\n\u001B[1;32m      6\u001B[0m \u001B[38;5;66;03m# get the Class obj from the given module with a given name\u001B[39;00m\n\u001B[0;32m----> 7\u001B[0m classObj \u001B[38;5;241m=\u001B[39m \u001B[38;5;28;43mgetattr\u001B[39;49m\u001B[43m(\u001B[49m\u001B[43mmodName\u001B[49m\u001B[43m,\u001B[49m\u001B[43mclassName\u001B[49m\u001B[43m)\u001B[49m\n\u001B[1;32m      9\u001B[0m \u001B[38;5;28mprint\u001B[39m(classObj)\n",
      "\u001B[0;31mAttributeError\u001B[0m: module '__main__' has no attribute 'Printer'"
     ]
    }
   ],
   "source": [
    "className=\"Printer\"\n",
    "\n",
    "# get the current module name\n",
    "modName = sys.modules[__name__]\n",
    "\n",
    "# get the Class obj from the given module with a given name\n",
    "classObj = getattr(modName,className)\n",
    "\n",
    "print(classObj)"
   ],
   "metadata": {
    "collapsed": false
   }
  },
  {
   "cell_type": "markdown",
   "source": [
    "## 5.2 Use the eval() function\n",
    "\n",
    "The **eval()** function will take the string and will evaluate it as a Python expression using the `globals and locals dictionaries as the global and local namespace`. If it finds a map, it returns the class.\n",
    "\n",
    "The advantage of this, we don't need to provide the module name, and it checks all the namespace\n",
    "\n",
    "> The eval() function basically tries to run the given expression, so **it should never be used with untrusted code.**\n"
   ],
   "metadata": {
    "collapsed": false
   }
  },
  {
   "cell_type": "code",
   "execution_count": 6,
   "outputs": [
    {
     "name": "stdout",
     "output_type": "stream",
     "text": [
      "<class '__main__.MyEmployee'>\n"
     ]
    }
   ],
   "source": [
    "className = \"MyEmployee\"\n",
    "classObj = eval(className)\n",
    "print(classObj)"
   ],
   "metadata": {
    "collapsed": false
   }
  },
  {
   "cell_type": "code",
   "execution_count": 9,
   "outputs": [
    {
     "name": "stdout",
     "output_type": "stream",
     "text": [
      "<class 'learning_python.Lesson04_Module_Package.src.mod.Printer'>\n"
     ]
    }
   ],
   "source": [
    "# try to run the cell without the import, you will notice you can't find it. Because it's not loaded yet\n",
    "# from learning_python.Lesson04_Module_Package.src.mod import Printer\n",
    "\n",
    "\n",
    "className = \"Printer\"\n",
    "classObj = eval(className)\n",
    "print(classObj)"
   ],
   "metadata": {
    "collapsed": false
   }
  },
  {
   "cell_type": "markdown",
   "source": [
    "## 5.3 Use globals()\n",
    "\n",
    "The **globals() function returns a dictionary containing the current scope's global variables**. As it returns a dictionary, we can access the key value pair with `globals()[className]`. If a class with the given name doesn't exist in the module, you'd get a `KeyError exception`."
   ],
   "metadata": {
    "collapsed": false
   }
  },
  {
   "cell_type": "code",
   "execution_count": 12,
   "outputs": [
    {
     "name": "stdout",
     "output_type": "stream",
     "text": [
      "{'__name__': '__main__', '__doc__': 'Automatically created module for IPython interactive environment', '__package__': None, '__loader__': None, '__spec__': None, '__builtin__': <module 'builtins' (built-in)>, '__builtins__': <module 'builtins' (built-in)>, '_ih': ['', 'import sys\\n\\n\\nclass MyEmployee():\\n    def __init__(self, id:int, name:str):\\n        self.id=id\\n        self.name=name\\n    def getId(self):\\n        return self.id\\n    def setName(self, name:str):\\n        self.name=name', 'className=\"MyEmployee\"\\n\\nemployeeClass = getattr(sys.modules[__name__],className)\\nprint(type(employeeClass))', 'print(employeeClass)', 'className=\"MyEmployee\"\\n\\nemployeeClass = getattr(sys.modules[__name__],className)', 'className=\"Printer\"\\n\\n# get the current module name\\nmodName = sys.modules[__name__]\\n\\n# get the Class obj from the given module with a given name\\nclassObj = getattr(modName,className)\\n\\nprint(classObj)', 'className = \"MyEmployee\"\\nclassObj = eval(className)\\nprint(classObj)', 'className = \"Printer\"\\nclassObj = eval(className)\\nprint(classObj)', 'from learning_python.Lesson04_Module_Package.src.mod import Printer\\n\\n\\nclassName = \"Printer\"\\nclassObj = eval(className)\\nprint(classObj)', '# from learning_python.Lesson04_Module_Package.src.mod import Printer\\n\\n\\nclassName = \"Printer\"\\nclassObj = eval(className)\\nprint(classObj)', 'print(globals(className))', 'print(globals())', \"# globals returns a dictionary containing the current scope's global variables\\nprint(globals())\"], '_oh': {}, '_dh': [PosixPath('/home/pengfei/git/Learning_Python/learning_python/Lesson04_Module_Package')], 'In': ['', 'import sys\\n\\n\\nclass MyEmployee():\\n    def __init__(self, id:int, name:str):\\n        self.id=id\\n        self.name=name\\n    def getId(self):\\n        return self.id\\n    def setName(self, name:str):\\n        self.name=name', 'className=\"MyEmployee\"\\n\\nemployeeClass = getattr(sys.modules[__name__],className)\\nprint(type(employeeClass))', 'print(employeeClass)', 'className=\"MyEmployee\"\\n\\nemployeeClass = getattr(sys.modules[__name__],className)', 'className=\"Printer\"\\n\\n# get the current module name\\nmodName = sys.modules[__name__]\\n\\n# get the Class obj from the given module with a given name\\nclassObj = getattr(modName,className)\\n\\nprint(classObj)', 'className = \"MyEmployee\"\\nclassObj = eval(className)\\nprint(classObj)', 'className = \"Printer\"\\nclassObj = eval(className)\\nprint(classObj)', 'from learning_python.Lesson04_Module_Package.src.mod import Printer\\n\\n\\nclassName = \"Printer\"\\nclassObj = eval(className)\\nprint(classObj)', '# from learning_python.Lesson04_Module_Package.src.mod import Printer\\n\\n\\nclassName = \"Printer\"\\nclassObj = eval(className)\\nprint(classObj)', 'print(globals(className))', 'print(globals())', \"# globals returns a dictionary containing the current scope's global variables\\nprint(globals())\"], 'Out': {}, 'get_ipython': <bound method InteractiveShell.get_ipython of <ipykernel.zmqshell.ZMQInteractiveShell object at 0x7f34a405a070>>, 'exit': <IPython.core.autocall.ZMQExitAutocall object at 0x7f34a405ae50>, 'quit': <IPython.core.autocall.ZMQExitAutocall object at 0x7f34a405ae50>, 'open': <function open at 0x7f34a7ac34c0>, '_': '', '__': '', '___': '', '_i': 'print(globals())', '_ii': 'print(globals(className))', '_iii': '# from learning_python.Lesson04_Module_Package.src.mod import Printer\\n\\n\\nclassName = \"Printer\"\\nclassObj = eval(className)\\nprint(classObj)', '_i1': 'import sys\\n\\n\\nclass MyEmployee():\\n    def __init__(self, id:int, name:str):\\n        self.id=id\\n        self.name=name\\n    def getId(self):\\n        return self.id\\n    def setName(self, name:str):\\n        self.name=name', 'sys': <module 'sys' (built-in)>, 'MyEmployee': <class '__main__.MyEmployee'>, 'remove_imported_pydev_package': <function remove_imported_pydev_package at 0x7f34a403e4c0>, '_pydevd_bundle': <module '_pydevd_bundle' from '/home/pengfei/Tools/pycharm-2022.2.2/plugins/python/helpers/pydev/_pydevd_bundle/__init__.py'>, 'pydev_jupyter_vars': <module 'pydev_jupyter_vars' from '/home/pengfei/Tools/pycharm-2022.2.2/plugins/python/helpers-pro/jupyter_debug/pydev_jupyter_vars.py'>, '_i2': 'className=\"MyEmployee\"\\n\\nemployeeClass = getattr(sys.modules[__name__],className)\\nprint(type(employeeClass))', 'className': 'Printer', 'employeeClass': <class '__main__.MyEmployee'>, '_i3': 'print(employeeClass)', '_i4': 'className=\"MyEmployee\"\\n\\nemployeeClass = getattr(sys.modules[__name__],className)', 'DataFrame': <class 'pandas.core.frame.DataFrame'>, 'MultiIndex': <class 'pandas.core.indexes.multi.MultiIndex'>, '_i5': 'className=\"Printer\"\\n\\n# get the current module name\\nmodName = sys.modules[__name__]\\n\\n# get the Class obj from the given module with a given name\\nclassObj = getattr(modName,className)\\n\\nprint(classObj)', 'modName': <module '__main__'>, '_i6': 'className = \"MyEmployee\"\\nclassObj = eval(className)\\nprint(classObj)', 'classObj': <class 'learning_python.Lesson04_Module_Package.src.mod.Printer'>, '_i7': 'className = \"Printer\"\\nclassObj = eval(className)\\nprint(classObj)', '_i8': 'from learning_python.Lesson04_Module_Package.src.mod import Printer\\n\\n\\nclassName = \"Printer\"\\nclassObj = eval(className)\\nprint(classObj)', 'Printer': <class 'learning_python.Lesson04_Module_Package.src.mod.Printer'>, '_i9': '# from learning_python.Lesson04_Module_Package.src.mod import Printer\\n\\n\\nclassName = \"Printer\"\\nclassObj = eval(className)\\nprint(classObj)', '_i10': 'print(globals(className))', '_i11': 'print(globals())', '_i12': \"# globals returns a dictionary containing the current scope's global variables\\nprint(globals())\"}\n"
     ]
    }
   ],
   "source": [
    "# globals returns a dictionary containing the current scope's global variables\n",
    "print(globals())"
   ],
   "metadata": {
    "collapsed": false
   }
  },
  {
   "cell_type": "code",
   "execution_count": 13,
   "outputs": [
    {
     "name": "stdout",
     "output_type": "stream",
     "text": [
      "<class '__main__.MyEmployee'>\n"
     ]
    }
   ],
   "source": [
    "className = \"MyEmployee\"\n",
    "classObj = globals()[className]\n",
    "print(classObj)"
   ],
   "metadata": {
    "collapsed": false
   }
  },
  {
   "cell_type": "code",
   "execution_count": 14,
   "outputs": [
    {
     "name": "stdout",
     "output_type": "stream",
     "text": [
      "<class 'learning_python.Lesson04_Module_Package.src.mod.Printer'>\n"
     ]
    }
   ],
   "source": [
    "className = \"Printer\"\n",
    "classObj = globals()[className]\n",
    "print(classObj)"
   ],
   "metadata": {
    "collapsed": false
   }
  },
  {
   "cell_type": "markdown",
   "source": [
    "## 5.4 Use importlib.import_module()\n",
    "\n",
    "The above three solution requires the class is loaded before you want to access the class object.\n",
    "\n",
    "We can import the class manually by using the `importlib.import_module()`\n",
    "\n",
    "The advantage of this solution is that if you have two class with idem name in two different modules. You can use the explicite module name to get the class which you want. Check below example, we have two class called `Printer`. One in the `.src.mod` module and one in the `.src.printer.` module.\n",
    "\n"
   ],
   "metadata": {
    "collapsed": false
   }
  },
  {
   "cell_type": "code",
   "execution_count": 17,
   "outputs": [
    {
     "name": "stdout",
     "output_type": "stream",
     "text": [
      "<class 'learning_python.Lesson04_Module_Package.src.mod.Printer'>\n"
     ]
    }
   ],
   "source": [
    "import importlib\n",
    "\n",
    "className = \"Printer\"\n",
    "module = importlib.import_module(\"learning_python.Lesson04_Module_Package.src.mod\")\n",
    "classObj = getattr(module,className)\n",
    "print(classObj)"
   ],
   "metadata": {
    "collapsed": false
   }
  },
  {
   "cell_type": "code",
   "execution_count": 16,
   "outputs": [
    {
     "name": "stdout",
     "output_type": "stream",
     "text": [
      "<class 'learning_python.Lesson04_Module_Package.src.printer.Printer'>\n"
     ]
    }
   ],
   "source": [
    "import importlib\n",
    "\n",
    "className = \"Printer\"\n",
    "module = importlib.import_module(\"learning_python.Lesson04_Module_Package.src.printer\")\n",
    "classObj = getattr(module,className)\n",
    "print(classObj)"
   ],
   "metadata": {
    "collapsed": false
   }
  },
  {
   "cell_type": "code",
   "execution_count": null,
   "outputs": [],
   "source": [],
   "metadata": {
    "collapsed": false
   }
  }
 ],
 "metadata": {
  "kernelspec": {
   "display_name": "Python 3",
   "language": "python",
   "name": "python3"
  },
  "language_info": {
   "codemirror_mode": {
    "name": "ipython",
    "version": 2
   },
   "file_extension": ".py",
   "mimetype": "text/x-python",
   "name": "python",
   "nbconvert_exporter": "python",
   "pygments_lexer": "ipython2",
   "version": "2.7.6"
  }
 },
 "nbformat": 4,
 "nbformat_minor": 0
}
