{
 "cells": [
  {
   "cell_type": "markdown",
   "source": [
    "# 1.\n",
    "\n",
    "Scenario 1. Suppose you have a function `addition(x,y)`in a python module `calc.py`. In a normal use case, you just import the function, then call it. Below is an example"
   ],
   "metadata": {
    "collapsed": false
   }
  },
  {
   "cell_type": "code",
   "execution_count": 1,
   "outputs": [
    {
     "data": {
      "text/plain": "3"
     },
     "execution_count": 1,
     "metadata": {},
     "output_type": "execute_result"
    }
   ],
   "source": [
    "from src.calc import addition\n",
    "\n",
    "addition(1,2)"
   ],
   "metadata": {
    "collapsed": false
   }
  },
  {
   "cell_type": "markdown",
   "source": [
    "Now, if we can't import the function, but instead the user provides a string **\"addition\"**, what should we do to call the function addition?\n",
    "\n",
    "There are several solutions:\n",
    "1. Use **getattr**\n",
    "\n",
    "\n",
    "## 1.1 Use getattr\n",
    "\n",
    "**getattr**\n",
    "\n",
    "There are two major differences between the two options:\n",
    "1. **getattr** does not restrict to getting a callable. When using it, do be mindful of whether the object returned is callable or not.\n",
    "2. **getattr** allows you to pass arguments to the returned method while methodcaller requiring you to provide it in advance.\n",
    "\n",
    "For **getattr** to work, we need to import the modul first"
   ],
   "metadata": {
    "collapsed": false
   }
  },
  {
   "cell_type": "code",
   "execution_count": 10,
   "outputs": [
    {
     "name": "stdout",
     "output_type": "stream",
     "text": [
      "3\n"
     ]
    }
   ],
   "source": [
    "# call a function from a module\n",
    "\n",
    "from learning_python.Lesson13_Advance_Python.src import calc\n",
    "\n",
    "f=getattr(calc,'addition')\n",
    "\n",
    "print(f(1,2))"
   ],
   "metadata": {
    "collapsed": false
   }
  },
  {
   "cell_type": "markdown",
   "source": [
    "This also works on object. In below example, we create an object of class Calculator. Then we use `getattr` to get method of the object. As it's an object, we have the access of the object attributes.\n",
    "\n",
    "> There is one restriction, if you have multiple class inside one module, it won't work.\n",
    "\n",
    "Try two below example, then try to put the two class inside one module and retry"
   ],
   "metadata": {
    "collapsed": false
   }
  },
  {
   "cell_type": "code",
   "execution_count": 13,
   "outputs": [
    {
     "name": "stdout",
     "output_type": "stream",
     "text": [
      "class name : This is calculator, result: 3\n"
     ]
    }
   ],
   "source": [
    "# call a function from a class\n",
    "from learning_python.Lesson13_Advance_Python.src.calc1 import Calculator\n",
    "calculator=Calculator()\n",
    "f=getattr(calculator,'calcAddition')\n",
    "className,result=f(1,2)\n",
    "\n",
    "print(f\"class name : {className}, result: {result}\")"
   ],
   "metadata": {
    "collapsed": false
   }
  },
  {
   "cell_type": "code",
   "execution_count": 14,
   "outputs": [
    {
     "name": "stdout",
     "output_type": "stream",
     "text": [
      "Printer 1 prints: This is my msg\n"
     ]
    }
   ],
   "source": [
    "from learning_python.Lesson13_Advance_Python.src.printer import Printer\n",
    "\n",
    "printer=Printer(1)\n",
    "\n",
    "f = getattr(printer,'printMsg')\n",
    "\n",
    "result=f(\"This is my msg\")\n",
    "\n",
    "print(result)"
   ],
   "metadata": {
    "collapsed": false
   }
  },
  {
   "cell_type": "markdown",
   "source": [
    "## 1.2 Use Method caller\n",
    "\n",
    "Python's standard libraries **operator.methodcaller** can fetch you a callable from a **provided object**\n",
    "\n",
    "Unlike getattr, you can fetch any attributes of anything (Object, or module).\n"
   ],
   "metadata": {
    "collapsed": false
   }
  },
  {
   "cell_type": "code",
   "execution_count": 16,
   "outputs": [
    {
     "name": "stdout",
     "output_type": "stream",
     "text": [
      "('This is calculator', 3)\n"
     ]
    }
   ],
   "source": [
    "from operator import methodcaller\n",
    "\n",
    "# create an instance of the target object\n",
    "calculator=Calculator()\n",
    "\n",
    "# create an instance of the method caller\n",
    "f= methodcaller(\"calcAddition\",x=1,y=2)\n",
    "\n",
    "# apply method caller on the target object\n",
    "resu=f(calculator)\n",
    "\n",
    "print(resu)"
   ],
   "metadata": {
    "collapsed": false
   }
  },
  {
   "cell_type": "markdown",
   "source": [
    "> You can notice when we build the methodcaller instance, we need to give the parameter first. If we want to use a new parameter, we need to create a new methodcaller instance. This is not very convenient"
   ],
   "metadata": {
    "collapsed": false
   }
  }
 ],
 "metadata": {
  "kernelspec": {
   "display_name": "Python 3",
   "language": "python",
   "name": "python3"
  },
  "language_info": {
   "codemirror_mode": {
    "name": "ipython",
    "version": 2
   },
   "file_extension": ".py",
   "mimetype": "text/x-python",
   "name": "python",
   "nbconvert_exporter": "python",
   "pygments_lexer": "ipython2",
   "version": "2.7.6"
  }
 },
 "nbformat": 4,
 "nbformat_minor": 0
}
