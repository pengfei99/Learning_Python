{
 "cells": [
  {
   "cell_type": "markdown",
   "metadata": {
    "collapsed": true,
    "pycharm": {
     "name": "#%% md\n"
    }
   },
   "source": [
    "# 10.0 Python collection module\n",
    "\n",
    "The collection Module in Python provides different types of containers. **A Container is an object that is used to store different objects and provide a way to access the contained objects and iterate over them. Some of the built-in containers are Tuple, List, Dictionary, etc**. In this lesson, we will discuss the different containers provided by the collections module. Below is a list of containers in python:\n",
    "\n",
    "- Data types\n",
    "    - Counters: A dictionary subclass that supports convenient counting of unique items in a sequence or iterable\n",
    "    - NamedTuple: A factory function for creating subclasses of tuple that provides named fields that allow accessing items by name while keeping the ability to access items by index\n",
    "    - OrderedDict: A dictionary subclass that keeps the key-value pairs ordered according to when the keys are inserted\n",
    "    - DefaultDict: A dictionary subclass for constructing default values for missing keys and automatically adding them to the dictionary\n",
    "    - ChainMap: A dictionary-like class that allows treating a number of mappings as a single dictionary object\n",
    "    - DeQue : A sequence-like collection that supports efficient addition and removal of items from either end of the sequence\n",
    "\n",
    "- Wrapper classes for python built in types\n",
    "    - UserDict: A wrapper class around a dictionary object that facilitates subclassing dict\n",
    "    - UserList: A wrapper class around a list object that facilitates subclassing list\n",
    "    - UserString: A wrapper class around a string object that facilitates subclassing string\n",
    "\n",
    "The need for these wrapper classes was partially eclipsed by the ability to subclass the corresponding standard built-in data types. However, sometimes using these classes is safer and less error-prone than using standard data types.\n",
    "\n",
    "In this tutorial, you’ll learn how to:\n",
    "\n",
    "- Write readable and explicit code with **namedtuple**\n",
    "- Build efficient queues and stacks with **deque**\n",
    "- Count objects quickly with **Counter**\n",
    "- Handle missing dictionary keys with **defaultdict**\n",
    "- Guarantee the insertion order of keys with **OrderedDict**\n",
    "- Manage multiple dictionaries as a single unit with **ChainMap**"
   ]
  }
 ],
 "metadata": {
  "kernelspec": {
   "display_name": "Python 3",
   "language": "python",
   "name": "python3"
  },
  "language_info": {
   "codemirror_mode": {
    "name": "ipython",
    "version": 2
   },
   "file_extension": ".py",
   "mimetype": "text/x-python",
   "name": "python",
   "nbconvert_exporter": "python",
   "pygments_lexer": "ipython2",
   "version": "2.7.6"
  }
 },
 "nbformat": 4,
 "nbformat_minor": 0
}