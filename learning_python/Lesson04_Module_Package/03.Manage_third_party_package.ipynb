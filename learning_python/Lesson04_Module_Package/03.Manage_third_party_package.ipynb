{
 "cells": [
  {
   "cell_type": "markdown",
   "metadata": {
    "collapsed": true,
    "pycharm": {
     "name": "#%% md\n"
    }
   },
   "source": [
    "# 3. Manage third party packages\n",
    "\n",
    "As we know, one of the reason why python is so popular is that it has millions of available package. Whatever you want to do with python, you can find a library or a package that can help you. To better use them in your project, you need to manage them properly, otherwise it will become a nightmare for you very quickly.\n",
    "\n",
    "\n",
    "\n",
    "## 3.1 Find and install a package\n",
    "\n",
    "The most popular repository for python library is https://pypi.org/. You can just go there and type some keyword to find your dream library.\n",
    "\n",
    "### 3.1.1 Install via pip\n",
    "\n",
    "To install them, the easiest way is to use pip\n",
    "\n",
    "```shell\n",
    "pip install <package-name>\n",
    "```",
     "\n",
    "### 3.1.2 Install via tar ball\n",
    "\n",
    "You can also download the compressed (tar.gz or .zip) file for the required package.\n",
    "\n",
    "```shell\n",
    "cd <package_name>\n",
    "python setup.py install\n",
    "```",
     "\n"
   ]
  }
 ],
 "metadata": {
  "kernelspec": {
   "display_name": "Python 3",
   "language": "python",
   "name": "python3"
  },
  "language_info": {
   "codemirror_mode": {
    "name": "ipython",
    "version": 2
   },
   "file_extension": ".py",
   "mimetype": "text/x-python",
   "name": "python",
   "nbconvert_exporter": "python",
   "pygments_lexer": "ipython2",
   "version": "2.7.6"
  }
 },
 "nbformat": 4,
 "nbformat_minor": 0
}
