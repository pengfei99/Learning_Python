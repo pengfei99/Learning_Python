{
 "cells": [
  {
   "cell_type": "markdown",
   "source": [
    "# SQLAlchemy - pandas\n",
    "\n",
    "In previous tutorial, we have seen how to use `SQLAlchemy` to connect to a database. But the output of a select query is a list of python object. If you want to use them in a datascience\n",
    "project, you will have to convert them into pandas dataframes or spark dataframes.\n",
    "\n",
    "> For spark, the spark session can read directly from a database without using sqlAlchemy\n",
    "\n",
    "In this tutorial, we will learn how to combine SQLAlchemy and pandas together to read data in DB and return a pandas dataframe."
   ],
   "metadata": {
    "collapsed": false
   }
  },
  {
   "cell_type": "code",
   "execution_count": 11,
   "outputs": [],
   "source": [
    "import sqlalchemy as db\n",
    "import pandas as pd\n",
    "from sqlalchemy import Table, Column, Integer, SmallInteger, DateTime, String, MetaData,ForeignKey, Text, text"
   ],
   "metadata": {
    "collapsed": false
   }
  },
  {
   "cell_type": "code",
   "execution_count": 2,
   "outputs": [],
   "source": [
    "test_db_path=\"../../../data/test.db\"\n",
    "# as the sqlite db is a local file, so we need `/`\n",
    "# echo attribute will enable the console to display the actual SQL query run by the engine\n",
    "engine = db.create_engine(f'sqlite:///{test_db_path}', echo=True)"
   ],
   "metadata": {
    "collapsed": false
   }
  },
  {
   "cell_type": "code",
   "execution_count": 3,
   "outputs": [],
   "source": [
    "metadata=MetaData()\n",
    "\n",
    "cohort=Table('cohort',\n",
    "             metadata,\n",
    "             Column('id',Integer,primary_key=True),\n",
    "             Column('cname',String)\n",
    "             )\n",
    "\n",
    "dataset=Table('dataset',\n",
    "              metadata,\n",
    "              Column('id',Integer,primary_key=True),\n",
    "              Column('cohort_id',Integer,ForeignKey(\"cohort.id\")),\n",
    "              Column('year',Integer),\n",
    "              Column('name',String),\n",
    "              Column('location',String),\n",
    "              Column('status',SmallInteger)\n",
    "              )\n",
    "descriptor=Table('descriptor',\n",
    "                 metadata,\n",
    "                 Column('id',Integer,primary_key=True),\n",
    "                 Column('name',String),\n",
    "                 Column('location',String),\n",
    "                 Column('dataset_id',Integer,ForeignKey(\"dataset.id\"))\n",
    "                 )\n",
    "\n",
    "validation_rule=Table('validation_rule',\n",
    "                      metadata,\n",
    "                      Column('id',Integer,primary_key=True),\n",
    "                      Column('name',String),\n",
    "                      Column('description',Text),\n",
    "                      Column('args',String),\n",
    "                      Column('kwargs',String)\n",
    "                      )\n",
    "\n",
    "validation_task=Table('validation_task',\n",
    "                      metadata,\n",
    "                      Column('id',Integer,primary_key=True),\n",
    "                      Column('starting_date',DateTime),\n",
    "                      Column('ending_date',DateTime),\n",
    "                      Column('dataset_id',Integer,ForeignKey(\"dataset.id\")),\n",
    "                      Column('validation_rule_id',Integer,ForeignKey(\"validation_rule.id\")),\n",
    "                      Column('task_status',SmallInteger),\n",
    "                      Column('output',Text)\n",
    "                      )"
   ],
   "metadata": {
    "collapsed": false
   }
  },
  {
   "cell_type": "markdown",
   "source": [
    "## Solution 1: SQLalchemy rows to pandas df\n",
    "\n",
    "Pandas can build dataframe from a list of SQLalchemy rows. In below example,\n",
    "1. Create  a mapping object of the target table\n",
    "2. build a select query and execute it\n",
    "3. Use pandas constructor to build dataframe from the list of row.LegacyRow\n"
   ],
   "metadata": {
    "collapsed": false
   }
  },
  {
   "cell_type": "code",
   "execution_count": 4,
   "outputs": [],
   "source": [
    "# start a connection by using the above engine dialect\n",
    "connection = engine.connect()"
   ],
   "metadata": {
    "collapsed": false
   }
  },
  {
   "cell_type": "code",
   "execution_count": 7,
   "outputs": [
    {
     "name": "stdout",
     "output_type": "stream",
     "text": [
      "2023-02-13 11:13:14,625 INFO sqlalchemy.engine.Engine SELECT cohort.id, cohort.cname \n",
      "FROM cohort\n",
      "2023-02-13 11:13:14,628 INFO sqlalchemy.engine.Engine [cached since 220.3s ago] ()\n",
      "<class 'list'>\n"
     ]
    }
   ],
   "source": [
    "# creat a mapping object of the table dataset\n",
    "cohort = db.Table('cohort', metadata, autoload=True, autoload_with=engine)\n",
    "results=connection.execute(db.select([cohort])).fetchall()"
   ],
   "metadata": {
    "collapsed": false
   }
  },
  {
   "cell_type": "code",
   "execution_count": 8,
   "outputs": [
    {
     "name": "stdout",
     "output_type": "stream",
     "text": [
      "<class 'sqlalchemy.engine.row.LegacyRow'>\n",
      "RMKeyView(['id', 'cname'])\n",
      "<class 'sqlalchemy.engine.row.LegacyRow'>\n",
      "RMKeyView(['id', 'cname'])\n",
      "<class 'sqlalchemy.engine.row.LegacyRow'>\n",
      "RMKeyView(['id', 'cname'])\n"
     ]
    }
   ],
   "source": [
    "for item in results:\n",
    "    print(type(item))\n",
    "    print(f\"{item.keys()}\")"
   ],
   "metadata": {
    "collapsed": false
   }
  },
  {
   "cell_type": "code",
   "execution_count": 9,
   "outputs": [
    {
     "data": {
      "text/plain": "   id cname\n0   1  casd\n1   2  toto\n2   3  titi",
      "text/html": "<div>\n<style scoped>\n    .dataframe tbody tr th:only-of-type {\n        vertical-align: middle;\n    }\n\n    .dataframe tbody tr th {\n        vertical-align: top;\n    }\n\n    .dataframe thead th {\n        text-align: right;\n    }\n</style>\n<table border=\"1\" class=\"dataframe\">\n  <thead>\n    <tr style=\"text-align: right;\">\n      <th></th>\n      <th>id</th>\n      <th>cname</th>\n    </tr>\n  </thead>\n  <tbody>\n    <tr>\n      <th>0</th>\n      <td>1</td>\n      <td>casd</td>\n    </tr>\n    <tr>\n      <th>1</th>\n      <td>2</td>\n      <td>toto</td>\n    </tr>\n    <tr>\n      <th>2</th>\n      <td>3</td>\n      <td>titi</td>\n    </tr>\n  </tbody>\n</table>\n</div>"
     },
     "execution_count": 9,
     "metadata": {},
     "output_type": "execute_result"
    }
   ],
   "source": [
    "df=pd.DataFrame(results)\n",
    "df.head()"
   ],
   "metadata": {
    "collapsed": false
   }
  },
  {
   "cell_type": "markdown",
   "source": [
    "## Solution 2: Use a raw sql query\n",
    "\n",
    "This solution is similar to solution. The only difference is that we did not create a mapping object, but convert a raw sql query string to a query."
   ],
   "metadata": {
    "collapsed": false
   }
  },
  {
   "cell_type": "code",
   "execution_count": 15,
   "outputs": [
    {
     "name": "stdout",
     "output_type": "stream",
     "text": [
      "2023-02-13 11:30:45,065 INFO sqlalchemy.engine.Engine \n",
      "    SELECT * FROM cohort;\n",
      "\n",
      "2023-02-13 11:30:45,084 INFO sqlalchemy.engine.Engine [cached since 409.4s ago] ()\n"
     ]
    }
   ],
   "source": [
    "\n",
    "sql = '''\n",
    "    SELECT * FROM cohort;\n",
    "'''\n",
    "\n",
    "query = connection.execute(text(sql))\n",
    "df1 = pd.DataFrame(query.fetchall())"
   ],
   "metadata": {
    "collapsed": false
   }
  },
  {
   "cell_type": "code",
   "execution_count": 16,
   "outputs": [
    {
     "data": {
      "text/plain": "   id cname\n0   1  casd\n1   2  toto\n2   3  titi",
      "text/html": "<div>\n<style scoped>\n    .dataframe tbody tr th:only-of-type {\n        vertical-align: middle;\n    }\n\n    .dataframe tbody tr th {\n        vertical-align: top;\n    }\n\n    .dataframe thead th {\n        text-align: right;\n    }\n</style>\n<table border=\"1\" class=\"dataframe\">\n  <thead>\n    <tr style=\"text-align: right;\">\n      <th></th>\n      <th>id</th>\n      <th>cname</th>\n    </tr>\n  </thead>\n  <tbody>\n    <tr>\n      <th>0</th>\n      <td>1</td>\n      <td>casd</td>\n    </tr>\n    <tr>\n      <th>1</th>\n      <td>2</td>\n      <td>toto</td>\n    </tr>\n    <tr>\n      <th>2</th>\n      <td>3</td>\n      <td>titi</td>\n    </tr>\n  </tbody>\n</table>\n</div>"
     },
     "execution_count": 16,
     "metadata": {},
     "output_type": "execute_result"
    }
   ],
   "source": [
    "df1.head()"
   ],
   "metadata": {
    "collapsed": false
   }
  },
  {
   "cell_type": "markdown",
   "source": [
    "## Solution 3 Use pandas read_sql function\n",
    "\n",
    "In above two solutions, we used `fetchall()` function to get data first, then convert it into a pandas data frame. Alternatively, we can also achieve it using `pandas.read_sql`. Since SQLAlchemy is integrated with Pandas, we only need to provide a SQLAlchemy connection.\n",
    "\n",
    "Check below example"
   ],
   "metadata": {
    "collapsed": false
   }
  },
  {
   "cell_type": "code",
   "execution_count": 17,
   "outputs": [
    {
     "name": "stdout",
     "output_type": "stream",
     "text": [
      "2023-02-13 11:32:06,409 INFO sqlalchemy.engine.Engine PRAGMA main.table_info(\"select * from cohort;\")\n",
      "2023-02-13 11:32:06,415 INFO sqlalchemy.engine.Engine [raw sql] ()\n",
      "2023-02-13 11:32:06,417 INFO sqlalchemy.engine.Engine PRAGMA temp.table_info(\"select * from cohort;\")\n",
      "2023-02-13 11:32:06,418 INFO sqlalchemy.engine.Engine [raw sql] ()\n",
      "2023-02-13 11:32:06,419 INFO sqlalchemy.engine.Engine select * from cohort;\n",
      "2023-02-13 11:32:06,420 INFO sqlalchemy.engine.Engine [raw sql] ()\n"
     ]
    },
    {
     "data": {
      "text/plain": "   id cname\n0   1  casd\n1   2  toto\n2   3  titi",
      "text/html": "<div>\n<style scoped>\n    .dataframe tbody tr th:only-of-type {\n        vertical-align: middle;\n    }\n\n    .dataframe tbody tr th {\n        vertical-align: top;\n    }\n\n    .dataframe thead th {\n        text-align: right;\n    }\n</style>\n<table border=\"1\" class=\"dataframe\">\n  <thead>\n    <tr style=\"text-align: right;\">\n      <th></th>\n      <th>id</th>\n      <th>cname</th>\n    </tr>\n  </thead>\n  <tbody>\n    <tr>\n      <th>0</th>\n      <td>1</td>\n      <td>casd</td>\n    </tr>\n    <tr>\n      <th>1</th>\n      <td>2</td>\n      <td>toto</td>\n    </tr>\n    <tr>\n      <th>2</th>\n      <td>3</td>\n      <td>titi</td>\n    </tr>\n  </tbody>\n</table>\n</div>"
     },
     "execution_count": 17,
     "metadata": {},
     "output_type": "execute_result"
    }
   ],
   "source": [
    "df2= pd.read_sql(f\"\"\"select * from cohort;\"\"\",con=connection)\n",
    "df2.head()"
   ],
   "metadata": {
    "collapsed": false
   }
  },
  {
   "cell_type": "markdown",
   "source": [
    "You can also notice that pandas also provide two other methods `read_sql_table` and `read_sql_query`."
   ],
   "metadata": {
    "collapsed": false
   }
  },
  {
   "cell_type": "code",
   "execution_count": null,
   "outputs": [],
   "source": [],
   "metadata": {
    "collapsed": false
   }
  },
  {
   "cell_type": "markdown",
   "source": [
    "## Solution 4. Use pandas.DataFrame function\n",
    "\n",
    "If you need to parsing the table first. You can use the pandas.createDataframe function"
   ],
   "metadata": {
    "collapsed": false
   }
  },
  {
   "cell_type": "code",
   "execution_count": 18,
   "outputs": [
    {
     "name": "stdout",
     "output_type": "stream",
     "text": [
      "2023-02-13 11:46:40,568 INFO sqlalchemy.engine.Engine SELECT cohort.id, cohort.cname \n",
      "FROM cohort\n",
      "2023-02-13 11:46:40,569 INFO sqlalchemy.engine.Engine [cached since 2226s ago] ()\n"
     ]
    }
   ],
   "source": [
    "# get the cohort list\n",
    "cohort = db.Table('cohort', metadata, autoload=True, autoload_with=engine)\n",
    "results=connection.execute(db.select([cohort])).fetchall()"
   ],
   "metadata": {
    "collapsed": false
   }
  },
  {
   "cell_type": "code",
   "execution_count": 19,
   "outputs": [],
   "source": [
    "cohort_data_list=[]\n",
    "for item in results:\n",
    "    cohort_data=[item[\"id\"]+1,\"cohortName:\"+item[\"cname\"]]\n",
    "    cohort_data_list.append(cohort_data)\n",
    "\n",
    "df3=pd.DataFrame(cohort_data_list,columns=[\"id\",\"cname\"])"
   ],
   "metadata": {
    "collapsed": false
   }
  },
  {
   "cell_type": "code",
   "execution_count": 20,
   "outputs": [
    {
     "data": {
      "text/plain": "   id            cname\n0   2  cohortName:casd\n1   3  cohortName:toto\n2   4  cohortName:titi",
      "text/html": "<div>\n<style scoped>\n    .dataframe tbody tr th:only-of-type {\n        vertical-align: middle;\n    }\n\n    .dataframe tbody tr th {\n        vertical-align: top;\n    }\n\n    .dataframe thead th {\n        text-align: right;\n    }\n</style>\n<table border=\"1\" class=\"dataframe\">\n  <thead>\n    <tr style=\"text-align: right;\">\n      <th></th>\n      <th>id</th>\n      <th>cname</th>\n    </tr>\n  </thead>\n  <tbody>\n    <tr>\n      <th>0</th>\n      <td>2</td>\n      <td>cohortName:casd</td>\n    </tr>\n    <tr>\n      <th>1</th>\n      <td>3</td>\n      <td>cohortName:toto</td>\n    </tr>\n    <tr>\n      <th>2</th>\n      <td>4</td>\n      <td>cohortName:titi</td>\n    </tr>\n  </tbody>\n</table>\n</div>"
     },
     "execution_count": 20,
     "metadata": {},
     "output_type": "execute_result"
    }
   ],
   "source": [
    "df3.head()"
   ],
   "metadata": {
    "collapsed": false
   }
  },
  {
   "cell_type": "code",
   "execution_count": null,
   "outputs": [],
   "source": [],
   "metadata": {
    "collapsed": false
   }
  }
 ],
 "metadata": {
  "kernelspec": {
   "display_name": "Python 3",
   "language": "python",
   "name": "python3"
  },
  "language_info": {
   "codemirror_mode": {
    "name": "ipython",
    "version": 2
   },
   "file_extension": ".py",
   "mimetype": "text/x-python",
   "name": "python",
   "nbconvert_exporter": "python",
   "pygments_lexer": "ipython2",
   "version": "2.7.6"
  }
 },
 "nbformat": 4,
 "nbformat_minor": 0
}
